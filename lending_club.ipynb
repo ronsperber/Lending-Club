{
 "cells": [
  {
   "cell_type": "markdown",
   "id": "3ad8c4b1-18e7-4b5c-ba17-2524e301e95f",
   "metadata": {},
   "source": [
    "## Data Wrangling/Cleaning"
   ]
  },
  {
   "cell_type": "code",
   "execution_count": 1,
   "id": "5827f015-28c0-46f1-8ca6-7f968a642dba",
   "metadata": {},
   "outputs": [],
   "source": [
    "#import basic needed libraries\n",
    "import numpy as np\n",
    "import pandas as pd\n",
    "import matplotlib.pyplot as plt\n",
    "import seaborn as sns\n",
    "import datetime"
   ]
  },
  {
   "cell_type": "code",
   "execution_count": 2,
   "id": "55d0bcbe-cb86-4060-9571-3b7cd7c0c637",
   "metadata": {},
   "outputs": [],
   "source": [
    "#function to provide summary for each column as a dataframe. Thanks to my mentor Ajith Patnaik \n",
    "#for providing this code\n",
    "def univariate_analysis(df):\n",
    "    \"\"\"\n",
    "\n",
    "    :param df: pd.Dataframe containing all the attributes needed\n",
    "    :return: Dataframe with summary statistics\n",
    "    \"\"\"\n",
    "    df_copy = df.copy()\n",
    "    row_count = df_copy.shape[0]\n",
    "    dtype = df_copy.dtypes.reset_index()\n",
    "    dtype_df= dtype.rename(columns = {'index': 'Column Name', 0: 'Dtype'})\n",
    "    count_dict, describe_dict = dict(), dict()\n",
    "    for idx, row in dtype_df.iterrows():\n",
    "        col_data = df_copy[row['Column Name']]\n",
    "        null_count = col_data.isnull().sum()\n",
    "        zero_count = col_data[col_data == 0].shape[0]\n",
    "        non_zero_count = row_count - null_count - zero_count\n",
    "        s = df_copy[row['Column Name']].value_counts(dropna = False)\n",
    "        unique,largest = s.shape[0], s.nlargest(n=1, keep='first')\n",
    "        top, Freq = largest.index[0], largest.values[0]\n",
    "        count_dict[row['Column Name']] = {'Non-Zero Count': non_zero_count, 'Null Count': null_count,\n",
    "                                          'Zero Count': zero_count, 'Unique': unique, 'Top Value': top,\n",
    "                                          'Top Freq': Freq}\n",
    "        col_data_noNa = col_data.dropna()\n",
    "        ser_sum = col_data_noNa.describe(percentiles=[0.01,0.05,0.1,0.25,0.5,0.75,0.9,0.95,0.99])\n",
    "        if col_data.dtype != 'object':\n",
    "            ser_sum = np.round(ser_sum, decimals=4)\n",
    "        describe_dict[row['Column Name']] = ser_sum.to_dict()\n",
    "    count_df = pd.DataFrame.from_dict(count_dict, orient='index').reset_index().rename(columns={'index': 'Column Name'})\n",
    "    describe_df = pd.DataFrame.from_dict(describe_dict, orient='index').reset_index().rename(columns={'index': 'Column Name'})\n",
    "    if 'top' in describe_df.columns.tolist():\n",
    "        describe_df = describe_df.drop(['top', 'unique', 'freq'], axis=1)\n",
    "    merge_df = pd.merge(dtype_df, count_df, on='Column Name')\n",
    "    final_df = pd.merge(merge_df, describe_df, on='Column Name')\n",
    "    return final_df"
   ]
  },
  {
   "cell_type": "code",
   "execution_count": 3,
   "id": "44591ff6-4a4c-4e15-a2eb-17bab5aec978",
   "metadata": {},
   "outputs": [],
   "source": [
    "#read in the data\n",
    "\n",
    "#training data\n",
    "df=pd.read_csv('lc_loan.csv/lc_loan.csv',low_memory=False)\n",
    "\n",
    "#test data\n",
    "df2=pd.read_csv('lc_2016_2017.csv/lc_2016_2017.csv',low_memory=False)"
   ]
  },
  {
   "cell_type": "code",
   "execution_count": 4,
   "id": "6a436b4d-7891-48bc-86e9-5f2e11d1d2e2",
   "metadata": {},
   "outputs": [],
   "source": [
    "df_stats=univariate_analysis(df)"
   ]
  },
  {
   "cell_type": "code",
   "execution_count": 5,
   "id": "c6bb49b7-be9c-4f0e-95ac-bf5415eccab5",
   "metadata": {},
   "outputs": [
    {
     "data": {
      "text/html": [
       "<div>\n",
       "<style scoped>\n",
       "    .dataframe tbody tr th:only-of-type {\n",
       "        vertical-align: middle;\n",
       "    }\n",
       "\n",
       "    .dataframe tbody tr th {\n",
       "        vertical-align: top;\n",
       "    }\n",
       "\n",
       "    .dataframe thead th {\n",
       "        text-align: right;\n",
       "    }\n",
       "</style>\n",
       "<table border=\"1\" class=\"dataframe\">\n",
       "  <thead>\n",
       "    <tr style=\"text-align: right;\">\n",
       "      <th></th>\n",
       "      <th>Column Name</th>\n",
       "      <th>Dtype</th>\n",
       "      <th>Non-Zero Count</th>\n",
       "      <th>Null Count</th>\n",
       "      <th>Zero Count</th>\n",
       "      <th>Unique</th>\n",
       "      <th>Top Value</th>\n",
       "      <th>Top Freq</th>\n",
       "      <th>count</th>\n",
       "      <th>mean</th>\n",
       "      <th>...</th>\n",
       "      <th>1%</th>\n",
       "      <th>5%</th>\n",
       "      <th>10%</th>\n",
       "      <th>25%</th>\n",
       "      <th>50%</th>\n",
       "      <th>75%</th>\n",
       "      <th>90%</th>\n",
       "      <th>95%</th>\n",
       "      <th>99%</th>\n",
       "      <th>max</th>\n",
       "    </tr>\n",
       "  </thead>\n",
       "  <tbody>\n",
       "    <tr>\n",
       "      <th>0</th>\n",
       "      <td>id</td>\n",
       "      <td>int64</td>\n",
       "      <td>887379</td>\n",
       "      <td>0</td>\n",
       "      <td>0</td>\n",
       "      <td>887379</td>\n",
       "      <td>1077501</td>\n",
       "      <td>1</td>\n",
       "      <td>887379.0</td>\n",
       "      <td>3.246513e+07</td>\n",
       "      <td>...</td>\n",
       "      <td>476445.9</td>\n",
       "      <td>1090262.7</td>\n",
       "      <td>1944971.8</td>\n",
       "      <td>9206643.0</td>\n",
       "      <td>34433267.0</td>\n",
       "      <td>54908135.0</td>\n",
       "      <td>63285441.4</td>\n",
       "      <td>65754792.2</td>\n",
       "      <td>67819908.22</td>\n",
       "      <td>68617057.0</td>\n",
       "    </tr>\n",
       "    <tr>\n",
       "      <th>1</th>\n",
       "      <td>member_id</td>\n",
       "      <td>int64</td>\n",
       "      <td>887379</td>\n",
       "      <td>0</td>\n",
       "      <td>0</td>\n",
       "      <td>887379</td>\n",
       "      <td>1296599</td>\n",
       "      <td>1</td>\n",
       "      <td>887379.0</td>\n",
       "      <td>3.500182e+07</td>\n",
       "      <td>...</td>\n",
       "      <td>601782.5</td>\n",
       "      <td>1317185.3</td>\n",
       "      <td>1988500.6</td>\n",
       "      <td>10877133.5</td>\n",
       "      <td>37095283.0</td>\n",
       "      <td>58471347.0</td>\n",
       "      <td>67597478.6</td>\n",
       "      <td>70387497.7</td>\n",
       "      <td>72678208.52</td>\n",
       "      <td>73544841.0</td>\n",
       "    </tr>\n",
       "    <tr>\n",
       "      <th>2</th>\n",
       "      <td>loan_amnt</td>\n",
       "      <td>float64</td>\n",
       "      <td>887379</td>\n",
       "      <td>0</td>\n",
       "      <td>0</td>\n",
       "      <td>1372</td>\n",
       "      <td>10000.0</td>\n",
       "      <td>61837</td>\n",
       "      <td>887379.0</td>\n",
       "      <td>1.475526e+04</td>\n",
       "      <td>...</td>\n",
       "      <td>1800.0</td>\n",
       "      <td>3600.0</td>\n",
       "      <td>5000.0</td>\n",
       "      <td>8000.0</td>\n",
       "      <td>13000.0</td>\n",
       "      <td>20000.0</td>\n",
       "      <td>28000.0</td>\n",
       "      <td>32000.0</td>\n",
       "      <td>35000.00</td>\n",
       "      <td>35000.0</td>\n",
       "    </tr>\n",
       "    <tr>\n",
       "      <th>3</th>\n",
       "      <td>funded_amnt</td>\n",
       "      <td>float64</td>\n",
       "      <td>887379</td>\n",
       "      <td>0</td>\n",
       "      <td>0</td>\n",
       "      <td>1372</td>\n",
       "      <td>10000.0</td>\n",
       "      <td>61744</td>\n",
       "      <td>887379.0</td>\n",
       "      <td>1.474188e+04</td>\n",
       "      <td>...</td>\n",
       "      <td>1800.0</td>\n",
       "      <td>3600.0</td>\n",
       "      <td>5000.0</td>\n",
       "      <td>8000.0</td>\n",
       "      <td>13000.0</td>\n",
       "      <td>20000.0</td>\n",
       "      <td>27975.0</td>\n",
       "      <td>32000.0</td>\n",
       "      <td>35000.00</td>\n",
       "      <td>35000.0</td>\n",
       "    </tr>\n",
       "    <tr>\n",
       "      <th>4</th>\n",
       "      <td>funded_amnt_inv</td>\n",
       "      <td>float64</td>\n",
       "      <td>887146</td>\n",
       "      <td>0</td>\n",
       "      <td>233</td>\n",
       "      <td>9856</td>\n",
       "      <td>10000.0</td>\n",
       "      <td>56111</td>\n",
       "      <td>887379.0</td>\n",
       "      <td>1.470246e+04</td>\n",
       "      <td>...</td>\n",
       "      <td>1600.0</td>\n",
       "      <td>3500.0</td>\n",
       "      <td>5000.0</td>\n",
       "      <td>8000.0</td>\n",
       "      <td>13000.0</td>\n",
       "      <td>20000.0</td>\n",
       "      <td>27800.0</td>\n",
       "      <td>32000.0</td>\n",
       "      <td>35000.00</td>\n",
       "      <td>35000.0</td>\n",
       "    </tr>\n",
       "  </tbody>\n",
       "</table>\n",
       "<p>5 rows × 22 columns</p>\n",
       "</div>"
      ],
      "text/plain": [
       "       Column Name    Dtype  Non-Zero Count  Null Count  Zero Count  Unique  \\\n",
       "0               id    int64          887379           0           0  887379   \n",
       "1        member_id    int64          887379           0           0  887379   \n",
       "2        loan_amnt  float64          887379           0           0    1372   \n",
       "3      funded_amnt  float64          887379           0           0    1372   \n",
       "4  funded_amnt_inv  float64          887146           0         233    9856   \n",
       "\n",
       "  Top Value  Top Freq     count          mean  ...        1%         5%  \\\n",
       "0   1077501         1  887379.0  3.246513e+07  ...  476445.9  1090262.7   \n",
       "1   1296599         1  887379.0  3.500182e+07  ...  601782.5  1317185.3   \n",
       "2   10000.0     61837  887379.0  1.475526e+04  ...    1800.0     3600.0   \n",
       "3   10000.0     61744  887379.0  1.474188e+04  ...    1800.0     3600.0   \n",
       "4   10000.0     56111  887379.0  1.470246e+04  ...    1600.0     3500.0   \n",
       "\n",
       "         10%         25%         50%         75%         90%         95%  \\\n",
       "0  1944971.8   9206643.0  34433267.0  54908135.0  63285441.4  65754792.2   \n",
       "1  1988500.6  10877133.5  37095283.0  58471347.0  67597478.6  70387497.7   \n",
       "2     5000.0      8000.0     13000.0     20000.0     28000.0     32000.0   \n",
       "3     5000.0      8000.0     13000.0     20000.0     27975.0     32000.0   \n",
       "4     5000.0      8000.0     13000.0     20000.0     27800.0     32000.0   \n",
       "\n",
       "           99%         max  \n",
       "0  67819908.22  68617057.0  \n",
       "1  72678208.52  73544841.0  \n",
       "2     35000.00     35000.0  \n",
       "3     35000.00     35000.0  \n",
       "4     35000.00     35000.0  \n",
       "\n",
       "[5 rows x 22 columns]"
      ]
     },
     "execution_count": 5,
     "metadata": {},
     "output_type": "execute_result"
    }
   ],
   "source": [
    "df_stats.head()"
   ]
  },
  {
   "cell_type": "code",
   "execution_count": 6,
   "id": "695fca11-1dc9-48db-9136-68d4e6f88af0",
   "metadata": {},
   "outputs": [],
   "source": [
    "#Write this to an excel file\n",
    "df_stats.to_excel(\"dfstats.xlsx\")"
   ]
  },
  {
   "cell_type": "markdown",
   "id": "2f33bee6-3c6c-4257-b6ab-6d1ed34a4b07",
   "metadata": {},
   "source": [
    "After writing this to a file we used that information to start an approach to cleaning and feature engineering"
   ]
  },
  {
   "cell_type": "code",
   "execution_count": 7,
   "id": "e65512a5-5c73-40e8-a9a1-d3378bdf53a4",
   "metadata": {},
   "outputs": [],
   "source": [
    "#Make new dataframes that we can clean while keeping the old ones in case\n",
    "#we need something from them deleted initially\n",
    "train_ids=df['id']\n",
    "test_ids=df2['id']\n",
    "#drop ids from test and train data \n",
    "X=df.drop(columns=['id','member_id'])\n",
    "X2=df2.drop(columns=['id','member_id'])\n"
   ]
  },
  {
   "cell_type": "code",
   "execution_count": 8,
   "id": "7a063c93-038d-4355-a174-9f61af8840b3",
   "metadata": {},
   "outputs": [
    {
     "data": {
      "text/html": [
       "<div>\n",
       "<style scoped>\n",
       "    .dataframe tbody tr th:only-of-type {\n",
       "        vertical-align: middle;\n",
       "    }\n",
       "\n",
       "    .dataframe tbody tr th {\n",
       "        vertical-align: top;\n",
       "    }\n",
       "\n",
       "    .dataframe thead th {\n",
       "        text-align: right;\n",
       "    }\n",
       "</style>\n",
       "<table border=\"1\" class=\"dataframe\">\n",
       "  <thead>\n",
       "    <tr style=\"text-align: right;\">\n",
       "      <th></th>\n",
       "      <th>Column Name</th>\n",
       "      <th>Dtype</th>\n",
       "      <th>Non-Zero Count</th>\n",
       "      <th>Null Count</th>\n",
       "      <th>Zero Count</th>\n",
       "      <th>Unique</th>\n",
       "      <th>Top Value</th>\n",
       "      <th>Top Freq</th>\n",
       "      <th>count</th>\n",
       "      <th>mean</th>\n",
       "      <th>...</th>\n",
       "      <th>1%</th>\n",
       "      <th>5%</th>\n",
       "      <th>10%</th>\n",
       "      <th>25%</th>\n",
       "      <th>50%</th>\n",
       "      <th>75%</th>\n",
       "      <th>90%</th>\n",
       "      <th>95%</th>\n",
       "      <th>99%</th>\n",
       "      <th>max</th>\n",
       "    </tr>\n",
       "  </thead>\n",
       "  <tbody>\n",
       "    <tr>\n",
       "      <th>54</th>\n",
       "      <td>dti_joint</td>\n",
       "      <td>float64</td>\n",
       "      <td>509</td>\n",
       "      <td>886870</td>\n",
       "      <td>0</td>\n",
       "      <td>450</td>\n",
       "      <td>NaN</td>\n",
       "      <td>886870</td>\n",
       "      <td>509.0</td>\n",
       "      <td>18.3101</td>\n",
       "      <td>...</td>\n",
       "      <td>4.0256</td>\n",
       "      <td>7.492</td>\n",
       "      <td>9.558</td>\n",
       "      <td>13.2</td>\n",
       "      <td>17.61</td>\n",
       "      <td>22.65</td>\n",
       "      <td>28.606</td>\n",
       "      <td>31.198</td>\n",
       "      <td>35.4356</td>\n",
       "      <td>43.86</td>\n",
       "    </tr>\n",
       "    <tr>\n",
       "      <th>53</th>\n",
       "      <td>annual_inc_joint</td>\n",
       "      <td>float64</td>\n",
       "      <td>511</td>\n",
       "      <td>886868</td>\n",
       "      <td>0</td>\n",
       "      <td>309</td>\n",
       "      <td>NaN</td>\n",
       "      <td>886868</td>\n",
       "      <td>511.0</td>\n",
       "      <td>109981.0116</td>\n",
       "      <td>...</td>\n",
       "      <td>29779.2000</td>\n",
       "      <td>47488.000</td>\n",
       "      <td>56000.000</td>\n",
       "      <td>76032.5</td>\n",
       "      <td>101771.00</td>\n",
       "      <td>132800.00</td>\n",
       "      <td>175000.000</td>\n",
       "      <td>190650.000</td>\n",
       "      <td>270000.0000</td>\n",
       "      <td>500000.00</td>\n",
       "    </tr>\n",
       "    <tr>\n",
       "      <th>55</th>\n",
       "      <td>verification_status_joint</td>\n",
       "      <td>object</td>\n",
       "      <td>511</td>\n",
       "      <td>886868</td>\n",
       "      <td>0</td>\n",
       "      <td>4</td>\n",
       "      <td>NaN</td>\n",
       "      <td>886868</td>\n",
       "      <td>511.0</td>\n",
       "      <td>NaN</td>\n",
       "      <td>...</td>\n",
       "      <td>NaN</td>\n",
       "      <td>NaN</td>\n",
       "      <td>NaN</td>\n",
       "      <td>NaN</td>\n",
       "      <td>NaN</td>\n",
       "      <td>NaN</td>\n",
       "      <td>NaN</td>\n",
       "      <td>NaN</td>\n",
       "      <td>NaN</td>\n",
       "      <td>NaN</td>\n",
       "    </tr>\n",
       "    <tr>\n",
       "      <th>65</th>\n",
       "      <td>il_util</td>\n",
       "      <td>float64</td>\n",
       "      <td>18479</td>\n",
       "      <td>868762</td>\n",
       "      <td>138</td>\n",
       "      <td>1273</td>\n",
       "      <td>NaN</td>\n",
       "      <td>868762</td>\n",
       "      <td>18617.0</td>\n",
       "      <td>71.5353</td>\n",
       "      <td>...</td>\n",
       "      <td>5.2000</td>\n",
       "      <td>27.800</td>\n",
       "      <td>40.360</td>\n",
       "      <td>58.6</td>\n",
       "      <td>74.90</td>\n",
       "      <td>87.60</td>\n",
       "      <td>96.800</td>\n",
       "      <td>100.700</td>\n",
       "      <td>117.4840</td>\n",
       "      <td>223.30</td>\n",
       "    </tr>\n",
       "    <tr>\n",
       "      <th>63</th>\n",
       "      <td>mths_since_rcnt_il</td>\n",
       "      <td>float64</td>\n",
       "      <td>20797</td>\n",
       "      <td>866569</td>\n",
       "      <td>13</td>\n",
       "      <td>202</td>\n",
       "      <td>NaN</td>\n",
       "      <td>866569</td>\n",
       "      <td>20810.0</td>\n",
       "      <td>20.9127</td>\n",
       "      <td>...</td>\n",
       "      <td>1.0000</td>\n",
       "      <td>2.000</td>\n",
       "      <td>3.000</td>\n",
       "      <td>6.0</td>\n",
       "      <td>12.00</td>\n",
       "      <td>23.00</td>\n",
       "      <td>48.000</td>\n",
       "      <td>83.000</td>\n",
       "      <td>134.0000</td>\n",
       "      <td>363.00</td>\n",
       "    </tr>\n",
       "    <tr>\n",
       "      <th>59</th>\n",
       "      <td>open_acc_6m</td>\n",
       "      <td>float64</td>\n",
       "      <td>13126</td>\n",
       "      <td>866007</td>\n",
       "      <td>8246</td>\n",
       "      <td>14</td>\n",
       "      <td>NaN</td>\n",
       "      <td>866007</td>\n",
       "      <td>21372.0</td>\n",
       "      <td>1.1090</td>\n",
       "      <td>...</td>\n",
       "      <td>0.0000</td>\n",
       "      <td>0.000</td>\n",
       "      <td>0.000</td>\n",
       "      <td>0.0</td>\n",
       "      <td>1.00</td>\n",
       "      <td>2.00</td>\n",
       "      <td>3.000</td>\n",
       "      <td>3.000</td>\n",
       "      <td>5.0000</td>\n",
       "      <td>14.00</td>\n",
       "    </tr>\n",
       "    <tr>\n",
       "      <th>60</th>\n",
       "      <td>open_il_6m</td>\n",
       "      <td>float64</td>\n",
       "      <td>19058</td>\n",
       "      <td>866007</td>\n",
       "      <td>2314</td>\n",
       "      <td>36</td>\n",
       "      <td>NaN</td>\n",
       "      <td>866007</td>\n",
       "      <td>21372.0</td>\n",
       "      <td>2.9288</td>\n",
       "      <td>...</td>\n",
       "      <td>0.0000</td>\n",
       "      <td>0.000</td>\n",
       "      <td>0.000</td>\n",
       "      <td>1.0</td>\n",
       "      <td>2.00</td>\n",
       "      <td>4.00</td>\n",
       "      <td>6.000</td>\n",
       "      <td>9.000</td>\n",
       "      <td>16.0000</td>\n",
       "      <td>40.00</td>\n",
       "    </tr>\n",
       "    <tr>\n",
       "      <th>61</th>\n",
       "      <td>open_il_12m</td>\n",
       "      <td>float64</td>\n",
       "      <td>10566</td>\n",
       "      <td>866007</td>\n",
       "      <td>10806</td>\n",
       "      <td>13</td>\n",
       "      <td>NaN</td>\n",
       "      <td>866007</td>\n",
       "      <td>21372.0</td>\n",
       "      <td>0.7617</td>\n",
       "      <td>...</td>\n",
       "      <td>0.0000</td>\n",
       "      <td>0.000</td>\n",
       "      <td>0.000</td>\n",
       "      <td>0.0</td>\n",
       "      <td>0.00</td>\n",
       "      <td>1.00</td>\n",
       "      <td>2.000</td>\n",
       "      <td>3.000</td>\n",
       "      <td>4.0000</td>\n",
       "      <td>12.00</td>\n",
       "    </tr>\n",
       "    <tr>\n",
       "      <th>62</th>\n",
       "      <td>open_il_24m</td>\n",
       "      <td>float64</td>\n",
       "      <td>15891</td>\n",
       "      <td>866007</td>\n",
       "      <td>5481</td>\n",
       "      <td>18</td>\n",
       "      <td>NaN</td>\n",
       "      <td>866007</td>\n",
       "      <td>21372.0</td>\n",
       "      <td>1.6746</td>\n",
       "      <td>...</td>\n",
       "      <td>0.0000</td>\n",
       "      <td>0.000</td>\n",
       "      <td>0.000</td>\n",
       "      <td>0.0</td>\n",
       "      <td>1.00</td>\n",
       "      <td>2.00</td>\n",
       "      <td>4.000</td>\n",
       "      <td>5.000</td>\n",
       "      <td>7.0000</td>\n",
       "      <td>19.00</td>\n",
       "    </tr>\n",
       "    <tr>\n",
       "      <th>64</th>\n",
       "      <td>total_bal_il</td>\n",
       "      <td>float64</td>\n",
       "      <td>19113</td>\n",
       "      <td>866007</td>\n",
       "      <td>2259</td>\n",
       "      <td>17031</td>\n",
       "      <td>NaN</td>\n",
       "      <td>866007</td>\n",
       "      <td>21372.0</td>\n",
       "      <td>36552.8114</td>\n",
       "      <td>...</td>\n",
       "      <td>0.0000</td>\n",
       "      <td>0.000</td>\n",
       "      <td>0.000</td>\n",
       "      <td>10251.5</td>\n",
       "      <td>24684.50</td>\n",
       "      <td>47858.00</td>\n",
       "      <td>81851.100</td>\n",
       "      <td>113323.300</td>\n",
       "      <td>204248.9300</td>\n",
       "      <td>878459.00</td>\n",
       "    </tr>\n",
       "  </tbody>\n",
       "</table>\n",
       "<p>10 rows × 22 columns</p>\n",
       "</div>"
      ],
      "text/plain": [
       "                  Column Name    Dtype  Non-Zero Count  Null Count  \\\n",
       "54                  dti_joint  float64             509      886870   \n",
       "53           annual_inc_joint  float64             511      886868   \n",
       "55  verification_status_joint   object             511      886868   \n",
       "65                    il_util  float64           18479      868762   \n",
       "63         mths_since_rcnt_il  float64           20797      866569   \n",
       "59                open_acc_6m  float64           13126      866007   \n",
       "60                 open_il_6m  float64           19058      866007   \n",
       "61                open_il_12m  float64           10566      866007   \n",
       "62                open_il_24m  float64           15891      866007   \n",
       "64               total_bal_il  float64           19113      866007   \n",
       "\n",
       "    Zero Count  Unique Top Value  Top Freq    count         mean  ...  \\\n",
       "54           0     450       NaN    886870    509.0      18.3101  ...   \n",
       "53           0     309       NaN    886868    511.0  109981.0116  ...   \n",
       "55           0       4       NaN    886868    511.0          NaN  ...   \n",
       "65         138    1273       NaN    868762  18617.0      71.5353  ...   \n",
       "63          13     202       NaN    866569  20810.0      20.9127  ...   \n",
       "59        8246      14       NaN    866007  21372.0       1.1090  ...   \n",
       "60        2314      36       NaN    866007  21372.0       2.9288  ...   \n",
       "61       10806      13       NaN    866007  21372.0       0.7617  ...   \n",
       "62        5481      18       NaN    866007  21372.0       1.6746  ...   \n",
       "64        2259   17031       NaN    866007  21372.0   36552.8114  ...   \n",
       "\n",
       "            1%         5%        10%      25%        50%        75%  \\\n",
       "54      4.0256      7.492      9.558     13.2      17.61      22.65   \n",
       "53  29779.2000  47488.000  56000.000  76032.5  101771.00  132800.00   \n",
       "55         NaN        NaN        NaN      NaN        NaN        NaN   \n",
       "65      5.2000     27.800     40.360     58.6      74.90      87.60   \n",
       "63      1.0000      2.000      3.000      6.0      12.00      23.00   \n",
       "59      0.0000      0.000      0.000      0.0       1.00       2.00   \n",
       "60      0.0000      0.000      0.000      1.0       2.00       4.00   \n",
       "61      0.0000      0.000      0.000      0.0       0.00       1.00   \n",
       "62      0.0000      0.000      0.000      0.0       1.00       2.00   \n",
       "64      0.0000      0.000      0.000  10251.5   24684.50   47858.00   \n",
       "\n",
       "           90%         95%          99%        max  \n",
       "54      28.606      31.198      35.4356      43.86  \n",
       "53  175000.000  190650.000  270000.0000  500000.00  \n",
       "55         NaN         NaN          NaN        NaN  \n",
       "65      96.800     100.700     117.4840     223.30  \n",
       "63      48.000      83.000     134.0000     363.00  \n",
       "59       3.000       3.000       5.0000      14.00  \n",
       "60       6.000       9.000      16.0000      40.00  \n",
       "61       2.000       3.000       4.0000      12.00  \n",
       "62       4.000       5.000       7.0000      19.00  \n",
       "64   81851.100  113323.300  204248.9300  878459.00  \n",
       "\n",
       "[10 rows x 22 columns]"
      ]
     },
     "execution_count": 8,
     "metadata": {},
     "output_type": "execute_result"
    }
   ],
   "source": [
    "#we can see where the most missing values are in the training data\n",
    "df_stats.sort_values('Null Count',ascending=False).head(10)"
   ]
  },
  {
   "cell_type": "code",
   "execution_count": 9,
   "id": "2f44e514-3598-4756-a580-d5ecfe13fbdb",
   "metadata": {},
   "outputs": [
    {
     "name": "stdout",
     "output_type": "stream",
     "text": [
      "INDIVIDUAL    886868\n",
      "JOINT            511\n",
      "Name: application_type, dtype: int64\n",
      "Individual    725335\n",
      "Joint App      34003\n",
      "Name: application_type, dtype: int64\n"
     ]
    }
   ],
   "source": [
    "#We can see that there are many missing values related to joint applications\n",
    "print(X.application_type.value_counts())\n",
    "print(X2.application_type.value_counts())"
   ]
  },
  {
   "cell_type": "code",
   "execution_count": 10,
   "id": "648fa0a7-624b-4067-a9e6-b5cfac70a937",
   "metadata": {},
   "outputs": [
    {
     "data": {
      "text/plain": [
       "INDIVIDUAL    725335\n",
       "JOINT          34003\n",
       "Name: application_type, dtype: int64"
      ]
     },
     "execution_count": 10,
     "metadata": {},
     "output_type": "execute_result"
    }
   ],
   "source": [
    "#For future potential use we change these so they are the same values in both\n",
    "X2.application_type.replace({\"Individual\": \"INDIVIDUAL\", \"Joint App\": \"JOINT\"},inplace=True)\n",
    "X2.application_type.value_counts()"
   ]
  },
  {
   "cell_type": "markdown",
   "id": "04fc9063-da11-44de-8c1f-870602103e86",
   "metadata": {},
   "source": [
    "There are 3 other columns related to joint applications. We will try to combine these with the equivalent columns for non-joint applications\n"
   ]
  },
  {
   "cell_type": "code",
   "execution_count": 11,
   "id": "1ed94796-2169-47a6-93ba-5079fb99d9bb",
   "metadata": {},
   "outputs": [
    {
     "name": "stdout",
     "output_type": "stream",
     "text": [
      "JOINT    509\n",
      "Name: application_type, dtype: int64\n",
      "JOINT    511\n",
      "Name: application_type, dtype: int64\n",
      "JOINT    511\n",
      "Name: application_type, dtype: int64\n"
     ]
    }
   ],
   "source": [
    "#We want to verify that the missing data in the joint features are only for individual applications\n",
    "print(X[X.dti_joint.notnull()].application_type.value_counts())\n",
    "print(X[X.annual_inc_joint.notnull()].application_type.value_counts())\n",
    "print(X[X.verification_status_joint.notnull()].application_type.value_counts())"
   ]
  },
  {
   "cell_type": "markdown",
   "id": "c72451da-1481-4ac8-adca-e08a887e0004",
   "metadata": {},
   "source": [
    "For any missing of these we simply will copy the non-joint versions of these for now"
   ]
  },
  {
   "cell_type": "code",
   "execution_count": 12,
   "id": "3cabe89a-ac1e-4870-900c-42704be70d44",
   "metadata": {},
   "outputs": [],
   "source": [
    "X.dti_joint.fillna(X.dti,inplace=True)\n",
    "X.annual_inc_joint.fillna(X.annual_inc,inplace=True)\n",
    "X.verification_status_joint.fillna(X.verification_status,inplace=True)"
   ]
  },
  {
   "cell_type": "code",
   "execution_count": 13,
   "id": "2df61fa6-98f3-4e43-91cc-b0788a3af3d9",
   "metadata": {},
   "outputs": [
    {
     "data": {
      "text/html": [
       "<div>\n",
       "<style scoped>\n",
       "    .dataframe tbody tr th:only-of-type {\n",
       "        vertical-align: middle;\n",
       "    }\n",
       "\n",
       "    .dataframe tbody tr th {\n",
       "        vertical-align: top;\n",
       "    }\n",
       "\n",
       "    .dataframe thead th {\n",
       "        text-align: right;\n",
       "    }\n",
       "</style>\n",
       "<table border=\"1\" class=\"dataframe\">\n",
       "  <thead>\n",
       "    <tr style=\"text-align: right;\">\n",
       "      <th></th>\n",
       "      <th>dti_joint</th>\n",
       "      <th>dti</th>\n",
       "      <th>annual_inc</th>\n",
       "      <th>annual_inc_joint</th>\n",
       "      <th>verification_status</th>\n",
       "      <th>verification_status_joint</th>\n",
       "    </tr>\n",
       "  </thead>\n",
       "  <tbody>\n",
       "    <tr>\n",
       "      <th>466289</th>\n",
       "      <td>13.85</td>\n",
       "      <td>10.78</td>\n",
       "      <td>63000.00</td>\n",
       "      <td>71000.00</td>\n",
       "      <td>Not Verified</td>\n",
       "      <td>Not Verified</td>\n",
       "    </tr>\n",
       "    <tr>\n",
       "      <th>466419</th>\n",
       "      <td>16.40</td>\n",
       "      <td>20.67</td>\n",
       "      <td>75000.00</td>\n",
       "      <td>100000.00</td>\n",
       "      <td>Not Verified</td>\n",
       "      <td>Not Verified</td>\n",
       "    </tr>\n",
       "    <tr>\n",
       "      <th>466741</th>\n",
       "      <td>15.40</td>\n",
       "      <td>17.56</td>\n",
       "      <td>65000.00</td>\n",
       "      <td>77000.00</td>\n",
       "      <td>Source Verified</td>\n",
       "      <td>Not Verified</td>\n",
       "    </tr>\n",
       "    <tr>\n",
       "      <th>466850</th>\n",
       "      <td>22.76</td>\n",
       "      <td>22.70</td>\n",
       "      <td>96000.00</td>\n",
       "      <td>117000.00</td>\n",
       "      <td>Verified</td>\n",
       "      <td>Not Verified</td>\n",
       "    </tr>\n",
       "    <tr>\n",
       "      <th>466914</th>\n",
       "      <td>17.07</td>\n",
       "      <td>46.71</td>\n",
       "      <td>29524.32</td>\n",
       "      <td>94348.32</td>\n",
       "      <td>Verified</td>\n",
       "      <td>Not Verified</td>\n",
       "    </tr>\n",
       "  </tbody>\n",
       "</table>\n",
       "</div>"
      ],
      "text/plain": [
       "        dti_joint    dti  annual_inc  annual_inc_joint verification_status  \\\n",
       "466289      13.85  10.78    63000.00          71000.00        Not Verified   \n",
       "466419      16.40  20.67    75000.00         100000.00        Not Verified   \n",
       "466741      15.40  17.56    65000.00          77000.00     Source Verified   \n",
       "466850      22.76  22.70    96000.00         117000.00            Verified   \n",
       "466914      17.07  46.71    29524.32          94348.32            Verified   \n",
       "\n",
       "       verification_status_joint  \n",
       "466289              Not Verified  \n",
       "466419              Not Verified  \n",
       "466741              Not Verified  \n",
       "466850              Not Verified  \n",
       "466914              Not Verified  "
      ]
     },
     "execution_count": 13,
     "metadata": {},
     "output_type": "execute_result"
    }
   ],
   "source": [
    "X[X.application_type==\"JOINT\"][[\"dti_joint\",\"dti\",\"annual_inc\",\"annual_inc_joint\",\"verification_status\",\"verification_status_joint\"]].head()"
   ]
  },
  {
   "cell_type": "code",
   "execution_count": 14,
   "id": "aefdf519-3554-4d9e-8c6f-7710e09c11a2",
   "metadata": {},
   "outputs": [
    {
     "data": {
      "text/html": [
       "<div>\n",
       "<style scoped>\n",
       "    .dataframe tbody tr th:only-of-type {\n",
       "        vertical-align: middle;\n",
       "    }\n",
       "\n",
       "    .dataframe tbody tr th {\n",
       "        vertical-align: top;\n",
       "    }\n",
       "\n",
       "    .dataframe thead th {\n",
       "        text-align: right;\n",
       "    }\n",
       "</style>\n",
       "<table border=\"1\" class=\"dataframe\">\n",
       "  <thead>\n",
       "    <tr style=\"text-align: right;\">\n",
       "      <th></th>\n",
       "      <th>dti_joint</th>\n",
       "      <th>dti</th>\n",
       "      <th>annual_inc</th>\n",
       "      <th>annual_inc_joint</th>\n",
       "      <th>verification_status</th>\n",
       "      <th>verification_status_joint</th>\n",
       "    </tr>\n",
       "  </thead>\n",
       "  <tbody>\n",
       "    <tr>\n",
       "      <th>0</th>\n",
       "      <td>27.65</td>\n",
       "      <td>27.65</td>\n",
       "      <td>24000.0</td>\n",
       "      <td>24000.0</td>\n",
       "      <td>Verified</td>\n",
       "      <td>Verified</td>\n",
       "    </tr>\n",
       "    <tr>\n",
       "      <th>1</th>\n",
       "      <td>1.00</td>\n",
       "      <td>1.00</td>\n",
       "      <td>30000.0</td>\n",
       "      <td>30000.0</td>\n",
       "      <td>Source Verified</td>\n",
       "      <td>Source Verified</td>\n",
       "    </tr>\n",
       "    <tr>\n",
       "      <th>2</th>\n",
       "      <td>8.72</td>\n",
       "      <td>8.72</td>\n",
       "      <td>12252.0</td>\n",
       "      <td>12252.0</td>\n",
       "      <td>Not Verified</td>\n",
       "      <td>Not Verified</td>\n",
       "    </tr>\n",
       "    <tr>\n",
       "      <th>3</th>\n",
       "      <td>20.00</td>\n",
       "      <td>20.00</td>\n",
       "      <td>49200.0</td>\n",
       "      <td>49200.0</td>\n",
       "      <td>Source Verified</td>\n",
       "      <td>Source Verified</td>\n",
       "    </tr>\n",
       "    <tr>\n",
       "      <th>4</th>\n",
       "      <td>17.94</td>\n",
       "      <td>17.94</td>\n",
       "      <td>80000.0</td>\n",
       "      <td>80000.0</td>\n",
       "      <td>Source Verified</td>\n",
       "      <td>Source Verified</td>\n",
       "    </tr>\n",
       "  </tbody>\n",
       "</table>\n",
       "</div>"
      ],
      "text/plain": [
       "   dti_joint    dti  annual_inc  annual_inc_joint verification_status  \\\n",
       "0      27.65  27.65     24000.0           24000.0            Verified   \n",
       "1       1.00   1.00     30000.0           30000.0     Source Verified   \n",
       "2       8.72   8.72     12252.0           12252.0        Not Verified   \n",
       "3      20.00  20.00     49200.0           49200.0     Source Verified   \n",
       "4      17.94  17.94     80000.0           80000.0     Source Verified   \n",
       "\n",
       "  verification_status_joint  \n",
       "0                  Verified  \n",
       "1           Source Verified  \n",
       "2              Not Verified  \n",
       "3           Source Verified  \n",
       "4           Source Verified  "
      ]
     },
     "execution_count": 14,
     "metadata": {},
     "output_type": "execute_result"
    }
   ],
   "source": [
    "X[X.application_type==\"INDIVIDUAL\"][[\"dti_joint\",\"dti\",\"annual_inc\",\"annual_inc_joint\",\"verification_status\",\"verification_status_joint\"]].head()"
   ]
  },
  {
   "cell_type": "code",
   "execution_count": 15,
   "id": "2a8aa5e0-cc89-4ba5-8435-9931686dbb7d",
   "metadata": {},
   "outputs": [
    {
     "name": "stdout",
     "output_type": "stream",
     "text": [
      "0 355\n"
     ]
    }
   ],
   "source": [
    "print(X.dti.isna().sum(),X2.dti.isna().sum())"
   ]
  },
  {
   "cell_type": "code",
   "execution_count": 16,
   "id": "4f3593c2-08dc-410c-acf2-d09e10756768",
   "metadata": {},
   "outputs": [
    {
     "data": {
      "text/plain": [
       "JOINT    355\n",
       "Name: application_type, dtype: int64"
      ]
     },
     "execution_count": 16,
     "metadata": {},
     "output_type": "execute_result"
    }
   ],
   "source": [
    "#No missing dti in main data set, but some missing in the test. Let's see what those are like\n",
    "X2[X2.dti.isna()].application_type.value_counts()"
   ]
  },
  {
   "cell_type": "code",
   "execution_count": 17,
   "id": "2d941000-9479-4a48-966d-cd0f325f2c67",
   "metadata": {},
   "outputs": [
    {
     "data": {
      "text/plain": [
       "0"
      ]
     },
     "execution_count": 17,
     "metadata": {},
     "output_type": "execute_result"
    }
   ],
   "source": [
    "#Lets make sure those have joint dti information. If not we will have to impute values to both\n",
    "X2[X2.dti.isna()].dti_joint.isna().sum()"
   ]
  },
  {
   "cell_type": "code",
   "execution_count": 18,
   "id": "b46b088b-fbcf-471e-a008-4d29bb00eb9e",
   "metadata": {},
   "outputs": [],
   "source": [
    "#No applications missing both dti and joint dti. General strategy will be to replace missing values for one with the other\n",
    "X2.dti.fillna(X2.dti_joint,inplace=True)"
   ]
  },
  {
   "cell_type": "code",
   "execution_count": 19,
   "id": "67d48b45-d6b0-49e0-b70e-527ac6acb135",
   "metadata": {},
   "outputs": [],
   "source": [
    "#We can see this simply duplicated the columns for the individual applications while not affecting the joint applications\n",
    "#We do the same for the test data\n",
    "X2.dti_joint.fillna(X2.dti,inplace=True)\n",
    "X2.annual_inc_joint.fillna(X2.annual_inc,inplace=True)\n",
    "X2.verification_status_joint.fillna(X2.verification_status,inplace=True)"
   ]
  },
  {
   "cell_type": "markdown",
   "id": "a2377867-6b72-4fec-aef0-6430e4e4dabd",
   "metadata": {},
   "source": [
    "Issue date, last credit pull date, last payment date ,earliest credit line, next payment date are strings, but will be more useful as datetime objects"
   ]
  },
  {
   "cell_type": "code",
   "execution_count": 20,
   "id": "f11a52f9-1c19-4108-b006-49eb69274b91",
   "metadata": {},
   "outputs": [],
   "source": [
    "X.issue_d=pd.to_datetime(X.issue_d)\n",
    "X.last_credit_pull_d=pd.to_datetime(X.last_credit_pull_d)\n",
    "X.last_pymnt_d=pd.to_datetime(X.last_pymnt_d)\n",
    "X.earliest_cr_line=pd.to_datetime(X.earliest_cr_line)\n",
    "X2.issue_d=pd.to_datetime(X2.issue_d)\n",
    "X2.last_credit_pull_d=pd.to_datetime(X2.last_credit_pull_d)\n",
    "X2.last_pymnt_d=pd.to_datetime(X2.last_pymnt_d)\n",
    "X2.earliest_cr_line=pd.to_datetime(X2.earliest_cr_line)\n",
    "X.next_pymnt_d=pd.to_datetime(X.next_pymnt_d)\n",
    "\n"
   ]
  },
  {
   "cell_type": "code",
   "execution_count": 21,
   "id": "d1382ef2-36e1-410f-9092-5dcf8f7ec9ff",
   "metadata": {},
   "outputs": [
    {
     "data": {
      "text/plain": [
       "Jan-2018    591170\n",
       "Dec-2017       157\n",
       "Feb-2018        96\n",
       "Name: next_pymnt_d, dtype: int64"
      ]
     },
     "execution_count": 21,
     "metadata": {},
     "output_type": "execute_result"
    }
   ],
   "source": [
    "X2.next_pymnt_d.value_counts()"
   ]
  },
  {
   "cell_type": "code",
   "execution_count": 22,
   "id": "8b50192f-5daf-4a6a-9dd1-4f1b7085172a",
   "metadata": {},
   "outputs": [],
   "source": [
    "#need to replace the format of dates in the X2 data frame for the next_pymnt_d column before converting to datetime objects\n",
    "X2.next_pymnt_d.replace({\"Jan-2018\":\"2018-01-01\",\"Dec-2017\":\"2017-12-01\",\"Feb-2018\":\"2018-02-01\"},inplace=True)\n",
    "X2.next_pymnt_d=pd.to_datetime(X.next_pymnt_d)"
   ]
  },
  {
   "cell_type": "markdown",
   "id": "0a1cf366-8500-4c39-9352-d784a43cc6eb",
   "metadata": {},
   "source": [
    "To avoid dependency on issue date as that will change significantly over time we convert to timedeltas"
   ]
  },
  {
   "cell_type": "code",
   "execution_count": 23,
   "id": "c1496246-6b30-445d-9565-91da3ac3490d",
   "metadata": {},
   "outputs": [],
   "source": [
    "X[\"last_credit_pull_td\"]=X.last_credit_pull_d-X.issue_d\n",
    "X2[\"last_credit_pull_td\"]=X2.last_credit_pull_d-X.issue_d\n",
    "X[\"last_pymnt_td\"]=X.last_pymnt_d-X.issue_d\n",
    "X2[\"last_pymnt_td\"]=X2.last_pymnt_d-X.issue_d\n",
    "X[\"earliest_cr_line_td\"]=X.issue_d-X.earliest_cr_line\n",
    "X2[\"earliest_cr_line_td\"]=X2.issue_d-X2.earliest_cr_line\n",
    "X[\"next_pymnt_td\"]=X.next_pymnt_d-X.issue_d\n",
    "X2[\"next_pymnt_td\"]=X2.next_pymnt_d-X.issue_d"
   ]
  },
  {
   "cell_type": "code",
   "execution_count": null,
   "id": "06cd6dfa-1672-4e52-a631-94b0efed1bc4",
   "metadata": {},
   "outputs": [],
   "source": []
  },
  {
   "cell_type": "code",
   "execution_count": null,
   "id": "923180df-a9ea-466d-98e4-4cfd965e92fe",
   "metadata": {},
   "outputs": [],
   "source": []
  },
  {
   "cell_type": "markdown",
   "id": "9386eac7-3193-4f29-863d-84bbd707298f",
   "metadata": {},
   "source": [
    "Now we drop the actual dates from the features"
   ]
  },
  {
   "cell_type": "code",
   "execution_count": 24,
   "id": "66251cc2-e127-4dd6-a111-254c1ef693d3",
   "metadata": {},
   "outputs": [],
   "source": [
    "X.drop(columns=[\"issue_d\",\"last_credit_pull_d\",\"last_pymnt_d\",\"earliest_cr_line\",\"next_pymnt_d\"],inplace=True)\n",
    "X2.drop(columns=[\"issue_d\",\"last_credit_pull_d\",\"last_pymnt_d\",\"earliest_cr_line\",\"next_pymnt_d\"],inplace=True)"
   ]
  },
  {
   "cell_type": "markdown",
   "id": "9f870a0a-b835-4192-8d97-e749f7faf4b7",
   "metadata": {},
   "source": [
    "We will now convert these to floating point numbers"
   ]
  },
  {
   "cell_type": "code",
   "execution_count": 25,
   "id": "b3abfbfe-4834-4e90-ab37-4b9380262747",
   "metadata": {},
   "outputs": [],
   "source": [
    "X[\"last_credit_pull_d\"]=X.last_credit_pull_td/pd.to_timedelta(1,'D')\n",
    "X2[\"last_credit_pull_d\"]=X2.last_credit_pull_td/pd.to_timedelta(1,'D')\n",
    "X[\"last_pymnt_d\"]=X.last_pymnt_td/pd.to_timedelta(1,'D')\n",
    "X2[\"last_pymnt_d\"]=X.last_pymnt_td/pd.to_timedelta(1,'D')\n",
    "X[\"earliest_cr_line\"]=X.earliest_cr_line_td/pd.to_timedelta(1,'D')\n",
    "X2[\"earliest_cr_line\"]=X.earliest_cr_line_td/pd.to_timedelta(1,'D')\n",
    "X[\"next_pymnt_d\"]=X.next_pymnt_td/pd.to_timedelta(1,'D')\n",
    "X2[\"next_pymnt_d\"]=X2.next_pymnt_td/pd.to_timedelta(1,'D')"
   ]
  },
  {
   "cell_type": "markdown",
   "id": "245daeb2-c1d4-44f3-96ad-41905efe0eba",
   "metadata": {},
   "source": [
    "We can now get rid of the timedelta features and leave the floating point ones.\n"
   ]
  },
  {
   "cell_type": "code",
   "execution_count": 26,
   "id": "8b36d0f9-e901-4b79-96f0-8763202de9a2",
   "metadata": {},
   "outputs": [],
   "source": [
    "X.drop(columns=[\"last_credit_pull_td\",\"last_pymnt_td\",\"earliest_cr_line_td\",\"next_pymnt_td\"],inplace=True)\n",
    "X2.drop(columns=[\"last_credit_pull_td\",\"last_pymnt_td\",\"earliest_cr_line_td\",\"next_pymnt_td\"],inplace=True)"
   ]
  },
  {
   "cell_type": "code",
   "execution_count": 27,
   "id": "bf4aafc0-cd7d-41d5-9f7a-1cf0778da6f2",
   "metadata": {},
   "outputs": [],
   "source": [
    "#drop the url feature\n",
    "X.drop(columns=[\"url\"],inplace=True)"
   ]
  },
  {
   "cell_type": "code",
   "execution_count": 28,
   "id": "24b6c964-206e-4d8d-8d6d-24aa8981fb21",
   "metadata": {},
   "outputs": [
    {
     "data": {
      "text/plain": [
       "{'open_il_6m'}"
      ]
     },
     "execution_count": 28,
     "metadata": {},
     "output_type": "execute_result"
    }
   ],
   "source": [
    "set(X.columns).difference(set(X2.columns))"
   ]
  },
  {
   "cell_type": "code",
   "execution_count": 29,
   "id": "88a023f7-e0ee-4011-8c6a-d61da636e10a",
   "metadata": {},
   "outputs": [
    {
     "data": {
      "text/plain": [
       "set()"
      ]
     },
     "execution_count": 29,
     "metadata": {},
     "output_type": "execute_result"
    }
   ],
   "source": [
    "set(X2.columns).difference(set(X.columns))"
   ]
  },
  {
   "cell_type": "code",
   "execution_count": 30,
   "id": "451e612d-19bb-4902-9ce0-935aa45afe22",
   "metadata": {},
   "outputs": [],
   "source": [
    "#drop the column from the training data that the test data doesn't have\n",
    "X.drop(columns=['open_il_6m'],inplace=True)"
   ]
  },
  {
   "cell_type": "code",
   "execution_count": 31,
   "id": "5bef0834-935f-42db-ba30-721dfdcabd71",
   "metadata": {},
   "outputs": [
    {
     "data": {
      "text/plain": [
       " 36 months    621125\n",
       " 60 months    266254\n",
       "Name: term, dtype: int64"
      ]
     },
     "execution_count": 31,
     "metadata": {},
     "output_type": "execute_result"
    }
   ],
   "source": [
    "X.term.value_counts()"
   ]
  },
  {
   "cell_type": "code",
   "execution_count": 32,
   "id": "ca497401-331f-43a4-819c-61d17e38fb5c",
   "metadata": {},
   "outputs": [
    {
     "data": {
      "text/plain": [
       "36 months    561237\n",
       "60 months    198101\n",
       "Name: term, dtype: int64"
      ]
     },
     "execution_count": 32,
     "metadata": {},
     "output_type": "execute_result"
    }
   ],
   "source": [
    "X2.term.value_counts()"
   ]
  },
  {
   "cell_type": "code",
   "execution_count": 33,
   "id": "d96de572-ee71-4bc0-ba81-b9aa8d3a5f36",
   "metadata": {},
   "outputs": [],
   "source": [
    "#For now drop 'desc' featire\n",
    "X.drop(columns=['desc'],inplace=True)\n",
    "X2.drop(columns=['desc'],inplace=True)"
   ]
  },
  {
   "cell_type": "markdown",
   "id": "703d2603-73fc-478a-a585-d0a6776c3c0d",
   "metadata": {},
   "source": [
    "At this point we have the columns we need in place. We will need to impute missing values and see how we want to use categorical data"
   ]
  },
  {
   "cell_type": "code",
   "execution_count": 34,
   "id": "cc5be0f5-fe91-426d-9ed1-da24830185ad",
   "metadata": {},
   "outputs": [],
   "source": [
    "#For employment will use \"other\" for missing values\n",
    "X.emp_title.fillna(\"other\",inplace=True)\n",
    "X2.emp_title.fillna(\"other\",inplace=True)"
   ]
  },
  {
   "cell_type": "markdown",
   "id": "2903acae-d9d1-4582-ae72-f7a2e23665d5",
   "metadata": {},
   "source": [
    "Employment length is a bit tricker as it's categorical but we want to have a median to put in for missing values"
   ]
  },
  {
   "cell_type": "code",
   "execution_count": 35,
   "id": "231f5f91-db15-4e0d-a545-e609f55aff81",
   "metadata": {},
   "outputs": [
    {
     "data": {
      "text/plain": [
       "10+ years    291569\n",
       "2 years       78870\n",
       "< 1 year      70605\n",
       "3 years       70026\n",
       "1 year        57095\n",
       "5 years       55704\n",
       "4 years       52529\n",
       "7 years       44594\n",
       "8 years       43955\n",
       "6 years       42950\n",
       "9 years       34657\n",
       "Name: emp_length, dtype: int64"
      ]
     },
     "execution_count": 35,
     "metadata": {},
     "output_type": "execute_result"
    }
   ],
   "source": [
    "X.emp_length.value_counts()"
   ]
  },
  {
   "cell_type": "code",
   "execution_count": 36,
   "id": "0f50b1b6-316d-4a14-9fd7-94317a84313a",
   "metadata": {},
   "outputs": [
    {
     "data": {
      "text/plain": [
       "10.0    291569\n",
       "2.0      78870\n",
       "0.0      70605\n",
       "3.0      70026\n",
       "1.0      57095\n",
       "5.0      55704\n",
       "4.0      52529\n",
       "7.0      44594\n",
       "8.0      43955\n",
       "6.0      42950\n",
       "9.0      34657\n",
       "Name: emp_length, dtype: int64"
      ]
     },
     "execution_count": 36,
     "metadata": {},
     "output_type": "execute_result"
    }
   ],
   "source": [
    "#Convert each of these to a numeric value, replacing <1 year with 0 and 10+ with 10\n",
    "X.emp_length.replace({\"10+ years\":10,\"2 years\":2,\"< 1 year\":0,\"3 years\":3,\"1 year\":1,\"5 years\":5,\"4 years\":4,\"7 years\":7,\"8 years\":8,\"6 years\":6,\"9 years\":9},inplace=True)\n",
    "X.emp_length.value_counts()"
   ]
  },
  {
   "cell_type": "code",
   "execution_count": 37,
   "id": "6d8d4cbb-1851-47e2-ba3e-b5dd14f61483",
   "metadata": {},
   "outputs": [
    {
     "data": {
      "text/plain": [
       "10+ years    257944\n",
       "2 years       69494\n",
       "< 1 year      62724\n",
       "3 years       60843\n",
       "1 year        50585\n",
       "5 years       46139\n",
       "4 years       45573\n",
       "6 years       32616\n",
       "8 years       28707\n",
       "9 years       28554\n",
       "7 years       25796\n",
       "Name: emp_length, dtype: int64"
      ]
     },
     "execution_count": 37,
     "metadata": {},
     "output_type": "execute_result"
    }
   ],
   "source": [
    "X2.emp_length.value_counts()"
   ]
  },
  {
   "cell_type": "code",
   "execution_count": 38,
   "id": "45bbad69-fcde-4527-a426-605876b98001",
   "metadata": {},
   "outputs": [
    {
     "data": {
      "text/plain": [
       "10.0    257944\n",
       "2.0      69494\n",
       "0.0      62724\n",
       "3.0      60843\n",
       "1.0      50585\n",
       "5.0      46139\n",
       "4.0      45573\n",
       "6.0      32616\n",
       "8.0      28707\n",
       "9.0      28554\n",
       "7.0      25796\n",
       "Name: emp_length, dtype: int64"
      ]
     },
     "execution_count": 38,
     "metadata": {},
     "output_type": "execute_result"
    }
   ],
   "source": [
    "#we will do the same with the test data\n",
    "X2.emp_length.replace({\"10+ years\":10,\"2 years\":2,\"< 1 year\":0,\"3 years\":3,\"1 year\":1,\"5 years\":5,\"4 years\":4,\"7 years\":7,\"8 years\":8,\"6 years\":6,\"9 years\":9},inplace=True)\n",
    "X2.emp_length.value_counts()"
   ]
  },
  {
   "cell_type": "code",
   "execution_count": 39,
   "id": "4e489314-791d-4b2c-9e2c-856be2237048",
   "metadata": {},
   "outputs": [
    {
     "data": {
      "text/plain": [
       "6.0"
      ]
     },
     "execution_count": 39,
     "metadata": {},
     "output_type": "execute_result"
    }
   ],
   "source": [
    "#We will use the median of the test data to impute. \n",
    "X.emp_length.median()"
   ]
  },
  {
   "cell_type": "code",
   "execution_count": 40,
   "id": "82f862cf-6c34-4532-9aa8-e46d534eab10",
   "metadata": {},
   "outputs": [],
   "source": [
    "X.emp_length.fillna(6,inplace=True)\n",
    "X2.emp_length.fillna(6,inplace=True)"
   ]
  },
  {
   "cell_type": "code",
   "execution_count": 41,
   "id": "26902b29-dae0-4f1f-a35b-9fa0762f6204",
   "metadata": {},
   "outputs": [
    {
     "data": {
      "text/plain": [
       "count    8.873750e+05\n",
       "mean     7.502759e+04\n",
       "std      6.469830e+04\n",
       "min      0.000000e+00\n",
       "25%      4.500000e+04\n",
       "50%      6.500000e+04\n",
       "75%      9.000000e+04\n",
       "max      9.500000e+06\n",
       "Name: annual_inc, dtype: float64"
      ]
     },
     "execution_count": 41,
     "metadata": {},
     "output_type": "execute_result"
    }
   ],
   "source": [
    "X.annual_inc.describe()"
   ]
  },
  {
   "cell_type": "code",
   "execution_count": 42,
   "id": "757ec2b3-7524-40ee-9d55-27e52bb03945",
   "metadata": {},
   "outputs": [
    {
     "data": {
      "text/plain": [
       "65000.0"
      ]
     },
     "execution_count": 42,
     "metadata": {},
     "output_type": "execute_result"
    }
   ],
   "source": [
    "X.annual_inc.median()"
   ]
  },
  {
   "cell_type": "code",
   "execution_count": 43,
   "id": "b4865958-dc7b-4e18-861c-8eeffde0d9a0",
   "metadata": {},
   "outputs": [],
   "source": [
    "X.annual_inc.fillna(65000,inplace=True)\n",
    "X2.annual_inc.fillna(65000,inplace=True)"
   ]
  },
  {
   "cell_type": "code",
   "execution_count": 44,
   "id": "4ea56a6b-4438-4128-b475-6cbf84db581f",
   "metadata": {},
   "outputs": [
    {
     "data": {
      "text/plain": [
       "Debt consolidation                     414001\n",
       "Credit card refinancing                164331\n",
       "Home improvement                        40112\n",
       "Other                                   31892\n",
       "Debt Consolidation                      15760\n",
       "                                        ...  \n",
       "New Heater                                  1\n",
       "Looking to get out of debt                  1\n",
       "Debt Conso/Pay off initial LC loan          1\n",
       "Emergency Home Repair                       1\n",
       "Credit Card/Auto Repair                     1\n",
       "Name: title, Length: 63144, dtype: int64"
      ]
     },
     "execution_count": 44,
     "metadata": {},
     "output_type": "execute_result"
    }
   ],
   "source": [
    "X.title.value_counts()"
   ]
  },
  {
   "cell_type": "code",
   "execution_count": 45,
   "id": "c47e7f13-fff7-4c69-9f32-2d9154c977fb",
   "metadata": {},
   "outputs": [
    {
     "data": {
      "text/plain": [
       "debt_consolidation    524215\n",
       "credit_card           206182\n",
       "home_improvement       51829\n",
       "other                  42894\n",
       "major_purchase         17277\n",
       "small_business         10377\n",
       "car                     8863\n",
       "medical                 8540\n",
       "moving                  5414\n",
       "vacation                4736\n",
       "house                   3707\n",
       "wedding                 2347\n",
       "renewable_energy         575\n",
       "educational              423\n",
       "Name: purpose, dtype: int64"
      ]
     },
     "execution_count": 45,
     "metadata": {},
     "output_type": "execute_result"
    }
   ],
   "source": [
    "X.purpose.value_counts()"
   ]
  },
  {
   "cell_type": "code",
   "execution_count": 46,
   "id": "f627c428-ae3a-41ba-a335-6de2921bd164",
   "metadata": {},
   "outputs": [
    {
     "data": {
      "text/plain": [
       "152"
      ]
     },
     "execution_count": 46,
     "metadata": {},
     "output_type": "execute_result"
    }
   ],
   "source": [
    "X.title.isna().sum()"
   ]
  },
  {
   "cell_type": "code",
   "execution_count": 47,
   "id": "330e72cc-e19f-430b-9ca8-c087c7902633",
   "metadata": {},
   "outputs": [
    {
     "data": {
      "text/plain": [
       "0"
      ]
     },
     "execution_count": 47,
     "metadata": {},
     "output_type": "execute_result"
    }
   ],
   "source": [
    "X.purpose.isna().sum()"
   ]
  },
  {
   "cell_type": "code",
   "execution_count": 48,
   "id": "24763dd5-68e6-4bdf-b0ab-ac01af4d7f04",
   "metadata": {},
   "outputs": [
    {
     "data": {
      "text/plain": [
       "23173"
      ]
     },
     "execution_count": 48,
     "metadata": {},
     "output_type": "execute_result"
    }
   ],
   "source": [
    "X2.title.isna().sum()"
   ]
  },
  {
   "cell_type": "code",
   "execution_count": 49,
   "id": "7ba25e8a-b0cf-441a-95e2-57e1d7ce96b7",
   "metadata": {},
   "outputs": [
    {
     "data": {
      "text/plain": [
       "0"
      ]
     },
     "execution_count": 49,
     "metadata": {},
     "output_type": "execute_result"
    }
   ],
   "source": [
    "X2.purpose.isna().sum()"
   ]
  },
  {
   "cell_type": "code",
   "execution_count": 50,
   "id": "bec2a17b-976e-491a-ad31-307380be84c0",
   "metadata": {},
   "outputs": [],
   "source": [
    "#For title we use 'other' for missing values\n",
    "X.title.fillna(\"other\",inplace=True)\n",
    "X2.title.fillna(\"other\",inplace=True)"
   ]
  },
  {
   "cell_type": "markdown",
   "id": "df723e67-adb6-4a2f-9571-9a94f9c4b678",
   "metadata": {},
   "source": [
    "For entries about negative events in a time period we will fill those with 0, assuming that no information means those events did not occur"
   ]
  },
  {
   "cell_type": "code",
   "execution_count": 51,
   "id": "71af7505-7209-417a-995b-12b45876fea9",
   "metadata": {},
   "outputs": [],
   "source": [
    "X.inq_last_6mths.fillna(0,inplace=True)\n",
    "X.inq_last_12m.fillna(0,inplace=True)\n",
    "X.inq_fi.fillna(0,inplace=True)\n",
    "X.collections_12_mths_ex_med.fillna(0,inplace=True)\n",
    "X.pub_rec.fillna(0,inplace=True)\n",
    "X.acc_now_delinq.fillna(0,inplace=True)\n",
    "X.delinq_2yrs.fillna(0,inplace=True)\n"
   ]
  },
  {
   "cell_type": "code",
   "execution_count": 52,
   "id": "db0a6793-f2df-4891-aa31-1e74ce91b7ef",
   "metadata": {},
   "outputs": [],
   "source": [
    "X2.inq_last_6mths.fillna(0,inplace=True)\n",
    "X2.inq_last_12m.fillna(0,inplace=True)\n",
    "X2.inq_fi.fillna(0,inplace=True)\n",
    "X2.collections_12_mths_ex_med.fillna(0,inplace=True)\n",
    "X2.pub_rec.fillna(0,inplace=True)\n",
    "X2.acc_now_delinq.fillna(0,inplace=True)\n",
    "X2.delinq_2yrs.fillna(0,inplace=True)\n"
   ]
  },
  {
   "cell_type": "code",
   "execution_count": 53,
   "id": "aeb19ced-f315-4d94-a315-f05b6c2fa243",
   "metadata": {},
   "outputs": [
    {
     "data": {
      "text/plain": [
       "count    21372.000000\n",
       "mean        60.831939\n",
       "std         20.013254\n",
       "min          0.000000\n",
       "25%         47.700000\n",
       "50%         61.900000\n",
       "75%         75.200000\n",
       "max        151.400000\n",
       "Name: all_util, dtype: float64"
      ]
     },
     "execution_count": 53,
     "metadata": {},
     "output_type": "execute_result"
    }
   ],
   "source": [
    "X.all_util.describe()"
   ]
  },
  {
   "cell_type": "code",
   "execution_count": 54,
   "id": "c26134ca-6995-4dd0-8033-68598d74da3f",
   "metadata": {},
   "outputs": [
    {
     "data": {
      "text/plain": [
       "61.0     71\n",
       "68.0     60\n",
       "51.0     57\n",
       "61.3     57\n",
       "72.0     56\n",
       "         ..\n",
       "3.3       1\n",
       "15.7      1\n",
       "107.9     1\n",
       "97.6      1\n",
       "7.4       1\n",
       "Name: all_util, Length: 1128, dtype: int64"
      ]
     },
     "execution_count": 54,
     "metadata": {},
     "output_type": "execute_result"
    }
   ],
   "source": [
    "X.all_util.value_counts()"
   ]
  },
  {
   "cell_type": "code",
   "execution_count": 55,
   "id": "e85d9d40-e003-4595-abed-fcaeb6aacb5f",
   "metadata": {},
   "outputs": [
    {
     "data": {
      "image/png": "[encoded data removed]",
      "text/plain": [
       "<Figure size 432x288 with 1 Axes>"
      ]
     },
     "metadata": {
      "needs_background": "light"
     },
     "output_type": "display_data"
    }
   ],
   "source": [
    "X.all_util.hist()\n",
    "plt.show()"
   ]
  },
  {
   "cell_type": "code",
   "execution_count": 56,
   "id": "9e7e5788-8bcc-4fd9-94f3-4dca35bd3826",
   "metadata": {},
   "outputs": [
    {
     "data": {
      "text/plain": [
       "866007"
      ]
     },
     "execution_count": 56,
     "metadata": {},
     "output_type": "execute_result"
    }
   ],
   "source": [
    "X.all_util.isna().sum()"
   ]
  },
  {
   "cell_type": "markdown",
   "id": "80c25c19-1917-408c-b1b4-390342bc859f",
   "metadata": {},
   "source": [
    "The distribution of utilization number is centered around 62%, however the vast majority have nothing put in, so this is a very small amount to generalize from. We might have to dig a little deeper to see if we can figure out what is going on"
   ]
  },
  {
   "cell_type": "code",
   "execution_count": 57,
   "id": "0cc3167d-2279-41ce-8f7d-1ce44cff6dbd",
   "metadata": {},
   "outputs": [
    {
     "data": {
      "text/plain": [
       "count    8.171030e+05\n",
       "mean     1.394582e+05\n",
       "std      1.537500e+05\n",
       "min      0.000000e+00\n",
       "25%      2.985300e+04\n",
       "50%      8.055900e+04\n",
       "75%      2.082050e+05\n",
       "max      8.000078e+06\n",
       "Name: tot_cur_bal, dtype: float64"
      ]
     },
     "execution_count": 57,
     "metadata": {},
     "output_type": "execute_result"
    }
   ],
   "source": [
    "X.tot_cur_bal.describe()"
   ]
  },
  {
   "cell_type": "code",
   "execution_count": 58,
   "id": "ad438c77-e2dc-414f-953c-5af7bdf5ee31",
   "metadata": {},
   "outputs": [
    {
     "data": {
      "image/png": "[encoded data removed]",
      "text/plain": [
       "<Figure size 432x288 with 1 Axes>"
      ]
     },
     "metadata": {
      "needs_background": "light"
     },
     "output_type": "display_data"
    }
   ],
   "source": [
    "X.tot_cur_bal.hist(bins=10)\n",
    "plt.yscale(\"log\")\n",
    "plt.show()"
   ]
  },
  {
   "cell_type": "markdown",
   "id": "21588bb4-1303-429c-983c-bb24dbc5b7ef",
   "metadata": {},
   "source": [
    "We save the columns as is elsewhere and for now use 0 to fill in missing values"
   ]
  },
  {
   "cell_type": "code",
   "execution_count": 59,
   "id": "8a24f3ad-ad06-434f-8ec8-e0c8822c911e",
   "metadata": {},
   "outputs": [],
   "source": [
    "tot_cur_bal=X.tot_cur_bal\n",
    "all_util=X.all_util\n",
    "X.all_util.fillna(0,inplace=True)\n",
    "X.tot_cur_bal.fillna(0,inplace=True)"
   ]
  },
  {
   "cell_type": "code",
   "execution_count": 60,
   "id": "06d1d10e-f203-4fff-8504-e66ca8af56da",
   "metadata": {},
   "outputs": [],
   "source": [
    "#Fill more zeros in for utilization ones\n",
    "X.il_util.fillna(0,inplace=True)\n",
    "X.total_cu_tl.fillna(0,inplace=True)\n",
    "X.open_rv_12m.fillna(0,inplace=True)\n",
    "X.open_rv_24m.fillna(0,inplace=True)"
   ]
  },
  {
   "cell_type": "code",
   "execution_count": 61,
   "id": "b867e619-d9a3-45c4-a832-523d9161c30c",
   "metadata": {},
   "outputs": [],
   "source": [
    "#Do the same to test data\n",
    "tot_cur_bal2=X2.tot_cur_bal\n",
    "all_util2=X2.all_util\n",
    "X2.all_util.fillna(0,inplace=True)\n",
    "X2.tot_cur_bal.fillna(0,inplace=True)\n",
    "X2.il_util.fillna(0,inplace=True)\n",
    "X2.total_cu_tl.fillna(0,inplace=True)\n",
    "X2.open_rv_12m.fillna(0,inplace=True)\n",
    "X2.open_rv_24m.fillna(0,inplace=True)"
   ]
  },
  {
   "cell_type": "markdown",
   "id": "58f17111-70ff-40e3-9aa5-9a7f0ac465c7",
   "metadata": {},
   "source": [
    "We use the median of the training data to fill in some fields"
   ]
  },
  {
   "cell_type": "code",
   "execution_count": 62,
   "id": "8fc6dca7-fae4-4eb2-955b-30ef062b1346",
   "metadata": {},
   "outputs": [
    {
     "data": {
      "text/plain": [
       "count    21372.000000\n",
       "mean         1.109021\n",
       "std          1.242675\n",
       "min          0.000000\n",
       "25%          0.000000\n",
       "50%          1.000000\n",
       "75%          2.000000\n",
       "max         14.000000\n",
       "Name: open_acc_6m, dtype: float64"
      ]
     },
     "execution_count": 62,
     "metadata": {},
     "output_type": "execute_result"
    }
   ],
   "source": [
    "X.open_acc_6m.describe()"
   ]
  },
  {
   "cell_type": "code",
   "execution_count": 63,
   "id": "fc346cff-cdb2-4476-9a26-d04b0366f047",
   "metadata": {},
   "outputs": [],
   "source": [
    "X.open_acc_6m.fillna(1,inplace=True)\n",
    "X2.open_acc_6m.fillna(1,inplace=True)"
   ]
  },
  {
   "cell_type": "code",
   "execution_count": 64,
   "id": "1dde4b51-0470-4834-b771-612d83fbb711",
   "metadata": {},
   "outputs": [
    {
     "data": {
      "text/plain": [
       "count    21372.000000\n",
       "mean         0.761651\n",
       "std          0.996035\n",
       "min          0.000000\n",
       "25%          0.000000\n",
       "50%          0.000000\n",
       "75%          1.000000\n",
       "max         12.000000\n",
       "Name: open_il_12m, dtype: float64"
      ]
     },
     "execution_count": 64,
     "metadata": {},
     "output_type": "execute_result"
    }
   ],
   "source": [
    "X.open_il_12m.describe()"
   ]
  },
  {
   "cell_type": "code",
   "execution_count": 65,
   "id": "4203c4b9-c965-4cab-b504-7b2af62a2ccd",
   "metadata": {},
   "outputs": [],
   "source": [
    "X.open_il_12m.fillna(0,inplace=True)\n",
    "X2.open_il_12m.fillna(0,inplace=True)"
   ]
  },
  {
   "cell_type": "code",
   "execution_count": 66,
   "id": "98b4a650-4c00-4e47-a632-3f2425a263ee",
   "metadata": {},
   "outputs": [
    {
     "data": {
      "text/plain": [
       "count    21372.000000\n",
       "mean         1.674574\n",
       "std          1.688725\n",
       "min          0.000000\n",
       "25%          0.000000\n",
       "50%          1.000000\n",
       "75%          2.000000\n",
       "max         19.000000\n",
       "Name: open_il_24m, dtype: float64"
      ]
     },
     "execution_count": 66,
     "metadata": {},
     "output_type": "execute_result"
    }
   ],
   "source": [
    "X.open_il_24m.describe()"
   ]
  },
  {
   "cell_type": "code",
   "execution_count": 67,
   "id": "9923f261-2e6c-4490-8a58-ec57c838633f",
   "metadata": {},
   "outputs": [],
   "source": [
    "X.open_il_24m.fillna(1,inplace=True)\n",
    "X2.open_il_24m.fillna(1,inplace=True)"
   ]
  },
  {
   "cell_type": "code",
   "execution_count": 68,
   "id": "df2957dc-ecba-47bc-a051-89ba190634e3",
   "metadata": {},
   "outputs": [
    {
     "data": {
      "text/plain": [
       "count    8.171030e+05\n",
       "mean     2.257026e+02\n",
       "std      1.031137e+04\n",
       "min      0.000000e+00\n",
       "25%      0.000000e+00\n",
       "50%      0.000000e+00\n",
       "75%      0.000000e+00\n",
       "max      9.152545e+06\n",
       "Name: tot_coll_amt, dtype: float64"
      ]
     },
     "execution_count": 68,
     "metadata": {},
     "output_type": "execute_result"
    }
   ],
   "source": [
    "X.tot_coll_amt.describe()"
   ]
  },
  {
   "cell_type": "code",
   "execution_count": 69,
   "id": "40e19778-cb37-477d-9038-a9d05ad9a3a6",
   "metadata": {},
   "outputs": [],
   "source": [
    "X.tot_coll_amt.fillna(0,inplace=True)\n",
    "X2.tot_coll_amt.fillna(0,inplace=True)"
   ]
  },
  {
   "cell_type": "code",
   "execution_count": 70,
   "id": "fae4decf-4cc3-4ffd-a1e6-bb6496396f8c",
   "metadata": {},
   "outputs": [],
   "source": [
    "X.total_bal_il.fillna(0,inplace=True)\n",
    "X2.total_bal_il.fillna(0,inplace=True)"
   ]
  },
  {
   "cell_type": "code",
   "execution_count": 71,
   "id": "ae4b17db-e2b1-4d0b-8798-1f8d93d52099",
   "metadata": {},
   "outputs": [
    {
     "data": {
      "text/plain": [
       "count    8.873790e+05\n",
       "mean     1.284138e+05\n",
       "std      1.522669e+05\n",
       "min      0.000000e+00\n",
       "25%      2.316800e+04\n",
       "50%      6.533200e+04\n",
       "75%      1.957940e+05\n",
       "max      8.000078e+06\n",
       "Name: tot_cur_bal, dtype: float64"
      ]
     },
     "execution_count": 71,
     "metadata": {},
     "output_type": "execute_result"
    }
   ],
   "source": [
    "X.tot_cur_bal.describe()"
   ]
  },
  {
   "cell_type": "code",
   "execution_count": 72,
   "id": "fa629798-1296-43cb-b1c9-22a9092366d5",
   "metadata": {},
   "outputs": [
    {
     "data": {
      "text/plain": [
       "65332.0"
      ]
     },
     "execution_count": 72,
     "metadata": {},
     "output_type": "execute_result"
    }
   ],
   "source": [
    "X.tot_cur_bal.median()"
   ]
  },
  {
   "cell_type": "code",
   "execution_count": 73,
   "id": "2dd8decb-beb9-4fbb-8647-e19bc8295914",
   "metadata": {},
   "outputs": [],
   "source": [
    "X.tot_cur_bal.fillna(65332,inplace=True)\n",
    "X2.tot_cur_bal.fillna(65332,inplace=True)"
   ]
  },
  {
   "cell_type": "code",
   "execution_count": 74,
   "id": "02762831-2c51-4290-a02d-30354087915a",
   "metadata": {},
   "outputs": [
    {
     "data": {
      "text/plain": [
       "count    8.171030e+05\n",
       "mean     3.206862e+04\n",
       "std      3.749826e+04\n",
       "min      0.000000e+00\n",
       "25%      1.390000e+04\n",
       "50%      2.370000e+04\n",
       "75%      3.980000e+04\n",
       "max      9.999999e+06\n",
       "Name: total_rev_hi_lim, dtype: float64"
      ]
     },
     "execution_count": 74,
     "metadata": {},
     "output_type": "execute_result"
    }
   ],
   "source": [
    "X.total_rev_hi_lim.describe()"
   ]
  },
  {
   "cell_type": "code",
   "execution_count": 75,
   "id": "ecfcee49-682f-449e-af77-5514ee9463fb",
   "metadata": {},
   "outputs": [
    {
     "data": {
      "text/plain": [
       "23700.0"
      ]
     },
     "execution_count": 75,
     "metadata": {},
     "output_type": "execute_result"
    }
   ],
   "source": [
    "X.total_rev_hi_lim.median()"
   ]
  },
  {
   "cell_type": "code",
   "execution_count": 76,
   "id": "6306125a-728a-4f43-b149-10dd4c27b4d7",
   "metadata": {},
   "outputs": [],
   "source": [
    "X.total_rev_hi_lim.fillna(23700,inplace=True)\n",
    "X2.total_rev_hi_lim.fillna(23700,inplace=True)"
   ]
  },
  {
   "cell_type": "code",
   "execution_count": 77,
   "id": "4fd3c4b2-6eab-488d-88fc-6dccf7888ec0",
   "metadata": {},
   "outputs": [
    {
     "data": {
      "text/plain": [
       "56.0"
      ]
     },
     "execution_count": 77,
     "metadata": {},
     "output_type": "execute_result"
    }
   ],
   "source": [
    "X.revol_util.median()"
   ]
  },
  {
   "cell_type": "code",
   "execution_count": 78,
   "id": "f5574fe0-f832-4f13-b403-aaacd259515e",
   "metadata": {},
   "outputs": [],
   "source": [
    "X.revol_util.fillna(56,inplace=True)\n",
    "X2.revol_util.fillna(56,inplace=True)"
   ]
  },
  {
   "cell_type": "code",
   "execution_count": 79,
   "id": "2fa295a6-be3e-466a-bcaf-1c847bc0dcea",
   "metadata": {},
   "outputs": [],
   "source": [
    "X.delinq_2yrs.fillna(0,inplace=True)\n",
    "X2.delinq_2yrs.fillna(0,inplace=True)"
   ]
  },
  {
   "cell_type": "code",
   "execution_count": 80,
   "id": "824a4206-ada6-41a9-ab21-8c7fd1cf88ef",
   "metadata": {},
   "outputs": [
    {
     "data": {
      "text/plain": [
       "11.0"
      ]
     },
     "execution_count": 80,
     "metadata": {},
     "output_type": "execute_result"
    }
   ],
   "source": [
    "X.open_acc.median()"
   ]
  },
  {
   "cell_type": "code",
   "execution_count": 81,
   "id": "576e36ae-32cc-4b76-917e-d8763ffb9995",
   "metadata": {},
   "outputs": [],
   "source": [
    "X.open_acc.fillna(11,inplace=True)\n",
    "X2.open_acc.fillna(11,inplace=True)"
   ]
  },
  {
   "cell_type": "code",
   "execution_count": 82,
   "id": "70ef3a34-31dd-413f-bc3c-7d5529a8b161",
   "metadata": {},
   "outputs": [
    {
     "data": {
      "text/plain": [
       "count    887350.000000\n",
       "mean         25.268026\n",
       "std          11.840561\n",
       "min           1.000000\n",
       "25%          17.000000\n",
       "50%          24.000000\n",
       "75%          32.000000\n",
       "max         169.000000\n",
       "Name: total_acc, dtype: float64"
      ]
     },
     "execution_count": 82,
     "metadata": {},
     "output_type": "execute_result"
    }
   ],
   "source": [
    "X.total_acc.describe()"
   ]
  },
  {
   "cell_type": "code",
   "execution_count": 83,
   "id": "8800019f-ea12-43ac-b734-64907d4663d7",
   "metadata": {},
   "outputs": [],
   "source": [
    "X.total_acc.fillna(24,inplace=True)\n",
    "X2.total_acc.fillna(24,inplace=True)"
   ]
  },
  {
   "cell_type": "markdown",
   "id": "872153e5-33c5-4480-8d2d-98e659dae583",
   "metadata": {},
   "source": [
    "For months since last derogatory action we will use np.inf to fill missing values for now (assuming they didn't occur). If this creates problems for models we might try to replace infinity later with just a very large number"
   ]
  },
  {
   "cell_type": "code",
   "execution_count": 84,
   "id": "f04097b0-b8a0-446d-b79c-70b5e8bae401",
   "metadata": {},
   "outputs": [],
   "source": [
    "X.mths_since_last_delinq.fillna(np.inf, inplace=True)\n",
    "X2.mths_since_last_delinq.fillna(np.inf, inplace=True)\n",
    "X.mths_since_last_major_derog.fillna(np.inf,inplace=True)\n",
    "X2.mths_since_last_major_derog.fillna(np.inf,inplace=True)\n",
    "X.mths_since_last_record.fillna(np.inf,inplace=True)\n",
    "X2.mths_since_last_record.fillna(np.inf,inplace=True)\n",
    "X.mths_since_rcnt_il.fillna(np.inf,inplace=True)\n",
    "X2.mths_since_rcnt_il.fillna(np.inf,inplace=True)"
   ]
  },
  {
   "cell_type": "code",
   "execution_count": 85,
   "id": "02074d97-29d3-4203-92fe-0090f64d95ac",
   "metadata": {},
   "outputs": [
    {
     "data": {
      "text/plain": [
       "loan_amnt                  0\n",
       "funded_amnt                0\n",
       "funded_amnt_inv            0\n",
       "term                       0\n",
       "int_rate                   0\n",
       "                       ...  \n",
       "inq_last_12m               0\n",
       "last_credit_pull_d        53\n",
       "last_pymnt_d           17659\n",
       "earliest_cr_line          29\n",
       "next_pymnt_d          252971\n",
       "Length: 68, dtype: int64"
      ]
     },
     "execution_count": 85,
     "metadata": {},
     "output_type": "execute_result"
    }
   ],
   "source": [
    "X.isna().sum()"
   ]
  },
  {
   "cell_type": "markdown",
   "id": "2caaad13-eab8-4fa1-b0cd-8dd65eead90b",
   "metadata": {},
   "source": [
    "All the time deltas we turned into numbers we replace missing values by the median of the training data"
   ]
  },
  {
   "cell_type": "code",
   "execution_count": 86,
   "id": "2369d42e-77b1-4e04-9346-fdd9eff49246",
   "metadata": {},
   "outputs": [
    {
     "data": {
      "text/plain": [
       "count    887326.000000\n",
       "mean        472.719828\n",
       "std         389.534823\n",
       "min        -884.000000\n",
       "25%         184.000000\n",
       "50%         365.000000\n",
       "75%         671.000000\n",
       "max        3136.000000\n",
       "Name: last_credit_pull_d, dtype: float64"
      ]
     },
     "execution_count": 86,
     "metadata": {},
     "output_type": "execute_result"
    }
   ],
   "source": [
    "X.last_credit_pull_d.describe()"
   ]
  },
  {
   "cell_type": "code",
   "execution_count": 87,
   "id": "a9c60d26-2fab-40d9-8829-d2a5b3e208c7",
   "metadata": {},
   "outputs": [],
   "source": [
    "X.last_credit_pull_d.fillna(365,inplace=True)\n",
    "X2.last_credit_pull_d.fillna(365,inplace=True)"
   ]
  },
  {
   "cell_type": "code",
   "execution_count": 88,
   "id": "93ec7df5-8294-4d8f-9af3-5be9bfaf111f",
   "metadata": {},
   "outputs": [
    {
     "data": {
      "text/plain": [
       "count    869720.000000\n",
       "mean        406.883764\n",
       "std         310.310296\n",
       "min           0.000000\n",
       "25%         153.000000\n",
       "50%         334.000000\n",
       "75%         579.000000\n",
       "max        2130.000000\n",
       "Name: last_pymnt_d, dtype: float64"
      ]
     },
     "execution_count": 88,
     "metadata": {},
     "output_type": "execute_result"
    }
   ],
   "source": [
    "X.last_pymnt_d.describe()"
   ]
  },
  {
   "cell_type": "code",
   "execution_count": 89,
   "id": "57146bb8-2117-46a3-883d-bc14aa0c54cf",
   "metadata": {},
   "outputs": [],
   "source": [
    "X.last_pymnt_d.fillna(334,inplace=True)\n",
    "X2.last_pymnt_d.fillna(334,inplace=True)"
   ]
  },
  {
   "cell_type": "code",
   "execution_count": 90,
   "id": "f0675376-1210-4666-8887-c86894b0b48b",
   "metadata": {},
   "outputs": [
    {
     "data": {
      "text/plain": [
       "count    887350.000000\n",
       "mean       5969.502444\n",
       "std        2726.220517\n",
       "min         184.000000\n",
       "25%        4110.000000\n",
       "50%        5419.000000\n",
       "75%        7336.000000\n",
       "max       25933.000000\n",
       "Name: earliest_cr_line, dtype: float64"
      ]
     },
     "execution_count": 90,
     "metadata": {},
     "output_type": "execute_result"
    }
   ],
   "source": [
    "X.earliest_cr_line.describe()"
   ]
  },
  {
   "cell_type": "code",
   "execution_count": 91,
   "id": "4ba479c2-89a7-461f-9adc-4208cb1ab0c7",
   "metadata": {},
   "outputs": [],
   "source": [
    "X.earliest_cr_line.fillna(5419,inplace=True)\n",
    "X2.earliest_cr_line.fillna(5419,inplace=True)"
   ]
  },
  {
   "cell_type": "code",
   "execution_count": 92,
   "id": "85af7a44-4d89-49b8-a9b3-a29c19bb37a0",
   "metadata": {},
   "outputs": [
    {
     "data": {
      "text/plain": [
       "count    634408.000000\n",
       "mean        387.325721\n",
       "std         281.101808\n",
       "min          31.000000\n",
       "25%         153.000000\n",
       "50%         306.000000\n",
       "75%         549.000000\n",
       "max        2010.000000\n",
       "Name: next_pymnt_d, dtype: float64"
      ]
     },
     "execution_count": 92,
     "metadata": {},
     "output_type": "execute_result"
    }
   ],
   "source": [
    "X.next_pymnt_d.describe()"
   ]
  },
  {
   "cell_type": "code",
   "execution_count": 93,
   "id": "5588812a-bbd9-4b8a-a113-1e07dc35e532",
   "metadata": {},
   "outputs": [],
   "source": [
    "X.next_pymnt_d.fillna(306,inplace=True)\n",
    "X2.next_pymnt_d.fillna(306,inplace=True)"
   ]
  },
  {
   "cell_type": "code",
   "execution_count": 94,
   "id": "c6708b5c-a649-4640-b930-91014bde02ec",
   "metadata": {},
   "outputs": [],
   "source": [
    "X.max_bal_bc.fillna(0,inplace=True)\n",
    "X2.max_bal_bc.fillna(0,inplace=True)"
   ]
  },
  {
   "cell_type": "code",
   "execution_count": 95,
   "id": "5cbb88b1-7ec7-4e28-b6cc-c66a1d842c19",
   "metadata": {},
   "outputs": [
    {
     "name": "stdout",
     "output_type": "stream",
     "text": [
      "annual_inc_joint\n"
     ]
    }
   ],
   "source": [
    "#Lets see what is still missing values in each data set\n",
    "for col in X.columns:\n",
    "    if X[col].isna().sum()>0:\n",
    "        print(col)"
   ]
  },
  {
   "cell_type": "code",
   "execution_count": 96,
   "id": "265fc982-df30-4d9a-ba74-27a3c463c28b",
   "metadata": {},
   "outputs": [
    {
     "data": {
      "text/html": [
       "<div>\n",
       "<style scoped>\n",
       "    .dataframe tbody tr th:only-of-type {\n",
       "        vertical-align: middle;\n",
       "    }\n",
       "\n",
       "    .dataframe tbody tr th {\n",
       "        vertical-align: top;\n",
       "    }\n",
       "\n",
       "    .dataframe thead th {\n",
       "        text-align: right;\n",
       "    }\n",
       "</style>\n",
       "<table border=\"1\" class=\"dataframe\">\n",
       "  <thead>\n",
       "    <tr style=\"text-align: right;\">\n",
       "      <th></th>\n",
       "      <th>annual_inc</th>\n",
       "      <th>annual_inc_joint</th>\n",
       "    </tr>\n",
       "  </thead>\n",
       "  <tbody>\n",
       "    <tr>\n",
       "      <th>42449</th>\n",
       "      <td>65000.0</td>\n",
       "      <td>NaN</td>\n",
       "    </tr>\n",
       "    <tr>\n",
       "      <th>42450</th>\n",
       "      <td>65000.0</td>\n",
       "      <td>NaN</td>\n",
       "    </tr>\n",
       "    <tr>\n",
       "      <th>42480</th>\n",
       "      <td>65000.0</td>\n",
       "      <td>NaN</td>\n",
       "    </tr>\n",
       "    <tr>\n",
       "      <th>42533</th>\n",
       "      <td>65000.0</td>\n",
       "      <td>NaN</td>\n",
       "    </tr>\n",
       "  </tbody>\n",
       "</table>\n",
       "</div>"
      ],
      "text/plain": [
       "       annual_inc  annual_inc_joint\n",
       "42449     65000.0               NaN\n",
       "42450     65000.0               NaN\n",
       "42480     65000.0               NaN\n",
       "42533     65000.0               NaN"
      ]
     },
     "execution_count": 96,
     "metadata": {},
     "output_type": "execute_result"
    }
   ],
   "source": [
    "#4 missing values here. Let's see what is going on in these\n",
    "X[X.annual_inc_joint.isna()][[\"annual_inc\",\"annual_inc_joint\"]]"
   ]
  },
  {
   "cell_type": "code",
   "execution_count": 97,
   "id": "cbfb09bd-17ff-4384-8015-51fcd47eb51d",
   "metadata": {},
   "outputs": [],
   "source": [
    "#These appear to be filled in values that were missing the annual income. We can just fill as before\n",
    "X.annual_inc_joint.fillna(X.annual_inc,inplace=True)"
   ]
  },
  {
   "cell_type": "code",
   "execution_count": 98,
   "id": "e9622730-a55c-446e-999c-7dd1eb04bc45",
   "metadata": {},
   "outputs": [
    {
     "name": "stdout",
     "output_type": "stream",
     "text": [
      "zip_code\n"
     ]
    }
   ],
   "source": [
    "#That took care of the last missing values in X. Let's look at X2\n",
    "for col in X2.columns:\n",
    "    if X2[col].isna().sum()>0:\n",
    "        print(col)"
   ]
  },
  {
   "cell_type": "markdown",
   "id": "75194e3e-5e1e-4bd1-bc86-eafc902fbc24",
   "metadata": {},
   "source": [
    "The zip code column in the test data is missing one value. For now we impute the most common one. "
   ]
  },
  {
   "cell_type": "code",
   "execution_count": 99,
   "id": "4da5bc4b-2057-4dd1-bdf4-510403307fce",
   "metadata": {},
   "outputs": [
    {
     "data": {
      "text/plain": [
       "945xx    9770\n",
       "Name: zip_code, dtype: int64"
      ]
     },
     "execution_count": 99,
     "metadata": {},
     "output_type": "execute_result"
    }
   ],
   "source": [
    "X.zip_code.value_counts().head(1)"
   ]
  },
  {
   "cell_type": "code",
   "execution_count": 100,
   "id": "cdf186ac-4f26-4be7-a24c-0ce05836368c",
   "metadata": {},
   "outputs": [
    {
     "data": {
      "text/plain": [
       "945xx    9770\n",
       "750xx    9417\n",
       "112xx    9272\n",
       "606xx    8641\n",
       "300xx    8126\n",
       "         ... \n",
       "569xx       1\n",
       "348xx       1\n",
       "819xx       1\n",
       "375xx       1\n",
       "507xx       1\n",
       "Name: zip_code, Length: 935, dtype: int64"
      ]
     },
     "execution_count": 100,
     "metadata": {},
     "output_type": "execute_result"
    }
   ],
   "source": [
    "X.zip_code.value_counts()"
   ]
  },
  {
   "cell_type": "code",
   "execution_count": 101,
   "id": "efe3f1aa-15c0-483f-8037-1d06b745f5ec",
   "metadata": {},
   "outputs": [],
   "source": [
    "X2.zip_code.fillna(\"945xx\",inplace=True)"
   ]
  },
  {
   "cell_type": "code",
   "execution_count": 102,
   "id": "0eff9440-a7dc-4040-aaaf-dbf9e778e22d",
   "metadata": {},
   "outputs": [
    {
     "data": {
      "text/plain": [
       "0"
      ]
     },
     "execution_count": 102,
     "metadata": {},
     "output_type": "execute_result"
    }
   ],
   "source": [
    "X2.isna().sum().max()"
   ]
  },
  {
   "cell_type": "markdown",
   "id": "7d256464-023c-46d8-a229-d1ac0a9dcf56",
   "metadata": {},
   "source": [
    "We now have no missing values in our data. We can create a target vector based on the values in the loan status column"
   ]
  },
  {
   "cell_type": "code",
   "execution_count": 103,
   "id": "9d3ee428-de78-44c5-9354-3643a5531b33",
   "metadata": {},
   "outputs": [
    {
     "data": {
      "text/plain": [
       "Current                                                601779\n",
       "Fully Paid                                             207723\n",
       "Charged Off                                             45248\n",
       "Late (31-120 days)                                      11591\n",
       "Issued                                                   8460\n",
       "In Grace Period                                          6253\n",
       "Late (16-30 days)                                        2357\n",
       "Does not meet the credit policy. Status:Fully Paid       1988\n",
       "Default                                                  1219\n",
       "Does not meet the credit policy. Status:Charged Off       761\n",
       "Name: loan_status, dtype: int64"
      ]
     },
     "execution_count": 103,
     "metadata": {},
     "output_type": "execute_result"
    }
   ],
   "source": [
    "X['loan_status'].value_counts()"
   ]
  },
  {
   "cell_type": "code",
   "execution_count": 104,
   "id": "151c7b0b-9a0d-475e-87a8-8495c0bbb378",
   "metadata": {},
   "outputs": [
    {
     "data": {
      "text/plain": [
       "Current               565523\n",
       "Fully Paid            130718\n",
       "Charged Off            37197\n",
       "Late (31-120 days)     15354\n",
       "In Grace Period         6634\n",
       "Late (16-30 days)       3876\n",
       "Default                   36\n",
       "Name: loan_status, dtype: int64"
      ]
     },
     "execution_count": 104,
     "metadata": {},
     "output_type": "execute_result"
    }
   ],
   "source": [
    "X2['loan_status'].value_counts()"
   ]
  },
  {
   "cell_type": "code",
   "execution_count": 105,
   "id": "1d83bf69-faa4-4970-9352-16b7926e7364",
   "metadata": {},
   "outputs": [
    {
     "data": {
      "text/plain": [
       "array(['Current', 'Fully Paid', 'In Grace Period', 'Late (31-120 days)',\n",
       "       'Late (16-30 days)', 'Charged Off', 'Default'], dtype=object)"
      ]
     },
     "execution_count": 105,
     "metadata": {},
     "output_type": "execute_result"
    }
   ],
   "source": [
    "X2['loan_status'].unique()"
   ]
  },
  {
   "cell_type": "code",
   "execution_count": 106,
   "id": "5c8aafe4-c78a-475e-834f-48c5e2c3b763",
   "metadata": {},
   "outputs": [],
   "source": [
    "#For each of the possible values of loan status , we put a 0 if favorable, 1 if unfavorable. \n",
    "#We any thing charged off, in default, or late more than a month unfavorable, otherwise favorable\n",
    "values=[0,1,0,1,1,0,0,0,1,0]"
   ]
  },
  {
   "cell_type": "code",
   "execution_count": 107,
   "id": "8de3e70d-9358-4248-b4e8-a97d5e1d2134",
   "metadata": {},
   "outputs": [],
   "source": [
    "#make a list of the values\n",
    "keys=list(X['loan_status'].unique())"
   ]
  },
  {
   "cell_type": "code",
   "execution_count": 108,
   "id": "e9e3d557-fcbd-4026-a8d3-335eccf97e46",
   "metadata": {},
   "outputs": [
    {
     "data": {
      "text/plain": [
       "['Fully Paid',\n",
       " 'Charged Off',\n",
       " 'Current',\n",
       " 'Default',\n",
       " 'Late (31-120 days)',\n",
       " 'In Grace Period',\n",
       " 'Late (16-30 days)',\n",
       " 'Does not meet the credit policy. Status:Fully Paid',\n",
       " 'Does not meet the credit policy. Status:Charged Off',\n",
       " 'Issued']"
      ]
     },
     "execution_count": 108,
     "metadata": {},
     "output_type": "execute_result"
    }
   ],
   "source": [
    "keys"
   ]
  },
  {
   "cell_type": "code",
   "execution_count": 109,
   "id": "fe41d149-6f70-498c-aa2a-b8600694e568",
   "metadata": {},
   "outputs": [],
   "source": [
    "#make a dictionary mapping each value possible in loan status to a 0 or 1\n",
    "dictionary=dict(zip(keys,values))"
   ]
  },
  {
   "cell_type": "code",
   "execution_count": 110,
   "id": "8f906da5-9e8a-4619-aeef-1539d97b8823",
   "metadata": {},
   "outputs": [
    {
     "name": "stdout",
     "output_type": "stream",
     "text": [
      "{'Fully Paid': 0, 'Charged Off': 1, 'Current': 0, 'Default': 1, 'Late (31-120 days)': 1, 'In Grace Period': 0, 'Late (16-30 days)': 0, 'Does not meet the credit policy. Status:Fully Paid': 0, 'Does not meet the credit policy. Status:Charged Off': 1, 'Issued': 0}\n"
     ]
    }
   ],
   "source": [
    "print(dictionary)"
   ]
  },
  {
   "cell_type": "code",
   "execution_count": null,
   "id": "fd680110-811f-4ccc-8d3b-c942be2dcd2c",
   "metadata": {},
   "outputs": [],
   "source": []
  },
  {
   "cell_type": "code",
   "execution_count": 111,
   "id": "6d66deca-ef75-47b8-a23b-11cf8588427f",
   "metadata": {},
   "outputs": [],
   "source": [
    "#replace the status with a 0 or 1 as appropriate\n",
    "X['target']=X['loan_status'].map(dictionary)\n",
    "X2['target']=X2['loan_status'].map(dictionary)\n",
    "X.drop(columns=['loan_status'],inplace=True)\n",
    "X2.drop(columns=['loan_status'],inplace=True)"
   ]
  },
  {
   "cell_type": "markdown",
   "id": "fe9b5763-33b9-45f7-9d61-42c6cfd58b7f",
   "metadata": {},
   "source": [
    "We can see what percentage of loans are considered bad"
   ]
  },
  {
   "cell_type": "code",
   "execution_count": 112,
   "id": "d5e61809-c774-43fd-a40d-dc971b408e5b",
   "metadata": {},
   "outputs": [
    {
     "name": "stdout",
     "output_type": "stream",
     "text": [
      "The training data has  6.628396660277063 % of loans that are bad\n",
      "The test data has  6.925374470920723 % of loans that are bad\n",
      "There were  58819 bad loans in the training data\n",
      "There were  52587 bad loans in the test data\n"
     ]
    }
   ],
   "source": [
    "print(\"The training data has \",X['target'].sum()/len(X['target'])*100,\"% of loans that are bad\")\n",
    "print(\"The test data has \",X2['target'].sum()/len(X2['target'])*100,\"% of loans that are bad\")\n",
    "print(\"There were \",X['target'].sum(), \"bad loans in the training data\")\n",
    "print(\"There were \",X2['target'].sum(), \"bad loans in the test data\")"
   ]
  },
  {
   "cell_type": "markdown",
   "id": "b923f991-f1dd-477a-b2c7-d9977dc65dd8",
   "metadata": {},
   "source": [
    "We have very unbalanced data here. When we actually go to model we will have to try to deal with this."
   ]
  },
  {
   "cell_type": "markdown",
   "id": "6627ffc9-ad91-47e9-a46d-5bd93f8b1419",
   "metadata": {},
   "source": [
    "## Exploratory Data Analysis"
   ]
  },
  {
   "cell_type": "markdown",
   "id": "086683b4-0632-42ce-9b6a-17538fdcdf40",
   "metadata": {},
   "source": [
    "Many of the features had almost all values missing. There's a very small positive class so we'll examine those to see how the positive class relates to those"
   ]
  },
  {
   "cell_type": "code",
   "execution_count": 113,
   "id": "de38384c-84f0-43a9-8116-ef98ee1bfbcc",
   "metadata": {},
   "outputs": [
    {
     "data": {
      "text/plain": [
       "0    0\n",
       "1    1\n",
       "2    0\n",
       "3    0\n",
       "4    0\n",
       "Name: loan_status, dtype: int64"
      ]
     },
     "execution_count": 113,
     "metadata": {},
     "output_type": "execute_result"
    }
   ],
   "source": [
    "#First we make a version of the target vector including the joint loans so we can compare to missing values. \n",
    "#we don't want to compare to filled values \n",
    "temp_target=df.loan_status.map(dictionary)\n",
    "temp_target.head()\n"
   ]
  },
  {
   "cell_type": "code",
   "execution_count": 114,
   "id": "9c7f218f-c856-4b4f-bf0c-27c78ff09a7d",
   "metadata": {},
   "outputs": [
    {
     "data": {
      "text/plain": [
       "868762"
      ]
     },
     "execution_count": 114,
     "metadata": {},
     "output_type": "execute_result"
    }
   ],
   "source": [
    "#First the il_util column\n",
    "df.il_util.isna().sum()"
   ]
  },
  {
   "cell_type": "code",
   "execution_count": 115,
   "id": "4a4d4b8f-6849-43c5-87dd-51460f5a511d",
   "metadata": {},
   "outputs": [],
   "source": [
    "temp_y=temp_target[df.il_util.notnull()]\n"
   ]
  },
  {
   "cell_type": "code",
   "execution_count": 116,
   "id": "cbc4da79-9fba-4720-8b87-80c9cd7679ac",
   "metadata": {},
   "outputs": [
    {
     "data": {
      "text/plain": [
       "0"
      ]
     },
     "execution_count": 116,
     "metadata": {},
     "output_type": "execute_result"
    }
   ],
   "source": [
    "temp_y.sum()"
   ]
  },
  {
   "cell_type": "code",
   "execution_count": 117,
   "id": "e330a186-a40e-4f7a-95f1-ef21a6365c91",
   "metadata": {},
   "outputs": [],
   "source": [
    "#Next the months since recent utilization of installment loan\n",
    "temp_y=temp_target[df.mths_since_rcnt_il.notnull()]"
   ]
  },
  {
   "cell_type": "code",
   "execution_count": 118,
   "id": "d5b3180c-ca03-4719-b7d1-5188dbf16caf",
   "metadata": {},
   "outputs": [
    {
     "data": {
      "text/plain": [
       "0"
      ]
     },
     "execution_count": 118,
     "metadata": {},
     "output_type": "execute_result"
    }
   ],
   "source": [
    "temp_y.sum()"
   ]
  },
  {
   "cell_type": "code",
   "execution_count": 119,
   "id": "f33e5fd0-1275-4574-ace6-8013c0b49ea3",
   "metadata": {},
   "outputs": [
    {
     "data": {
      "text/plain": [
       "0"
      ]
     },
     "execution_count": 119,
     "metadata": {},
     "output_type": "execute_result"
    }
   ],
   "source": [
    "#Next the all_util column\n",
    "temp_y=temp_target[df.all_util.notnull()]\n",
    "temp_y.sum()"
   ]
  },
  {
   "cell_type": "code",
   "execution_count": 120,
   "id": "ad790ef6-5b81-4a8d-9d26-a0cac27bdd69",
   "metadata": {},
   "outputs": [
    {
     "data": {
      "text/plain": [
       "0"
      ]
     },
     "execution_count": 120,
     "metadata": {},
     "output_type": "execute_result"
    }
   ],
   "source": [
    "#Next the inq_fi column\n",
    "temp_y=temp_target[df.inq_fi.notnull()]\n",
    "temp_y.sum()"
   ]
  },
  {
   "cell_type": "code",
   "execution_count": 121,
   "id": "bb4a3800-14f4-4e38-9152-0d33ec9a8817",
   "metadata": {},
   "outputs": [
    {
     "data": {
      "text/plain": [
       "0"
      ]
     },
     "execution_count": 121,
     "metadata": {},
     "output_type": "execute_result"
    }
   ],
   "source": [
    "#next the inq_last_12m\n",
    "temp_y=temp_target[df.inq_last_12m.notnull()]\n",
    "temp_y.sum()"
   ]
  },
  {
   "cell_type": "code",
   "execution_count": 122,
   "id": "07cd4b17-992f-4a04-bee6-0b621dd3e498",
   "metadata": {},
   "outputs": [
    {
     "data": {
      "text/plain": [
       "0"
      ]
     },
     "execution_count": 122,
     "metadata": {},
     "output_type": "execute_result"
    }
   ],
   "source": [
    "#next max_bal_bc column\n",
    "temp_y=temp_target[df.max_bal_bc.notnull()]\n",
    "temp_y.sum()"
   ]
  },
  {
   "cell_type": "code",
   "execution_count": 123,
   "id": "c7314d1b-f3e9-4efe-90cf-d50f9e376fe8",
   "metadata": {},
   "outputs": [
    {
     "data": {
      "text/plain": [
       "0"
      ]
     },
     "execution_count": 123,
     "metadata": {},
     "output_type": "execute_result"
    }
   ],
   "source": [
    "#next the open_acc_6m column\n",
    "temp_y=temp_target[df.open_acc_6m.notnull()]\n",
    "temp_y.sum()"
   ]
  },
  {
   "cell_type": "code",
   "execution_count": 124,
   "id": "5f17e3ea-5603-46c5-bd18-ffc65a1d33e1",
   "metadata": {},
   "outputs": [
    {
     "data": {
      "text/plain": [
       "0"
      ]
     },
     "execution_count": 124,
     "metadata": {},
     "output_type": "execute_result"
    }
   ],
   "source": [
    "#next the open_il_6m column\n",
    "temp_y=temp_target[df.open_il_6m.notnull()]\n",
    "temp_y.sum()"
   ]
  },
  {
   "cell_type": "code",
   "execution_count": 125,
   "id": "62d57b69-76c6-45c0-a9b2-beac3362c6dc",
   "metadata": {},
   "outputs": [
    {
     "data": {
      "text/plain": [
       "0"
      ]
     },
     "execution_count": 125,
     "metadata": {},
     "output_type": "execute_result"
    }
   ],
   "source": [
    "#next the open_il_12m column\n",
    "temp_y=temp_target[df.open_il_12m.notnull()]\n",
    "temp_y.sum()"
   ]
  },
  {
   "cell_type": "code",
   "execution_count": 126,
   "id": "8086064e-beeb-4782-8e17-f516e1ce7b05",
   "metadata": {},
   "outputs": [
    {
     "data": {
      "text/plain": [
       "0"
      ]
     },
     "execution_count": 126,
     "metadata": {},
     "output_type": "execute_result"
    }
   ],
   "source": [
    "#next the open_il_24m column\n",
    "temp_y=temp_target[df.open_il_24m.notnull()]\n",
    "temp_y.sum()"
   ]
  },
  {
   "cell_type": "code",
   "execution_count": 127,
   "id": "529f14d9-7ba8-4972-b6b0-f51fa3a8bfc2",
   "metadata": {},
   "outputs": [
    {
     "data": {
      "text/plain": [
       "0"
      ]
     },
     "execution_count": 127,
     "metadata": {},
     "output_type": "execute_result"
    }
   ],
   "source": [
    "#next the open_rv_12m column\n",
    "temp_y=temp_target[df.open_rv_12m.notnull()]\n",
    "temp_y.sum()"
   ]
  },
  {
   "cell_type": "code",
   "execution_count": 128,
   "id": "20a46316-414f-4fe4-8b7e-01fdc2a43d6e",
   "metadata": {},
   "outputs": [
    {
     "data": {
      "text/plain": [
       "0"
      ]
     },
     "execution_count": 128,
     "metadata": {},
     "output_type": "execute_result"
    }
   ],
   "source": [
    "temp_y=temp_target[df.inq_last_12m.notnull()]\n",
    "temp_y.sum()"
   ]
  },
  {
   "cell_type": "markdown",
   "id": "dee166de-af95-41c2-9e07-f57d8019cd77",
   "metadata": {},
   "source": [
    "We are seeing a pattern here that many of these fields that had the vast majority of the entries missing had no members of the positive class when we did have information about them. This makes them feel dangerous to use as we could only make an intelligent guess as to what to put in. "
   ]
  },
  {
   "cell_type": "code",
   "execution_count": 129,
   "id": "b2b3e09d-1435-4637-80fd-d182d4479c81",
   "metadata": {},
   "outputs": [],
   "source": [
    "#We want to make a copy of the data. We keep the old copy with those columns in case\n",
    "#we want to use them in the future\n",
    "X_old=X\n",
    "dropcols=[]\n",
    "for col in X.columns:\n",
    "    if col!=\"target\":\n",
    "            if df[col].isna().sum()>=860000:\n",
    "                dropcols.append(col)"
   ]
  },
  {
   "cell_type": "code",
   "execution_count": 130,
   "id": "02b0b2a8-6242-4cf9-a3a1-75e00cfd33a0",
   "metadata": {},
   "outputs": [
    {
     "data": {
      "text/plain": [
       "['annual_inc_joint',\n",
       " 'dti_joint',\n",
       " 'verification_status_joint',\n",
       " 'open_acc_6m',\n",
       " 'open_il_12m',\n",
       " 'open_il_24m',\n",
       " 'mths_since_rcnt_il',\n",
       " 'total_bal_il',\n",
       " 'il_util',\n",
       " 'open_rv_12m',\n",
       " 'open_rv_24m',\n",
       " 'max_bal_bc',\n",
       " 'all_util',\n",
       " 'inq_fi',\n",
       " 'total_cu_tl',\n",
       " 'inq_last_12m']"
      ]
     },
     "execution_count": 130,
     "metadata": {},
     "output_type": "execute_result"
    }
   ],
   "source": [
    "dropcols"
   ]
  },
  {
   "cell_type": "markdown",
   "id": "b43e51f0-59da-4964-af2c-f98696cbacd7",
   "metadata": {},
   "source": [
    "These columns are mostly filled in and we saw that the ones with non-null values all were in the negative class. The actual values therefore aren't really useful to us, but it could be useful to know whether it was missing and how many of these were missing. We first replace the actual value of each one with a marker to indicate it was missing. We don't want to include the joint application data as we took care of that separately"
   ]
  },
  {
   "cell_type": "code",
   "execution_count": 131,
   "id": "d8aff433-f413-4307-bb6f-a3484824fe40",
   "metadata": {},
   "outputs": [],
   "source": [
    "dropcols.remove('annual_inc_joint')\n",
    "dropcols.remove('dti_joint')\n",
    "dropcols.remove('verification_status_joint')"
   ]
  },
  {
   "cell_type": "code",
   "execution_count": 132,
   "id": "cbb7d8b6-a5c2-4193-adfa-e53282df0f54",
   "metadata": {},
   "outputs": [],
   "source": [
    "#replace each of the remaining columns with a True/False depending on if they were null\n",
    "for col in dropcols:\n",
    "    X[col]=df[col].isna().astype(int)"
   ]
  },
  {
   "cell_type": "code",
   "execution_count": 133,
   "id": "4ca38ec3-05ca-4291-8f79-edd2ad1eb1b3",
   "metadata": {},
   "outputs": [
    {
     "data": {
      "text/html": [
       "<div>\n",
       "<style scoped>\n",
       "    .dataframe tbody tr th:only-of-type {\n",
       "        vertical-align: middle;\n",
       "    }\n",
       "\n",
       "    .dataframe tbody tr th {\n",
       "        vertical-align: top;\n",
       "    }\n",
       "\n",
       "    .dataframe thead th {\n",
       "        text-align: right;\n",
       "    }\n",
       "</style>\n",
       "<table border=\"1\" class=\"dataframe\">\n",
       "  <thead>\n",
       "    <tr style=\"text-align: right;\">\n",
       "      <th></th>\n",
       "      <th>open_acc_6m</th>\n",
       "      <th>open_il_12m</th>\n",
       "      <th>open_il_24m</th>\n",
       "      <th>mths_since_rcnt_il</th>\n",
       "      <th>total_bal_il</th>\n",
       "      <th>il_util</th>\n",
       "      <th>open_rv_12m</th>\n",
       "      <th>open_rv_24m</th>\n",
       "      <th>max_bal_bc</th>\n",
       "      <th>all_util</th>\n",
       "      <th>inq_fi</th>\n",
       "      <th>total_cu_tl</th>\n",
       "      <th>inq_last_12m</th>\n",
       "    </tr>\n",
       "  </thead>\n",
       "  <tbody>\n",
       "    <tr>\n",
       "      <th>0</th>\n",
       "      <td>1</td>\n",
       "      <td>1</td>\n",
       "      <td>1</td>\n",
       "      <td>1</td>\n",
       "      <td>1</td>\n",
       "      <td>1</td>\n",
       "      <td>1</td>\n",
       "      <td>1</td>\n",
       "      <td>1</td>\n",
       "      <td>1</td>\n",
       "      <td>1</td>\n",
       "      <td>1</td>\n",
       "      <td>1</td>\n",
       "    </tr>\n",
       "    <tr>\n",
       "      <th>1</th>\n",
       "      <td>1</td>\n",
       "      <td>1</td>\n",
       "      <td>1</td>\n",
       "      <td>1</td>\n",
       "      <td>1</td>\n",
       "      <td>1</td>\n",
       "      <td>1</td>\n",
       "      <td>1</td>\n",
       "      <td>1</td>\n",
       "      <td>1</td>\n",
       "      <td>1</td>\n",
       "      <td>1</td>\n",
       "      <td>1</td>\n",
       "    </tr>\n",
       "    <tr>\n",
       "      <th>2</th>\n",
       "      <td>1</td>\n",
       "      <td>1</td>\n",
       "      <td>1</td>\n",
       "      <td>1</td>\n",
       "      <td>1</td>\n",
       "      <td>1</td>\n",
       "      <td>1</td>\n",
       "      <td>1</td>\n",
       "      <td>1</td>\n",
       "      <td>1</td>\n",
       "      <td>1</td>\n",
       "      <td>1</td>\n",
       "      <td>1</td>\n",
       "    </tr>\n",
       "    <tr>\n",
       "      <th>3</th>\n",
       "      <td>1</td>\n",
       "      <td>1</td>\n",
       "      <td>1</td>\n",
       "      <td>1</td>\n",
       "      <td>1</td>\n",
       "      <td>1</td>\n",
       "      <td>1</td>\n",
       "      <td>1</td>\n",
       "      <td>1</td>\n",
       "      <td>1</td>\n",
       "      <td>1</td>\n",
       "      <td>1</td>\n",
       "      <td>1</td>\n",
       "    </tr>\n",
       "    <tr>\n",
       "      <th>4</th>\n",
       "      <td>1</td>\n",
       "      <td>1</td>\n",
       "      <td>1</td>\n",
       "      <td>1</td>\n",
       "      <td>1</td>\n",
       "      <td>1</td>\n",
       "      <td>1</td>\n",
       "      <td>1</td>\n",
       "      <td>1</td>\n",
       "      <td>1</td>\n",
       "      <td>1</td>\n",
       "      <td>1</td>\n",
       "      <td>1</td>\n",
       "    </tr>\n",
       "  </tbody>\n",
       "</table>\n",
       "</div>"
      ],
      "text/plain": [
       "   open_acc_6m  open_il_12m  open_il_24m  mths_since_rcnt_il  total_bal_il  \\\n",
       "0            1            1            1                   1             1   \n",
       "1            1            1            1                   1             1   \n",
       "2            1            1            1                   1             1   \n",
       "3            1            1            1                   1             1   \n",
       "4            1            1            1                   1             1   \n",
       "\n",
       "   il_util  open_rv_12m  open_rv_24m  max_bal_bc  all_util  inq_fi  \\\n",
       "0        1            1            1           1         1       1   \n",
       "1        1            1            1           1         1       1   \n",
       "2        1            1            1           1         1       1   \n",
       "3        1            1            1           1         1       1   \n",
       "4        1            1            1           1         1       1   \n",
       "\n",
       "   total_cu_tl  inq_last_12m  \n",
       "0            1             1  \n",
       "1            1             1  \n",
       "2            1             1  \n",
       "3            1             1  \n",
       "4            1             1  "
      ]
     },
     "execution_count": 133,
     "metadata": {},
     "output_type": "execute_result"
    }
   ],
   "source": [
    "X[dropcols].head()"
   ]
  },
  {
   "cell_type": "code",
   "execution_count": 134,
   "id": "6b0ec8f4-7603-4134-b59b-39badc516839",
   "metadata": {},
   "outputs": [],
   "source": [
    "X['missing_columns']=X[dropcols].sum(axis=1)"
   ]
  },
  {
   "cell_type": "code",
   "execution_count": 135,
   "id": "0cf6b6b1-5271-4ef3-9a0a-4fec2688f42f",
   "metadata": {},
   "outputs": [
    {
     "data": {
      "text/plain": [
       "0    13\n",
       "1    13\n",
       "2    13\n",
       "3    13\n",
       "4    13\n",
       "Name: missing_columns, dtype: int64"
      ]
     },
     "execution_count": 135,
     "metadata": {},
     "output_type": "execute_result"
    }
   ],
   "source": [
    "X.missing_columns.head()"
   ]
  },
  {
   "cell_type": "code",
   "execution_count": 136,
   "id": "11e778de-0048-40ad-af2f-e862fe2e0f1b",
   "metadata": {},
   "outputs": [
    {
     "data": {
      "text/plain": [
       "13    866007\n",
       "0      18591\n",
       "1       2245\n",
       "2        536\n",
       "Name: missing_columns, dtype: int64"
      ]
     },
     "execution_count": 136,
     "metadata": {},
     "output_type": "execute_result"
    }
   ],
   "source": [
    "X.missing_columns.value_counts()"
   ]
  },
  {
   "cell_type": "code",
   "execution_count": 137,
   "id": "392e54d9-fd44-4c85-a6e4-8b7ad0b16bb2",
   "metadata": {},
   "outputs": [],
   "source": [
    "#Now we can remove the individual ones\n",
    "X.drop(columns=dropcols,inplace=True)"
   ]
  },
  {
   "cell_type": "code",
   "execution_count": 138,
   "id": "2cc05773-760c-4b36-98e0-d25fd2024461",
   "metadata": {},
   "outputs": [
    {
     "name": "stdout",
     "output_type": "stream",
     "text": [
      "27323\n",
      "47900\n"
     ]
    }
   ],
   "source": [
    "#there were a few others with not quite as many missing values we can look at\n",
    "temp_y=temp_target[df.mths_since_last_delinq.notnull()]\n",
    "print(temp_y.sum())\n",
    "temp_y=temp_target[df.tot_coll_amt.notnull()]\n",
    "print(temp_y.sum())"
   ]
  },
  {
   "cell_type": "markdown",
   "id": "6707eb9f-03ad-41c2-a9fe-a9102a36d922",
   "metadata": {},
   "source": [
    "Unlike the previous ones, the ones with actual information in them contain many positive class entries. We can see if the actual values they have seem to affect the outcome"
   ]
  },
  {
   "cell_type": "code",
   "execution_count": 139,
   "id": "1df00a5b-16bd-43b8-9d95-f6e34e09bd75",
   "metadata": {},
   "outputs": [
    {
     "data": {
      "image/png": "[encoded data removed]",
      "text/plain": [
       "<Figure size 432x288 with 1 Axes>"
      ]
     },
     "metadata": {
      "needs_background": "light"
     },
     "output_type": "display_data"
    }
   ],
   "source": [
    "sns.scatterplot(x=X.mths_since_last_delinq,y=X.tot_coll_amt,hue=X.target)\n",
    "plt.show()"
   ]
  },
  {
   "cell_type": "code",
   "execution_count": 140,
   "id": "dc2e1b19-97af-4640-88ab-0ab07e8cdb3d",
   "metadata": {},
   "outputs": [],
   "source": [
    "#there is one outlier that is clearly skewing the picture so we can try to remove it#\n",
    "X_outlier_removed=X[X.tot_coll_amt<X.tot_coll_amt.max()]"
   ]
  },
  {
   "cell_type": "code",
   "execution_count": 141,
   "id": "19a42a9a-3cb3-4e45-a549-2fdccf17af6d",
   "metadata": {},
   "outputs": [
    {
     "data": {
      "image/png": "[encoded data removed]",
      "text/plain": [
       "<Figure size 432x288 with 1 Axes>"
      ]
     },
     "metadata": {
      "needs_background": "light"
     },
     "output_type": "display_data"
    }
   ],
   "source": [
    "sns.scatterplot(x=X_outlier_removed.mths_since_last_delinq,y=X_outlier_removed.tot_coll_amt,hue=X_outlier_removed.target)\n",
    "plt.show()"
   ]
  },
  {
   "cell_type": "markdown",
   "id": "dd7424a5-1f53-4556-96da-c9230caf881a",
   "metadata": {},
   "source": [
    "There is no obvious pattern but that one outlier definitely appears troubling. Let's see what that data point looks like"
   ]
  },
  {
   "cell_type": "code",
   "execution_count": 142,
   "id": "e0491dc2-18e0-40ed-9d56-39da8f683b5f",
   "metadata": {},
   "outputs": [
    {
     "data": {
      "text/html": [
       "<div>\n",
       "<style scoped>\n",
       "    .dataframe tbody tr th:only-of-type {\n",
       "        vertical-align: middle;\n",
       "    }\n",
       "\n",
       "    .dataframe tbody tr th {\n",
       "        vertical-align: top;\n",
       "    }\n",
       "\n",
       "    .dataframe thead th {\n",
       "        text-align: right;\n",
       "    }\n",
       "</style>\n",
       "<table border=\"1\" class=\"dataframe\">\n",
       "  <thead>\n",
       "    <tr style=\"text-align: right;\">\n",
       "      <th></th>\n",
       "      <th>loan_amnt</th>\n",
       "      <th>funded_amnt</th>\n",
       "      <th>funded_amnt_inv</th>\n",
       "      <th>term</th>\n",
       "      <th>int_rate</th>\n",
       "      <th>installment</th>\n",
       "      <th>grade</th>\n",
       "      <th>sub_grade</th>\n",
       "      <th>emp_title</th>\n",
       "      <th>emp_length</th>\n",
       "      <th>...</th>\n",
       "      <th>acc_now_delinq</th>\n",
       "      <th>tot_coll_amt</th>\n",
       "      <th>tot_cur_bal</th>\n",
       "      <th>total_rev_hi_lim</th>\n",
       "      <th>last_credit_pull_d</th>\n",
       "      <th>last_pymnt_d</th>\n",
       "      <th>earliest_cr_line</th>\n",
       "      <th>next_pymnt_d</th>\n",
       "      <th>target</th>\n",
       "      <th>missing_columns</th>\n",
       "    </tr>\n",
       "  </thead>\n",
       "  <tbody>\n",
       "    <tr>\n",
       "      <th>416962</th>\n",
       "      <td>10800.0</td>\n",
       "      <td>10800.0</td>\n",
       "      <td>10800.0</td>\n",
       "      <td>36 months</td>\n",
       "      <td>15.31</td>\n",
       "      <td>376.03</td>\n",
       "      <td>C</td>\n",
       "      <td>C4</td>\n",
       "      <td>Attorney</td>\n",
       "      <td>1.0</td>\n",
       "      <td>...</td>\n",
       "      <td>0.0</td>\n",
       "      <td>9152545.0</td>\n",
       "      <td>233924.0</td>\n",
       "      <td>13600.0</td>\n",
       "      <td>640.0</td>\n",
       "      <td>609.0</td>\n",
       "      <td>4292.0</td>\n",
       "      <td>306.0</td>\n",
       "      <td>0</td>\n",
       "      <td>13</td>\n",
       "    </tr>\n",
       "  </tbody>\n",
       "</table>\n",
       "<p>1 rows × 56 columns</p>\n",
       "</div>"
      ],
      "text/plain": [
       "        loan_amnt  funded_amnt  funded_amnt_inv        term  int_rate  \\\n",
       "416962    10800.0      10800.0          10800.0   36 months     15.31   \n",
       "\n",
       "        installment grade sub_grade emp_title  emp_length  ... acc_now_delinq  \\\n",
       "416962       376.03     C        C4  Attorney         1.0  ...            0.0   \n",
       "\n",
       "        tot_coll_amt tot_cur_bal total_rev_hi_lim last_credit_pull_d  \\\n",
       "416962     9152545.0    233924.0          13600.0              640.0   \n",
       "\n",
       "       last_pymnt_d earliest_cr_line next_pymnt_d  target  missing_columns  \n",
       "416962        609.0           4292.0        306.0       0               13  \n",
       "\n",
       "[1 rows x 56 columns]"
      ]
     },
     "execution_count": 142,
     "metadata": {},
     "output_type": "execute_result"
    }
   ],
   "source": [
    "X[X.tot_coll_amt==X.tot_coll_amt.max()]"
   ]
  },
  {
   "cell_type": "markdown",
   "id": "97855a63-ab1d-4d66-8ba8-9cf70624344c",
   "metadata": {},
   "source": [
    "This looks a bit odd, but as long as we stick to decision tree based algorithms, it's unlikely to throw things off. If we use anything that we need to normalize and attach weights, it might be best to throw out this outlier"
   ]
  },
  {
   "cell_type": "markdown",
   "id": "5d9312d1-1fd1-4518-9a09-2294bb055408",
   "metadata": {},
   "source": [
    "Before looking at effects of DTI or income we want to make one column for each. For individuals this will be the same we had before, but for joint applications it will be the average"
   ]
  },
  {
   "cell_type": "code",
   "execution_count": 143,
   "id": "5d5b3a86-1a48-4041-ba9c-372da614ff76",
   "metadata": {},
   "outputs": [],
   "source": [
    "X.dti=(X.dti+X.dti_joint)/2\n",
    "X2.dti=(X2.dti+X2.dti_joint)/2\n",
    "X.annual_inc=(X.annual_inc+X.annual_inc_joint)/2\n",
    "X2.annual_inc=(X2.annual_inc+X2.annual_inc_joint)/2"
   ]
  },
  {
   "cell_type": "code",
   "execution_count": 144,
   "id": "bd798186-5381-455b-8c25-a4ae897727f9",
   "metadata": {},
   "outputs": [],
   "source": [
    "#Now we can drop the joint dti and joint income columns\n",
    "X.drop(columns=['dti_joint','annual_inc_joint'],inplace=True)\n",
    "X2.drop(columns=['dti_joint','annual_inc_joint'],inplace=True)"
   ]
  },
  {
   "cell_type": "code",
   "execution_count": 145,
   "id": "d7a87218-0dc5-4260-9fd5-eb8ac9b91611",
   "metadata": {},
   "outputs": [
    {
     "data": {
      "text/plain": [
       "<AxesSubplot:xlabel='dti', ylabel='annual_inc'>"
      ]
     },
     "execution_count": 145,
     "metadata": {},
     "output_type": "execute_result"
    },
    {
     "data": {
      "image/png": "[encoded data removed]",
      "text/plain": [
       "<Figure size 432x288 with 1 Axes>"
      ]
     },
     "metadata": {
      "needs_background": "light"
     },
     "output_type": "display_data"
    }
   ],
   "source": [
    "sns.scatterplot(data=X,x='dti',y='annual_inc',hue='target')"
   ]
  },
  {
   "cell_type": "code",
   "execution_count": 146,
   "id": "3b842d8d-5e29-4a65-a9b1-29c903ed3a03",
   "metadata": {},
   "outputs": [
    {
     "data": {
      "text/plain": [
       "count    887379.000000\n",
       "mean         18.141741\n",
       "std          11.203499\n",
       "min           0.000000\n",
       "25%          11.910000\n",
       "50%          17.650000\n",
       "75%          23.940000\n",
       "max        5013.860000\n",
       "Name: dti, dtype: float64"
      ]
     },
     "execution_count": 146,
     "metadata": {},
     "output_type": "execute_result"
    }
   ],
   "source": [
    "X.dti.describe()"
   ]
  },
  {
   "cell_type": "code",
   "execution_count": 147,
   "id": "f85c5416-15ce-4fb7-87d3-c92dade0d779",
   "metadata": {},
   "outputs": [
    {
     "data": {
      "text/plain": [
       "(2, 54)"
      ]
     },
     "execution_count": 147,
     "metadata": {},
     "output_type": "execute_result"
    }
   ],
   "source": [
    "X[X.dti>1000].shape"
   ]
  },
  {
   "cell_type": "code",
   "execution_count": 148,
   "id": "14337a6d-f71c-4a86-8fb5-960ec66642b4",
   "metadata": {},
   "outputs": [
    {
     "data": {
      "text/html": [
       "<div>\n",
       "<style scoped>\n",
       "    .dataframe tbody tr th:only-of-type {\n",
       "        vertical-align: middle;\n",
       "    }\n",
       "\n",
       "    .dataframe tbody tr th {\n",
       "        vertical-align: top;\n",
       "    }\n",
       "\n",
       "    .dataframe thead th {\n",
       "        text-align: right;\n",
       "    }\n",
       "</style>\n",
       "<table border=\"1\" class=\"dataframe\">\n",
       "  <thead>\n",
       "    <tr style=\"text-align: right;\">\n",
       "      <th></th>\n",
       "      <th>annual_inc</th>\n",
       "      <th>tot_cur_bal</th>\n",
       "      <th>dti</th>\n",
       "    </tr>\n",
       "  </thead>\n",
       "  <tbody>\n",
       "    <tr>\n",
       "      <th>484446</th>\n",
       "      <td>92500.0</td>\n",
       "      <td>8715.0</td>\n",
       "      <td>5002.155</td>\n",
       "    </tr>\n",
       "    <tr>\n",
       "      <th>531886</th>\n",
       "      <td>20494.0</td>\n",
       "      <td>24521.0</td>\n",
       "      <td>5013.860</td>\n",
       "    </tr>\n",
       "  </tbody>\n",
       "</table>\n",
       "</div>"
      ],
      "text/plain": [
       "        annual_inc  tot_cur_bal       dti\n",
       "484446     92500.0       8715.0  5002.155\n",
       "531886     20494.0      24521.0  5013.860"
      ]
     },
     "execution_count": 148,
     "metadata": {},
     "output_type": "execute_result"
    }
   ],
   "source": [
    "#two entries with DTI over 1000. This seems very unlikely, so let's look at these\n",
    "X[X.dti>1000][['annual_inc','tot_cur_bal','dti']]"
   ]
  },
  {
   "cell_type": "code",
   "execution_count": 149,
   "id": "7f2eba10-669d-4d9f-8de6-4810da5a86fe",
   "metadata": {},
   "outputs": [],
   "source": [
    "#These really look way off. even the lower income one would be an unreasonable amount of debt. We remove these outliers\n",
    "X=X[X.dti<=1000]"
   ]
  },
  {
   "cell_type": "code",
   "execution_count": 150,
   "id": "51c8b557-768d-4e6f-b3a7-0c753317dfe1",
   "metadata": {},
   "outputs": [
    {
     "data": {
      "image/png": "[encoded data removed]",
      "text/plain": [
       "<Figure size 432x288 with 1 Axes>"
      ]
     },
     "metadata": {
      "needs_background": "light"
     },
     "output_type": "display_data"
    }
   ],
   "source": [
    "sns.scatterplot(data=X,x='dti',y='annual_inc',hue='target')\n",
    "plt.show()"
   ]
  },
  {
   "cell_type": "code",
   "execution_count": 151,
   "id": "d305df77-cef7-4ab3-a0f5-3661443163d5",
   "metadata": {},
   "outputs": [
    {
     "data": {
      "text/html": [
       "<div>\n",
       "<style scoped>\n",
       "    .dataframe tbody tr th:only-of-type {\n",
       "        vertical-align: middle;\n",
       "    }\n",
       "\n",
       "    .dataframe tbody tr th {\n",
       "        vertical-align: top;\n",
       "    }\n",
       "\n",
       "    .dataframe thead th {\n",
       "        text-align: right;\n",
       "    }\n",
       "</style>\n",
       "<table border=\"1\" class=\"dataframe\">\n",
       "  <thead>\n",
       "    <tr style=\"text-align: right;\">\n",
       "      <th></th>\n",
       "      <th>annual_inc</th>\n",
       "      <th>tot_cur_bal</th>\n",
       "      <th>dti</th>\n",
       "    </tr>\n",
       "  </thead>\n",
       "  <tbody>\n",
       "    <tr>\n",
       "      <th>475046</th>\n",
       "      <td>31960.5</td>\n",
       "      <td>192764.0</td>\n",
       "      <td>561.765</td>\n",
       "    </tr>\n",
       "    <tr>\n",
       "      <th>532701</th>\n",
       "      <td>137500.0</td>\n",
       "      <td>314343.0</td>\n",
       "      <td>195.115</td>\n",
       "    </tr>\n",
       "    <tr>\n",
       "      <th>540456</th>\n",
       "      <td>71200.0</td>\n",
       "      <td>21380.0</td>\n",
       "      <td>347.120</td>\n",
       "    </tr>\n",
       "  </tbody>\n",
       "</table>\n",
       "</div>"
      ],
      "text/plain": [
       "        annual_inc  tot_cur_bal      dti\n",
       "475046     31960.5     192764.0  561.765\n",
       "532701    137500.0     314343.0  195.115\n",
       "540456     71200.0      21380.0  347.120"
      ]
     },
     "execution_count": 151,
     "metadata": {},
     "output_type": "execute_result"
    }
   ],
   "source": [
    "#Still a few outliers. Lets see if they are more realistic\n",
    "X[X.dti>100][['annual_inc','tot_cur_bal','dti']]"
   ]
  },
  {
   "cell_type": "code",
   "execution_count": 152,
   "id": "c71f3a87-353e-44f0-bb56-67fff1a41987",
   "metadata": {},
   "outputs": [],
   "source": [
    "#These still look suspicious so we wil remove those as well.\n",
    "X=X[X.dti<=100]"
   ]
  },
  {
   "cell_type": "code",
   "execution_count": 153,
   "id": "6399a789-1299-4655-80fc-ac984c8b38d0",
   "metadata": {},
   "outputs": [
    {
     "data": {
      "image/png": "[encoded data removed]",
      "text/plain": [
       "<Figure size 432x288 with 1 Axes>"
      ]
     },
     "metadata": {
      "needs_background": "light"
     },
     "output_type": "display_data"
    }
   ],
   "source": [
    "sns.scatterplot(data=X,x='dti',y='annual_inc',hue='target')\n",
    "plt.show()"
   ]
  },
  {
   "cell_type": "code",
   "execution_count": 154,
   "id": "01a2fab4-1168-4f12-8f22-69096d42371a",
   "metadata": {},
   "outputs": [
    {
     "data": {
      "image/png": "[encoded data removed]",
      "text/plain": [
       "<Figure size 432x288 with 1 Axes>"
      ]
     },
     "metadata": {
      "needs_background": "light"
     },
     "output_type": "display_data"
    }
   ],
   "source": [
    "# we don't want to remove high income from the actual data set but we might get a better picture at looking at people with income under $1M\n",
    "sns.scatterplot(data=X[X.annual_inc<=1000000],x='dti',y='annual_inc',hue='target')\n",
    "plt.show()"
   ]
  },
  {
   "cell_type": "code",
   "execution_count": 155,
   "id": "82617dfc-d9cc-4956-a289-e31b39df0c56",
   "metadata": {},
   "outputs": [
    {
     "data": {
      "image/png": "[encoded data removed]",
      "text/plain": [
       "<Figure size 432x288 with 1 Axes>"
      ]
     },
     "metadata": {
      "needs_background": "light"
     },
     "output_type": "display_data"
    }
   ],
   "source": [
    "# We can look at some boxplots to see if we can see noticeable difference in the distributions of some features between positive and negative classes\n",
    "sns.boxplot(data=X, x='target',y='annual_inc')\n",
    "plt.show()"
   ]
  },
  {
   "cell_type": "code",
   "execution_count": 156,
   "id": "506a92e8-3283-4cbf-b43a-03d0eab54437",
   "metadata": {},
   "outputs": [
    {
     "data": {
      "image/png": "[encoded data removed]",
      "text/plain": [
       "<Figure size 432x288 with 1 Axes>"
      ]
     },
     "metadata": {
      "needs_background": "light"
     },
     "output_type": "display_data"
    }
   ],
   "source": [
    "#outliers in income really make this hard to see, so we'll again limit to income under $1M\n",
    "sns.boxplot(data=X[X.annual_inc<1000000], x='target',y='annual_inc')\n",
    "plt.show()"
   ]
  },
  {
   "cell_type": "code",
   "execution_count": 157,
   "id": "0ea4c4dd-aab3-4ef1-b53e-435785d203d4",
   "metadata": {},
   "outputs": [
    {
     "data": {
      "image/png": "[encoded data removed]",
      "text/plain": [
       "<Figure size 432x288 with 1 Axes>"
      ]
     },
     "metadata": {
      "needs_background": "light"
     },
     "output_type": "display_data"
    }
   ],
   "source": [
    "#hard to see a difference but again we have outliers. Let's limit this to income under 500000. We can look at the other group also\n",
    "sns.boxplot(data=X[X.annual_inc<500000], x='target',y='annual_inc')\n",
    "plt.show()"
   ]
  },
  {
   "cell_type": "code",
   "execution_count": 158,
   "id": "3f1e8b20-4a56-44be-a745-30bb43117b96",
   "metadata": {},
   "outputs": [
    {
     "data": {
      "image/png": "[encoded data removed]",
      "text/plain": [
       "<Figure size 432x288 with 1 Axes>"
      ]
     },
     "metadata": {
      "needs_background": "light"
     },
     "output_type": "display_data"
    }
   ],
   "source": [
    "sns.boxplot(data=X[X.annual_inc>=500000], x='target',y='annual_inc')\n",
    "plt.show()"
   ]
  },
  {
   "cell_type": "code",
   "execution_count": 159,
   "id": "3c004d1f-b838-48df-9839-30f360f25df0",
   "metadata": {},
   "outputs": [
    {
     "data": {
      "text/plain": [
       "count    5.881900e+04\n",
       "mean     6.615066e+04\n",
       "std      5.520877e+04\n",
       "min      2.000000e+03\n",
       "25%      4.100000e+04\n",
       "50%      5.700000e+04\n",
       "75%      8.000000e+04\n",
       "max      8.706582e+06\n",
       "Name: annual_inc, dtype: float64"
      ]
     },
     "execution_count": 159,
     "metadata": {},
     "output_type": "execute_result"
    }
   ],
   "source": [
    "#The images are a little hard to see, but initially looks like the distribution isn't significantly different.\n",
    "X[X.target==1].annual_inc.describe()"
   ]
  },
  {
   "cell_type": "code",
   "execution_count": 160,
   "id": "b89411e9-e84b-4fdd-bd57-284f246113d7",
   "metadata": {},
   "outputs": [
    {
     "data": {
      "text/plain": [
       "count    8.285550e+05\n",
       "mean     7.567356e+04\n",
       "std      6.527481e+04\n",
       "min      1.896000e+03\n",
       "25%      4.600000e+04\n",
       "50%      6.500000e+04\n",
       "75%      9.000000e+04\n",
       "max      9.500000e+06\n",
       "Name: annual_inc, dtype: float64"
      ]
     },
     "execution_count": 160,
     "metadata": {},
     "output_type": "execute_result"
    }
   ],
   "source": [
    "X[X.target==0].annual_inc.describe()"
   ]
  },
  {
   "cell_type": "markdown",
   "id": "150192dd-6c5b-459b-b368-d2ab53298c36",
   "metadata": {},
   "source": [
    "We can see a slight difference. The positive class overall had a slightly lower income (median 57000 vs median 65000, mean 66150.66 vs mean 75673.56)\n",
    "We can look at DTI next"
   ]
  },
  {
   "cell_type": "code",
   "execution_count": 161,
   "id": "70ed97f4-f8f7-4981-9898-901f2ab9bb4d",
   "metadata": {},
   "outputs": [
    {
     "data": {
      "image/png": "[encoded data removed]",
      "text/plain": [
       "<Figure size 432x288 with 1 Axes>"
      ]
     },
     "metadata": {
      "needs_background": "light"
     },
     "output_type": "display_data"
    }
   ],
   "source": [
    "sns.boxplot(data=X, x='target',y='dti')\n",
    "plt.show()"
   ]
  },
  {
   "cell_type": "markdown",
   "id": "019c677d-4611-42b9-8127-c4face6706c0",
   "metadata": {},
   "source": [
    "Negative class had lots of outliers (somewhat expected since it's a much larger group), but it looks like positive class tended towards slightly higher DTI\n",
    "We can look in a little detail"
   ]
  },
  {
   "cell_type": "code",
   "execution_count": 162,
   "id": "25d5b3f2-9d34-44f8-ba5e-e4fc729373b3",
   "metadata": {},
   "outputs": [
    {
     "data": {
      "text/plain": [
       "count    828555.000000\n",
       "mean         18.091840\n",
       "std           8.315711\n",
       "min           0.000000\n",
       "25%          11.850000\n",
       "50%          17.590000\n",
       "75%          23.900000\n",
       "max          82.255000\n",
       "Name: dti, dtype: float64"
      ]
     },
     "execution_count": 162,
     "metadata": {},
     "output_type": "execute_result"
    }
   ],
   "source": [
    "X[X.target==0].dti.describe()"
   ]
  },
  {
   "cell_type": "code",
   "execution_count": 163,
   "id": "5556baeb-2946-4605-8cfc-a104c8a88520",
   "metadata": {},
   "outputs": [
    {
     "data": {
      "text/plain": [
       "count    58819.000000\n",
       "mean        18.657158\n",
       "std          8.076320\n",
       "min          0.000000\n",
       "25%         12.720000\n",
       "50%         18.550000\n",
       "75%         24.420000\n",
       "max         39.990000\n",
       "Name: dti, dtype: float64"
      ]
     },
     "execution_count": 163,
     "metadata": {},
     "output_type": "execute_result"
    }
   ],
   "source": [
    "X[X.target==1].dti.describe()"
   ]
  },
  {
   "cell_type": "markdown",
   "id": "9d737729-b102-49bb-b9b9-5a9b9618f6d5",
   "metadata": {},
   "source": [
    "There doesn't really appear to be a significant difference in the distribution between the two"
   ]
  },
  {
   "cell_type": "code",
   "execution_count": 164,
   "id": "a551c04e-733a-44b8-aee8-0cefa7cd0b47",
   "metadata": {},
   "outputs": [
    {
     "data": {
      "text/plain": [
       "B    254535\n",
       "C    245859\n",
       "A    148202\n",
       "D    139539\n",
       "E     70704\n",
       "F     23046\n",
       "G      5489\n",
       "Name: grade, dtype: int64"
      ]
     },
     "execution_count": 164,
     "metadata": {},
     "output_type": "execute_result"
    }
   ],
   "source": [
    "X.grade.value_counts()"
   ]
  },
  {
   "cell_type": "code",
   "execution_count": 165,
   "id": "e9e24bd6-5d5b-45d1-925c-7dfa2fc97077",
   "metadata": {},
   "outputs": [
    {
     "data": {
      "text/plain": [
       "C    244903\n",
       "B    230807\n",
       "A    124517\n",
       "D     97958\n",
       "E     41254\n",
       "F     14362\n",
       "G      5537\n",
       "Name: grade, dtype: int64"
      ]
     },
     "execution_count": 165,
     "metadata": {},
     "output_type": "execute_result"
    }
   ],
   "source": [
    "X2.grade.value_counts()"
   ]
  },
  {
   "cell_type": "code",
   "execution_count": 166,
   "id": "f3f48622-7ff8-4d82-add2-bd5541bfff3e",
   "metadata": {},
   "outputs": [],
   "source": [
    "#Before trying to look at how grade is related, it will be useful to turn this into a numeric scale with 'G' at the bottom, 'A' at the top\n",
    "grade_dict=dict({'G':0,'F':1,'E':2,'D':3,'C':4,'B':5,'A':6})\n",
    "X['numeric_grade']=X.grade.map(grade_dict)\n",
    "X2['numeric_grade']=X2.grade.map(grade_dict)"
   ]
  },
  {
   "cell_type": "code",
   "execution_count": 167,
   "id": "7ef0da82-0af9-4729-a17a-c22cef0504fb",
   "metadata": {},
   "outputs": [
    {
     "data": {
      "image/png": "[encoded data removed]",
      "text/plain": [
       "<Figure size 432x288 with 1 Axes>"
      ]
     },
     "metadata": {
      "needs_background": "light"
     },
     "output_type": "display_data"
    }
   ],
   "source": [
    "plt.hist(X[X.target==0].numeric_grade,alpha=0.5,color=\"green\",bins=7,density=True)\n",
    "plt.hist(X[X.target==1].numeric_grade,alpha=0.5,color=\"red\",bins=7,density=True)\n",
    "plt.legend(X.target)\n",
    "plt.xlabel(\"Grade\")\n",
    "plt.xticks(ticks=[0,1,2,3,4,5,6],labels=['G','F','E','D','C','B','A'])\n",
    "plt.ylabel(\"Relative Frequency\")\n",
    "plt.title(\"Relative Frequency histogram for grade assigned based on positive and negative classes\")\n",
    "plt.show()"
   ]
  },
  {
   "cell_type": "code",
   "execution_count": 168,
   "id": "928cc8e0-284e-4d4b-bd86-0b4117dfacfa",
   "metadata": {},
   "outputs": [
    {
     "data": {
      "text/plain": [
       "count    828555.000000\n",
       "mean          4.250722\n",
       "std           1.294135\n",
       "min           0.000000\n",
       "25%           3.000000\n",
       "50%           4.000000\n",
       "75%           5.000000\n",
       "max           6.000000\n",
       "Name: numeric_grade, dtype: float64"
      ]
     },
     "execution_count": 168,
     "metadata": {},
     "output_type": "execute_result"
    }
   ],
   "source": [
    "#We can see that the distribution here is different. #lets look at the summary statistics for grade separated\n",
    "X[X.target==0].numeric_grade.describe()"
   ]
  },
  {
   "cell_type": "code",
   "execution_count": 169,
   "id": "9c37e21b-441b-46af-807c-02ee545beadc",
   "metadata": {},
   "outputs": [
    {
     "data": {
      "text/plain": [
       "count    58819.000000\n",
       "mean         3.509699\n",
       "std          1.374125\n",
       "min          0.000000\n",
       "25%          3.000000\n",
       "50%          4.000000\n",
       "75%          5.000000\n",
       "max          6.000000\n",
       "Name: numeric_grade, dtype: float64"
      ]
     },
     "execution_count": 169,
     "metadata": {},
     "output_type": "execute_result"
    }
   ],
   "source": [
    "X[X.target==1].numeric_grade.describe()"
   ]
  },
  {
   "cell_type": "markdown",
   "id": "34288dff-c2d9-42f1-8cbe-2a2b8b2f8a00",
   "metadata": {},
   "source": [
    "The median and quartiles are the same, but we can see that the mean for negative class is above a C, while the positive class is between a D and a C."
   ]
  },
  {
   "cell_type": "code",
   "execution_count": 170,
   "id": "e313d830-7443-450a-bd16-4aae6c36f1d3",
   "metadata": {},
   "outputs": [
    {
     "data": {
      "text/plain": [
       "array(['B', 'C', 'A', 'E', 'F', 'D', 'G'], dtype=object)"
      ]
     },
     "execution_count": 170,
     "metadata": {},
     "output_type": "execute_result"
    }
   ],
   "source": [
    "X.grade.unique()"
   ]
  },
  {
   "cell_type": "markdown",
   "id": "c522795a-3cfb-4fee-9b5a-a6b25cb980eb",
   "metadata": {},
   "source": [
    "We want to refine the grade using the subgrade information. So we can check to see that the letter grade in grade corresponds to the first character in the subgrade"
   ]
  },
  {
   "cell_type": "code",
   "execution_count": 171,
   "id": "d9a0316e-d99d-40c7-a8ce-f42b48c20a8a",
   "metadata": {},
   "outputs": [],
   "source": [
    "X_graded=[]\n",
    "for i in range(7):\n",
    "    X_graded.append(X[X.numeric_grade==i])"
   ]
  },
  {
   "cell_type": "code",
   "execution_count": 172,
   "id": "3c637ab5-eb3a-4e18-a375-bbfa01ba4dba",
   "metadata": {},
   "outputs": [
    {
     "data": {
      "text/plain": [
       "G1    1871\n",
       "G2    1398\n",
       "G3     981\n",
       "G4     663\n",
       "G5     576\n",
       "Name: sub_grade, dtype: int64"
      ]
     },
     "execution_count": 172,
     "metadata": {},
     "output_type": "execute_result"
    }
   ],
   "source": [
    "X_graded[0].sub_grade.value_counts()"
   ]
  },
  {
   "cell_type": "code",
   "execution_count": 173,
   "id": "35b79fbe-6b94-4acc-860e-2626dc75c12d",
   "metadata": {},
   "outputs": [
    {
     "data": {
      "text/plain": [
       "F1    7218\n",
       "F2    5392\n",
       "F3    4433\n",
       "F4    3409\n",
       "F5    2594\n",
       "Name: sub_grade, dtype: int64"
      ]
     },
     "execution_count": 173,
     "metadata": {},
     "output_type": "execute_result"
    }
   ],
   "source": [
    "X_graded[1].sub_grade.value_counts()"
   ]
  },
  {
   "cell_type": "code",
   "execution_count": 174,
   "id": "eea8218b-55a2-4651-a917-44b4cdd27e85",
   "metadata": {},
   "outputs": [
    {
     "data": {
      "text/plain": [
       "A5    44816\n",
       "A4    34531\n",
       "A3    23457\n",
       "A1    22913\n",
       "A2    22485\n",
       "Name: sub_grade, dtype: int64"
      ]
     },
     "execution_count": 174,
     "metadata": {},
     "output_type": "execute_result"
    }
   ],
   "source": [
    "X_graded[6].sub_grade.value_counts()"
   ]
  },
  {
   "cell_type": "code",
   "execution_count": 175,
   "id": "3f2f7f15-a3b4-4f0f-9ef6-71ba281da8de",
   "metadata": {},
   "outputs": [
    {
     "data": {
      "text/plain": [
       "E1    18268\n",
       "E2    17004\n",
       "E3    14134\n",
       "E4    11723\n",
       "E5     9575\n",
       "Name: sub_grade, dtype: int64"
      ]
     },
     "execution_count": 175,
     "metadata": {},
     "output_type": "execute_result"
    }
   ],
   "source": [
    "X_graded[2].sub_grade.value_counts()"
   ]
  },
  {
   "cell_type": "code",
   "execution_count": 176,
   "id": "4865e82f-ec1e-4037-a593-21e8e842d7b1",
   "metadata": {},
   "outputs": [
    {
     "data": {
      "text/plain": [
       "D1    36238\n",
       "D2    29803\n",
       "D3    26552\n",
       "D4    25558\n",
       "D5    21388\n",
       "Name: sub_grade, dtype: int64"
      ]
     },
     "execution_count": 176,
     "metadata": {},
     "output_type": "execute_result"
    }
   ],
   "source": [
    "X_graded[3].sub_grade.value_counts()"
   ]
  },
  {
   "cell_type": "code",
   "execution_count": 177,
   "id": "b7e3cf77-3e19-4bb0-a02c-6fc45affe0bc",
   "metadata": {},
   "outputs": [
    {
     "data": {
      "text/plain": [
       "C1    53387\n",
       "C2    52235\n",
       "C3    50161\n",
       "C4    48857\n",
       "C5    41219\n",
       "Name: sub_grade, dtype: int64"
      ]
     },
     "execution_count": 177,
     "metadata": {},
     "output_type": "execute_result"
    }
   ],
   "source": [
    "X_graded[4].sub_grade.value_counts()"
   ]
  },
  {
   "cell_type": "code",
   "execution_count": 178,
   "id": "66ce0d36-72da-4544-842e-cdf0903f4304",
   "metadata": {},
   "outputs": [
    {
     "data": {
      "text/plain": [
       "B3    56323\n",
       "B4    55626\n",
       "B5    48833\n",
       "B2    48781\n",
       "B1    44972\n",
       "Name: sub_grade, dtype: int64"
      ]
     },
     "execution_count": 178,
     "metadata": {},
     "output_type": "execute_result"
    }
   ],
   "source": [
    "X_graded[5].sub_grade.value_counts()"
   ]
  },
  {
   "cell_type": "code",
   "execution_count": 179,
   "id": "d1f1d768-84f7-45b2-a7bb-dece1bca7821",
   "metadata": {},
   "outputs": [
    {
     "data": {
      "text/plain": [
       "1    184867\n",
       "4    180367\n",
       "2    177098\n",
       "3    176041\n",
       "5    169001\n",
       "Name: sub_grade, dtype: int64"
      ]
     },
     "execution_count": 179,
     "metadata": {},
     "output_type": "execute_result"
    }
   ],
   "source": [
    "#Lets see what the possible second values in the subgrade are\n",
    "X.sub_grade.str.replace(\"[ABCDEFG]\",\"\",regex=True).astype(int).value_counts()"
   ]
  },
  {
   "cell_type": "markdown",
   "id": "71f05a90-efb5-4e3a-b872-237899b01c29",
   "metadata": {},
   "source": []
  },
  {
   "cell_type": "markdown",
   "id": "02d300e1-b354-4316-ad56-47b4d26387e3",
   "metadata": {},
   "source": [
    "To get a finer grade we will have to multiply the numeric grade by 5 (there are 5 possible subgrades). Assuming that the subgrades rank X1, X2,..X5 for each grade, we add 5-the subgrade to that."
   ]
  },
  {
   "cell_type": "code",
   "execution_count": 180,
   "id": "c159fa7f-3228-480f-b845-6f31a9ea26aa",
   "metadata": {},
   "outputs": [],
   "source": [
    "X['fine_grade']=X.numeric_grade*5+(5-X.sub_grade.str.replace(\"[ABCDEFG]\",\"\",regex=True).astype(int))"
   ]
  },
  {
   "cell_type": "code",
   "execution_count": 262,
   "id": "4442895c-175b-49a9-a8af-c34ab12550bc",
   "metadata": {},
   "outputs": [],
   "source": [
    "X2['fine_grade']=X2.numeric_grade*5+(5-X2.sub_grade.str.replace(\"[ABCDEFG]\",\"\",regex=True).astype(int))"
   ]
  },
  {
   "cell_type": "code",
   "execution_count": 181,
   "id": "ed99f29f-ccf2-40db-8727-23858bc18c4f",
   "metadata": {},
   "outputs": [
    {
     "data": {
      "image/png": "[encoded data removed]",
      "text/plain": [
       "<Figure size 432x288 with 1 Axes>"
      ]
     },
     "metadata": {
      "needs_background": "light"
     },
     "output_type": "display_data"
    }
   ],
   "source": [
    "plt.hist(X[X.target==0].fine_grade,alpha=0.5,color=\"green\",bins=18,density=True)\n",
    "plt.hist(X[X.target==1].fine_grade,alpha=0.5,color=\"red\",bins=18,density=True)\n",
    "plt.legend(X.target)\n",
    "plt.title (\"Relative Frequency histogram for grade refined by subgrade based on positive and negative classes\")\n",
    "plt.xlabel(\"Fine Grade\")\n",
    "plt.xticks(ticks=[0,5,10,15,20,25,30],labels=['G','F','E','D','C','B','A'])\n",
    "plt.ylabel(\"Relative Frequency\")\n",
    "plt.show()"
   ]
  },
  {
   "cell_type": "markdown",
   "id": "fa14203a-1f19-4cf1-ab1d-9a350ce6995e",
   "metadata": {},
   "source": [
    "Using the fine grade we can see a shift from the positive the negative classes.  Both are left tailed but the positive classes (bad loans) have a worse distribution of grades. Let's look at the boxplots"
   ]
  },
  {
   "cell_type": "code",
   "execution_count": 182,
   "id": "dfb72e3f-0d90-44ff-b56b-61bab7ccf559",
   "metadata": {},
   "outputs": [
    {
     "data": {
      "image/png": "[encoded data removed]",
      "text/plain": [
       "<Figure size 432x288 with 1 Axes>"
      ]
     },
     "metadata": {
      "needs_background": "light"
     },
     "output_type": "display_data"
    }
   ],
   "source": [
    "sns.boxplot(data=X,y=\"fine_grade\",x=\"target\")\n",
    "plt.title(\"Boxplots for refined grade for positive and negative classes\")\n",
    "plt.show()"
   ]
  },
  {
   "cell_type": "code",
   "execution_count": 183,
   "id": "87531c0f-6c6c-4d36-9746-c0963f038384",
   "metadata": {},
   "outputs": [
    {
     "data": {
      "text/plain": [
       "count    828555.000000\n",
       "mean         23.288983\n",
       "std           6.400977\n",
       "min           0.000000\n",
       "25%          19.000000\n",
       "50%          24.000000\n",
       "75%          28.000000\n",
       "max          34.000000\n",
       "Name: fine_grade, dtype: float64"
      ]
     },
     "execution_count": 183,
     "metadata": {},
     "output_type": "execute_result"
    }
   ],
   "source": [
    "#Summary statistics for the fine grade for the negative class\n",
    "X[X.target==0].fine_grade.describe()"
   ]
  },
  {
   "cell_type": "code",
   "execution_count": 184,
   "id": "901c6eca-051a-4757-8af9-4f564026d987",
   "metadata": {},
   "outputs": [
    {
     "data": {
      "text/plain": [
       "count    58819.000000\n",
       "mean        19.534130\n",
       "std          6.761077\n",
       "min          0.000000\n",
       "25%         15.000000\n",
       "50%         20.000000\n",
       "75%         25.000000\n",
       "max         34.000000\n",
       "Name: fine_grade, dtype: float64"
      ]
     },
     "execution_count": 184,
     "metadata": {},
     "output_type": "execute_result"
    }
   ],
   "source": [
    "#Summary statistics for the fine grade for the positive class\n",
    "X[X.target==1].fine_grade.describe()"
   ]
  },
  {
   "cell_type": "code",
   "execution_count": 185,
   "id": "f42f2fa0-1dc9-4d34-83e7-9ba5df486210",
   "metadata": {},
   "outputs": [
    {
     "data": {
      "image/png": "[encoded data removed]",
      "text/plain": [
       "<Figure size 432x288 with 1 Axes>"
      ]
     },
     "metadata": {
      "needs_background": "light"
     },
     "output_type": "display_data"
    }
   ],
   "source": [
    "#Going back to income we can do frequency histograms for the positive and negative class to try to visualize if there's really a difference\n",
    "plt.hist(X[X.target==0].annual_inc,alpha=0.5,color=\"green\",bins=10,density=True)\n",
    "plt.hist(X[X.target==1].annual_inc,alpha=0.5,color=\"red\",bins=10,density=True)\n",
    "plt.legend(X.target)\n",
    "plt.xlabel(\"Annual Income\")\n",
    "plt.ylabel(\"Relative Frequency\")\n",
    "plt.show()"
   ]
  },
  {
   "cell_type": "code",
   "execution_count": 186,
   "id": "edd2f1ff-a827-4cf6-93a5-a631888b1b54",
   "metadata": {},
   "outputs": [
    {
     "data": {
      "image/png": "[encoded data removed]",
      "text/plain": [
       "<Figure size 432x288 with 1 Axes>"
      ]
     },
     "metadata": {
      "needs_background": "light"
     },
     "output_type": "display_data"
    }
   ],
   "source": [
    "#outliers are a problem here. Just to get an idea we can look at income under 500k\n",
    "plt.hist(X[X.target==0].annual_inc,alpha=0.5,color=\"green\",bins=20,density=True,range=(0,500000))\n",
    "plt.hist(X[X.target==1].annual_inc,alpha=0.5,color=\"red\",bins=20,density=True,range=(0,500000))\n",
    "plt.legend(X.target)\n",
    "plt.xlabel(\"Annual Income\")\n",
    "plt.ylabel(\"Relative Frequency\")\n",
    "plt.show()"
   ]
  },
  {
   "cell_type": "markdown",
   "id": "7811a363-3bd4-4c23-9d28-6b43691846ca",
   "metadata": {},
   "source": [
    "This visual seems to confirm what we saw before, but does show more values in the lower income ranges for bad loans compared to good loans."
   ]
  },
  {
   "cell_type": "code",
   "execution_count": 187,
   "id": "bc194cb2-8fa3-4b02-8e13-689ddf4ed517",
   "metadata": {},
   "outputs": [
    {
     "data": {
      "image/png": "[encoded data removed]",
      "text/plain": [
       "<Figure size 432x288 with 1 Axes>"
      ]
     },
     "metadata": {
      "needs_background": "light"
     },
     "output_type": "display_data"
    }
   ],
   "source": [
    "sns.boxplot(data=X, x='target',y='int_rate')\n",
    "plt.show()"
   ]
  },
  {
   "cell_type": "code",
   "execution_count": 188,
   "id": "b0b7e219-e019-447d-8301-2a43510a9e2c",
   "metadata": {},
   "outputs": [
    {
     "data": {
      "image/png": "[encoded data removed]",
      "text/plain": [
       "<Figure size 432x288 with 1 Axes>"
      ]
     },
     "metadata": {
      "needs_background": "light"
     },
     "output_type": "display_data"
    }
   ],
   "source": [
    "plt.hist(X[X.target==0].int_rate,alpha=0.5,color=\"green\",bins=10,density=True)\n",
    "plt.hist(X[X.target==1].int_rate,alpha=0.5,color=\"red\",bins=20,density=True)\n",
    "plt.legend(X.target)\n",
    "plt.xlabel(\"Interest Rate\")\n",
    "plt.ylabel(\"Relative Frequency\")\n",
    "plt.show()"
   ]
  },
  {
   "cell_type": "markdown",
   "id": "fa668b3c-627f-4e3b-be32-97c6523bc918",
   "metadata": {},
   "source": [
    "We can see that interest rates skewed more to the left for loans that were good. The only danger with using this is that presumably interest rates were higher for loan applicants thought to be higher risk, so it can be a circular predictor. It could also mean that higher interest rate loans were harder to pay back. It's worth looking at how interest rates were for different grades."
   ]
  },
  {
   "cell_type": "code",
   "execution_count": 189,
   "id": "7334c66e-841f-4144-84e6-8663f016b250",
   "metadata": {},
   "outputs": [
    {
     "data": {
      "image/png": "[encoded data removed]",
      "text/plain": [
       "<Figure size 432x288 with 1 Axes>"
      ]
     },
     "metadata": {
      "needs_background": "light"
     },
     "output_type": "display_data"
    }
   ],
   "source": [
    "sns.boxplot(data=X,x=\"numeric_grade\",y=\"int_rate\")\n",
    "plt.xticks(ticks=[0,1,2,3,4,5,6],labels=['G','F','E','D','C','B','A'])\n",
    "plt.show()"
   ]
  },
  {
   "cell_type": "markdown",
   "id": "ad3ac57c-1626-4ee9-b749-bbde74265f6b",
   "metadata": {},
   "source": [
    "There is an obvious relation here that better grades resulted in a lower interest rate. "
   ]
  },
  {
   "cell_type": "code",
   "execution_count": 190,
   "id": "4b8c98d9-eeaf-42e0-aab2-ce48c694eae3",
   "metadata": {},
   "outputs": [],
   "source": [
    "#We can try to see how the grade and subgrade combined affected the mean interest rates.\n",
    "ave_int=X.groupby(\"fine_grade\").int_rate.mean()"
   ]
  },
  {
   "cell_type": "code",
   "execution_count": 191,
   "id": "d1614f73-8b90-424d-9d1b-52783276eb82",
   "metadata": {},
   "outputs": [
    {
     "data": {
      "image/png": "[encoded data removed]",
      "text/plain": [
       "<Figure size 432x288 with 1 Axes>"
      ]
     },
     "metadata": {
      "needs_background": "light"
     },
     "output_type": "display_data"
    }
   ],
   "source": [
    "ave_int.plot(marker='o',linestyle='--')\n",
    "plt.ylabel(\"Average interest rate\")\n",
    "plt.title(\"Average interest rate vs refined grade\")\n",
    "plt.show()"
   ]
  },
  {
   "cell_type": "markdown",
   "id": "9d9a1d02-9591-49d7-bf01-b8a2afadf3d3",
   "metadata": {},
   "source": [
    "This correlation is so strong that it could be dangerous to use the grade/subgrade combined and the interest rate. "
   ]
  },
  {
   "cell_type": "code",
   "execution_count": 192,
   "id": "c64a6084-f797-4a8f-b532-e1656374f99c",
   "metadata": {},
   "outputs": [],
   "source": [
    "ave_targets=X.groupby(\"fine_grade\").target.mean()"
   ]
  },
  {
   "cell_type": "code",
   "execution_count": 193,
   "id": "087fc6f0-81aa-4fd2-ae60-e1e6b54f9e7d",
   "metadata": {},
   "outputs": [
    {
     "data": {
      "image/png": "[encoded data removed]",
      "text/plain": [
       "<Figure size 432x288 with 1 Axes>"
      ]
     },
     "metadata": {
      "needs_background": "light"
     },
     "output_type": "display_data"
    }
   ],
   "source": [
    "ave_targets.plot(marker='o',linestyle='--')\n",
    "plt.ylabel(\"Fraction in the group that have bad loans\")\n",
    "plt.title(\"Fraction of positive targets vs refined grade\")\n",
    "plt.show()"
   ]
  },
  {
   "cell_type": "markdown",
   "id": "5e07e6f9-7ad5-45e2-b909-241e64160cf3",
   "metadata": {},
   "source": [
    "We can see here a very similar graph to what we had before. It's a strong correlation from fine grade to probability of being a bad loan"
   ]
  },
  {
   "cell_type": "code",
   "execution_count": 194,
   "id": "80019c5e-cc68-4502-80d0-e2fae5ab0d88",
   "metadata": {},
   "outputs": [
    {
     "data": {
      "text/plain": [
       "26        23\n",
       "67        23\n",
       "81        23\n",
       "126       23\n",
       "142       23\n",
       "          ..\n",
       "887312    23\n",
       "887315    23\n",
       "887323    23\n",
       "887329    23\n",
       "887344    23\n",
       "Name: fine_grade, Length: 52235, dtype: int64"
      ]
     },
     "execution_count": 194,
     "metadata": {},
     "output_type": "execute_result"
    }
   ],
   "source": [
    "X[X.sub_grade==\"C2\"].fine_grade"
   ]
  },
  {
   "cell_type": "code",
   "execution_count": 195,
   "id": "9593e05c-4ff3-4d8e-bea3-6ba8dacb0946",
   "metadata": {},
   "outputs": [
    {
     "data": {
      "image/png": "[encoded data removed]",
      "text/plain": [
       "<Figure size 432x288 with 1 Axes>"
      ]
     },
     "metadata": {
      "needs_background": "light"
     },
     "output_type": "display_data"
    }
   ],
   "source": [
    "sns.scatterplot(data=X,x=\"fine_grade\",y=\"int_rate\",hue=\"target\")\n",
    "plt.title(\"Refined credit grade vs Interest Rate\")\n",
    "plt.show()"
   ]
  },
  {
   "cell_type": "code",
   "execution_count": 196,
   "id": "f4b89601-810d-4e6c-9528-2ef060135d63",
   "metadata": {},
   "outputs": [
    {
     "data": {
      "text/plain": [
       "0.0     716987\n",
       "1.0     113224\n",
       "2.0      33549\n",
       "3.0      11977\n",
       "4.0       5327\n",
       "5.0       2711\n",
       "6.0       1471\n",
       "7.0        784\n",
       "8.0        461\n",
       "9.0        284\n",
       "10.0       192\n",
       "11.0       121\n",
       "12.0        89\n",
       "13.0        64\n",
       "14.0        45\n",
       "15.0        28\n",
       "16.0        17\n",
       "18.0        11\n",
       "17.0        10\n",
       "19.0         8\n",
       "22.0         3\n",
       "21.0         2\n",
       "26.0         2\n",
       "20.0         2\n",
       "29.0         1\n",
       "24.0         1\n",
       "30.0         1\n",
       "27.0         1\n",
       "39.0         1\n",
       "Name: delinq_2yrs, dtype: int64"
      ]
     },
     "execution_count": 196,
     "metadata": {},
     "output_type": "execute_result"
    }
   ],
   "source": [
    "X.delinq_2yrs.value_counts()"
   ]
  },
  {
   "cell_type": "code",
   "execution_count": 197,
   "id": "9bdc446c-12c1-4758-a7c0-d0c0961ae8ff",
   "metadata": {},
   "outputs": [],
   "source": [
    "delinq=X.groupby(\"delinq_2yrs\").target.mean()"
   ]
  },
  {
   "cell_type": "code",
   "execution_count": 198,
   "id": "0ec28efa-7750-4d9a-a0b0-2d6d234a0406",
   "metadata": {},
   "outputs": [
    {
     "data": {
      "text/plain": [
       "delinq_2yrs\n",
       "0.0    0.066916\n",
       "1.0    0.063237\n",
       "2.0    0.065069\n",
       "3.0    0.066628\n",
       "4.0    0.059508\n",
       "Name: target, dtype: float64"
      ]
     },
     "execution_count": 198,
     "metadata": {},
     "output_type": "execute_result"
    }
   ],
   "source": [
    "delinq.head()"
   ]
  },
  {
   "cell_type": "code",
   "execution_count": 199,
   "id": "927a8227-7bc4-4b98-9dc5-e302a1049411",
   "metadata": {},
   "outputs": [
    {
     "data": {
      "image/png": "[encoded data removed]",
      "text/plain": [
       "<Figure size 432x288 with 1 Axes>"
      ]
     },
     "metadata": {
      "needs_background": "light"
     },
     "output_type": "display_data"
    }
   ],
   "source": [
    "delinq.plot(marker=\"o\",linestyle=\"--\")\n",
    "plt.show()"
   ]
  },
  {
   "cell_type": "markdown",
   "id": "689f585a-fc87-498c-af71-10f44a775fa3",
   "metadata": {},
   "source": [
    "We can see a spike in the delinquencies in two years for the percentage of positive cases around 20 times."
   ]
  },
  {
   "cell_type": "code",
   "execution_count": 200,
   "id": "066e4c6b-c0e1-4033-adeb-ea28477efb87",
   "metadata": {},
   "outputs": [
    {
     "data": {
      "text/plain": [
       "0.0         3402\n",
       "5235.0        74\n",
       "5466.0        72\n",
       "4479.0        68\n",
       "8696.0        67\n",
       "            ... \n",
       "63825.0        1\n",
       "50651.0        1\n",
       "143395.0       1\n",
       "71192.0        1\n",
       "75645.0        1\n",
       "Name: revol_bal, Length: 73740, dtype: int64"
      ]
     },
     "execution_count": 200,
     "metadata": {},
     "output_type": "execute_result"
    }
   ],
   "source": [
    "X.revol_bal.value_counts()"
   ]
  },
  {
   "cell_type": "code",
   "execution_count": 201,
   "id": "1955d64c-e73b-47c8-9548-1ebfb7214995",
   "metadata": {},
   "outputs": [
    {
     "data": {
      "text/plain": [
       "array([13648.,  1687.,  2956., ..., 57516., 55667., 75645.])"
      ]
     },
     "execution_count": 201,
     "metadata": {},
     "output_type": "execute_result"
    }
   ],
   "source": [
    "X.revol_bal.unique()"
   ]
  },
  {
   "cell_type": "code",
   "execution_count": 202,
   "id": "d7c7b431-0bd3-435a-8dca-2a372248b3f3",
   "metadata": {},
   "outputs": [
    {
     "data": {
      "text/plain": [
       "73740"
      ]
     },
     "execution_count": 202,
     "metadata": {},
     "output_type": "execute_result"
    }
   ],
   "source": [
    "len(X.revol_bal.unique())"
   ]
  },
  {
   "cell_type": "code",
   "execution_count": 203,
   "id": "3036f782-4dd3-4ce6-a4f0-71e3bcce0259",
   "metadata": {},
   "outputs": [
    {
     "data": {
      "image/png": "[encoded data removed]",
      "text/plain": [
       "<Figure size 432x288 with 1 Axes>"
      ]
     },
     "metadata": {
      "needs_background": "light"
     },
     "output_type": "display_data"
    }
   ],
   "source": [
    "X.revol_bal.hist(bins=20,range=(0,100000))\n",
    "plt.show()"
   ]
  },
  {
   "cell_type": "code",
   "execution_count": 204,
   "id": "d8460fee-7c37-4107-b505-a2806fb1b283",
   "metadata": {},
   "outputs": [
    {
     "data": {
      "image/png": "[encoded data removed]",
      "text/plain": [
       "<Figure size 432x288 with 1 Axes>"
      ]
     },
     "metadata": {
      "needs_background": "light"
     },
     "output_type": "display_data"
    }
   ],
   "source": [
    "X[X.target==1].revol_bal.hist(bins=20,range=(0,100000),color=\"r\",alpha=0.2,density=True)\n",
    "X[X.target==0].revol_bal.hist(bins=20,range=(0,100000),color=\"g\",alpha=0.2,density=True)\n",
    "plt.show()"
   ]
  },
  {
   "cell_type": "markdown",
   "id": "5df4e2b2-8ff7-478d-a558-1b3b2cad3920",
   "metadata": {},
   "source": [
    "We can see that the distribution of revolving balances by frequency is very similar for both positive and negative classes"
   ]
  },
  {
   "cell_type": "code",
   "execution_count": 205,
   "id": "9a4d4b38-cf9a-43d2-9fce-2e4bbfd52d05",
   "metadata": {},
   "outputs": [
    {
     "data": {
      "text/plain": [
       "count    887374.000000\n",
       "mean         45.919502\n",
       "std         409.695013\n",
       "min           0.000000\n",
       "25%           0.000000\n",
       "50%           0.000000\n",
       "75%           0.000000\n",
       "max       33520.270000\n",
       "Name: recoveries, dtype: float64"
      ]
     },
     "execution_count": 205,
     "metadata": {},
     "output_type": "execute_result"
    }
   ],
   "source": [
    "X.recoveries.describe()"
   ]
  },
  {
   "cell_type": "code",
   "execution_count": 206,
   "id": "d898d155-4261-4b0d-824b-d67a8695e24b",
   "metadata": {},
   "outputs": [
    {
     "data": {
      "text/plain": [
       "0.03957588817394751"
      ]
     },
     "execution_count": 206,
     "metadata": {},
     "output_type": "execute_result"
    }
   ],
   "source": [
    "X[X.recoveries==0].target.sum()/len(X[X.recoveries==0])"
   ]
  },
  {
   "cell_type": "code",
   "execution_count": 207,
   "id": "070704cd-0697-4c53-9763-b1d1c15a913e",
   "metadata": {},
   "outputs": [
    {
     "data": {
      "text/plain": [
       "1.0"
      ]
     },
     "execution_count": 207,
     "metadata": {},
     "output_type": "execute_result"
    }
   ],
   "source": [
    "X[X.recoveries>0].target.sum()/len(X[X.recoveries>0])"
   ]
  },
  {
   "cell_type": "code",
   "execution_count": 208,
   "id": "8d6527d5-ba1f-486c-8d6e-55fcf47cd9f5",
   "metadata": {},
   "outputs": [
    {
     "data": {
      "text/plain": [
       "1.0"
      ]
     },
     "execution_count": 208,
     "metadata": {},
     "output_type": "execute_result"
    }
   ],
   "source": [
    "X[X.recoveries>0].target.mean()"
   ]
  },
  {
   "cell_type": "code",
   "execution_count": 209,
   "id": "e7505523-7223-4852-9199-3c999c59221c",
   "metadata": {},
   "outputs": [
    {
     "data": {
      "text/plain": [
       "24677"
      ]
     },
     "execution_count": 209,
     "metadata": {},
     "output_type": "execute_result"
    }
   ],
   "source": [
    "len(X[X.recoveries>0])"
   ]
  },
  {
   "cell_type": "code",
   "execution_count": 210,
   "id": "2051666e-c2ea-47c8-aa6d-dca1dda7074e",
   "metadata": {},
   "outputs": [
    {
     "data": {
      "text/plain": [
       "0"
      ]
     },
     "execution_count": 210,
     "metadata": {},
     "output_type": "execute_result"
    }
   ],
   "source": [
    "len(X[(X.recoveries>0) & (X.target==0)])"
   ]
  },
  {
   "cell_type": "markdown",
   "id": "3013b1c2-716c-47a5-a9cb-dadaf5bf1351",
   "metadata": {},
   "source": [
    "We definitely found one strong indicator. Anyone who had post charge off recovery more than 0 was bad. It's worth looking to see what actual values we had"
   ]
  },
  {
   "cell_type": "code",
   "execution_count": 211,
   "id": "eb9392f3-c640-4345-a0c7-7509cb95f2b4",
   "metadata": {},
   "outputs": [
    {
     "data": {
      "text/plain": [
       "Index(['loan_amnt', 'funded_amnt', 'funded_amnt_inv', 'term', 'int_rate',\n",
       "       'installment', 'grade', 'sub_grade', 'emp_title', 'emp_length',\n",
       "       'home_ownership', 'annual_inc', 'verification_status', 'pymnt_plan',\n",
       "       'purpose', 'title', 'zip_code', 'addr_state', 'dti', 'delinq_2yrs',\n",
       "       'inq_last_6mths', 'mths_since_last_delinq', 'mths_since_last_record',\n",
       "       'open_acc', 'pub_rec', 'revol_bal', 'revol_util', 'total_acc',\n",
       "       'initial_list_status', 'out_prncp', 'out_prncp_inv', 'total_pymnt',\n",
       "       'total_pymnt_inv', 'total_rec_prncp', 'total_rec_int',\n",
       "       'total_rec_late_fee', 'recoveries', 'collection_recovery_fee',\n",
       "       'last_pymnt_amnt', 'collections_12_mths_ex_med',\n",
       "       'mths_since_last_major_derog', 'policy_code', 'application_type',\n",
       "       'verification_status_joint', 'acc_now_delinq', 'tot_coll_amt',\n",
       "       'tot_cur_bal', 'total_rev_hi_lim', 'last_credit_pull_d', 'last_pymnt_d',\n",
       "       'earliest_cr_line', 'next_pymnt_d', 'target', 'missing_columns',\n",
       "       'numeric_grade', 'fine_grade'],\n",
       "      dtype='object')"
      ]
     },
     "execution_count": 211,
     "metadata": {},
     "output_type": "execute_result"
    }
   ],
   "source": [
    "X.columns"
   ]
  },
  {
   "cell_type": "code",
   "execution_count": 212,
   "id": "2cf9b8a1-b460-4028-8a90-405c4086b734",
   "metadata": {},
   "outputs": [
    {
     "data": {
      "text/plain": [
       "(887379, 74)"
      ]
     },
     "execution_count": 212,
     "metadata": {},
     "output_type": "execute_result"
    }
   ],
   "source": [
    "df.shape"
   ]
  },
  {
   "cell_type": "code",
   "execution_count": 213,
   "id": "87aecb1a-34f4-4746-a734-c4985bbc395a",
   "metadata": {},
   "outputs": [
    {
     "data": {
      "text/plain": [
       "(887374, 56)"
      ]
     },
     "execution_count": 213,
     "metadata": {},
     "output_type": "execute_result"
    }
   ],
   "source": [
    "X.shape"
   ]
  },
  {
   "cell_type": "code",
   "execution_count": 214,
   "id": "db366440-643d-488f-b8e9-21b01abd2709",
   "metadata": {},
   "outputs": [],
   "source": [
    "ls=df[df.dti<=100].loan_status"
   ]
  },
  {
   "cell_type": "code",
   "execution_count": 215,
   "id": "4405a01d-f657-4788-bbba-9a6c96edb056",
   "metadata": {},
   "outputs": [
    {
     "data": {
      "text/plain": [
       "Charged Off                                            24187\n",
       "Does not meet the credit policy. Status:Charged Off      490\n",
       "Name: loan_status, dtype: int64"
      ]
     },
     "execution_count": 215,
     "metadata": {},
     "output_type": "execute_result"
    }
   ],
   "source": [
    "ls[X.recoveries>0].value_counts()"
   ]
  },
  {
   "cell_type": "markdown",
   "id": "3ca5ae61-62b0-4a5a-aad2-e5c29bcd93a1",
   "metadata": {},
   "source": [
    "It appears that the recoveries column relates to the Lending Club loan as anyone who had a recovery had a status of a loan being charged off. "
   ]
  },
  {
   "cell_type": "code",
   "execution_count": 216,
   "id": "41b5e08a-8a7c-484e-ba0d-fdb5134fbce5",
   "metadata": {},
   "outputs": [
    {
     "data": {
      "text/plain": [
       "1.0"
      ]
     },
     "execution_count": 216,
     "metadata": {},
     "output_type": "execute_result"
    }
   ],
   "source": [
    "X[X.collection_recovery_fee>0].target.mean()"
   ]
  },
  {
   "cell_type": "code",
   "execution_count": 217,
   "id": "19ff7693-6794-41a4-ba8f-ed83df73db5e",
   "metadata": {},
   "outputs": [
    {
     "data": {
      "text/plain": [
       "Charged Off                                            23035\n",
       "Does not meet the credit policy. Status:Charged Off      472\n",
       "Name: loan_status, dtype: int64"
      ]
     },
     "execution_count": 217,
     "metadata": {},
     "output_type": "execute_result"
    }
   ],
   "source": [
    "ls[X.collection_recovery_fee>0].value_counts()"
   ]
  },
  {
   "cell_type": "code",
   "execution_count": 218,
   "id": "4323500e-dc13-418c-b1ae-cf51492df10b",
   "metadata": {},
   "outputs": [
    {
     "data": {
      "text/plain": [
       "count    887374.000000\n",
       "mean          0.014377\n",
       "std           0.134180\n",
       "min           0.000000\n",
       "25%           0.000000\n",
       "50%           0.000000\n",
       "75%           0.000000\n",
       "max          20.000000\n",
       "Name: collections_12_mths_ex_med, dtype: float64"
      ]
     },
     "execution_count": 218,
     "metadata": {},
     "output_type": "execute_result"
    }
   ],
   "source": [
    "X.collections_12_mths_ex_med.describe()"
   ]
  },
  {
   "cell_type": "code",
   "execution_count": 219,
   "id": "a5902aa4-17fa-4a70-bd18-1c4b7aaa25c7",
   "metadata": {},
   "outputs": [
    {
     "data": {
      "text/plain": [
       "0.04819792825956682"
      ]
     },
     "execution_count": 219,
     "metadata": {},
     "output_type": "execute_result"
    }
   ],
   "source": [
    "X[X.collections_12_mths_ex_med>0].target.mean()"
   ]
  },
  {
   "cell_type": "code",
   "execution_count": 220,
   "id": "62fc4e05-9ceb-46e3-b3a0-2a3db4d290b7",
   "metadata": {},
   "outputs": [
    {
     "data": {
      "text/plain": [
       "0.06652559744111235"
      ]
     },
     "execution_count": 220,
     "metadata": {},
     "output_type": "execute_result"
    }
   ],
   "source": [
    "X[X.collections_12_mths_ex_med==0].target.mean()"
   ]
  },
  {
   "cell_type": "markdown",
   "id": "add166c9-d0c5-4b19-98e7-816d95e04a0c",
   "metadata": {},
   "source": [
    "The refined grade score seemed like a relevant feature. We want to compute weight of evidence and information value for this feature"
   ]
  },
  {
   "cell_type": "code",
   "execution_count": 221,
   "id": "968d4d57-806a-4d95-a8ab-4a9e9b721fe1",
   "metadata": {},
   "outputs": [],
   "source": [
    "\n",
    "\n",
    "#Method to get WoE for the feature\n",
    "def WoE(X,feature,target,adjust=0,bins=10):\n",
    "    #We will assume here that the target column is binary 0 or 1 and 1 is \"bad\"\n",
    "    #create the bins\n",
    "    bin_series=pd.cut(X[feature],bins=bins)\n",
    "    #find the number of bad in each\n",
    "    num_of_bad_by_bins=X.groupby(bin_series)[target].sum()\n",
    "    #find number of entries in each\n",
    "    num_of_entries_in_bin=X.groupby(bin_series)[target].count()\n",
    "    #find number of good in each\n",
    "    num_of_good_by_bins=num_of_entries_in_bin-num_of_bad_by_bins\n",
    "    #Get distributions\n",
    "    dist_of_bad_by_bins=num_of_bad_by_bins/num_of_bad_by_bins.sum()\n",
    "    dist_of_good_by_bins=num_of_good_by_bins/num_of_good_by_bins.sum()\n",
    "    WoE=np.log((dist_of_good_by_bins+adjust)/(dist_of_bad_by_bins+adjust))\n",
    "    return WoE\n",
    "\n",
    "#Method to return the IV(Information value) for a dataframe for a particular feature to a binary target\n",
    "def IV(X,feature,target,adjust=0,bins=10):  # adjust is a value to get an adjusted WoE if we have bins with no good or no bad values\n",
    "    #create the bins\n",
    "    bin_series=pd.cut(X[feature],bins=bins)\n",
    "    #find the number of bad in each\n",
    "    num_of_bad_by_bins=X.groupby(bin_series)[target].sum()\n",
    "    #find number of entries in each\n",
    "    num_of_entries_in_bin=X.groupby(bin_series)[target].count()\n",
    "    #find number of good in each\n",
    "    num_of_good_by_bins=num_of_entries_in_bin-num_of_bad_by_bins\n",
    "    #Get distributions\n",
    "    dist_of_bad_by_bins=num_of_bad_by_bins/num_of_bad_by_bins.sum()\n",
    "    dist_of_good_by_bins=num_of_good_by_bins/num_of_good_by_bins.sum()\n",
    "    IV=WoE(X,feature,target,adjust,bins)*(dist_of_good_by_bins-dist_of_bad_by_bins)\n",
    "   \n",
    "\n",
    "    return IV\n"
   ]
  },
  {
   "cell_type": "code",
   "execution_count": 222,
   "id": "5b6bd997-2499-4194-b56f-6c30203343ce",
   "metadata": {},
   "outputs": [
    {
     "data": {
      "text/plain": [
       "0.34721400559284754"
      ]
     },
     "execution_count": 222,
     "metadata": {},
     "output_type": "execute_result"
    }
   ],
   "source": [
    "fine_gradeIV=IV(X,\"fine_grade\",\"target\",0,17)\n",
    "fine_gradeIV.sum()"
   ]
  },
  {
   "cell_type": "markdown",
   "id": "cd1d991b-65f1-4278-8e91-6368293fd33f",
   "metadata": {},
   "source": [
    "An IV of .3472 seems like this is a very significant feature"
   ]
  },
  {
   "cell_type": "code",
   "execution_count": 223,
   "id": "ebe6fabe-561c-4a81-85e5-7adba6a46543",
   "metadata": {},
   "outputs": [
    {
     "data": {
      "text/plain": [
       "fine_grade\n",
       "(-0.034, 2.0]   -1.308851\n",
       "(2.0, 4.0]      -1.289614\n",
       "(4.0, 6.0]      -1.228876\n",
       "(6.0, 8.0]      -1.044184\n",
       "(8.0, 10.0]     -0.855888\n",
       "(10.0, 12.0]    -0.685044\n",
       "(12.0, 14.0]    -0.567753\n",
       "(14.0, 16.0]    -0.541562\n",
       "(16.0, 18.0]    -0.445329\n",
       "(18.0, 20.0]    -0.248885\n",
       "(20.0, 22.0]    -0.023527\n",
       "(22.0, 24.0]     0.083601\n",
       "(24.0, 26.0]     0.221566\n",
       "(26.0, 28.0]     0.421556\n",
       "(28.0, 30.0]     0.818567\n",
       "(30.0, 32.0]     1.066624\n",
       "(32.0, 34.0]     1.734047\n",
       "Name: target, dtype: float64"
      ]
     },
     "execution_count": 223,
     "metadata": {},
     "output_type": "execute_result"
    }
   ],
   "source": [
    "WoE(X,\"fine_grade\",\"target\",0,17)"
   ]
  },
  {
   "cell_type": "code",
   "execution_count": 224,
   "id": "3c9729ab-acb7-4ed8-ba58-7e593a54f3cd",
   "metadata": {},
   "outputs": [
    {
     "data": {
      "text/plain": [
       "int_rate\n",
       "(5.296, 6.504]      2.041698\n",
       "(6.504, 7.687]      1.341069\n",
       "(7.687, 8.87]       1.316451\n",
       "(8.87, 10.054]      0.909645\n",
       "(10.054, 11.238]    0.381557\n",
       "(11.238, 12.421]    0.401709\n",
       "(12.421, 13.604]    0.207823\n",
       "(13.604, 14.788]   -0.060201\n",
       "(14.788, 15.972]   -0.416708\n",
       "(15.972, 17.155]   -0.373142\n",
       "(17.155, 18.338]   -0.465005\n",
       "(18.338, 19.522]   -0.726858\n",
       "(19.522, 20.706]   -0.845252\n",
       "(20.706, 21.889]   -0.999687\n",
       "(21.889, 23.072]   -1.004509\n",
       "(23.072, 24.256]   -1.247536\n",
       "(24.256, 25.44]    -1.200974\n",
       "(25.44, 26.623]    -1.235618\n",
       "(26.623, 27.806]    0.160774\n",
       "(27.806, 28.99]     0.094509\n",
       "Name: target, dtype: float64"
      ]
     },
     "execution_count": 224,
     "metadata": {},
     "output_type": "execute_result"
    }
   ],
   "source": [
    "WoE(X,\"int_rate\",\"target\",0,20)"
   ]
  },
  {
   "cell_type": "code",
   "execution_count": 225,
   "id": "90b542dc-290e-4409-86cd-f4779a6ec687",
   "metadata": {},
   "outputs": [
    {
     "data": {
      "text/plain": [
       "0.05615696887686062"
      ]
     },
     "execution_count": 225,
     "metadata": {},
     "output_type": "execute_result"
    }
   ],
   "source": [
    "X[X.mths_since_last_major_derog<np.inf].target.mean()"
   ]
  },
  {
   "cell_type": "code",
   "execution_count": 226,
   "id": "834be856-b2c9-4c3f-b684-d6ea26f9c446",
   "metadata": {},
   "outputs": [
    {
     "data": {
      "text/plain": [
       "0.06965721959998437"
      ]
     },
     "execution_count": 226,
     "metadata": {},
     "output_type": "execute_result"
    }
   ],
   "source": [
    "X[X.mths_since_last_major_derog==np.inf].target.mean()"
   ]
  },
  {
   "cell_type": "markdown",
   "id": "9adaa727-1ff6-4934-9171-728e4c3def11",
   "metadata": {},
   "source": [
    "The vast majority of the values for the \"months since last major derogartory report\" are the imputed infinite ones. We can't use this for a histogram and any histogram would be skewed a number we replaced it with. We can at least see how the ones without infinity included look"
   ]
  },
  {
   "cell_type": "code",
   "execution_count": 227,
   "id": "2003d460-2a32-4dab-98ba-11e953a1579a",
   "metadata": {},
   "outputs": [],
   "source": [
    "X_has_derog=X[X.mths_since_last_major_derog<np.inf]"
   ]
  },
  {
   "cell_type": "code",
   "execution_count": 228,
   "id": "3dd2c09f-1ee0-4fe4-aab7-05190d232f6d",
   "metadata": {},
   "outputs": [
    {
     "data": {
      "image/png": "[encoded data removed]",
      "text/plain": [
       "<Figure size 432x288 with 1 Axes>"
      ]
     },
     "metadata": {
      "needs_background": "light"
     },
     "output_type": "display_data"
    }
   ],
   "source": [
    "X_has_derog[X_has_derog.target==1].mths_since_last_major_derog.hist(color=\"r\",alpha=0.2,density=True)\n",
    "X_has_derog[X_has_derog.target==0].mths_since_last_major_derog.hist(color=\"g\",alpha=0.2,density=True)\n",
    "plt.show()"
   ]
  },
  {
   "cell_type": "code",
   "execution_count": 229,
   "id": "69d7a899-ed04-40b8-9c6c-f39ea4d8a307",
   "metadata": {},
   "outputs": [
    {
     "data": {
      "image/png": "[encoded data removed]",
      "text/plain": [
       "<Figure size 432x288 with 1 Axes>"
      ]
     },
     "metadata": {
      "needs_background": "light"
     },
     "output_type": "display_data"
    }
   ],
   "source": [
    "sns.boxplot(data=X_has_derog,x=\"target\",y=\"mths_since_last_major_derog\")\n",
    "plt.show()"
   ]
  },
  {
   "cell_type": "markdown",
   "id": "d72f7e8e-2070-40ae-90e7-260f1a7aa1d4",
   "metadata": {},
   "source": [
    "We don't seem to see a signficant difference in the boxplot. They histograms indicate that there is a very slight skew towards more recent derogatory marks being more recent, but it doesn't seem major"
   ]
  },
  {
   "cell_type": "code",
   "execution_count": 230,
   "id": "9113df34-914c-4436-91f1-36c78af71731",
   "metadata": {},
   "outputs": [
    {
     "data": {
      "text/plain": [
       "count    209250.000000\n",
       "mean         44.178858\n",
       "std          22.183143\n",
       "min           0.000000\n",
       "25%          27.000000\n",
       "50%          44.000000\n",
       "75%          61.000000\n",
       "max         188.000000\n",
       "Name: mths_since_last_major_derog, dtype: float64"
      ]
     },
     "execution_count": 230,
     "metadata": {},
     "output_type": "execute_result"
    }
   ],
   "source": [
    "X_has_derog[X_has_derog.target==0].mths_since_last_major_derog.describe()"
   ]
  },
  {
   "cell_type": "code",
   "execution_count": 231,
   "id": "77c6ce8c-1c31-42ca-b6f8-c3b2804096d6",
   "metadata": {},
   "outputs": [
    {
     "data": {
      "text/plain": [
       "count    12450.000000\n",
       "mean        42.861446\n",
       "std         22.086885\n",
       "min          0.000000\n",
       "25%         25.000000\n",
       "50%         42.000000\n",
       "75%         60.000000\n",
       "max        152.000000\n",
       "Name: mths_since_last_major_derog, dtype: float64"
      ]
     },
     "execution_count": 231,
     "metadata": {},
     "output_type": "execute_result"
    }
   ],
   "source": [
    "X_has_derog[X_has_derog.target==1].mths_since_last_major_derog.describe()"
   ]
  },
  {
   "cell_type": "code",
   "execution_count": 232,
   "id": "cf9ab9d9-dba8-4754-942e-1e9fc20a8907",
   "metadata": {},
   "outputs": [],
   "source": [
    "info=IV(X_has_derog,\"mths_since_last_major_derog\",\"target\",0.1,10)"
   ]
  },
  {
   "cell_type": "code",
   "execution_count": 233,
   "id": "2e118503-0c78-45c7-8ba5-89a375436375",
   "metadata": {},
   "outputs": [
    {
     "name": "stdout",
     "output_type": "stream",
     "text": [
      "mths_since_last_major_derog\n",
      "(-0.188, 18.8]    1.527684e-03\n",
      "(18.8, 37.6]      2.709927e-05\n",
      "(37.6, 56.4]      1.106030e-07\n",
      "(56.4, 75.2]      1.253471e-03\n",
      "(75.2, 94.0]      1.049531e-05\n",
      "(94.0, 112.8]     3.576342e-05\n",
      "(112.8, 131.6]    1.260325e-05\n",
      "(131.6, 150.4]    2.992075e-06\n",
      "(150.4, 169.2]    3.391555e-08\n",
      "(169.2, 188.0]    1.118903e-08\n",
      "Name: target, dtype: float64\n"
     ]
    }
   ],
   "source": [
    "print(info)"
   ]
  },
  {
   "cell_type": "code",
   "execution_count": 234,
   "id": "ce9b734a-2b78-47af-8044-1a23050578e1",
   "metadata": {},
   "outputs": [
    {
     "data": {
      "text/plain": [
       "0.00287026404065677"
      ]
     },
     "execution_count": 234,
     "metadata": {},
     "output_type": "execute_result"
    }
   ],
   "source": [
    "info.sum()"
   ]
  },
  {
   "cell_type": "code",
   "execution_count": 235,
   "id": "b84bd9d5-9ce9-4e7d-a4bc-e0566d4dd75c",
   "metadata": {},
   "outputs": [
    {
     "data": {
      "text/plain": [
       "mths_since_last_major_derog\n",
       "(-0.188, 18.8]   -0.077344\n",
       "(18.8, 37.6]     -0.008674\n",
       "(37.6, 56.4]     -0.000542\n",
       "(56.4, 75.2]      0.060680\n",
       "(75.2, 94.0]     -0.008136\n",
       "(94.0, 112.8]     0.018493\n",
       "(112.8, 131.6]    0.011080\n",
       "(131.6, 150.4]    0.005439\n",
       "(150.4, 169.2]    0.000582\n",
       "(169.2, 188.0]    0.000334\n",
       "Name: target, dtype: float64"
      ]
     },
     "execution_count": 235,
     "metadata": {},
     "output_type": "execute_result"
    }
   ],
   "source": [
    "WoE(X_has_derog,\"mths_since_last_major_derog\",\"target\",0.1,10)"
   ]
  },
  {
   "cell_type": "code",
   "execution_count": 236,
   "id": "4f4f5192-6322-43bb-bf8e-ddb5571d5ffc",
   "metadata": {},
   "outputs": [
    {
     "data": {
      "image/png": "[encoded data removed]",
      "text/plain": [
       "<Figure size 432x288 with 2 Axes>"
      ]
     },
     "metadata": {
      "needs_background": "light"
     },
     "output_type": "display_data"
    }
   ],
   "source": [
    "sns.heatmap(X.corr())\n",
    "plt.show()"
   ]
  },
  {
   "cell_type": "code",
   "execution_count": 237,
   "id": "8edc13cb-7dd4-4f1a-a5a4-95653f129937",
   "metadata": {},
   "outputs": [
    {
     "data": {
      "text/plain": [
       "0.0       771217\n",
       "50.0        1755\n",
       "100.0       1357\n",
       "75.0        1044\n",
       "200.0        714\n",
       "           ...  \n",
       "4891.0         1\n",
       "7184.0         1\n",
       "4242.0         1\n",
       "9477.0         1\n",
       "8567.0         1\n",
       "Name: tot_coll_amt, Length: 10325, dtype: int64"
      ]
     },
     "execution_count": 237,
     "metadata": {},
     "output_type": "execute_result"
    }
   ],
   "source": [
    "X.tot_coll_amt.value_counts()"
   ]
  },
  {
   "cell_type": "code",
   "execution_count": 238,
   "id": "a88303de-0b9d-4c2f-b1ee-05626200668d",
   "metadata": {},
   "outputs": [
    {
     "data": {
      "text/plain": [
       "0.0531521991786978"
      ]
     },
     "execution_count": 238,
     "metadata": {},
     "output_type": "execute_result"
    }
   ],
   "source": [
    "X[X.tot_coll_amt>0].target.mean()"
   ]
  },
  {
   "cell_type": "code",
   "execution_count": 239,
   "id": "362c74b1-a343-4d78-be87-d00d193fe367",
   "metadata": {},
   "outputs": [
    {
     "data": {
      "text/plain": [
       "0.06826224006991548"
      ]
     },
     "execution_count": 239,
     "metadata": {},
     "output_type": "execute_result"
    }
   ],
   "source": [
    "X[X.tot_coll_amt==0].target.mean()"
   ]
  },
  {
   "cell_type": "code",
   "execution_count": 240,
   "id": "36699739-1d09-4037-b04f-d6f2d6329a70",
   "metadata": {},
   "outputs": [
    {
     "data": {
      "image/png": "[encoded data removed]",
      "text/plain": [
       "<Figure size 432x288 with 1 Axes>"
      ]
     },
     "metadata": {
      "needs_background": "light"
     },
     "output_type": "display_data"
    }
   ],
   "source": [
    "X[X.target==0].tot_coll_amt.hist(color=\"g\",alpha=0.2,density=True,range=(0,1000),histtype=\"step\",bins=20)\n",
    "X[X.target==1].tot_coll_amt.hist(color=\"r\",alpha=0.2,density=True,range=(0,1000),histtype=\"step\",bins=20)\n",
    "plt.show()"
   ]
  },
  {
   "cell_type": "code",
   "execution_count": 241,
   "id": "a42e38c2-7b46-403c-8f77-f6fef1df4341",
   "metadata": {},
   "outputs": [
    {
     "data": {
      "text/plain": [
       "99950.0"
      ]
     },
     "execution_count": 241,
     "metadata": {},
     "output_type": "execute_result"
    }
   ],
   "source": [
    "X[(X.target==0) & (X.tot_coll_amt<100000)].tot_coll_amt.max()"
   ]
  },
  {
   "cell_type": "code",
   "execution_count": 242,
   "id": "3f08e912-3a47-4914-867f-e0f43691510d",
   "metadata": {},
   "outputs": [
    {
     "data": {
      "text/plain": [
       "95806.0"
      ]
     },
     "execution_count": 242,
     "metadata": {},
     "output_type": "execute_result"
    }
   ],
   "source": [
    "X[X.target==1].tot_coll_amt.max()"
   ]
  },
  {
   "cell_type": "code",
   "execution_count": 243,
   "id": "b88158d6-b8a5-46a6-bd0e-0caac9f2b168",
   "metadata": {},
   "outputs": [
    {
     "data": {
      "text/plain": [
       "count    8.285550e+05\n",
       "mean     2.135225e+02\n",
       "std      1.023403e+04\n",
       "min      0.000000e+00\n",
       "25%      0.000000e+00\n",
       "50%      0.000000e+00\n",
       "75%      0.000000e+00\n",
       "max      9.152545e+06\n",
       "Name: tot_coll_amt, dtype: float64"
      ]
     },
     "execution_count": 243,
     "metadata": {},
     "output_type": "execute_result"
    }
   ],
   "source": [
    "X[X.target==0].tot_coll_amt.describe()"
   ]
  },
  {
   "cell_type": "code",
   "execution_count": 244,
   "id": "1eb95a49-07b0-4190-b292-f80413f956d1",
   "metadata": {},
   "outputs": [
    {
     "data": {
      "text/plain": [
       "count    58819.000000\n",
       "mean       127.630936\n",
       "std       1315.330674\n",
       "min          0.000000\n",
       "25%          0.000000\n",
       "50%          0.000000\n",
       "75%          0.000000\n",
       "max      95806.000000\n",
       "Name: tot_coll_amt, dtype: float64"
      ]
     },
     "execution_count": 244,
     "metadata": {},
     "output_type": "execute_result"
    }
   ],
   "source": [
    "X[X.target==1].tot_coll_amt.describe()"
   ]
  },
  {
   "cell_type": "markdown",
   "id": "3d408deb-be2c-422d-adf2-1dffbfbeeed7",
   "metadata": {},
   "source": [
    "Total collection amount doesn't look great for a feature for prediction. We can keep it and if we have trouble getting a good model ,remove it and retrain"
   ]
  },
  {
   "cell_type": "code",
   "execution_count": 245,
   "id": "5ac1a2ed-629c-4ab9-8263-b60d9845cd9c",
   "metadata": {},
   "outputs": [
    {
     "data": {
      "text/plain": [
       "loan_amnt                      float64\n",
       "funded_amnt                    float64\n",
       "funded_amnt_inv                float64\n",
       "term                            object\n",
       "int_rate                       float64\n",
       "installment                    float64\n",
       "grade                           object\n",
       "sub_grade                       object\n",
       "emp_title                       object\n",
       "emp_length                     float64\n",
       "home_ownership                  object\n",
       "annual_inc                     float64\n",
       "verification_status             object\n",
       "pymnt_plan                      object\n",
       "purpose                         object\n",
       "title                           object\n",
       "zip_code                        object\n",
       "addr_state                      object\n",
       "dti                            float64\n",
       "delinq_2yrs                    float64\n",
       "inq_last_6mths                 float64\n",
       "mths_since_last_delinq         float64\n",
       "mths_since_last_record         float64\n",
       "open_acc                       float64\n",
       "pub_rec                        float64\n",
       "revol_bal                      float64\n",
       "revol_util                     float64\n",
       "total_acc                      float64\n",
       "initial_list_status             object\n",
       "out_prncp                      float64\n",
       "out_prncp_inv                  float64\n",
       "total_pymnt                    float64\n",
       "total_pymnt_inv                float64\n",
       "total_rec_prncp                float64\n",
       "total_rec_int                  float64\n",
       "total_rec_late_fee             float64\n",
       "recoveries                     float64\n",
       "collection_recovery_fee        float64\n",
       "last_pymnt_amnt                float64\n",
       "collections_12_mths_ex_med     float64\n",
       "mths_since_last_major_derog    float64\n",
       "policy_code                    float64\n",
       "application_type                object\n",
       "verification_status_joint       object\n",
       "acc_now_delinq                 float64\n",
       "tot_coll_amt                   float64\n",
       "tot_cur_bal                    float64\n",
       "total_rev_hi_lim               float64\n",
       "last_credit_pull_d             float64\n",
       "last_pymnt_d                   float64\n",
       "earliest_cr_line               float64\n",
       "next_pymnt_d                   float64\n",
       "target                           int64\n",
       "missing_columns                  int64\n",
       "numeric_grade                    int64\n",
       "fine_grade                       int64\n",
       "dtype: object"
      ]
     },
     "execution_count": 245,
     "metadata": {},
     "output_type": "execute_result"
    }
   ],
   "source": [
    "X.dtypes"
   ]
  },
  {
   "cell_type": "code",
   "execution_count": 246,
   "id": "0b3bd87b-013e-4666-a560-2a608f1f506d",
   "metadata": {},
   "outputs": [
    {
     "data": {
      "text/plain": [
       "pandas.core.series.Series"
      ]
     },
     "execution_count": 246,
     "metadata": {},
     "output_type": "execute_result"
    }
   ],
   "source": [
    "type(X.dtypes)"
   ]
  },
  {
   "cell_type": "code",
   "execution_count": 247,
   "id": "71c2bc21-34a7-4dde-93b0-916256dbca8f",
   "metadata": {},
   "outputs": [
    {
     "data": {
      "text/plain": [
       "term                         object\n",
       "grade                        object\n",
       "sub_grade                    object\n",
       "emp_title                    object\n",
       "home_ownership               object\n",
       "verification_status          object\n",
       "pymnt_plan                   object\n",
       "purpose                      object\n",
       "title                        object\n",
       "zip_code                     object\n",
       "addr_state                   object\n",
       "initial_list_status          object\n",
       "application_type             object\n",
       "verification_status_joint    object\n",
       "dtype: object"
      ]
     },
     "execution_count": 247,
     "metadata": {},
     "output_type": "execute_result"
    }
   ],
   "source": [
    "X.dtypes[X.dtypes==\"object\"]"
   ]
  },
  {
   "cell_type": "markdown",
   "id": "aab648da-4a40-4d60-9933-84ba51e7e5d7",
   "metadata": {},
   "source": [
    "Before modeling we need to look at each of these and see how to deal with each"
   ]
  },
  {
   "cell_type": "code",
   "execution_count": 248,
   "id": "7943716f-93c9-41e8-a8eb-710bf00c9d98",
   "metadata": {},
   "outputs": [
    {
     "data": {
      "text/plain": [
       " 36 months    621121\n",
       " 60 months    266253\n",
       "Name: term, dtype: int64"
      ]
     },
     "execution_count": 248,
     "metadata": {},
     "output_type": "execute_result"
    }
   ],
   "source": [
    "X.term.value_counts()"
   ]
  },
  {
   "cell_type": "code",
   "execution_count": 257,
   "id": "0c6ab257-dd5e-4684-9b96-c22afbe8f2da",
   "metadata": {},
   "outputs": [],
   "source": [
    "X.term=X.term.map({\" 36 months\":36,\" 60 months\":60})"
   ]
  },
  {
   "cell_type": "code",
   "execution_count": 258,
   "id": "145c08c1-afea-4d14-a213-9ab16973bd95",
   "metadata": {},
   "outputs": [
    {
     "data": {
      "text/plain": [
       "36    621121\n",
       "60    266253\n",
       "Name: term, dtype: int64"
      ]
     },
     "execution_count": 258,
     "metadata": {},
     "output_type": "execute_result"
    }
   ],
   "source": [
    "X.term.value_counts()"
   ]
  },
  {
   "cell_type": "code",
   "execution_count": 261,
   "id": "d5d1458d-8026-4f87-a705-8195df4b128e",
   "metadata": {},
   "outputs": [],
   "source": [
    "X2.term=X2.term.map({\"36 months\":36,\"60 months\":60})"
   ]
  },
  {
   "cell_type": "code",
   "execution_count": null,
   "id": "07f059f1-a7f9-4efb-9aac-62da265e7720",
   "metadata": {},
   "outputs": [],
   "source": [
    "#We have numeric versions of the grade and sub_grade so we can get rid of the strings\n",
    "X.drop(columns=[\"grade\",\"sub_grade\"],inplace=True)\n",
    "X2.drop(columns=[\"grade\",\"sub_grade\"],inplace=True)"
   ]
  },
  {
   "cell_type": "code",
   "execution_count": 272,
   "id": "9908a651-acc2-423a-8132-e7d2ac954893",
   "metadata": {},
   "outputs": [
    {
     "data": {
      "text/plain": [
       "array(['other', 'Ryder', 'AIR RESOURCES BOARD', ...,\n",
       "       'machining Cell Lead', 'KYC Business Analyst',\n",
       "       'Manager Hotel Operations Oasis '], dtype=object)"
      ]
     },
     "execution_count": 272,
     "metadata": {},
     "output_type": "execute_result"
    }
   ],
   "source": [
    "X.emp_title.unique()"
   ]
  },
  {
   "cell_type": "code",
   "execution_count": 274,
   "id": "e2535092-1733-4536-b787-ef1e48236830",
   "metadata": {},
   "outputs": [
    {
     "data": {
      "text/plain": [
       "299270"
      ]
     },
     "execution_count": 274,
     "metadata": {},
     "output_type": "execute_result"
    }
   ],
   "source": [
    "len(X.emp_title.unique())"
   ]
  },
  {
   "cell_type": "markdown",
   "id": "e91e4ee4-cc6c-4f4a-88a2-730090c1cfdb",
   "metadata": {},
   "source": [
    "We have 299270 different titles. That would create a huge number of features if we just one hot encode this."
   ]
  },
  {
   "cell_type": "code",
   "execution_count": 275,
   "id": "faca563b-b4bd-4033-8a7b-16db35ed971a",
   "metadata": {},
   "outputs": [
    {
     "data": {
      "text/plain": [
       "pandas.core.series.Series"
      ]
     },
     "execution_count": 275,
     "metadata": {},
     "output_type": "execute_result"
    }
   ],
   "source": [
    "type(X.emp_title.value_counts())"
   ]
  },
  {
   "cell_type": "code",
   "execution_count": 277,
   "id": "86b515af-30c4-49b7-8f89-ce53f8bb91b6",
   "metadata": {},
   "outputs": [
    {
     "data": {
      "text/plain": [
       "other                       51459\n",
       "Teacher                     13469\n",
       "Manager                     11240\n",
       "Registered Nurse             5525\n",
       "Owner                        5376\n",
       "                            ...  \n",
       "Redwood Credit Union            2\n",
       "Administrative Aide             2\n",
       "Lead Datacenter Engineer        2\n",
       "enviromental services           2\n",
       "Phoenix American                2\n",
       "Name: emp_title, Length: 53685, dtype: int64"
      ]
     },
     "execution_count": 277,
     "metadata": {},
     "output_type": "execute_result"
    }
   ],
   "source": [
    "X.emp_title.value_counts()[X.emp_title.value_counts()>1]"
   ]
  },
  {
   "cell_type": "code",
   "execution_count": 282,
   "id": "c52d29cc-542d-4b09-9b48-b4ffc492b4e9",
   "metadata": {},
   "outputs": [
    {
     "data": {
      "text/plain": [
       "other                       51459\n",
       "Teacher                     13469\n",
       "Manager                     11240\n",
       "Registered Nurse             5525\n",
       "Owner                        5376\n",
       "RN                           5355\n",
       "Supervisor                   4983\n",
       "Sales                        4212\n",
       "Project Manager              3988\n",
       "Driver                       3569\n",
       "Office Manager               3510\n",
       "General Manager              3178\n",
       "Director                     3156\n",
       "manager                      3138\n",
       "teacher                      2925\n",
       "owner                        2849\n",
       "Engineer                     2671\n",
       "President                    2598\n",
       "driver                       2429\n",
       "Vice President               2351\n",
       "Attorney                     2136\n",
       "Operations Manager           2071\n",
       "Accountant                   2035\n",
       "Administrative Assistant     2019\n",
       "Sales Manager                1846\n",
       "Account Manager              1725\n",
       "sales                        1724\n",
       "Police Officer               1720\n",
       "supervisor                   1675\n",
       "Executive Assistant          1603\n",
       "Analyst                      1538\n",
       "Store Manager                1515\n",
       "Technician                   1462\n",
       "Nurse                        1426\n",
       "Truck Driver                 1387\n",
       "truck driver                 1387\n",
       "Software Engineer            1344\n",
       "Paralegal                    1299\n",
       "Controller                   1246\n",
       "Consultant                   1242\n",
       "Assistant Manager            1199\n",
       "Program Manager              1188\n",
       "Branch Manager               1177\n",
       "Server                       1120\n",
       "Administrator                1103\n",
       "Principal                    1073\n",
       "Account Executive            1072\n",
       "Mechanic                     1044\n",
       "Business Analyst             1013\n",
       "Name: emp_title, dtype: int64"
      ]
     },
     "execution_count": 282,
     "metadata": {},
     "output_type": "execute_result"
    }
   ],
   "source": [
    "X.emp_title.value_counts()[X.emp_title.value_counts()>1000]"
   ]
  },
  {
   "cell_type": "code",
   "execution_count": 289,
   "id": "ef077f2e-c5e5-4278-9f50-1a6fa30a8eb8",
   "metadata": {},
   "outputs": [],
   "source": [
    "engineer_titles=[]\n",
    "for st in X.emp_title.unique():\n",
    "    if \"engineer\" in str.lower(st):\n",
    "        engineer_titles.append(st)"
   ]
  },
  {
   "cell_type": "code",
   "execution_count": 290,
   "id": "8d9379d0-57ca-4f31-829c-8f0d26836d7a",
   "metadata": {},
   "outputs": [],
   "source": [
    "manager_titles=[]\n",
    "for st in X.emp_title.unique():\n",
    "    if \"manager\" in str.lower(st):\n",
    "        manager_titles.append(st)"
   ]
  },
  {
   "cell_type": "code",
   "execution_count": 291,
   "id": "d0be16d1-87c1-4baf-a910-07cd3979cde9",
   "metadata": {},
   "outputs": [
    {
     "data": {
      "text/plain": [
       "5881"
      ]
     },
     "execution_count": 291,
     "metadata": {},
     "output_type": "execute_result"
    }
   ],
   "source": [
    "len(engineer_titles)"
   ]
  },
  {
   "cell_type": "code",
   "execution_count": 292,
   "id": "3621a5aa-9874-4bc5-8dfd-35ada750052f",
   "metadata": {},
   "outputs": [
    {
     "data": {
      "text/plain": [
       "21136"
      ]
     },
     "execution_count": 292,
     "metadata": {},
     "output_type": "execute_result"
    }
   ],
   "source": [
    "len(manager_titles)"
   ]
  },
  {
   "cell_type": "code",
   "execution_count": 293,
   "id": "e477a90c-ab80-4474-bfac-611c10f0cda2",
   "metadata": {},
   "outputs": [],
   "source": [
    "education_titles=[]\n",
    "for st in X.emp_title.unique():\n",
    "    if (\"teach\" in str.lower(st)) or (\"professor\" in str.lower(st)) or (\"educ\" in str.lower(st)):\n",
    "        education_titles.append(st)"
   ]
  },
  {
   "cell_type": "code",
   "execution_count": 294,
   "id": "2fde4d7d-af1d-47f2-91fc-bd08a1688163",
   "metadata": {},
   "outputs": [
    {
     "data": {
      "text/plain": [
       "3379"
      ]
     },
     "execution_count": 294,
     "metadata": {},
     "output_type": "execute_result"
    }
   ],
   "source": [
    "len(education_titles)"
   ]
  },
  {
   "cell_type": "code",
   "execution_count": 295,
   "id": "cbf5ecab-2045-4254-aaec-25c1639b03c1",
   "metadata": {},
   "outputs": [
    {
     "data": {
      "text/plain": [
       "['bmg-educational',\n",
       " 'Global Teachers Research and Resources',\n",
       " 'S&V Education Systems/ Middle GA Center',\n",
       " 'West Metro Education Partners',\n",
       " 'Knott County Board of Education',\n",
       " 'US Department of Education',\n",
       " 'Imperial County Office of Education',\n",
       " 'Follett Higher Education Group',\n",
       " 'North Bergen Board of Education',\n",
       " 'Educational Testing Service']"
      ]
     },
     "execution_count": 295,
     "metadata": {},
     "output_type": "execute_result"
    }
   ],
   "source": [
    "education_titles[:10]"
   ]
  },
  {
   "cell_type": "code",
   "execution_count": 296,
   "id": "579f9b57-eee9-4628-955d-aa884dc32722",
   "metadata": {},
   "outputs": [
    {
     "data": {
      "text/plain": [
       "MORTGAGE    443553\n",
       "RENT        356116\n",
       "OWN          87470\n",
       "OTHER          182\n",
       "NONE            50\n",
       "ANY              3\n",
       "Name: home_ownership, dtype: int64"
      ]
     },
     "execution_count": 296,
     "metadata": {},
     "output_type": "execute_result"
    }
   ],
   "source": [
    "X.home_ownership.value_counts()"
   ]
  },
  {
   "cell_type": "code",
   "execution_count": 297,
   "id": "b7adf089-dd34-442a-bb69-b01a2a7fed24",
   "metadata": {},
   "outputs": [
    {
     "data": {
      "text/plain": [
       "MORTGAGE    371579\n",
       "RENT        297100\n",
       "OWN          90151\n",
       "ANY            504\n",
       "NONE             4\n",
       "Name: home_ownership, dtype: int64"
      ]
     },
     "execution_count": 297,
     "metadata": {},
     "output_type": "execute_result"
    }
   ],
   "source": [
    "X2.home_ownership.value_counts()"
   ]
  },
  {
   "cell_type": "markdown",
   "id": "832efcdf-340f-4c87-9864-1b7b755450f3",
   "metadata": {},
   "source": [
    "Home ownership only has a few possible values. One-hot encoding should work fine here"
   ]
  },
  {
   "cell_type": "code",
   "execution_count": 298,
   "id": "4c8cd4d1-350f-42c8-87af-e1d34dfe3fbc",
   "metadata": {},
   "outputs": [
    {
     "data": {
      "text/plain": [
       "n    887364\n",
       "y        10\n",
       "Name: pymnt_plan, dtype: int64"
      ]
     },
     "execution_count": 298,
     "metadata": {},
     "output_type": "execute_result"
    }
   ],
   "source": [
    "X.pymnt_plan.value_counts()"
   ]
  },
  {
   "cell_type": "code",
   "execution_count": 299,
   "id": "1e9b440c-0e3a-46ff-9163-69a07922231d",
   "metadata": {},
   "outputs": [
    {
     "data": {
      "text/plain": [
       "n    758794\n",
       "y       544\n",
       "Name: pymnt_plan, dtype: int64"
      ]
     },
     "execution_count": 299,
     "metadata": {},
     "output_type": "execute_result"
    }
   ],
   "source": [
    "X2.pymnt_plan.value_counts()"
   ]
  },
  {
   "cell_type": "markdown",
   "id": "e01329bf-3be7-47a5-b140-26ea92788993",
   "metadata": {},
   "source": [
    "There aren't many \"y\" values in each, but we can simply map n to 0 and y to 1 to get a binary feature."
   ]
  },
  {
   "cell_type": "code",
   "execution_count": 301,
   "id": "76f5135e-ab37-4366-9cf0-51570fcab695",
   "metadata": {},
   "outputs": [],
   "source": [
    "X.pymnt_plan=X.pymnt_plan.map({\"n\":0,\"y\":1})\n",
    "X2.pymnt_plan=X2.pymnt_plan.map({\"n\":0,\"y\":1})"
   ]
  },
  {
   "cell_type": "code",
   "execution_count": 303,
   "id": "c750be40-53db-4c0c-8ad7-a57ce8b7b5d8",
   "metadata": {},
   "outputs": [
    {
     "data": {
      "text/plain": [
       "debt_consolidation    524213\n",
       "credit_card           206180\n",
       "home_improvement       51829\n",
       "other                  42893\n",
       "major_purchase         17277\n",
       "small_business         10377\n",
       "car                     8863\n",
       "medical                 8540\n",
       "moving                  5414\n",
       "vacation                4736\n",
       "house                   3707\n",
       "wedding                 2347\n",
       "renewable_energy         575\n",
       "educational              423\n",
       "Name: purpose, dtype: int64"
      ]
     },
     "execution_count": 303,
     "metadata": {},
     "output_type": "execute_result"
    }
   ],
   "source": [
    "X.purpose.value_counts()"
   ]
  },
  {
   "cell_type": "code",
   "execution_count": 304,
   "id": "79d83940-5477-4d1f-ba9d-35f7871e7de0",
   "metadata": {},
   "outputs": [
    {
     "data": {
      "text/plain": [
       "debt_consolidation    431530\n",
       "credit_card           157768\n",
       "home_improvement       57197\n",
       "other                  50680\n",
       "major_purchase         18319\n",
       "medical                10360\n",
       "car                     8777\n",
       "small_business          8235\n",
       "vacation                6416\n",
       "moving                  5973\n",
       "house                   3561\n",
       "renewable_energy         519\n",
       "wedding                    3\n",
       "Name: purpose, dtype: int64"
      ]
     },
     "execution_count": 304,
     "metadata": {},
     "output_type": "execute_result"
    }
   ],
   "source": [
    "X2.purpose.value_counts()"
   ]
  },
  {
   "cell_type": "markdown",
   "id": "58046e22-4ff4-4c60-8326-78e0317f1e98",
   "metadata": {},
   "source": [
    "We have a relatively small number of values here, so we can one-hot encode these later"
   ]
  },
  {
   "cell_type": "code",
   "execution_count": 307,
   "id": "e36cec18-8a89-424d-a4fb-bd4e4a6dc1ab",
   "metadata": {},
   "outputs": [
    {
     "data": {
      "text/plain": [
       "Debt consolidation                     413999\n",
       "Credit card refinancing                164329\n",
       "Home improvement                        40112\n",
       "Other                                   31891\n",
       "Debt Consolidation                      15760\n",
       "                                        ...  \n",
       "New Heater                                  1\n",
       "Looking to get out of debt                  1\n",
       "Debt Conso/Pay off initial LC loan          1\n",
       "Emergency Home Repair                       1\n",
       "Credit Card/Auto Repair                     1\n",
       "Name: title, Length: 63144, dtype: int64"
      ]
     },
     "execution_count": 307,
     "metadata": {},
     "output_type": "execute_result"
    }
   ],
   "source": [
    "X.title.value_counts()"
   ]
  },
  {
   "cell_type": "code",
   "execution_count": 313,
   "id": "306f62cb-d276-4ad7-bf78-88ee136fe791",
   "metadata": {},
   "outputs": [
    {
     "data": {
      "text/plain": [
       "Index(['Debt consolidation', 'Credit card refinancing', 'Home improvement',\n",
       "       'Other', 'other', 'Major purchase', 'Medical expenses', 'Car financing',\n",
       "       'Business', 'Vacation', 'Moving and relocation', 'Home buying',\n",
       "       'Green loan', 'Credit Card Consolidation'],\n",
       "      dtype='object')"
      ]
     },
     "execution_count": 313,
     "metadata": {},
     "output_type": "execute_result"
    }
   ],
   "source": [
    "X2.title.value_counts().index"
   ]
  },
  {
   "cell_type": "code",
   "execution_count": 309,
   "id": "968176f3-7830-4d7b-8ca4-f9c41e62c57a",
   "metadata": {},
   "outputs": [
    {
     "data": {
      "text/plain": [
       "Debt consolidation         413999\n",
       "Credit card refinancing    164329\n",
       "Home improvement            40112\n",
       "Other                       31891\n",
       "Debt Consolidation          15760\n",
       "                            ...  \n",
       "Motorcycle Financing            2\n",
       "September 2011 Loan             2\n",
       "Debt Free 2011                  2\n",
       "Medical Debt Relief             2\n",
       "Best Buy                        2\n",
       "Name: title, Length: 9178, dtype: int64"
      ]
     },
     "execution_count": 309,
     "metadata": {},
     "output_type": "execute_result"
    }
   ],
   "source": [
    "X.title.value_counts()[X.title.value_counts()>1]"
   ]
  },
  {
   "cell_type": "markdown",
   "id": "46d9ce07-7203-4a60-b8a1-cb611aaddd3c",
   "metadata": {},
   "source": [
    "We have a lot of purposes listed, many of which only occur once. We can possibly call those \"other\" or try something else. "
   ]
  },
  {
   "cell_type": "code",
   "execution_count": 314,
   "id": "d38a16d2-ecb2-4382-97ae-04ba0c438bd1",
   "metadata": {},
   "outputs": [
    {
     "data": {
      "text/plain": [
       "945xx    9770\n",
       "750xx    9417\n",
       "112xx    9272\n",
       "606xx    8641\n",
       "300xx    8126\n",
       "         ... \n",
       "569xx       1\n",
       "348xx       1\n",
       "819xx       1\n",
       "375xx       1\n",
       "507xx       1\n",
       "Name: zip_code, Length: 935, dtype: int64"
      ]
     },
     "execution_count": 314,
     "metadata": {},
     "output_type": "execute_result"
    }
   ],
   "source": [
    "X.zip_code.value_counts()"
   ]
  },
  {
   "cell_type": "markdown",
   "id": "a370aa31-0218-4db5-be8c-f207ca593921",
   "metadata": {},
   "source": [
    "For zip codes we can strip off the letters at the end and convert to integers. If we ever use anything linear we will have to go back to this and encode somehow as these numbers aren't ordinal measures"
   ]
  },
  {
   "cell_type": "code",
   "execution_count": 316,
   "id": "34c9624d-f8fc-44e7-b906-e93740e2332c",
   "metadata": {},
   "outputs": [],
   "source": [
    "X.zip_code=X.zip_code.str.replace(\"x\",\"\").astype(int)"
   ]
  },
  {
   "cell_type": "code",
   "execution_count": 317,
   "id": "0375c1f4-6d35-49a9-b604-200fcebb6a90",
   "metadata": {},
   "outputs": [],
   "source": [
    "X2.zip_code=X2.zip_code.str.replace(\"x\",\"\").astype(int)"
   ]
  },
  {
   "cell_type": "code",
   "execution_count": null,
   "id": "2e64b334-824a-49ba-af70-732cd4955392",
   "metadata": {},
   "outputs": [],
   "source": [
    "X.addr_state.value_counts()"
   ]
  },
  {
   "cell_type": "markdown",
   "id": "88b72668-4b97-4026-820c-107553c0980a",
   "metadata": {},
   "source": [
    "We could one-hot encode these. However, the zip code is a refined location tag , so it might make sense to simply drop this and use the location based on zip code."
   ]
  },
  {
   "cell_type": "code",
   "execution_count": 319,
   "id": "4dcbfbf8-f427-4ec9-b51d-b021b799c671",
   "metadata": {},
   "outputs": [
    {
     "data": {
      "text/plain": [
       "Debt consolidation                     413999\n",
       "Credit card refinancing                164329\n",
       "Home improvement                        40112\n",
       "Other                                   31891\n",
       "Debt Consolidation                      15760\n",
       "                                        ...  \n",
       "New Heater                                  1\n",
       "Looking to get out of debt                  1\n",
       "Debt Conso/Pay off initial LC loan          1\n",
       "Emergency Home Repair                       1\n",
       "Credit Card/Auto Repair                     1\n",
       "Name: title, Length: 63144, dtype: int64"
      ]
     },
     "execution_count": 319,
     "metadata": {},
     "output_type": "execute_result"
    }
   ],
   "source": [
    "X.title.value_counts()"
   ]
  },
  {
   "cell_type": "code",
   "execution_count": 320,
   "id": "fdefe52d-92eb-4d80-8fc2-9f653655a8fa",
   "metadata": {},
   "outputs": [
    {
     "data": {
      "text/plain": [
       "debt_consolidation    524213\n",
       "credit_card           206180\n",
       "home_improvement       51829\n",
       "other                  42893\n",
       "major_purchase         17277\n",
       "small_business         10377\n",
       "car                     8863\n",
       "medical                 8540\n",
       "moving                  5414\n",
       "vacation                4736\n",
       "house                   3707\n",
       "wedding                 2347\n",
       "renewable_energy         575\n",
       "educational              423\n",
       "Name: purpose, dtype: int64"
      ]
     },
     "execution_count": 320,
     "metadata": {},
     "output_type": "execute_result"
    }
   ],
   "source": [
    "X.purpose.value_counts()"
   ]
  },
  {
   "cell_type": "markdown",
   "id": "bc6d1018-b15c-432f-9eaf-f761ef3ea729",
   "metadata": {},
   "source": [
    "\"Purpose\" and \"title\" seem to have similar types of values, but \"purpose\" has fewer values."
   ]
  },
  {
   "cell_type": "code",
   "execution_count": 322,
   "id": "c3f7f7ea-3492-414e-bc66-239d22c05d46",
   "metadata": {},
   "outputs": [
    {
     "data": {
      "text/plain": [
       "{'educational'}"
      ]
     },
     "execution_count": 322,
     "metadata": {},
     "output_type": "execute_result"
    }
   ],
   "source": [
    "set(X.purpose.unique()).difference(set(X2.purpose.unique()))"
   ]
  },
  {
   "cell_type": "code",
   "execution_count": 324,
   "id": "9cf42143-ccb8-4b8a-bee2-57449369c2f2",
   "metadata": {},
   "outputs": [
    {
     "data": {
      "text/plain": [
       "set()"
      ]
     },
     "execution_count": 324,
     "metadata": {},
     "output_type": "execute_result"
    }
   ],
   "source": [
    "set(X2.purpose.unique()).difference(set(X.purpose.unique()))"
   ]
  },
  {
   "cell_type": "markdown",
   "id": "db752696-c0a1-4708-93bc-219430e96419",
   "metadata": {},
   "source": [
    "The other advanatage of purpose is that we aren't as likely to get a new purpose shown. With \"title\" we'd really need to have some kind of metric or clustering associated that we could apply to a new loan."
   ]
  },
  {
   "cell_type": "code",
   "execution_count": 321,
   "id": "a338c971-4339-405f-a12c-24ab70aa4c42",
   "metadata": {},
   "outputs": [
    {
     "data": {
      "text/plain": [
       "f    456846\n",
       "w    430528\n",
       "Name: initial_list_status, dtype: int64"
      ]
     },
     "execution_count": 321,
     "metadata": {},
     "output_type": "execute_result"
    }
   ],
   "source": [
    "X.initial_list_status.value_counts()"
   ]
  },
  {
   "cell_type": "code",
   "execution_count": 325,
   "id": "46d9d94a-c27d-45cc-b23d-98bba66b59c4",
   "metadata": {},
   "outputs": [
    {
     "data": {
      "text/plain": [
       "w    580878\n",
       "f    178460\n",
       "Name: initial_list_status, dtype: int64"
      ]
     },
     "execution_count": 325,
     "metadata": {},
     "output_type": "execute_result"
    }
   ],
   "source": [
    "X2.initial_list_status.value_counts()"
   ]
  },
  {
   "cell_type": "markdown",
   "id": "3369ee85-e2cd-444d-a53f-ee615d435b33",
   "metadata": {},
   "source": [
    "Initial list status is a binary feature so we can simply convert to 0 and 1\n"
   ]
  },
  {
   "cell_type": "code",
   "execution_count": 327,
   "id": "58d096bf-4911-4abb-b293-b16acd16bef1",
   "metadata": {},
   "outputs": [],
   "source": [
    "X.initial_list_status=X.initial_list_status.map({\"f\":0,\"w\":1})\n",
    "X2.initial_list_status=X2.initial_list_status.map({\"f\":0,\"w\":1})"
   ]
  },
  {
   "cell_type": "code",
   "execution_count": 326,
   "id": "76e144b7-177c-41c6-9f4c-f12c664112a4",
   "metadata": {},
   "outputs": [
    {
     "data": {
      "text/plain": [
       "0         0\n",
       "1         0\n",
       "2         0\n",
       "3         0\n",
       "4         0\n",
       "         ..\n",
       "887374    0\n",
       "887375    0\n",
       "887376    1\n",
       "887377    1\n",
       "887378    0\n",
       "Name: initial_list_status, Length: 887374, dtype: int64"
      ]
     },
     "execution_count": 326,
     "metadata": {},
     "output_type": "execute_result"
    }
   ],
   "source": []
  },
  {
   "cell_type": "code",
   "execution_count": 328,
   "id": "5892543a-3a47-436b-a8cd-fc084929c856",
   "metadata": {},
   "outputs": [
    {
     "data": {
      "text/plain": [
       "Source Verified    329557\n",
       "Verified           291070\n",
       "Not Verified       266747\n",
       "Name: verification_status, dtype: int64"
      ]
     },
     "execution_count": 328,
     "metadata": {},
     "output_type": "execute_result"
    }
   ],
   "source": [
    "X.verification_status.value_counts()"
   ]
  },
  {
   "cell_type": "code",
   "execution_count": 329,
   "id": "67bb009f-5df5-4cc4-96de-5be944249658",
   "metadata": {},
   "outputs": [
    {
     "data": {
      "text/plain": [
       "Source Verified    329484\n",
       "Verified           290976\n",
       "Not Verified       266914\n",
       "Name: verification_status_joint, dtype: int64"
      ]
     },
     "execution_count": 329,
     "metadata": {},
     "output_type": "execute_result"
    }
   ],
   "source": [
    "X.verification_status_joint.value_counts()"
   ]
  },
  {
   "cell_type": "code",
   "execution_count": 333,
   "id": "84d0711a-836a-4cef-807a-336968f560da",
   "metadata": {},
   "outputs": [
    {
     "data": {
      "text/plain": [
       "Not Verified       167\n",
       "Source Verified     22\n",
       "Name: verification_status_joint, dtype: int64"
      ]
     },
     "execution_count": 333,
     "metadata": {},
     "output_type": "execute_result"
    }
   ],
   "source": [
    "X[X.verification_status_joint!=X.verification_status].verification_status_joint.value_counts()"
   ]
  },
  {
   "cell_type": "code",
   "execution_count": 334,
   "id": "3a9416c5-b2c4-415f-acf7-254e39d1808a",
   "metadata": {},
   "outputs": [
    {
     "data": {
      "text/plain": [
       "Source Verified    95\n",
       "Verified           72\n",
       "Name: verification_status, dtype: int64"
      ]
     },
     "execution_count": 334,
     "metadata": {},
     "output_type": "execute_result"
    }
   ],
   "source": [
    "X[(X.verification_status_joint!=X.verification_status) & (X.verification_status_joint==\"Not Verified\")].verification_status.value_counts()"
   ]
  },
  {
   "cell_type": "code",
   "execution_count": 335,
   "id": "b0e38eba-3f41-47f3-a738-5b186f42946a",
   "metadata": {},
   "outputs": [
    {
     "data": {
      "text/plain": [
       "Verified    22\n",
       "Name: verification_status, dtype: int64"
      ]
     },
     "execution_count": 335,
     "metadata": {},
     "output_type": "execute_result"
    }
   ],
   "source": [
    "X[(X.verification_status_joint!=X.verification_status) & (X.verification_status_joint==\"Source Verified\")].verification_status.value_counts()"
   ]
  },
  {
   "cell_type": "code",
   "execution_count": 340,
   "id": "c3f46e53-e775-4554-a11e-72d6463cdf2a",
   "metadata": {},
   "outputs": [],
   "source": [
    "def f(status1,status2):\n",
    "    if status1==status2:\n",
    "        return status1\n",
    "    elif status1==\"Verified\":\n",
    "        return status1\n",
    "    elif status2==\"Verified\":\n",
    "        return status2\n",
    "    elif status1==\"Source Verified\":\n",
    "        return status1\n",
    "    elif status2==\"Source Verified\":\n",
    "        return status2\n",
    "    "
   ]
  },
  {
   "cell_type": "code",
   "execution_count": 341,
   "id": "c422e592-4293-4c86-865c-985056a5b8c2",
   "metadata": {},
   "outputs": [
    {
     "name": "stdout",
     "output_type": "stream",
     "text": [
      "Verified Verified Verified\n",
      "Verified Source Verified Verified\n",
      "Verified Not Verified Verified\n",
      "Source Verified Verified Verified\n",
      "Source Verified Source Verified Source Verified\n",
      "Source Verified Not Verified Source Verified\n",
      "Not Verified Verified Verified\n",
      "Not Verified Source Verified Source Verified\n",
      "Not Verified Not Verified Not Verified\n"
     ]
    }
   ],
   "source": [
    "for i in [\"Verified\",\"Source Verified\",\"Not Verified\"]:\n",
    "    for j in [\"Verified\",\"Source Verified\",\"Not Verified\"]:\n",
    "        print (i,j,f(i,j))"
   ]
  },
  {
   "cell_type": "markdown",
   "id": "3e0063f7-d8ab-44a3-80c6-2632fba368a4",
   "metadata": {},
   "source": [
    "We have some possible ways to deal with different verification on a joint loan. One possibility is essentially to say that if one was verified, treat it as verified, if neither were verified, but one was source verified, treat it as source verified, and if both were not verified treat it as not verified."
   ]
  },
  {
   "cell_type": "markdown",
   "id": "8bd555d2-ba9e-4ddc-b483-329c2c32d636",
   "metadata": {},
   "source": [
    "At this point we have a few things to finalize before being able to attempt a model\n",
    "\n",
    "1)How to treat the employment title. One hot encoding can't work because we might get a new employment title entered. We might try some kind of clustering to get only a few types of possible employment. This would be some kind of clustering and/or labeling by title.\n",
    "\n",
    "2)How to deal with \"purpose\" and \"title\" : \"Purpose\" seems to have fewer possible values. This helps with not having too many features if we choose to one-hot encode, and also avoids problems if a new title that wasn't on the list arises. To use we'd have to cluster/label by title. Also there seems to be a lot of overlap and \"title\" just includes some little used purposes.\n",
    "\n",
    "3)How to deal with different levels of verification for income in a joint loan.\n",
    "\n",
    "4)Minor, but we know we have some features that are strings that we will need to one-hot encode"
   ]
  },
  {
   "cell_type": "code",
   "execution_count": 342,
   "id": "4347b046-225d-46a6-be4e-fc4f165476c8",
   "metadata": {},
   "outputs": [
    {
     "data": {
      "text/plain": [
       "debt_consolidation    524213\n",
       "credit_card           206180\n",
       "home_improvement       51829\n",
       "other                  42893\n",
       "major_purchase         17277\n",
       "small_business         10377\n",
       "car                     8863\n",
       "medical                 8540\n",
       "moving                  5414\n",
       "vacation                4736\n",
       "house                   3707\n",
       "wedding                 2347\n",
       "renewable_energy         575\n",
       "educational              423\n",
       "Name: purpose, dtype: int64"
      ]
     },
     "execution_count": 342,
     "metadata": {},
     "output_type": "execute_result"
    }
   ],
   "source": [
    "X.purpose.value_counts()"
   ]
  },
  {
   "cell_type": "code",
   "execution_count": 343,
   "id": "f10db279-e0ca-4368-a752-a4cc89b20731",
   "metadata": {},
   "outputs": [
    {
     "data": {
      "text/plain": [
       "Debt consolidation                        413226\n",
       "Debt Consolidation                         14731\n",
       "debt consolidation                          4572\n",
       "Consolidation                               4559\n",
       "Debt Consolidation Loan                     3667\n",
       "                                           ...  \n",
       "Catch up with bills                            1\n",
       "drbt consolidation                             1\n",
       "Working hard to get out of debt                1\n",
       "Home imprvmnt and credit consolidation         1\n",
       "Credit Card/Auto Repair                        1\n",
       "Name: title, Length: 33265, dtype: int64"
      ]
     },
     "execution_count": 343,
     "metadata": {},
     "output_type": "execute_result"
    }
   ],
   "source": [
    "X[X.purpose==\"debt_consolidation\"].title.value_counts()"
   ]
  },
  {
   "cell_type": "markdown",
   "id": "69b080e0-7e7d-43e0-9466-540d021ca6a2",
   "metadata": {},
   "source": [
    "As an example we see that purpose of debt consolidation includes variations on capitalization, leaving out \"debt\", adding \"loan\", typos. It would probably be best to lump those together."
   ]
  },
  {
   "cell_type": "code",
   "execution_count": 344,
   "id": "03dd3bb6-2aef-40b0-93b5-ecfb186a0bd5",
   "metadata": {},
   "outputs": [
    {
     "data": {
      "text/plain": [
       "Credit card refinancing         163952\n",
       "Credit Card Refinance             1419\n",
       "Credit Card Consolidation         1154\n",
       "Credit Card Payoff                 889\n",
       "Debt Consolidation                 810\n",
       "                                 ...  \n",
       "Consolidate at a Better Rate         1\n",
       "Credit Colsolidatoin                 1\n",
       "consulidation                        1\n",
       "Consiladation                        1\n",
       "Pay off Lowes Card                   1\n",
       "Name: title, Length: 15160, dtype: int64"
      ]
     },
     "execution_count": 344,
     "metadata": {},
     "output_type": "execute_result"
    }
   ],
   "source": [
    "X[X.purpose==\"credit_card\"].title.value_counts()"
   ]
  },
  {
   "cell_type": "markdown",
   "id": "e2a81792-e422-4f5d-ab69-3a78a82deec1",
   "metadata": {},
   "source": [
    "We can see a similar situation for \"credit_card\" purposes."
   ]
  },
  {
   "cell_type": "code",
   "execution_count": 345,
   "id": "5d9c7291-1993-4aa8-a0f7-2bccd0cc005d",
   "metadata": {},
   "outputs": [
    {
     "data": {
      "text/plain": [
       "Home improvement                 39951\n",
       "Home Improvement                  1530\n",
       "home improvement                   574\n",
       "Home Improvement Loan              550\n",
       "Home                               174\n",
       "                                 ...  \n",
       "Home Improvement - Siding            1\n",
       "Home Improvemnet                     1\n",
       "Home Improvement/Debt Paydown        1\n",
       "Sunshine                             1\n",
       "new kitchen for momma!               1\n",
       "Name: title, Length: 4996, dtype: int64"
      ]
     },
     "execution_count": 345,
     "metadata": {},
     "output_type": "execute_result"
    }
   ],
   "source": [
    "X[X.purpose==\"home_improvement\"].title.value_counts()"
   ]
  },
  {
   "cell_type": "markdown",
   "id": "a3084cb9-d806-4933-96f4-a95bc7e06427",
   "metadata": {},
   "source": [
    "This pattern continues with variations for home improvement. This really suggests that we drop \"title\" and just use \"purpose\" to get a set of possible values for a feature rather than try to cluster the titles using some other model."
   ]
  },
  {
   "cell_type": "code",
   "execution_count": 348,
   "id": "a620c167-bbaf-4523-bd86-f6288aa4fb78",
   "metadata": {},
   "outputs": [],
   "source": [
    "job_titles=df.emp_title"
   ]
  },
  {
   "cell_type": "code",
   "execution_count": 349,
   "id": "e85e5775-2630-4632-a158-21bc03cd21c1",
   "metadata": {},
   "outputs": [],
   "source": [
    "job_titles.to_csv(\"jobs.csv\")"
   ]
  },
  {
   "cell_type": "code",
   "execution_count": null,
   "id": "7dc4e550-1eb9-4779-9678-6b87858e210e",
   "metadata": {},
   "outputs": [],
   "source": []
  }
 ],
 "metadata": {
  "kernelspec": {
   "display_name": "Python 3 (ipykernel)",
   "language": "python",
   "name": "python3"
  },
  "language_info": {
   "codemirror_mode": {
    "name": "ipython",
    "version": 3
   },
   "file_extension": ".py",
   "mimetype": "text/x-python",
   "name": "python",
   "nbconvert_exporter": "python",
   "pygments_lexer": "ipython3",
   "version": "3.9.7"
  }
 },
 "nbformat": 4,
 "nbformat_minor": 5
}
