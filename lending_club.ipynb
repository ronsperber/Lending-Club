{
 "cells": [
  {
   "cell_type": "markdown",
   "id": "3ad8c4b1-18e7-4b5c-ba17-2524e301e95f",
   "metadata": {},
   "source": [
    "## Data Wrangling/Cleaning"
   ]
  },
  {
   "cell_type": "code",
   "execution_count": 1,
   "id": "5827f015-28c0-46f1-8ca6-7f968a642dba",
   "metadata": {},
   "outputs": [],
   "source": [
    "#import basic needed libraries\n",
    "import numpy as np\n",
    "import pandas as pd\n",
    "import matplotlib.pyplot as plt\n",
    "import seaborn as sns\n",
    "import datetime"
   ]
  },
  {
   "cell_type": "code",
   "execution_count": 2,
   "id": "55d0bcbe-cb86-4060-9571-3b7cd7c0c637",
   "metadata": {},
   "outputs": [],
   "source": [
    "#function to provide summary for each column as a dataframe. Thanks to my mentor Ajith Patnaik \n",
    "#for providing this code\n",
    "def univariate_analysis(df):\n",
    "    \"\"\"\n",
    "\n",
    "    :param df: pd.Dataframe containing all the attributes needed\n",
    "    :return: Dataframe with summary statistics\n",
    "    \"\"\"\n",
    "    df_copy = df.copy()\n",
    "    row_count = df_copy.shape[0]\n",
    "    dtype = df_copy.dtypes.reset_index()\n",
    "    dtype_df= dtype.rename(columns = {'index': 'Column Name', 0: 'Dtype'})\n",
    "    count_dict, describe_dict = dict(), dict()\n",
    "    for idx, row in dtype_df.iterrows():\n",
    "        col_data = df_copy[row['Column Name']]\n",
    "        null_count = col_data.isnull().sum()\n",
    "        zero_count = col_data[col_data == 0].shape[0]\n",
    "        non_zero_count = row_count - null_count - zero_count\n",
    "        s = df_copy[row['Column Name']].value_counts(dropna = False)\n",
    "        unique,largest = s.shape[0], s.nlargest(n=1, keep='first')\n",
    "        top, Freq = largest.index[0], largest.values[0]\n",
    "        count_dict[row['Column Name']] = {'Non-Zero Count': non_zero_count, 'Null Count': null_count,\n",
    "                                          'Zero Count': zero_count, 'Unique': unique, 'Top Value': top,\n",
    "                                          'Top Freq': Freq}\n",
    "        col_data_noNa = col_data.dropna()\n",
    "        ser_sum = col_data_noNa.describe(percentiles=[0.01,0.05,0.1,0.25,0.5,0.75,0.9,0.95,0.99])\n",
    "        if col_data.dtype != 'object':\n",
    "            ser_sum = np.round(ser_sum, decimals=4)\n",
    "        describe_dict[row['Column Name']] = ser_sum.to_dict()\n",
    "    count_df = pd.DataFrame.from_dict(count_dict, orient='index').reset_index().rename(columns={'index': 'Column Name'})\n",
    "    describe_df = pd.DataFrame.from_dict(describe_dict, orient='index').reset_index().rename(columns={'index': 'Column Name'})\n",
    "    if 'top' in describe_df.columns.tolist():\n",
    "        describe_df = describe_df.drop(['top', 'unique', 'freq'], axis=1)\n",
    "    merge_df = pd.merge(dtype_df, count_df, on='Column Name')\n",
    "    final_df = pd.merge(merge_df, describe_df, on='Column Name')\n",
    "    return final_df"
   ]
  },
  {
   "cell_type": "code",
   "execution_count": 3,
   "id": "44591ff6-4a4c-4e15-a2eb-17bab5aec978",
   "metadata": {},
   "outputs": [],
   "source": [
    "#read in the data\n",
    "\n",
    "#training data\n",
    "df=pd.read_csv('lc_loan.csv/lc_loan.csv',low_memory=False)\n",
    "\n",
    "#test data\n",
    "df2=pd.read_csv('lc_2016_2017.csv/lc_2016_2017.csv',low_memory=False)"
   ]
  },
  {
   "cell_type": "code",
   "execution_count": 4,
   "id": "6a436b4d-7891-48bc-86e9-5f2e11d1d2e2",
   "metadata": {},
   "outputs": [],
   "source": [
    "df_stats=univariate_analysis(df)"
   ]
  },
  {
   "cell_type": "code",
   "execution_count": 5,
   "id": "c6bb49b7-be9c-4f0e-95ac-bf5415eccab5",
   "metadata": {},
   "outputs": [
    {
     "data": {
      "text/html": [
       "<div>\n",
       "<style scoped>\n",
       "    .dataframe tbody tr th:only-of-type {\n",
       "        vertical-align: middle;\n",
       "    }\n",
       "\n",
       "    .dataframe tbody tr th {\n",
       "        vertical-align: top;\n",
       "    }\n",
       "\n",
       "    .dataframe thead th {\n",
       "        text-align: right;\n",
       "    }\n",
       "</style>\n",
       "<table border=\"1\" class=\"dataframe\">\n",
       "  <thead>\n",
       "    <tr style=\"text-align: right;\">\n",
       "      <th></th>\n",
       "      <th>Column Name</th>\n",
       "      <th>Dtype</th>\n",
       "      <th>Non-Zero Count</th>\n",
       "      <th>Null Count</th>\n",
       "      <th>Zero Count</th>\n",
       "      <th>Unique</th>\n",
       "      <th>Top Value</th>\n",
       "      <th>Top Freq</th>\n",
       "      <th>count</th>\n",
       "      <th>mean</th>\n",
       "      <th>...</th>\n",
       "      <th>1%</th>\n",
       "      <th>5%</th>\n",
       "      <th>10%</th>\n",
       "      <th>25%</th>\n",
       "      <th>50%</th>\n",
       "      <th>75%</th>\n",
       "      <th>90%</th>\n",
       "      <th>95%</th>\n",
       "      <th>99%</th>\n",
       "      <th>max</th>\n",
       "    </tr>\n",
       "  </thead>\n",
       "  <tbody>\n",
       "    <tr>\n",
       "      <th>0</th>\n",
       "      <td>id</td>\n",
       "      <td>int64</td>\n",
       "      <td>887379</td>\n",
       "      <td>0</td>\n",
       "      <td>0</td>\n",
       "      <td>887379</td>\n",
       "      <td>1077501</td>\n",
       "      <td>1</td>\n",
       "      <td>887379.0</td>\n",
       "      <td>3.246513e+07</td>\n",
       "      <td>...</td>\n",
       "      <td>476445.9</td>\n",
       "      <td>1090262.7</td>\n",
       "      <td>1944971.8</td>\n",
       "      <td>9206643.0</td>\n",
       "      <td>34433267.0</td>\n",
       "      <td>54908135.0</td>\n",
       "      <td>63285441.4</td>\n",
       "      <td>65754792.2</td>\n",
       "      <td>67819908.22</td>\n",
       "      <td>68617057.0</td>\n",
       "    </tr>\n",
       "    <tr>\n",
       "      <th>1</th>\n",
       "      <td>member_id</td>\n",
       "      <td>int64</td>\n",
       "      <td>887379</td>\n",
       "      <td>0</td>\n",
       "      <td>0</td>\n",
       "      <td>887379</td>\n",
       "      <td>1296599</td>\n",
       "      <td>1</td>\n",
       "      <td>887379.0</td>\n",
       "      <td>3.500182e+07</td>\n",
       "      <td>...</td>\n",
       "      <td>601782.5</td>\n",
       "      <td>1317185.3</td>\n",
       "      <td>1988500.6</td>\n",
       "      <td>10877133.5</td>\n",
       "      <td>37095283.0</td>\n",
       "      <td>58471347.0</td>\n",
       "      <td>67597478.6</td>\n",
       "      <td>70387497.7</td>\n",
       "      <td>72678208.52</td>\n",
       "      <td>73544841.0</td>\n",
       "    </tr>\n",
       "    <tr>\n",
       "      <th>2</th>\n",
       "      <td>loan_amnt</td>\n",
       "      <td>float64</td>\n",
       "      <td>887379</td>\n",
       "      <td>0</td>\n",
       "      <td>0</td>\n",
       "      <td>1372</td>\n",
       "      <td>10000.0</td>\n",
       "      <td>61837</td>\n",
       "      <td>887379.0</td>\n",
       "      <td>1.475526e+04</td>\n",
       "      <td>...</td>\n",
       "      <td>1800.0</td>\n",
       "      <td>3600.0</td>\n",
       "      <td>5000.0</td>\n",
       "      <td>8000.0</td>\n",
       "      <td>13000.0</td>\n",
       "      <td>20000.0</td>\n",
       "      <td>28000.0</td>\n",
       "      <td>32000.0</td>\n",
       "      <td>35000.00</td>\n",
       "      <td>35000.0</td>\n",
       "    </tr>\n",
       "    <tr>\n",
       "      <th>3</th>\n",
       "      <td>funded_amnt</td>\n",
       "      <td>float64</td>\n",
       "      <td>887379</td>\n",
       "      <td>0</td>\n",
       "      <td>0</td>\n",
       "      <td>1372</td>\n",
       "      <td>10000.0</td>\n",
       "      <td>61744</td>\n",
       "      <td>887379.0</td>\n",
       "      <td>1.474188e+04</td>\n",
       "      <td>...</td>\n",
       "      <td>1800.0</td>\n",
       "      <td>3600.0</td>\n",
       "      <td>5000.0</td>\n",
       "      <td>8000.0</td>\n",
       "      <td>13000.0</td>\n",
       "      <td>20000.0</td>\n",
       "      <td>27975.0</td>\n",
       "      <td>32000.0</td>\n",
       "      <td>35000.00</td>\n",
       "      <td>35000.0</td>\n",
       "    </tr>\n",
       "    <tr>\n",
       "      <th>4</th>\n",
       "      <td>funded_amnt_inv</td>\n",
       "      <td>float64</td>\n",
       "      <td>887146</td>\n",
       "      <td>0</td>\n",
       "      <td>233</td>\n",
       "      <td>9856</td>\n",
       "      <td>10000.0</td>\n",
       "      <td>56111</td>\n",
       "      <td>887379.0</td>\n",
       "      <td>1.470246e+04</td>\n",
       "      <td>...</td>\n",
       "      <td>1600.0</td>\n",
       "      <td>3500.0</td>\n",
       "      <td>5000.0</td>\n",
       "      <td>8000.0</td>\n",
       "      <td>13000.0</td>\n",
       "      <td>20000.0</td>\n",
       "      <td>27800.0</td>\n",
       "      <td>32000.0</td>\n",
       "      <td>35000.00</td>\n",
       "      <td>35000.0</td>\n",
       "    </tr>\n",
       "  </tbody>\n",
       "</table>\n",
       "<p>5 rows × 22 columns</p>\n",
       "</div>"
      ],
      "text/plain": [
       "       Column Name    Dtype  Non-Zero Count  Null Count  Zero Count  Unique  \\\n",
       "0               id    int64          887379           0           0  887379   \n",
       "1        member_id    int64          887379           0           0  887379   \n",
       "2        loan_amnt  float64          887379           0           0    1372   \n",
       "3      funded_amnt  float64          887379           0           0    1372   \n",
       "4  funded_amnt_inv  float64          887146           0         233    9856   \n",
       "\n",
       "  Top Value  Top Freq     count          mean  ...        1%         5%  \\\n",
       "0   1077501         1  887379.0  3.246513e+07  ...  476445.9  1090262.7   \n",
       "1   1296599         1  887379.0  3.500182e+07  ...  601782.5  1317185.3   \n",
       "2   10000.0     61837  887379.0  1.475526e+04  ...    1800.0     3600.0   \n",
       "3   10000.0     61744  887379.0  1.474188e+04  ...    1800.0     3600.0   \n",
       "4   10000.0     56111  887379.0  1.470246e+04  ...    1600.0     3500.0   \n",
       "\n",
       "         10%         25%         50%         75%         90%         95%  \\\n",
       "0  1944971.8   9206643.0  34433267.0  54908135.0  63285441.4  65754792.2   \n",
       "1  1988500.6  10877133.5  37095283.0  58471347.0  67597478.6  70387497.7   \n",
       "2     5000.0      8000.0     13000.0     20000.0     28000.0     32000.0   \n",
       "3     5000.0      8000.0     13000.0     20000.0     27975.0     32000.0   \n",
       "4     5000.0      8000.0     13000.0     20000.0     27800.0     32000.0   \n",
       "\n",
       "           99%         max  \n",
       "0  67819908.22  68617057.0  \n",
       "1  72678208.52  73544841.0  \n",
       "2     35000.00     35000.0  \n",
       "3     35000.00     35000.0  \n",
       "4     35000.00     35000.0  \n",
       "\n",
       "[5 rows x 22 columns]"
      ]
     },
     "execution_count": 5,
     "metadata": {},
     "output_type": "execute_result"
    }
   ],
   "source": [
    "df_stats.head()"
   ]
  },
  {
   "cell_type": "code",
   "execution_count": 6,
   "id": "695fca11-1dc9-48db-9136-68d4e6f88af0",
   "metadata": {},
   "outputs": [],
   "source": [
    "#Write this to an excel file\n",
    "df_stats.to_excel(\"dfstats.xlsx\")"
   ]
  },
  {
   "cell_type": "markdown",
   "id": "2f33bee6-3c6c-4257-b6ab-6d1ed34a4b07",
   "metadata": {},
   "source": [
    "After writing this to a file we used that information to start an approach to cleaning and feature engineering"
   ]
  },
  {
   "cell_type": "code",
   "execution_count": 7,
   "id": "e65512a5-5c73-40e8-a9a1-d3378bdf53a4",
   "metadata": {},
   "outputs": [],
   "source": [
    "#Make new dataframes that we can clean while keeping the old ones in case\n",
    "#we need something from them deleted initially\n",
    "train_ids=df['id']\n",
    "test_ids=df2['id']\n",
    "#drop ids from test and train data \n",
    "X=df.drop(columns=['id','member_id'])\n",
    "X2=df2.drop(columns=['id','member_id'])\n"
   ]
  },
  {
   "cell_type": "code",
   "execution_count": 8,
   "id": "7a063c93-038d-4355-a174-9f61af8840b3",
   "metadata": {},
   "outputs": [
    {
     "data": {
      "text/html": [
       "<div>\n",
       "<style scoped>\n",
       "    .dataframe tbody tr th:only-of-type {\n",
       "        vertical-align: middle;\n",
       "    }\n",
       "\n",
       "    .dataframe tbody tr th {\n",
       "        vertical-align: top;\n",
       "    }\n",
       "\n",
       "    .dataframe thead th {\n",
       "        text-align: right;\n",
       "    }\n",
       "</style>\n",
       "<table border=\"1\" class=\"dataframe\">\n",
       "  <thead>\n",
       "    <tr style=\"text-align: right;\">\n",
       "      <th></th>\n",
       "      <th>Column Name</th>\n",
       "      <th>Dtype</th>\n",
       "      <th>Non-Zero Count</th>\n",
       "      <th>Null Count</th>\n",
       "      <th>Zero Count</th>\n",
       "      <th>Unique</th>\n",
       "      <th>Top Value</th>\n",
       "      <th>Top Freq</th>\n",
       "      <th>count</th>\n",
       "      <th>mean</th>\n",
       "      <th>...</th>\n",
       "      <th>1%</th>\n",
       "      <th>5%</th>\n",
       "      <th>10%</th>\n",
       "      <th>25%</th>\n",
       "      <th>50%</th>\n",
       "      <th>75%</th>\n",
       "      <th>90%</th>\n",
       "      <th>95%</th>\n",
       "      <th>99%</th>\n",
       "      <th>max</th>\n",
       "    </tr>\n",
       "  </thead>\n",
       "  <tbody>\n",
       "    <tr>\n",
       "      <th>54</th>\n",
       "      <td>dti_joint</td>\n",
       "      <td>float64</td>\n",
       "      <td>509</td>\n",
       "      <td>886870</td>\n",
       "      <td>0</td>\n",
       "      <td>450</td>\n",
       "      <td>NaN</td>\n",
       "      <td>886870</td>\n",
       "      <td>509.0</td>\n",
       "      <td>18.3101</td>\n",
       "      <td>...</td>\n",
       "      <td>4.0256</td>\n",
       "      <td>7.492</td>\n",
       "      <td>9.558</td>\n",
       "      <td>13.2</td>\n",
       "      <td>17.61</td>\n",
       "      <td>22.65</td>\n",
       "      <td>28.606</td>\n",
       "      <td>31.198</td>\n",
       "      <td>35.4356</td>\n",
       "      <td>43.86</td>\n",
       "    </tr>\n",
       "    <tr>\n",
       "      <th>53</th>\n",
       "      <td>annual_inc_joint</td>\n",
       "      <td>float64</td>\n",
       "      <td>511</td>\n",
       "      <td>886868</td>\n",
       "      <td>0</td>\n",
       "      <td>309</td>\n",
       "      <td>NaN</td>\n",
       "      <td>886868</td>\n",
       "      <td>511.0</td>\n",
       "      <td>109981.0116</td>\n",
       "      <td>...</td>\n",
       "      <td>29779.2000</td>\n",
       "      <td>47488.000</td>\n",
       "      <td>56000.000</td>\n",
       "      <td>76032.5</td>\n",
       "      <td>101771.00</td>\n",
       "      <td>132800.00</td>\n",
       "      <td>175000.000</td>\n",
       "      <td>190650.000</td>\n",
       "      <td>270000.0000</td>\n",
       "      <td>500000.00</td>\n",
       "    </tr>\n",
       "    <tr>\n",
       "      <th>55</th>\n",
       "      <td>verification_status_joint</td>\n",
       "      <td>object</td>\n",
       "      <td>511</td>\n",
       "      <td>886868</td>\n",
       "      <td>0</td>\n",
       "      <td>4</td>\n",
       "      <td>NaN</td>\n",
       "      <td>886868</td>\n",
       "      <td>511.0</td>\n",
       "      <td>NaN</td>\n",
       "      <td>...</td>\n",
       "      <td>NaN</td>\n",
       "      <td>NaN</td>\n",
       "      <td>NaN</td>\n",
       "      <td>NaN</td>\n",
       "      <td>NaN</td>\n",
       "      <td>NaN</td>\n",
       "      <td>NaN</td>\n",
       "      <td>NaN</td>\n",
       "      <td>NaN</td>\n",
       "      <td>NaN</td>\n",
       "    </tr>\n",
       "    <tr>\n",
       "      <th>65</th>\n",
       "      <td>il_util</td>\n",
       "      <td>float64</td>\n",
       "      <td>18479</td>\n",
       "      <td>868762</td>\n",
       "      <td>138</td>\n",
       "      <td>1273</td>\n",
       "      <td>NaN</td>\n",
       "      <td>868762</td>\n",
       "      <td>18617.0</td>\n",
       "      <td>71.5353</td>\n",
       "      <td>...</td>\n",
       "      <td>5.2000</td>\n",
       "      <td>27.800</td>\n",
       "      <td>40.360</td>\n",
       "      <td>58.6</td>\n",
       "      <td>74.90</td>\n",
       "      <td>87.60</td>\n",
       "      <td>96.800</td>\n",
       "      <td>100.700</td>\n",
       "      <td>117.4840</td>\n",
       "      <td>223.30</td>\n",
       "    </tr>\n",
       "    <tr>\n",
       "      <th>63</th>\n",
       "      <td>mths_since_rcnt_il</td>\n",
       "      <td>float64</td>\n",
       "      <td>20797</td>\n",
       "      <td>866569</td>\n",
       "      <td>13</td>\n",
       "      <td>202</td>\n",
       "      <td>NaN</td>\n",
       "      <td>866569</td>\n",
       "      <td>20810.0</td>\n",
       "      <td>20.9127</td>\n",
       "      <td>...</td>\n",
       "      <td>1.0000</td>\n",
       "      <td>2.000</td>\n",
       "      <td>3.000</td>\n",
       "      <td>6.0</td>\n",
       "      <td>12.00</td>\n",
       "      <td>23.00</td>\n",
       "      <td>48.000</td>\n",
       "      <td>83.000</td>\n",
       "      <td>134.0000</td>\n",
       "      <td>363.00</td>\n",
       "    </tr>\n",
       "    <tr>\n",
       "      <th>59</th>\n",
       "      <td>open_acc_6m</td>\n",
       "      <td>float64</td>\n",
       "      <td>13126</td>\n",
       "      <td>866007</td>\n",
       "      <td>8246</td>\n",
       "      <td>14</td>\n",
       "      <td>NaN</td>\n",
       "      <td>866007</td>\n",
       "      <td>21372.0</td>\n",
       "      <td>1.1090</td>\n",
       "      <td>...</td>\n",
       "      <td>0.0000</td>\n",
       "      <td>0.000</td>\n",
       "      <td>0.000</td>\n",
       "      <td>0.0</td>\n",
       "      <td>1.00</td>\n",
       "      <td>2.00</td>\n",
       "      <td>3.000</td>\n",
       "      <td>3.000</td>\n",
       "      <td>5.0000</td>\n",
       "      <td>14.00</td>\n",
       "    </tr>\n",
       "    <tr>\n",
       "      <th>60</th>\n",
       "      <td>open_il_6m</td>\n",
       "      <td>float64</td>\n",
       "      <td>19058</td>\n",
       "      <td>866007</td>\n",
       "      <td>2314</td>\n",
       "      <td>36</td>\n",
       "      <td>NaN</td>\n",
       "      <td>866007</td>\n",
       "      <td>21372.0</td>\n",
       "      <td>2.9288</td>\n",
       "      <td>...</td>\n",
       "      <td>0.0000</td>\n",
       "      <td>0.000</td>\n",
       "      <td>0.000</td>\n",
       "      <td>1.0</td>\n",
       "      <td>2.00</td>\n",
       "      <td>4.00</td>\n",
       "      <td>6.000</td>\n",
       "      <td>9.000</td>\n",
       "      <td>16.0000</td>\n",
       "      <td>40.00</td>\n",
       "    </tr>\n",
       "    <tr>\n",
       "      <th>61</th>\n",
       "      <td>open_il_12m</td>\n",
       "      <td>float64</td>\n",
       "      <td>10566</td>\n",
       "      <td>866007</td>\n",
       "      <td>10806</td>\n",
       "      <td>13</td>\n",
       "      <td>NaN</td>\n",
       "      <td>866007</td>\n",
       "      <td>21372.0</td>\n",
       "      <td>0.7617</td>\n",
       "      <td>...</td>\n",
       "      <td>0.0000</td>\n",
       "      <td>0.000</td>\n",
       "      <td>0.000</td>\n",
       "      <td>0.0</td>\n",
       "      <td>0.00</td>\n",
       "      <td>1.00</td>\n",
       "      <td>2.000</td>\n",
       "      <td>3.000</td>\n",
       "      <td>4.0000</td>\n",
       "      <td>12.00</td>\n",
       "    </tr>\n",
       "    <tr>\n",
       "      <th>62</th>\n",
       "      <td>open_il_24m</td>\n",
       "      <td>float64</td>\n",
       "      <td>15891</td>\n",
       "      <td>866007</td>\n",
       "      <td>5481</td>\n",
       "      <td>18</td>\n",
       "      <td>NaN</td>\n",
       "      <td>866007</td>\n",
       "      <td>21372.0</td>\n",
       "      <td>1.6746</td>\n",
       "      <td>...</td>\n",
       "      <td>0.0000</td>\n",
       "      <td>0.000</td>\n",
       "      <td>0.000</td>\n",
       "      <td>0.0</td>\n",
       "      <td>1.00</td>\n",
       "      <td>2.00</td>\n",
       "      <td>4.000</td>\n",
       "      <td>5.000</td>\n",
       "      <td>7.0000</td>\n",
       "      <td>19.00</td>\n",
       "    </tr>\n",
       "    <tr>\n",
       "      <th>64</th>\n",
       "      <td>total_bal_il</td>\n",
       "      <td>float64</td>\n",
       "      <td>19113</td>\n",
       "      <td>866007</td>\n",
       "      <td>2259</td>\n",
       "      <td>17031</td>\n",
       "      <td>NaN</td>\n",
       "      <td>866007</td>\n",
       "      <td>21372.0</td>\n",
       "      <td>36552.8114</td>\n",
       "      <td>...</td>\n",
       "      <td>0.0000</td>\n",
       "      <td>0.000</td>\n",
       "      <td>0.000</td>\n",
       "      <td>10251.5</td>\n",
       "      <td>24684.50</td>\n",
       "      <td>47858.00</td>\n",
       "      <td>81851.100</td>\n",
       "      <td>113323.300</td>\n",
       "      <td>204248.9300</td>\n",
       "      <td>878459.00</td>\n",
       "    </tr>\n",
       "  </tbody>\n",
       "</table>\n",
       "<p>10 rows × 22 columns</p>\n",
       "</div>"
      ],
      "text/plain": [
       "                  Column Name    Dtype  Non-Zero Count  Null Count  \\\n",
       "54                  dti_joint  float64             509      886870   \n",
       "53           annual_inc_joint  float64             511      886868   \n",
       "55  verification_status_joint   object             511      886868   \n",
       "65                    il_util  float64           18479      868762   \n",
       "63         mths_since_rcnt_il  float64           20797      866569   \n",
       "59                open_acc_6m  float64           13126      866007   \n",
       "60                 open_il_6m  float64           19058      866007   \n",
       "61                open_il_12m  float64           10566      866007   \n",
       "62                open_il_24m  float64           15891      866007   \n",
       "64               total_bal_il  float64           19113      866007   \n",
       "\n",
       "    Zero Count  Unique Top Value  Top Freq    count         mean  ...  \\\n",
       "54           0     450       NaN    886870    509.0      18.3101  ...   \n",
       "53           0     309       NaN    886868    511.0  109981.0116  ...   \n",
       "55           0       4       NaN    886868    511.0          NaN  ...   \n",
       "65         138    1273       NaN    868762  18617.0      71.5353  ...   \n",
       "63          13     202       NaN    866569  20810.0      20.9127  ...   \n",
       "59        8246      14       NaN    866007  21372.0       1.1090  ...   \n",
       "60        2314      36       NaN    866007  21372.0       2.9288  ...   \n",
       "61       10806      13       NaN    866007  21372.0       0.7617  ...   \n",
       "62        5481      18       NaN    866007  21372.0       1.6746  ...   \n",
       "64        2259   17031       NaN    866007  21372.0   36552.8114  ...   \n",
       "\n",
       "            1%         5%        10%      25%        50%        75%  \\\n",
       "54      4.0256      7.492      9.558     13.2      17.61      22.65   \n",
       "53  29779.2000  47488.000  56000.000  76032.5  101771.00  132800.00   \n",
       "55         NaN        NaN        NaN      NaN        NaN        NaN   \n",
       "65      5.2000     27.800     40.360     58.6      74.90      87.60   \n",
       "63      1.0000      2.000      3.000      6.0      12.00      23.00   \n",
       "59      0.0000      0.000      0.000      0.0       1.00       2.00   \n",
       "60      0.0000      0.000      0.000      1.0       2.00       4.00   \n",
       "61      0.0000      0.000      0.000      0.0       0.00       1.00   \n",
       "62      0.0000      0.000      0.000      0.0       1.00       2.00   \n",
       "64      0.0000      0.000      0.000  10251.5   24684.50   47858.00   \n",
       "\n",
       "           90%         95%          99%        max  \n",
       "54      28.606      31.198      35.4356      43.86  \n",
       "53  175000.000  190650.000  270000.0000  500000.00  \n",
       "55         NaN         NaN          NaN        NaN  \n",
       "65      96.800     100.700     117.4840     223.30  \n",
       "63      48.000      83.000     134.0000     363.00  \n",
       "59       3.000       3.000       5.0000      14.00  \n",
       "60       6.000       9.000      16.0000      40.00  \n",
       "61       2.000       3.000       4.0000      12.00  \n",
       "62       4.000       5.000       7.0000      19.00  \n",
       "64   81851.100  113323.300  204248.9300  878459.00  \n",
       "\n",
       "[10 rows x 22 columns]"
      ]
     },
     "execution_count": 8,
     "metadata": {},
     "output_type": "execute_result"
    }
   ],
   "source": [
    "#we can see where the most missing values are in the training data\n",
    "df_stats.sort_values('Null Count',ascending=False).head(10)"
   ]
  },
  {
   "cell_type": "code",
   "execution_count": 9,
   "id": "2f44e514-3598-4756-a580-d5ecfe13fbdb",
   "metadata": {},
   "outputs": [
    {
     "name": "stdout",
     "output_type": "stream",
     "text": [
      "INDIVIDUAL    886868\n",
      "JOINT            511\n",
      "Name: application_type, dtype: int64\n",
      "Individual    725335\n",
      "Joint App      34003\n",
      "Name: application_type, dtype: int64\n"
     ]
    }
   ],
   "source": [
    "#We can see that there are many missing values related to joint applications\n",
    "print(X.application_type.value_counts())\n",
    "print(X2.application_type.value_counts())"
   ]
  },
  {
   "cell_type": "markdown",
   "id": "ec788bbe-6c19-446f-96b2-983a9cb305c6",
   "metadata": {},
   "source": [
    "For now we will focus on individual applications. If we choose to expand to joint applications we will need to figure out how to deal with the features specifically for those that will be null for individuals"
   ]
  },
  {
   "cell_type": "code",
   "execution_count": 10,
   "id": "648fa0a7-624b-4067-a9e6-b5cfac70a937",
   "metadata": {},
   "outputs": [
    {
     "data": {
      "text/plain": [
       "INDIVIDUAL    725335\n",
       "JOINT          34003\n",
       "Name: application_type, dtype: int64"
      ]
     },
     "execution_count": 10,
     "metadata": {},
     "output_type": "execute_result"
    }
   ],
   "source": [
    "#For future potential use we change these so they are the same values in both\n",
    "X2.application_type.replace({\"Individual\": \"INDIVIDUAL\", \"Joint App\": \"JOINT\"},inplace=True)\n",
    "X2.application_type.value_counts()"
   ]
  },
  {
   "cell_type": "code",
   "execution_count": 11,
   "id": "01855163-5d38-426c-a52c-2b31d25f47a5",
   "metadata": {},
   "outputs": [],
   "source": [
    "#Remove the joint applications from the  training and test data\n",
    "X2=X2[X2.application_type==\"INDIVIDUAL\"]\n",
    "X=X[X.application_type==\"INDIVIDUAL\"]\n"
   ]
  },
  {
   "cell_type": "code",
   "execution_count": 12,
   "id": "1ed94796-2169-47a6-93ba-5079fb99d9bb",
   "metadata": {},
   "outputs": [],
   "source": [
    "#We now remove the columns related to joint applications from both\n",
    "X=X.drop(columns=['application_type','annual_inc_joint','dti_joint','verification_status_joint'])\n",
    "X2=X2.drop(columns=['application_type','annual_inc_joint','dti_joint','verification_status_joint'])\n"
   ]
  },
  {
   "cell_type": "markdown",
   "id": "a2377867-6b72-4fec-aef0-6430e4e4dabd",
   "metadata": {},
   "source": [
    "Issue date, last credit pull date, last payment date ,earliest credit line, next payment date are strings, but will be more useful as datetime objects"
   ]
  },
  {
   "cell_type": "code",
   "execution_count": 13,
   "id": "f11a52f9-1c19-4108-b006-49eb69274b91",
   "metadata": {},
   "outputs": [],
   "source": [
    "X.issue_d=pd.to_datetime(X.issue_d)\n",
    "X.last_credit_pull_d=pd.to_datetime(X.last_credit_pull_d)\n",
    "X.last_pymnt_d=pd.to_datetime(X.last_pymnt_d)\n",
    "X.earliest_cr_line=pd.to_datetime(X.earliest_cr_line)\n",
    "X2.issue_d=pd.to_datetime(X2.issue_d)\n",
    "X2.last_credit_pull_d=pd.to_datetime(X2.last_credit_pull_d)\n",
    "X2.last_pymnt_d=pd.to_datetime(X2.last_pymnt_d)\n",
    "X2.earliest_cr_line=pd.to_datetime(X2.earliest_cr_line)\n",
    "X.next_pymnt_d=pd.to_datetime(X.next_pymnt_d)\n",
    "\n"
   ]
  },
  {
   "cell_type": "code",
   "execution_count": 14,
   "id": "d1382ef2-36e1-410f-9092-5dcf8f7ec9ff",
   "metadata": {},
   "outputs": [
    {
     "data": {
      "text/plain": [
       "Jan-2018    560742\n",
       "Dec-2017       148\n",
       "Feb-2018        92\n",
       "Name: next_pymnt_d, dtype: int64"
      ]
     },
     "execution_count": 14,
     "metadata": {},
     "output_type": "execute_result"
    }
   ],
   "source": [
    "X2.next_pymnt_d.value_counts()"
   ]
  },
  {
   "cell_type": "code",
   "execution_count": 15,
   "id": "8b50192f-5daf-4a6a-9dd1-4f1b7085172a",
   "metadata": {},
   "outputs": [],
   "source": [
    "#need to replace the format of dates in the X2 data frame for the next_pymnt_d column before converting to datetime objects\n",
    "X2.next_pymnt_d.replace({\"Jan-2018\":\"2018-01-01\",\"Dec-2017\":\"2017-12-01\",\"Feb-2018\":\"2018-02-01\"},inplace=True)\n",
    "X2.next_pymnt_d=pd.to_datetime(X.next_pymnt_d)"
   ]
  },
  {
   "cell_type": "markdown",
   "id": "0a1cf366-8500-4c39-9352-d784a43cc6eb",
   "metadata": {},
   "source": [
    "To avoid dependency on issue date as that will change significantly over time we convert to timedeltas"
   ]
  },
  {
   "cell_type": "code",
   "execution_count": 16,
   "id": "c1496246-6b30-445d-9565-91da3ac3490d",
   "metadata": {},
   "outputs": [],
   "source": [
    "X[\"last_credit_pull_td\"]=X.issue_d-X.last_credit_pull_d\n",
    "X2[\"last_credit_pull_td\"]=X2.issue_d-X2.last_credit_pull_d\n",
    "X[\"last_pymnt_td\"]=X.issue_d-X.last_pymnt_d\n",
    "X2[\"last_pymnt_td\"]=X2.issue_d-X2.last_pymnt_d\n",
    "X[\"earliest_cr_line_td\"]=X.issue_d-X.earliest_cr_line\n",
    "X2[\"earliest_cr_line_td\"]=X2.issue_d-X2.earliest_cr_line\n",
    "X[\"next_pymnt_td\"]=X.issue_d-X.next_pymnt_d\n",
    "X2[\"next_pymnt_td\"]=X2.issue_d-X2.next_pymnt_d"
   ]
  },
  {
   "cell_type": "code",
   "execution_count": null,
   "id": "06cd6dfa-1672-4e52-a631-94b0efed1bc4",
   "metadata": {},
   "outputs": [],
   "source": []
  },
  {
   "cell_type": "code",
   "execution_count": null,
   "id": "923180df-a9ea-466d-98e4-4cfd965e92fe",
   "metadata": {},
   "outputs": [],
   "source": []
  },
  {
   "cell_type": "markdown",
   "id": "9386eac7-3193-4f29-863d-84bbd707298f",
   "metadata": {},
   "source": [
    "Now we drop the actual dates from the features"
   ]
  },
  {
   "cell_type": "code",
   "execution_count": 17,
   "id": "66251cc2-e127-4dd6-a111-254c1ef693d3",
   "metadata": {},
   "outputs": [],
   "source": [
    "X.drop(columns=[\"issue_d\",\"last_credit_pull_d\",\"last_pymnt_d\",\"earliest_cr_line\",\"next_pymnt_d\"],inplace=True)\n",
    "X2.drop(columns=[\"issue_d\",\"last_credit_pull_d\",\"last_pymnt_d\",\"earliest_cr_line\",\"next_pymnt_d\"],inplace=True)"
   ]
  },
  {
   "cell_type": "markdown",
   "id": "9f870a0a-b835-4192-8d97-e749f7faf4b7",
   "metadata": {},
   "source": [
    "We will now convert these to floating point numbers"
   ]
  },
  {
   "cell_type": "code",
   "execution_count": 18,
   "id": "b3abfbfe-4834-4e90-ab37-4b9380262747",
   "metadata": {},
   "outputs": [],
   "source": [
    "X[\"last_credit_pull\"]=X.last_credit_pull_td/pd.to_timedelta(1,'D')\n",
    "X2[\"last_credit_pull\"]=X2.last_credit_pull_td/pd.to_timedelta(1,'D')\n",
    "X[\"last_pymnt\"]=X.last_pymnt_td/pd.to_timedelta(1,'D')\n",
    "X2[\"last_pymnt\"]=X.last_pymnt_td/pd.to_timedelta(1,'D')\n",
    "X[\"earliest_cr_line\"]=X.earliest_cr_line_td/pd.to_timedelta(1,'D')\n",
    "X2[\"earliest_cr_line\"]=X.earliest_cr_line_td/pd.to_timedelta(1,'D')\n",
    "X[\"next_pymnt\"]=X.next_pymnt_td/pd.to_timedelta(1,'D')\n",
    "X2[\"next_pymnt\"]=X2.next_pymnt_td/pd.to_timedelta(1,'D')"
   ]
  },
  {
   "cell_type": "markdown",
   "id": "245daeb2-c1d4-44f3-96ad-41905efe0eba",
   "metadata": {},
   "source": [
    "We can now get rid of the timedelta features and leave the floating point ones.\n"
   ]
  },
  {
   "cell_type": "code",
   "execution_count": 19,
   "id": "8b36d0f9-e901-4b79-96f0-8763202de9a2",
   "metadata": {},
   "outputs": [],
   "source": [
    "X.drop(columns=[\"last_credit_pull_td\",\"last_pymnt_td\",\"earliest_cr_line_td\",\"next_pymnt_td\"],inplace=True)\n",
    "X2.drop(columns=[\"last_credit_pull_td\",\"last_pymnt_td\",\"earliest_cr_line_td\",\"next_pymnt_td\"],inplace=True)"
   ]
  },
  {
   "cell_type": "code",
   "execution_count": 20,
   "id": "bf4aafc0-cd7d-41d5-9f7a-1cf0778da6f2",
   "metadata": {},
   "outputs": [],
   "source": [
    "#drop the url feature\n",
    "X.drop(columns=[\"url\"],inplace=True)"
   ]
  },
  {
   "cell_type": "code",
   "execution_count": 21,
   "id": "24b6c964-206e-4d8d-8d6d-24aa8981fb21",
   "metadata": {},
   "outputs": [
    {
     "data": {
      "text/plain": [
       "{'open_il_6m'}"
      ]
     },
     "execution_count": 21,
     "metadata": {},
     "output_type": "execute_result"
    }
   ],
   "source": [
    "set(X.columns).difference(set(X2.columns))"
   ]
  },
  {
   "cell_type": "code",
   "execution_count": 22,
   "id": "88a023f7-e0ee-4011-8c6a-d61da636e10a",
   "metadata": {},
   "outputs": [
    {
     "data": {
      "text/plain": [
       "set()"
      ]
     },
     "execution_count": 22,
     "metadata": {},
     "output_type": "execute_result"
    }
   ],
   "source": [
    "set(X2.columns).difference(set(X.columns))"
   ]
  },
  {
   "cell_type": "code",
   "execution_count": 23,
   "id": "451e612d-19bb-4902-9ce0-935aa45afe22",
   "metadata": {},
   "outputs": [],
   "source": [
    "#drop the column from the training data that the test data doesn't have\n",
    "X.drop(columns=['open_il_6m'],inplace=True)"
   ]
  },
  {
   "cell_type": "code",
   "execution_count": 24,
   "id": "5bef0834-935f-42db-ba30-721dfdcabd71",
   "metadata": {},
   "outputs": [
    {
     "data": {
      "text/plain": [
       " 36 months    620886\n",
       " 60 months    265982\n",
       "Name: term, dtype: int64"
      ]
     },
     "execution_count": 24,
     "metadata": {},
     "output_type": "execute_result"
    }
   ],
   "source": [
    "X.term.value_counts()"
   ]
  },
  {
   "cell_type": "code",
   "execution_count": 25,
   "id": "ca497401-331f-43a4-819c-61d17e38fb5c",
   "metadata": {},
   "outputs": [
    {
     "data": {
      "text/plain": [
       "36 months    541963\n",
       "60 months    183372\n",
       "Name: term, dtype: int64"
      ]
     },
     "execution_count": 25,
     "metadata": {},
     "output_type": "execute_result"
    }
   ],
   "source": [
    "X2.term.value_counts()"
   ]
  },
  {
   "cell_type": "code",
   "execution_count": 26,
   "id": "d96de572-ee71-4bc0-ba81-b9aa8d3a5f36",
   "metadata": {},
   "outputs": [],
   "source": [
    "#For now drop 'desc' featire\n",
    "X.drop(columns=['desc'],inplace=True)\n",
    "X2.drop(columns=['desc'],inplace=True)"
   ]
  },
  {
   "cell_type": "markdown",
   "id": "703d2603-73fc-478a-a585-d0a6776c3c0d",
   "metadata": {},
   "source": [
    "At this point we have the columns we need in place. We will need to impute missing values and see how we want to use categorical data"
   ]
  },
  {
   "cell_type": "code",
   "execution_count": 27,
   "id": "cc5be0f5-fe91-426d-9ed1-da24830185ad",
   "metadata": {},
   "outputs": [],
   "source": [
    "#For employment will use \"other\" for missing values\n",
    "X.emp_title.fillna(\"other\",inplace=True)\n",
    "X2.emp_title.fillna(\"other\",inplace=True)"
   ]
  },
  {
   "cell_type": "markdown",
   "id": "2903acae-d9d1-4582-ae72-f7a2e23665d5",
   "metadata": {},
   "source": [
    "Employment length is a bit tricker as it's categorical but we want to have a median to put in for missing values"
   ]
  },
  {
   "cell_type": "code",
   "execution_count": 28,
   "id": "231f5f91-db15-4e0d-a545-e609f55aff81",
   "metadata": {},
   "outputs": [
    {
     "data": {
      "text/plain": [
       "10+ years    291403\n",
       "2 years       78833\n",
       "< 1 year      70559\n",
       "3 years       69994\n",
       "1 year        57064\n",
       "5 years       55686\n",
       "4 years       52496\n",
       "7 years       44576\n",
       "8 years       43930\n",
       "6 years       42928\n",
       "9 years       34635\n",
       "Name: emp_length, dtype: int64"
      ]
     },
     "execution_count": 28,
     "metadata": {},
     "output_type": "execute_result"
    }
   ],
   "source": [
    "X.emp_length.value_counts()"
   ]
  },
  {
   "cell_type": "code",
   "execution_count": 29,
   "id": "0f50b1b6-316d-4a14-9fd7-94317a84313a",
   "metadata": {},
   "outputs": [
    {
     "data": {
      "text/plain": [
       "10.0    291403\n",
       "2.0      78833\n",
       "0.0      70559\n",
       "3.0      69994\n",
       "1.0      57064\n",
       "5.0      55686\n",
       "4.0      52496\n",
       "7.0      44576\n",
       "8.0      43930\n",
       "6.0      42928\n",
       "9.0      34635\n",
       "Name: emp_length, dtype: int64"
      ]
     },
     "execution_count": 29,
     "metadata": {},
     "output_type": "execute_result"
    }
   ],
   "source": [
    "#Convert each of these to a numeric value, replacing <1 year with 0 and 10+ with 10\n",
    "X.emp_length.replace({\"10+ years\":10,\"2 years\":2,\"< 1 year\":0,\"3 years\":3,\"1 year\":1,\"5 years\":5,\"4 years\":4,\"7 years\":7,\"8 years\":8,\"6 years\":6,\"9 years\":9},inplace=True)\n",
    "X.emp_length.value_counts()"
   ]
  },
  {
   "cell_type": "code",
   "execution_count": 30,
   "id": "6d8d4cbb-1851-47e2-ba3e-b5dd14f61483",
   "metadata": {},
   "outputs": [
    {
     "data": {
      "text/plain": [
       "10+ years    250318\n",
       "2 years       67361\n",
       "3 years       58973\n",
       "< 1 year      52167\n",
       "1 year        49149\n",
       "5 years       44679\n",
       "4 years       44165\n",
       "6 years       31652\n",
       "8 years       27881\n",
       "9 years       27709\n",
       "7 years       25019\n",
       "Name: emp_length, dtype: int64"
      ]
     },
     "execution_count": 30,
     "metadata": {},
     "output_type": "execute_result"
    }
   ],
   "source": [
    "X2.emp_length.value_counts()"
   ]
  },
  {
   "cell_type": "code",
   "execution_count": 31,
   "id": "45bbad69-fcde-4527-a426-605876b98001",
   "metadata": {},
   "outputs": [
    {
     "data": {
      "text/plain": [
       "10.0    250318\n",
       "2.0      67361\n",
       "3.0      58973\n",
       "0.0      52167\n",
       "1.0      49149\n",
       "5.0      44679\n",
       "4.0      44165\n",
       "6.0      31652\n",
       "8.0      27881\n",
       "9.0      27709\n",
       "7.0      25019\n",
       "Name: emp_length, dtype: int64"
      ]
     },
     "execution_count": 31,
     "metadata": {},
     "output_type": "execute_result"
    }
   ],
   "source": [
    "#we will do the same with the test data\n",
    "X2.emp_length.replace({\"10+ years\":10,\"2 years\":2,\"< 1 year\":0,\"3 years\":3,\"1 year\":1,\"5 years\":5,\"4 years\":4,\"7 years\":7,\"8 years\":8,\"6 years\":6,\"9 years\":9},inplace=True)\n",
    "X2.emp_length.value_counts()"
   ]
  },
  {
   "cell_type": "code",
   "execution_count": 32,
   "id": "4e489314-791d-4b2c-9e2c-856be2237048",
   "metadata": {},
   "outputs": [
    {
     "data": {
      "text/plain": [
       "6.0"
      ]
     },
     "execution_count": 32,
     "metadata": {},
     "output_type": "execute_result"
    }
   ],
   "source": [
    "#We will use the median of the test data to impute. \n",
    "X.emp_length.median()"
   ]
  },
  {
   "cell_type": "code",
   "execution_count": 33,
   "id": "82f862cf-6c34-4532-9aa8-e46d534eab10",
   "metadata": {},
   "outputs": [],
   "source": [
    "X.emp_length.fillna(6,inplace=True)\n",
    "X2.emp_length.fillna(6,inplace=True)"
   ]
  },
  {
   "cell_type": "code",
   "execution_count": 34,
   "id": "26902b29-dae0-4f1f-a35b-9fa0762f6204",
   "metadata": {},
   "outputs": [
    {
     "data": {
      "text/plain": [
       "count    8.868640e+05\n",
       "mean     7.503702e+04\n",
       "std      6.471049e+04\n",
       "min      1.896000e+03\n",
       "25%      4.500000e+04\n",
       "50%      6.500000e+04\n",
       "75%      9.000000e+04\n",
       "max      9.500000e+06\n",
       "Name: annual_inc, dtype: float64"
      ]
     },
     "execution_count": 34,
     "metadata": {},
     "output_type": "execute_result"
    }
   ],
   "source": [
    "X.annual_inc.describe()"
   ]
  },
  {
   "cell_type": "code",
   "execution_count": 35,
   "id": "757ec2b3-7524-40ee-9d55-27e52bb03945",
   "metadata": {},
   "outputs": [
    {
     "data": {
      "text/plain": [
       "65000.0"
      ]
     },
     "execution_count": 35,
     "metadata": {},
     "output_type": "execute_result"
    }
   ],
   "source": [
    "X.annual_inc.median()"
   ]
  },
  {
   "cell_type": "code",
   "execution_count": 36,
   "id": "b4865958-dc7b-4e18-861c-8eeffde0d9a0",
   "metadata": {},
   "outputs": [],
   "source": [
    "X.annual_inc.fillna(65000,inplace=True)\n",
    "X2.annual_inc.fillna(65000,inplace=True)"
   ]
  },
  {
   "cell_type": "code",
   "execution_count": 37,
   "id": "4ea56a6b-4438-4128-b475-6cbf84db581f",
   "metadata": {},
   "outputs": [
    {
     "data": {
      "text/plain": [
       "Debt consolidation                     413674\n",
       "Credit card refinancing                164218\n",
       "Home improvement                        40088\n",
       "Other                                   31863\n",
       "Debt Consolidation                      15760\n",
       "                                        ...  \n",
       "New Heater                                  1\n",
       "Looking to get out of debt                  1\n",
       "Debt Conso/Pay off initial LC loan          1\n",
       "Emergency Home Repair                       1\n",
       "Credit Card/Auto Repair                     1\n",
       "Name: title, Length: 63144, dtype: int64"
      ]
     },
     "execution_count": 37,
     "metadata": {},
     "output_type": "execute_result"
    }
   ],
   "source": [
    "X.title.value_counts()"
   ]
  },
  {
   "cell_type": "code",
   "execution_count": 38,
   "id": "c47e7f13-fff7-4c69-9f32-2d9154c977fb",
   "metadata": {},
   "outputs": [
    {
     "data": {
      "text/plain": [
       "debt_consolidation    523881\n",
       "credit_card           206067\n",
       "home_improvement       51803\n",
       "other                  42867\n",
       "major_purchase         17275\n",
       "small_business         10375\n",
       "car                     8862\n",
       "medical                 8538\n",
       "moving                  5413\n",
       "vacation                4735\n",
       "house                   3707\n",
       "wedding                 2347\n",
       "renewable_energy         575\n",
       "educational              423\n",
       "Name: purpose, dtype: int64"
      ]
     },
     "execution_count": 38,
     "metadata": {},
     "output_type": "execute_result"
    }
   ],
   "source": [
    "X.purpose.value_counts()"
   ]
  },
  {
   "cell_type": "code",
   "execution_count": 39,
   "id": "f627c428-ae3a-41ba-a335-6de2921bd164",
   "metadata": {},
   "outputs": [
    {
     "data": {
      "text/plain": [
       "143"
      ]
     },
     "execution_count": 39,
     "metadata": {},
     "output_type": "execute_result"
    }
   ],
   "source": [
    "X.title.isna().sum()"
   ]
  },
  {
   "cell_type": "code",
   "execution_count": 40,
   "id": "330e72cc-e19f-430b-9ca8-c087c7902633",
   "metadata": {},
   "outputs": [
    {
     "data": {
      "text/plain": [
       "0"
      ]
     },
     "execution_count": 40,
     "metadata": {},
     "output_type": "execute_result"
    }
   ],
   "source": [
    "X.purpose.isna().sum()"
   ]
  },
  {
   "cell_type": "code",
   "execution_count": 41,
   "id": "24763dd5-68e6-4bdf-b0ab-ac01af4d7f04",
   "metadata": {},
   "outputs": [
    {
     "data": {
      "text/plain": [
       "22316"
      ]
     },
     "execution_count": 41,
     "metadata": {},
     "output_type": "execute_result"
    }
   ],
   "source": [
    "X2.title.isna().sum()"
   ]
  },
  {
   "cell_type": "code",
   "execution_count": 42,
   "id": "7ba25e8a-b0cf-441a-95e2-57e1d7ce96b7",
   "metadata": {},
   "outputs": [
    {
     "data": {
      "text/plain": [
       "0"
      ]
     },
     "execution_count": 42,
     "metadata": {},
     "output_type": "execute_result"
    }
   ],
   "source": [
    "X2.purpose.isna().sum()"
   ]
  },
  {
   "cell_type": "code",
   "execution_count": 43,
   "id": "bec2a17b-976e-491a-ad31-307380be84c0",
   "metadata": {},
   "outputs": [],
   "source": [
    "#For title we use 'other' for missing values\n",
    "X.title.fillna(\"other\",inplace=True)\n",
    "X2.title.fillna(\"other\",inplace=True)"
   ]
  },
  {
   "cell_type": "markdown",
   "id": "df723e67-adb6-4a2f-9571-9a94f9c4b678",
   "metadata": {},
   "source": [
    "For entries about negative events in a time period we will fill those with 0, assuming that no information means those events did not occur"
   ]
  },
  {
   "cell_type": "code",
   "execution_count": 44,
   "id": "71af7505-7209-417a-995b-12b45876fea9",
   "metadata": {},
   "outputs": [],
   "source": [
    "X.inq_last_6mths.fillna(0,inplace=True)\n",
    "X.inq_last_12m.fillna(0,inplace=True)\n",
    "X.inq_fi.fillna(0,inplace=True)\n",
    "X.collections_12_mths_ex_med.fillna(0,inplace=True)\n",
    "X.pub_rec.fillna(0,inplace=True)\n",
    "X.acc_now_delinq.fillna(0,inplace=True)\n",
    "X.delinq_2yrs.fillna(0,inplace=True)\n"
   ]
  },
  {
   "cell_type": "code",
   "execution_count": 45,
   "id": "db0a6793-f2df-4891-aa31-1e74ce91b7ef",
   "metadata": {},
   "outputs": [],
   "source": [
    "X2.inq_last_6mths.fillna(0,inplace=True)\n",
    "X2.inq_last_12m.fillna(0,inplace=True)\n",
    "X2.inq_fi.fillna(0,inplace=True)\n",
    "X2.collections_12_mths_ex_med.fillna(0,inplace=True)\n",
    "X2.pub_rec.fillna(0,inplace=True)\n",
    "X2.acc_now_delinq.fillna(0,inplace=True)\n",
    "X2.delinq_2yrs.fillna(0,inplace=True)\n"
   ]
  },
  {
   "cell_type": "code",
   "execution_count": 46,
   "id": "aeb19ced-f315-4d94-a315-f05b6c2fa243",
   "metadata": {},
   "outputs": [
    {
     "data": {
      "text/plain": [
       "count    21209.000000\n",
       "mean        60.769617\n",
       "std         20.021468\n",
       "min          0.000000\n",
       "25%         47.600000\n",
       "50%         61.800000\n",
       "75%         75.100000\n",
       "max        151.400000\n",
       "Name: all_util, dtype: float64"
      ]
     },
     "execution_count": 46,
     "metadata": {},
     "output_type": "execute_result"
    }
   ],
   "source": [
    "X.all_util.describe()"
   ]
  },
  {
   "cell_type": "code",
   "execution_count": 47,
   "id": "c26134ca-6995-4dd0-8033-68598d74da3f",
   "metadata": {},
   "outputs": [
    {
     "data": {
      "text/plain": [
       "61.0     70\n",
       "68.0     60\n",
       "61.3     57\n",
       "51.0     57\n",
       "72.0     56\n",
       "         ..\n",
       "0.2       1\n",
       "4.9       1\n",
       "1.4       1\n",
       "109.6     1\n",
       "7.4       1\n",
       "Name: all_util, Length: 1128, dtype: int64"
      ]
     },
     "execution_count": 47,
     "metadata": {},
     "output_type": "execute_result"
    }
   ],
   "source": [
    "X.all_util.value_counts()"
   ]
  },
  {
   "cell_type": "code",
   "execution_count": 48,
   "id": "e85d9d40-e003-4595-abed-fcaeb6aacb5f",
   "metadata": {},
   "outputs": [
    {
     "data": {
      "image/png": "[encoded data removed]",
      "text/plain": [
       "<Figure size 432x288 with 1 Axes>"
      ]
     },
     "metadata": {
      "needs_background": "light"
     },
     "output_type": "display_data"
    }
   ],
   "source": [
    "X.all_util.hist()\n",
    "plt.show()"
   ]
  },
  {
   "cell_type": "code",
   "execution_count": 49,
   "id": "9e7e5788-8bcc-4fd9-94f3-4dca35bd3826",
   "metadata": {},
   "outputs": [
    {
     "data": {
      "text/plain": [
       "865659"
      ]
     },
     "execution_count": 49,
     "metadata": {},
     "output_type": "execute_result"
    }
   ],
   "source": [
    "X.all_util.isna().sum()"
   ]
  },
  {
   "cell_type": "markdown",
   "id": "80c25c19-1917-408c-b1b4-390342bc859f",
   "metadata": {},
   "source": [
    "The distribution of utilization number is centered around 62%, however the vast majority have nothing put in, so this is a very small amount to generalize from. We might have to dig a little deeper to see if we can figure out what is going on"
   ]
  },
  {
   "cell_type": "code",
   "execution_count": 50,
   "id": "0cc3167d-2279-41ce-8f7d-1ce44cff6dbd",
   "metadata": {},
   "outputs": [
    {
     "data": {
      "text/plain": [
       "count    8.165920e+05\n",
       "mean     1.394387e+05\n",
       "std      1.537514e+05\n",
       "min      0.000000e+00\n",
       "25%      2.984900e+04\n",
       "50%      8.052800e+04\n",
       "75%      2.081650e+05\n",
       "max      8.000078e+06\n",
       "Name: tot_cur_bal, dtype: float64"
      ]
     },
     "execution_count": 50,
     "metadata": {},
     "output_type": "execute_result"
    }
   ],
   "source": [
    "X.tot_cur_bal.describe()"
   ]
  },
  {
   "cell_type": "code",
   "execution_count": 51,
   "id": "ad438c77-e2dc-414f-953c-5af7bdf5ee31",
   "metadata": {},
   "outputs": [
    {
     "data": {
      "image/png": "[encoded data removed]",
      "text/plain": [
       "<Figure size 432x288 with 1 Axes>"
      ]
     },
     "metadata": {
      "needs_background": "light"
     },
     "output_type": "display_data"
    }
   ],
   "source": [
    "X.tot_cur_bal.hist(bins=10)\n",
    "plt.yscale(\"log\")\n",
    "plt.show()"
   ]
  },
  {
   "cell_type": "markdown",
   "id": "21588bb4-1303-429c-983c-bb24dbc5b7ef",
   "metadata": {},
   "source": [
    "We save the columns as is elsewhere and for now use 0 to fill in missing values"
   ]
  },
  {
   "cell_type": "code",
   "execution_count": 52,
   "id": "8a24f3ad-ad06-434f-8ec8-e0c8822c911e",
   "metadata": {},
   "outputs": [],
   "source": [
    "tot_cur_bal=X.tot_cur_bal\n",
    "all_util=X.all_util\n",
    "X.all_util.fillna(0,inplace=True)\n",
    "X.tot_cur_bal.fillna(0,inplace=True)"
   ]
  },
  {
   "cell_type": "code",
   "execution_count": 53,
   "id": "06d1d10e-f203-4fff-8504-e66ca8af56da",
   "metadata": {},
   "outputs": [],
   "source": [
    "#Fill more zeros in for utilization ones\n",
    "X.il_util.fillna(0,inplace=True)\n",
    "X.total_cu_tl.fillna(0,inplace=True)\n",
    "X.open_rv_12m.fillna(0,inplace=True)\n",
    "X.open_rv_24m.fillna(0,inplace=True)"
   ]
  },
  {
   "cell_type": "code",
   "execution_count": 54,
   "id": "b867e619-d9a3-45c4-a832-523d9161c30c",
   "metadata": {},
   "outputs": [],
   "source": [
    "#Do the same to test data\n",
    "tot_cur_bal2=X2.tot_cur_bal\n",
    "all_util2=X2.all_util\n",
    "X2.all_util.fillna(0,inplace=True)\n",
    "X2.tot_cur_bal.fillna(0,inplace=True)\n",
    "X2.il_util.fillna(0,inplace=True)\n",
    "X2.total_cu_tl.fillna(0,inplace=True)\n",
    "X2.open_rv_12m.fillna(0,inplace=True)\n",
    "X2.open_rv_24m.fillna(0,inplace=True)"
   ]
  },
  {
   "cell_type": "markdown",
   "id": "58f17111-70ff-40e3-9aa5-9a7f0ac465c7",
   "metadata": {},
   "source": [
    "We use the median of the training data to fill in some fields"
   ]
  },
  {
   "cell_type": "code",
   "execution_count": 55,
   "id": "8fc6dca7-fae4-4eb2-955b-30ef062b1346",
   "metadata": {},
   "outputs": [
    {
     "data": {
      "text/plain": [
       "count    21209.000000\n",
       "mean         1.109340\n",
       "std          1.243873\n",
       "min          0.000000\n",
       "25%          0.000000\n",
       "50%          1.000000\n",
       "75%          2.000000\n",
       "max         14.000000\n",
       "Name: open_acc_6m, dtype: float64"
      ]
     },
     "execution_count": 55,
     "metadata": {},
     "output_type": "execute_result"
    }
   ],
   "source": [
    "X.open_acc_6m.describe()"
   ]
  },
  {
   "cell_type": "code",
   "execution_count": 56,
   "id": "fc346cff-cdb2-4476-9a26-d04b0366f047",
   "metadata": {},
   "outputs": [],
   "source": [
    "X.open_acc_6m.fillna(1,inplace=True)\n",
    "X2.open_acc_6m.fillna(1,inplace=True)"
   ]
  },
  {
   "cell_type": "code",
   "execution_count": 57,
   "id": "1dde4b51-0470-4834-b771-612d83fbb711",
   "metadata": {},
   "outputs": [
    {
     "data": {
      "text/plain": [
       "count    21209.000000\n",
       "mean         0.761799\n",
       "std          0.996898\n",
       "min          0.000000\n",
       "25%          0.000000\n",
       "50%          0.000000\n",
       "75%          1.000000\n",
       "max         12.000000\n",
       "Name: open_il_12m, dtype: float64"
      ]
     },
     "execution_count": 57,
     "metadata": {},
     "output_type": "execute_result"
    }
   ],
   "source": [
    "X.open_il_12m.describe()"
   ]
  },
  {
   "cell_type": "code",
   "execution_count": 58,
   "id": "4203c4b9-c965-4cab-b504-7b2af62a2ccd",
   "metadata": {},
   "outputs": [],
   "source": [
    "X.open_il_12m.fillna(0,inplace=True)\n",
    "X2.open_il_12m.fillna(0,inplace=True)"
   ]
  },
  {
   "cell_type": "code",
   "execution_count": 59,
   "id": "98b4a650-4c00-4e47-a632-3f2425a263ee",
   "metadata": {},
   "outputs": [
    {
     "data": {
      "text/plain": [
       "count    21209.000000\n",
       "mean         1.674808\n",
       "std          1.688632\n",
       "min          0.000000\n",
       "25%          0.000000\n",
       "50%          1.000000\n",
       "75%          2.000000\n",
       "max         19.000000\n",
       "Name: open_il_24m, dtype: float64"
      ]
     },
     "execution_count": 59,
     "metadata": {},
     "output_type": "execute_result"
    }
   ],
   "source": [
    "X.open_il_24m.describe()"
   ]
  },
  {
   "cell_type": "code",
   "execution_count": 60,
   "id": "9923f261-2e6c-4490-8a58-ec57c838633f",
   "metadata": {},
   "outputs": [],
   "source": [
    "X.open_il_24m.fillna(1,inplace=True)\n",
    "X2.open_il_24m.fillna(1,inplace=True)"
   ]
  },
  {
   "cell_type": "code",
   "execution_count": 61,
   "id": "df2957dc-ecba-47bc-a051-89ba190634e3",
   "metadata": {},
   "outputs": [
    {
     "data": {
      "text/plain": [
       "count    8.165920e+05\n",
       "mean     2.256865e+02\n",
       "std      1.031454e+04\n",
       "min      0.000000e+00\n",
       "25%      0.000000e+00\n",
       "50%      0.000000e+00\n",
       "75%      0.000000e+00\n",
       "max      9.152545e+06\n",
       "Name: tot_coll_amt, dtype: float64"
      ]
     },
     "execution_count": 61,
     "metadata": {},
     "output_type": "execute_result"
    }
   ],
   "source": [
    "X.tot_coll_amt.describe()"
   ]
  },
  {
   "cell_type": "code",
   "execution_count": 62,
   "id": "40e19778-cb37-477d-9038-a9d05ad9a3a6",
   "metadata": {},
   "outputs": [],
   "source": [
    "X.tot_coll_amt.fillna(0,inplace=True)\n",
    "X2.tot_coll_amt.fillna(0,inplace=True)"
   ]
  },
  {
   "cell_type": "code",
   "execution_count": 63,
   "id": "fae4decf-4cc3-4ffd-a1e6-bb6496396f8c",
   "metadata": {},
   "outputs": [],
   "source": [
    "X.total_bal_il.fillna(0,inplace=True)\n",
    "X2.total_bal_il.fillna(0,inplace=True)"
   ]
  },
  {
   "cell_type": "code",
   "execution_count": 64,
   "id": "ae4b17db-e2b1-4d0b-8798-1f8d93d52099",
   "metadata": {},
   "outputs": [
    {
     "data": {
      "text/plain": [
       "count    8.868680e+05\n",
       "mean     1.283895e+05\n",
       "std      1.522659e+05\n",
       "min      0.000000e+00\n",
       "25%      2.316000e+04\n",
       "50%      6.530050e+04\n",
       "75%      1.957480e+05\n",
       "max      8.000078e+06\n",
       "Name: tot_cur_bal, dtype: float64"
      ]
     },
     "execution_count": 64,
     "metadata": {},
     "output_type": "execute_result"
    }
   ],
   "source": [
    "X.tot_cur_bal.describe()"
   ]
  },
  {
   "cell_type": "code",
   "execution_count": 65,
   "id": "fa629798-1296-43cb-b1c9-22a9092366d5",
   "metadata": {},
   "outputs": [
    {
     "data": {
      "text/plain": [
       "65300.5"
      ]
     },
     "execution_count": 65,
     "metadata": {},
     "output_type": "execute_result"
    }
   ],
   "source": [
    "X.tot_cur_bal.median()"
   ]
  },
  {
   "cell_type": "code",
   "execution_count": 66,
   "id": "2dd8decb-beb9-4fbb-8647-e19bc8295914",
   "metadata": {},
   "outputs": [],
   "source": [
    "X.tot_cur_bal.fillna(65332,inplace=True)\n",
    "X2.tot_cur_bal.fillna(65332,inplace=True)"
   ]
  },
  {
   "cell_type": "code",
   "execution_count": 67,
   "id": "02762831-2c51-4290-a02d-30354087915a",
   "metadata": {},
   "outputs": [
    {
     "data": {
      "text/plain": [
       "count    8.165920e+05\n",
       "mean     3.207272e+04\n",
       "std      3.750654e+04\n",
       "min      0.000000e+00\n",
       "25%      1.390000e+04\n",
       "50%      2.370000e+04\n",
       "75%      3.980000e+04\n",
       "max      9.999999e+06\n",
       "Name: total_rev_hi_lim, dtype: float64"
      ]
     },
     "execution_count": 67,
     "metadata": {},
     "output_type": "execute_result"
    }
   ],
   "source": [
    "X.total_rev_hi_lim.describe()"
   ]
  },
  {
   "cell_type": "code",
   "execution_count": 68,
   "id": "ecfcee49-682f-449e-af77-5514ee9463fb",
   "metadata": {},
   "outputs": [
    {
     "data": {
      "text/plain": [
       "23700.0"
      ]
     },
     "execution_count": 68,
     "metadata": {},
     "output_type": "execute_result"
    }
   ],
   "source": [
    "X.total_rev_hi_lim.median()"
   ]
  },
  {
   "cell_type": "code",
   "execution_count": 69,
   "id": "6306125a-728a-4f43-b149-10dd4c27b4d7",
   "metadata": {},
   "outputs": [],
   "source": [
    "X.total_rev_hi_lim.fillna(23700,inplace=True)\n",
    "X2.total_rev_hi_lim.fillna(23700,inplace=True)"
   ]
  },
  {
   "cell_type": "code",
   "execution_count": 70,
   "id": "4fd3c4b2-6eab-488d-88fc-6dccf7888ec0",
   "metadata": {},
   "outputs": [
    {
     "data": {
      "text/plain": [
       "56.0"
      ]
     },
     "execution_count": 70,
     "metadata": {},
     "output_type": "execute_result"
    }
   ],
   "source": [
    "X.revol_util.median()"
   ]
  },
  {
   "cell_type": "code",
   "execution_count": 71,
   "id": "f5574fe0-f832-4f13-b403-aaacd259515e",
   "metadata": {},
   "outputs": [],
   "source": [
    "X.revol_util.fillna(56,inplace=True)\n",
    "X2.revol_util.fillna(56,inplace=True)"
   ]
  },
  {
   "cell_type": "code",
   "execution_count": 72,
   "id": "2fa295a6-be3e-466a-bcaf-1c847bc0dcea",
   "metadata": {},
   "outputs": [],
   "source": [
    "X.delinq_2yrs.fillna(0,inplace=True)\n",
    "X2.delinq_2yrs.fillna(0,inplace=True)"
   ]
  },
  {
   "cell_type": "code",
   "execution_count": 73,
   "id": "824a4206-ada6-41a9-ab21-8c7fd1cf88ef",
   "metadata": {},
   "outputs": [
    {
     "data": {
      "text/plain": [
       "11.0"
      ]
     },
     "execution_count": 73,
     "metadata": {},
     "output_type": "execute_result"
    }
   ],
   "source": [
    "X.open_acc.median()"
   ]
  },
  {
   "cell_type": "code",
   "execution_count": 74,
   "id": "576e36ae-32cc-4b76-917e-d8763ffb9995",
   "metadata": {},
   "outputs": [],
   "source": [
    "X.open_acc.fillna(11,inplace=True)\n",
    "X2.open_acc.fillna(11,inplace=True)"
   ]
  },
  {
   "cell_type": "code",
   "execution_count": 75,
   "id": "70ef3a34-31dd-413f-bc3c-7d5529a8b161",
   "metadata": {},
   "outputs": [
    {
     "data": {
      "text/plain": [
       "count    886839.000000\n",
       "mean         25.268133\n",
       "std          11.840410\n",
       "min           1.000000\n",
       "25%          17.000000\n",
       "50%          24.000000\n",
       "75%          32.000000\n",
       "max         169.000000\n",
       "Name: total_acc, dtype: float64"
      ]
     },
     "execution_count": 75,
     "metadata": {},
     "output_type": "execute_result"
    }
   ],
   "source": [
    "X.total_acc.describe()"
   ]
  },
  {
   "cell_type": "code",
   "execution_count": 76,
   "id": "8800019f-ea12-43ac-b734-64907d4663d7",
   "metadata": {},
   "outputs": [],
   "source": [
    "X.total_acc.fillna(24,inplace=True)\n",
    "X2.total_acc.fillna(24,inplace=True)"
   ]
  },
  {
   "cell_type": "markdown",
   "id": "872153e5-33c5-4480-8d2d-98e659dae583",
   "metadata": {},
   "source": [
    "For months since last derogatory action we will use np.inf to fill missing values for now (assuming they didn't occur). If this creates problems for models we might try to replace infinity later with just a very large number"
   ]
  },
  {
   "cell_type": "code",
   "execution_count": 77,
   "id": "f04097b0-b8a0-446d-b79c-70b5e8bae401",
   "metadata": {},
   "outputs": [],
   "source": [
    "X.mths_since_last_delinq.fillna(np.inf, inplace=True)\n",
    "X2.mths_since_last_delinq.fillna(np.inf, inplace=True)\n",
    "X.mths_since_last_major_derog.fillna(np.inf,inplace=True)\n",
    "X2.mths_since_last_major_derog.fillna(np.inf,inplace=True)\n",
    "X.mths_since_last_record.fillna(np.inf,inplace=True)\n",
    "X2.mths_since_last_record.fillna(np.inf,inplace=True)\n",
    "X.mths_since_rcnt_il.fillna(np.inf,inplace=True)\n",
    "X2.mths_since_rcnt_il.fillna(np.inf,inplace=True)"
   ]
  },
  {
   "cell_type": "code",
   "execution_count": 78,
   "id": "02074d97-29d3-4203-92fe-0090f64d95ac",
   "metadata": {},
   "outputs": [
    {
     "data": {
      "text/plain": [
       "loan_amnt                0\n",
       "funded_amnt              0\n",
       "funded_amnt_inv          0\n",
       "term                     0\n",
       "int_rate                 0\n",
       "                     ...  \n",
       "inq_last_12m             0\n",
       "last_credit_pull        53\n",
       "last_pymnt           17521\n",
       "earliest_cr_line        29\n",
       "next_pymnt          252970\n",
       "Length: 64, dtype: int64"
      ]
     },
     "execution_count": 78,
     "metadata": {},
     "output_type": "execute_result"
    }
   ],
   "source": [
    "X.isna().sum()"
   ]
  },
  {
   "cell_type": "markdown",
   "id": "2caaad13-eab8-4fa1-b0cd-8dd65eead90b",
   "metadata": {},
   "source": [
    "All the time deltas we turned into numbers we replace missing values by the median of the training data"
   ]
  },
  {
   "cell_type": "code",
   "execution_count": 79,
   "id": "2369d42e-77b1-4e04-9346-fdd9eff49246",
   "metadata": {},
   "outputs": [
    {
     "data": {
      "text/plain": [
       "count    886815.000000\n",
       "mean       -472.963254\n",
       "std         389.514596\n",
       "min       -3136.000000\n",
       "25%        -671.000000\n",
       "50%        -365.000000\n",
       "75%        -184.000000\n",
       "max         884.000000\n",
       "Name: last_credit_pull, dtype: float64"
      ]
     },
     "execution_count": 79,
     "metadata": {},
     "output_type": "execute_result"
    }
   ],
   "source": [
    "X.last_credit_pull.describe()"
   ]
  },
  {
   "cell_type": "code",
   "execution_count": 80,
   "id": "a9c60d26-2fab-40d9-8829-d2a5b3e208c7",
   "metadata": {},
   "outputs": [],
   "source": [
    "X.last_credit_pull.fillna(-365,inplace=True)\n",
    "X2.last_credit_pull.fillna(-365,inplace=True)"
   ]
  },
  {
   "cell_type": "code",
   "execution_count": 81,
   "id": "93ec7df5-8294-4d8f-9af3-5be9bfaf111f",
   "metadata": {},
   "outputs": [
    {
     "data": {
      "text/plain": [
       "count    869347.000000\n",
       "mean       -407.036246\n",
       "std         310.289228\n",
       "min       -2130.000000\n",
       "25%        -579.000000\n",
       "50%        -334.000000\n",
       "75%        -153.000000\n",
       "max           0.000000\n",
       "Name: last_pymnt, dtype: float64"
      ]
     },
     "execution_count": 81,
     "metadata": {},
     "output_type": "execute_result"
    }
   ],
   "source": [
    "X.last_pymnt.describe()"
   ]
  },
  {
   "cell_type": "code",
   "execution_count": 82,
   "id": "57146bb8-2117-46a3-883d-bc14aa0c54cf",
   "metadata": {},
   "outputs": [],
   "source": [
    "X.last_pymnt.fillna(-334,inplace=True)\n",
    "X2.last_pymnt.fillna(-334,inplace=True)"
   ]
  },
  {
   "cell_type": "code",
   "execution_count": 83,
   "id": "f0675376-1210-4666-8887-c86894b0b48b",
   "metadata": {},
   "outputs": [
    {
     "data": {
      "text/plain": [
       "count    886839.000000\n",
       "mean       5969.345140\n",
       "std        2726.136847\n",
       "min         184.000000\n",
       "25%        4110.000000\n",
       "50%        5419.000000\n",
       "75%        7336.000000\n",
       "max       25933.000000\n",
       "Name: earliest_cr_line, dtype: float64"
      ]
     },
     "execution_count": 83,
     "metadata": {},
     "output_type": "execute_result"
    }
   ],
   "source": [
    "X.earliest_cr_line.describe()"
   ]
  },
  {
   "cell_type": "code",
   "execution_count": 84,
   "id": "4ba479c2-89a7-461f-9adc-4208cb1ab0c7",
   "metadata": {},
   "outputs": [],
   "source": [
    "X.earliest_cr_line.fillna(5419,inplace=True)\n",
    "X2.earliest_cr_line.fillna(5419,inplace=True)"
   ]
  },
  {
   "cell_type": "code",
   "execution_count": 85,
   "id": "85af7a44-4d89-49b8-a9b3-a29c19bb37a0",
   "metadata": {},
   "outputs": [
    {
     "data": {
      "text/plain": [
       "count    633898.000000\n",
       "mean       -387.576575\n",
       "std         281.074875\n",
       "min       -2010.000000\n",
       "25%        -549.000000\n",
       "50%        -306.000000\n",
       "75%        -153.000000\n",
       "max         -31.000000\n",
       "Name: next_pymnt, dtype: float64"
      ]
     },
     "execution_count": 85,
     "metadata": {},
     "output_type": "execute_result"
    }
   ],
   "source": [
    "X.next_pymnt.describe()"
   ]
  },
  {
   "cell_type": "code",
   "execution_count": 86,
   "id": "5588812a-bbd9-4b8a-a113-1e07dc35e532",
   "metadata": {},
   "outputs": [],
   "source": [
    "X.next_pymnt.fillna(-306,inplace=True)\n",
    "X2.next_pymnt.fillna(-306,inplace=True)"
   ]
  },
  {
   "cell_type": "code",
   "execution_count": 87,
   "id": "c6708b5c-a649-4640-b930-91014bde02ec",
   "metadata": {},
   "outputs": [],
   "source": [
    "X.max_bal_bc.fillna(0,inplace=True)\n",
    "X2.max_bal_bc.fillna(0,inplace=True)"
   ]
  },
  {
   "cell_type": "code",
   "execution_count": 88,
   "id": "5cbb88b1-7ec7-4e28-b6cc-c66a1d842c19",
   "metadata": {},
   "outputs": [
    {
     "data": {
      "text/plain": [
       "0"
      ]
     },
     "execution_count": 88,
     "metadata": {},
     "output_type": "execute_result"
    }
   ],
   "source": [
    "X.isna().sum().max()"
   ]
  },
  {
   "cell_type": "code",
   "execution_count": 89,
   "id": "265fc982-df30-4d9a-ba74-27a3c463c28b",
   "metadata": {},
   "outputs": [
    {
     "data": {
      "text/plain": [
       "1"
      ]
     },
     "execution_count": 89,
     "metadata": {},
     "output_type": "execute_result"
    }
   ],
   "source": [
    "X2.isna().sum().max()"
   ]
  },
  {
   "cell_type": "code",
   "execution_count": 90,
   "id": "cbfb09bd-17ff-4384-8015-51fcd47eb51d",
   "metadata": {},
   "outputs": [
    {
     "name": "stdout",
     "output_type": "stream",
     "text": [
      "zip_code\n"
     ]
    }
   ],
   "source": [
    "for col in X2.columns:\n",
    "    if X2[col].isna().sum()>0:\n",
    "        print(col)"
   ]
  },
  {
   "cell_type": "markdown",
   "id": "75194e3e-5e1e-4bd1-bc86-eafc902fbc24",
   "metadata": {},
   "source": [
    "The zip code column in the test data is missing one value. For now we impute the most common one. "
   ]
  },
  {
   "cell_type": "code",
   "execution_count": 91,
   "id": "4da5bc4b-2057-4dd1-bdf4-510403307fce",
   "metadata": {},
   "outputs": [
    {
     "data": {
      "text/plain": [
       "945xx    9766\n",
       "Name: zip_code, dtype: int64"
      ]
     },
     "execution_count": 91,
     "metadata": {},
     "output_type": "execute_result"
    }
   ],
   "source": [
    "X.zip_code.value_counts().head(1)"
   ]
  },
  {
   "cell_type": "code",
   "execution_count": 92,
   "id": "cdf186ac-4f26-4be7-a24c-0ce05836368c",
   "metadata": {},
   "outputs": [
    {
     "data": {
      "text/plain": [
       "945xx    9766\n",
       "750xx    9414\n",
       "112xx    9271\n",
       "606xx    8639\n",
       "300xx    8124\n",
       "         ... \n",
       "901xx       1\n",
       "375xx       1\n",
       "348xx       1\n",
       "819xx       1\n",
       "507xx       1\n",
       "Name: zip_code, Length: 935, dtype: int64"
      ]
     },
     "execution_count": 92,
     "metadata": {},
     "output_type": "execute_result"
    }
   ],
   "source": [
    "X.zip_code.value_counts()"
   ]
  },
  {
   "cell_type": "code",
   "execution_count": 93,
   "id": "efe3f1aa-15c0-483f-8037-1d06b745f5ec",
   "metadata": {},
   "outputs": [],
   "source": [
    "X2.zip_code.fillna(\"945xx\",inplace=True)"
   ]
  },
  {
   "cell_type": "code",
   "execution_count": 94,
   "id": "0eff9440-a7dc-4040-aaaf-dbf9e778e22d",
   "metadata": {},
   "outputs": [
    {
     "data": {
      "text/plain": [
       "0"
      ]
     },
     "execution_count": 94,
     "metadata": {},
     "output_type": "execute_result"
    }
   ],
   "source": [
    "X2.isna().sum().max()"
   ]
  },
  {
   "cell_type": "markdown",
   "id": "7d256464-023c-46d8-a229-d1ac0a9dcf56",
   "metadata": {},
   "source": [
    "We now have no missing values in our data. We can create a target vector based on the values in the loan status column"
   ]
  },
  {
   "cell_type": "code",
   "execution_count": 95,
   "id": "9d3ee428-de78-44c5-9354-3643a5531b33",
   "metadata": {},
   "outputs": [
    {
     "data": {
      "text/plain": [
       "Current                                                601338\n",
       "Fully Paid                                             207722\n",
       "Charged Off                                             45248\n",
       "Late (31-120 days)                                      11589\n",
       "Issued                                                   8396\n",
       "In Grace Period                                          6250\n",
       "Late (16-30 days)                                        2357\n",
       "Does not meet the credit policy. Status:Fully Paid       1988\n",
       "Default                                                  1219\n",
       "Does not meet the credit policy. Status:Charged Off       761\n",
       "Name: loan_status, dtype: int64"
      ]
     },
     "execution_count": 95,
     "metadata": {},
     "output_type": "execute_result"
    }
   ],
   "source": [
    "X['loan_status'].value_counts()"
   ]
  },
  {
   "cell_type": "code",
   "execution_count": 96,
   "id": "151c7b0b-9a0d-475e-87a8-8495c0bbb378",
   "metadata": {},
   "outputs": [
    {
     "data": {
      "text/plain": [
       "Current               536243\n",
       "Fully Paid            127812\n",
       "Charged Off            36541\n",
       "Late (31-120 days)     14764\n",
       "In Grace Period         6245\n",
       "Late (16-30 days)       3697\n",
       "Default                   33\n",
       "Name: loan_status, dtype: int64"
      ]
     },
     "execution_count": 96,
     "metadata": {},
     "output_type": "execute_result"
    }
   ],
   "source": [
    "X2['loan_status'].value_counts()"
   ]
  },
  {
   "cell_type": "code",
   "execution_count": 97,
   "id": "1d83bf69-faa4-4970-9352-16b7926e7364",
   "metadata": {},
   "outputs": [
    {
     "data": {
      "text/plain": [
       "array(['Current', 'Fully Paid', 'In Grace Period', 'Late (31-120 days)',\n",
       "       'Late (16-30 days)', 'Charged Off', 'Default'], dtype=object)"
      ]
     },
     "execution_count": 97,
     "metadata": {},
     "output_type": "execute_result"
    }
   ],
   "source": [
    "X2['loan_status'].unique()"
   ]
  },
  {
   "cell_type": "code",
   "execution_count": 98,
   "id": "5c8aafe4-c78a-475e-834f-48c5e2c3b763",
   "metadata": {},
   "outputs": [],
   "source": [
    "#For each of the possible values of loan status , we put a 0 if favorable, 1 if unfavorable. \n",
    "#We any thing charged off, in default, or late more than a month unfavorable, otherwise favorable\n",
    "values=[0,1,0,1,1,0,0,0,1,0]"
   ]
  },
  {
   "cell_type": "code",
   "execution_count": 99,
   "id": "8de3e70d-9358-4248-b4e8-a97d5e1d2134",
   "metadata": {},
   "outputs": [],
   "source": [
    "#make a list of the values\n",
    "keys=list(X['loan_status'].unique())"
   ]
  },
  {
   "cell_type": "code",
   "execution_count": 100,
   "id": "e9e3d557-fcbd-4026-a8d3-335eccf97e46",
   "metadata": {},
   "outputs": [
    {
     "data": {
      "text/plain": [
       "['Fully Paid',\n",
       " 'Charged Off',\n",
       " 'Current',\n",
       " 'Default',\n",
       " 'Late (31-120 days)',\n",
       " 'In Grace Period',\n",
       " 'Late (16-30 days)',\n",
       " 'Does not meet the credit policy. Status:Fully Paid',\n",
       " 'Does not meet the credit policy. Status:Charged Off',\n",
       " 'Issued']"
      ]
     },
     "execution_count": 100,
     "metadata": {},
     "output_type": "execute_result"
    }
   ],
   "source": [
    "keys"
   ]
  },
  {
   "cell_type": "code",
   "execution_count": 101,
   "id": "fe41d149-6f70-498c-aa2a-b8600694e568",
   "metadata": {},
   "outputs": [],
   "source": [
    "#make a dictionary mapping each value possible in loan status to a 0 or 1\n",
    "dictionary=dict(zip(keys,values))"
   ]
  },
  {
   "cell_type": "code",
   "execution_count": 102,
   "id": "8f906da5-9e8a-4619-aeef-1539d97b8823",
   "metadata": {},
   "outputs": [
    {
     "name": "stdout",
     "output_type": "stream",
     "text": [
      "{'Fully Paid': 0, 'Charged Off': 1, 'Current': 0, 'Default': 1, 'Late (31-120 days)': 1, 'In Grace Period': 0, 'Late (16-30 days)': 0, 'Does not meet the credit policy. Status:Fully Paid': 0, 'Does not meet the credit policy. Status:Charged Off': 1, 'Issued': 0}\n"
     ]
    }
   ],
   "source": [
    "print(dictionary)"
   ]
  },
  {
   "cell_type": "code",
   "execution_count": null,
   "id": "fd680110-811f-4ccc-8d3b-c942be2dcd2c",
   "metadata": {},
   "outputs": [],
   "source": []
  },
  {
   "cell_type": "code",
   "execution_count": 103,
   "id": "6d66deca-ef75-47b8-a23b-11cf8588427f",
   "metadata": {},
   "outputs": [],
   "source": [
    "#replace the status with a 0 or 1 as appropriate\n",
    "X['target']=X['loan_status'].map(dictionary)\n",
    "X2['target']=X2['loan_status'].map(dictionary)\n",
    "X.drop(columns=['loan_status'],inplace=True)\n",
    "X2.drop(columns=['loan_status'],inplace=True)"
   ]
  },
  {
   "cell_type": "markdown",
   "id": "fe9b5763-33b9-45f7-9d61-42c6cfd58b7f",
   "metadata": {},
   "source": [
    "We can see what percentage of loans are considered bad"
   ]
  },
  {
   "cell_type": "code",
   "execution_count": 104,
   "id": "d5e61809-c774-43fd-a40d-dc971b408e5b",
   "metadata": {},
   "outputs": [
    {
     "name": "stdout",
     "output_type": "stream",
     "text": [
      "The training data has  6.63199033001529 % of loans that are bad\n",
      "The test data has  7.077833001302847 % of loans that are bad\n",
      "There were  58817 bad loans in the training data\n",
      "There were  51338 bad loans in the test data\n"
     ]
    }
   ],
   "source": [
    "print(\"The training data has \",X['target'].sum()/len(X['target'])*100,\"% of loans that are bad\")\n",
    "print(\"The test data has \",X2['target'].sum()/len(X2['target'])*100,\"% of loans that are bad\")\n",
    "print(\"There were \",X['target'].sum(), \"bad loans in the training data\")\n",
    "print(\"There were \",X2['target'].sum(), \"bad loans in the test data\")"
   ]
  },
  {
   "cell_type": "markdown",
   "id": "b923f991-f1dd-477a-b2c7-d9977dc65dd8",
   "metadata": {},
   "source": [
    "We have very unbalanced data here. When we actually go to model we will have to try to deal with this."
   ]
  },
  {
   "cell_type": "markdown",
   "id": "6627ffc9-ad91-47e9-a46d-5bd93f8b1419",
   "metadata": {},
   "source": [
    "## Exploratory Data Analysis"
   ]
  },
  {
   "cell_type": "markdown",
   "id": "086683b4-0632-42ce-9b6a-17538fdcdf40",
   "metadata": {},
   "source": [
    "Many of the features had almost all values missing. There's a very small positive class so we'll examine those to see how the positive class relates to those"
   ]
  },
  {
   "cell_type": "code",
   "execution_count": 110,
   "id": "de38384c-84f0-43a9-8116-ef98ee1bfbcc",
   "metadata": {},
   "outputs": [
    {
     "data": {
      "text/plain": [
       "0    0\n",
       "1    1\n",
       "2    0\n",
       "3    0\n",
       "4    0\n",
       "Name: loan_status, dtype: int64"
      ]
     },
     "execution_count": 110,
     "metadata": {},
     "output_type": "execute_result"
    }
   ],
   "source": [
    "#First we make a version of the target vector including the joint loans so we can compare to missing values. \n",
    "#we don't want to compare to filled values \n",
    "temp_target=df.loan_status.map(dictionary)\n",
    "temp_target.head()\n"
   ]
  },
  {
   "cell_type": "code",
   "execution_count": 112,
   "id": "9c7f218f-c856-4b4f-bf0c-27c78ff09a7d",
   "metadata": {},
   "outputs": [
    {
     "data": {
      "text/plain": [
       "868762"
      ]
     },
     "execution_count": 112,
     "metadata": {},
     "output_type": "execute_result"
    }
   ],
   "source": [
    "#First the il_util column\n",
    "df.il_util.isna().sum()"
   ]
  },
  {
   "cell_type": "code",
   "execution_count": 120,
   "id": "4a4d4b8f-6849-43c5-87dd-51460f5a511d",
   "metadata": {},
   "outputs": [
    {
     "name": "stdout",
     "output_type": "stream",
     "text": [
      "0.020979761747798854\n"
     ]
    }
   ],
   "source": [
    "temp_y=temp_target[df.il_util.notnull()]\n"
   ]
  },
  {
   "cell_type": "code",
   "execution_count": 116,
   "id": "cbc4da79-9fba-4720-8b87-80c9cd7679ac",
   "metadata": {},
   "outputs": [
    {
     "data": {
      "text/plain": [
       "0"
      ]
     },
     "execution_count": 116,
     "metadata": {},
     "output_type": "execute_result"
    }
   ],
   "source": [
    "temp_y.sum()"
   ]
  },
  {
   "cell_type": "code",
   "execution_count": 117,
   "id": "e330a186-a40e-4f7a-95f1-ef21a6365c91",
   "metadata": {},
   "outputs": [],
   "source": [
    "#Next the months since recent utilization of installment loan\n",
    "temp_y=temp_target[df.mths_since_rcnt_il.notnull()]"
   ]
  },
  {
   "cell_type": "code",
   "execution_count": 118,
   "id": "d5b3180c-ca03-4719-b7d1-5188dbf16caf",
   "metadata": {},
   "outputs": [
    {
     "data": {
      "text/plain": [
       "0"
      ]
     },
     "execution_count": 118,
     "metadata": {},
     "output_type": "execute_result"
    }
   ],
   "source": [
    "temp_y.sum()"
   ]
  },
  {
   "cell_type": "code",
   "execution_count": 121,
   "id": "f33e5fd0-1275-4574-ace6-8013c0b49ea3",
   "metadata": {},
   "outputs": [
    {
     "data": {
      "text/plain": [
       "0"
      ]
     },
     "execution_count": 121,
     "metadata": {},
     "output_type": "execute_result"
    }
   ],
   "source": [
    "#Next the all_util column\n",
    "temp_y=temp_target[df.all_util.notnull()]\n",
    "temp_y.sum()"
   ]
  },
  {
   "cell_type": "code",
   "execution_count": 122,
   "id": "ad790ef6-5b81-4a8d-9d26-a0cac27bdd69",
   "metadata": {},
   "outputs": [
    {
     "data": {
      "text/plain": [
       "0"
      ]
     },
     "execution_count": 122,
     "metadata": {},
     "output_type": "execute_result"
    }
   ],
   "source": [
    "#Next the inq_fi column\n",
    "temp_y=temp_target[df.inq_fi.notnull()]\n",
    "temp_y.sum()"
   ]
  },
  {
   "cell_type": "code",
   "execution_count": 123,
   "id": "bb4a3800-14f4-4e38-9152-0d33ec9a8817",
   "metadata": {},
   "outputs": [
    {
     "data": {
      "text/plain": [
       "0"
      ]
     },
     "execution_count": 123,
     "metadata": {},
     "output_type": "execute_result"
    }
   ],
   "source": [
    "#next the inq_last_12m\n",
    "temp_y=temp_target[df.inq_last_12m.notnull()]\n",
    "temp_y.sum()"
   ]
  },
  {
   "cell_type": "code",
   "execution_count": 124,
   "id": "07cd4b17-992f-4a04-bee6-0b621dd3e498",
   "metadata": {},
   "outputs": [
    {
     "data": {
      "text/plain": [
       "0"
      ]
     },
     "execution_count": 124,
     "metadata": {},
     "output_type": "execute_result"
    }
   ],
   "source": [
    "#next max_bal_bc column\n",
    "temp_y=temp_target[df.max_bal_bc.notnull()]\n",
    "temp_y.sum()"
   ]
  },
  {
   "cell_type": "code",
   "execution_count": 125,
   "id": "c7314d1b-f3e9-4efe-90cf-d50f9e376fe8",
   "metadata": {},
   "outputs": [
    {
     "data": {
      "text/plain": [
       "0"
      ]
     },
     "execution_count": 125,
     "metadata": {},
     "output_type": "execute_result"
    }
   ],
   "source": [
    "#next the open_acc_6m column\n",
    "temp_y=temp_target[df.open_acc_6m.notnull()]\n",
    "temp_y.sum()"
   ]
  },
  {
   "cell_type": "code",
   "execution_count": 126,
   "id": "5f17e3ea-5603-46c5-bd18-ffc65a1d33e1",
   "metadata": {},
   "outputs": [
    {
     "data": {
      "text/plain": [
       "0"
      ]
     },
     "execution_count": 126,
     "metadata": {},
     "output_type": "execute_result"
    }
   ],
   "source": [
    "#next the open_il_6m column\n",
    "temp_y=temp_target[df.open_il_6m.notnull()]\n",
    "temp_y.sum()"
   ]
  },
  {
   "cell_type": "code",
   "execution_count": 127,
   "id": "62d57b69-76c6-45c0-a9b2-beac3362c6dc",
   "metadata": {},
   "outputs": [
    {
     "data": {
      "text/plain": [
       "0"
      ]
     },
     "execution_count": 127,
     "metadata": {},
     "output_type": "execute_result"
    }
   ],
   "source": [
    "#next the open_il_12m column\n",
    "temp_y=temp_target[df.open_il_12m.notnull()]\n",
    "temp_y.sum()"
   ]
  },
  {
   "cell_type": "code",
   "execution_count": 128,
   "id": "8086064e-beeb-4782-8e17-f516e1ce7b05",
   "metadata": {},
   "outputs": [
    {
     "data": {
      "text/plain": [
       "0"
      ]
     },
     "execution_count": 128,
     "metadata": {},
     "output_type": "execute_result"
    }
   ],
   "source": [
    "#next the open_il_24m column\n",
    "temp_y=temp_target[df.open_il_24m.notnull()]\n",
    "temp_y.sum()"
   ]
  },
  {
   "cell_type": "code",
   "execution_count": 129,
   "id": "529f14d9-7ba8-4972-b6b0-f51fa3a8bfc2",
   "metadata": {},
   "outputs": [
    {
     "data": {
      "text/plain": [
       "0"
      ]
     },
     "execution_count": 129,
     "metadata": {},
     "output_type": "execute_result"
    }
   ],
   "source": [
    "#next the open_rv_12m column\n",
    "temp_y=temp_target[df.open_rv_12m.notnull()]\n",
    "temp_y.sum()"
   ]
  },
  {
   "cell_type": "markdown",
   "id": "dee166de-af95-41c2-9e07-f57d8019cd77",
   "metadata": {},
   "source": [
    "We are seeing a pattern here that many of these fields that had the vast majority of the entries missing had no members of the positive class when we did have information about them. This makes them feel dangerous to use as we could only make an intelligent guess as to what to put in. "
   ]
  },
  {
   "cell_type": "code",
   "execution_count": 147,
   "id": "b2b3e09d-1435-4637-80fd-d182d4479c81",
   "metadata": {},
   "outputs": [],
   "source": [
    "#We want to make a copy of the data and remove these columns for now from X. We keep the old copy with those columns in case\n",
    "#we want to use them in the future\n",
    "X_old=X\n",
    "X.rename(columns={\"last_credit_pull\":\"last_credit_pull_d\"},inplace=True)\n",
    "X.rename(columns={\"last_pymnt\":\"last_pymnt_d\"},inplace=True)\n",
    "X.rename(columns={\"next_pymnt\":\"next_pymnt_d\"},inplace=True)\n",
    "dropcols=[]\n",
    "for col in X.columns:\n",
    "    if col!=\"target\":\n",
    "            if df[col].isna().sum()>=860000:\n",
    "                dropcols.append(col)"
   ]
  },
  {
   "cell_type": "code",
   "execution_count": 148,
   "id": "02b0b2a8-6242-4cf9-a3a1-75e00cfd33a0",
   "metadata": {},
   "outputs": [
    {
     "data": {
      "text/plain": [
       "['open_acc_6m',\n",
       " 'open_il_12m',\n",
       " 'open_il_24m',\n",
       " 'mths_since_rcnt_il',\n",
       " 'total_bal_il',\n",
       " 'il_util',\n",
       " 'open_rv_12m',\n",
       " 'open_rv_24m',\n",
       " 'max_bal_bc',\n",
       " 'all_util',\n",
       " 'inq_fi',\n",
       " 'total_cu_tl',\n",
       " 'inq_last_12m']"
      ]
     },
     "execution_count": 148,
     "metadata": {},
     "output_type": "execute_result"
    }
   ],
   "source": [
    "dropcols"
   ]
  },
  {
   "cell_type": "code",
   "execution_count": 149,
   "id": "5e82f34e-1210-4932-b092-652288d63934",
   "metadata": {},
   "outputs": [],
   "source": [
    "X.drop(columns=dropcols,inplace=True)"
   ]
  },
  {
   "cell_type": "code",
   "execution_count": 150,
   "id": "d8aff433-f413-4307-bb6f-a3484824fe40",
   "metadata": {},
   "outputs": [
    {
     "data": {
      "text/plain": [
       "(886868, 51)"
      ]
     },
     "execution_count": 150,
     "metadata": {},
     "output_type": "execute_result"
    }
   ],
   "source": [
    "X.shape"
   ]
  },
  {
   "cell_type": "code",
   "execution_count": 152,
   "id": "2cc05773-760c-4b36-98e0-d25fd2024461",
   "metadata": {},
   "outputs": [
    {
     "name": "stdout",
     "output_type": "stream",
     "text": [
      "27323\n",
      "47900\n"
     ]
    }
   ],
   "source": [
    "#there were a few others with not quite as many missing values we can look at\n",
    "temp_y=temp_target[df.mths_since_last_delinq.notnull()]\n",
    "print(temp_y.sum())\n",
    "temp_y=temp_target[df.tot_coll_amt.notnull()]\n",
    "print(temp_y.sum())"
   ]
  },
  {
   "cell_type": "markdown",
   "id": "6707eb9f-03ad-41c2-a9fe-a9102a36d922",
   "metadata": {},
   "source": [
    "Unlike the previous ones, the ones with actual information in them contain many positive class entries. We can see if the actual values they have seem to affect the outcome"
   ]
  },
  {
   "cell_type": "code",
   "execution_count": 166,
   "id": "1df00a5b-16bd-43b8-9d95-f6e34e09bd75",
   "metadata": {},
   "outputs": [
    {
     "data": {
      "image/png": "[encoded data removed]",
      "text/plain": [
       "<Figure size 432x288 with 1 Axes>"
      ]
     },
     "metadata": {
      "needs_background": "light"
     },
     "output_type": "display_data"
    }
   ],
   "source": [
    "sns.scatterplot(x=X.mths_since_last_delinq,y=X.tot_coll_amt,hue=X.target)\n",
    "plt.show()"
   ]
  },
  {
   "cell_type": "code",
   "execution_count": 167,
   "id": "dc2e1b19-97af-4640-88ab-0ab07e8cdb3d",
   "metadata": {},
   "outputs": [],
   "source": [
    "#there is one outlier that is clearly skewing the picture so we can try to remove it\n",
    "X_outlier_removed=X[X.tot_coll_amt<X.tot_coll_amt.max()]"
   ]
  },
  {
   "cell_type": "code",
   "execution_count": 168,
   "id": "19a42a9a-3cb3-4e45-a549-2fdccf17af6d",
   "metadata": {},
   "outputs": [
    {
     "data": {
      "image/png": "[encoded data removed]",
      "text/plain": [
       "<Figure size 432x288 with 1 Axes>"
      ]
     },
     "metadata": {
      "needs_background": "light"
     },
     "output_type": "display_data"
    }
   ],
   "source": [
    "sns.scatterplot(x=X_outlier_removed.mths_since_last_delinq,y=X_outlier_removed.tot_coll_amt,hue=X_outlier_removed.target)\n",
    "plt.show()"
   ]
  },
  {
   "cell_type": "markdown",
   "id": "dd7424a5-1f53-4556-96da-c9230caf881a",
   "metadata": {},
   "source": [
    "There is no obvious pattern but that one outlier definitely appears troubling. Let's see what that data point looks like"
   ]
  },
  {
   "cell_type": "code",
   "execution_count": 169,
   "id": "e0491dc2-18e0-40ed-9d56-39da8f683b5f",
   "metadata": {},
   "outputs": [
    {
     "data": {
      "text/html": [
       "<div>\n",
       "<style scoped>\n",
       "    .dataframe tbody tr th:only-of-type {\n",
       "        vertical-align: middle;\n",
       "    }\n",
       "\n",
       "    .dataframe tbody tr th {\n",
       "        vertical-align: top;\n",
       "    }\n",
       "\n",
       "    .dataframe thead th {\n",
       "        text-align: right;\n",
       "    }\n",
       "</style>\n",
       "<table border=\"1\" class=\"dataframe\">\n",
       "  <thead>\n",
       "    <tr style=\"text-align: right;\">\n",
       "      <th></th>\n",
       "      <th>loan_amnt</th>\n",
       "      <th>funded_amnt</th>\n",
       "      <th>funded_amnt_inv</th>\n",
       "      <th>term</th>\n",
       "      <th>int_rate</th>\n",
       "      <th>installment</th>\n",
       "      <th>grade</th>\n",
       "      <th>sub_grade</th>\n",
       "      <th>emp_title</th>\n",
       "      <th>emp_length</th>\n",
       "      <th>...</th>\n",
       "      <th>policy_code</th>\n",
       "      <th>acc_now_delinq</th>\n",
       "      <th>tot_coll_amt</th>\n",
       "      <th>tot_cur_bal</th>\n",
       "      <th>total_rev_hi_lim</th>\n",
       "      <th>last_credit_pull_d</th>\n",
       "      <th>last_pymnt_d</th>\n",
       "      <th>earliest_cr_line</th>\n",
       "      <th>next_pymnt_d</th>\n",
       "      <th>target</th>\n",
       "    </tr>\n",
       "  </thead>\n",
       "  <tbody>\n",
       "    <tr>\n",
       "      <th>416962</th>\n",
       "      <td>10800.0</td>\n",
       "      <td>10800.0</td>\n",
       "      <td>10800.0</td>\n",
       "      <td>36 months</td>\n",
       "      <td>15.31</td>\n",
       "      <td>376.03</td>\n",
       "      <td>C</td>\n",
       "      <td>C4</td>\n",
       "      <td>Attorney</td>\n",
       "      <td>1.0</td>\n",
       "      <td>...</td>\n",
       "      <td>1.0</td>\n",
       "      <td>0.0</td>\n",
       "      <td>9152545.0</td>\n",
       "      <td>233924.0</td>\n",
       "      <td>13600.0</td>\n",
       "      <td>-640.0</td>\n",
       "      <td>-609.0</td>\n",
       "      <td>4292.0</td>\n",
       "      <td>-306.0</td>\n",
       "      <td>0</td>\n",
       "    </tr>\n",
       "  </tbody>\n",
       "</table>\n",
       "<p>1 rows × 51 columns</p>\n",
       "</div>"
      ],
      "text/plain": [
       "        loan_amnt  funded_amnt  funded_amnt_inv        term  int_rate  \\\n",
       "416962    10800.0      10800.0          10800.0   36 months     15.31   \n",
       "\n",
       "        installment grade sub_grade emp_title  emp_length  ... policy_code  \\\n",
       "416962       376.03     C        C4  Attorney         1.0  ...         1.0   \n",
       "\n",
       "        acc_now_delinq tot_coll_amt tot_cur_bal total_rev_hi_lim  \\\n",
       "416962             0.0    9152545.0    233924.0          13600.0   \n",
       "\n",
       "       last_credit_pull_d last_pymnt_d earliest_cr_line  next_pymnt_d  target  \n",
       "416962             -640.0       -609.0           4292.0        -306.0       0  \n",
       "\n",
       "[1 rows x 51 columns]"
      ]
     },
     "execution_count": 169,
     "metadata": {},
     "output_type": "execute_result"
    }
   ],
   "source": [
    "X[X.tot_coll_amt==X.tot_coll_amt.max()]"
   ]
  },
  {
   "cell_type": "markdown",
   "id": "97855a63-ab1d-4d66-8ba8-9cf70624344c",
   "metadata": {},
   "source": [
    "This looks a bit odd, but as long as we stick to decision tree based algorithms, it's unlikely to throw things off. If we use anything that we need to normalize and attach weights, it might be best to throw out this outlier"
   ]
  },
  {
   "cell_type": "code",
   "execution_count": null,
   "id": "ed18553e-9f02-4160-96f2-d6ac208066b8",
   "metadata": {},
   "outputs": [],
   "source": []
  }
 ],
 "metadata": {
  "kernelspec": {
   "display_name": "Python 3 (ipykernel)",
   "language": "python",
   "name": "python3"
  },
  "language_info": {
   "codemirror_mode": {
    "name": "ipython",
    "version": 3
   },
   "file_extension": ".py",
   "mimetype": "text/x-python",
   "name": "python",
   "nbconvert_exporter": "python",
   "pygments_lexer": "ipython3",
   "version": "3.9.7"
  }
 },
 "nbformat": 4,
 "nbformat_minor": 5
}
