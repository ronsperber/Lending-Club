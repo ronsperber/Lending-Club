{
 "cells": [
  {
   "cell_type": "code",
   "execution_count": 1,
   "id": "2587e29e-6dfc-4d19-96dd-fd7abb149508",
   "metadata": {},
   "outputs": [],
   "source": [
    "import numpy as np\n",
    "import pandas as pd\n",
    "import matplotlib.pyplot as plt\n",
    "import seaborn as sns"
   ]
  },
  {
   "cell_type": "markdown",
   "id": "d899349c-d43d-4667-bdaa-42062063e61e",
   "metadata": {},
   "source": [
    "## Data cleaning"
   ]
  },
  {
   "cell_type": "code",
   "execution_count": 2,
   "id": "03793ed9-be41-49de-81e8-b8ef2ce74da3",
   "metadata": {},
   "outputs": [],
   "source": [
    "df=pd.read_csv('lc_loan.csv/lc_loan.csv',low_memory=False)"
   ]
  },
  {
   "cell_type": "code",
   "execution_count": 3,
   "id": "86954d58-cb8e-4228-ad9c-7761d401c90d",
   "metadata": {},
   "outputs": [
    {
     "data": {
      "text/html": [
       "<div>\n",
       "<style scoped>\n",
       "    .dataframe tbody tr th:only-of-type {\n",
       "        vertical-align: middle;\n",
       "    }\n",
       "\n",
       "    .dataframe tbody tr th {\n",
       "        vertical-align: top;\n",
       "    }\n",
       "\n",
       "    .dataframe thead th {\n",
       "        text-align: right;\n",
       "    }\n",
       "</style>\n",
       "<table border=\"1\" class=\"dataframe\">\n",
       "  <thead>\n",
       "    <tr style=\"text-align: right;\">\n",
       "      <th></th>\n",
       "      <th>id</th>\n",
       "      <th>member_id</th>\n",
       "      <th>loan_amnt</th>\n",
       "      <th>funded_amnt</th>\n",
       "      <th>funded_amnt_inv</th>\n",
       "      <th>term</th>\n",
       "      <th>int_rate</th>\n",
       "      <th>installment</th>\n",
       "      <th>grade</th>\n",
       "      <th>sub_grade</th>\n",
       "      <th>...</th>\n",
       "      <th>total_bal_il</th>\n",
       "      <th>il_util</th>\n",
       "      <th>open_rv_12m</th>\n",
       "      <th>open_rv_24m</th>\n",
       "      <th>max_bal_bc</th>\n",
       "      <th>all_util</th>\n",
       "      <th>total_rev_hi_lim</th>\n",
       "      <th>inq_fi</th>\n",
       "      <th>total_cu_tl</th>\n",
       "      <th>inq_last_12m</th>\n",
       "    </tr>\n",
       "  </thead>\n",
       "  <tbody>\n",
       "    <tr>\n",
       "      <th>0</th>\n",
       "      <td>1077501</td>\n",
       "      <td>1296599</td>\n",
       "      <td>5000.0</td>\n",
       "      <td>5000.0</td>\n",
       "      <td>4975.0</td>\n",
       "      <td>36 months</td>\n",
       "      <td>10.65</td>\n",
       "      <td>162.87</td>\n",
       "      <td>B</td>\n",
       "      <td>B2</td>\n",
       "      <td>...</td>\n",
       "      <td>NaN</td>\n",
       "      <td>NaN</td>\n",
       "      <td>NaN</td>\n",
       "      <td>NaN</td>\n",
       "      <td>NaN</td>\n",
       "      <td>NaN</td>\n",
       "      <td>NaN</td>\n",
       "      <td>NaN</td>\n",
       "      <td>NaN</td>\n",
       "      <td>NaN</td>\n",
       "    </tr>\n",
       "    <tr>\n",
       "      <th>1</th>\n",
       "      <td>1077430</td>\n",
       "      <td>1314167</td>\n",
       "      <td>2500.0</td>\n",
       "      <td>2500.0</td>\n",
       "      <td>2500.0</td>\n",
       "      <td>60 months</td>\n",
       "      <td>15.27</td>\n",
       "      <td>59.83</td>\n",
       "      <td>C</td>\n",
       "      <td>C4</td>\n",
       "      <td>...</td>\n",
       "      <td>NaN</td>\n",
       "      <td>NaN</td>\n",
       "      <td>NaN</td>\n",
       "      <td>NaN</td>\n",
       "      <td>NaN</td>\n",
       "      <td>NaN</td>\n",
       "      <td>NaN</td>\n",
       "      <td>NaN</td>\n",
       "      <td>NaN</td>\n",
       "      <td>NaN</td>\n",
       "    </tr>\n",
       "    <tr>\n",
       "      <th>2</th>\n",
       "      <td>1077175</td>\n",
       "      <td>1313524</td>\n",
       "      <td>2400.0</td>\n",
       "      <td>2400.0</td>\n",
       "      <td>2400.0</td>\n",
       "      <td>36 months</td>\n",
       "      <td>15.96</td>\n",
       "      <td>84.33</td>\n",
       "      <td>C</td>\n",
       "      <td>C5</td>\n",
       "      <td>...</td>\n",
       "      <td>NaN</td>\n",
       "      <td>NaN</td>\n",
       "      <td>NaN</td>\n",
       "      <td>NaN</td>\n",
       "      <td>NaN</td>\n",
       "      <td>NaN</td>\n",
       "      <td>NaN</td>\n",
       "      <td>NaN</td>\n",
       "      <td>NaN</td>\n",
       "      <td>NaN</td>\n",
       "    </tr>\n",
       "    <tr>\n",
       "      <th>3</th>\n",
       "      <td>1076863</td>\n",
       "      <td>1277178</td>\n",
       "      <td>10000.0</td>\n",
       "      <td>10000.0</td>\n",
       "      <td>10000.0</td>\n",
       "      <td>36 months</td>\n",
       "      <td>13.49</td>\n",
       "      <td>339.31</td>\n",
       "      <td>C</td>\n",
       "      <td>C1</td>\n",
       "      <td>...</td>\n",
       "      <td>NaN</td>\n",
       "      <td>NaN</td>\n",
       "      <td>NaN</td>\n",
       "      <td>NaN</td>\n",
       "      <td>NaN</td>\n",
       "      <td>NaN</td>\n",
       "      <td>NaN</td>\n",
       "      <td>NaN</td>\n",
       "      <td>NaN</td>\n",
       "      <td>NaN</td>\n",
       "    </tr>\n",
       "    <tr>\n",
       "      <th>4</th>\n",
       "      <td>1075358</td>\n",
       "      <td>1311748</td>\n",
       "      <td>3000.0</td>\n",
       "      <td>3000.0</td>\n",
       "      <td>3000.0</td>\n",
       "      <td>60 months</td>\n",
       "      <td>12.69</td>\n",
       "      <td>67.79</td>\n",
       "      <td>B</td>\n",
       "      <td>B5</td>\n",
       "      <td>...</td>\n",
       "      <td>NaN</td>\n",
       "      <td>NaN</td>\n",
       "      <td>NaN</td>\n",
       "      <td>NaN</td>\n",
       "      <td>NaN</td>\n",
       "      <td>NaN</td>\n",
       "      <td>NaN</td>\n",
       "      <td>NaN</td>\n",
       "      <td>NaN</td>\n",
       "      <td>NaN</td>\n",
       "    </tr>\n",
       "  </tbody>\n",
       "</table>\n",
       "<p>5 rows × 74 columns</p>\n",
       "</div>"
      ],
      "text/plain": [
       "        id  member_id  loan_amnt  funded_amnt  funded_amnt_inv        term  \\\n",
       "0  1077501    1296599     5000.0       5000.0           4975.0   36 months   \n",
       "1  1077430    1314167     2500.0       2500.0           2500.0   60 months   \n",
       "2  1077175    1313524     2400.0       2400.0           2400.0   36 months   \n",
       "3  1076863    1277178    10000.0      10000.0          10000.0   36 months   \n",
       "4  1075358    1311748     3000.0       3000.0           3000.0   60 months   \n",
       "\n",
       "   int_rate  installment grade sub_grade  ... total_bal_il il_util  \\\n",
       "0     10.65       162.87     B        B2  ...          NaN     NaN   \n",
       "1     15.27        59.83     C        C4  ...          NaN     NaN   \n",
       "2     15.96        84.33     C        C5  ...          NaN     NaN   \n",
       "3     13.49       339.31     C        C1  ...          NaN     NaN   \n",
       "4     12.69        67.79     B        B5  ...          NaN     NaN   \n",
       "\n",
       "  open_rv_12m  open_rv_24m max_bal_bc all_util total_rev_hi_lim inq_fi  \\\n",
       "0         NaN          NaN        NaN      NaN              NaN    NaN   \n",
       "1         NaN          NaN        NaN      NaN              NaN    NaN   \n",
       "2         NaN          NaN        NaN      NaN              NaN    NaN   \n",
       "3         NaN          NaN        NaN      NaN              NaN    NaN   \n",
       "4         NaN          NaN        NaN      NaN              NaN    NaN   \n",
       "\n",
       "  total_cu_tl inq_last_12m  \n",
       "0         NaN          NaN  \n",
       "1         NaN          NaN  \n",
       "2         NaN          NaN  \n",
       "3         NaN          NaN  \n",
       "4         NaN          NaN  \n",
       "\n",
       "[5 rows x 74 columns]"
      ]
     },
     "execution_count": 3,
     "metadata": {},
     "output_type": "execute_result"
    }
   ],
   "source": [
    "df.head()"
   ]
  },
  {
   "cell_type": "code",
   "execution_count": 4,
   "id": "00cd6f32-e450-4bcb-81aa-0bbc4eac4c25",
   "metadata": {},
   "outputs": [
    {
     "data": {
      "text/plain": [
       "Index(['id', 'member_id', 'loan_amnt', 'funded_amnt', 'funded_amnt_inv',\n",
       "       'term', 'int_rate', 'installment', 'grade', 'sub_grade', 'emp_title',\n",
       "       'emp_length', 'home_ownership', 'annual_inc', 'verification_status',\n",
       "       'issue_d', 'loan_status', 'pymnt_plan', 'url', 'desc', 'purpose',\n",
       "       'title', 'zip_code', 'addr_state', 'dti', 'delinq_2yrs',\n",
       "       'earliest_cr_line', 'inq_last_6mths', 'mths_since_last_delinq',\n",
       "       'mths_since_last_record', 'open_acc', 'pub_rec', 'revol_bal',\n",
       "       'revol_util', 'total_acc', 'initial_list_status', 'out_prncp',\n",
       "       'out_prncp_inv', 'total_pymnt', 'total_pymnt_inv', 'total_rec_prncp',\n",
       "       'total_rec_int', 'total_rec_late_fee', 'recoveries',\n",
       "       'collection_recovery_fee', 'last_pymnt_d', 'last_pymnt_amnt',\n",
       "       'next_pymnt_d', 'last_credit_pull_d', 'collections_12_mths_ex_med',\n",
       "       'mths_since_last_major_derog', 'policy_code', 'application_type',\n",
       "       'annual_inc_joint', 'dti_joint', 'verification_status_joint',\n",
       "       'acc_now_delinq', 'tot_coll_amt', 'tot_cur_bal', 'open_acc_6m',\n",
       "       'open_il_6m', 'open_il_12m', 'open_il_24m', 'mths_since_rcnt_il',\n",
       "       'total_bal_il', 'il_util', 'open_rv_12m', 'open_rv_24m', 'max_bal_bc',\n",
       "       'all_util', 'total_rev_hi_lim', 'inq_fi', 'total_cu_tl',\n",
       "       'inq_last_12m'],\n",
       "      dtype='object')"
      ]
     },
     "execution_count": 4,
     "metadata": {},
     "output_type": "execute_result"
    }
   ],
   "source": [
    "df.columns"
   ]
  },
  {
   "cell_type": "code",
   "execution_count": 5,
   "id": "cb146e42-499e-4b53-b2ba-98b9d8bd48eb",
   "metadata": {},
   "outputs": [
    {
     "data": {
      "text/plain": [
       "(887379, 74)"
      ]
     },
     "execution_count": 5,
     "metadata": {},
     "output_type": "execute_result"
    }
   ],
   "source": [
    "df.shape"
   ]
  },
  {
   "cell_type": "code",
   "execution_count": 6,
   "id": "1a7550f8-d1e8-463d-86cc-8cabecbfe6fc",
   "metadata": {},
   "outputs": [
    {
     "data": {
      "text/html": [
       "<div>\n",
       "<style scoped>\n",
       "    .dataframe tbody tr th:only-of-type {\n",
       "        vertical-align: middle;\n",
       "    }\n",
       "\n",
       "    .dataframe tbody tr th {\n",
       "        vertical-align: top;\n",
       "    }\n",
       "\n",
       "    .dataframe thead th {\n",
       "        text-align: right;\n",
       "    }\n",
       "</style>\n",
       "<table border=\"1\" class=\"dataframe\">\n",
       "  <thead>\n",
       "    <tr style=\"text-align: right;\">\n",
       "      <th></th>\n",
       "      <th>count</th>\n",
       "      <th>%</th>\n",
       "    </tr>\n",
       "  </thead>\n",
       "  <tbody>\n",
       "    <tr>\n",
       "      <th>dti_joint</th>\n",
       "      <td>886870</td>\n",
       "      <td>99.942640</td>\n",
       "    </tr>\n",
       "    <tr>\n",
       "      <th>annual_inc_joint</th>\n",
       "      <td>886868</td>\n",
       "      <td>99.942415</td>\n",
       "    </tr>\n",
       "    <tr>\n",
       "      <th>verification_status_joint</th>\n",
       "      <td>886868</td>\n",
       "      <td>99.942415</td>\n",
       "    </tr>\n",
       "    <tr>\n",
       "      <th>il_util</th>\n",
       "      <td>868762</td>\n",
       "      <td>97.902024</td>\n",
       "    </tr>\n",
       "    <tr>\n",
       "      <th>mths_since_rcnt_il</th>\n",
       "      <td>866569</td>\n",
       "      <td>97.654892</td>\n",
       "    </tr>\n",
       "    <tr>\n",
       "      <th>total_cu_tl</th>\n",
       "      <td>866007</td>\n",
       "      <td>97.591559</td>\n",
       "    </tr>\n",
       "    <tr>\n",
       "      <th>inq_fi</th>\n",
       "      <td>866007</td>\n",
       "      <td>97.591559</td>\n",
       "    </tr>\n",
       "    <tr>\n",
       "      <th>all_util</th>\n",
       "      <td>866007</td>\n",
       "      <td>97.591559</td>\n",
       "    </tr>\n",
       "    <tr>\n",
       "      <th>max_bal_bc</th>\n",
       "      <td>866007</td>\n",
       "      <td>97.591559</td>\n",
       "    </tr>\n",
       "    <tr>\n",
       "      <th>open_rv_24m</th>\n",
       "      <td>866007</td>\n",
       "      <td>97.591559</td>\n",
       "    </tr>\n",
       "    <tr>\n",
       "      <th>open_rv_12m</th>\n",
       "      <td>866007</td>\n",
       "      <td>97.591559</td>\n",
       "    </tr>\n",
       "    <tr>\n",
       "      <th>total_bal_il</th>\n",
       "      <td>866007</td>\n",
       "      <td>97.591559</td>\n",
       "    </tr>\n",
       "    <tr>\n",
       "      <th>open_il_24m</th>\n",
       "      <td>866007</td>\n",
       "      <td>97.591559</td>\n",
       "    </tr>\n",
       "    <tr>\n",
       "      <th>open_il_12m</th>\n",
       "      <td>866007</td>\n",
       "      <td>97.591559</td>\n",
       "    </tr>\n",
       "    <tr>\n",
       "      <th>open_il_6m</th>\n",
       "      <td>866007</td>\n",
       "      <td>97.591559</td>\n",
       "    </tr>\n",
       "    <tr>\n",
       "      <th>open_acc_6m</th>\n",
       "      <td>866007</td>\n",
       "      <td>97.591559</td>\n",
       "    </tr>\n",
       "    <tr>\n",
       "      <th>inq_last_12m</th>\n",
       "      <td>866007</td>\n",
       "      <td>97.591559</td>\n",
       "    </tr>\n",
       "    <tr>\n",
       "      <th>desc</th>\n",
       "      <td>761351</td>\n",
       "      <td>85.797726</td>\n",
       "    </tr>\n",
       "    <tr>\n",
       "      <th>mths_since_last_record</th>\n",
       "      <td>750326</td>\n",
       "      <td>84.555303</td>\n",
       "    </tr>\n",
       "    <tr>\n",
       "      <th>mths_since_last_major_derog</th>\n",
       "      <td>665676</td>\n",
       "      <td>75.015974</td>\n",
       "    </tr>\n",
       "    <tr>\n",
       "      <th>mths_since_last_delinq</th>\n",
       "      <td>454312</td>\n",
       "      <td>51.197065</td>\n",
       "    </tr>\n",
       "    <tr>\n",
       "      <th>next_pymnt_d</th>\n",
       "      <td>252971</td>\n",
       "      <td>28.507661</td>\n",
       "    </tr>\n",
       "    <tr>\n",
       "      <th>total_rev_hi_lim</th>\n",
       "      <td>70276</td>\n",
       "      <td>7.919502</td>\n",
       "    </tr>\n",
       "    <tr>\n",
       "      <th>tot_coll_amt</th>\n",
       "      <td>70276</td>\n",
       "      <td>7.919502</td>\n",
       "    </tr>\n",
       "    <tr>\n",
       "      <th>tot_cur_bal</th>\n",
       "      <td>70276</td>\n",
       "      <td>7.919502</td>\n",
       "    </tr>\n",
       "    <tr>\n",
       "      <th>emp_title</th>\n",
       "      <td>51462</td>\n",
       "      <td>5.799326</td>\n",
       "    </tr>\n",
       "    <tr>\n",
       "      <th>emp_length</th>\n",
       "      <td>44825</td>\n",
       "      <td>5.051393</td>\n",
       "    </tr>\n",
       "    <tr>\n",
       "      <th>last_pymnt_d</th>\n",
       "      <td>17659</td>\n",
       "      <td>1.990018</td>\n",
       "    </tr>\n",
       "    <tr>\n",
       "      <th>revol_util</th>\n",
       "      <td>502</td>\n",
       "      <td>0.056571</td>\n",
       "    </tr>\n",
       "    <tr>\n",
       "      <th>title</th>\n",
       "      <td>152</td>\n",
       "      <td>0.017129</td>\n",
       "    </tr>\n",
       "    <tr>\n",
       "      <th>collections_12_mths_ex_med</th>\n",
       "      <td>145</td>\n",
       "      <td>0.016340</td>\n",
       "    </tr>\n",
       "    <tr>\n",
       "      <th>last_credit_pull_d</th>\n",
       "      <td>53</td>\n",
       "      <td>0.005973</td>\n",
       "    </tr>\n",
       "    <tr>\n",
       "      <th>open_acc</th>\n",
       "      <td>29</td>\n",
       "      <td>0.003268</td>\n",
       "    </tr>\n",
       "    <tr>\n",
       "      <th>inq_last_6mths</th>\n",
       "      <td>29</td>\n",
       "      <td>0.003268</td>\n",
       "    </tr>\n",
       "    <tr>\n",
       "      <th>earliest_cr_line</th>\n",
       "      <td>29</td>\n",
       "      <td>0.003268</td>\n",
       "    </tr>\n",
       "    <tr>\n",
       "      <th>delinq_2yrs</th>\n",
       "      <td>29</td>\n",
       "      <td>0.003268</td>\n",
       "    </tr>\n",
       "    <tr>\n",
       "      <th>total_acc</th>\n",
       "      <td>29</td>\n",
       "      <td>0.003268</td>\n",
       "    </tr>\n",
       "    <tr>\n",
       "      <th>acc_now_delinq</th>\n",
       "      <td>29</td>\n",
       "      <td>0.003268</td>\n",
       "    </tr>\n",
       "    <tr>\n",
       "      <th>pub_rec</th>\n",
       "      <td>29</td>\n",
       "      <td>0.003268</td>\n",
       "    </tr>\n",
       "    <tr>\n",
       "      <th>annual_inc</th>\n",
       "      <td>4</td>\n",
       "      <td>0.000451</td>\n",
       "    </tr>\n",
       "  </tbody>\n",
       "</table>\n",
       "</div>"
      ],
      "text/plain": [
       "                              count          %\n",
       "dti_joint                    886870  99.942640\n",
       "annual_inc_joint             886868  99.942415\n",
       "verification_status_joint    886868  99.942415\n",
       "il_util                      868762  97.902024\n",
       "mths_since_rcnt_il           866569  97.654892\n",
       "total_cu_tl                  866007  97.591559\n",
       "inq_fi                       866007  97.591559\n",
       "all_util                     866007  97.591559\n",
       "max_bal_bc                   866007  97.591559\n",
       "open_rv_24m                  866007  97.591559\n",
       "open_rv_12m                  866007  97.591559\n",
       "total_bal_il                 866007  97.591559\n",
       "open_il_24m                  866007  97.591559\n",
       "open_il_12m                  866007  97.591559\n",
       "open_il_6m                   866007  97.591559\n",
       "open_acc_6m                  866007  97.591559\n",
       "inq_last_12m                 866007  97.591559\n",
       "desc                         761351  85.797726\n",
       "mths_since_last_record       750326  84.555303\n",
       "mths_since_last_major_derog  665676  75.015974\n",
       "mths_since_last_delinq       454312  51.197065\n",
       "next_pymnt_d                 252971  28.507661\n",
       "total_rev_hi_lim              70276   7.919502\n",
       "tot_coll_amt                  70276   7.919502\n",
       "tot_cur_bal                   70276   7.919502\n",
       "emp_title                     51462   5.799326\n",
       "emp_length                    44825   5.051393\n",
       "last_pymnt_d                  17659   1.990018\n",
       "revol_util                      502   0.056571\n",
       "title                           152   0.017129\n",
       "collections_12_mths_ex_med      145   0.016340\n",
       "last_credit_pull_d               53   0.005973\n",
       "open_acc                         29   0.003268\n",
       "inq_last_6mths                   29   0.003268\n",
       "earliest_cr_line                 29   0.003268\n",
       "delinq_2yrs                      29   0.003268\n",
       "total_acc                        29   0.003268\n",
       "acc_now_delinq                   29   0.003268\n",
       "pub_rec                          29   0.003268\n",
       "annual_inc                        4   0.000451"
      ]
     },
     "execution_count": 6,
     "metadata": {},
     "output_type": "execute_result"
    }
   ],
   "source": [
    "#We look to see which columns have missing values\n",
    "missing = pd.concat([df.isnull().sum(), 100 * df.isnull().mean()], axis=1)\n",
    "missing.columns=['count','%']\n",
    "missing[missing[\"count\"]>0].sort_values(by='count',ascending=False)"
   ]
  },
  {
   "cell_type": "markdown",
   "id": "a0146198-a24e-4632-b4a3-857d114e7132",
   "metadata": {},
   "source": [
    "Some of the most commonly missing values are related to joint applications. We can see how many there are."
   ]
  },
  {
   "cell_type": "code",
   "execution_count": 7,
   "id": "453d051a-94f9-4b1a-a355-e3749358352d",
   "metadata": {},
   "outputs": [
    {
     "data": {
      "text/plain": [
       "(511, 74)"
      ]
     },
     "execution_count": 7,
     "metadata": {},
     "output_type": "execute_result"
    }
   ],
   "source": [
    "df[df.application_type==\"JOINT\"].shape"
   ]
  },
  {
   "cell_type": "markdown",
   "id": "097d2808-1b99-4b63-b24b-328c82ac21ad",
   "metadata": {},
   "source": [
    "There are only 511 joint applications. While we may want to come back to these later, for a first run through we can get rid of them. Doing so we can get rid of the application type field. We will also take out the member ID field for modeling."
   ]
  },
  {
   "cell_type": "code",
   "execution_count": 8,
   "id": "fb1bf39d-6454-4fdd-9563-cc8738cece81",
   "metadata": {},
   "outputs": [],
   "source": [
    "X=df[df.application_type!=\"JOINT\"]\n",
    "X=X.drop(columns=['id','member_id','application_type'])"
   ]
  },
  {
   "cell_type": "markdown",
   "id": "3dc6cbb1-42ab-4ff0-8b3d-53446d970a92",
   "metadata": {},
   "source": [
    "We can now get rid of any columns involving the joint applicant"
   ]
  },
  {
   "cell_type": "code",
   "execution_count": 9,
   "id": "49504006-542b-45c9-97cb-4ee41659d25c",
   "metadata": {},
   "outputs": [],
   "source": [
    "X=X.drop(columns=['dti_joint','annual_inc_joint','verification_status_joint'])"
   ]
  },
  {
   "cell_type": "markdown",
   "id": "41a71834-4d0f-4b38-9bfe-776c0e9ffafc",
   "metadata": {},
   "source": [
    "We can get the 2016-2017 data (to be used as testing) and start doing the same thing"
   ]
  },
  {
   "cell_type": "code",
   "execution_count": 10,
   "id": "4fa8f65e-7f13-45eb-af40-ac4b010df250",
   "metadata": {},
   "outputs": [],
   "source": [
    "df2=pd.read_csv(\"lc_2016_2017.csv/lc_2016_2017.csv\",low_memory=False)"
   ]
  },
  {
   "cell_type": "code",
   "execution_count": 11,
   "id": "9a65b8c9-9415-40f1-8c11-a8d2662cd7e1",
   "metadata": {},
   "outputs": [],
   "source": [
    "X_test=df2[df2.application_type!=\"JOINT\"]\n",
    "X_test=X_test.drop(columns=['id','member_id','application_type','dti_joint','annual_inc_joint','verification_status_joint'])"
   ]
  },
  {
   "cell_type": "code",
   "execution_count": 12,
   "id": "ce5981f9-5d37-43fd-8f22-bdd5c229f1da",
   "metadata": {},
   "outputs": [],
   "source": [
    "#Separate the target variable and remove it from the features\n",
    "y=X.loan_status\n",
    "y_test=X_test.loan_status\n",
    "X.drop(columns=['loan_status'],inplace=True)\n",
    "X_test.drop(columns=['loan_status'],inplace=True)"
   ]
  },
  {
   "cell_type": "code",
   "execution_count": 13,
   "id": "d2d8a0ba-0b41-492e-973c-3209a2a75201",
   "metadata": {},
   "outputs": [
    {
     "data": {
      "text/html": [
       "<div>\n",
       "<style scoped>\n",
       "    .dataframe tbody tr th:only-of-type {\n",
       "        vertical-align: middle;\n",
       "    }\n",
       "\n",
       "    .dataframe tbody tr th {\n",
       "        vertical-align: top;\n",
       "    }\n",
       "\n",
       "    .dataframe thead th {\n",
       "        text-align: right;\n",
       "    }\n",
       "</style>\n",
       "<table border=\"1\" class=\"dataframe\">\n",
       "  <thead>\n",
       "    <tr style=\"text-align: right;\">\n",
       "      <th></th>\n",
       "      <th>count</th>\n",
       "      <th>%</th>\n",
       "    </tr>\n",
       "  </thead>\n",
       "  <tbody>\n",
       "    <tr>\n",
       "      <th>il_util</th>\n",
       "      <td>868392</td>\n",
       "      <td>97.916714</td>\n",
       "    </tr>\n",
       "    <tr>\n",
       "      <th>mths_since_rcnt_il</th>\n",
       "      <td>866220</td>\n",
       "      <td>97.671807</td>\n",
       "    </tr>\n",
       "    <tr>\n",
       "      <th>inq_last_12m</th>\n",
       "      <td>865659</td>\n",
       "      <td>97.608551</td>\n",
       "    </tr>\n",
       "    <tr>\n",
       "      <th>open_acc_6m</th>\n",
       "      <td>865659</td>\n",
       "      <td>97.608551</td>\n",
       "    </tr>\n",
       "    <tr>\n",
       "      <th>total_cu_tl</th>\n",
       "      <td>865659</td>\n",
       "      <td>97.608551</td>\n",
       "    </tr>\n",
       "    <tr>\n",
       "      <th>inq_fi</th>\n",
       "      <td>865659</td>\n",
       "      <td>97.608551</td>\n",
       "    </tr>\n",
       "    <tr>\n",
       "      <th>all_util</th>\n",
       "      <td>865659</td>\n",
       "      <td>97.608551</td>\n",
       "    </tr>\n",
       "    <tr>\n",
       "      <th>max_bal_bc</th>\n",
       "      <td>865659</td>\n",
       "      <td>97.608551</td>\n",
       "    </tr>\n",
       "    <tr>\n",
       "      <th>open_rv_24m</th>\n",
       "      <td>865659</td>\n",
       "      <td>97.608551</td>\n",
       "    </tr>\n",
       "    <tr>\n",
       "      <th>open_rv_12m</th>\n",
       "      <td>865659</td>\n",
       "      <td>97.608551</td>\n",
       "    </tr>\n",
       "    <tr>\n",
       "      <th>total_bal_il</th>\n",
       "      <td>865659</td>\n",
       "      <td>97.608551</td>\n",
       "    </tr>\n",
       "    <tr>\n",
       "      <th>open_il_24m</th>\n",
       "      <td>865659</td>\n",
       "      <td>97.608551</td>\n",
       "    </tr>\n",
       "    <tr>\n",
       "      <th>open_il_12m</th>\n",
       "      <td>865659</td>\n",
       "      <td>97.608551</td>\n",
       "    </tr>\n",
       "    <tr>\n",
       "      <th>open_il_6m</th>\n",
       "      <td>865659</td>\n",
       "      <td>97.608551</td>\n",
       "    </tr>\n",
       "    <tr>\n",
       "      <th>desc</th>\n",
       "      <td>760840</td>\n",
       "      <td>85.789543</td>\n",
       "    </tr>\n",
       "    <tr>\n",
       "      <th>mths_since_last_record</th>\n",
       "      <td>749931</td>\n",
       "      <td>84.559483</td>\n",
       "    </tr>\n",
       "    <tr>\n",
       "      <th>mths_since_last_major_derog</th>\n",
       "      <td>665312</td>\n",
       "      <td>75.018154</td>\n",
       "    </tr>\n",
       "    <tr>\n",
       "      <th>mths_since_last_delinq</th>\n",
       "      <td>454080</td>\n",
       "      <td>51.200404</td>\n",
       "    </tr>\n",
       "    <tr>\n",
       "      <th>next_pymnt_d</th>\n",
       "      <td>252970</td>\n",
       "      <td>28.523974</td>\n",
       "    </tr>\n",
       "    <tr>\n",
       "      <th>total_rev_hi_lim</th>\n",
       "      <td>70276</td>\n",
       "      <td>7.924065</td>\n",
       "    </tr>\n",
       "    <tr>\n",
       "      <th>tot_coll_amt</th>\n",
       "      <td>70276</td>\n",
       "      <td>7.924065</td>\n",
       "    </tr>\n",
       "    <tr>\n",
       "      <th>tot_cur_bal</th>\n",
       "      <td>70276</td>\n",
       "      <td>7.924065</td>\n",
       "    </tr>\n",
       "    <tr>\n",
       "      <th>emp_title</th>\n",
       "      <td>51401</td>\n",
       "      <td>5.795789</td>\n",
       "    </tr>\n",
       "    <tr>\n",
       "      <th>emp_length</th>\n",
       "      <td>44764</td>\n",
       "      <td>5.047425</td>\n",
       "    </tr>\n",
       "    <tr>\n",
       "      <th>last_pymnt_d</th>\n",
       "      <td>17521</td>\n",
       "      <td>1.975604</td>\n",
       "    </tr>\n",
       "    <tr>\n",
       "      <th>revol_util</th>\n",
       "      <td>502</td>\n",
       "      <td>0.056604</td>\n",
       "    </tr>\n",
       "    <tr>\n",
       "      <th>collections_12_mths_ex_med</th>\n",
       "      <td>145</td>\n",
       "      <td>0.016350</td>\n",
       "    </tr>\n",
       "    <tr>\n",
       "      <th>title</th>\n",
       "      <td>143</td>\n",
       "      <td>0.016124</td>\n",
       "    </tr>\n",
       "    <tr>\n",
       "      <th>last_credit_pull_d</th>\n",
       "      <td>53</td>\n",
       "      <td>0.005976</td>\n",
       "    </tr>\n",
       "    <tr>\n",
       "      <th>total_acc</th>\n",
       "      <td>29</td>\n",
       "      <td>0.003270</td>\n",
       "    </tr>\n",
       "    <tr>\n",
       "      <th>open_acc</th>\n",
       "      <td>29</td>\n",
       "      <td>0.003270</td>\n",
       "    </tr>\n",
       "    <tr>\n",
       "      <th>inq_last_6mths</th>\n",
       "      <td>29</td>\n",
       "      <td>0.003270</td>\n",
       "    </tr>\n",
       "    <tr>\n",
       "      <th>earliest_cr_line</th>\n",
       "      <td>29</td>\n",
       "      <td>0.003270</td>\n",
       "    </tr>\n",
       "    <tr>\n",
       "      <th>delinq_2yrs</th>\n",
       "      <td>29</td>\n",
       "      <td>0.003270</td>\n",
       "    </tr>\n",
       "    <tr>\n",
       "      <th>acc_now_delinq</th>\n",
       "      <td>29</td>\n",
       "      <td>0.003270</td>\n",
       "    </tr>\n",
       "    <tr>\n",
       "      <th>pub_rec</th>\n",
       "      <td>29</td>\n",
       "      <td>0.003270</td>\n",
       "    </tr>\n",
       "    <tr>\n",
       "      <th>annual_inc</th>\n",
       "      <td>4</td>\n",
       "      <td>0.000451</td>\n",
       "    </tr>\n",
       "  </tbody>\n",
       "</table>\n",
       "</div>"
      ],
      "text/plain": [
       "                              count          %\n",
       "il_util                      868392  97.916714\n",
       "mths_since_rcnt_il           866220  97.671807\n",
       "inq_last_12m                 865659  97.608551\n",
       "open_acc_6m                  865659  97.608551\n",
       "total_cu_tl                  865659  97.608551\n",
       "inq_fi                       865659  97.608551\n",
       "all_util                     865659  97.608551\n",
       "max_bal_bc                   865659  97.608551\n",
       "open_rv_24m                  865659  97.608551\n",
       "open_rv_12m                  865659  97.608551\n",
       "total_bal_il                 865659  97.608551\n",
       "open_il_24m                  865659  97.608551\n",
       "open_il_12m                  865659  97.608551\n",
       "open_il_6m                   865659  97.608551\n",
       "desc                         760840  85.789543\n",
       "mths_since_last_record       749931  84.559483\n",
       "mths_since_last_major_derog  665312  75.018154\n",
       "mths_since_last_delinq       454080  51.200404\n",
       "next_pymnt_d                 252970  28.523974\n",
       "total_rev_hi_lim              70276   7.924065\n",
       "tot_coll_amt                  70276   7.924065\n",
       "tot_cur_bal                   70276   7.924065\n",
       "emp_title                     51401   5.795789\n",
       "emp_length                    44764   5.047425\n",
       "last_pymnt_d                  17521   1.975604\n",
       "revol_util                      502   0.056604\n",
       "collections_12_mths_ex_med      145   0.016350\n",
       "title                           143   0.016124\n",
       "last_credit_pull_d               53   0.005976\n",
       "total_acc                        29   0.003270\n",
       "open_acc                         29   0.003270\n",
       "inq_last_6mths                   29   0.003270\n",
       "earliest_cr_line                 29   0.003270\n",
       "delinq_2yrs                      29   0.003270\n",
       "acc_now_delinq                   29   0.003270\n",
       "pub_rec                          29   0.003270\n",
       "annual_inc                        4   0.000451"
      ]
     },
     "execution_count": 13,
     "metadata": {},
     "output_type": "execute_result"
    }
   ],
   "source": [
    "#We look to see which columns in the restricted data have missing values still\n",
    "missing = pd.concat([X.isnull().sum(), 100 * X.isnull().mean()], axis=1)\n",
    "missing.columns=['count','%']\n",
    "missing[missing[\"count\"]>0].sort_values(by='count',ascending=False)"
   ]
  },
  {
   "cell_type": "markdown",
   "id": "d4bcf7f9-e9b6-4efd-b43f-4d335ae433ee",
   "metadata": {},
   "source": [
    "For the features with many missing values we want to see what's actually there"
   ]
  },
  {
   "cell_type": "code",
   "execution_count": 14,
   "id": "46e5a451-e111-426f-a37b-f8f5f5b24eec",
   "metadata": {},
   "outputs": [
    {
     "data": {
      "text/plain": [
       "0.0      138\n",
       "100.0    132\n",
       "87.0      68\n",
       "75.0      66\n",
       "86.0      64\n",
       "        ... \n",
       "118.8      1\n",
       "113.0      1\n",
       "136.3      1\n",
       "133.2      1\n",
       "116.9      1\n",
       "Name: il_util, Length: 1271, dtype: int64"
      ]
     },
     "execution_count": 14,
     "metadata": {},
     "output_type": "execute_result"
    }
   ],
   "source": [
    "X.il_util.value_counts()"
   ]
  },
  {
   "cell_type": "code",
   "execution_count": 15,
   "id": "595801ef-a31b-40d4-bf25-df869cda17f2",
   "metadata": {},
   "outputs": [
    {
     "data": {
      "text/plain": [
       "array([  nan,  49.3,  88.8, ..., 133.1,  12.9, 116.9])"
      ]
     },
     "execution_count": 15,
     "metadata": {},
     "output_type": "execute_result"
    }
   ],
   "source": [
    "X.il_util.unique()"
   ]
  },
  {
   "cell_type": "code",
   "execution_count": 16,
   "id": "c7c412e6-3221-425f-9ee8-0ccdb82588fe",
   "metadata": {},
   "outputs": [
    {
     "data": {
      "text/plain": [
       "count    18476.000000\n",
       "mean        71.519788\n",
       "std         23.034225\n",
       "min          0.000000\n",
       "25%         58.600000\n",
       "50%         75.000000\n",
       "75%         87.600000\n",
       "max        223.300000\n",
       "Name: il_util, dtype: float64"
      ]
     },
     "execution_count": 16,
     "metadata": {},
     "output_type": "execute_result"
    }
   ],
   "source": [
    "X.il_util.describe()"
   ]
  },
  {
   "cell_type": "markdown",
   "id": "04a9528d-41a8-453d-84be-2d80067d13cf",
   "metadata": {},
   "source": [
    "We're missing a lot of data here. There's quite a range here. While this potentially could cause issues we could impute the median of 75 here. We will impute the same to the test data "
   ]
  },
  {
   "cell_type": "code",
   "execution_count": 17,
   "id": "a7662cdf-792f-45db-8b9e-7fa7f8d590d6",
   "metadata": {},
   "outputs": [],
   "source": [
    "X.il_util.fillna(75,inplace=True)"
   ]
  },
  {
   "cell_type": "code",
   "execution_count": 18,
   "id": "a93c28ab-bbe3-4635-8b9f-64d6363ca631",
   "metadata": {},
   "outputs": [],
   "source": [
    "X_test.il_util.fillna(75,inplace=True)"
   ]
  },
  {
   "cell_type": "code",
   "execution_count": 19,
   "id": "4f538278-1543-4865-b728-0c5d47fac2b7",
   "metadata": {},
   "outputs": [
    {
     "data": {
      "text/plain": [
       "4.0      1220\n",
       "3.0      1179\n",
       "7.0      1073\n",
       "5.0      1041\n",
       "6.0       980\n",
       "         ... \n",
       "338.0       1\n",
       "230.0       1\n",
       "238.0       1\n",
       "275.0       1\n",
       "250.0       1\n",
       "Name: mths_since_rcnt_il, Length: 200, dtype: int64"
      ]
     },
     "execution_count": 19,
     "metadata": {},
     "output_type": "execute_result"
    }
   ],
   "source": [
    "X.mths_since_rcnt_il.value_counts()"
   ]
  },
  {
   "cell_type": "code",
   "execution_count": 20,
   "id": "3e37523d-2f53-465e-8f1a-25b3ba4a09d0",
   "metadata": {},
   "outputs": [
    {
     "data": {
      "text/plain": [
       "array([ nan,  28.,  11.,  47.,  13.,   8.,  21., 338.,  54.,  73.,  14.,\n",
       "        18.,  23.,  42.,  19.,  10.,  27.,   2.,  76.,   7.,   6.,   5.,\n",
       "        15.,   9.,  62.,  35.,   3.,  17.,  45.,  16.,  38.,  24.,  25.,\n",
       "        12.,   1.,  43.,  91.,  55.,  52.,  37.,  50.,  79.,  64.,  22.,\n",
       "        36.,  58.,  49.,  26.,   4.,  61.,  59.,  46., 141.,  32.,  53.,\n",
       "        56., 100., 103.,  33.,  20.,  51.,  63.,  40., 118.,  98.,  31.,\n",
       "       275., 121.,  29., 124.,  34.,  89.,  41.,   0., 145.,  44.,  77.,\n",
       "        82.,  80.,  39.,  30.,  71., 111.,  95., 129.,  68., 168., 119.,\n",
       "       115., 151.,  72.,  67., 104.,  74.,  93.,  57., 238., 148.,  87.,\n",
       "       170., 230.,  66., 158., 107., 101.,  90., 150.,  78., 114., 120.,\n",
       "       133., 136.,  60., 137.,  85., 131., 130.,  75.,  48., 109.,  81.,\n",
       "       117., 102., 105., 113.,  88.,  83.,  84., 147.,  65.,  69.,  99.,\n",
       "        86., 110., 152., 288., 135., 108., 149., 140., 112.,  94.,  97.,\n",
       "       123., 134., 116.,  92., 138., 169., 139., 125., 144., 122.,  70.,\n",
       "       163.,  96., 142., 160., 171., 202., 242., 127., 128., 153., 106.,\n",
       "       165., 208., 174., 205., 181., 146., 164., 161., 201., 156., 226.,\n",
       "       132., 185., 300., 126., 167., 162., 191., 244., 143., 172., 159.,\n",
       "       363., 166., 207., 176., 173., 219., 155., 211., 179., 217., 193.,\n",
       "       236., 218., 250.])"
      ]
     },
     "execution_count": 20,
     "metadata": {},
     "output_type": "execute_result"
    }
   ],
   "source": [
    "X.mths_since_rcnt_il.unique()"
   ]
  },
  {
   "cell_type": "code",
   "execution_count": 21,
   "id": "0827024d-708a-4636-9618-9d7024e1fc90",
   "metadata": {},
   "outputs": [
    {
     "data": {
      "text/plain": [
       "count    20648.000000\n",
       "mean        20.922801\n",
       "std         27.233241\n",
       "min          0.000000\n",
       "25%          6.000000\n",
       "50%         12.000000\n",
       "75%         23.000000\n",
       "max        363.000000\n",
       "Name: mths_since_rcnt_il, dtype: float64"
      ]
     },
     "execution_count": 21,
     "metadata": {},
     "output_type": "execute_result"
    }
   ],
   "source": [
    "X.mths_since_rcnt_il.describe()"
   ]
  },
  {
   "cell_type": "markdown",
   "id": "9441e31c-a88d-4ca9-859e-58e62b95fa3a",
   "metadata": {},
   "source": [
    "This is months since most recent installment account was opened. Missing values are likely people that have no old one. The easiest way to make sure it's considered separate is to simply impute a very large number. For now we can use infinite. Since we likely will use decision trees here, that will be a reasonable way to separate them.\n",
    "\n",
    "This will mean that trying to look at statistics on these fields will not make much sense."
   ]
  },
  {
   "cell_type": "code",
   "execution_count": 22,
   "id": "83d0798e-5211-40f6-a702-fb45a8541c47",
   "metadata": {},
   "outputs": [],
   "source": [
    "X.mths_since_rcnt_il.fillna(np.inf,inplace=True)\n",
    "X_test.mths_since_rcnt_il.fillna(np.inf,inplace=True)"
   ]
  },
  {
   "cell_type": "code",
   "execution_count": 23,
   "id": "a7198c6f-73f5-461a-b344-dc33e447f45d",
   "metadata": {},
   "outputs": [
    {
     "data": {
      "text/plain": [
       " 1.0     5011\n",
       " 0.0     3958\n",
       " 2.0     3728\n",
       " 3.0     2576\n",
       " 4.0     1681\n",
       "-4.0     1365\n",
       " 5.0      987\n",
       " 6.0      664\n",
       " 7.0      424\n",
       " 8.0      272\n",
       " 9.0      143\n",
       " 10.0     112\n",
       " 11.0      73\n",
       " 12.0      57\n",
       " 13.0      55\n",
       " 14.0      27\n",
       " 15.0      26\n",
       " 16.0      12\n",
       " 17.0       8\n",
       " 19.0       8\n",
       " 20.0       7\n",
       " 18.0       5\n",
       " 21.0       3\n",
       " 25.0       2\n",
       " 30.0       1\n",
       " 26.0       1\n",
       " 22.0       1\n",
       " 32.0       1\n",
       " 24.0       1\n",
       "Name: inq_last_12m, dtype: int64"
      ]
     },
     "execution_count": 23,
     "metadata": {},
     "output_type": "execute_result"
    }
   ],
   "source": [
    "X.inq_last_12m.value_counts()"
   ]
  },
  {
   "cell_type": "markdown",
   "id": "72f9c5f7-2c95-4f11-b07d-5d2c31f80aff",
   "metadata": {},
   "source": [
    "It seems reasonable to impute 0 for missing ones since the reasonable conclusion of no data on inquiries in the last 12 months is that there were zero. We have a fwe entries that are -4. That obviously isn't reasonable since you can't have negative inquiries. We can try to see what those say for inquiries in the last 6 months."
   ]
  },
  {
   "cell_type": "code",
   "execution_count": 24,
   "id": "130c2ec7-dc6a-48f0-8015-3a8fae8dea61",
   "metadata": {},
   "outputs": [
    {
     "data": {
      "text/plain": [
       "0.0    1365\n",
       "Name: inq_last_6mths, dtype: int64"
      ]
     },
     "execution_count": 24,
     "metadata": {},
     "output_type": "execute_result"
    }
   ],
   "source": [
    "X[X.inq_last_12m==-4].inq_last_6mths.value_counts()"
   ]
  },
  {
   "cell_type": "markdown",
   "id": "f3d0c573-7f67-41cf-8b44-612840317224",
   "metadata": {},
   "source": [
    "All 1365 had none in the last 6 months. So we will replace those with 0 as well. We will replace all missing and negative entries in the training and test data with 0"
   ]
  },
  {
   "cell_type": "code",
   "execution_count": 25,
   "id": "31a24331-714c-49be-9fd6-1878da275b64",
   "metadata": {},
   "outputs": [],
   "source": [
    "X.inq_last_12m=X.inq_last_12m.replace(-4,0)\n",
    "X.inq_last_12m.fillna(0,inplace=True)"
   ]
  },
  {
   "cell_type": "code",
   "execution_count": 26,
   "id": "d48760e0-3dd1-4017-b1b8-286eb13048fb",
   "metadata": {},
   "outputs": [
    {
     "data": {
      "text/plain": [
       "0.0     870982\n",
       "1.0       5011\n",
       "2.0       3728\n",
       "3.0       2576\n",
       "4.0       1681\n",
       "5.0        987\n",
       "6.0        664\n",
       "7.0        424\n",
       "8.0        272\n",
       "9.0        143\n",
       "10.0       112\n",
       "11.0        73\n",
       "12.0        57\n",
       "13.0        55\n",
       "14.0        27\n",
       "15.0        26\n",
       "16.0        12\n",
       "19.0         8\n",
       "17.0         8\n",
       "20.0         7\n",
       "18.0         5\n",
       "21.0         3\n",
       "25.0         2\n",
       "26.0         1\n",
       "30.0         1\n",
       "22.0         1\n",
       "32.0         1\n",
       "24.0         1\n",
       "Name: inq_last_12m, dtype: int64"
      ]
     },
     "execution_count": 26,
     "metadata": {},
     "output_type": "execute_result"
    }
   ],
   "source": [
    "X.inq_last_12m.value_counts()"
   ]
  },
  {
   "cell_type": "code",
   "execution_count": 27,
   "id": "1360a52a-9e5e-45a4-a7fa-519261fb30e9",
   "metadata": {},
   "outputs": [],
   "source": [
    "X_test.inq_last_12m.fillna(0,inplace=True)\n",
    "#There were no negative values in the test data so we didn't have to worry about that."
   ]
  },
  {
   "cell_type": "code",
   "execution_count": 28,
   "id": "b170fc4e-83fc-4cd1-aca9-5c1c0d346803",
   "metadata": {},
   "outputs": [
    {
     "data": {
      "text/plain": [
       "Index(['emp_title', 'emp_length', 'annual_inc', 'desc', 'title', 'delinq_2yrs',\n",
       "       'earliest_cr_line', 'inq_last_6mths', 'mths_since_last_delinq',\n",
       "       'mths_since_last_record', 'open_acc', 'pub_rec', 'revol_util',\n",
       "       'total_acc', 'last_pymnt_d', 'next_pymnt_d', 'last_credit_pull_d',\n",
       "       'collections_12_mths_ex_med', 'mths_since_last_major_derog',\n",
       "       'acc_now_delinq', 'tot_coll_amt', 'tot_cur_bal', 'open_acc_6m',\n",
       "       'open_il_6m', 'open_il_12m', 'open_il_24m', 'mths_since_rcnt_il',\n",
       "       'total_bal_il', 'il_util', 'open_rv_12m', 'open_rv_24m', 'max_bal_bc',\n",
       "       'all_util', 'total_rev_hi_lim', 'inq_fi', 'total_cu_tl',\n",
       "       'inq_last_12m'],\n",
       "      dtype='object')"
      ]
     },
     "execution_count": 28,
     "metadata": {},
     "output_type": "execute_result"
    }
   ],
   "source": [
    "missing[missing['count']>0].index"
   ]
  },
  {
   "cell_type": "code",
   "execution_count": 29,
   "id": "566e5e90-030e-4f62-a5e2-008143e4bd90",
   "metadata": {},
   "outputs": [
    {
     "data": {
      "text/plain": [
       "count    8.868640e+05\n",
       "mean     7.503702e+04\n",
       "std      6.471049e+04\n",
       "min      1.896000e+03\n",
       "25%      4.500000e+04\n",
       "50%      6.500000e+04\n",
       "75%      9.000000e+04\n",
       "max      9.500000e+06\n",
       "Name: annual_inc, dtype: float64"
      ]
     },
     "execution_count": 29,
     "metadata": {},
     "output_type": "execute_result"
    }
   ],
   "source": [
    "X.annual_inc.describe()"
   ]
  },
  {
   "cell_type": "markdown",
   "id": "700003c7-c241-4583-90a3-7ad743922767",
   "metadata": {},
   "source": [
    "We only had a few missing annual incomes. We will simply use the median of the test data (65000) for those"
   ]
  },
  {
   "cell_type": "code",
   "execution_count": 30,
   "id": "b94ad870-68be-4361-abb4-d418868c1e59",
   "metadata": {},
   "outputs": [],
   "source": [
    "X.annual_inc.fillna(65000,inplace=True)\n",
    "X_test.annual_inc.fillna(65000,inplace=True)"
   ]
  },
  {
   "cell_type": "code",
   "execution_count": 31,
   "id": "9991d165-4158-4764-b780-8fcb5aaed940",
   "metadata": {},
   "outputs": [
    {
     "data": {
      "text/plain": [
       "Teacher                                   13453\n",
       "Manager                                   11233\n",
       "Registered Nurse                           5521\n",
       "Owner                                      5375\n",
       "RN                                         5352\n",
       "                                          ...  \n",
       "The Sams Clinic                               1\n",
       "Annalect Group                                1\n",
       "Coast Composites                              1\n",
       "Antelope Valley Union High School Dist        1\n",
       "Manager Hotel Operations Oasis                1\n",
       "Name: emp_title, Length: 299159, dtype: int64"
      ]
     },
     "execution_count": 31,
     "metadata": {},
     "output_type": "execute_result"
    }
   ],
   "source": [
    "X.emp_title.value_counts()"
   ]
  },
  {
   "cell_type": "markdown",
   "id": "5311b64e-1790-45b5-be40-017b5116a636",
   "metadata": {},
   "source": [
    "We will replace missing values of title as 'other'"
   ]
  },
  {
   "cell_type": "code",
   "execution_count": 32,
   "id": "a6fda35b-4dd1-4f29-911b-27848067f276",
   "metadata": {},
   "outputs": [],
   "source": [
    "X.emp_title.fillna('other',inplace=True)\n",
    "X_test.emp_title.fillna('other',inplace=True)"
   ]
  },
  {
   "cell_type": "code",
   "execution_count": 33,
   "id": "02016097-45b9-4a6e-98e2-43f498a15626",
   "metadata": {},
   "outputs": [
    {
     "data": {
      "text/plain": [
       "10+ years    291403\n",
       "2 years       78833\n",
       "< 1 year      70559\n",
       "3 years       69994\n",
       "1 year        57064\n",
       "5 years       55686\n",
       "4 years       52496\n",
       "7 years       44576\n",
       "8 years       43930\n",
       "6 years       42928\n",
       "9 years       34635\n",
       "Name: emp_length, dtype: int64"
      ]
     },
     "execution_count": 33,
     "metadata": {},
     "output_type": "execute_result"
    }
   ],
   "source": [
    "X.emp_length.value_counts()"
   ]
  },
  {
   "cell_type": "code",
   "execution_count": 34,
   "id": "814cadf0-2926-41be-bdea-3866b8dd04cb",
   "metadata": {},
   "outputs": [
    {
     "data": {
      "text/plain": [
       "array(['10+ years', '< 1 year', '1 year', '3 years', '8 years', '9 years',\n",
       "       '4 years', '5 years', '6 years', '2 years', '7 years', nan],\n",
       "      dtype=object)"
      ]
     },
     "execution_count": 34,
     "metadata": {},
     "output_type": "execute_result"
    }
   ],
   "source": [
    "X.emp_length.unique()"
   ]
  },
  {
   "cell_type": "markdown",
   "id": "cf484f75-5cbc-43fc-b283-74b25cceef75",
   "metadata": {},
   "source": [
    "We want to try to find roughly the median employement length. This is only going to be rough because we have categories of < 1 year and 10+ years\n",
    "Roughly half the values are at 6 years or below and half at 7 years and above. For now we will try using 7 years"
   ]
  },
  {
   "cell_type": "code",
   "execution_count": 35,
   "id": "0e8a1e02-b607-478a-bf1d-c3449d11e2a1",
   "metadata": {},
   "outputs": [],
   "source": [
    "X.emp_length.fillna('7 years',inplace=True)\n",
    "X_test.emp_length.fillna('7 years',inplace=True)"
   ]
  },
  {
   "cell_type": "code",
   "execution_count": 36,
   "id": "3fa7dd6d-a99f-4a53-aff2-9bab99094580",
   "metadata": {},
   "outputs": [
    {
     "data": {
      "text/plain": [
       "10+ years    291403\n",
       "7 years       89340\n",
       "2 years       78833\n",
       "< 1 year      70559\n",
       "3 years       69994\n",
       "1 year        57064\n",
       "5 years       55686\n",
       "4 years       52496\n",
       "8 years       43930\n",
       "6 years       42928\n",
       "9 years       34635\n",
       "Name: emp_length, dtype: int64"
      ]
     },
     "execution_count": 36,
     "metadata": {},
     "output_type": "execute_result"
    }
   ],
   "source": [
    "X.emp_length.value_counts()"
   ]
  },
  {
   "cell_type": "code",
   "execution_count": 37,
   "id": "3dd91ac2-5723-4bd4-971d-6d6b455b8a29",
   "metadata": {},
   "outputs": [
    {
     "data": {
      "text/plain": [
       "                                                                                                                                                                                                                                                                                                                                                                       246\n",
       "Debt Consolidation                                                                                                                                                                                                                                                                                                                                                      13\n",
       "  Borrower added on 03/17/14 > Debt consolidation<br>                                                                                                                                                                                                                                                                                                                   11\n",
       "  Borrower added on 03/10/14 > Debt consolidation<br>                                                                                                                                                                                                                                                                                                                   10\n",
       "  Borrower added on 02/19/14 > Debt consolidation<br>                                                                                                                                                                                                                                                                                                                    9\n",
       "                                                                                                                                                                                                                                                                                                                                                                      ... \n",
       "  Borrower added on 09/24/13 > I have a high deductible Health Insurance Plan and would like to pay-off our existing medical debt as well as pay-off two auto loans and some additional unsecured credit. I prefer to have a planed repayment plan with the ability to pay down on the principal balance as cash flow permits.<br>                                       1\n",
       "  Borrower added on 09/24/13 > My son just graduated and is needing a place to live in Washington State I am requesting the money to help him till he gets his first paycheck.<br>                                                                                                                                                                                       1\n",
       "  Borrower added on 09/24/13 > About 10 years ago my credit was a mess.  I borrowed from everyone and had little thought about how I would pay it back as long as I made the minimum payment.  I have a more stable life, job, and general situation now, but still have these reminders from my past.   It is time to retire them.<br>                                  1\n",
       "  Borrower added on 09/24/13 > This loan will be used to consolidate my credit cards in an effort to pay them off sooner than later.<br>                                                                                                                                                                                                                                 1\n",
       "I am in my senior year of college in obtaining a bachelors degree in criminal justice.  I do not qualify for financial aid and have used all stafford loans available.  My tuition is approx. $1200 a month and I have 10 courses left which adds up to over $10,000.  I need some assistance to cover my tuition until my graduation date which is August of 2009.      1\n",
       "Name: desc, Length: 124469, dtype: int64"
      ]
     },
     "execution_count": 37,
     "metadata": {},
     "output_type": "execute_result"
    }
   ],
   "source": [
    "X.desc.value_counts()"
   ]
  },
  {
   "cell_type": "markdown",
   "id": "339fbc3c-3797-4a26-b3d0-34a2b23a5a6b",
   "metadata": {},
   "source": [
    "The description field has many missing values and while debt consolidation appears relatively often for now we will drop this. A potential future thing to do is try to do some natural language processing on this and use some word vectors as features."
   ]
  },
  {
   "cell_type": "code",
   "execution_count": 38,
   "id": "1acd0503-5d57-4e26-876f-2fdb409a4f31",
   "metadata": {},
   "outputs": [],
   "source": [
    "X.drop(columns=['desc'],inplace=True)\n",
    "X_test.drop(columns=['desc'],inplace=True)"
   ]
  },
  {
   "cell_type": "code",
   "execution_count": null,
   "id": "2c64d9d5-d594-4921-9f9a-e48d32904a7b",
   "metadata": {},
   "outputs": [],
   "source": []
  },
  {
   "cell_type": "code",
   "execution_count": 39,
   "id": "fb2e9c34-a570-49f2-9ca6-01bb59db8796",
   "metadata": {},
   "outputs": [
    {
     "data": {
      "text/plain": [
       "0.0     716564\n",
       "1.0     113147\n",
       "2.0      33530\n",
       "3.0      11970\n",
       "4.0       5323\n",
       "5.0       2709\n",
       "6.0       1469\n",
       "7.0        783\n",
       "8.0        461\n",
       "9.0        284\n",
       "10.0       192\n",
       "11.0       121\n",
       "12.0        89\n",
       "13.0        64\n",
       "14.0        45\n",
       "15.0        28\n",
       "16.0        17\n",
       "18.0        11\n",
       "17.0        10\n",
       "19.0         8\n",
       "22.0         3\n",
       "21.0         2\n",
       "26.0         2\n",
       "20.0         2\n",
       "29.0         1\n",
       "24.0         1\n",
       "30.0         1\n",
       "27.0         1\n",
       "39.0         1\n",
       "Name: delinq_2yrs, dtype: int64"
      ]
     },
     "execution_count": 39,
     "metadata": {},
     "output_type": "execute_result"
    }
   ],
   "source": [
    "X.delinq_2yrs.value_counts()"
   ]
  },
  {
   "cell_type": "code",
   "execution_count": 40,
   "id": "13a2c433-161b-465d-a909-86601c9c8ef0",
   "metadata": {},
   "outputs": [],
   "source": [
    "#We will replace missing values with 0 assuming that no entry means no delinquencies in the last 2 years\n",
    "X.delinq_2yrs.fillna(0,inplace=True)\n",
    "X_test.delinq_2yrs.fillna(0,inplace=True)"
   ]
  },
  {
   "cell_type": "code",
   "execution_count": 41,
   "id": "9067349a-f7aa-4faa-a818-5bd7630659d0",
   "metadata": {},
   "outputs": [
    {
     "data": {
      "text/plain": [
       "Aug-2001    6656\n",
       "Aug-2000    6522\n",
       "Oct-2000    6320\n",
       "Oct-2001    6150\n",
       "Aug-2002    6080\n",
       "            ... \n",
       "Jun-1949       1\n",
       "Oct-1950       1\n",
       "Jan-1948       1\n",
       "Jul-1961       1\n",
       "Apr-1958       1\n",
       "Name: earliest_cr_line, Length: 696, dtype: int64"
      ]
     },
     "execution_count": 41,
     "metadata": {},
     "output_type": "execute_result"
    }
   ],
   "source": [
    "X.earliest_cr_line.value_counts()"
   ]
  },
  {
   "cell_type": "code",
   "execution_count": 42,
   "id": "72f6e304-9348-4444-8777-576bebd2fd0d",
   "metadata": {},
   "outputs": [
    {
     "data": {
      "text/plain": [
       "array(['Jan-1985', 'Apr-1999', 'Nov-2001', 'Feb-1996', 'Jan-1996',\n",
       "       'Nov-2004', 'Jul-2005', 'Jan-2007', 'Apr-2004', 'Sep-2004',\n",
       "       'Jan-1998', 'Oct-1989', 'Jul-2003', 'May-1991', 'Sep-2007',\n",
       "       'Oct-1998', 'Aug-1993', 'Oct-2003', 'Jan-2001', 'Nov-1997',\n",
       "       'Feb-1983', 'Jul-1985', 'Apr-2003', 'Jun-2001', 'Feb-2002',\n",
       "       'Aug-1984', 'Nov-2006', 'Dec-1987', 'Nov-1981', 'Feb-1997',\n",
       "       'Apr-2005', 'Oct-2007', 'Dec-2000', 'Apr-2007', 'Dec-2001',\n",
       "       'Jan-2003', 'Mar-1994', 'Sep-1998', 'Jun-2004', 'Nov-1995',\n",
       "       'Jul-1999', 'Jun-1995', 'Sep-1992', 'Jan-2002', 'Apr-1992',\n",
       "       'Oct-2006', 'May-2000', 'Dec-1998', 'Dec-2004', 'Oct-2000',\n",
       "       'May-2002', 'May-2006', 'Jul-2002', 'Jul-2006', 'May-1997',\n",
       "       'Oct-2005', 'Apr-1995', 'Oct-2002', 'Jan-2000', 'Apr-2000',\n",
       "       'Dec-1994', 'Sep-2005', 'Dec-1984', 'Dec-1999', 'Nov-2003',\n",
       "       'Jun-1989', 'Jun-2003', 'Oct-1996', 'May-2003', 'Jun-2002',\n",
       "       'Jun-2007', 'Dec-1996', 'Feb-1984', 'Sep-2002', 'Jan-1986',\n",
       "       'May-1998', 'Jan-1997', 'Jun-2005', 'Feb-1990', 'Mar-2004',\n",
       "       'Jul-1995', 'Aug-1994', 'Jun-1992', 'Mar-1997', 'Apr-2006',\n",
       "       'Apr-1990', 'Aug-1999', 'Sep-2000', 'Feb-2001', 'Dec-1988',\n",
       "       'Feb-1999', 'Dec-1991', 'Aug-2000', 'Oct-2004', 'Aug-2004',\n",
       "       'Feb-2005', 'Nov-2005', 'Nov-2000', 'May-2007', 'Jan-1991',\n",
       "       'Jun-2000', 'Aug-2006', 'Dec-2002', 'Jun-1993', 'Jun-2006',\n",
       "       'Feb-2004', 'Dec-1990', 'Mar-2000', 'Feb-1995', 'Jul-2001',\n",
       "       'Apr-2002', 'Sep-2006', 'May-1999', 'Aug-1998', 'Dec-2005',\n",
       "       'May-2004', 'Oct-2001', 'Jun-1983', 'Mar-1986', 'Apr-1980',\n",
       "       'Jul-2004', 'Jul-2008', 'May-1996', 'Jan-2004', 'Nov-2002',\n",
       "       'Aug-2002', 'Aug-2001', 'Mar-1991', 'Sep-1989', 'Sep-1994',\n",
       "       'Sep-2003', 'Sep-1999', 'Aug-2005', 'Dec-1986', 'Nov-1998',\n",
       "       'Feb-2006', 'May-1994', 'Nov-2007', 'Feb-1993', 'Nov-1991',\n",
       "       'May-2005', 'Dec-1973', 'May-2001', 'Mar-1990', 'Mar-1996',\n",
       "       'Oct-1979', 'Jun-1981', 'Mar-2001', 'Apr-2001', 'Jun-1999',\n",
       "       'Nov-1993', 'Jan-2006', 'Dec-1997', 'Nov-1994', 'Jul-1997',\n",
       "       'Oct-1991', 'Jun-1994', 'Mar-2006', 'Sep-1996', 'Apr-1991',\n",
       "       'Jul-1993', 'Jan-1995', 'Sep-1987', 'Mar-2003', 'Oct-1999',\n",
       "       'Jul-1996', 'Dec-2003', 'Aug-1988', 'Jan-1992', 'Mar-1998',\n",
       "       'Feb-2007', 'Aug-1982', 'Mar-1995', 'Dec-1992', 'Jul-1998',\n",
       "       'Jul-1989', 'May-1990', 'Jul-1994', 'Sep-2001', 'Mar-1984',\n",
       "       'Aug-2003', 'Nov-1999', 'Mar-2007', 'Mar-2008', 'Apr-1994',\n",
       "       'Jan-2005', 'Jul-1986', 'Aug-1990', 'May-1992', 'Jul-2000',\n",
       "       'Mar-1988', 'May-1983', 'Apr-1993', 'Jul-1978', 'Feb-2000',\n",
       "       'Dec-1981', 'Mar-1992', 'Jan-1981', 'Sep-1990', 'Jun-1998',\n",
       "       'May-1993', 'Nov-1996', 'Mar-2002', 'Jan-1988', 'Aug-1997',\n",
       "       'Aug-1987', 'Aug-2008', 'Oct-1994', 'Oct-1986', 'Feb-1994',\n",
       "       'Jun-1996', 'Feb-1998', 'Nov-2008', 'Apr-1998', 'Jul-1979',\n",
       "       'Jan-1993', 'May-1987', 'Jul-1971', 'Aug-2007', 'Jun-1997',\n",
       "       'Mar-1980', 'Dec-2006', 'Jul-2007', 'Oct-1995', 'Jul-1991',\n",
       "       'Jul-1992', 'Dec-1972', 'Dec-1993', 'Jan-1999', 'Feb-2003',\n",
       "       'Apr-1997', 'Dec-1995', 'Apr-1996', 'Jul-1990', 'Mar-1970',\n",
       "       'Nov-1984', 'Apr-1984', 'Jul-1984', 'Aug-1995', 'Mar-1999',\n",
       "       'Sep-1988', 'Mar-1989', 'Mar-1987', 'Oct-1997', 'Dec-1980',\n",
       "       'Jan-1994', 'Sep-1995', 'Mar-2005', 'Jan-1989', 'Feb-1992',\n",
       "       'Jan-1990', 'Nov-1990', 'Mar-1969', 'Jun-1975', 'Mar-1985',\n",
       "       'Dec-2007', 'Oct-1993', 'Dec-1989', 'Sep-1980', 'Jun-1988',\n",
       "       'May-1978', 'Apr-1973', 'Aug-1989', 'Oct-1990', 'Sep-1991',\n",
       "       'Feb-1982', 'Feb-1987', 'Nov-1985', 'Jan-1984', 'Jul-1988',\n",
       "       'May-2008', 'Oct-1985', 'Mar-1983', 'Aug-1991', 'Sep-1986',\n",
       "       'Jun-1990', 'Feb-1986', 'Sep-1997', 'Jun-1984', 'Sep-1981',\n",
       "       'Apr-1986', 'Aug-1979', 'Aug-1980', 'Nov-1992', 'Sep-1993',\n",
       "       'Jun-1987', 'Sep-1982', 'Aug-1992', 'Aug-1985', 'Jul-1983',\n",
       "       'Jun-1991', 'Dec-1983', 'Jan-1987', 'Nov-1978', 'Oct-1984',\n",
       "       'Aug-1996', 'Nov-1989', 'Sep-1976', 'Nov-1986', 'Oct-1987',\n",
       "       'Sep-2008', 'May-1977', 'May-1986', 'Mar-1981', 'Jan-1983',\n",
       "       'Nov-1976', 'Sep-1979', 'Oct-1983', 'Sep-1962', 'Jun-1985',\n",
       "       'May-1982', 'Feb-1988', 'Oct-1992', 'Aug-1983', 'Jun-1973',\n",
       "       'Apr-1985', 'Oct-1988', 'Oct-1981', 'Sep-1968', 'Jul-1974',\n",
       "       'Nov-1987', 'May-1995', 'Feb-1991', 'Nov-1988', 'Mar-1993',\n",
       "       'Jun-2008', 'Jul-1980', 'Dec-1982', 'Mar-1975', 'Feb-1980',\n",
       "       'Apr-1988', 'Dec-1979', 'Sep-1985', 'Sep-1971', 'Mar-1978',\n",
       "       'Feb-2008', 'Aug-1978', 'Nov-1970', 'Jun-1979', 'Jun-1980',\n",
       "       'Apr-1989', 'Sep-1983', 'Feb-1989', 'Nov-1983', 'Jun-1986',\n",
       "       'Oct-1982', 'Aug-1986', 'Oct-1980', 'May-1988', 'Dec-1985',\n",
       "       'Jan-1982', 'Sep-1977', 'Dec-1976', 'Apr-1982', 'May-1984',\n",
       "       'Apr-2008', 'Feb-1979', 'Jan-2008', 'Sep-1964', 'Jul-1987',\n",
       "       'Jan-1978', 'May-1989', 'Oct-1977', 'Dec-1975', 'Feb-1985',\n",
       "       'Oct-2008', 'Nov-1982', 'May-1975', 'May-1985', 'Feb-1971',\n",
       "       'Jun-1977', 'Apr-1981', 'May-1979', 'Jan-1972', 'Sep-1967',\n",
       "       'Apr-1978', 'Feb-1965', 'Apr-1983', 'Nov-1975', 'Jun-1967',\n",
       "       'Mar-1974', 'Jul-1972', 'Aug-1967', 'Apr-1971', 'Sep-1984',\n",
       "       'May-1981', 'Dec-1970', 'Oct-1973', 'Jan-1971', 'Dec-1963',\n",
       "       'Apr-1974', 'Jan-1980', 'Aug-1969', 'Apr-1975', 'Jul-1977',\n",
       "       'Mar-1977', 'Nov-1969', 'Jan-1976', 'Mar-1982', 'Apr-1987',\n",
       "       'Dec-1969', 'May-1974', 'Aug-1974', 'Jun-1972', 'Mar-1963',\n",
       "       'Nov-1979', 'Aug-1975', 'Sep-1974', 'Aug-1981', 'May-1973',\n",
       "       'Sep-1973', 'Mar-1973', 'Dec-1977', 'Oct-1976', 'Jan-1974',\n",
       "       'Jan-1970', 'Aug-1968', 'Feb-1976', 'Jan-1975', 'Oct-1972',\n",
       "       'Dec-1974', 'Feb-1973', 'Nov-1965', 'Mar-1972', 'Jun-1982',\n",
       "       'Jun-1974', 'May-1965', 'Jun-1971', 'Oct-1970', 'Apr-1976',\n",
       "       'Oct-1971', 'Apr-1977', 'Sep-1978', 'Oct-1978', 'Oct-1954',\n",
       "       'Feb-1981', 'Jan-1977', 'Aug-1977', 'Dec-1978', 'Aug-1976',\n",
       "       'Jun-1968', 'Jun-1978', 'Jun-1969', 'May-1980', 'Jan-1979',\n",
       "       'Oct-1965', 'Nov-1974', 'Apr-1966', 'Jun-1976', 'Feb-1972',\n",
       "       'May-1976', 'Mar-1968', 'Mar-1976', 'Jul-1970', 'Mar-1979',\n",
       "       'Jul-1976', 'Jul-1982', 'Sep-1965', 'Apr-1967', 'Oct-1963',\n",
       "       'Feb-1970', 'Jul-1973', 'Feb-1978', 'Nov-1971', 'Aug-1972',\n",
       "       'Jul-1975', 'Sep-1970', 'Jul-1981', 'Oct-1964', 'Sep-1972',\n",
       "       'May-1970', 'May-1963', 'Feb-1969', 'Nov-1980', 'Jul-1967',\n",
       "       'Apr-1970', 'Nov-1977', 'Nov-1966', 'May-1971', 'Apr-1979',\n",
       "       'May-1972', 'Feb-1968', 'Jul-1964', 'Nov-1967', 'Apr-1964',\n",
       "       'Feb-1975', 'Jun-1959', 'Sep-1956', 'Jun-1966', 'Jan-1946',\n",
       "       'Mar-1966', 'Jan-1963', 'Dec-1950', 'Jul-1969', 'Jan-1968',\n",
       "       'Nov-1973', 'Jun-1970', 'Feb-1977', 'Feb-1974', 'Jan-1973',\n",
       "       'Feb-1966', 'Dec-1961', 'Aug-1973', 'Aug-1970', 'Sep-1969',\n",
       "       'Sep-1975', 'Dec-1968', 'Nov-1954', 'Oct-1969', 'Dec-1965',\n",
       "       'Apr-1972', 'Nov-1972', 'Sep-1963', 'Apr-1969', 'Nov-1962',\n",
       "       'Oct-1967', 'May-1967', 'Nov-1961', 'Feb-1967', 'Nov-1968',\n",
       "       'Oct-1975', 'Mar-1971', 'Aug-1971', 'Dec-1966', 'Oct-1968',\n",
       "       'Oct-1974', 'Nov-1963', 'Apr-1968', 'May-1969', 'Nov-1959', nan,\n",
       "       'Oct-2010', 'Dec-2009', 'Nov-2010', 'Jan-2010', 'Dec-2008',\n",
       "       'Sep-2009', 'Jul-2010', 'Jan-2009', 'May-2009', 'May-2010',\n",
       "       'Sep-2010', 'Apr-2009', 'Nov-2009', 'Apr-2010', 'Mar-2009',\n",
       "       'Feb-2009', 'Aug-2009', 'Oct-2009', 'Jun-2009', 'Jun-2010',\n",
       "       'Jul-2009', 'Feb-2010', 'Mar-2010', 'Aug-2010', 'Jan-1961',\n",
       "       'Oct-1962', 'Jun-1964', 'Apr-1962', 'Jan-1960', 'Sep-1966',\n",
       "       'Mar-1965', 'May-1968', 'Jul-1966', 'Dec-1956', 'Dec-1971',\n",
       "       'Apr-1965', 'Jan-1964', 'Jul-1965', 'Jan-1965', 'Jan-1962',\n",
       "       'Aug-1964', 'Jan-1969', 'Oct-1966', 'Jun-1962', 'Dec-1967',\n",
       "       'Oct-1960', 'Jul-1962', 'Dec-1960', 'Jul-1960', 'Jun-1965',\n",
       "       'May-1966', 'Oct-1957', 'Aug-1965', 'May-1960', 'Jan-1967',\n",
       "       'Nov-1953', 'Oct-1959', 'Jun-1963', 'Mar-1967', 'Jul-1963',\n",
       "       'Nov-1960', 'Mar-1962', 'Mar-1964', 'Jul-1968', 'Feb-1963',\n",
       "       'Jan-1966', 'Dec-1964', 'May-1964', 'Oct-1961', 'Aug-1960',\n",
       "       'Mar-1960', 'Apr-1955', 'Sep-1959', 'Aug-1966', 'Jul-1955',\n",
       "       'Aug-1961', 'Nov-1964', 'May-1953', 'Nov-1950', 'Nov-1955',\n",
       "       'Mar-1961', 'Feb-1957', 'Aug-1963', 'Feb-1960', 'Sep-1960',\n",
       "       'Feb-1964', 'Dec-1951', 'Nov-1958', 'Aug-1962', 'Oct-1958',\n",
       "       'May-1962', 'Mar-2011', 'Jun-2011', 'Dec-2010', 'Oct-2011',\n",
       "       'Sep-2011', 'Jul-2011', 'Apr-2011', 'May-2011', 'Jan-2011',\n",
       "       'Feb-2011', 'Aug-2011', 'Apr-1963', 'Nov-2011', 'Dec-1958',\n",
       "       'Jan-1958', 'Jul-1959', 'Jan-1955', 'May-1959', 'Aug-1946',\n",
       "       'Apr-1961', 'Jun-1958', 'Jul-1958', 'Jun-1960', 'Jan-1951',\n",
       "       'Dec-1962', 'Mar-1959', 'Aug-1958', 'Jan-1959', 'Feb-1961',\n",
       "       'Sep-1957', 'Jun-1949', 'Jun-1961', 'Jan-1956', 'Jan-1954',\n",
       "       'Jan-1957', 'Jan-1944', 'Oct-1950', 'Jan-1948', 'Jul-1961',\n",
       "       'May-1958', 'Jan-1953', 'May-1950', 'Nov-1956', 'Feb-2012',\n",
       "       'May-2012', 'Mar-2012', 'Dec-2011', 'Apr-2012', 'Nov-2012',\n",
       "       'Jul-2012', 'Aug-2012', 'Jun-2012', 'Oct-2012', 'Jan-2012',\n",
       "       'Sep-2012', 'Feb-1959', 'Jan-1950', 'Sep-1961', 'Jun-1955',\n",
       "       'Sep-1953', 'Aug-1959', 'Mar-1958', 'Dec-1959', 'Apr-1960',\n",
       "       'Nov-1957', 'May-1955', 'Aug-1951', 'Jun-1957', 'May-1957',\n",
       "       'Jan-1952', 'Mar-1955', 'Jul-1951', 'Aug-1950', 'Aug-1955',\n",
       "       'Apr-1958'], dtype=object)"
      ]
     },
     "execution_count": 42,
     "metadata": {},
     "output_type": "execute_result"
    }
   ],
   "source": [
    "X.earliest_cr_line.unique()"
   ]
  },
  {
   "cell_type": "code",
   "execution_count": 43,
   "id": "8509620e-9061-4fe2-824a-042ebab19ec2",
   "metadata": {},
   "outputs": [],
   "source": [
    "#We import the datetime package so we can convert these to datetime objects so we can analyze them\n",
    "import datetime\n",
    "X.earliest_cr_line=pd.to_datetime(X.earliest_cr_line)\n",
    "X_test.earliest_cr_line=pd.to_datetime(X_test.earliest_cr_line)"
   ]
  },
  {
   "cell_type": "code",
   "execution_count": 44,
   "id": "be713602-665d-4143-a962-693fe5b11b71",
   "metadata": {},
   "outputs": [
    {
     "data": {
      "text/plain": [
       "Timestamp('1999-09-01 00:00:00')"
      ]
     },
     "execution_count": 44,
     "metadata": {},
     "output_type": "execute_result"
    }
   ],
   "source": [
    "X.earliest_cr_line.describe(datetime_is_numeric=True)['50%']"
   ]
  },
  {
   "cell_type": "code",
   "execution_count": 45,
   "id": "2f72c5eb-f8c7-419c-bd5f-583e92c4121c",
   "metadata": {},
   "outputs": [
    {
     "data": {
      "text/plain": [
       "29"
      ]
     },
     "execution_count": 45,
     "metadata": {},
     "output_type": "execute_result"
    }
   ],
   "source": [
    "X.earliest_cr_line.isna().sum()"
   ]
  },
  {
   "cell_type": "code",
   "execution_count": 46,
   "id": "b4269de5-e344-4817-95b6-29d60e64691e",
   "metadata": {},
   "outputs": [],
   "source": [
    "#Replacing earliest credit line in those instances with the median earliest credit line\n",
    "X.earliest_cr_line.fillna(X.earliest_cr_line.describe(datetime_is_numeric=True)['50%'],inplace=True)\n",
    "X_test.earliest_cr_line.fillna(X.earliest_cr_line.describe(datetime_is_numeric=True)['50%'],inplace=True)"
   ]
  },
  {
   "cell_type": "code",
   "execution_count": 47,
   "id": "ce0fc9eb-d66b-429a-9820-3a72bee0bea7",
   "metadata": {},
   "outputs": [
    {
     "data": {
      "text/plain": [
       "0.0     497619\n",
       "1.0     241336\n",
       "2.0      94066\n",
       "3.0      37387\n",
       "4.0      10753\n",
       "5.0       3985\n",
       "6.0       1231\n",
       "7.0        195\n",
       "8.0        122\n",
       "9.0         50\n",
       "10.0        24\n",
       "11.0        15\n",
       "12.0        15\n",
       "15.0         9\n",
       "13.0         6\n",
       "14.0         6\n",
       "18.0         4\n",
       "16.0         3\n",
       "17.0         2\n",
       "24.0         2\n",
       "19.0         2\n",
       "32.0         1\n",
       "33.0         1\n",
       "31.0         1\n",
       "28.0         1\n",
       "25.0         1\n",
       "27.0         1\n",
       "20.0         1\n",
       "Name: inq_last_6mths, dtype: int64"
      ]
     },
     "execution_count": 47,
     "metadata": {},
     "output_type": "execute_result"
    }
   ],
   "source": [
    "X.inq_last_6mths.value_counts()"
   ]
  },
  {
   "cell_type": "code",
   "execution_count": 48,
   "id": "0c722b4d-3bc4-469b-b222-4b4661b2c2f2",
   "metadata": {},
   "outputs": [],
   "source": [
    "#As we did with inquiries with last 12 monts we replace missing values with zero\n",
    "X.inq_last_6mths.fillna(0,inplace=True)\n",
    "X_test.inq_last_6mths.fillna(0,inplace=True)"
   ]
  },
  {
   "cell_type": "code",
   "execution_count": 49,
   "id": "dd325f5c-b2a9-4b14-96a3-ba087facb6ed",
   "metadata": {},
   "outputs": [
    {
     "data": {
      "text/plain": [
       "9.0      8586\n",
       "6.0      8465\n",
       "12.0     8366\n",
       "8.0      8326\n",
       "13.0     8312\n",
       "         ... \n",
       "180.0       1\n",
       "136.0       1\n",
       "124.0       1\n",
       "143.0       1\n",
       "137.0       1\n",
       "Name: mths_since_last_delinq, Length: 155, dtype: int64"
      ]
     },
     "execution_count": 49,
     "metadata": {},
     "output_type": "execute_result"
    }
   ],
   "source": [
    "X.mths_since_last_delinq.value_counts()"
   ]
  },
  {
   "cell_type": "code",
   "execution_count": 50,
   "id": "f921460c-996c-496d-892e-d029d7f6e112",
   "metadata": {},
   "outputs": [],
   "source": [
    "#We will replace missing values with infinity assuming this means they've never had one"
   ]
  },
  {
   "cell_type": "code",
   "execution_count": 51,
   "id": "1bb0ec83-0c5e-47f2-8d3e-a15d6d0c2030",
   "metadata": {},
   "outputs": [],
   "source": [
    "X.mths_since_last_delinq.fillna(np.inf,inplace=True)\n",
    "X_test.mths_since_last_delinq.fillna(np.inf,inplace=True)"
   ]
  },
  {
   "cell_type": "code",
   "execution_count": 52,
   "id": "0f6c8d99-ea82-4656-a89e-a36e00ffe05e",
   "metadata": {},
   "outputs": [
    {
     "data": {
      "text/plain": [
       "61.0     1960\n",
       "62.0     1919\n",
       "71.0     1916\n",
       "67.0     1913\n",
       "69.0     1910\n",
       "         ... \n",
       "1.0        71\n",
       "2.0        63\n",
       "120.0       9\n",
       "121.0       2\n",
       "129.0       1\n",
       "Name: mths_since_last_record, Length: 123, dtype: int64"
      ]
     },
     "execution_count": 52,
     "metadata": {},
     "output_type": "execute_result"
    }
   ],
   "source": [
    "X.mths_since_last_record.value_counts()"
   ]
  },
  {
   "cell_type": "code",
   "execution_count": 53,
   "id": "e6eaa39c-2b78-4695-9e37-b0586cb3a3f8",
   "metadata": {},
   "outputs": [
    {
     "data": {
      "text/plain": [
       "count    136937.000000\n",
       "mean         70.116375\n",
       "std          28.132227\n",
       "min           0.000000\n",
       "25%          51.000000\n",
       "50%          70.000000\n",
       "75%          92.000000\n",
       "max         129.000000\n",
       "Name: mths_since_last_record, dtype: float64"
      ]
     },
     "execution_count": 53,
     "metadata": {},
     "output_type": "execute_result"
    }
   ],
   "source": [
    "X.mths_since_last_record.describe()"
   ]
  },
  {
   "cell_type": "code",
   "execution_count": 54,
   "id": "f1ba5276-e153-4a59-839b-05694cbfeb73",
   "metadata": {},
   "outputs": [],
   "source": [
    "#We will replace this with the median 70 \n",
    "X.mths_since_last_record.fillna(70,inplace=True)\n",
    "X_test.mths_since_last_record.fillna(70,inplace=True)"
   ]
  },
  {
   "cell_type": "code",
   "execution_count": 55,
   "id": "ea1c9694-5646-4040-887d-54728c0d3015",
   "metadata": {},
   "outputs": [],
   "source": [
    "#For months since last derogatory record will replace missing values with infinity on the assumption this means there was no derogatory record\n",
    "X.mths_since_last_major_derog.fillna(np.inf,inplace=True)\n",
    "X.mths_since_last_major_derog.fillna(np.inf,inplace=True)"
   ]
  },
  {
   "cell_type": "code",
   "execution_count": 56,
   "id": "82aac4f9-f890-4ad5-95f3-b482496738c5",
   "metadata": {},
   "outputs": [
    {
     "data": {
      "text/plain": [
       "9.0     80237\n",
       "10.0    78275\n",
       "8.0     76523\n",
       "11.0    72228\n",
       "7.0     67842\n",
       "        ...  \n",
       "57.0        1\n",
       "67.0        1\n",
       "65.0        1\n",
       "75.0        1\n",
       "90.0        1\n",
       "Name: open_acc, Length: 77, dtype: int64"
      ]
     },
     "execution_count": 56,
     "metadata": {},
     "output_type": "execute_result"
    }
   ],
   "source": [
    "X.open_acc.value_counts()"
   ]
  },
  {
   "cell_type": "code",
   "execution_count": 57,
   "id": "7ec88db9-e206-482e-b723-c2ee8e49ddc6",
   "metadata": {},
   "outputs": [
    {
     "data": {
      "text/plain": [
       "count    886839.000000\n",
       "mean         11.548715\n",
       "std           5.317242\n",
       "min           0.000000\n",
       "25%           8.000000\n",
       "50%          11.000000\n",
       "75%          14.000000\n",
       "max          90.000000\n",
       "Name: open_acc, dtype: float64"
      ]
     },
     "execution_count": 57,
     "metadata": {},
     "output_type": "execute_result"
    }
   ],
   "source": [
    "X.open_acc.describe()"
   ]
  },
  {
   "cell_type": "code",
   "execution_count": 58,
   "id": "f5bdfdd0-0cb2-4d21-a046-37470da701f3",
   "metadata": {},
   "outputs": [],
   "source": [
    "#We will use the median 8 for missing values\n",
    "X.open_acc.fillna(8,inplace=True)\n",
    "X_test.open_acc.fillna(8,inplace=True)"
   ]
  },
  {
   "cell_type": "code",
   "execution_count": 59,
   "id": "075cc66d-561b-4faa-84b7-0c97db7effb4",
   "metadata": {},
   "outputs": [
    {
     "data": {
      "text/plain": [
       "0.0     751177\n",
       "1.0     113176\n",
       "2.0      14834\n",
       "3.0       4484\n",
       "4.0       1561\n",
       "5.0        757\n",
       "6.0        385\n",
       "7.0        170\n",
       "8.0        113\n",
       "9.0         50\n",
       "10.0        42\n",
       "11.0        23\n",
       "12.0        16\n",
       "13.0        12\n",
       "15.0         6\n",
       "18.0         5\n",
       "16.0         5\n",
       "21.0         4\n",
       "17.0         3\n",
       "19.0         2\n",
       "14.0         2\n",
       "49.0         2\n",
       "40.0         1\n",
       "63.0         1\n",
       "54.0         1\n",
       "34.0         1\n",
       "23.0         1\n",
       "26.0         1\n",
       "28.0         1\n",
       "20.0         1\n",
       "86.0         1\n",
       "22.0         1\n",
       "Name: pub_rec, dtype: int64"
      ]
     },
     "execution_count": 59,
     "metadata": {},
     "output_type": "execute_result"
    }
   ],
   "source": [
    "X.pub_rec.value_counts()"
   ]
  },
  {
   "cell_type": "code",
   "execution_count": 60,
   "id": "5b63385f-6e94-44ed-89e2-ff395b355d02",
   "metadata": {},
   "outputs": [],
   "source": [
    "#Replacing missing values of public derogatory records with 0\n",
    "X.pub_rec.fillna(0,inplace=True)\n",
    "X_test.pub_rec.fillna(0,inplace=True)"
   ]
  },
  {
   "cell_type": "code",
   "execution_count": 61,
   "id": "dea1e357-641e-4328-b955-b81791a5eafd",
   "metadata": {},
   "outputs": [
    {
     "data": {
      "text/plain": [
       "0.00      3540\n",
       "58.00     1778\n",
       "53.00     1765\n",
       "59.00     1762\n",
       "61.00     1756\n",
       "          ... \n",
       "32.71        1\n",
       "0.86         1\n",
       "0.03         1\n",
       "0.16         1\n",
       "184.60       1\n",
       "Name: revol_util, Length: 1356, dtype: int64"
      ]
     },
     "execution_count": 61,
     "metadata": {},
     "output_type": "execute_result"
    }
   ],
   "source": [
    "X.revol_util.value_counts()"
   ]
  },
  {
   "cell_type": "code",
   "execution_count": 62,
   "id": "002cc842-ccf5-4951-922e-599d6914dfec",
   "metadata": {},
   "outputs": [
    {
     "data": {
      "text/plain": [
       "count    886366.000000\n",
       "mean         55.063147\n",
       "std          23.834616\n",
       "min           0.000000\n",
       "25%          37.700000\n",
       "50%          56.000000\n",
       "75%          73.600000\n",
       "max         892.300000\n",
       "Name: revol_util, dtype: float64"
      ]
     },
     "execution_count": 62,
     "metadata": {},
     "output_type": "execute_result"
    }
   ],
   "source": [
    "X.revol_util.describe()"
   ]
  },
  {
   "cell_type": "code",
   "execution_count": 63,
   "id": "f04aac20-b5e0-4c71-a260-02e95c8c6fbe",
   "metadata": {},
   "outputs": [],
   "source": [
    "#replacing missing values for this field with the median 56\n",
    "X.revol_util.fillna(56,inplace=True)\n",
    "X_test.revol_util.fillna(56,inplace=True)"
   ]
  },
  {
   "cell_type": "code",
   "execution_count": 64,
   "id": "2f064f0b-433f-4ee1-afe8-cfec6a0ee9ca",
   "metadata": {},
   "outputs": [
    {
     "data": {
      "text/plain": [
       "22.0     32237\n",
       "20.0     32094\n",
       "21.0     31987\n",
       "19.0     31557\n",
       "23.0     31296\n",
       "         ...  \n",
       "121.0        1\n",
       "119.0        1\n",
       "156.0        1\n",
       "150.0        1\n",
       "108.0        1\n",
       "Name: total_acc, Length: 135, dtype: int64"
      ]
     },
     "execution_count": 64,
     "metadata": {},
     "output_type": "execute_result"
    }
   ],
   "source": [
    "X.total_acc.value_counts()"
   ]
  },
  {
   "cell_type": "code",
   "execution_count": 65,
   "id": "6ba23dba-fdf0-48b9-a014-0ad205c90b82",
   "metadata": {},
   "outputs": [
    {
     "data": {
      "text/plain": [
       "count    886839.000000\n",
       "mean         25.268133\n",
       "std          11.840410\n",
       "min           1.000000\n",
       "25%          17.000000\n",
       "50%          24.000000\n",
       "75%          32.000000\n",
       "max         169.000000\n",
       "Name: total_acc, dtype: float64"
      ]
     },
     "execution_count": 65,
     "metadata": {},
     "output_type": "execute_result"
    }
   ],
   "source": [
    "X.total_acc.describe()"
   ]
  },
  {
   "cell_type": "code",
   "execution_count": 66,
   "id": "5d784d24-7ee0-40ae-87e8-1bdac165b869",
   "metadata": {},
   "outputs": [],
   "source": [
    "#replace missing values here with the median, 24\n",
    "X.total_acc.fillna(24,inplace=True)\n",
    "X_test.total_acc.fillna(24,inplace=True)"
   ]
  },
  {
   "cell_type": "code",
   "execution_count": 67,
   "id": "001c21b6-737f-4ef0-b101-2a843bca402b",
   "metadata": {},
   "outputs": [
    {
     "data": {
      "text/plain": [
       "array(['Jan-2015', 'Apr-2013', 'Jun-2014', 'Jan-2016', 'Apr-2012',\n",
       "       'Nov-2012', 'Jun-2013', 'Sep-2013', 'Jul-2012', 'Oct-2013',\n",
       "       'May-2013', 'Feb-2015', 'Aug-2015', 'Oct-2012', 'Sep-2012', nan,\n",
       "       'Dec-2012', 'Dec-2014', 'Aug-2013', 'Nov-2013', 'Jan-2014',\n",
       "       'Apr-2014', 'Aug-2014', 'Oct-2014', 'Aug-2012', 'Jul-2014',\n",
       "       'Jul-2013', 'Apr-2015', 'Feb-2014', 'Sep-2014', 'Jun-2012',\n",
       "       'Feb-2013', 'Mar-2013', 'May-2014', 'Mar-2015', 'Jan-2013',\n",
       "       'Dec-2013', 'Feb-2012', 'Mar-2014', 'Sep-2015', 'Nov-2015',\n",
       "       'Dec-2015', 'Jan-2012', 'Oct-2015', 'Nov-2014', 'Mar-2012',\n",
       "       'May-2012', 'Jun-2015', 'May-2015', 'Jul-2015', 'Dec-2011',\n",
       "       'Nov-2011', 'Oct-2011', 'Sep-2011', 'Aug-2011', 'Jul-2011',\n",
       "       'Jun-2011', 'May-2011', 'Apr-2011', 'Mar-2011', 'Feb-2011',\n",
       "       'Jan-2011', 'Dec-2010', 'Nov-2010', 'Oct-2010', 'Sep-2010',\n",
       "       'Aug-2010', 'Jul-2010', 'Jun-2010', 'May-2010', 'Apr-2010',\n",
       "       'Mar-2010', 'Feb-2010', 'Jan-2010', 'Dec-2009', 'Nov-2009',\n",
       "       'Oct-2009', 'Sep-2009', 'Aug-2009', 'Jul-2009', 'Jun-2009',\n",
       "       'May-2009', 'Apr-2009', 'Mar-2009', 'Feb-2009', 'Jan-2009',\n",
       "       'Dec-2008', 'Oct-2008', 'Aug-2008', 'Jul-2008', 'Sep-2008',\n",
       "       'Jun-2008', 'May-2008', 'Nov-2008', 'Apr-2008', 'Mar-2008',\n",
       "       'Feb-2008', 'Jan-2008', 'Dec-2007'], dtype=object)"
      ]
     },
     "execution_count": 67,
     "metadata": {},
     "output_type": "execute_result"
    }
   ],
   "source": [
    "X.last_pymnt_d.unique()"
   ]
  },
  {
   "cell_type": "code",
   "execution_count": 68,
   "id": "8e08fe1e-1405-4fd9-afe1-35a0250061cd",
   "metadata": {},
   "outputs": [],
   "source": [
    "#Convert these dates to datetime objects to better understand them\n",
    "X.last_pymnt_d=pd.to_datetime(X.last_pymnt_d)\n",
    "X_test.last_pymnt_d=pd.to_datetime(X_test.last_pymnt_d)"
   ]
  },
  {
   "cell_type": "code",
   "execution_count": 69,
   "id": "f3158a10-ac49-44b5-81a2-965a79c66d40",
   "metadata": {},
   "outputs": [
    {
     "data": {
      "text/plain": [
       "count                           869347\n",
       "mean     2015-08-11 06:38:31.221641472\n",
       "min                2007-12-01 00:00:00\n",
       "25%                2015-09-01 00:00:00\n",
       "50%                2016-01-01 00:00:00\n",
       "75%                2016-01-01 00:00:00\n",
       "max                2016-01-01 00:00:00\n",
       "Name: last_pymnt_d, dtype: object"
      ]
     },
     "execution_count": 69,
     "metadata": {},
     "output_type": "execute_result"
    }
   ],
   "source": [
    "X.last_pymnt_d.describe(datetime_is_numeric=True)"
   ]
  },
  {
   "cell_type": "code",
   "execution_count": 70,
   "id": "c086559d-1901-433c-af97-cd9c3f5f3011",
   "metadata": {},
   "outputs": [
    {
     "data": {
      "text/plain": [
       "count                           758390\n",
       "mean     2017-10-06 22:23:31.442661120\n",
       "min                2016-01-01 00:00:00\n",
       "25%                2017-11-01 00:00:00\n",
       "50%                2017-12-01 00:00:00\n",
       "75%                2017-12-01 00:00:00\n",
       "max                2017-12-01 00:00:00\n",
       "Name: last_pymnt_d, dtype: object"
      ]
     },
     "execution_count": 70,
     "metadata": {},
     "output_type": "execute_result"
    }
   ],
   "source": [
    "X_test.last_pymnt_d.describe(datetime_is_numeric=True)"
   ]
  },
  {
   "cell_type": "markdown",
   "id": "f74e1232-546d-4cc7-ac19-54531b849c61",
   "metadata": {},
   "source": [
    "Normally would not make different replacements for missing values in test and training data. However we can't do this here as it's an actual date and the actual loan applications take place over different periods. We can see that the latest payment date in the training data is the earliest for the test data. We will depart from usual procedure and use the median for each separately"
   ]
  },
  {
   "cell_type": "code",
   "execution_count": 71,
   "id": "d454b883-7a6c-4493-a283-b77f187135d8",
   "metadata": {},
   "outputs": [],
   "source": [
    "X.last_pymnt_d.fillna(X.last_pymnt_d.describe(datetime_is_numeric=True)['50%'],inplace=True)\n",
    "X_test.last_pymnt_d.fillna(X_test.last_pymnt_d.describe(datetime_is_numeric=True)['50%'],inplace=True)"
   ]
  },
  {
   "cell_type": "code",
   "execution_count": 72,
   "id": "9fb3a0f9-b052-45f7-93f4-6cef16c7b594",
   "metadata": {},
   "outputs": [
    {
     "data": {
      "text/plain": [
       "count                           633898\n",
       "mean     2016-01-21 01:07:17.328403200\n",
       "min                2007-12-01 00:00:00\n",
       "25%                2016-02-01 00:00:00\n",
       "50%                2016-02-01 00:00:00\n",
       "75%                2016-02-01 00:00:00\n",
       "max                2016-03-01 00:00:00\n",
       "Name: next_pymnt_d, dtype: object"
      ]
     },
     "execution_count": 72,
     "metadata": {},
     "output_type": "execute_result"
    }
   ],
   "source": [
    "X.next_pymnt_d=pd.to_datetime(X.next_pymnt_d)\n",
    "X_test.next_pymnt_d=pd.to_datetime(X_test.next_pymnt_d)\n",
    "X.next_pymnt_d.describe(datetime_is_numeric=True)"
   ]
  },
  {
   "cell_type": "code",
   "execution_count": 73,
   "id": "5e1f061f-97e0-4d7e-8a46-0013c62e62c0",
   "metadata": {},
   "outputs": [
    {
     "data": {
      "text/plain": [
       "count                           591423\n",
       "mean     2017-12-31 23:55:23.746962432\n",
       "min                2017-12-01 00:00:00\n",
       "25%                2018-01-01 00:00:00\n",
       "50%                2018-01-01 00:00:00\n",
       "75%                2018-01-01 00:00:00\n",
       "max                2018-02-01 00:00:00\n",
       "Name: next_pymnt_d, dtype: object"
      ]
     },
     "execution_count": 73,
     "metadata": {},
     "output_type": "execute_result"
    }
   ],
   "source": [
    "X_test.next_pymnt_d.describe(datetime_is_numeric=True)"
   ]
  },
  {
   "cell_type": "code",
   "execution_count": 74,
   "id": "0607c9a9-838c-4694-b56e-e4affd605b58",
   "metadata": {},
   "outputs": [],
   "source": [
    "#As the previous case with dates we will use the median for each set separately\n",
    "X.next_pymnt_d.fillna(X.next_pymnt_d.describe(datetime_is_numeric=True)['50%'],inplace=True)\n",
    "X_test.next_pymnt_d.fillna(X_test.next_pymnt_d.describe(datetime_is_numeric=True)['50%'],inplace=True)"
   ]
  },
  {
   "cell_type": "markdown",
   "id": "57f1f292-53da-4b16-9f63-79f8257b1331",
   "metadata": {},
   "source": [
    "One thing we will have to consider before modeling is how to deal with these sorts of date ranges. Since our training data and test data have different ranges entirely (the max for the next payment date in the training data is earlier than the minimum for the test data) we will have to do something to tweak this before trying to apply a model here."
   ]
  },
  {
   "cell_type": "code",
   "execution_count": null,
   "id": "7f5b9f7f-a4af-4b26-a4b0-904ee62b86d7",
   "metadata": {},
   "outputs": [],
   "source": []
  }
 ],
 "metadata": {
  "kernelspec": {
   "display_name": "Python 3 (ipykernel)",
   "language": "python",
   "name": "python3"
  },
  "language_info": {
   "codemirror_mode": {
    "name": "ipython",
    "version": 3
   },
   "file_extension": ".py",
   "mimetype": "text/x-python",
   "name": "python",
   "nbconvert_exporter": "python",
   "pygments_lexer": "ipython3",
   "version": "3.9.7"
  }
 },
 "nbformat": 4,
 "nbformat_minor": 5
}
