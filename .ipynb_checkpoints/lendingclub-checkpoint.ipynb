{
 "cells": [
  {
   "cell_type": "code",
   "execution_count": 1,
   "id": "2587e29e-6dfc-4d19-96dd-fd7abb149508",
   "metadata": {},
   "outputs": [],
   "source": [
    "import numpy as np\n",
    "import pandas as pd\n",
    "import matplotlib.pyplot as plt\n",
    "import seaborn as sns"
   ]
  },
  {
   "cell_type": "markdown",
   "id": "d899349c-d43d-4667-bdaa-42062063e61e",
   "metadata": {},
   "source": [
    "## Data cleaning"
   ]
  },
  {
   "cell_type": "code",
   "execution_count": 2,
   "id": "03793ed9-be41-49de-81e8-b8ef2ce74da3",
   "metadata": {},
   "outputs": [],
   "source": [
    "df=pd.read_csv('lc_loan.csv/lc_loan.csv',low_memory=False)"
   ]
  },
  {
   "cell_type": "code",
   "execution_count": 3,
   "id": "86954d58-cb8e-4228-ad9c-7761d401c90d",
   "metadata": {},
   "outputs": [
    {
     "data": {
      "text/html": [
       "<div>\n",
       "<style scoped>\n",
       "    .dataframe tbody tr th:only-of-type {\n",
       "        vertical-align: middle;\n",
       "    }\n",
       "\n",
       "    .dataframe tbody tr th {\n",
       "        vertical-align: top;\n",
       "    }\n",
       "\n",
       "    .dataframe thead th {\n",
       "        text-align: right;\n",
       "    }\n",
       "</style>\n",
       "<table border=\"1\" class=\"dataframe\">\n",
       "  <thead>\n",
       "    <tr style=\"text-align: right;\">\n",
       "      <th></th>\n",
       "      <th>id</th>\n",
       "      <th>member_id</th>\n",
       "      <th>loan_amnt</th>\n",
       "      <th>funded_amnt</th>\n",
       "      <th>funded_amnt_inv</th>\n",
       "      <th>term</th>\n",
       "      <th>int_rate</th>\n",
       "      <th>installment</th>\n",
       "      <th>grade</th>\n",
       "      <th>sub_grade</th>\n",
       "      <th>...</th>\n",
       "      <th>total_bal_il</th>\n",
       "      <th>il_util</th>\n",
       "      <th>open_rv_12m</th>\n",
       "      <th>open_rv_24m</th>\n",
       "      <th>max_bal_bc</th>\n",
       "      <th>all_util</th>\n",
       "      <th>total_rev_hi_lim</th>\n",
       "      <th>inq_fi</th>\n",
       "      <th>total_cu_tl</th>\n",
       "      <th>inq_last_12m</th>\n",
       "    </tr>\n",
       "  </thead>\n",
       "  <tbody>\n",
       "    <tr>\n",
       "      <th>0</th>\n",
       "      <td>1077501</td>\n",
       "      <td>1296599</td>\n",
       "      <td>5000.0</td>\n",
       "      <td>5000.0</td>\n",
       "      <td>4975.0</td>\n",
       "      <td>36 months</td>\n",
       "      <td>10.65</td>\n",
       "      <td>162.87</td>\n",
       "      <td>B</td>\n",
       "      <td>B2</td>\n",
       "      <td>...</td>\n",
       "      <td>NaN</td>\n",
       "      <td>NaN</td>\n",
       "      <td>NaN</td>\n",
       "      <td>NaN</td>\n",
       "      <td>NaN</td>\n",
       "      <td>NaN</td>\n",
       "      <td>NaN</td>\n",
       "      <td>NaN</td>\n",
       "      <td>NaN</td>\n",
       "      <td>NaN</td>\n",
       "    </tr>\n",
       "    <tr>\n",
       "      <th>1</th>\n",
       "      <td>1077430</td>\n",
       "      <td>1314167</td>\n",
       "      <td>2500.0</td>\n",
       "      <td>2500.0</td>\n",
       "      <td>2500.0</td>\n",
       "      <td>60 months</td>\n",
       "      <td>15.27</td>\n",
       "      <td>59.83</td>\n",
       "      <td>C</td>\n",
       "      <td>C4</td>\n",
       "      <td>...</td>\n",
       "      <td>NaN</td>\n",
       "      <td>NaN</td>\n",
       "      <td>NaN</td>\n",
       "      <td>NaN</td>\n",
       "      <td>NaN</td>\n",
       "      <td>NaN</td>\n",
       "      <td>NaN</td>\n",
       "      <td>NaN</td>\n",
       "      <td>NaN</td>\n",
       "      <td>NaN</td>\n",
       "    </tr>\n",
       "    <tr>\n",
       "      <th>2</th>\n",
       "      <td>1077175</td>\n",
       "      <td>1313524</td>\n",
       "      <td>2400.0</td>\n",
       "      <td>2400.0</td>\n",
       "      <td>2400.0</td>\n",
       "      <td>36 months</td>\n",
       "      <td>15.96</td>\n",
       "      <td>84.33</td>\n",
       "      <td>C</td>\n",
       "      <td>C5</td>\n",
       "      <td>...</td>\n",
       "      <td>NaN</td>\n",
       "      <td>NaN</td>\n",
       "      <td>NaN</td>\n",
       "      <td>NaN</td>\n",
       "      <td>NaN</td>\n",
       "      <td>NaN</td>\n",
       "      <td>NaN</td>\n",
       "      <td>NaN</td>\n",
       "      <td>NaN</td>\n",
       "      <td>NaN</td>\n",
       "    </tr>\n",
       "    <tr>\n",
       "      <th>3</th>\n",
       "      <td>1076863</td>\n",
       "      <td>1277178</td>\n",
       "      <td>10000.0</td>\n",
       "      <td>10000.0</td>\n",
       "      <td>10000.0</td>\n",
       "      <td>36 months</td>\n",
       "      <td>13.49</td>\n",
       "      <td>339.31</td>\n",
       "      <td>C</td>\n",
       "      <td>C1</td>\n",
       "      <td>...</td>\n",
       "      <td>NaN</td>\n",
       "      <td>NaN</td>\n",
       "      <td>NaN</td>\n",
       "      <td>NaN</td>\n",
       "      <td>NaN</td>\n",
       "      <td>NaN</td>\n",
       "      <td>NaN</td>\n",
       "      <td>NaN</td>\n",
       "      <td>NaN</td>\n",
       "      <td>NaN</td>\n",
       "    </tr>\n",
       "    <tr>\n",
       "      <th>4</th>\n",
       "      <td>1075358</td>\n",
       "      <td>1311748</td>\n",
       "      <td>3000.0</td>\n",
       "      <td>3000.0</td>\n",
       "      <td>3000.0</td>\n",
       "      <td>60 months</td>\n",
       "      <td>12.69</td>\n",
       "      <td>67.79</td>\n",
       "      <td>B</td>\n",
       "      <td>B5</td>\n",
       "      <td>...</td>\n",
       "      <td>NaN</td>\n",
       "      <td>NaN</td>\n",
       "      <td>NaN</td>\n",
       "      <td>NaN</td>\n",
       "      <td>NaN</td>\n",
       "      <td>NaN</td>\n",
       "      <td>NaN</td>\n",
       "      <td>NaN</td>\n",
       "      <td>NaN</td>\n",
       "      <td>NaN</td>\n",
       "    </tr>\n",
       "  </tbody>\n",
       "</table>\n",
       "<p>5 rows × 74 columns</p>\n",
       "</div>"
      ],
      "text/plain": [
       "        id  member_id  loan_amnt  funded_amnt  funded_amnt_inv        term  \\\n",
       "0  1077501    1296599     5000.0       5000.0           4975.0   36 months   \n",
       "1  1077430    1314167     2500.0       2500.0           2500.0   60 months   \n",
       "2  1077175    1313524     2400.0       2400.0           2400.0   36 months   \n",
       "3  1076863    1277178    10000.0      10000.0          10000.0   36 months   \n",
       "4  1075358    1311748     3000.0       3000.0           3000.0   60 months   \n",
       "\n",
       "   int_rate  installment grade sub_grade  ... total_bal_il il_util  \\\n",
       "0     10.65       162.87     B        B2  ...          NaN     NaN   \n",
       "1     15.27        59.83     C        C4  ...          NaN     NaN   \n",
       "2     15.96        84.33     C        C5  ...          NaN     NaN   \n",
       "3     13.49       339.31     C        C1  ...          NaN     NaN   \n",
       "4     12.69        67.79     B        B5  ...          NaN     NaN   \n",
       "\n",
       "  open_rv_12m  open_rv_24m max_bal_bc all_util total_rev_hi_lim inq_fi  \\\n",
       "0         NaN          NaN        NaN      NaN              NaN    NaN   \n",
       "1         NaN          NaN        NaN      NaN              NaN    NaN   \n",
       "2         NaN          NaN        NaN      NaN              NaN    NaN   \n",
       "3         NaN          NaN        NaN      NaN              NaN    NaN   \n",
       "4         NaN          NaN        NaN      NaN              NaN    NaN   \n",
       "\n",
       "  total_cu_tl inq_last_12m  \n",
       "0         NaN          NaN  \n",
       "1         NaN          NaN  \n",
       "2         NaN          NaN  \n",
       "3         NaN          NaN  \n",
       "4         NaN          NaN  \n",
       "\n",
       "[5 rows x 74 columns]"
      ]
     },
     "execution_count": 3,
     "metadata": {},
     "output_type": "execute_result"
    }
   ],
   "source": [
    "df.head()"
   ]
  },
  {
   "cell_type": "code",
   "execution_count": 4,
   "id": "00cd6f32-e450-4bcb-81aa-0bbc4eac4c25",
   "metadata": {},
   "outputs": [
    {
     "data": {
      "text/plain": [
       "Index(['id', 'member_id', 'loan_amnt', 'funded_amnt', 'funded_amnt_inv',\n",
       "       'term', 'int_rate', 'installment', 'grade', 'sub_grade', 'emp_title',\n",
       "       'emp_length', 'home_ownership', 'annual_inc', 'verification_status',\n",
       "       'issue_d', 'loan_status', 'pymnt_plan', 'url', 'desc', 'purpose',\n",
       "       'title', 'zip_code', 'addr_state', 'dti', 'delinq_2yrs',\n",
       "       'earliest_cr_line', 'inq_last_6mths', 'mths_since_last_delinq',\n",
       "       'mths_since_last_record', 'open_acc', 'pub_rec', 'revol_bal',\n",
       "       'revol_util', 'total_acc', 'initial_list_status', 'out_prncp',\n",
       "       'out_prncp_inv', 'total_pymnt', 'total_pymnt_inv', 'total_rec_prncp',\n",
       "       'total_rec_int', 'total_rec_late_fee', 'recoveries',\n",
       "       'collection_recovery_fee', 'last_pymnt_d', 'last_pymnt_amnt',\n",
       "       'next_pymnt_d', 'last_credit_pull_d', 'collections_12_mths_ex_med',\n",
       "       'mths_since_last_major_derog', 'policy_code', 'application_type',\n",
       "       'annual_inc_joint', 'dti_joint', 'verification_status_joint',\n",
       "       'acc_now_delinq', 'tot_coll_amt', 'tot_cur_bal', 'open_acc_6m',\n",
       "       'open_il_6m', 'open_il_12m', 'open_il_24m', 'mths_since_rcnt_il',\n",
       "       'total_bal_il', 'il_util', 'open_rv_12m', 'open_rv_24m', 'max_bal_bc',\n",
       "       'all_util', 'total_rev_hi_lim', 'inq_fi', 'total_cu_tl',\n",
       "       'inq_last_12m'],\n",
       "      dtype='object')"
      ]
     },
     "execution_count": 4,
     "metadata": {},
     "output_type": "execute_result"
    }
   ],
   "source": [
    "df.columns"
   ]
  },
  {
   "cell_type": "code",
   "execution_count": 5,
   "id": "cb146e42-499e-4b53-b2ba-98b9d8bd48eb",
   "metadata": {},
   "outputs": [
    {
     "data": {
      "text/plain": [
       "(887379, 74)"
      ]
     },
     "execution_count": 5,
     "metadata": {},
     "output_type": "execute_result"
    }
   ],
   "source": [
    "df.shape"
   ]
  },
  {
   "cell_type": "code",
   "execution_count": 6,
   "id": "1a7550f8-d1e8-463d-86cc-8cabecbfe6fc",
   "metadata": {},
   "outputs": [
    {
     "data": {
      "text/html": [
       "<div>\n",
       "<style scoped>\n",
       "    .dataframe tbody tr th:only-of-type {\n",
       "        vertical-align: middle;\n",
       "    }\n",
       "\n",
       "    .dataframe tbody tr th {\n",
       "        vertical-align: top;\n",
       "    }\n",
       "\n",
       "    .dataframe thead th {\n",
       "        text-align: right;\n",
       "    }\n",
       "</style>\n",
       "<table border=\"1\" class=\"dataframe\">\n",
       "  <thead>\n",
       "    <tr style=\"text-align: right;\">\n",
       "      <th></th>\n",
       "      <th>count</th>\n",
       "      <th>%</th>\n",
       "    </tr>\n",
       "  </thead>\n",
       "  <tbody>\n",
       "    <tr>\n",
       "      <th>dti_joint</th>\n",
       "      <td>886870</td>\n",
       "      <td>99.942640</td>\n",
       "    </tr>\n",
       "    <tr>\n",
       "      <th>annual_inc_joint</th>\n",
       "      <td>886868</td>\n",
       "      <td>99.942415</td>\n",
       "    </tr>\n",
       "    <tr>\n",
       "      <th>verification_status_joint</th>\n",
       "      <td>886868</td>\n",
       "      <td>99.942415</td>\n",
       "    </tr>\n",
       "    <tr>\n",
       "      <th>il_util</th>\n",
       "      <td>868762</td>\n",
       "      <td>97.902024</td>\n",
       "    </tr>\n",
       "    <tr>\n",
       "      <th>mths_since_rcnt_il</th>\n",
       "      <td>866569</td>\n",
       "      <td>97.654892</td>\n",
       "    </tr>\n",
       "    <tr>\n",
       "      <th>total_cu_tl</th>\n",
       "      <td>866007</td>\n",
       "      <td>97.591559</td>\n",
       "    </tr>\n",
       "    <tr>\n",
       "      <th>inq_fi</th>\n",
       "      <td>866007</td>\n",
       "      <td>97.591559</td>\n",
       "    </tr>\n",
       "    <tr>\n",
       "      <th>all_util</th>\n",
       "      <td>866007</td>\n",
       "      <td>97.591559</td>\n",
       "    </tr>\n",
       "    <tr>\n",
       "      <th>max_bal_bc</th>\n",
       "      <td>866007</td>\n",
       "      <td>97.591559</td>\n",
       "    </tr>\n",
       "    <tr>\n",
       "      <th>open_rv_24m</th>\n",
       "      <td>866007</td>\n",
       "      <td>97.591559</td>\n",
       "    </tr>\n",
       "    <tr>\n",
       "      <th>open_rv_12m</th>\n",
       "      <td>866007</td>\n",
       "      <td>97.591559</td>\n",
       "    </tr>\n",
       "    <tr>\n",
       "      <th>total_bal_il</th>\n",
       "      <td>866007</td>\n",
       "      <td>97.591559</td>\n",
       "    </tr>\n",
       "    <tr>\n",
       "      <th>open_il_24m</th>\n",
       "      <td>866007</td>\n",
       "      <td>97.591559</td>\n",
       "    </tr>\n",
       "    <tr>\n",
       "      <th>open_il_12m</th>\n",
       "      <td>866007</td>\n",
       "      <td>97.591559</td>\n",
       "    </tr>\n",
       "    <tr>\n",
       "      <th>open_il_6m</th>\n",
       "      <td>866007</td>\n",
       "      <td>97.591559</td>\n",
       "    </tr>\n",
       "    <tr>\n",
       "      <th>open_acc_6m</th>\n",
       "      <td>866007</td>\n",
       "      <td>97.591559</td>\n",
       "    </tr>\n",
       "    <tr>\n",
       "      <th>inq_last_12m</th>\n",
       "      <td>866007</td>\n",
       "      <td>97.591559</td>\n",
       "    </tr>\n",
       "    <tr>\n",
       "      <th>desc</th>\n",
       "      <td>761351</td>\n",
       "      <td>85.797726</td>\n",
       "    </tr>\n",
       "    <tr>\n",
       "      <th>mths_since_last_record</th>\n",
       "      <td>750326</td>\n",
       "      <td>84.555303</td>\n",
       "    </tr>\n",
       "    <tr>\n",
       "      <th>mths_since_last_major_derog</th>\n",
       "      <td>665676</td>\n",
       "      <td>75.015974</td>\n",
       "    </tr>\n",
       "    <tr>\n",
       "      <th>mths_since_last_delinq</th>\n",
       "      <td>454312</td>\n",
       "      <td>51.197065</td>\n",
       "    </tr>\n",
       "    <tr>\n",
       "      <th>next_pymnt_d</th>\n",
       "      <td>252971</td>\n",
       "      <td>28.507661</td>\n",
       "    </tr>\n",
       "    <tr>\n",
       "      <th>total_rev_hi_lim</th>\n",
       "      <td>70276</td>\n",
       "      <td>7.919502</td>\n",
       "    </tr>\n",
       "    <tr>\n",
       "      <th>tot_coll_amt</th>\n",
       "      <td>70276</td>\n",
       "      <td>7.919502</td>\n",
       "    </tr>\n",
       "    <tr>\n",
       "      <th>tot_cur_bal</th>\n",
       "      <td>70276</td>\n",
       "      <td>7.919502</td>\n",
       "    </tr>\n",
       "    <tr>\n",
       "      <th>emp_title</th>\n",
       "      <td>51462</td>\n",
       "      <td>5.799326</td>\n",
       "    </tr>\n",
       "    <tr>\n",
       "      <th>emp_length</th>\n",
       "      <td>44825</td>\n",
       "      <td>5.051393</td>\n",
       "    </tr>\n",
       "    <tr>\n",
       "      <th>last_pymnt_d</th>\n",
       "      <td>17659</td>\n",
       "      <td>1.990018</td>\n",
       "    </tr>\n",
       "    <tr>\n",
       "      <th>revol_util</th>\n",
       "      <td>502</td>\n",
       "      <td>0.056571</td>\n",
       "    </tr>\n",
       "    <tr>\n",
       "      <th>title</th>\n",
       "      <td>152</td>\n",
       "      <td>0.017129</td>\n",
       "    </tr>\n",
       "    <tr>\n",
       "      <th>collections_12_mths_ex_med</th>\n",
       "      <td>145</td>\n",
       "      <td>0.016340</td>\n",
       "    </tr>\n",
       "    <tr>\n",
       "      <th>last_credit_pull_d</th>\n",
       "      <td>53</td>\n",
       "      <td>0.005973</td>\n",
       "    </tr>\n",
       "    <tr>\n",
       "      <th>open_acc</th>\n",
       "      <td>29</td>\n",
       "      <td>0.003268</td>\n",
       "    </tr>\n",
       "    <tr>\n",
       "      <th>inq_last_6mths</th>\n",
       "      <td>29</td>\n",
       "      <td>0.003268</td>\n",
       "    </tr>\n",
       "    <tr>\n",
       "      <th>earliest_cr_line</th>\n",
       "      <td>29</td>\n",
       "      <td>0.003268</td>\n",
       "    </tr>\n",
       "    <tr>\n",
       "      <th>delinq_2yrs</th>\n",
       "      <td>29</td>\n",
       "      <td>0.003268</td>\n",
       "    </tr>\n",
       "    <tr>\n",
       "      <th>total_acc</th>\n",
       "      <td>29</td>\n",
       "      <td>0.003268</td>\n",
       "    </tr>\n",
       "    <tr>\n",
       "      <th>acc_now_delinq</th>\n",
       "      <td>29</td>\n",
       "      <td>0.003268</td>\n",
       "    </tr>\n",
       "    <tr>\n",
       "      <th>pub_rec</th>\n",
       "      <td>29</td>\n",
       "      <td>0.003268</td>\n",
       "    </tr>\n",
       "    <tr>\n",
       "      <th>annual_inc</th>\n",
       "      <td>4</td>\n",
       "      <td>0.000451</td>\n",
       "    </tr>\n",
       "  </tbody>\n",
       "</table>\n",
       "</div>"
      ],
      "text/plain": [
       "                              count          %\n",
       "dti_joint                    886870  99.942640\n",
       "annual_inc_joint             886868  99.942415\n",
       "verification_status_joint    886868  99.942415\n",
       "il_util                      868762  97.902024\n",
       "mths_since_rcnt_il           866569  97.654892\n",
       "total_cu_tl                  866007  97.591559\n",
       "inq_fi                       866007  97.591559\n",
       "all_util                     866007  97.591559\n",
       "max_bal_bc                   866007  97.591559\n",
       "open_rv_24m                  866007  97.591559\n",
       "open_rv_12m                  866007  97.591559\n",
       "total_bal_il                 866007  97.591559\n",
       "open_il_24m                  866007  97.591559\n",
       "open_il_12m                  866007  97.591559\n",
       "open_il_6m                   866007  97.591559\n",
       "open_acc_6m                  866007  97.591559\n",
       "inq_last_12m                 866007  97.591559\n",
       "desc                         761351  85.797726\n",
       "mths_since_last_record       750326  84.555303\n",
       "mths_since_last_major_derog  665676  75.015974\n",
       "mths_since_last_delinq       454312  51.197065\n",
       "next_pymnt_d                 252971  28.507661\n",
       "total_rev_hi_lim              70276   7.919502\n",
       "tot_coll_amt                  70276   7.919502\n",
       "tot_cur_bal                   70276   7.919502\n",
       "emp_title                     51462   5.799326\n",
       "emp_length                    44825   5.051393\n",
       "last_pymnt_d                  17659   1.990018\n",
       "revol_util                      502   0.056571\n",
       "title                           152   0.017129\n",
       "collections_12_mths_ex_med      145   0.016340\n",
       "last_credit_pull_d               53   0.005973\n",
       "open_acc                         29   0.003268\n",
       "inq_last_6mths                   29   0.003268\n",
       "earliest_cr_line                 29   0.003268\n",
       "delinq_2yrs                      29   0.003268\n",
       "total_acc                        29   0.003268\n",
       "acc_now_delinq                   29   0.003268\n",
       "pub_rec                          29   0.003268\n",
       "annual_inc                        4   0.000451"
      ]
     },
     "execution_count": 6,
     "metadata": {},
     "output_type": "execute_result"
    }
   ],
   "source": [
    "#We look to see which columns have missing values\n",
    "missing = pd.concat([df.isnull().sum(), 100 * df.isnull().mean()], axis=1)\n",
    "missing.columns=['count','%']\n",
    "missing[missing[\"count\"]>0].sort_values(by='count',ascending=False)"
   ]
  },
  {
   "cell_type": "markdown",
   "id": "a0146198-a24e-4632-b4a3-857d114e7132",
   "metadata": {},
   "source": [
    "Some of the most commonly missing values are related to joint applications. We can see how many there are."
   ]
  },
  {
   "cell_type": "code",
   "execution_count": 7,
   "id": "453d051a-94f9-4b1a-a355-e3749358352d",
   "metadata": {},
   "outputs": [
    {
     "data": {
      "text/plain": [
       "(511, 74)"
      ]
     },
     "execution_count": 7,
     "metadata": {},
     "output_type": "execute_result"
    }
   ],
   "source": [
    "df[df.application_type==\"JOINT\"].shape"
   ]
  },
  {
   "cell_type": "markdown",
   "id": "097d2808-1b99-4b63-b24b-328c82ac21ad",
   "metadata": {},
   "source": [
    "There are only 511 joint applications. While we may want to come back to these later, for a first run through we can get rid of them. Doing so we can get rid of the application type field. We will also take out the member ID field for modeling."
   ]
  },
  {
   "cell_type": "code",
   "execution_count": 8,
   "id": "fb1bf39d-6454-4fdd-9563-cc8738cece81",
   "metadata": {},
   "outputs": [],
   "source": [
    "X=df[df.application_type!=\"JOINT\"]\n",
    "X=X.drop(columns=['id','member_id','application_type'])"
   ]
  },
  {
   "cell_type": "markdown",
   "id": "3dc6cbb1-42ab-4ff0-8b3d-53446d970a92",
   "metadata": {},
   "source": [
    "We can now get rid of any columns involving the joint applicant"
   ]
  },
  {
   "cell_type": "code",
   "execution_count": 9,
   "id": "49504006-542b-45c9-97cb-4ee41659d25c",
   "metadata": {},
   "outputs": [],
   "source": [
    "X=X.drop(columns=['dti_joint','annual_inc_joint','verification_status_joint'])"
   ]
  },
  {
   "cell_type": "markdown",
   "id": "41a71834-4d0f-4b38-9bfe-776c0e9ffafc",
   "metadata": {},
   "source": [
    "We can get the 2016-2017 data (to be used as testing) and start doing the same thing"
   ]
  },
  {
   "cell_type": "code",
   "execution_count": 10,
   "id": "4fa8f65e-7f13-45eb-af40-ac4b010df250",
   "metadata": {},
   "outputs": [],
   "source": [
    "df2=pd.read_csv(\"lc_2016_2017.csv/lc_2016_2017.csv\",low_memory=False)"
   ]
  },
  {
   "cell_type": "code",
   "execution_count": 11,
   "id": "9a65b8c9-9415-40f1-8c11-a8d2662cd7e1",
   "metadata": {},
   "outputs": [],
   "source": [
    "X_test=df2[df2.application_type!=\"JOINT\"]\n",
    "X_test=X_test.drop(columns=['id','member_id','application_type','dti_joint','annual_inc_joint','verification_status_joint'])"
   ]
  },
  {
   "cell_type": "code",
   "execution_count": 12,
   "id": "ce5981f9-5d37-43fd-8f22-bdd5c229f1da",
   "metadata": {},
   "outputs": [],
   "source": [
    "#Separate the target variable and remove it from the features\n",
    "y=X.loan_status\n",
    "y_test=X.loan_status\n",
    "X.drop(columns=['loan_status'],inplace=True)\n",
    "X_test.drop(columns=['loan_status'],inplace=True)"
   ]
  },
  {
   "cell_type": "code",
   "execution_count": 13,
   "id": "d2d8a0ba-0b41-492e-973c-3209a2a75201",
   "metadata": {},
   "outputs": [
    {
     "data": {
      "text/html": [
       "<div>\n",
       "<style scoped>\n",
       "    .dataframe tbody tr th:only-of-type {\n",
       "        vertical-align: middle;\n",
       "    }\n",
       "\n",
       "    .dataframe tbody tr th {\n",
       "        vertical-align: top;\n",
       "    }\n",
       "\n",
       "    .dataframe thead th {\n",
       "        text-align: right;\n",
       "    }\n",
       "</style>\n",
       "<table border=\"1\" class=\"dataframe\">\n",
       "  <thead>\n",
       "    <tr style=\"text-align: right;\">\n",
       "      <th></th>\n",
       "      <th>count</th>\n",
       "      <th>%</th>\n",
       "    </tr>\n",
       "  </thead>\n",
       "  <tbody>\n",
       "    <tr>\n",
       "      <th>il_util</th>\n",
       "      <td>868392</td>\n",
       "      <td>97.916714</td>\n",
       "    </tr>\n",
       "    <tr>\n",
       "      <th>mths_since_rcnt_il</th>\n",
       "      <td>866220</td>\n",
       "      <td>97.671807</td>\n",
       "    </tr>\n",
       "    <tr>\n",
       "      <th>inq_last_12m</th>\n",
       "      <td>865659</td>\n",
       "      <td>97.608551</td>\n",
       "    </tr>\n",
       "    <tr>\n",
       "      <th>open_acc_6m</th>\n",
       "      <td>865659</td>\n",
       "      <td>97.608551</td>\n",
       "    </tr>\n",
       "    <tr>\n",
       "      <th>total_cu_tl</th>\n",
       "      <td>865659</td>\n",
       "      <td>97.608551</td>\n",
       "    </tr>\n",
       "    <tr>\n",
       "      <th>inq_fi</th>\n",
       "      <td>865659</td>\n",
       "      <td>97.608551</td>\n",
       "    </tr>\n",
       "    <tr>\n",
       "      <th>all_util</th>\n",
       "      <td>865659</td>\n",
       "      <td>97.608551</td>\n",
       "    </tr>\n",
       "    <tr>\n",
       "      <th>max_bal_bc</th>\n",
       "      <td>865659</td>\n",
       "      <td>97.608551</td>\n",
       "    </tr>\n",
       "    <tr>\n",
       "      <th>open_rv_24m</th>\n",
       "      <td>865659</td>\n",
       "      <td>97.608551</td>\n",
       "    </tr>\n",
       "    <tr>\n",
       "      <th>open_rv_12m</th>\n",
       "      <td>865659</td>\n",
       "      <td>97.608551</td>\n",
       "    </tr>\n",
       "    <tr>\n",
       "      <th>total_bal_il</th>\n",
       "      <td>865659</td>\n",
       "      <td>97.608551</td>\n",
       "    </tr>\n",
       "    <tr>\n",
       "      <th>open_il_24m</th>\n",
       "      <td>865659</td>\n",
       "      <td>97.608551</td>\n",
       "    </tr>\n",
       "    <tr>\n",
       "      <th>open_il_12m</th>\n",
       "      <td>865659</td>\n",
       "      <td>97.608551</td>\n",
       "    </tr>\n",
       "    <tr>\n",
       "      <th>open_il_6m</th>\n",
       "      <td>865659</td>\n",
       "      <td>97.608551</td>\n",
       "    </tr>\n",
       "    <tr>\n",
       "      <th>desc</th>\n",
       "      <td>760840</td>\n",
       "      <td>85.789543</td>\n",
       "    </tr>\n",
       "    <tr>\n",
       "      <th>mths_since_last_record</th>\n",
       "      <td>749931</td>\n",
       "      <td>84.559483</td>\n",
       "    </tr>\n",
       "    <tr>\n",
       "      <th>mths_since_last_major_derog</th>\n",
       "      <td>665312</td>\n",
       "      <td>75.018154</td>\n",
       "    </tr>\n",
       "    <tr>\n",
       "      <th>mths_since_last_delinq</th>\n",
       "      <td>454080</td>\n",
       "      <td>51.200404</td>\n",
       "    </tr>\n",
       "    <tr>\n",
       "      <th>next_pymnt_d</th>\n",
       "      <td>252970</td>\n",
       "      <td>28.523974</td>\n",
       "    </tr>\n",
       "    <tr>\n",
       "      <th>total_rev_hi_lim</th>\n",
       "      <td>70276</td>\n",
       "      <td>7.924065</td>\n",
       "    </tr>\n",
       "    <tr>\n",
       "      <th>tot_coll_amt</th>\n",
       "      <td>70276</td>\n",
       "      <td>7.924065</td>\n",
       "    </tr>\n",
       "    <tr>\n",
       "      <th>tot_cur_bal</th>\n",
       "      <td>70276</td>\n",
       "      <td>7.924065</td>\n",
       "    </tr>\n",
       "    <tr>\n",
       "      <th>emp_title</th>\n",
       "      <td>51401</td>\n",
       "      <td>5.795789</td>\n",
       "    </tr>\n",
       "    <tr>\n",
       "      <th>emp_length</th>\n",
       "      <td>44764</td>\n",
       "      <td>5.047425</td>\n",
       "    </tr>\n",
       "    <tr>\n",
       "      <th>last_pymnt_d</th>\n",
       "      <td>17521</td>\n",
       "      <td>1.975604</td>\n",
       "    </tr>\n",
       "    <tr>\n",
       "      <th>revol_util</th>\n",
       "      <td>502</td>\n",
       "      <td>0.056604</td>\n",
       "    </tr>\n",
       "    <tr>\n",
       "      <th>collections_12_mths_ex_med</th>\n",
       "      <td>145</td>\n",
       "      <td>0.016350</td>\n",
       "    </tr>\n",
       "    <tr>\n",
       "      <th>title</th>\n",
       "      <td>143</td>\n",
       "      <td>0.016124</td>\n",
       "    </tr>\n",
       "    <tr>\n",
       "      <th>last_credit_pull_d</th>\n",
       "      <td>53</td>\n",
       "      <td>0.005976</td>\n",
       "    </tr>\n",
       "    <tr>\n",
       "      <th>total_acc</th>\n",
       "      <td>29</td>\n",
       "      <td>0.003270</td>\n",
       "    </tr>\n",
       "    <tr>\n",
       "      <th>open_acc</th>\n",
       "      <td>29</td>\n",
       "      <td>0.003270</td>\n",
       "    </tr>\n",
       "    <tr>\n",
       "      <th>inq_last_6mths</th>\n",
       "      <td>29</td>\n",
       "      <td>0.003270</td>\n",
       "    </tr>\n",
       "    <tr>\n",
       "      <th>earliest_cr_line</th>\n",
       "      <td>29</td>\n",
       "      <td>0.003270</td>\n",
       "    </tr>\n",
       "    <tr>\n",
       "      <th>delinq_2yrs</th>\n",
       "      <td>29</td>\n",
       "      <td>0.003270</td>\n",
       "    </tr>\n",
       "    <tr>\n",
       "      <th>acc_now_delinq</th>\n",
       "      <td>29</td>\n",
       "      <td>0.003270</td>\n",
       "    </tr>\n",
       "    <tr>\n",
       "      <th>pub_rec</th>\n",
       "      <td>29</td>\n",
       "      <td>0.003270</td>\n",
       "    </tr>\n",
       "    <tr>\n",
       "      <th>annual_inc</th>\n",
       "      <td>4</td>\n",
       "      <td>0.000451</td>\n",
       "    </tr>\n",
       "  </tbody>\n",
       "</table>\n",
       "</div>"
      ],
      "text/plain": [
       "                              count          %\n",
       "il_util                      868392  97.916714\n",
       "mths_since_rcnt_il           866220  97.671807\n",
       "inq_last_12m                 865659  97.608551\n",
       "open_acc_6m                  865659  97.608551\n",
       "total_cu_tl                  865659  97.608551\n",
       "inq_fi                       865659  97.608551\n",
       "all_util                     865659  97.608551\n",
       "max_bal_bc                   865659  97.608551\n",
       "open_rv_24m                  865659  97.608551\n",
       "open_rv_12m                  865659  97.608551\n",
       "total_bal_il                 865659  97.608551\n",
       "open_il_24m                  865659  97.608551\n",
       "open_il_12m                  865659  97.608551\n",
       "open_il_6m                   865659  97.608551\n",
       "desc                         760840  85.789543\n",
       "mths_since_last_record       749931  84.559483\n",
       "mths_since_last_major_derog  665312  75.018154\n",
       "mths_since_last_delinq       454080  51.200404\n",
       "next_pymnt_d                 252970  28.523974\n",
       "total_rev_hi_lim              70276   7.924065\n",
       "tot_coll_amt                  70276   7.924065\n",
       "tot_cur_bal                   70276   7.924065\n",
       "emp_title                     51401   5.795789\n",
       "emp_length                    44764   5.047425\n",
       "last_pymnt_d                  17521   1.975604\n",
       "revol_util                      502   0.056604\n",
       "collections_12_mths_ex_med      145   0.016350\n",
       "title                           143   0.016124\n",
       "last_credit_pull_d               53   0.005976\n",
       "total_acc                        29   0.003270\n",
       "open_acc                         29   0.003270\n",
       "inq_last_6mths                   29   0.003270\n",
       "earliest_cr_line                 29   0.003270\n",
       "delinq_2yrs                      29   0.003270\n",
       "acc_now_delinq                   29   0.003270\n",
       "pub_rec                          29   0.003270\n",
       "annual_inc                        4   0.000451"
      ]
     },
     "execution_count": 13,
     "metadata": {},
     "output_type": "execute_result"
    }
   ],
   "source": [
    "#We look to see which columns in the restricted data have missing values still\n",
    "missing = pd.concat([X.isnull().sum(), 100 * X.isnull().mean()], axis=1)\n",
    "missing.columns=['count','%']\n",
    "missing[missing[\"count\"]>0].sort_values(by='count',ascending=False)"
   ]
  },
  {
   "cell_type": "markdown",
   "id": "d4bcf7f9-e9b6-4efd-b43f-4d335ae433ee",
   "metadata": {},
   "source": [
    "For the features with many missing values we want to see what's actually there"
   ]
  },
  {
   "cell_type": "code",
   "execution_count": 14,
   "id": "46e5a451-e111-426f-a37b-f8f5f5b24eec",
   "metadata": {},
   "outputs": [
    {
     "data": {
      "text/plain": [
       "0.0      138\n",
       "100.0    132\n",
       "87.0      68\n",
       "75.0      66\n",
       "86.0      64\n",
       "        ... \n",
       "118.8      1\n",
       "113.0      1\n",
       "136.3      1\n",
       "133.2      1\n",
       "116.9      1\n",
       "Name: il_util, Length: 1271, dtype: int64"
      ]
     },
     "execution_count": 14,
     "metadata": {},
     "output_type": "execute_result"
    }
   ],
   "source": [
    "X.il_util.value_counts()"
   ]
  },
  {
   "cell_type": "code",
   "execution_count": 15,
   "id": "595801ef-a31b-40d4-bf25-df869cda17f2",
   "metadata": {},
   "outputs": [
    {
     "data": {
      "text/plain": [
       "array([  nan,  49.3,  88.8, ..., 133.1,  12.9, 116.9])"
      ]
     },
     "execution_count": 15,
     "metadata": {},
     "output_type": "execute_result"
    }
   ],
   "source": [
    "X.il_util.unique()"
   ]
  },
  {
   "cell_type": "code",
   "execution_count": 16,
   "id": "c7c412e6-3221-425f-9ee8-0ccdb82588fe",
   "metadata": {},
   "outputs": [
    {
     "data": {
      "text/plain": [
       "count    18476.000000\n",
       "mean        71.519788\n",
       "std         23.034225\n",
       "min          0.000000\n",
       "25%         58.600000\n",
       "50%         75.000000\n",
       "75%         87.600000\n",
       "max        223.300000\n",
       "Name: il_util, dtype: float64"
      ]
     },
     "execution_count": 16,
     "metadata": {},
     "output_type": "execute_result"
    }
   ],
   "source": [
    "X.il_util.describe()"
   ]
  },
  {
   "cell_type": "markdown",
   "id": "04a9528d-41a8-453d-84be-2d80067d13cf",
   "metadata": {},
   "source": [
    "We're missing a lot of data here. There's quite a range here. While this potentially could cause issues we could impute the median of 75 here. We will impute the same to the test data "
   ]
  },
  {
   "cell_type": "code",
   "execution_count": 17,
   "id": "a7662cdf-792f-45db-8b9e-7fa7f8d590d6",
   "metadata": {},
   "outputs": [],
   "source": [
    "X.il_util.fillna(75,inplace=True)"
   ]
  },
  {
   "cell_type": "code",
   "execution_count": 18,
   "id": "a93c28ab-bbe3-4635-8b9f-64d6363ca631",
   "metadata": {},
   "outputs": [],
   "source": [
    "X_test.il_util.fillna(75,inplace=True)"
   ]
  },
  {
   "cell_type": "code",
   "execution_count": 19,
   "id": "4f538278-1543-4865-b728-0c5d47fac2b7",
   "metadata": {},
   "outputs": [
    {
     "data": {
      "text/plain": [
       "4.0      1220\n",
       "3.0      1179\n",
       "7.0      1073\n",
       "5.0      1041\n",
       "6.0       980\n",
       "         ... \n",
       "338.0       1\n",
       "230.0       1\n",
       "238.0       1\n",
       "275.0       1\n",
       "250.0       1\n",
       "Name: mths_since_rcnt_il, Length: 200, dtype: int64"
      ]
     },
     "execution_count": 19,
     "metadata": {},
     "output_type": "execute_result"
    }
   ],
   "source": [
    "X.mths_since_rcnt_il.value_counts()"
   ]
  },
  {
   "cell_type": "code",
   "execution_count": 20,
   "id": "3e37523d-2f53-465e-8f1a-25b3ba4a09d0",
   "metadata": {},
   "outputs": [
    {
     "data": {
      "text/plain": [
       "array([ nan,  28.,  11.,  47.,  13.,   8.,  21., 338.,  54.,  73.,  14.,\n",
       "        18.,  23.,  42.,  19.,  10.,  27.,   2.,  76.,   7.,   6.,   5.,\n",
       "        15.,   9.,  62.,  35.,   3.,  17.,  45.,  16.,  38.,  24.,  25.,\n",
       "        12.,   1.,  43.,  91.,  55.,  52.,  37.,  50.,  79.,  64.,  22.,\n",
       "        36.,  58.,  49.,  26.,   4.,  61.,  59.,  46., 141.,  32.,  53.,\n",
       "        56., 100., 103.,  33.,  20.,  51.,  63.,  40., 118.,  98.,  31.,\n",
       "       275., 121.,  29., 124.,  34.,  89.,  41.,   0., 145.,  44.,  77.,\n",
       "        82.,  80.,  39.,  30.,  71., 111.,  95., 129.,  68., 168., 119.,\n",
       "       115., 151.,  72.,  67., 104.,  74.,  93.,  57., 238., 148.,  87.,\n",
       "       170., 230.,  66., 158., 107., 101.,  90., 150.,  78., 114., 120.,\n",
       "       133., 136.,  60., 137.,  85., 131., 130.,  75.,  48., 109.,  81.,\n",
       "       117., 102., 105., 113.,  88.,  83.,  84., 147.,  65.,  69.,  99.,\n",
       "        86., 110., 152., 288., 135., 108., 149., 140., 112.,  94.,  97.,\n",
       "       123., 134., 116.,  92., 138., 169., 139., 125., 144., 122.,  70.,\n",
       "       163.,  96., 142., 160., 171., 202., 242., 127., 128., 153., 106.,\n",
       "       165., 208., 174., 205., 181., 146., 164., 161., 201., 156., 226.,\n",
       "       132., 185., 300., 126., 167., 162., 191., 244., 143., 172., 159.,\n",
       "       363., 166., 207., 176., 173., 219., 155., 211., 179., 217., 193.,\n",
       "       236., 218., 250.])"
      ]
     },
     "execution_count": 20,
     "metadata": {},
     "output_type": "execute_result"
    }
   ],
   "source": [
    "X.mths_since_rcnt_il.unique()"
   ]
  },
  {
   "cell_type": "code",
   "execution_count": 21,
   "id": "0827024d-708a-4636-9618-9d7024e1fc90",
   "metadata": {},
   "outputs": [
    {
     "data": {
      "text/plain": [
       "count    20648.000000\n",
       "mean        20.922801\n",
       "std         27.233241\n",
       "min          0.000000\n",
       "25%          6.000000\n",
       "50%         12.000000\n",
       "75%         23.000000\n",
       "max        363.000000\n",
       "Name: mths_since_rcnt_il, dtype: float64"
      ]
     },
     "execution_count": 21,
     "metadata": {},
     "output_type": "execute_result"
    }
   ],
   "source": [
    "X.mths_since_rcnt_il.describe()"
   ]
  },
  {
   "cell_type": "markdown",
   "id": "9441e31c-a88d-4ca9-859e-58e62b95fa3a",
   "metadata": {},
   "source": [
    "This is months since most recent installment account was opened. Missing values are likely people that have no old one. The easiest way to make sure it's considered separate is to simply impute a very large number. For now we can use infinite. Since we likely will use decision trees here, that will be a reasonable way to separate them.\n",
    "\n",
    "This will mean that trying to look at statistics on these fields will not make much sense."
   ]
  },
  {
   "cell_type": "code",
   "execution_count": 22,
   "id": "83d0798e-5211-40f6-a702-fb45a8541c47",
   "metadata": {},
   "outputs": [],
   "source": [
    "X.mths_since_rcnt_il.fillna(np.inf,inplace=True)\n",
    "X_test.mths_since_rcnt_il.fillna(np.inf,inplace=True)"
   ]
  },
  {
   "cell_type": "code",
   "execution_count": 23,
   "id": "a7198c6f-73f5-461a-b344-dc33e447f45d",
   "metadata": {},
   "outputs": [
    {
     "data": {
      "text/plain": [
       " 1.0     5011\n",
       " 0.0     3958\n",
       " 2.0     3728\n",
       " 3.0     2576\n",
       " 4.0     1681\n",
       "-4.0     1365\n",
       " 5.0      987\n",
       " 6.0      664\n",
       " 7.0      424\n",
       " 8.0      272\n",
       " 9.0      143\n",
       " 10.0     112\n",
       " 11.0      73\n",
       " 12.0      57\n",
       " 13.0      55\n",
       " 14.0      27\n",
       " 15.0      26\n",
       " 16.0      12\n",
       " 17.0       8\n",
       " 19.0       8\n",
       " 20.0       7\n",
       " 18.0       5\n",
       " 21.0       3\n",
       " 25.0       2\n",
       " 30.0       1\n",
       " 26.0       1\n",
       " 22.0       1\n",
       " 32.0       1\n",
       " 24.0       1\n",
       "Name: inq_last_12m, dtype: int64"
      ]
     },
     "execution_count": 23,
     "metadata": {},
     "output_type": "execute_result"
    }
   ],
   "source": [
    "X.inq_last_12m.value_counts()"
   ]
  },
  {
   "cell_type": "markdown",
   "id": "72f9c5f7-2c95-4f11-b07d-5d2c31f80aff",
   "metadata": {},
   "source": [
    "It seems reasonable to impute 0 for missing ones since the reasonable conclusion of no data on inquiries in the last 12 months is that there were zero. We have a fwe entries that are -4. That obviously isn't reasonable since you can't have negative inquiries. We can try to see what those say for inquiries in the last 6 months."
   ]
  },
  {
   "cell_type": "code",
   "execution_count": 24,
   "id": "130c2ec7-dc6a-48f0-8015-3a8fae8dea61",
   "metadata": {},
   "outputs": [
    {
     "data": {
      "text/plain": [
       "0.0    1365\n",
       "Name: inq_last_6mths, dtype: int64"
      ]
     },
     "execution_count": 24,
     "metadata": {},
     "output_type": "execute_result"
    }
   ],
   "source": [
    "X[X.inq_last_12m==-4].inq_last_6mths.value_counts()"
   ]
  },
  {
   "cell_type": "markdown",
   "id": "f3d0c573-7f67-41cf-8b44-612840317224",
   "metadata": {},
   "source": [
    "All 1365 had none in the last 6 months. So we will replace those with 0 as well. We will replace all missing and negative entries in the training and test data with 0"
   ]
  },
  {
   "cell_type": "code",
   "execution_count": 25,
   "id": "31a24331-714c-49be-9fd6-1878da275b64",
   "metadata": {},
   "outputs": [],
   "source": [
    "X.inq_last_12m=X.inq_last_12m.replace(-4,0)\n",
    "X.inq_last_12m.fillna(0,inplace=True)"
   ]
  },
  {
   "cell_type": "code",
   "execution_count": 26,
   "id": "d48760e0-3dd1-4017-b1b8-286eb13048fb",
   "metadata": {},
   "outputs": [
    {
     "data": {
      "text/plain": [
       "0.0     870982\n",
       "1.0       5011\n",
       "2.0       3728\n",
       "3.0       2576\n",
       "4.0       1681\n",
       "5.0        987\n",
       "6.0        664\n",
       "7.0        424\n",
       "8.0        272\n",
       "9.0        143\n",
       "10.0       112\n",
       "11.0        73\n",
       "12.0        57\n",
       "13.0        55\n",
       "14.0        27\n",
       "15.0        26\n",
       "16.0        12\n",
       "19.0         8\n",
       "17.0         8\n",
       "20.0         7\n",
       "18.0         5\n",
       "21.0         3\n",
       "25.0         2\n",
       "26.0         1\n",
       "30.0         1\n",
       "22.0         1\n",
       "32.0         1\n",
       "24.0         1\n",
       "Name: inq_last_12m, dtype: int64"
      ]
     },
     "execution_count": 26,
     "metadata": {},
     "output_type": "execute_result"
    }
   ],
   "source": [
    "X.inq_last_12m.value_counts()"
   ]
  },
  {
   "cell_type": "code",
   "execution_count": 27,
   "id": "1360a52a-9e5e-45a4-a7fa-519261fb30e9",
   "metadata": {},
   "outputs": [],
   "source": [
    "X_test.inq_last_12m.fillna(0,inplace=True)\n",
    "#There were no negative values in the test data so we didn't have to worry about that."
   ]
  },
  {
   "cell_type": "code",
   "execution_count": 32,
   "id": "b170fc4e-83fc-4cd1-aca9-5c1c0d346803",
   "metadata": {},
   "outputs": [
    {
     "data": {
      "text/plain": [
       "Index(['emp_title', 'emp_length', 'annual_inc', 'desc', 'title', 'delinq_2yrs',\n",
       "       'earliest_cr_line', 'inq_last_6mths', 'mths_since_last_delinq',\n",
       "       'mths_since_last_record', 'open_acc', 'pub_rec', 'revol_util',\n",
       "       'total_acc', 'last_pymnt_d', 'next_pymnt_d', 'last_credit_pull_d',\n",
       "       'collections_12_mths_ex_med', 'mths_since_last_major_derog',\n",
       "       'acc_now_delinq', 'tot_coll_amt', 'tot_cur_bal', 'open_acc_6m',\n",
       "       'open_il_6m', 'open_il_12m', 'open_il_24m', 'mths_since_rcnt_il',\n",
       "       'total_bal_il', 'il_util', 'open_rv_12m', 'open_rv_24m', 'max_bal_bc',\n",
       "       'all_util', 'total_rev_hi_lim', 'inq_fi', 'total_cu_tl',\n",
       "       'inq_last_12m'],\n",
       "      dtype='object')"
      ]
     },
     "execution_count": 32,
     "metadata": {},
     "output_type": "execute_result"
    }
   ],
   "source": [
    "missing[missing['count']>0].index"
   ]
  },
  {
   "cell_type": "code",
   "execution_count": 34,
   "id": "566e5e90-030e-4f62-a5e2-008143e4bd90",
   "metadata": {},
   "outputs": [
    {
     "data": {
      "text/plain": [
       "count    8.868640e+05\n",
       "mean     7.503702e+04\n",
       "std      6.471049e+04\n",
       "min      1.896000e+03\n",
       "25%      4.500000e+04\n",
       "50%      6.500000e+04\n",
       "75%      9.000000e+04\n",
       "max      9.500000e+06\n",
       "Name: annual_inc, dtype: float64"
      ]
     },
     "execution_count": 34,
     "metadata": {},
     "output_type": "execute_result"
    }
   ],
   "source": [
    "X.annual_inc.describe()"
   ]
  },
  {
   "cell_type": "markdown",
   "id": "700003c7-c241-4583-90a3-7ad743922767",
   "metadata": {},
   "source": [
    "We only had a few missing annual incomes. We will simply use the median of the test data (65000) for those"
   ]
  },
  {
   "cell_type": "code",
   "execution_count": 36,
   "id": "b94ad870-68be-4361-abb4-d418868c1e59",
   "metadata": {},
   "outputs": [],
   "source": [
    "X.annual_inc.fillna(65000,inplace=True)\n",
    "X_test.annual_inc.fillna(65000,inplace=True)"
   ]
  },
  {
   "cell_type": "code",
   "execution_count": 37,
   "id": "9991d165-4158-4764-b780-8fcb5aaed940",
   "metadata": {},
   "outputs": [
    {
     "data": {
      "text/plain": [
       "Teacher                                   13453\n",
       "Manager                                   11233\n",
       "Registered Nurse                           5521\n",
       "Owner                                      5375\n",
       "RN                                         5352\n",
       "                                          ...  \n",
       "The Sams Clinic                               1\n",
       "Annalect Group                                1\n",
       "Coast Composites                              1\n",
       "Antelope Valley Union High School Dist        1\n",
       "Manager Hotel Operations Oasis                1\n",
       "Name: emp_title, Length: 299159, dtype: int64"
      ]
     },
     "execution_count": 37,
     "metadata": {},
     "output_type": "execute_result"
    }
   ],
   "source": [
    "X.emp_title.value_counts()"
   ]
  },
  {
   "cell_type": "markdown",
   "id": "5311b64e-1790-45b5-be40-017b5116a636",
   "metadata": {},
   "source": [
    "We will replace missing values of title as 'other'"
   ]
  },
  {
   "cell_type": "code",
   "execution_count": 39,
   "id": "a6fda35b-4dd1-4f29-911b-27848067f276",
   "metadata": {},
   "outputs": [],
   "source": [
    "X.emp_title.fillna('other',inplace=True)\n",
    "X_test.emp_title.fillna('other',inplace=True)"
   ]
  },
  {
   "cell_type": "code",
   "execution_count": 40,
   "id": "02016097-45b9-4a6e-98e2-43f498a15626",
   "metadata": {},
   "outputs": [
    {
     "data": {
      "text/plain": [
       "10+ years    291403\n",
       "2 years       78833\n",
       "< 1 year      70559\n",
       "3 years       69994\n",
       "1 year        57064\n",
       "5 years       55686\n",
       "4 years       52496\n",
       "7 years       44576\n",
       "8 years       43930\n",
       "6 years       42928\n",
       "9 years       34635\n",
       "Name: emp_length, dtype: int64"
      ]
     },
     "execution_count": 40,
     "metadata": {},
     "output_type": "execute_result"
    }
   ],
   "source": [
    "X.emp_length.value_counts()"
   ]
  },
  {
   "cell_type": "code",
   "execution_count": 41,
   "id": "814cadf0-2926-41be-bdea-3866b8dd04cb",
   "metadata": {},
   "outputs": [
    {
     "data": {
      "text/plain": [
       "array(['10+ years', '< 1 year', '1 year', '3 years', '8 years', '9 years',\n",
       "       '4 years', '5 years', '6 years', '2 years', '7 years', nan],\n",
       "      dtype=object)"
      ]
     },
     "execution_count": 41,
     "metadata": {},
     "output_type": "execute_result"
    }
   ],
   "source": [
    "X.emp_length.unique()"
   ]
  },
  {
   "cell_type": "markdown",
   "id": "cf484f75-5cbc-43fc-b283-74b25cceef75",
   "metadata": {},
   "source": [
    "We want to try to find roughly the median employement length. This is only going to be rough because we have categories of < 1 year and 10+ years\n",
    "Roughly half the values are at 6 years or below and half at 7 years and above. For now we will try using 7 years"
   ]
  },
  {
   "cell_type": "code",
   "execution_count": 65,
   "id": "0e8a1e02-b607-478a-bf1d-c3449d11e2a1",
   "metadata": {},
   "outputs": [],
   "source": [
    "X.emp_length.fillna('7 years',inplace=True)\n",
    "X_test.emp_length.fillna('7 years',inplace=True)"
   ]
  },
  {
   "cell_type": "code",
   "execution_count": 66,
   "id": "3fa7dd6d-a99f-4a53-aff2-9bab99094580",
   "metadata": {},
   "outputs": [
    {
     "data": {
      "text/plain": [
       "10+ years    291403\n",
       "7 years       89340\n",
       "2 years       78833\n",
       "< 1 year      70559\n",
       "3 years       69994\n",
       "1 year        57064\n",
       "5 years       55686\n",
       "4 years       52496\n",
       "8 years       43930\n",
       "6 years       42928\n",
       "9 years       34635\n",
       "Name: emp_length, dtype: int64"
      ]
     },
     "execution_count": 66,
     "metadata": {},
     "output_type": "execute_result"
    }
   ],
   "source": [
    "X.emp_length.value_counts()"
   ]
  },
  {
   "cell_type": "code",
   "execution_count": null,
   "id": "3dd91ac2-5723-4bd4-971d-6d6b455b8a29",
   "metadata": {},
   "outputs": [],
   "source": []
  }
 ],
 "metadata": {
  "kernelspec": {
   "display_name": "Python 3 (ipykernel)",
   "language": "python",
   "name": "python3"
  },
  "language_info": {
   "codemirror_mode": {
    "name": "ipython",
    "version": 3
   },
   "file_extension": ".py",
   "mimetype": "text/x-python",
   "name": "python",
   "nbconvert_exporter": "python",
   "pygments_lexer": "ipython3",
   "version": "3.9.7"
  }
 },
 "nbformat": 4,
 "nbformat_minor": 5
}
