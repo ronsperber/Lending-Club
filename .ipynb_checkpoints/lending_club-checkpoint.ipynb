{
 "cells": [
  {
   "cell_type": "markdown",
   "id": "3ad8c4b1-18e7-4b5c-ba17-2524e301e95f",
   "metadata": {
    "tags": []
   },
   "source": [
    "## Data Wrangling/Cleaning"
   ]
  },
  {
   "cell_type": "code",
   "execution_count": 1,
   "id": "5827f015-28c0-46f1-8ca6-7f968a642dba",
   "metadata": {},
   "outputs": [],
   "source": [
    "#import basic needed libraries\n",
    "import numpy as np\n",
    "import pandas as pd\n",
    "import matplotlib.pyplot as plt\n",
    "import seaborn as sns\n",
    "import datetime"
   ]
  },
  {
   "cell_type": "code",
   "execution_count": 2,
   "id": "55d0bcbe-cb86-4060-9571-3b7cd7c0c637",
   "metadata": {},
   "outputs": [],
   "source": [
    "#function to provide summary for each column as a dataframe. Thanks to my mentor Ajith Patnaik \n",
    "#for providing this code\n",
    "def univariate_analysis(df):\n",
    "    \"\"\"\n",
    "\n",
    "    :param df: pd.Dataframe containing all the attributes needed\n",
    "    :return: Dataframe with summary statistics\n",
    "    \"\"\"\n",
    "    df_copy = df.copy()\n",
    "    row_count = df_copy.shape[0]\n",
    "    dtype = df_copy.dtypes.reset_index()\n",
    "    dtype_df= dtype.rename(columns = {'index': 'Column Name', 0: 'Dtype'})\n",
    "    count_dict, describe_dict = dict(), dict()\n",
    "    for idx, row in dtype_df.iterrows():\n",
    "        col_data = df_copy[row['Column Name']]\n",
    "        null_count = col_data.isnull().sum()\n",
    "        zero_count = col_data[col_data == 0].shape[0]\n",
    "        non_zero_count = row_count - null_count - zero_count\n",
    "        s = df_copy[row['Column Name']].value_counts(dropna = False)\n",
    "        unique,largest = s.shape[0], s.nlargest(n=1, keep='first')\n",
    "        top, Freq = largest.index[0], largest.values[0]\n",
    "        count_dict[row['Column Name']] = {'Non-Zero Count': non_zero_count, 'Null Count': null_count,\n",
    "                                          'Zero Count': zero_count, 'Unique': unique, 'Top Value': top,\n",
    "                                          'Top Freq': Freq}\n",
    "        col_data_noNa = col_data.dropna()\n",
    "        ser_sum = col_data_noNa.describe(percentiles=[0.01,0.05,0.1,0.25,0.5,0.75,0.9,0.95,0.99])\n",
    "        if col_data.dtype != 'object':\n",
    "            ser_sum = np.round(ser_sum, decimals=4)\n",
    "        describe_dict[row['Column Name']] = ser_sum.to_dict()\n",
    "    count_df = pd.DataFrame.from_dict(count_dict, orient='index').reset_index().rename(columns={'index': 'Column Name'})\n",
    "    describe_df = pd.DataFrame.from_dict(describe_dict, orient='index').reset_index().rename(columns={'index': 'Column Name'})\n",
    "    if 'top' in describe_df.columns.tolist():\n",
    "        describe_df = describe_df.drop(['top', 'unique', 'freq'], axis=1)\n",
    "    merge_df = pd.merge(dtype_df, count_df, on='Column Name')\n",
    "    final_df = pd.merge(merge_df, describe_df, on='Column Name')\n",
    "    return final_df"
   ]
  },
  {
   "cell_type": "code",
   "execution_count": 3,
   "id": "44591ff6-4a4c-4e15-a2eb-17bab5aec978",
   "metadata": {},
   "outputs": [],
   "source": [
    "#read in the data\n",
    "\n",
    "#training data\n",
    "df=pd.read_csv('lc_loan.csv/lc_loan.csv',low_memory=False)\n",
    "\n",
    "#test data\n",
    "df2=pd.read_csv('lc_2016_2017.csv/lc_2016_2017.csv',low_memory=False)"
   ]
  },
  {
   "cell_type": "code",
   "execution_count": 4,
   "id": "6a436b4d-7891-48bc-86e9-5f2e11d1d2e2",
   "metadata": {},
   "outputs": [],
   "source": [
    "df_stats=univariate_analysis(df)"
   ]
  },
  {
   "cell_type": "code",
   "execution_count": 5,
   "id": "c6bb49b7-be9c-4f0e-95ac-bf5415eccab5",
   "metadata": {},
   "outputs": [
    {
     "data": {
      "text/html": [
       "<div>\n",
       "<style scoped>\n",
       "    .dataframe tbody tr th:only-of-type {\n",
       "        vertical-align: middle;\n",
       "    }\n",
       "\n",
       "    .dataframe tbody tr th {\n",
       "        vertical-align: top;\n",
       "    }\n",
       "\n",
       "    .dataframe thead th {\n",
       "        text-align: right;\n",
       "    }\n",
       "</style>\n",
       "<table border=\"1\" class=\"dataframe\">\n",
       "  <thead>\n",
       "    <tr style=\"text-align: right;\">\n",
       "      <th></th>\n",
       "      <th>Column Name</th>\n",
       "      <th>Dtype</th>\n",
       "      <th>Non-Zero Count</th>\n",
       "      <th>Null Count</th>\n",
       "      <th>Zero Count</th>\n",
       "      <th>Unique</th>\n",
       "      <th>Top Value</th>\n",
       "      <th>Top Freq</th>\n",
       "      <th>count</th>\n",
       "      <th>mean</th>\n",
       "      <th>...</th>\n",
       "      <th>1%</th>\n",
       "      <th>5%</th>\n",
       "      <th>10%</th>\n",
       "      <th>25%</th>\n",
       "      <th>50%</th>\n",
       "      <th>75%</th>\n",
       "      <th>90%</th>\n",
       "      <th>95%</th>\n",
       "      <th>99%</th>\n",
       "      <th>max</th>\n",
       "    </tr>\n",
       "  </thead>\n",
       "  <tbody>\n",
       "    <tr>\n",
       "      <th>0</th>\n",
       "      <td>id</td>\n",
       "      <td>int64</td>\n",
       "      <td>887379</td>\n",
       "      <td>0</td>\n",
       "      <td>0</td>\n",
       "      <td>887379</td>\n",
       "      <td>1077501</td>\n",
       "      <td>1</td>\n",
       "      <td>887379.0</td>\n",
       "      <td>3.246513e+07</td>\n",
       "      <td>...</td>\n",
       "      <td>476445.9</td>\n",
       "      <td>1090262.7</td>\n",
       "      <td>1944971.8</td>\n",
       "      <td>9206643.0</td>\n",
       "      <td>34433267.0</td>\n",
       "      <td>54908135.0</td>\n",
       "      <td>63285441.4</td>\n",
       "      <td>65754792.2</td>\n",
       "      <td>67819908.22</td>\n",
       "      <td>68617057.0</td>\n",
       "    </tr>\n",
       "    <tr>\n",
       "      <th>1</th>\n",
       "      <td>member_id</td>\n",
       "      <td>int64</td>\n",
       "      <td>887379</td>\n",
       "      <td>0</td>\n",
       "      <td>0</td>\n",
       "      <td>887379</td>\n",
       "      <td>1296599</td>\n",
       "      <td>1</td>\n",
       "      <td>887379.0</td>\n",
       "      <td>3.500182e+07</td>\n",
       "      <td>...</td>\n",
       "      <td>601782.5</td>\n",
       "      <td>1317185.3</td>\n",
       "      <td>1988500.6</td>\n",
       "      <td>10877133.5</td>\n",
       "      <td>37095283.0</td>\n",
       "      <td>58471347.0</td>\n",
       "      <td>67597478.6</td>\n",
       "      <td>70387497.7</td>\n",
       "      <td>72678208.52</td>\n",
       "      <td>73544841.0</td>\n",
       "    </tr>\n",
       "    <tr>\n",
       "      <th>2</th>\n",
       "      <td>loan_amnt</td>\n",
       "      <td>float64</td>\n",
       "      <td>887379</td>\n",
       "      <td>0</td>\n",
       "      <td>0</td>\n",
       "      <td>1372</td>\n",
       "      <td>10000.0</td>\n",
       "      <td>61837</td>\n",
       "      <td>887379.0</td>\n",
       "      <td>1.475526e+04</td>\n",
       "      <td>...</td>\n",
       "      <td>1800.0</td>\n",
       "      <td>3600.0</td>\n",
       "      <td>5000.0</td>\n",
       "      <td>8000.0</td>\n",
       "      <td>13000.0</td>\n",
       "      <td>20000.0</td>\n",
       "      <td>28000.0</td>\n",
       "      <td>32000.0</td>\n",
       "      <td>35000.00</td>\n",
       "      <td>35000.0</td>\n",
       "    </tr>\n",
       "    <tr>\n",
       "      <th>3</th>\n",
       "      <td>funded_amnt</td>\n",
       "      <td>float64</td>\n",
       "      <td>887379</td>\n",
       "      <td>0</td>\n",
       "      <td>0</td>\n",
       "      <td>1372</td>\n",
       "      <td>10000.0</td>\n",
       "      <td>61744</td>\n",
       "      <td>887379.0</td>\n",
       "      <td>1.474188e+04</td>\n",
       "      <td>...</td>\n",
       "      <td>1800.0</td>\n",
       "      <td>3600.0</td>\n",
       "      <td>5000.0</td>\n",
       "      <td>8000.0</td>\n",
       "      <td>13000.0</td>\n",
       "      <td>20000.0</td>\n",
       "      <td>27975.0</td>\n",
       "      <td>32000.0</td>\n",
       "      <td>35000.00</td>\n",
       "      <td>35000.0</td>\n",
       "    </tr>\n",
       "    <tr>\n",
       "      <th>4</th>\n",
       "      <td>funded_amnt_inv</td>\n",
       "      <td>float64</td>\n",
       "      <td>887146</td>\n",
       "      <td>0</td>\n",
       "      <td>233</td>\n",
       "      <td>9856</td>\n",
       "      <td>10000.0</td>\n",
       "      <td>56111</td>\n",
       "      <td>887379.0</td>\n",
       "      <td>1.470246e+04</td>\n",
       "      <td>...</td>\n",
       "      <td>1600.0</td>\n",
       "      <td>3500.0</td>\n",
       "      <td>5000.0</td>\n",
       "      <td>8000.0</td>\n",
       "      <td>13000.0</td>\n",
       "      <td>20000.0</td>\n",
       "      <td>27800.0</td>\n",
       "      <td>32000.0</td>\n",
       "      <td>35000.00</td>\n",
       "      <td>35000.0</td>\n",
       "    </tr>\n",
       "  </tbody>\n",
       "</table>\n",
       "<p>5 rows × 22 columns</p>\n",
       "</div>"
      ],
      "text/plain": [
       "       Column Name    Dtype  Non-Zero Count  Null Count  Zero Count  Unique  \\\n",
       "0               id    int64          887379           0           0  887379   \n",
       "1        member_id    int64          887379           0           0  887379   \n",
       "2        loan_amnt  float64          887379           0           0    1372   \n",
       "3      funded_amnt  float64          887379           0           0    1372   \n",
       "4  funded_amnt_inv  float64          887146           0         233    9856   \n",
       "\n",
       "  Top Value  Top Freq     count          mean  ...        1%         5%  \\\n",
       "0   1077501         1  887379.0  3.246513e+07  ...  476445.9  1090262.7   \n",
       "1   1296599         1  887379.0  3.500182e+07  ...  601782.5  1317185.3   \n",
       "2   10000.0     61837  887379.0  1.475526e+04  ...    1800.0     3600.0   \n",
       "3   10000.0     61744  887379.0  1.474188e+04  ...    1800.0     3600.0   \n",
       "4   10000.0     56111  887379.0  1.470246e+04  ...    1600.0     3500.0   \n",
       "\n",
       "         10%         25%         50%         75%         90%         95%  \\\n",
       "0  1944971.8   9206643.0  34433267.0  54908135.0  63285441.4  65754792.2   \n",
       "1  1988500.6  10877133.5  37095283.0  58471347.0  67597478.6  70387497.7   \n",
       "2     5000.0      8000.0     13000.0     20000.0     28000.0     32000.0   \n",
       "3     5000.0      8000.0     13000.0     20000.0     27975.0     32000.0   \n",
       "4     5000.0      8000.0     13000.0     20000.0     27800.0     32000.0   \n",
       "\n",
       "           99%         max  \n",
       "0  67819908.22  68617057.0  \n",
       "1  72678208.52  73544841.0  \n",
       "2     35000.00     35000.0  \n",
       "3     35000.00     35000.0  \n",
       "4     35000.00     35000.0  \n",
       "\n",
       "[5 rows x 22 columns]"
      ]
     },
     "execution_count": 5,
     "metadata": {},
     "output_type": "execute_result"
    }
   ],
   "source": [
    "df_stats.head()"
   ]
  },
  {
   "cell_type": "code",
   "execution_count": 6,
   "id": "695fca11-1dc9-48db-9136-68d4e6f88af0",
   "metadata": {},
   "outputs": [],
   "source": [
    "#Write this to an excel file\n",
    "df_stats.to_excel(\"dfstats.xlsx\")"
   ]
  },
  {
   "cell_type": "markdown",
   "id": "2f33bee6-3c6c-4257-b6ab-6d1ed34a4b07",
   "metadata": {},
   "source": [
    "After writing this to a file we used that information to start an approach to cleaning and feature engineering"
   ]
  },
  {
   "cell_type": "code",
   "execution_count": 7,
   "id": "e65512a5-5c73-40e8-a9a1-d3378bdf53a4",
   "metadata": {},
   "outputs": [],
   "source": [
    "#Make new dataframes that we can clean while keeping the old ones in case\n",
    "#we need something from them deleted initially\n",
    "train_ids=df['id']\n",
    "test_ids=df2['id']\n",
    "#drop ids from test and train data \n",
    "X=df.drop(columns=['id','member_id'])\n",
    "X2=df2.drop(columns=['id','member_id'])\n"
   ]
  },
  {
   "cell_type": "code",
   "execution_count": 8,
   "id": "7a063c93-038d-4355-a174-9f61af8840b3",
   "metadata": {},
   "outputs": [
    {
     "data": {
      "text/html": [
       "<div>\n",
       "<style scoped>\n",
       "    .dataframe tbody tr th:only-of-type {\n",
       "        vertical-align: middle;\n",
       "    }\n",
       "\n",
       "    .dataframe tbody tr th {\n",
       "        vertical-align: top;\n",
       "    }\n",
       "\n",
       "    .dataframe thead th {\n",
       "        text-align: right;\n",
       "    }\n",
       "</style>\n",
       "<table border=\"1\" class=\"dataframe\">\n",
       "  <thead>\n",
       "    <tr style=\"text-align: right;\">\n",
       "      <th></th>\n",
       "      <th>Column Name</th>\n",
       "      <th>Dtype</th>\n",
       "      <th>Non-Zero Count</th>\n",
       "      <th>Null Count</th>\n",
       "      <th>Zero Count</th>\n",
       "      <th>Unique</th>\n",
       "      <th>Top Value</th>\n",
       "      <th>Top Freq</th>\n",
       "      <th>count</th>\n",
       "      <th>mean</th>\n",
       "      <th>...</th>\n",
       "      <th>1%</th>\n",
       "      <th>5%</th>\n",
       "      <th>10%</th>\n",
       "      <th>25%</th>\n",
       "      <th>50%</th>\n",
       "      <th>75%</th>\n",
       "      <th>90%</th>\n",
       "      <th>95%</th>\n",
       "      <th>99%</th>\n",
       "      <th>max</th>\n",
       "    </tr>\n",
       "  </thead>\n",
       "  <tbody>\n",
       "    <tr>\n",
       "      <th>54</th>\n",
       "      <td>dti_joint</td>\n",
       "      <td>float64</td>\n",
       "      <td>509</td>\n",
       "      <td>886870</td>\n",
       "      <td>0</td>\n",
       "      <td>450</td>\n",
       "      <td>NaN</td>\n",
       "      <td>886870</td>\n",
       "      <td>509.0</td>\n",
       "      <td>18.3101</td>\n",
       "      <td>...</td>\n",
       "      <td>4.0256</td>\n",
       "      <td>7.492</td>\n",
       "      <td>9.558</td>\n",
       "      <td>13.2</td>\n",
       "      <td>17.61</td>\n",
       "      <td>22.65</td>\n",
       "      <td>28.606</td>\n",
       "      <td>31.198</td>\n",
       "      <td>35.4356</td>\n",
       "      <td>43.86</td>\n",
       "    </tr>\n",
       "    <tr>\n",
       "      <th>53</th>\n",
       "      <td>annual_inc_joint</td>\n",
       "      <td>float64</td>\n",
       "      <td>511</td>\n",
       "      <td>886868</td>\n",
       "      <td>0</td>\n",
       "      <td>309</td>\n",
       "      <td>NaN</td>\n",
       "      <td>886868</td>\n",
       "      <td>511.0</td>\n",
       "      <td>109981.0116</td>\n",
       "      <td>...</td>\n",
       "      <td>29779.2000</td>\n",
       "      <td>47488.000</td>\n",
       "      <td>56000.000</td>\n",
       "      <td>76032.5</td>\n",
       "      <td>101771.00</td>\n",
       "      <td>132800.00</td>\n",
       "      <td>175000.000</td>\n",
       "      <td>190650.000</td>\n",
       "      <td>270000.0000</td>\n",
       "      <td>500000.00</td>\n",
       "    </tr>\n",
       "    <tr>\n",
       "      <th>55</th>\n",
       "      <td>verification_status_joint</td>\n",
       "      <td>object</td>\n",
       "      <td>511</td>\n",
       "      <td>886868</td>\n",
       "      <td>0</td>\n",
       "      <td>4</td>\n",
       "      <td>NaN</td>\n",
       "      <td>886868</td>\n",
       "      <td>511.0</td>\n",
       "      <td>NaN</td>\n",
       "      <td>...</td>\n",
       "      <td>NaN</td>\n",
       "      <td>NaN</td>\n",
       "      <td>NaN</td>\n",
       "      <td>NaN</td>\n",
       "      <td>NaN</td>\n",
       "      <td>NaN</td>\n",
       "      <td>NaN</td>\n",
       "      <td>NaN</td>\n",
       "      <td>NaN</td>\n",
       "      <td>NaN</td>\n",
       "    </tr>\n",
       "    <tr>\n",
       "      <th>65</th>\n",
       "      <td>il_util</td>\n",
       "      <td>float64</td>\n",
       "      <td>18479</td>\n",
       "      <td>868762</td>\n",
       "      <td>138</td>\n",
       "      <td>1273</td>\n",
       "      <td>NaN</td>\n",
       "      <td>868762</td>\n",
       "      <td>18617.0</td>\n",
       "      <td>71.5353</td>\n",
       "      <td>...</td>\n",
       "      <td>5.2000</td>\n",
       "      <td>27.800</td>\n",
       "      <td>40.360</td>\n",
       "      <td>58.6</td>\n",
       "      <td>74.90</td>\n",
       "      <td>87.60</td>\n",
       "      <td>96.800</td>\n",
       "      <td>100.700</td>\n",
       "      <td>117.4840</td>\n",
       "      <td>223.30</td>\n",
       "    </tr>\n",
       "    <tr>\n",
       "      <th>63</th>\n",
       "      <td>mths_since_rcnt_il</td>\n",
       "      <td>float64</td>\n",
       "      <td>20797</td>\n",
       "      <td>866569</td>\n",
       "      <td>13</td>\n",
       "      <td>202</td>\n",
       "      <td>NaN</td>\n",
       "      <td>866569</td>\n",
       "      <td>20810.0</td>\n",
       "      <td>20.9127</td>\n",
       "      <td>...</td>\n",
       "      <td>1.0000</td>\n",
       "      <td>2.000</td>\n",
       "      <td>3.000</td>\n",
       "      <td>6.0</td>\n",
       "      <td>12.00</td>\n",
       "      <td>23.00</td>\n",
       "      <td>48.000</td>\n",
       "      <td>83.000</td>\n",
       "      <td>134.0000</td>\n",
       "      <td>363.00</td>\n",
       "    </tr>\n",
       "    <tr>\n",
       "      <th>59</th>\n",
       "      <td>open_acc_6m</td>\n",
       "      <td>float64</td>\n",
       "      <td>13126</td>\n",
       "      <td>866007</td>\n",
       "      <td>8246</td>\n",
       "      <td>14</td>\n",
       "      <td>NaN</td>\n",
       "      <td>866007</td>\n",
       "      <td>21372.0</td>\n",
       "      <td>1.1090</td>\n",
       "      <td>...</td>\n",
       "      <td>0.0000</td>\n",
       "      <td>0.000</td>\n",
       "      <td>0.000</td>\n",
       "      <td>0.0</td>\n",
       "      <td>1.00</td>\n",
       "      <td>2.00</td>\n",
       "      <td>3.000</td>\n",
       "      <td>3.000</td>\n",
       "      <td>5.0000</td>\n",
       "      <td>14.00</td>\n",
       "    </tr>\n",
       "    <tr>\n",
       "      <th>60</th>\n",
       "      <td>open_il_6m</td>\n",
       "      <td>float64</td>\n",
       "      <td>19058</td>\n",
       "      <td>866007</td>\n",
       "      <td>2314</td>\n",
       "      <td>36</td>\n",
       "      <td>NaN</td>\n",
       "      <td>866007</td>\n",
       "      <td>21372.0</td>\n",
       "      <td>2.9288</td>\n",
       "      <td>...</td>\n",
       "      <td>0.0000</td>\n",
       "      <td>0.000</td>\n",
       "      <td>0.000</td>\n",
       "      <td>1.0</td>\n",
       "      <td>2.00</td>\n",
       "      <td>4.00</td>\n",
       "      <td>6.000</td>\n",
       "      <td>9.000</td>\n",
       "      <td>16.0000</td>\n",
       "      <td>40.00</td>\n",
       "    </tr>\n",
       "    <tr>\n",
       "      <th>61</th>\n",
       "      <td>open_il_12m</td>\n",
       "      <td>float64</td>\n",
       "      <td>10566</td>\n",
       "      <td>866007</td>\n",
       "      <td>10806</td>\n",
       "      <td>13</td>\n",
       "      <td>NaN</td>\n",
       "      <td>866007</td>\n",
       "      <td>21372.0</td>\n",
       "      <td>0.7617</td>\n",
       "      <td>...</td>\n",
       "      <td>0.0000</td>\n",
       "      <td>0.000</td>\n",
       "      <td>0.000</td>\n",
       "      <td>0.0</td>\n",
       "      <td>0.00</td>\n",
       "      <td>1.00</td>\n",
       "      <td>2.000</td>\n",
       "      <td>3.000</td>\n",
       "      <td>4.0000</td>\n",
       "      <td>12.00</td>\n",
       "    </tr>\n",
       "    <tr>\n",
       "      <th>62</th>\n",
       "      <td>open_il_24m</td>\n",
       "      <td>float64</td>\n",
       "      <td>15891</td>\n",
       "      <td>866007</td>\n",
       "      <td>5481</td>\n",
       "      <td>18</td>\n",
       "      <td>NaN</td>\n",
       "      <td>866007</td>\n",
       "      <td>21372.0</td>\n",
       "      <td>1.6746</td>\n",
       "      <td>...</td>\n",
       "      <td>0.0000</td>\n",
       "      <td>0.000</td>\n",
       "      <td>0.000</td>\n",
       "      <td>0.0</td>\n",
       "      <td>1.00</td>\n",
       "      <td>2.00</td>\n",
       "      <td>4.000</td>\n",
       "      <td>5.000</td>\n",
       "      <td>7.0000</td>\n",
       "      <td>19.00</td>\n",
       "    </tr>\n",
       "    <tr>\n",
       "      <th>64</th>\n",
       "      <td>total_bal_il</td>\n",
       "      <td>float64</td>\n",
       "      <td>19113</td>\n",
       "      <td>866007</td>\n",
       "      <td>2259</td>\n",
       "      <td>17031</td>\n",
       "      <td>NaN</td>\n",
       "      <td>866007</td>\n",
       "      <td>21372.0</td>\n",
       "      <td>36552.8114</td>\n",
       "      <td>...</td>\n",
       "      <td>0.0000</td>\n",
       "      <td>0.000</td>\n",
       "      <td>0.000</td>\n",
       "      <td>10251.5</td>\n",
       "      <td>24684.50</td>\n",
       "      <td>47858.00</td>\n",
       "      <td>81851.100</td>\n",
       "      <td>113323.300</td>\n",
       "      <td>204248.9300</td>\n",
       "      <td>878459.00</td>\n",
       "    </tr>\n",
       "  </tbody>\n",
       "</table>\n",
       "<p>10 rows × 22 columns</p>\n",
       "</div>"
      ],
      "text/plain": [
       "                  Column Name    Dtype  Non-Zero Count  Null Count  \\\n",
       "54                  dti_joint  float64             509      886870   \n",
       "53           annual_inc_joint  float64             511      886868   \n",
       "55  verification_status_joint   object             511      886868   \n",
       "65                    il_util  float64           18479      868762   \n",
       "63         mths_since_rcnt_il  float64           20797      866569   \n",
       "59                open_acc_6m  float64           13126      866007   \n",
       "60                 open_il_6m  float64           19058      866007   \n",
       "61                open_il_12m  float64           10566      866007   \n",
       "62                open_il_24m  float64           15891      866007   \n",
       "64               total_bal_il  float64           19113      866007   \n",
       "\n",
       "    Zero Count  Unique Top Value  Top Freq    count         mean  ...  \\\n",
       "54           0     450       NaN    886870    509.0      18.3101  ...   \n",
       "53           0     309       NaN    886868    511.0  109981.0116  ...   \n",
       "55           0       4       NaN    886868    511.0          NaN  ...   \n",
       "65         138    1273       NaN    868762  18617.0      71.5353  ...   \n",
       "63          13     202       NaN    866569  20810.0      20.9127  ...   \n",
       "59        8246      14       NaN    866007  21372.0       1.1090  ...   \n",
       "60        2314      36       NaN    866007  21372.0       2.9288  ...   \n",
       "61       10806      13       NaN    866007  21372.0       0.7617  ...   \n",
       "62        5481      18       NaN    866007  21372.0       1.6746  ...   \n",
       "64        2259   17031       NaN    866007  21372.0   36552.8114  ...   \n",
       "\n",
       "            1%         5%        10%      25%        50%        75%  \\\n",
       "54      4.0256      7.492      9.558     13.2      17.61      22.65   \n",
       "53  29779.2000  47488.000  56000.000  76032.5  101771.00  132800.00   \n",
       "55         NaN        NaN        NaN      NaN        NaN        NaN   \n",
       "65      5.2000     27.800     40.360     58.6      74.90      87.60   \n",
       "63      1.0000      2.000      3.000      6.0      12.00      23.00   \n",
       "59      0.0000      0.000      0.000      0.0       1.00       2.00   \n",
       "60      0.0000      0.000      0.000      1.0       2.00       4.00   \n",
       "61      0.0000      0.000      0.000      0.0       0.00       1.00   \n",
       "62      0.0000      0.000      0.000      0.0       1.00       2.00   \n",
       "64      0.0000      0.000      0.000  10251.5   24684.50   47858.00   \n",
       "\n",
       "           90%         95%          99%        max  \n",
       "54      28.606      31.198      35.4356      43.86  \n",
       "53  175000.000  190650.000  270000.0000  500000.00  \n",
       "55         NaN         NaN          NaN        NaN  \n",
       "65      96.800     100.700     117.4840     223.30  \n",
       "63      48.000      83.000     134.0000     363.00  \n",
       "59       3.000       3.000       5.0000      14.00  \n",
       "60       6.000       9.000      16.0000      40.00  \n",
       "61       2.000       3.000       4.0000      12.00  \n",
       "62       4.000       5.000       7.0000      19.00  \n",
       "64   81851.100  113323.300  204248.9300  878459.00  \n",
       "\n",
       "[10 rows x 22 columns]"
      ]
     },
     "execution_count": 8,
     "metadata": {},
     "output_type": "execute_result"
    }
   ],
   "source": [
    "#we can see where the most missing values are in the training data\n",
    "df_stats.sort_values('Null Count',ascending=False).head(10)"
   ]
  },
  {
   "cell_type": "code",
   "execution_count": 9,
   "id": "2f44e514-3598-4756-a580-d5ecfe13fbdb",
   "metadata": {},
   "outputs": [
    {
     "name": "stdout",
     "output_type": "stream",
     "text": [
      "INDIVIDUAL    886868\n",
      "JOINT            511\n",
      "Name: application_type, dtype: int64\n",
      "Individual    725335\n",
      "Joint App      34003\n",
      "Name: application_type, dtype: int64\n"
     ]
    }
   ],
   "source": [
    "#We can see that there are many missing values related to joint applications\n",
    "print(X.application_type.value_counts())\n",
    "print(X2.application_type.value_counts())"
   ]
  },
  {
   "cell_type": "code",
   "execution_count": 10,
   "id": "648fa0a7-624b-4067-a9e6-b5cfac70a937",
   "metadata": {},
   "outputs": [
    {
     "data": {
      "text/plain": [
       "INDIVIDUAL    725335\n",
       "JOINT          34003\n",
       "Name: application_type, dtype: int64"
      ]
     },
     "execution_count": 10,
     "metadata": {},
     "output_type": "execute_result"
    }
   ],
   "source": [
    "#For future potential use we change these so they are the same values in both\n",
    "X2.application_type.replace({\"Individual\": \"INDIVIDUAL\", \"Joint App\": \"JOINT\"},inplace=True)\n",
    "X2.application_type.value_counts()"
   ]
  },
  {
   "cell_type": "markdown",
   "id": "04fc9063-da11-44de-8c1f-870602103e86",
   "metadata": {},
   "source": [
    "There are 3 other columns related to joint applications. We will try to combine these with the equivalent columns for non-joint applications\n"
   ]
  },
  {
   "cell_type": "code",
   "execution_count": 11,
   "id": "1ed94796-2169-47a6-93ba-5079fb99d9bb",
   "metadata": {},
   "outputs": [
    {
     "name": "stdout",
     "output_type": "stream",
     "text": [
      "JOINT    509\n",
      "Name: application_type, dtype: int64\n",
      "JOINT    511\n",
      "Name: application_type, dtype: int64\n",
      "JOINT    511\n",
      "Name: application_type, dtype: int64\n"
     ]
    }
   ],
   "source": [
    "#We want to verify that the missing data in the joint features are only for individual applications\n",
    "print(X[X.dti_joint.notnull()].application_type.value_counts())\n",
    "print(X[X.annual_inc_joint.notnull()].application_type.value_counts())\n",
    "print(X[X.verification_status_joint.notnull()].application_type.value_counts())"
   ]
  },
  {
   "cell_type": "markdown",
   "id": "c72451da-1481-4ac8-adca-e08a887e0004",
   "metadata": {},
   "source": [
    "For any missing of these we simply will copy the non-joint versions of these for now"
   ]
  },
  {
   "cell_type": "code",
   "execution_count": 12,
   "id": "3cabe89a-ac1e-4870-900c-42704be70d44",
   "metadata": {},
   "outputs": [],
   "source": [
    "X.dti_joint.fillna(X.dti,inplace=True)\n",
    "X.annual_inc_joint.fillna(X.annual_inc,inplace=True)\n",
    "X.verification_status_joint.fillna(X.verification_status,inplace=True)"
   ]
  },
  {
   "cell_type": "code",
   "execution_count": 13,
   "id": "2df61fa6-98f3-4e43-91cc-b0788a3af3d9",
   "metadata": {},
   "outputs": [
    {
     "data": {
      "text/html": [
       "<div>\n",
       "<style scoped>\n",
       "    .dataframe tbody tr th:only-of-type {\n",
       "        vertical-align: middle;\n",
       "    }\n",
       "\n",
       "    .dataframe tbody tr th {\n",
       "        vertical-align: top;\n",
       "    }\n",
       "\n",
       "    .dataframe thead th {\n",
       "        text-align: right;\n",
       "    }\n",
       "</style>\n",
       "<table border=\"1\" class=\"dataframe\">\n",
       "  <thead>\n",
       "    <tr style=\"text-align: right;\">\n",
       "      <th></th>\n",
       "      <th>dti_joint</th>\n",
       "      <th>dti</th>\n",
       "      <th>annual_inc</th>\n",
       "      <th>annual_inc_joint</th>\n",
       "      <th>verification_status</th>\n",
       "      <th>verification_status_joint</th>\n",
       "    </tr>\n",
       "  </thead>\n",
       "  <tbody>\n",
       "    <tr>\n",
       "      <th>466289</th>\n",
       "      <td>13.85</td>\n",
       "      <td>10.78</td>\n",
       "      <td>63000.00</td>\n",
       "      <td>71000.00</td>\n",
       "      <td>Not Verified</td>\n",
       "      <td>Not Verified</td>\n",
       "    </tr>\n",
       "    <tr>\n",
       "      <th>466419</th>\n",
       "      <td>16.40</td>\n",
       "      <td>20.67</td>\n",
       "      <td>75000.00</td>\n",
       "      <td>100000.00</td>\n",
       "      <td>Not Verified</td>\n",
       "      <td>Not Verified</td>\n",
       "    </tr>\n",
       "    <tr>\n",
       "      <th>466741</th>\n",
       "      <td>15.40</td>\n",
       "      <td>17.56</td>\n",
       "      <td>65000.00</td>\n",
       "      <td>77000.00</td>\n",
       "      <td>Source Verified</td>\n",
       "      <td>Not Verified</td>\n",
       "    </tr>\n",
       "    <tr>\n",
       "      <th>466850</th>\n",
       "      <td>22.76</td>\n",
       "      <td>22.70</td>\n",
       "      <td>96000.00</td>\n",
       "      <td>117000.00</td>\n",
       "      <td>Verified</td>\n",
       "      <td>Not Verified</td>\n",
       "    </tr>\n",
       "    <tr>\n",
       "      <th>466914</th>\n",
       "      <td>17.07</td>\n",
       "      <td>46.71</td>\n",
       "      <td>29524.32</td>\n",
       "      <td>94348.32</td>\n",
       "      <td>Verified</td>\n",
       "      <td>Not Verified</td>\n",
       "    </tr>\n",
       "  </tbody>\n",
       "</table>\n",
       "</div>"
      ],
      "text/plain": [
       "        dti_joint    dti  annual_inc  annual_inc_joint verification_status  \\\n",
       "466289      13.85  10.78    63000.00          71000.00        Not Verified   \n",
       "466419      16.40  20.67    75000.00         100000.00        Not Verified   \n",
       "466741      15.40  17.56    65000.00          77000.00     Source Verified   \n",
       "466850      22.76  22.70    96000.00         117000.00            Verified   \n",
       "466914      17.07  46.71    29524.32          94348.32            Verified   \n",
       "\n",
       "       verification_status_joint  \n",
       "466289              Not Verified  \n",
       "466419              Not Verified  \n",
       "466741              Not Verified  \n",
       "466850              Not Verified  \n",
       "466914              Not Verified  "
      ]
     },
     "execution_count": 13,
     "metadata": {},
     "output_type": "execute_result"
    }
   ],
   "source": [
    "X[X.application_type==\"JOINT\"][[\"dti_joint\",\"dti\",\"annual_inc\",\"annual_inc_joint\",\"verification_status\",\"verification_status_joint\"]].head()"
   ]
  },
  {
   "cell_type": "code",
   "execution_count": 14,
   "id": "aefdf519-3554-4d9e-8c6f-7710e09c11a2",
   "metadata": {},
   "outputs": [
    {
     "data": {
      "text/html": [
       "<div>\n",
       "<style scoped>\n",
       "    .dataframe tbody tr th:only-of-type {\n",
       "        vertical-align: middle;\n",
       "    }\n",
       "\n",
       "    .dataframe tbody tr th {\n",
       "        vertical-align: top;\n",
       "    }\n",
       "\n",
       "    .dataframe thead th {\n",
       "        text-align: right;\n",
       "    }\n",
       "</style>\n",
       "<table border=\"1\" class=\"dataframe\">\n",
       "  <thead>\n",
       "    <tr style=\"text-align: right;\">\n",
       "      <th></th>\n",
       "      <th>dti_joint</th>\n",
       "      <th>dti</th>\n",
       "      <th>annual_inc</th>\n",
       "      <th>annual_inc_joint</th>\n",
       "      <th>verification_status</th>\n",
       "      <th>verification_status_joint</th>\n",
       "    </tr>\n",
       "  </thead>\n",
       "  <tbody>\n",
       "    <tr>\n",
       "      <th>0</th>\n",
       "      <td>27.65</td>\n",
       "      <td>27.65</td>\n",
       "      <td>24000.0</td>\n",
       "      <td>24000.0</td>\n",
       "      <td>Verified</td>\n",
       "      <td>Verified</td>\n",
       "    </tr>\n",
       "    <tr>\n",
       "      <th>1</th>\n",
       "      <td>1.00</td>\n",
       "      <td>1.00</td>\n",
       "      <td>30000.0</td>\n",
       "      <td>30000.0</td>\n",
       "      <td>Source Verified</td>\n",
       "      <td>Source Verified</td>\n",
       "    </tr>\n",
       "    <tr>\n",
       "      <th>2</th>\n",
       "      <td>8.72</td>\n",
       "      <td>8.72</td>\n",
       "      <td>12252.0</td>\n",
       "      <td>12252.0</td>\n",
       "      <td>Not Verified</td>\n",
       "      <td>Not Verified</td>\n",
       "    </tr>\n",
       "    <tr>\n",
       "      <th>3</th>\n",
       "      <td>20.00</td>\n",
       "      <td>20.00</td>\n",
       "      <td>49200.0</td>\n",
       "      <td>49200.0</td>\n",
       "      <td>Source Verified</td>\n",
       "      <td>Source Verified</td>\n",
       "    </tr>\n",
       "    <tr>\n",
       "      <th>4</th>\n",
       "      <td>17.94</td>\n",
       "      <td>17.94</td>\n",
       "      <td>80000.0</td>\n",
       "      <td>80000.0</td>\n",
       "      <td>Source Verified</td>\n",
       "      <td>Source Verified</td>\n",
       "    </tr>\n",
       "  </tbody>\n",
       "</table>\n",
       "</div>"
      ],
      "text/plain": [
       "   dti_joint    dti  annual_inc  annual_inc_joint verification_status  \\\n",
       "0      27.65  27.65     24000.0           24000.0            Verified   \n",
       "1       1.00   1.00     30000.0           30000.0     Source Verified   \n",
       "2       8.72   8.72     12252.0           12252.0        Not Verified   \n",
       "3      20.00  20.00     49200.0           49200.0     Source Verified   \n",
       "4      17.94  17.94     80000.0           80000.0     Source Verified   \n",
       "\n",
       "  verification_status_joint  \n",
       "0                  Verified  \n",
       "1           Source Verified  \n",
       "2              Not Verified  \n",
       "3           Source Verified  \n",
       "4           Source Verified  "
      ]
     },
     "execution_count": 14,
     "metadata": {},
     "output_type": "execute_result"
    }
   ],
   "source": [
    "X[X.application_type==\"INDIVIDUAL\"][[\"dti_joint\",\"dti\",\"annual_inc\",\"annual_inc_joint\",\"verification_status\",\"verification_status_joint\"]].head()"
   ]
  },
  {
   "cell_type": "code",
   "execution_count": 15,
   "id": "2a8aa5e0-cc89-4ba5-8435-9931686dbb7d",
   "metadata": {},
   "outputs": [
    {
     "name": "stdout",
     "output_type": "stream",
     "text": [
      "0 355\n"
     ]
    }
   ],
   "source": [
    "print(X.dti.isna().sum(),X2.dti.isna().sum())"
   ]
  },
  {
   "cell_type": "code",
   "execution_count": 16,
   "id": "4f3593c2-08dc-410c-acf2-d09e10756768",
   "metadata": {},
   "outputs": [
    {
     "data": {
      "text/plain": [
       "JOINT    355\n",
       "Name: application_type, dtype: int64"
      ]
     },
     "execution_count": 16,
     "metadata": {},
     "output_type": "execute_result"
    }
   ],
   "source": [
    "#No missing dti in main data set, but some missing in the test. Let's see what those are like\n",
    "X2[X2.dti.isna()].application_type.value_counts()"
   ]
  },
  {
   "cell_type": "code",
   "execution_count": 17,
   "id": "2d941000-9479-4a48-966d-cd0f325f2c67",
   "metadata": {},
   "outputs": [
    {
     "data": {
      "text/plain": [
       "0"
      ]
     },
     "execution_count": 17,
     "metadata": {},
     "output_type": "execute_result"
    }
   ],
   "source": [
    "#Lets make sure those have joint dti information. If not we will have to impute values to both\n",
    "X2[X2.dti.isna()].dti_joint.isna().sum()"
   ]
  },
  {
   "cell_type": "code",
   "execution_count": 18,
   "id": "b46b088b-fbcf-471e-a008-4d29bb00eb9e",
   "metadata": {},
   "outputs": [],
   "source": [
    "#No applications missing both dti and joint dti. General strategy will be to replace missing values for one with the other\n",
    "X2.dti.fillna(X2.dti_joint,inplace=True)"
   ]
  },
  {
   "cell_type": "code",
   "execution_count": 19,
   "id": "67d48b45-d6b0-49e0-b70e-527ac6acb135",
   "metadata": {},
   "outputs": [],
   "source": [
    "#We can see this simply duplicated the columns for the individual applications while not affecting the joint applications\n",
    "#We do the same for the test data\n",
    "X2.dti_joint.fillna(X2.dti,inplace=True)\n",
    "X2.annual_inc_joint.fillna(X2.annual_inc,inplace=True)\n",
    "X2.verification_status_joint.fillna(X2.verification_status,inplace=True)"
   ]
  },
  {
   "cell_type": "markdown",
   "id": "a2377867-6b72-4fec-aef0-6430e4e4dabd",
   "metadata": {},
   "source": [
    "Issue date, last credit pull date, last payment date ,earliest credit line, next payment date are strings, but will be more useful as datetime objects"
   ]
  },
  {
   "cell_type": "code",
   "execution_count": 20,
   "id": "f11a52f9-1c19-4108-b006-49eb69274b91",
   "metadata": {},
   "outputs": [],
   "source": [
    "X.issue_d=pd.to_datetime(X.issue_d)\n",
    "X.last_credit_pull_d=pd.to_datetime(X.last_credit_pull_d)\n",
    "X.last_pymnt_d=pd.to_datetime(X.last_pymnt_d)\n",
    "X.earliest_cr_line=pd.to_datetime(X.earliest_cr_line)\n",
    "X2.issue_d=pd.to_datetime(X2.issue_d)\n",
    "X2.last_credit_pull_d=pd.to_datetime(X2.last_credit_pull_d)\n",
    "X2.last_pymnt_d=pd.to_datetime(X2.last_pymnt_d)\n",
    "X2.earliest_cr_line=pd.to_datetime(X2.earliest_cr_line)\n",
    "X.next_pymnt_d=pd.to_datetime(X.next_pymnt_d)\n",
    "\n"
   ]
  },
  {
   "cell_type": "code",
   "execution_count": 21,
   "id": "d1382ef2-36e1-410f-9092-5dcf8f7ec9ff",
   "metadata": {},
   "outputs": [
    {
     "data": {
      "text/plain": [
       "Jan-2018    591170\n",
       "Dec-2017       157\n",
       "Feb-2018        96\n",
       "Name: next_pymnt_d, dtype: int64"
      ]
     },
     "execution_count": 21,
     "metadata": {},
     "output_type": "execute_result"
    }
   ],
   "source": [
    "X2.next_pymnt_d.value_counts()"
   ]
  },
  {
   "cell_type": "code",
   "execution_count": 22,
   "id": "8b50192f-5daf-4a6a-9dd1-4f1b7085172a",
   "metadata": {},
   "outputs": [],
   "source": [
    "#need to replace the format of dates in the X2 data frame for the next_pymnt_d column before converting to datetime objects\n",
    "X2.next_pymnt_d.replace({\"Jan-2018\":\"2018-01-01\",\"Dec-2017\":\"2017-12-01\",\"Feb-2018\":\"2018-02-01\"},inplace=True)\n",
    "X2.next_pymnt_d=pd.to_datetime(X.next_pymnt_d)"
   ]
  },
  {
   "cell_type": "markdown",
   "id": "0a1cf366-8500-4c39-9352-d784a43cc6eb",
   "metadata": {},
   "source": [
    "To avoid dependency on issue date as that will change significantly over time we convert to timedeltas"
   ]
  },
  {
   "cell_type": "code",
   "execution_count": 23,
   "id": "c1496246-6b30-445d-9565-91da3ac3490d",
   "metadata": {},
   "outputs": [],
   "source": [
    "X[\"last_credit_pull_td\"]=X.last_credit_pull_d-X.issue_d\n",
    "X2[\"last_credit_pull_td\"]=X2.last_credit_pull_d-X.issue_d\n",
    "X[\"last_pymnt_td\"]=X.last_pymnt_d-X.issue_d\n",
    "X2[\"last_pymnt_td\"]=X2.last_pymnt_d-X.issue_d\n",
    "X[\"earliest_cr_line_td\"]=X.issue_d-X.earliest_cr_line\n",
    "X2[\"earliest_cr_line_td\"]=X2.issue_d-X2.earliest_cr_line\n",
    "X[\"next_pymnt_td\"]=X.next_pymnt_d-X.issue_d\n",
    "X2[\"next_pymnt_td\"]=X2.next_pymnt_d-X.issue_d"
   ]
  },
  {
   "cell_type": "markdown",
   "id": "9386eac7-3193-4f29-863d-84bbd707298f",
   "metadata": {},
   "source": [
    "Now we drop the actual dates from the features"
   ]
  },
  {
   "cell_type": "code",
   "execution_count": 24,
   "id": "66251cc2-e127-4dd6-a111-254c1ef693d3",
   "metadata": {},
   "outputs": [],
   "source": [
    "X.drop(columns=[\"issue_d\",\"last_credit_pull_d\",\"last_pymnt_d\",\"earliest_cr_line\",\"next_pymnt_d\"],inplace=True)\n",
    "X2.drop(columns=[\"issue_d\",\"last_credit_pull_d\",\"last_pymnt_d\",\"earliest_cr_line\",\"next_pymnt_d\"],inplace=True)"
   ]
  },
  {
   "cell_type": "markdown",
   "id": "9f870a0a-b835-4192-8d97-e749f7faf4b7",
   "metadata": {},
   "source": [
    "We will now convert these to floating point numbers"
   ]
  },
  {
   "cell_type": "code",
   "execution_count": 25,
   "id": "b3abfbfe-4834-4e90-ab37-4b9380262747",
   "metadata": {},
   "outputs": [],
   "source": [
    "X[\"last_credit_pull_d\"]=X.last_credit_pull_td/pd.to_timedelta(1,'D')\n",
    "X2[\"last_credit_pull_d\"]=X2.last_credit_pull_td/pd.to_timedelta(1,'D')\n",
    "X[\"last_pymnt_d\"]=X.last_pymnt_td/pd.to_timedelta(1,'D')\n",
    "X2[\"last_pymnt_d\"]=X.last_pymnt_td/pd.to_timedelta(1,'D')\n",
    "X[\"earliest_cr_line\"]=X.earliest_cr_line_td/pd.to_timedelta(1,'D')\n",
    "X2[\"earliest_cr_line\"]=X.earliest_cr_line_td/pd.to_timedelta(1,'D')\n",
    "X[\"next_pymnt_d\"]=X.next_pymnt_td/pd.to_timedelta(1,'D')\n",
    "X2[\"next_pymnt_d\"]=X2.next_pymnt_td/pd.to_timedelta(1,'D')"
   ]
  },
  {
   "cell_type": "code",
   "execution_count": null,
   "id": "52c6f8c2-8eba-4f99-9372-4075275d9cdf",
   "metadata": {},
   "outputs": [],
   "source": []
  },
  {
   "cell_type": "markdown",
   "id": "245daeb2-c1d4-44f3-96ad-41905efe0eba",
   "metadata": {},
   "source": [
    "We can now get rid of the timedelta features and leave the floating point ones.\n"
   ]
  },
  {
   "cell_type": "code",
   "execution_count": 26,
   "id": "8b36d0f9-e901-4b79-96f0-8763202de9a2",
   "metadata": {},
   "outputs": [],
   "source": [
    "X.drop(columns=[\"last_credit_pull_td\",\"last_pymnt_td\",\"earliest_cr_line_td\",\"next_pymnt_td\"],inplace=True)\n",
    "X2.drop(columns=[\"last_credit_pull_td\",\"last_pymnt_td\",\"earliest_cr_line_td\",\"next_pymnt_td\"],inplace=True)"
   ]
  },
  {
   "cell_type": "code",
   "execution_count": 27,
   "id": "bf4aafc0-cd7d-41d5-9f7a-1cf0778da6f2",
   "metadata": {},
   "outputs": [],
   "source": [
    "#drop the url feature\n",
    "X.drop(columns=[\"url\"],inplace=True)"
   ]
  },
  {
   "cell_type": "code",
   "execution_count": 28,
   "id": "24b6c964-206e-4d8d-8d6d-24aa8981fb21",
   "metadata": {},
   "outputs": [
    {
     "data": {
      "text/plain": [
       "{'open_il_6m'}"
      ]
     },
     "execution_count": 28,
     "metadata": {},
     "output_type": "execute_result"
    }
   ],
   "source": [
    "set(X.columns).difference(set(X2.columns))"
   ]
  },
  {
   "cell_type": "code",
   "execution_count": 29,
   "id": "88a023f7-e0ee-4011-8c6a-d61da636e10a",
   "metadata": {},
   "outputs": [
    {
     "data": {
      "text/plain": [
       "set()"
      ]
     },
     "execution_count": 29,
     "metadata": {},
     "output_type": "execute_result"
    }
   ],
   "source": [
    "set(X2.columns).difference(set(X.columns))"
   ]
  },
  {
   "cell_type": "code",
   "execution_count": 30,
   "id": "451e612d-19bb-4902-9ce0-935aa45afe22",
   "metadata": {},
   "outputs": [],
   "source": [
    "#drop the column from the training data that the test data doesn't have\n",
    "X.drop(columns=['open_il_6m'],inplace=True)"
   ]
  },
  {
   "cell_type": "code",
   "execution_count": 31,
   "id": "5bef0834-935f-42db-ba30-721dfdcabd71",
   "metadata": {},
   "outputs": [
    {
     "data": {
      "text/plain": [
       " 36 months    621125\n",
       " 60 months    266254\n",
       "Name: term, dtype: int64"
      ]
     },
     "execution_count": 31,
     "metadata": {},
     "output_type": "execute_result"
    }
   ],
   "source": [
    "X.term.value_counts()"
   ]
  },
  {
   "cell_type": "code",
   "execution_count": 32,
   "id": "ca497401-331f-43a4-819c-61d17e38fb5c",
   "metadata": {},
   "outputs": [
    {
     "data": {
      "text/plain": [
       "36 months    561237\n",
       "60 months    198101\n",
       "Name: term, dtype: int64"
      ]
     },
     "execution_count": 32,
     "metadata": {},
     "output_type": "execute_result"
    }
   ],
   "source": [
    "X2.term.value_counts()"
   ]
  },
  {
   "cell_type": "code",
   "execution_count": 33,
   "id": "d96de572-ee71-4bc0-ba81-b9aa8d3a5f36",
   "metadata": {},
   "outputs": [],
   "source": [
    "#For now drop 'desc' featire\n",
    "X.drop(columns=['desc'],inplace=True)\n",
    "X2.drop(columns=['desc'],inplace=True)"
   ]
  },
  {
   "cell_type": "markdown",
   "id": "703d2603-73fc-478a-a585-d0a6776c3c0d",
   "metadata": {},
   "source": [
    "At this point we have the columns we need in place. We will need to impute missing values and see how we want to use categorical data"
   ]
  },
  {
   "cell_type": "code",
   "execution_count": 34,
   "id": "cc5be0f5-fe91-426d-9ed1-da24830185ad",
   "metadata": {},
   "outputs": [],
   "source": [
    "#For employment will use \"other\" for missing values\n",
    "X.emp_title.fillna(\"other\",inplace=True)\n",
    "X2.emp_title.fillna(\"other\",inplace=True)"
   ]
  },
  {
   "cell_type": "markdown",
   "id": "2903acae-d9d1-4582-ae72-f7a2e23665d5",
   "metadata": {},
   "source": [
    "Employment length is a bit tricker as it's categorical but we want to have a median to put in for missing values"
   ]
  },
  {
   "cell_type": "code",
   "execution_count": 35,
   "id": "231f5f91-db15-4e0d-a545-e609f55aff81",
   "metadata": {},
   "outputs": [
    {
     "data": {
      "text/plain": [
       "10+ years    291569\n",
       "2 years       78870\n",
       "< 1 year      70605\n",
       "3 years       70026\n",
       "1 year        57095\n",
       "5 years       55704\n",
       "4 years       52529\n",
       "7 years       44594\n",
       "8 years       43955\n",
       "6 years       42950\n",
       "9 years       34657\n",
       "Name: emp_length, dtype: int64"
      ]
     },
     "execution_count": 35,
     "metadata": {},
     "output_type": "execute_result"
    }
   ],
   "source": [
    "X.emp_length.value_counts()"
   ]
  },
  {
   "cell_type": "code",
   "execution_count": 36,
   "id": "0f50b1b6-316d-4a14-9fd7-94317a84313a",
   "metadata": {},
   "outputs": [
    {
     "data": {
      "text/plain": [
       "10.0    291569\n",
       "2.0      78870\n",
       "0.0      70605\n",
       "3.0      70026\n",
       "1.0      57095\n",
       "5.0      55704\n",
       "4.0      52529\n",
       "7.0      44594\n",
       "8.0      43955\n",
       "6.0      42950\n",
       "9.0      34657\n",
       "Name: emp_length, dtype: int64"
      ]
     },
     "execution_count": 36,
     "metadata": {},
     "output_type": "execute_result"
    }
   ],
   "source": [
    "#Convert each of these to a numeric value, replacing <1 year with 0 and 10+ with 10\n",
    "X.emp_length.replace({\"10+ years\":10,\"2 years\":2,\"< 1 year\":0,\"3 years\":3,\"1 year\":1,\"5 years\":5,\"4 years\":4,\"7 years\":7,\"8 years\":8,\"6 years\":6,\"9 years\":9},inplace=True)\n",
    "X.emp_length.value_counts()"
   ]
  },
  {
   "cell_type": "code",
   "execution_count": 37,
   "id": "6d8d4cbb-1851-47e2-ba3e-b5dd14f61483",
   "metadata": {},
   "outputs": [
    {
     "data": {
      "text/plain": [
       "10+ years    257944\n",
       "2 years       69494\n",
       "< 1 year      62724\n",
       "3 years       60843\n",
       "1 year        50585\n",
       "5 years       46139\n",
       "4 years       45573\n",
       "6 years       32616\n",
       "8 years       28707\n",
       "9 years       28554\n",
       "7 years       25796\n",
       "Name: emp_length, dtype: int64"
      ]
     },
     "execution_count": 37,
     "metadata": {},
     "output_type": "execute_result"
    }
   ],
   "source": [
    "X2.emp_length.value_counts()"
   ]
  },
  {
   "cell_type": "code",
   "execution_count": 38,
   "id": "45bbad69-fcde-4527-a426-605876b98001",
   "metadata": {},
   "outputs": [
    {
     "data": {
      "text/plain": [
       "10.0    257944\n",
       "2.0      69494\n",
       "0.0      62724\n",
       "3.0      60843\n",
       "1.0      50585\n",
       "5.0      46139\n",
       "4.0      45573\n",
       "6.0      32616\n",
       "8.0      28707\n",
       "9.0      28554\n",
       "7.0      25796\n",
       "Name: emp_length, dtype: int64"
      ]
     },
     "execution_count": 38,
     "metadata": {},
     "output_type": "execute_result"
    }
   ],
   "source": [
    "#we will do the same with the test data\n",
    "X2.emp_length.replace({\"10+ years\":10,\"2 years\":2,\"< 1 year\":0,\"3 years\":3,\"1 year\":1,\"5 years\":5,\"4 years\":4,\"7 years\":7,\"8 years\":8,\"6 years\":6,\"9 years\":9},inplace=True)\n",
    "X2.emp_length.value_counts()"
   ]
  },
  {
   "cell_type": "code",
   "execution_count": 39,
   "id": "4e489314-791d-4b2c-9e2c-856be2237048",
   "metadata": {},
   "outputs": [
    {
     "data": {
      "text/plain": [
       "6.0"
      ]
     },
     "execution_count": 39,
     "metadata": {},
     "output_type": "execute_result"
    }
   ],
   "source": [
    "#We will use the median of the test data to impute. \n",
    "X.emp_length.median()"
   ]
  },
  {
   "cell_type": "code",
   "execution_count": 40,
   "id": "82f862cf-6c34-4532-9aa8-e46d534eab10",
   "metadata": {},
   "outputs": [],
   "source": [
    "X.emp_length.fillna(6,inplace=True)\n",
    "X2.emp_length.fillna(6,inplace=True)"
   ]
  },
  {
   "cell_type": "code",
   "execution_count": 41,
   "id": "26902b29-dae0-4f1f-a35b-9fa0762f6204",
   "metadata": {},
   "outputs": [
    {
     "data": {
      "text/plain": [
       "count    8.873750e+05\n",
       "mean     7.502759e+04\n",
       "std      6.469830e+04\n",
       "min      0.000000e+00\n",
       "25%      4.500000e+04\n",
       "50%      6.500000e+04\n",
       "75%      9.000000e+04\n",
       "max      9.500000e+06\n",
       "Name: annual_inc, dtype: float64"
      ]
     },
     "execution_count": 41,
     "metadata": {},
     "output_type": "execute_result"
    }
   ],
   "source": [
    "X.annual_inc.describe()"
   ]
  },
  {
   "cell_type": "code",
   "execution_count": 42,
   "id": "757ec2b3-7524-40ee-9d55-27e52bb03945",
   "metadata": {},
   "outputs": [
    {
     "data": {
      "text/plain": [
       "65000.0"
      ]
     },
     "execution_count": 42,
     "metadata": {},
     "output_type": "execute_result"
    }
   ],
   "source": [
    "X.annual_inc.median()"
   ]
  },
  {
   "cell_type": "code",
   "execution_count": 43,
   "id": "b4865958-dc7b-4e18-861c-8eeffde0d9a0",
   "metadata": {},
   "outputs": [],
   "source": [
    "X.annual_inc.fillna(65000,inplace=True)\n",
    "X2.annual_inc.fillna(65000,inplace=True)"
   ]
  },
  {
   "cell_type": "code",
   "execution_count": 44,
   "id": "4ea56a6b-4438-4128-b475-6cbf84db581f",
   "metadata": {},
   "outputs": [
    {
     "data": {
      "text/plain": [
       "Debt consolidation                     414001\n",
       "Credit card refinancing                164331\n",
       "Home improvement                        40112\n",
       "Other                                   31892\n",
       "Debt Consolidation                      15760\n",
       "                                        ...  \n",
       "New Heater                                  1\n",
       "Looking to get out of debt                  1\n",
       "Debt Conso/Pay off initial LC loan          1\n",
       "Emergency Home Repair                       1\n",
       "Credit Card/Auto Repair                     1\n",
       "Name: title, Length: 63144, dtype: int64"
      ]
     },
     "execution_count": 44,
     "metadata": {},
     "output_type": "execute_result"
    }
   ],
   "source": [
    "X.title.value_counts()"
   ]
  },
  {
   "cell_type": "code",
   "execution_count": 45,
   "id": "c47e7f13-fff7-4c69-9f32-2d9154c977fb",
   "metadata": {},
   "outputs": [
    {
     "data": {
      "text/plain": [
       "debt_consolidation    524215\n",
       "credit_card           206182\n",
       "home_improvement       51829\n",
       "other                  42894\n",
       "major_purchase         17277\n",
       "small_business         10377\n",
       "car                     8863\n",
       "medical                 8540\n",
       "moving                  5414\n",
       "vacation                4736\n",
       "house                   3707\n",
       "wedding                 2347\n",
       "renewable_energy         575\n",
       "educational              423\n",
       "Name: purpose, dtype: int64"
      ]
     },
     "execution_count": 45,
     "metadata": {},
     "output_type": "execute_result"
    }
   ],
   "source": [
    "X.purpose.value_counts()"
   ]
  },
  {
   "cell_type": "code",
   "execution_count": 46,
   "id": "f627c428-ae3a-41ba-a335-6de2921bd164",
   "metadata": {},
   "outputs": [
    {
     "data": {
      "text/plain": [
       "152"
      ]
     },
     "execution_count": 46,
     "metadata": {},
     "output_type": "execute_result"
    }
   ],
   "source": [
    "X.title.isna().sum()"
   ]
  },
  {
   "cell_type": "code",
   "execution_count": 47,
   "id": "330e72cc-e19f-430b-9ca8-c087c7902633",
   "metadata": {},
   "outputs": [
    {
     "data": {
      "text/plain": [
       "0"
      ]
     },
     "execution_count": 47,
     "metadata": {},
     "output_type": "execute_result"
    }
   ],
   "source": [
    "X.purpose.isna().sum()"
   ]
  },
  {
   "cell_type": "code",
   "execution_count": 48,
   "id": "24763dd5-68e6-4bdf-b0ab-ac01af4d7f04",
   "metadata": {},
   "outputs": [
    {
     "data": {
      "text/plain": [
       "23173"
      ]
     },
     "execution_count": 48,
     "metadata": {},
     "output_type": "execute_result"
    }
   ],
   "source": [
    "X2.title.isna().sum()"
   ]
  },
  {
   "cell_type": "code",
   "execution_count": 49,
   "id": "7ba25e8a-b0cf-441a-95e2-57e1d7ce96b7",
   "metadata": {},
   "outputs": [
    {
     "data": {
      "text/plain": [
       "0"
      ]
     },
     "execution_count": 49,
     "metadata": {},
     "output_type": "execute_result"
    }
   ],
   "source": [
    "X2.purpose.isna().sum()"
   ]
  },
  {
   "cell_type": "code",
   "execution_count": 50,
   "id": "bec2a17b-976e-491a-ad31-307380be84c0",
   "metadata": {},
   "outputs": [],
   "source": [
    "#For title we use 'other' for missing values\n",
    "X.title.fillna(\"other\",inplace=True)\n",
    "X2.title.fillna(\"other\",inplace=True)"
   ]
  },
  {
   "cell_type": "markdown",
   "id": "df723e67-adb6-4a2f-9571-9a94f9c4b678",
   "metadata": {},
   "source": [
    "For entries about negative events in a time period we will fill those with 0, assuming that no information means those events did not occur"
   ]
  },
  {
   "cell_type": "code",
   "execution_count": 51,
   "id": "71af7505-7209-417a-995b-12b45876fea9",
   "metadata": {},
   "outputs": [],
   "source": [
    "X.inq_last_6mths.fillna(0,inplace=True)\n",
    "X.inq_last_12m.fillna(0,inplace=True)\n",
    "X.inq_fi.fillna(0,inplace=True)\n",
    "X.collections_12_mths_ex_med.fillna(0,inplace=True)\n",
    "X.pub_rec.fillna(0,inplace=True)\n",
    "X.acc_now_delinq.fillna(0,inplace=True)\n",
    "X.delinq_2yrs.fillna(0,inplace=True)\n"
   ]
  },
  {
   "cell_type": "code",
   "execution_count": 52,
   "id": "db0a6793-f2df-4891-aa31-1e74ce91b7ef",
   "metadata": {},
   "outputs": [],
   "source": [
    "X2.inq_last_6mths.fillna(0,inplace=True)\n",
    "X2.inq_last_12m.fillna(0,inplace=True)\n",
    "X2.inq_fi.fillna(0,inplace=True)\n",
    "X2.collections_12_mths_ex_med.fillna(0,inplace=True)\n",
    "X2.pub_rec.fillna(0,inplace=True)\n",
    "X2.acc_now_delinq.fillna(0,inplace=True)\n",
    "X2.delinq_2yrs.fillna(0,inplace=True)\n"
   ]
  },
  {
   "cell_type": "code",
   "execution_count": 53,
   "id": "aeb19ced-f315-4d94-a315-f05b6c2fa243",
   "metadata": {},
   "outputs": [
    {
     "data": {
      "text/plain": [
       "count    21372.000000\n",
       "mean        60.831939\n",
       "std         20.013254\n",
       "min          0.000000\n",
       "25%         47.700000\n",
       "50%         61.900000\n",
       "75%         75.200000\n",
       "max        151.400000\n",
       "Name: all_util, dtype: float64"
      ]
     },
     "execution_count": 53,
     "metadata": {},
     "output_type": "execute_result"
    }
   ],
   "source": [
    "X.all_util.describe()"
   ]
  },
  {
   "cell_type": "code",
   "execution_count": 54,
   "id": "c26134ca-6995-4dd0-8033-68598d74da3f",
   "metadata": {},
   "outputs": [
    {
     "data": {
      "text/plain": [
       "61.0     71\n",
       "68.0     60\n",
       "51.0     57\n",
       "61.3     57\n",
       "72.0     56\n",
       "         ..\n",
       "3.3       1\n",
       "15.7      1\n",
       "107.9     1\n",
       "97.6      1\n",
       "7.4       1\n",
       "Name: all_util, Length: 1128, dtype: int64"
      ]
     },
     "execution_count": 54,
     "metadata": {},
     "output_type": "execute_result"
    }
   ],
   "source": [
    "X.all_util.value_counts()"
   ]
  },
  {
   "cell_type": "code",
   "execution_count": 55,
   "id": "e85d9d40-e003-4595-abed-fcaeb6aacb5f",
   "metadata": {},
   "outputs": [
    {
     "data": {
      "image/png": "[encoded data removed]",
      "text/plain": [
       "<Figure size 432x288 with 1 Axes>"
      ]
     },
     "metadata": {
      "needs_background": "light"
     },
     "output_type": "display_data"
    }
   ],
   "source": [
    "X.all_util.hist()\n",
    "plt.show()"
   ]
  },
  {
   "cell_type": "code",
   "execution_count": 56,
   "id": "9e7e5788-8bcc-4fd9-94f3-4dca35bd3826",
   "metadata": {},
   "outputs": [
    {
     "data": {
      "text/plain": [
       "866007"
      ]
     },
     "execution_count": 56,
     "metadata": {},
     "output_type": "execute_result"
    }
   ],
   "source": [
    "X.all_util.isna().sum()"
   ]
  },
  {
   "cell_type": "markdown",
   "id": "80c25c19-1917-408c-b1b4-390342bc859f",
   "metadata": {},
   "source": [
    "The distribution of utilization number is centered around 62%, however the vast majority have nothing put in, so this is a very small amount to generalize from. We might have to dig a little deeper to see if we can figure out what is going on"
   ]
  },
  {
   "cell_type": "code",
   "execution_count": 57,
   "id": "0cc3167d-2279-41ce-8f7d-1ce44cff6dbd",
   "metadata": {},
   "outputs": [
    {
     "data": {
      "text/plain": [
       "count    8.171030e+05\n",
       "mean     1.394582e+05\n",
       "std      1.537500e+05\n",
       "min      0.000000e+00\n",
       "25%      2.985300e+04\n",
       "50%      8.055900e+04\n",
       "75%      2.082050e+05\n",
       "max      8.000078e+06\n",
       "Name: tot_cur_bal, dtype: float64"
      ]
     },
     "execution_count": 57,
     "metadata": {},
     "output_type": "execute_result"
    }
   ],
   "source": [
    "X.tot_cur_bal.describe()"
   ]
  },
  {
   "cell_type": "code",
   "execution_count": 58,
   "id": "ad438c77-e2dc-414f-953c-5af7bdf5ee31",
   "metadata": {},
   "outputs": [
    {
     "data": {
      "image/png": "[encoded data removed]",
      "text/plain": [
       "<Figure size 432x288 with 1 Axes>"
      ]
     },
     "metadata": {
      "needs_background": "light"
     },
     "output_type": "display_data"
    }
   ],
   "source": [
    "X.tot_cur_bal.hist(bins=10)\n",
    "plt.yscale(\"log\")\n",
    "plt.show()"
   ]
  },
  {
   "cell_type": "markdown",
   "id": "21588bb4-1303-429c-983c-bb24dbc5b7ef",
   "metadata": {},
   "source": [
    "We save the columns as is elsewhere and for now use 0 to fill in missing values"
   ]
  },
  {
   "cell_type": "code",
   "execution_count": 59,
   "id": "8a24f3ad-ad06-434f-8ec8-e0c8822c911e",
   "metadata": {},
   "outputs": [],
   "source": [
    "tot_cur_bal=X.tot_cur_bal\n",
    "all_util=X.all_util\n",
    "X.all_util.fillna(0,inplace=True)\n",
    "X.tot_cur_bal.fillna(0,inplace=True)"
   ]
  },
  {
   "cell_type": "code",
   "execution_count": 60,
   "id": "06d1d10e-f203-4fff-8504-e66ca8af56da",
   "metadata": {},
   "outputs": [],
   "source": [
    "#Fill more zeros in for utilization ones\n",
    "X.il_util.fillna(0,inplace=True)\n",
    "X.total_cu_tl.fillna(0,inplace=True)\n",
    "X.open_rv_12m.fillna(0,inplace=True)\n",
    "X.open_rv_24m.fillna(0,inplace=True)"
   ]
  },
  {
   "cell_type": "code",
   "execution_count": 61,
   "id": "b867e619-d9a3-45c4-a832-523d9161c30c",
   "metadata": {},
   "outputs": [],
   "source": [
    "#Do the same to test data\n",
    "tot_cur_bal2=X2.tot_cur_bal\n",
    "all_util2=X2.all_util\n",
    "X2.all_util.fillna(0,inplace=True)\n",
    "X2.tot_cur_bal.fillna(0,inplace=True)\n",
    "X2.il_util.fillna(0,inplace=True)\n",
    "X2.total_cu_tl.fillna(0,inplace=True)\n",
    "X2.open_rv_12m.fillna(0,inplace=True)\n",
    "X2.open_rv_24m.fillna(0,inplace=True)"
   ]
  },
  {
   "cell_type": "markdown",
   "id": "58f17111-70ff-40e3-9aa5-9a7f0ac465c7",
   "metadata": {},
   "source": [
    "We use the median of the training data to fill in some fields"
   ]
  },
  {
   "cell_type": "code",
   "execution_count": 62,
   "id": "8fc6dca7-fae4-4eb2-955b-30ef062b1346",
   "metadata": {},
   "outputs": [
    {
     "data": {
      "text/plain": [
       "count    21372.000000\n",
       "mean         1.109021\n",
       "std          1.242675\n",
       "min          0.000000\n",
       "25%          0.000000\n",
       "50%          1.000000\n",
       "75%          2.000000\n",
       "max         14.000000\n",
       "Name: open_acc_6m, dtype: float64"
      ]
     },
     "execution_count": 62,
     "metadata": {},
     "output_type": "execute_result"
    }
   ],
   "source": [
    "X.open_acc_6m.describe()"
   ]
  },
  {
   "cell_type": "code",
   "execution_count": 63,
   "id": "fc346cff-cdb2-4476-9a26-d04b0366f047",
   "metadata": {},
   "outputs": [],
   "source": [
    "X.open_acc_6m.fillna(1,inplace=True)\n",
    "X2.open_acc_6m.fillna(1,inplace=True)"
   ]
  },
  {
   "cell_type": "code",
   "execution_count": 64,
   "id": "1dde4b51-0470-4834-b771-612d83fbb711",
   "metadata": {},
   "outputs": [
    {
     "data": {
      "text/plain": [
       "count    21372.000000\n",
       "mean         0.761651\n",
       "std          0.996035\n",
       "min          0.000000\n",
       "25%          0.000000\n",
       "50%          0.000000\n",
       "75%          1.000000\n",
       "max         12.000000\n",
       "Name: open_il_12m, dtype: float64"
      ]
     },
     "execution_count": 64,
     "metadata": {},
     "output_type": "execute_result"
    }
   ],
   "source": [
    "X.open_il_12m.describe()"
   ]
  },
  {
   "cell_type": "code",
   "execution_count": 65,
   "id": "4203c4b9-c965-4cab-b504-7b2af62a2ccd",
   "metadata": {},
   "outputs": [],
   "source": [
    "X.open_il_12m.fillna(0,inplace=True)\n",
    "X2.open_il_12m.fillna(0,inplace=True)"
   ]
  },
  {
   "cell_type": "code",
   "execution_count": 66,
   "id": "98b4a650-4c00-4e47-a632-3f2425a263ee",
   "metadata": {},
   "outputs": [
    {
     "data": {
      "text/plain": [
       "count    21372.000000\n",
       "mean         1.674574\n",
       "std          1.688725\n",
       "min          0.000000\n",
       "25%          0.000000\n",
       "50%          1.000000\n",
       "75%          2.000000\n",
       "max         19.000000\n",
       "Name: open_il_24m, dtype: float64"
      ]
     },
     "execution_count": 66,
     "metadata": {},
     "output_type": "execute_result"
    }
   ],
   "source": [
    "X.open_il_24m.describe()"
   ]
  },
  {
   "cell_type": "code",
   "execution_count": 67,
   "id": "9923f261-2e6c-4490-8a58-ec57c838633f",
   "metadata": {},
   "outputs": [],
   "source": [
    "X.open_il_24m.fillna(1,inplace=True)\n",
    "X2.open_il_24m.fillna(1,inplace=True)"
   ]
  },
  {
   "cell_type": "code",
   "execution_count": 68,
   "id": "df2957dc-ecba-47bc-a051-89ba190634e3",
   "metadata": {},
   "outputs": [
    {
     "data": {
      "text/plain": [
       "count    8.171030e+05\n",
       "mean     2.257026e+02\n",
       "std      1.031137e+04\n",
       "min      0.000000e+00\n",
       "25%      0.000000e+00\n",
       "50%      0.000000e+00\n",
       "75%      0.000000e+00\n",
       "max      9.152545e+06\n",
       "Name: tot_coll_amt, dtype: float64"
      ]
     },
     "execution_count": 68,
     "metadata": {},
     "output_type": "execute_result"
    }
   ],
   "source": [
    "X.tot_coll_amt.describe()"
   ]
  },
  {
   "cell_type": "code",
   "execution_count": 69,
   "id": "40e19778-cb37-477d-9038-a9d05ad9a3a6",
   "metadata": {},
   "outputs": [],
   "source": [
    "X.tot_coll_amt.fillna(0,inplace=True)\n",
    "X2.tot_coll_amt.fillna(0,inplace=True)"
   ]
  },
  {
   "cell_type": "code",
   "execution_count": 70,
   "id": "fae4decf-4cc3-4ffd-a1e6-bb6496396f8c",
   "metadata": {},
   "outputs": [],
   "source": [
    "X.total_bal_il.fillna(0,inplace=True)\n",
    "X2.total_bal_il.fillna(0,inplace=True)"
   ]
  },
  {
   "cell_type": "code",
   "execution_count": 71,
   "id": "ae4b17db-e2b1-4d0b-8798-1f8d93d52099",
   "metadata": {},
   "outputs": [
    {
     "data": {
      "text/plain": [
       "count    8.873790e+05\n",
       "mean     1.284138e+05\n",
       "std      1.522669e+05\n",
       "min      0.000000e+00\n",
       "25%      2.316800e+04\n",
       "50%      6.533200e+04\n",
       "75%      1.957940e+05\n",
       "max      8.000078e+06\n",
       "Name: tot_cur_bal, dtype: float64"
      ]
     },
     "execution_count": 71,
     "metadata": {},
     "output_type": "execute_result"
    }
   ],
   "source": [
    "X.tot_cur_bal.describe()"
   ]
  },
  {
   "cell_type": "code",
   "execution_count": 72,
   "id": "fa629798-1296-43cb-b1c9-22a9092366d5",
   "metadata": {},
   "outputs": [
    {
     "data": {
      "text/plain": [
       "65332.0"
      ]
     },
     "execution_count": 72,
     "metadata": {},
     "output_type": "execute_result"
    }
   ],
   "source": [
    "X.tot_cur_bal.median()"
   ]
  },
  {
   "cell_type": "code",
   "execution_count": 73,
   "id": "2dd8decb-beb9-4fbb-8647-e19bc8295914",
   "metadata": {},
   "outputs": [],
   "source": [
    "X.tot_cur_bal.fillna(65332,inplace=True)\n",
    "X2.tot_cur_bal.fillna(65332,inplace=True)"
   ]
  },
  {
   "cell_type": "code",
   "execution_count": 74,
   "id": "02762831-2c51-4290-a02d-30354087915a",
   "metadata": {},
   "outputs": [
    {
     "data": {
      "text/plain": [
       "count    8.171030e+05\n",
       "mean     3.206862e+04\n",
       "std      3.749826e+04\n",
       "min      0.000000e+00\n",
       "25%      1.390000e+04\n",
       "50%      2.370000e+04\n",
       "75%      3.980000e+04\n",
       "max      9.999999e+06\n",
       "Name: total_rev_hi_lim, dtype: float64"
      ]
     },
     "execution_count": 74,
     "metadata": {},
     "output_type": "execute_result"
    }
   ],
   "source": [
    "X.total_rev_hi_lim.describe()"
   ]
  },
  {
   "cell_type": "code",
   "execution_count": 75,
   "id": "ecfcee49-682f-449e-af77-5514ee9463fb",
   "metadata": {},
   "outputs": [
    {
     "data": {
      "text/plain": [
       "23700.0"
      ]
     },
     "execution_count": 75,
     "metadata": {},
     "output_type": "execute_result"
    }
   ],
   "source": [
    "X.total_rev_hi_lim.median()"
   ]
  },
  {
   "cell_type": "code",
   "execution_count": 76,
   "id": "6306125a-728a-4f43-b149-10dd4c27b4d7",
   "metadata": {},
   "outputs": [],
   "source": [
    "X.total_rev_hi_lim.fillna(23700,inplace=True)\n",
    "X2.total_rev_hi_lim.fillna(23700,inplace=True)"
   ]
  },
  {
   "cell_type": "code",
   "execution_count": 77,
   "id": "4fd3c4b2-6eab-488d-88fc-6dccf7888ec0",
   "metadata": {},
   "outputs": [
    {
     "data": {
      "text/plain": [
       "56.0"
      ]
     },
     "execution_count": 77,
     "metadata": {},
     "output_type": "execute_result"
    }
   ],
   "source": [
    "X.revol_util.median()"
   ]
  },
  {
   "cell_type": "code",
   "execution_count": 78,
   "id": "f5574fe0-f832-4f13-b403-aaacd259515e",
   "metadata": {},
   "outputs": [],
   "source": [
    "X.revol_util.fillna(56,inplace=True)\n",
    "X2.revol_util.fillna(56,inplace=True)"
   ]
  },
  {
   "cell_type": "code",
   "execution_count": 79,
   "id": "2fa295a6-be3e-466a-bcaf-1c847bc0dcea",
   "metadata": {},
   "outputs": [],
   "source": [
    "X.delinq_2yrs.fillna(0,inplace=True)\n",
    "X2.delinq_2yrs.fillna(0,inplace=True)"
   ]
  },
  {
   "cell_type": "code",
   "execution_count": 80,
   "id": "824a4206-ada6-41a9-ab21-8c7fd1cf88ef",
   "metadata": {},
   "outputs": [
    {
     "data": {
      "text/plain": [
       "11.0"
      ]
     },
     "execution_count": 80,
     "metadata": {},
     "output_type": "execute_result"
    }
   ],
   "source": [
    "X.open_acc.median()"
   ]
  },
  {
   "cell_type": "code",
   "execution_count": 81,
   "id": "576e36ae-32cc-4b76-917e-d8763ffb9995",
   "metadata": {},
   "outputs": [],
   "source": [
    "X.open_acc.fillna(11,inplace=True)\n",
    "X2.open_acc.fillna(11,inplace=True)"
   ]
  },
  {
   "cell_type": "code",
   "execution_count": 82,
   "id": "70ef3a34-31dd-413f-bc3c-7d5529a8b161",
   "metadata": {},
   "outputs": [
    {
     "data": {
      "text/plain": [
       "count    887350.000000\n",
       "mean         25.268026\n",
       "std          11.840561\n",
       "min           1.000000\n",
       "25%          17.000000\n",
       "50%          24.000000\n",
       "75%          32.000000\n",
       "max         169.000000\n",
       "Name: total_acc, dtype: float64"
      ]
     },
     "execution_count": 82,
     "metadata": {},
     "output_type": "execute_result"
    }
   ],
   "source": [
    "X.total_acc.describe()"
   ]
  },
  {
   "cell_type": "code",
   "execution_count": 83,
   "id": "8800019f-ea12-43ac-b734-64907d4663d7",
   "metadata": {},
   "outputs": [],
   "source": [
    "X.total_acc.fillna(24,inplace=True)\n",
    "X2.total_acc.fillna(24,inplace=True)"
   ]
  },
  {
   "cell_type": "markdown",
   "id": "872153e5-33c5-4480-8d2d-98e659dae583",
   "metadata": {},
   "source": [
    "For months since last derogatory action we will use 10000 to fill missing values for now (assuming they didn't occur). "
   ]
  },
  {
   "cell_type": "code",
   "execution_count": 84,
   "id": "f04097b0-b8a0-446d-b79c-70b5e8bae401",
   "metadata": {},
   "outputs": [],
   "source": [
    "X.mths_since_last_delinq.fillna(10000, inplace=True)\n",
    "X2.mths_since_last_delinq.fillna(10000, inplace=True)\n",
    "X.mths_since_last_major_derog.fillna(10000,inplace=True)\n",
    "X2.mths_since_last_major_derog.fillna(10000,inplace=True)\n",
    "X.mths_since_last_record.fillna(10000,inplace=True)\n",
    "X2.mths_since_last_record.fillna(10000,inplace=True)\n",
    "X.mths_since_rcnt_il.fillna(10000,inplace=True)\n",
    "X2.mths_since_rcnt_il.fillna(10000,inplace=True)"
   ]
  },
  {
   "cell_type": "code",
   "execution_count": 85,
   "id": "02074d97-29d3-4203-92fe-0090f64d95ac",
   "metadata": {},
   "outputs": [
    {
     "data": {
      "text/plain": [
       "loan_amnt                  0\n",
       "funded_amnt                0\n",
       "funded_amnt_inv            0\n",
       "term                       0\n",
       "int_rate                   0\n",
       "                       ...  \n",
       "inq_last_12m               0\n",
       "last_credit_pull_d        53\n",
       "last_pymnt_d           17659\n",
       "earliest_cr_line          29\n",
       "next_pymnt_d          252971\n",
       "Length: 68, dtype: int64"
      ]
     },
     "execution_count": 85,
     "metadata": {},
     "output_type": "execute_result"
    }
   ],
   "source": [
    "X.isna().sum()"
   ]
  },
  {
   "cell_type": "markdown",
   "id": "2caaad13-eab8-4fa1-b0cd-8dd65eead90b",
   "metadata": {},
   "source": [
    "All the time deltas we turned into numbers we replace missing values by the median of the training data"
   ]
  },
  {
   "cell_type": "code",
   "execution_count": 86,
   "id": "2369d42e-77b1-4e04-9346-fdd9eff49246",
   "metadata": {},
   "outputs": [
    {
     "data": {
      "text/plain": [
       "count    887326.000000\n",
       "mean        472.719828\n",
       "std         389.534823\n",
       "min        -884.000000\n",
       "25%         184.000000\n",
       "50%         365.000000\n",
       "75%         671.000000\n",
       "max        3136.000000\n",
       "Name: last_credit_pull_d, dtype: float64"
      ]
     },
     "execution_count": 86,
     "metadata": {},
     "output_type": "execute_result"
    }
   ],
   "source": [
    "X.last_credit_pull_d.describe(datetime_is_numeric=True)"
   ]
  },
  {
   "cell_type": "code",
   "execution_count": 87,
   "id": "a9c60d26-2fab-40d9-8829-d2a5b3e208c7",
   "metadata": {},
   "outputs": [],
   "source": [
    "X.last_credit_pull_d.fillna(365,inplace=True)\n",
    "X2.last_credit_pull_d.fillna(365,inplace=True)"
   ]
  },
  {
   "cell_type": "code",
   "execution_count": 88,
   "id": "93ec7df5-8294-4d8f-9af3-5be9bfaf111f",
   "metadata": {},
   "outputs": [
    {
     "data": {
      "text/plain": [
       "count    869720.000000\n",
       "mean        406.883764\n",
       "std         310.310296\n",
       "min           0.000000\n",
       "25%         153.000000\n",
       "50%         334.000000\n",
       "75%         579.000000\n",
       "max        2130.000000\n",
       "Name: last_pymnt_d, dtype: float64"
      ]
     },
     "execution_count": 88,
     "metadata": {},
     "output_type": "execute_result"
    }
   ],
   "source": [
    "X.last_pymnt_d.describe()"
   ]
  },
  {
   "cell_type": "code",
   "execution_count": 89,
   "id": "57146bb8-2117-46a3-883d-bc14aa0c54cf",
   "metadata": {},
   "outputs": [],
   "source": [
    "X.last_pymnt_d.fillna(334,inplace=True)\n",
    "X2.last_pymnt_d.fillna(334,inplace=True)"
   ]
  },
  {
   "cell_type": "code",
   "execution_count": 90,
   "id": "f0675376-1210-4666-8887-c86894b0b48b",
   "metadata": {},
   "outputs": [
    {
     "data": {
      "text/plain": [
       "count    887350.000000\n",
       "mean       5969.502444\n",
       "std        2726.220517\n",
       "min         184.000000\n",
       "25%        4110.000000\n",
       "50%        5419.000000\n",
       "75%        7336.000000\n",
       "max       25933.000000\n",
       "Name: earliest_cr_line, dtype: float64"
      ]
     },
     "execution_count": 90,
     "metadata": {},
     "output_type": "execute_result"
    }
   ],
   "source": [
    "X.earliest_cr_line.describe()"
   ]
  },
  {
   "cell_type": "code",
   "execution_count": 91,
   "id": "4ba479c2-89a7-461f-9adc-4208cb1ab0c7",
   "metadata": {},
   "outputs": [],
   "source": [
    "X.earliest_cr_line.fillna(5419,inplace=True)\n",
    "X2.earliest_cr_line.fillna(5419,inplace=True)"
   ]
  },
  {
   "cell_type": "code",
   "execution_count": 92,
   "id": "85af7a44-4d89-49b8-a9b3-a29c19bb37a0",
   "metadata": {},
   "outputs": [
    {
     "data": {
      "text/plain": [
       "count    634408.000000\n",
       "mean        387.325721\n",
       "std         281.101808\n",
       "min          31.000000\n",
       "25%         153.000000\n",
       "50%         306.000000\n",
       "75%         549.000000\n",
       "max        2010.000000\n",
       "Name: next_pymnt_d, dtype: float64"
      ]
     },
     "execution_count": 92,
     "metadata": {},
     "output_type": "execute_result"
    }
   ],
   "source": [
    "X.next_pymnt_d.describe()"
   ]
  },
  {
   "cell_type": "code",
   "execution_count": 93,
   "id": "5588812a-bbd9-4b8a-a113-1e07dc35e532",
   "metadata": {},
   "outputs": [],
   "source": [
    "X.next_pymnt_d.fillna(306,inplace=True)\n",
    "X2.next_pymnt_d.fillna(306,inplace=True)"
   ]
  },
  {
   "cell_type": "code",
   "execution_count": 94,
   "id": "c6708b5c-a649-4640-b930-91014bde02ec",
   "metadata": {},
   "outputs": [],
   "source": [
    "X.max_bal_bc.fillna(0,inplace=True)\n",
    "X2.max_bal_bc.fillna(0,inplace=True)"
   ]
  },
  {
   "cell_type": "code",
   "execution_count": 95,
   "id": "5cbb88b1-7ec7-4e28-b6cc-c66a1d842c19",
   "metadata": {},
   "outputs": [
    {
     "name": "stdout",
     "output_type": "stream",
     "text": [
      "annual_inc_joint\n"
     ]
    }
   ],
   "source": [
    "#Lets see what is still missing values in each data set\n",
    "for col in X.columns:\n",
    "    if X[col].isna().sum()>0:\n",
    "        print(col)"
   ]
  },
  {
   "cell_type": "code",
   "execution_count": 96,
   "id": "265fc982-df30-4d9a-ba74-27a3c463c28b",
   "metadata": {},
   "outputs": [
    {
     "data": {
      "text/html": [
       "<div>\n",
       "<style scoped>\n",
       "    .dataframe tbody tr th:only-of-type {\n",
       "        vertical-align: middle;\n",
       "    }\n",
       "\n",
       "    .dataframe tbody tr th {\n",
       "        vertical-align: top;\n",
       "    }\n",
       "\n",
       "    .dataframe thead th {\n",
       "        text-align: right;\n",
       "    }\n",
       "</style>\n",
       "<table border=\"1\" class=\"dataframe\">\n",
       "  <thead>\n",
       "    <tr style=\"text-align: right;\">\n",
       "      <th></th>\n",
       "      <th>annual_inc</th>\n",
       "      <th>annual_inc_joint</th>\n",
       "    </tr>\n",
       "  </thead>\n",
       "  <tbody>\n",
       "    <tr>\n",
       "      <th>42449</th>\n",
       "      <td>65000.0</td>\n",
       "      <td>NaN</td>\n",
       "    </tr>\n",
       "    <tr>\n",
       "      <th>42450</th>\n",
       "      <td>65000.0</td>\n",
       "      <td>NaN</td>\n",
       "    </tr>\n",
       "    <tr>\n",
       "      <th>42480</th>\n",
       "      <td>65000.0</td>\n",
       "      <td>NaN</td>\n",
       "    </tr>\n",
       "    <tr>\n",
       "      <th>42533</th>\n",
       "      <td>65000.0</td>\n",
       "      <td>NaN</td>\n",
       "    </tr>\n",
       "  </tbody>\n",
       "</table>\n",
       "</div>"
      ],
      "text/plain": [
       "       annual_inc  annual_inc_joint\n",
       "42449     65000.0               NaN\n",
       "42450     65000.0               NaN\n",
       "42480     65000.0               NaN\n",
       "42533     65000.0               NaN"
      ]
     },
     "execution_count": 96,
     "metadata": {},
     "output_type": "execute_result"
    }
   ],
   "source": [
    "#4 missing values here. Let's see what is going on in these\n",
    "X[X.annual_inc_joint.isna()][[\"annual_inc\",\"annual_inc_joint\"]]"
   ]
  },
  {
   "cell_type": "code",
   "execution_count": 97,
   "id": "cbfb09bd-17ff-4384-8015-51fcd47eb51d",
   "metadata": {},
   "outputs": [],
   "source": [
    "#These appear to be filled in values that were missing the annual income. We can just fill as before\n",
    "X.annual_inc_joint.fillna(X.annual_inc,inplace=True)"
   ]
  },
  {
   "cell_type": "code",
   "execution_count": 98,
   "id": "e9622730-a55c-446e-999c-7dd1eb04bc45",
   "metadata": {},
   "outputs": [
    {
     "name": "stdout",
     "output_type": "stream",
     "text": [
      "zip_code\n"
     ]
    }
   ],
   "source": [
    "#That took care of the last missing values in X. Let's look at X2\n",
    "for col in X2.columns:\n",
    "    if X2[col].isna().sum()>0:\n",
    "        print(col)"
   ]
  },
  {
   "cell_type": "markdown",
   "id": "75194e3e-5e1e-4bd1-bc86-eafc902fbc24",
   "metadata": {},
   "source": [
    "The zip code column in the test data is missing one value. Lets see what states these are in. "
   ]
  },
  {
   "cell_type": "code",
   "execution_count": 99,
   "id": "83b7dfa1-d342-4204-a554-fe03b68b566e",
   "metadata": {},
   "outputs": [
    {
     "data": {
      "text/plain": [
       "1"
      ]
     },
     "execution_count": 99,
     "metadata": {},
     "output_type": "execute_result"
    }
   ],
   "source": [
    "X2.zip_code.isna().sum()"
   ]
  },
  {
   "cell_type": "code",
   "execution_count": 100,
   "id": "4da5bc4b-2057-4dd1-bdf4-510403307fce",
   "metadata": {},
   "outputs": [
    {
     "data": {
      "text/plain": [
       "187263    AL\n",
       "Name: addr_state, dtype: object"
      ]
     },
     "execution_count": 100,
     "metadata": {},
     "output_type": "execute_result"
    }
   ],
   "source": [
    "#One missing zip code. let's see what state it's in\n",
    "X2[X2.zip_code.isna()].addr_state"
   ]
  },
  {
   "cell_type": "code",
   "execution_count": 101,
   "id": "cdf186ac-4f26-4be7-a24c-0ce05836368c",
   "metadata": {},
   "outputs": [
    {
     "data": {
      "text/plain": [
       "350xx    1001\n",
       "352xx     969\n",
       "365xx     817\n",
       "351xx     772\n",
       "357xx     577\n",
       "368xx     560\n",
       "360xx     557\n",
       "366xx     516\n",
       "356xx     501\n",
       "363xx     433\n",
       "361xx     395\n",
       "358xx     394\n",
       "359xx     390\n",
       "354xx     358\n",
       "362xx     338\n",
       "355xx     208\n",
       "364xx     147\n",
       "367xx     135\n",
       "369xx      28\n",
       "640xx       1\n",
       "091xx       1\n",
       "300xx       1\n",
       "307xx       1\n",
       "802xx       1\n",
       "184xx       1\n",
       "969xx       1\n",
       "750xx       1\n",
       "220xx       1\n",
       "902xx       1\n",
       "441xx       1\n",
       "326xx       1\n",
       "721xx       1\n",
       "325xx       1\n",
       "250xx       1\n",
       "852xx       1\n",
       "324xx       1\n",
       "980xx       1\n",
       "287xx       1\n",
       "857xx       1\n",
       "995xx       1\n",
       "191xx       1\n",
       "319xx       1\n",
       "483xx       1\n",
       "240xx       1\n",
       "951xx       1\n",
       "337xx       1\n",
       "890xx       1\n",
       "925xx       1\n",
       "112xx       1\n",
       "134xx       1\n",
       "315xx       1\n",
       "096xx       1\n",
       "251xx       1\n",
       "294xx       1\n",
       "941xx       1\n",
       "Name: zip_code, dtype: int64"
      ]
     },
     "execution_count": 101,
     "metadata": {},
     "output_type": "execute_result"
    }
   ],
   "source": [
    "#What zip codes do we have in AL?\n",
    "X2[X2.addr_state==\"AL\"].zip_code.value_counts()"
   ]
  },
  {
   "cell_type": "code",
   "execution_count": 102,
   "id": "efe3f1aa-15c0-483f-8037-1d06b745f5ec",
   "metadata": {},
   "outputs": [],
   "source": [
    "#Most common in AL was the 350xx zip code so we'll use that\n",
    "X2.zip_code.fillna(\"350xx\",inplace=True)"
   ]
  },
  {
   "cell_type": "code",
   "execution_count": 103,
   "id": "0eff9440-a7dc-4040-aaaf-dbf9e778e22d",
   "metadata": {},
   "outputs": [
    {
     "data": {
      "text/plain": [
       "0"
      ]
     },
     "execution_count": 103,
     "metadata": {},
     "output_type": "execute_result"
    }
   ],
   "source": [
    "X2.isna().sum().max()"
   ]
  },
  {
   "cell_type": "markdown",
   "id": "7d256464-023c-46d8-a229-d1ac0a9dcf56",
   "metadata": {},
   "source": [
    "We now have no missing values in our data. We can create a target vector based on the values in the loan status column"
   ]
  },
  {
   "cell_type": "code",
   "execution_count": 104,
   "id": "9d3ee428-de78-44c5-9354-3643a5531b33",
   "metadata": {},
   "outputs": [
    {
     "data": {
      "text/plain": [
       "Current                                                601779\n",
       "Fully Paid                                             207723\n",
       "Charged Off                                             45248\n",
       "Late (31-120 days)                                      11591\n",
       "Issued                                                   8460\n",
       "In Grace Period                                          6253\n",
       "Late (16-30 days)                                        2357\n",
       "Does not meet the credit policy. Status:Fully Paid       1988\n",
       "Default                                                  1219\n",
       "Does not meet the credit policy. Status:Charged Off       761\n",
       "Name: loan_status, dtype: int64"
      ]
     },
     "execution_count": 104,
     "metadata": {},
     "output_type": "execute_result"
    }
   ],
   "source": [
    "X['loan_status'].value_counts()"
   ]
  },
  {
   "cell_type": "code",
   "execution_count": 105,
   "id": "151c7b0b-9a0d-475e-87a8-8495c0bbb378",
   "metadata": {},
   "outputs": [
    {
     "data": {
      "text/plain": [
       "Current               565523\n",
       "Fully Paid            130718\n",
       "Charged Off            37197\n",
       "Late (31-120 days)     15354\n",
       "In Grace Period         6634\n",
       "Late (16-30 days)       3876\n",
       "Default                   36\n",
       "Name: loan_status, dtype: int64"
      ]
     },
     "execution_count": 105,
     "metadata": {},
     "output_type": "execute_result"
    }
   ],
   "source": [
    "X2['loan_status'].value_counts()"
   ]
  },
  {
   "cell_type": "code",
   "execution_count": 106,
   "id": "1d83bf69-faa4-4970-9352-16b7926e7364",
   "metadata": {},
   "outputs": [
    {
     "data": {
      "text/plain": [
       "array(['Current', 'Fully Paid', 'In Grace Period', 'Late (31-120 days)',\n",
       "       'Late (16-30 days)', 'Charged Off', 'Default'], dtype=object)"
      ]
     },
     "execution_count": 106,
     "metadata": {},
     "output_type": "execute_result"
    }
   ],
   "source": [
    "X2['loan_status'].unique()"
   ]
  },
  {
   "cell_type": "code",
   "execution_count": 107,
   "id": "5c8aafe4-c78a-475e-834f-48c5e2c3b763",
   "metadata": {},
   "outputs": [],
   "source": [
    "#For each of the possible values of loan status , we put a 0 if favorable, 1 if unfavorable. \n",
    "#We any thing charged off, in default, or late more than a month unfavorable, otherwise favorable\n",
    "values=[0,1,0,1,1,0,0,0,1,0]"
   ]
  },
  {
   "cell_type": "code",
   "execution_count": 108,
   "id": "8de3e70d-9358-4248-b4e8-a97d5e1d2134",
   "metadata": {},
   "outputs": [],
   "source": [
    "#make a list of the values\n",
    "keys=list(X['loan_status'].unique())"
   ]
  },
  {
   "cell_type": "code",
   "execution_count": 109,
   "id": "e9e3d557-fcbd-4026-a8d3-335eccf97e46",
   "metadata": {},
   "outputs": [
    {
     "data": {
      "text/plain": [
       "['Fully Paid',\n",
       " 'Charged Off',\n",
       " 'Current',\n",
       " 'Default',\n",
       " 'Late (31-120 days)',\n",
       " 'In Grace Period',\n",
       " 'Late (16-30 days)',\n",
       " 'Does not meet the credit policy. Status:Fully Paid',\n",
       " 'Does not meet the credit policy. Status:Charged Off',\n",
       " 'Issued']"
      ]
     },
     "execution_count": 109,
     "metadata": {},
     "output_type": "execute_result"
    }
   ],
   "source": [
    "keys"
   ]
  },
  {
   "cell_type": "code",
   "execution_count": 110,
   "id": "fe41d149-6f70-498c-aa2a-b8600694e568",
   "metadata": {},
   "outputs": [],
   "source": [
    "#make a dictionary mapping each value possible in loan status to a 0 or 1\n",
    "dictionary=dict(zip(keys,values))"
   ]
  },
  {
   "cell_type": "code",
   "execution_count": 111,
   "id": "8f906da5-9e8a-4619-aeef-1539d97b8823",
   "metadata": {},
   "outputs": [
    {
     "name": "stdout",
     "output_type": "stream",
     "text": [
      "{'Fully Paid': 0, 'Charged Off': 1, 'Current': 0, 'Default': 1, 'Late (31-120 days)': 1, 'In Grace Period': 0, 'Late (16-30 days)': 0, 'Does not meet the credit policy. Status:Fully Paid': 0, 'Does not meet the credit policy. Status:Charged Off': 1, 'Issued': 0}\n"
     ]
    }
   ],
   "source": [
    "print(dictionary)"
   ]
  },
  {
   "cell_type": "code",
   "execution_count": 112,
   "id": "6d66deca-ef75-47b8-a23b-11cf8588427f",
   "metadata": {},
   "outputs": [],
   "source": [
    "#replace the status with a 0 or 1 as appropriate\n",
    "X['target']=X['loan_status'].map(dictionary)\n",
    "X2['target']=X2['loan_status'].map(dictionary)\n",
    "X.drop(columns=['loan_status'],inplace=True)\n",
    "X2.drop(columns=['loan_status'],inplace=True)"
   ]
  },
  {
   "cell_type": "markdown",
   "id": "fe9b5763-33b9-45f7-9d61-42c6cfd58b7f",
   "metadata": {},
   "source": [
    "We can see what percentage of loans are considered bad"
   ]
  },
  {
   "cell_type": "code",
   "execution_count": 113,
   "id": "d5e61809-c774-43fd-a40d-dc971b408e5b",
   "metadata": {},
   "outputs": [
    {
     "name": "stdout",
     "output_type": "stream",
     "text": [
      "The training data has  6.628396660277063 % of loans that are bad\n",
      "The test data has  6.925374470920723 % of loans that are bad\n",
      "There were  58819 bad loans in the training data\n",
      "There were  52587 bad loans in the test data\n"
     ]
    }
   ],
   "source": [
    "print(\"The training data has \",X['target'].sum()/len(X['target'])*100,\"% of loans that are bad\")\n",
    "print(\"The test data has \",X2['target'].sum()/len(X2['target'])*100,\"% of loans that are bad\")\n",
    "print(\"There were \",X['target'].sum(), \"bad loans in the training data\")\n",
    "print(\"There were \",X2['target'].sum(), \"bad loans in the test data\")"
   ]
  },
  {
   "cell_type": "markdown",
   "id": "b923f991-f1dd-477a-b2c7-d9977dc65dd8",
   "metadata": {},
   "source": [
    "We have very unbalanced data here. When we actually go to model we will have to try to deal with this."
   ]
  },
  {
   "cell_type": "markdown",
   "id": "6627ffc9-ad91-47e9-a46d-5bd93f8b1419",
   "metadata": {
    "tags": []
   },
   "source": [
    "## Exploratory Data Analysis"
   ]
  },
  {
   "cell_type": "markdown",
   "id": "086683b4-0632-42ce-9b6a-17538fdcdf40",
   "metadata": {},
   "source": [
    "Many of the features had almost all values missing. There's a very small positive class so we'll examine those to see how the positive class relates to those"
   ]
  },
  {
   "cell_type": "code",
   "execution_count": 114,
   "id": "de38384c-84f0-43a9-8116-ef98ee1bfbcc",
   "metadata": {},
   "outputs": [
    {
     "data": {
      "text/plain": [
       "0    0\n",
       "1    1\n",
       "2    0\n",
       "3    0\n",
       "4    0\n",
       "Name: loan_status, dtype: int64"
      ]
     },
     "execution_count": 114,
     "metadata": {},
     "output_type": "execute_result"
    }
   ],
   "source": [
    "#First we make a version of the target vector including the joint loans so we can compare to missing values. \n",
    "#we don't want to compare to filled values \n",
    "temp_target=df.loan_status.map(dictionary)\n",
    "temp_target.head()\n"
   ]
  },
  {
   "cell_type": "code",
   "execution_count": 115,
   "id": "9c7f218f-c856-4b4f-bf0c-27c78ff09a7d",
   "metadata": {},
   "outputs": [
    {
     "data": {
      "text/plain": [
       "868762"
      ]
     },
     "execution_count": 115,
     "metadata": {},
     "output_type": "execute_result"
    }
   ],
   "source": [
    "#First the il_util column\n",
    "df.il_util.isna().sum()"
   ]
  },
  {
   "cell_type": "code",
   "execution_count": 116,
   "id": "4a4d4b8f-6849-43c5-87dd-51460f5a511d",
   "metadata": {},
   "outputs": [],
   "source": [
    "temp_y=temp_target[df.il_util.notnull()]\n"
   ]
  },
  {
   "cell_type": "code",
   "execution_count": 117,
   "id": "cbc4da79-9fba-4720-8b87-80c9cd7679ac",
   "metadata": {},
   "outputs": [
    {
     "data": {
      "text/plain": [
       "0"
      ]
     },
     "execution_count": 117,
     "metadata": {},
     "output_type": "execute_result"
    }
   ],
   "source": [
    "temp_y.sum()"
   ]
  },
  {
   "cell_type": "code",
   "execution_count": 118,
   "id": "e330a186-a40e-4f7a-95f1-ef21a6365c91",
   "metadata": {},
   "outputs": [],
   "source": [
    "#Next the months since recent utilization of installment loan\n",
    "temp_y=temp_target[df.mths_since_rcnt_il.notnull()]"
   ]
  },
  {
   "cell_type": "code",
   "execution_count": 119,
   "id": "d5b3180c-ca03-4719-b7d1-5188dbf16caf",
   "metadata": {},
   "outputs": [
    {
     "data": {
      "text/plain": [
       "0"
      ]
     },
     "execution_count": 119,
     "metadata": {},
     "output_type": "execute_result"
    }
   ],
   "source": [
    "temp_y.sum()"
   ]
  },
  {
   "cell_type": "code",
   "execution_count": 120,
   "id": "f33e5fd0-1275-4574-ace6-8013c0b49ea3",
   "metadata": {},
   "outputs": [
    {
     "data": {
      "text/plain": [
       "0"
      ]
     },
     "execution_count": 120,
     "metadata": {},
     "output_type": "execute_result"
    }
   ],
   "source": [
    "#Next the all_util column\n",
    "temp_y=temp_target[df.all_util.notnull()]\n",
    "temp_y.sum()"
   ]
  },
  {
   "cell_type": "code",
   "execution_count": 121,
   "id": "ad790ef6-5b81-4a8d-9d26-a0cac27bdd69",
   "metadata": {},
   "outputs": [
    {
     "data": {
      "text/plain": [
       "0"
      ]
     },
     "execution_count": 121,
     "metadata": {},
     "output_type": "execute_result"
    }
   ],
   "source": [
    "#Next the inq_fi column\n",
    "temp_y=temp_target[df.inq_fi.notnull()]\n",
    "temp_y.sum()"
   ]
  },
  {
   "cell_type": "code",
   "execution_count": 122,
   "id": "bb4a3800-14f4-4e38-9152-0d33ec9a8817",
   "metadata": {},
   "outputs": [
    {
     "data": {
      "text/plain": [
       "0"
      ]
     },
     "execution_count": 122,
     "metadata": {},
     "output_type": "execute_result"
    }
   ],
   "source": [
    "#next the inq_last_12m\n",
    "temp_y=temp_target[df.inq_last_12m.notnull()]\n",
    "temp_y.sum()"
   ]
  },
  {
   "cell_type": "code",
   "execution_count": 123,
   "id": "07cd4b17-992f-4a04-bee6-0b621dd3e498",
   "metadata": {},
   "outputs": [
    {
     "data": {
      "text/plain": [
       "0"
      ]
     },
     "execution_count": 123,
     "metadata": {},
     "output_type": "execute_result"
    }
   ],
   "source": [
    "#next max_bal_bc column\n",
    "temp_y=temp_target[df.max_bal_bc.notnull()]\n",
    "temp_y.sum()"
   ]
  },
  {
   "cell_type": "code",
   "execution_count": 124,
   "id": "c7314d1b-f3e9-4efe-90cf-d50f9e376fe8",
   "metadata": {},
   "outputs": [
    {
     "data": {
      "text/plain": [
       "0"
      ]
     },
     "execution_count": 124,
     "metadata": {},
     "output_type": "execute_result"
    }
   ],
   "source": [
    "#next the open_acc_6m column\n",
    "temp_y=temp_target[df.open_acc_6m.notnull()]\n",
    "temp_y.sum()"
   ]
  },
  {
   "cell_type": "code",
   "execution_count": 125,
   "id": "5f17e3ea-5603-46c5-bd18-ffc65a1d33e1",
   "metadata": {},
   "outputs": [
    {
     "data": {
      "text/plain": [
       "0"
      ]
     },
     "execution_count": 125,
     "metadata": {},
     "output_type": "execute_result"
    }
   ],
   "source": [
    "#next the open_il_6m column\n",
    "temp_y=temp_target[df.open_il_6m.notnull()]\n",
    "temp_y.sum()"
   ]
  },
  {
   "cell_type": "code",
   "execution_count": 126,
   "id": "62d57b69-76c6-45c0-a9b2-beac3362c6dc",
   "metadata": {},
   "outputs": [
    {
     "data": {
      "text/plain": [
       "0"
      ]
     },
     "execution_count": 126,
     "metadata": {},
     "output_type": "execute_result"
    }
   ],
   "source": [
    "#next the open_il_12m column\n",
    "temp_y=temp_target[df.open_il_12m.notnull()]\n",
    "temp_y.sum()"
   ]
  },
  {
   "cell_type": "code",
   "execution_count": 127,
   "id": "8086064e-beeb-4782-8e17-f516e1ce7b05",
   "metadata": {},
   "outputs": [
    {
     "data": {
      "text/plain": [
       "0"
      ]
     },
     "execution_count": 127,
     "metadata": {},
     "output_type": "execute_result"
    }
   ],
   "source": [
    "#next the open_il_24m column\n",
    "temp_y=temp_target[df.open_il_24m.notnull()]\n",
    "temp_y.sum()"
   ]
  },
  {
   "cell_type": "code",
   "execution_count": 128,
   "id": "529f14d9-7ba8-4972-b6b0-f51fa3a8bfc2",
   "metadata": {},
   "outputs": [
    {
     "data": {
      "text/plain": [
       "0"
      ]
     },
     "execution_count": 128,
     "metadata": {},
     "output_type": "execute_result"
    }
   ],
   "source": [
    "#next the open_rv_12m column\n",
    "temp_y=temp_target[df.open_rv_12m.notnull()]\n",
    "temp_y.sum()"
   ]
  },
  {
   "cell_type": "code",
   "execution_count": 129,
   "id": "20a46316-414f-4fe4-8b7e-01fdc2a43d6e",
   "metadata": {},
   "outputs": [
    {
     "data": {
      "text/plain": [
       "0"
      ]
     },
     "execution_count": 129,
     "metadata": {},
     "output_type": "execute_result"
    }
   ],
   "source": [
    "temp_y=temp_target[df.inq_last_12m.notnull()]\n",
    "temp_y.sum()"
   ]
  },
  {
   "cell_type": "markdown",
   "id": "dee166de-af95-41c2-9e07-f57d8019cd77",
   "metadata": {},
   "source": [
    "We are seeing a pattern here that many of these fields that had the vast majority of the entries missing had no members of the positive class when we did have information about them. This makes them feel dangerous to use as we could only make an intelligent guess as to what to put in. "
   ]
  },
  {
   "cell_type": "code",
   "execution_count": 130,
   "id": "b2b3e09d-1435-4637-80fd-d182d4479c81",
   "metadata": {},
   "outputs": [],
   "source": [
    "#We want to make a copy of the data. We keep the old copy with those columns in case\n",
    "#we want to use them in the future\n",
    "X_old=X\n",
    "dropcols=[]\n",
    "for col in X.columns:\n",
    "    if col!=\"target\":\n",
    "            if df[col].isna().sum()>=860000:\n",
    "                dropcols.append(col)"
   ]
  },
  {
   "cell_type": "code",
   "execution_count": 131,
   "id": "02b0b2a8-6242-4cf9-a3a1-75e00cfd33a0",
   "metadata": {},
   "outputs": [
    {
     "data": {
      "text/plain": [
       "['annual_inc_joint',\n",
       " 'dti_joint',\n",
       " 'verification_status_joint',\n",
       " 'open_acc_6m',\n",
       " 'open_il_12m',\n",
       " 'open_il_24m',\n",
       " 'mths_since_rcnt_il',\n",
       " 'total_bal_il',\n",
       " 'il_util',\n",
       " 'open_rv_12m',\n",
       " 'open_rv_24m',\n",
       " 'max_bal_bc',\n",
       " 'all_util',\n",
       " 'inq_fi',\n",
       " 'total_cu_tl',\n",
       " 'inq_last_12m']"
      ]
     },
     "execution_count": 131,
     "metadata": {},
     "output_type": "execute_result"
    }
   ],
   "source": [
    "dropcols"
   ]
  },
  {
   "cell_type": "markdown",
   "id": "b43e51f0-59da-4964-af2c-f98696cbacd7",
   "metadata": {},
   "source": [
    "These columns are mostly filled in and we saw that the ones with non-null values all were in the negative class. The actual values therefore aren't really useful to us, but it could be useful to know whether it was missing and how many of these were missing. We first replace the actual value of each one with a marker to indicate it was missing. We don't want to include the joint application data as we took care of that separately"
   ]
  },
  {
   "cell_type": "code",
   "execution_count": 132,
   "id": "d8aff433-f413-4307-bb6f-a3484824fe40",
   "metadata": {},
   "outputs": [],
   "source": [
    "dropcols.remove('annual_inc_joint')\n",
    "dropcols.remove('dti_joint')\n",
    "dropcols.remove('verification_status_joint')"
   ]
  },
  {
   "cell_type": "code",
   "execution_count": 133,
   "id": "cbb7d8b6-a5c2-4193-adfa-e53282df0f54",
   "metadata": {},
   "outputs": [],
   "source": [
    "#replace each of the remaining columns with a True/False depending on if they were null\n",
    "for col in dropcols:\n",
    "    X[col]=df[col].isna().astype(int)\n",
    "    X2[col]=df2[col].isna().astype(int)"
   ]
  },
  {
   "cell_type": "code",
   "execution_count": 134,
   "id": "4ca38ec3-05ca-4291-8f79-edd2ad1eb1b3",
   "metadata": {},
   "outputs": [
    {
     "data": {
      "text/html": [
       "<div>\n",
       "<style scoped>\n",
       "    .dataframe tbody tr th:only-of-type {\n",
       "        vertical-align: middle;\n",
       "    }\n",
       "\n",
       "    .dataframe tbody tr th {\n",
       "        vertical-align: top;\n",
       "    }\n",
       "\n",
       "    .dataframe thead th {\n",
       "        text-align: right;\n",
       "    }\n",
       "</style>\n",
       "<table border=\"1\" class=\"dataframe\">\n",
       "  <thead>\n",
       "    <tr style=\"text-align: right;\">\n",
       "      <th></th>\n",
       "      <th>open_acc_6m</th>\n",
       "      <th>open_il_12m</th>\n",
       "      <th>open_il_24m</th>\n",
       "      <th>mths_since_rcnt_il</th>\n",
       "      <th>total_bal_il</th>\n",
       "      <th>il_util</th>\n",
       "      <th>open_rv_12m</th>\n",
       "      <th>open_rv_24m</th>\n",
       "      <th>max_bal_bc</th>\n",
       "      <th>all_util</th>\n",
       "      <th>inq_fi</th>\n",
       "      <th>total_cu_tl</th>\n",
       "      <th>inq_last_12m</th>\n",
       "    </tr>\n",
       "  </thead>\n",
       "  <tbody>\n",
       "    <tr>\n",
       "      <th>0</th>\n",
       "      <td>1</td>\n",
       "      <td>1</td>\n",
       "      <td>1</td>\n",
       "      <td>1</td>\n",
       "      <td>1</td>\n",
       "      <td>1</td>\n",
       "      <td>1</td>\n",
       "      <td>1</td>\n",
       "      <td>1</td>\n",
       "      <td>1</td>\n",
       "      <td>1</td>\n",
       "      <td>1</td>\n",
       "      <td>1</td>\n",
       "    </tr>\n",
       "    <tr>\n",
       "      <th>1</th>\n",
       "      <td>1</td>\n",
       "      <td>1</td>\n",
       "      <td>1</td>\n",
       "      <td>1</td>\n",
       "      <td>1</td>\n",
       "      <td>1</td>\n",
       "      <td>1</td>\n",
       "      <td>1</td>\n",
       "      <td>1</td>\n",
       "      <td>1</td>\n",
       "      <td>1</td>\n",
       "      <td>1</td>\n",
       "      <td>1</td>\n",
       "    </tr>\n",
       "    <tr>\n",
       "      <th>2</th>\n",
       "      <td>1</td>\n",
       "      <td>1</td>\n",
       "      <td>1</td>\n",
       "      <td>1</td>\n",
       "      <td>1</td>\n",
       "      <td>1</td>\n",
       "      <td>1</td>\n",
       "      <td>1</td>\n",
       "      <td>1</td>\n",
       "      <td>1</td>\n",
       "      <td>1</td>\n",
       "      <td>1</td>\n",
       "      <td>1</td>\n",
       "    </tr>\n",
       "    <tr>\n",
       "      <th>3</th>\n",
       "      <td>1</td>\n",
       "      <td>1</td>\n",
       "      <td>1</td>\n",
       "      <td>1</td>\n",
       "      <td>1</td>\n",
       "      <td>1</td>\n",
       "      <td>1</td>\n",
       "      <td>1</td>\n",
       "      <td>1</td>\n",
       "      <td>1</td>\n",
       "      <td>1</td>\n",
       "      <td>1</td>\n",
       "      <td>1</td>\n",
       "    </tr>\n",
       "    <tr>\n",
       "      <th>4</th>\n",
       "      <td>1</td>\n",
       "      <td>1</td>\n",
       "      <td>1</td>\n",
       "      <td>1</td>\n",
       "      <td>1</td>\n",
       "      <td>1</td>\n",
       "      <td>1</td>\n",
       "      <td>1</td>\n",
       "      <td>1</td>\n",
       "      <td>1</td>\n",
       "      <td>1</td>\n",
       "      <td>1</td>\n",
       "      <td>1</td>\n",
       "    </tr>\n",
       "  </tbody>\n",
       "</table>\n",
       "</div>"
      ],
      "text/plain": [
       "   open_acc_6m  open_il_12m  open_il_24m  mths_since_rcnt_il  total_bal_il  \\\n",
       "0            1            1            1                   1             1   \n",
       "1            1            1            1                   1             1   \n",
       "2            1            1            1                   1             1   \n",
       "3            1            1            1                   1             1   \n",
       "4            1            1            1                   1             1   \n",
       "\n",
       "   il_util  open_rv_12m  open_rv_24m  max_bal_bc  all_util  inq_fi  \\\n",
       "0        1            1            1           1         1       1   \n",
       "1        1            1            1           1         1       1   \n",
       "2        1            1            1           1         1       1   \n",
       "3        1            1            1           1         1       1   \n",
       "4        1            1            1           1         1       1   \n",
       "\n",
       "   total_cu_tl  inq_last_12m  \n",
       "0            1             1  \n",
       "1            1             1  \n",
       "2            1             1  \n",
       "3            1             1  \n",
       "4            1             1  "
      ]
     },
     "execution_count": 134,
     "metadata": {},
     "output_type": "execute_result"
    }
   ],
   "source": [
    "X[dropcols].head()"
   ]
  },
  {
   "cell_type": "code",
   "execution_count": 135,
   "id": "6b0ec8f4-7603-4134-b59b-39badc516839",
   "metadata": {},
   "outputs": [],
   "source": [
    "X['missing_columns']=X[dropcols].sum(axis=1)\n",
    "X2['missing_columns']=X2[dropcols].sum(axis=1)"
   ]
  },
  {
   "cell_type": "code",
   "execution_count": 136,
   "id": "0cf6b6b1-5271-4ef3-9a0a-4fec2688f42f",
   "metadata": {},
   "outputs": [
    {
     "data": {
      "text/plain": [
       "0    13\n",
       "1    13\n",
       "2    13\n",
       "3    13\n",
       "4    13\n",
       "Name: missing_columns, dtype: int64"
      ]
     },
     "execution_count": 136,
     "metadata": {},
     "output_type": "execute_result"
    }
   ],
   "source": [
    "X.missing_columns.head()"
   ]
  },
  {
   "cell_type": "code",
   "execution_count": 137,
   "id": "11e778de-0048-40ad-af2f-e862fe2e0f1b",
   "metadata": {},
   "outputs": [
    {
     "data": {
      "text/plain": [
       "13    866007\n",
       "0      18591\n",
       "1       2245\n",
       "2        536\n",
       "Name: missing_columns, dtype: int64"
      ]
     },
     "execution_count": 137,
     "metadata": {},
     "output_type": "execute_result"
    }
   ],
   "source": [
    "X.missing_columns.value_counts()"
   ]
  },
  {
   "cell_type": "code",
   "execution_count": 138,
   "id": "392e54d9-fd44-4c85-a6e4-8b7ad0b16bb2",
   "metadata": {},
   "outputs": [],
   "source": [
    "#Now we can remove the individual ones\n",
    "X.drop(columns=dropcols,inplace=True)\n",
    "X2.drop(columns=dropcols,inplace=True)"
   ]
  },
  {
   "cell_type": "code",
   "execution_count": 139,
   "id": "2cc05773-760c-4b36-98e0-d25fd2024461",
   "metadata": {},
   "outputs": [
    {
     "name": "stdout",
     "output_type": "stream",
     "text": [
      "27323\n",
      "47900\n"
     ]
    }
   ],
   "source": [
    "#there were a few others with not quite as many missing values we can look at\n",
    "temp_y=temp_target[df.mths_since_last_delinq.notnull()]\n",
    "print(temp_y.sum())\n",
    "temp_y=temp_target[df.tot_coll_amt.notnull()]\n",
    "print(temp_y.sum())"
   ]
  },
  {
   "cell_type": "markdown",
   "id": "6707eb9f-03ad-41c2-a9fe-a9102a36d922",
   "metadata": {},
   "source": [
    "Unlike the previous ones, the ones with actual information in them contain many positive class entries. We can see if the actual values they have seem to affect the outcome"
   ]
  },
  {
   "cell_type": "code",
   "execution_count": 140,
   "id": "1df00a5b-16bd-43b8-9d95-f6e34e09bd75",
   "metadata": {},
   "outputs": [
    {
     "data": {
      "image/png": "[encoded data removed]",
      "text/plain": [
       "<Figure size 432x288 with 1 Axes>"
      ]
     },
     "metadata": {
      "needs_background": "light"
     },
     "output_type": "display_data"
    }
   ],
   "source": [
    "sns.scatterplot(x=X.mths_since_last_delinq,y=X.tot_coll_amt,hue=X.target)\n",
    "plt.show()"
   ]
  },
  {
   "cell_type": "code",
   "execution_count": 141,
   "id": "dc2e1b19-97af-4640-88ab-0ab07e8cdb3d",
   "metadata": {},
   "outputs": [],
   "source": [
    "#there is one outlier that is clearly skewing the picture so we can try to remove it#\n",
    "X_outlier_removed=X[X.tot_coll_amt<X.tot_coll_amt.max()]"
   ]
  },
  {
   "cell_type": "code",
   "execution_count": 142,
   "id": "19a42a9a-3cb3-4e45-a549-2fdccf17af6d",
   "metadata": {},
   "outputs": [
    {
     "data": {
      "image/png": "[encoded data removed]",
      "text/plain": [
       "<Figure size 432x288 with 1 Axes>"
      ]
     },
     "metadata": {
      "needs_background": "light"
     },
     "output_type": "display_data"
    }
   ],
   "source": [
    "sns.scatterplot(x=X_outlier_removed.mths_since_last_delinq,y=X_outlier_removed.tot_coll_amt,hue=X_outlier_removed.target)\n",
    "plt.show()"
   ]
  },
  {
   "cell_type": "markdown",
   "id": "dd7424a5-1f53-4556-96da-c9230caf881a",
   "metadata": {},
   "source": [
    "There is no obvious pattern but that one outlier definitely appears troubling. Let's see what that data point looks like"
   ]
  },
  {
   "cell_type": "code",
   "execution_count": 143,
   "id": "e0491dc2-18e0-40ed-9d56-39da8f683b5f",
   "metadata": {},
   "outputs": [
    {
     "data": {
      "text/html": [
       "<div>\n",
       "<style scoped>\n",
       "    .dataframe tbody tr th:only-of-type {\n",
       "        vertical-align: middle;\n",
       "    }\n",
       "\n",
       "    .dataframe tbody tr th {\n",
       "        vertical-align: top;\n",
       "    }\n",
       "\n",
       "    .dataframe thead th {\n",
       "        text-align: right;\n",
       "    }\n",
       "</style>\n",
       "<table border=\"1\" class=\"dataframe\">\n",
       "  <thead>\n",
       "    <tr style=\"text-align: right;\">\n",
       "      <th></th>\n",
       "      <th>loan_amnt</th>\n",
       "      <th>funded_amnt</th>\n",
       "      <th>funded_amnt_inv</th>\n",
       "      <th>term</th>\n",
       "      <th>int_rate</th>\n",
       "      <th>installment</th>\n",
       "      <th>grade</th>\n",
       "      <th>sub_grade</th>\n",
       "      <th>emp_title</th>\n",
       "      <th>emp_length</th>\n",
       "      <th>...</th>\n",
       "      <th>acc_now_delinq</th>\n",
       "      <th>tot_coll_amt</th>\n",
       "      <th>tot_cur_bal</th>\n",
       "      <th>total_rev_hi_lim</th>\n",
       "      <th>last_credit_pull_d</th>\n",
       "      <th>last_pymnt_d</th>\n",
       "      <th>earliest_cr_line</th>\n",
       "      <th>next_pymnt_d</th>\n",
       "      <th>target</th>\n",
       "      <th>missing_columns</th>\n",
       "    </tr>\n",
       "  </thead>\n",
       "  <tbody>\n",
       "    <tr>\n",
       "      <th>416962</th>\n",
       "      <td>10800.0</td>\n",
       "      <td>10800.0</td>\n",
       "      <td>10800.0</td>\n",
       "      <td>36 months</td>\n",
       "      <td>15.31</td>\n",
       "      <td>376.03</td>\n",
       "      <td>C</td>\n",
       "      <td>C4</td>\n",
       "      <td>Attorney</td>\n",
       "      <td>1.0</td>\n",
       "      <td>...</td>\n",
       "      <td>0.0</td>\n",
       "      <td>9152545.0</td>\n",
       "      <td>233924.0</td>\n",
       "      <td>13600.0</td>\n",
       "      <td>640.0</td>\n",
       "      <td>609.0</td>\n",
       "      <td>4292.0</td>\n",
       "      <td>306.0</td>\n",
       "      <td>0</td>\n",
       "      <td>13</td>\n",
       "    </tr>\n",
       "  </tbody>\n",
       "</table>\n",
       "<p>1 rows × 56 columns</p>\n",
       "</div>"
      ],
      "text/plain": [
       "        loan_amnt  funded_amnt  funded_amnt_inv        term  int_rate  \\\n",
       "416962    10800.0      10800.0          10800.0   36 months     15.31   \n",
       "\n",
       "        installment grade sub_grade emp_title  emp_length  ... acc_now_delinq  \\\n",
       "416962       376.03     C        C4  Attorney         1.0  ...            0.0   \n",
       "\n",
       "        tot_coll_amt tot_cur_bal total_rev_hi_lim last_credit_pull_d  \\\n",
       "416962     9152545.0    233924.0          13600.0              640.0   \n",
       "\n",
       "       last_pymnt_d earliest_cr_line next_pymnt_d  target  missing_columns  \n",
       "416962        609.0           4292.0        306.0       0               13  \n",
       "\n",
       "[1 rows x 56 columns]"
      ]
     },
     "execution_count": 143,
     "metadata": {},
     "output_type": "execute_result"
    }
   ],
   "source": [
    "X[X.tot_coll_amt==X.tot_coll_amt.max()]"
   ]
  },
  {
   "cell_type": "markdown",
   "id": "97855a63-ab1d-4d66-8ba8-9cf70624344c",
   "metadata": {},
   "source": [
    "This looks a bit odd, but as long as we stick to decision tree based algorithms, it's unlikely to throw things off. If we use anything that we need to normalize and attach weights, it might be best to throw out this outlier"
   ]
  },
  {
   "cell_type": "markdown",
   "id": "5d9312d1-1fd1-4518-9a09-2294bb055408",
   "metadata": {},
   "source": [
    "Before looking at effects of DTI or income we want to make one column for each. For individuals this will be the same we had before, but for joint applications it will be the average"
   ]
  },
  {
   "cell_type": "code",
   "execution_count": 144,
   "id": "5d5b3a86-1a48-4041-ba9c-372da614ff76",
   "metadata": {},
   "outputs": [],
   "source": [
    "X.dti=(X.dti+X.dti_joint)/2\n",
    "X2.dti=(X2.dti+X2.dti_joint)/2\n",
    "X.annual_inc=(X.annual_inc+X.annual_inc_joint)/2\n",
    "X2.annual_inc=(X2.annual_inc+X2.annual_inc_joint)/2"
   ]
  },
  {
   "cell_type": "code",
   "execution_count": 145,
   "id": "bd798186-5381-455b-8c25-a4ae897727f9",
   "metadata": {},
   "outputs": [],
   "source": [
    "#Now we can drop the joint dti and joint income columns\n",
    "X.drop(columns=['dti_joint','annual_inc_joint'],inplace=True)\n",
    "X2.drop(columns=['dti_joint','annual_inc_joint'],inplace=True)"
   ]
  },
  {
   "cell_type": "code",
   "execution_count": 146,
   "id": "d7a87218-0dc5-4260-9fd5-eb8ac9b91611",
   "metadata": {},
   "outputs": [
    {
     "data": {
      "text/plain": [
       "<AxesSubplot:xlabel='dti', ylabel='annual_inc'>"
      ]
     },
     "execution_count": 146,
     "metadata": {},
     "output_type": "execute_result"
    },
    {
     "data": {
      "image/png": "[encoded data removed]",
      "text/plain": [
       "<Figure size 432x288 with 1 Axes>"
      ]
     },
     "metadata": {
      "needs_background": "light"
     },
     "output_type": "display_data"
    }
   ],
   "source": [
    "sns.scatterplot(data=X,x='dti',y='annual_inc',hue='target')"
   ]
  },
  {
   "cell_type": "code",
   "execution_count": 148,
   "id": "3b842d8d-5e29-4a65-a9b1-29c903ed3a03",
   "metadata": {},
   "outputs": [
    {
     "data": {
      "text/plain": [
       "count    887379.000000\n",
       "mean         18.141741\n",
       "std          11.203499\n",
       "min           0.000000\n",
       "25%          11.910000\n",
       "50%          17.650000\n",
       "75%          23.940000\n",
       "max        5013.860000\n",
       "Name: dti, dtype: float64"
      ]
     },
     "execution_count": 148,
     "metadata": {},
     "output_type": "execute_result"
    }
   ],
   "source": [
    "X.dti.describe()"
   ]
  },
  {
   "cell_type": "code",
   "execution_count": 149,
   "id": "f85c5416-15ce-4fb7-87d3-c92dade0d779",
   "metadata": {},
   "outputs": [
    {
     "data": {
      "text/plain": [
       "(2, 54)"
      ]
     },
     "execution_count": 149,
     "metadata": {},
     "output_type": "execute_result"
    }
   ],
   "source": [
    "X[X.dti>1000].shape"
   ]
  },
  {
   "cell_type": "code",
   "execution_count": 150,
   "id": "14337a6d-f71c-4a86-8fb5-960ec66642b4",
   "metadata": {},
   "outputs": [
    {
     "data": {
      "text/html": [
       "<div>\n",
       "<style scoped>\n",
       "    .dataframe tbody tr th:only-of-type {\n",
       "        vertical-align: middle;\n",
       "    }\n",
       "\n",
       "    .dataframe tbody tr th {\n",
       "        vertical-align: top;\n",
       "    }\n",
       "\n",
       "    .dataframe thead th {\n",
       "        text-align: right;\n",
       "    }\n",
       "</style>\n",
       "<table border=\"1\" class=\"dataframe\">\n",
       "  <thead>\n",
       "    <tr style=\"text-align: right;\">\n",
       "      <th></th>\n",
       "      <th>annual_inc</th>\n",
       "      <th>tot_cur_bal</th>\n",
       "      <th>dti</th>\n",
       "    </tr>\n",
       "  </thead>\n",
       "  <tbody>\n",
       "    <tr>\n",
       "      <th>484446</th>\n",
       "      <td>92500.0</td>\n",
       "      <td>8715.0</td>\n",
       "      <td>5002.155</td>\n",
       "    </tr>\n",
       "    <tr>\n",
       "      <th>531886</th>\n",
       "      <td>20494.0</td>\n",
       "      <td>24521.0</td>\n",
       "      <td>5013.860</td>\n",
       "    </tr>\n",
       "  </tbody>\n",
       "</table>\n",
       "</div>"
      ],
      "text/plain": [
       "        annual_inc  tot_cur_bal       dti\n",
       "484446     92500.0       8715.0  5002.155\n",
       "531886     20494.0      24521.0  5013.860"
      ]
     },
     "execution_count": 150,
     "metadata": {},
     "output_type": "execute_result"
    }
   ],
   "source": [
    "#two entries with DTI over 1000. This seems very unlikely, so let's look at these\n",
    "X[X.dti>1000][['annual_inc','tot_cur_bal','dti']]"
   ]
  },
  {
   "cell_type": "code",
   "execution_count": 151,
   "id": "7f2eba10-669d-4d9f-8de6-4810da5a86fe",
   "metadata": {},
   "outputs": [],
   "source": [
    "#These really look way off. even the lower income one would be an unreasonable amount of debt. We remove these outliers\n",
    "X=X[X.dti<=1000]"
   ]
  },
  {
   "cell_type": "code",
   "execution_count": 152,
   "id": "51c8b557-768d-4e6f-b3a7-0c753317dfe1",
   "metadata": {},
   "outputs": [
    {
     "data": {
      "image/png": "[encoded data removed]",
      "text/plain": [
       "<Figure size 432x288 with 1 Axes>"
      ]
     },
     "metadata": {
      "needs_background": "light"
     },
     "output_type": "display_data"
    }
   ],
   "source": [
    "sns.scatterplot(data=X,x='dti',y='annual_inc',hue='target')\n",
    "plt.show()"
   ]
  },
  {
   "cell_type": "code",
   "execution_count": 157,
   "id": "d305df77-cef7-4ab3-a0f5-3661443163d5",
   "metadata": {},
   "outputs": [
    {
     "data": {
      "text/html": [
       "<div>\n",
       "<style scoped>\n",
       "    .dataframe tbody tr th:only-of-type {\n",
       "        vertical-align: middle;\n",
       "    }\n",
       "\n",
       "    .dataframe tbody tr th {\n",
       "        vertical-align: top;\n",
       "    }\n",
       "\n",
       "    .dataframe thead th {\n",
       "        text-align: right;\n",
       "    }\n",
       "</style>\n",
       "<table border=\"1\" class=\"dataframe\">\n",
       "  <thead>\n",
       "    <tr style=\"text-align: right;\">\n",
       "      <th></th>\n",
       "      <th>annual_inc</th>\n",
       "      <th>tot_cur_bal</th>\n",
       "      <th>dti</th>\n",
       "    </tr>\n",
       "  </thead>\n",
       "  <tbody>\n",
       "  </tbody>\n",
       "</table>\n",
       "</div>"
      ],
      "text/plain": [
       "Empty DataFrame\n",
       "Columns: [annual_inc, tot_cur_bal, dti]\n",
       "Index: []"
      ]
     },
     "execution_count": 157,
     "metadata": {},
     "output_type": "execute_result"
    }
   ],
   "source": [
    "#Still a few outliers. Lets see if they are more realistic\n",
    "X[X.dti>100][['annual_inc','tot_cur_bal','dti']]"
   ]
  },
  {
   "cell_type": "code",
   "execution_count": 154,
   "id": "c71f3a87-353e-44f0-bb56-67fff1a41987",
   "metadata": {},
   "outputs": [],
   "source": [
    "#These still look suspicious so we wil remove those as well.\n",
    "X=X[X.dti<=100]"
   ]
  },
  {
   "cell_type": "code",
   "execution_count": 158,
   "id": "6399a789-1299-4655-80fc-ac984c8b38d0",
   "metadata": {},
   "outputs": [
    {
     "data": {
      "image/png": "[encoded data removed]",
      "text/plain": [
       "<Figure size 432x288 with 1 Axes>"
      ]
     },
     "metadata": {
      "needs_background": "light"
     },
     "output_type": "display_data"
    }
   ],
   "source": [
    "sns.scatterplot(data=X,x='dti',y='annual_inc',hue='target')\n",
    "plt.show()"
   ]
  },
  {
   "cell_type": "code",
   "execution_count": 156,
   "id": "01a2fab4-1168-4f12-8f22-69096d42371a",
   "metadata": {},
   "outputs": [
    {
     "data": {
      "image/png": "[encoded data removed]",
      "text/plain": [
       "<Figure size 432x288 with 1 Axes>"
      ]
     },
     "metadata": {
      "needs_background": "light"
     },
     "output_type": "display_data"
    }
   ],
   "source": [
    "# we don't want to remove high income from the actual data set but we might get a better picture at looking at people with income under $1M\n",
    "sns.scatterplot(data=X[X.annual_inc<=1000000],x='dti',y='annual_inc',hue='target')\n",
    "plt.show()"
   ]
  },
  {
   "cell_type": "code",
   "execution_count": 159,
   "id": "82617dfc-d9cc-4956-a289-e31b39df0c56",
   "metadata": {},
   "outputs": [
    {
     "data": {
      "image/png": "[encoded data removed]",
      "text/plain": [
       "<Figure size 432x288 with 1 Axes>"
      ]
     },
     "metadata": {
      "needs_background": "light"
     },
     "output_type": "display_data"
    }
   ],
   "source": [
    "# We can look at some boxplots to see if we can see noticeable difference in the distributions of some features between positive and negative classes\n",
    "sns.boxplot(data=X, x='target',y='annual_inc')\n",
    "plt.show()"
   ]
  },
  {
   "cell_type": "code",
   "execution_count": 160,
   "id": "506a92e8-3283-4cbf-b43a-03d0eab54437",
   "metadata": {},
   "outputs": [
    {
     "data": {
      "image/png": "[encoded data removed]",
      "text/plain": [
       "<Figure size 432x288 with 1 Axes>"
      ]
     },
     "metadata": {
      "needs_background": "light"
     },
     "output_type": "display_data"
    }
   ],
   "source": [
    "#outliers in income really make this hard to see, so we'll again limit to income under $1M\n",
    "sns.boxplot(data=X[X.annual_inc<1000000], x='target',y='annual_inc')\n",
    "plt.show()"
   ]
  },
  {
   "cell_type": "code",
   "execution_count": 161,
   "id": "0ea4c4dd-aab3-4ef1-b53e-435785d203d4",
   "metadata": {},
   "outputs": [
    {
     "data": {
      "image/png": "[encoded data removed]",
      "text/plain": [
       "<Figure size 432x288 with 1 Axes>"
      ]
     },
     "metadata": {
      "needs_background": "light"
     },
     "output_type": "display_data"
    }
   ],
   "source": [
    "#hard to see a difference but again we have outliers. Let's limit this to income under 500000. We can look at the other group also\n",
    "sns.boxplot(data=X[X.annual_inc<500000], x='target',y='annual_inc')\n",
    "plt.show()"
   ]
  },
  {
   "cell_type": "code",
   "execution_count": 162,
   "id": "3f1e8b20-4a56-44be-a745-30bb43117b96",
   "metadata": {},
   "outputs": [
    {
     "data": {
      "image/png": "[encoded data removed]",
      "text/plain": [
       "<Figure size 432x288 with 1 Axes>"
      ]
     },
     "metadata": {
      "needs_background": "light"
     },
     "output_type": "display_data"
    }
   ],
   "source": [
    "sns.boxplot(data=X[X.annual_inc>=500000], x='target',y='annual_inc')\n",
    "plt.show()"
   ]
  },
  {
   "cell_type": "code",
   "execution_count": 163,
   "id": "3c004d1f-b838-48df-9839-30f360f25df0",
   "metadata": {},
   "outputs": [
    {
     "data": {
      "text/plain": [
       "count    5.881900e+04\n",
       "mean     6.615066e+04\n",
       "std      5.520877e+04\n",
       "min      2.000000e+03\n",
       "25%      4.100000e+04\n",
       "50%      5.700000e+04\n",
       "75%      8.000000e+04\n",
       "max      8.706582e+06\n",
       "Name: annual_inc, dtype: float64"
      ]
     },
     "execution_count": 163,
     "metadata": {},
     "output_type": "execute_result"
    }
   ],
   "source": [
    "#The images are a little hard to see, but initially looks like the distribution isn't significantly different.\n",
    "X[X.target==1].annual_inc.describe()"
   ]
  },
  {
   "cell_type": "code",
   "execution_count": 164,
   "id": "b89411e9-e84b-4fdd-bd57-284f246113d7",
   "metadata": {},
   "outputs": [
    {
     "data": {
      "text/plain": [
       "count    8.285550e+05\n",
       "mean     7.567356e+04\n",
       "std      6.527481e+04\n",
       "min      1.896000e+03\n",
       "25%      4.600000e+04\n",
       "50%      6.500000e+04\n",
       "75%      9.000000e+04\n",
       "max      9.500000e+06\n",
       "Name: annual_inc, dtype: float64"
      ]
     },
     "execution_count": 164,
     "metadata": {},
     "output_type": "execute_result"
    }
   ],
   "source": [
    "X[X.target==0].annual_inc.describe()"
   ]
  },
  {
   "cell_type": "markdown",
   "id": "150192dd-6c5b-459b-b368-d2ab53298c36",
   "metadata": {},
   "source": [
    "We can see a slight difference. The positive class overall had a slightly lower income (median 57000 vs median 65000, mean 66150.66 vs mean 75673.56)\n",
    "We can look at DTI next"
   ]
  },
  {
   "cell_type": "code",
   "execution_count": 165,
   "id": "70ed97f4-f8f7-4981-9898-901f2ab9bb4d",
   "metadata": {},
   "outputs": [
    {
     "data": {
      "image/png": "[encoded data removed]",
      "text/plain": [
       "<Figure size 432x288 with 1 Axes>"
      ]
     },
     "metadata": {
      "needs_background": "light"
     },
     "output_type": "display_data"
    }
   ],
   "source": [
    "sns.boxplot(data=X, x='target',y='dti')\n",
    "plt.show()"
   ]
  },
  {
   "cell_type": "markdown",
   "id": "019c677d-4611-42b9-8127-c4face6706c0",
   "metadata": {},
   "source": [
    "Negative class had lots of outliers (somewhat expected since it's a much larger group), but it looks like positive class tended towards slightly higher DTI\n",
    "We can look in a little detail"
   ]
  },
  {
   "cell_type": "code",
   "execution_count": 166,
   "id": "25d5b3f2-9d34-44f8-ba5e-e4fc729373b3",
   "metadata": {},
   "outputs": [
    {
     "data": {
      "text/plain": [
       "count    828555.000000\n",
       "mean         18.091840\n",
       "std           8.315711\n",
       "min           0.000000\n",
       "25%          11.850000\n",
       "50%          17.590000\n",
       "75%          23.900000\n",
       "max          82.255000\n",
       "Name: dti, dtype: float64"
      ]
     },
     "execution_count": 166,
     "metadata": {},
     "output_type": "execute_result"
    }
   ],
   "source": [
    "X[X.target==0].dti.describe()"
   ]
  },
  {
   "cell_type": "code",
   "execution_count": 167,
   "id": "5556baeb-2946-4605-8cfc-a104c8a88520",
   "metadata": {},
   "outputs": [
    {
     "data": {
      "text/plain": [
       "count    58819.000000\n",
       "mean        18.657158\n",
       "std          8.076320\n",
       "min          0.000000\n",
       "25%         12.720000\n",
       "50%         18.550000\n",
       "75%         24.420000\n",
       "max         39.990000\n",
       "Name: dti, dtype: float64"
      ]
     },
     "execution_count": 167,
     "metadata": {},
     "output_type": "execute_result"
    }
   ],
   "source": [
    "X[X.target==1].dti.describe()"
   ]
  },
  {
   "cell_type": "markdown",
   "id": "9d737729-b102-49bb-b9b9-5a9b9618f6d5",
   "metadata": {},
   "source": [
    "There doesn't really appear to be a significant difference in the distribution between the two"
   ]
  },
  {
   "cell_type": "code",
   "execution_count": 168,
   "id": "a551c04e-733a-44b8-aee8-0cefa7cd0b47",
   "metadata": {},
   "outputs": [
    {
     "data": {
      "text/plain": [
       "B    254535\n",
       "C    245859\n",
       "A    148202\n",
       "D    139539\n",
       "E     70704\n",
       "F     23046\n",
       "G      5489\n",
       "Name: grade, dtype: int64"
      ]
     },
     "execution_count": 168,
     "metadata": {},
     "output_type": "execute_result"
    }
   ],
   "source": [
    "X.grade.value_counts()"
   ]
  },
  {
   "cell_type": "code",
   "execution_count": 169,
   "id": "e9e24bd6-5d5b-45d1-925c-7dfa2fc97077",
   "metadata": {},
   "outputs": [
    {
     "data": {
      "text/plain": [
       "C    244903\n",
       "B    230807\n",
       "A    124517\n",
       "D     97958\n",
       "E     41254\n",
       "F     14362\n",
       "G      5537\n",
       "Name: grade, dtype: int64"
      ]
     },
     "execution_count": 169,
     "metadata": {},
     "output_type": "execute_result"
    }
   ],
   "source": [
    "X2.grade.value_counts()"
   ]
  },
  {
   "cell_type": "code",
   "execution_count": 170,
   "id": "f3f48622-7ff8-4d82-add2-bd5541bfff3e",
   "metadata": {},
   "outputs": [],
   "source": [
    "#Before trying to look at how grade is related, it will be useful to turn this into a numeric scale with 'G' at the bottom, 'A' at the top\n",
    "grade_dict=dict({'G':0,'F':1,'E':2,'D':3,'C':4,'B':5,'A':6})\n",
    "X['numeric_grade']=X.grade.map(grade_dict)\n",
    "X2['numeric_grade']=X2.grade.map(grade_dict)"
   ]
  },
  {
   "cell_type": "code",
   "execution_count": 171,
   "id": "7ef0da82-0af9-4729-a17a-c22cef0504fb",
   "metadata": {},
   "outputs": [
    {
     "data": {
      "image/png": "[encoded data removed]",
      "text/plain": [
       "<Figure size 432x288 with 1 Axes>"
      ]
     },
     "metadata": {
      "needs_background": "light"
     },
     "output_type": "display_data"
    }
   ],
   "source": [
    "plt.hist(X[X.target==0].numeric_grade,alpha=0.5,color=\"green\",bins=7,density=True)\n",
    "plt.hist(X[X.target==1].numeric_grade,alpha=0.5,color=\"red\",bins=7,density=True)\n",
    "plt.legend(X.target)\n",
    "plt.xlabel(\"Grade\")\n",
    "plt.xticks(ticks=[0,1,2,3,4,5,6],labels=['G','F','E','D','C','B','A'])\n",
    "plt.ylabel(\"Relative Frequency\")\n",
    "plt.title(\"Relative Frequency histogram for grade assigned based on positive and negative classes\")\n",
    "plt.show()"
   ]
  },
  {
   "cell_type": "code",
   "execution_count": 172,
   "id": "928cc8e0-284e-4d4b-bd86-0b4117dfacfa",
   "metadata": {},
   "outputs": [
    {
     "data": {
      "text/plain": [
       "count    828555.000000\n",
       "mean          4.250722\n",
       "std           1.294135\n",
       "min           0.000000\n",
       "25%           3.000000\n",
       "50%           4.000000\n",
       "75%           5.000000\n",
       "max           6.000000\n",
       "Name: numeric_grade, dtype: float64"
      ]
     },
     "execution_count": 172,
     "metadata": {},
     "output_type": "execute_result"
    }
   ],
   "source": [
    "#We can see that the distribution here is different. #lets look at the summary statistics for grade separated\n",
    "X[X.target==0].numeric_grade.describe()"
   ]
  },
  {
   "cell_type": "code",
   "execution_count": 173,
   "id": "9c37e21b-441b-46af-807c-02ee545beadc",
   "metadata": {},
   "outputs": [
    {
     "data": {
      "text/plain": [
       "count    58819.000000\n",
       "mean         3.509699\n",
       "std          1.374125\n",
       "min          0.000000\n",
       "25%          3.000000\n",
       "50%          4.000000\n",
       "75%          5.000000\n",
       "max          6.000000\n",
       "Name: numeric_grade, dtype: float64"
      ]
     },
     "execution_count": 173,
     "metadata": {},
     "output_type": "execute_result"
    }
   ],
   "source": [
    "X[X.target==1].numeric_grade.describe()"
   ]
  },
  {
   "cell_type": "markdown",
   "id": "34288dff-c2d9-42f1-8cbe-2a2b8b2f8a00",
   "metadata": {},
   "source": [
    "The median and quartiles are the same, but we can see that the mean for negative class is above a C, while the positive class is between a D and a C."
   ]
  },
  {
   "cell_type": "code",
   "execution_count": 174,
   "id": "e313d830-7443-450a-bd16-4aae6c36f1d3",
   "metadata": {},
   "outputs": [
    {
     "data": {
      "text/plain": [
       "array(['B', 'C', 'A', 'E', 'F', 'D', 'G'], dtype=object)"
      ]
     },
     "execution_count": 174,
     "metadata": {},
     "output_type": "execute_result"
    }
   ],
   "source": [
    "X.grade.unique()"
   ]
  },
  {
   "cell_type": "markdown",
   "id": "c522795a-3cfb-4fee-9b5a-a6b25cb980eb",
   "metadata": {},
   "source": [
    "We want to refine the grade using the subgrade information. So we can check to see that the letter grade in grade corresponds to the first character in the subgrade"
   ]
  },
  {
   "cell_type": "code",
   "execution_count": 175,
   "id": "d9a0316e-d99d-40c7-a8ce-f42b48c20a8a",
   "metadata": {},
   "outputs": [],
   "source": [
    "X_graded=[]\n",
    "for i in range(7):\n",
    "    X_graded.append(X[X.numeric_grade==i])"
   ]
  },
  {
   "cell_type": "code",
   "execution_count": 176,
   "id": "3c637ab5-eb3a-4e18-a375-bbfa01ba4dba",
   "metadata": {},
   "outputs": [
    {
     "data": {
      "text/plain": [
       "G1    1871\n",
       "G2    1398\n",
       "G3     981\n",
       "G4     663\n",
       "G5     576\n",
       "Name: sub_grade, dtype: int64"
      ]
     },
     "execution_count": 176,
     "metadata": {},
     "output_type": "execute_result"
    }
   ],
   "source": [
    "X_graded[0].sub_grade.value_counts()"
   ]
  },
  {
   "cell_type": "code",
   "execution_count": 177,
   "id": "35b79fbe-6b94-4acc-860e-2626dc75c12d",
   "metadata": {},
   "outputs": [
    {
     "data": {
      "text/plain": [
       "F1    7218\n",
       "F2    5392\n",
       "F3    4433\n",
       "F4    3409\n",
       "F5    2594\n",
       "Name: sub_grade, dtype: int64"
      ]
     },
     "execution_count": 177,
     "metadata": {},
     "output_type": "execute_result"
    }
   ],
   "source": [
    "X_graded[1].sub_grade.value_counts()"
   ]
  },
  {
   "cell_type": "code",
   "execution_count": 178,
   "id": "eea8218b-55a2-4651-a917-44b4cdd27e85",
   "metadata": {},
   "outputs": [
    {
     "data": {
      "text/plain": [
       "A5    44816\n",
       "A4    34531\n",
       "A3    23457\n",
       "A1    22913\n",
       "A2    22485\n",
       "Name: sub_grade, dtype: int64"
      ]
     },
     "execution_count": 178,
     "metadata": {},
     "output_type": "execute_result"
    }
   ],
   "source": [
    "X_graded[6].sub_grade.value_counts()"
   ]
  },
  {
   "cell_type": "code",
   "execution_count": 179,
   "id": "3f2f7f15-a3b4-4f0f-9ef6-71ba281da8de",
   "metadata": {},
   "outputs": [
    {
     "data": {
      "text/plain": [
       "E1    18268\n",
       "E2    17004\n",
       "E3    14134\n",
       "E4    11723\n",
       "E5     9575\n",
       "Name: sub_grade, dtype: int64"
      ]
     },
     "execution_count": 179,
     "metadata": {},
     "output_type": "execute_result"
    }
   ],
   "source": [
    "X_graded[2].sub_grade.value_counts()"
   ]
  },
  {
   "cell_type": "code",
   "execution_count": 180,
   "id": "4865e82f-ec1e-4037-a593-21e8e842d7b1",
   "metadata": {},
   "outputs": [
    {
     "data": {
      "text/plain": [
       "D1    36238\n",
       "D2    29803\n",
       "D3    26552\n",
       "D4    25558\n",
       "D5    21388\n",
       "Name: sub_grade, dtype: int64"
      ]
     },
     "execution_count": 180,
     "metadata": {},
     "output_type": "execute_result"
    }
   ],
   "source": [
    "X_graded[3].sub_grade.value_counts()"
   ]
  },
  {
   "cell_type": "code",
   "execution_count": 181,
   "id": "b7e3cf77-3e19-4bb0-a02c-6fc45affe0bc",
   "metadata": {},
   "outputs": [
    {
     "data": {
      "text/plain": [
       "C1    53387\n",
       "C2    52235\n",
       "C3    50161\n",
       "C4    48857\n",
       "C5    41219\n",
       "Name: sub_grade, dtype: int64"
      ]
     },
     "execution_count": 181,
     "metadata": {},
     "output_type": "execute_result"
    }
   ],
   "source": [
    "X_graded[4].sub_grade.value_counts()"
   ]
  },
  {
   "cell_type": "code",
   "execution_count": 182,
   "id": "66ce0d36-72da-4544-842e-cdf0903f4304",
   "metadata": {},
   "outputs": [
    {
     "data": {
      "text/plain": [
       "B3    56323\n",
       "B4    55626\n",
       "B5    48833\n",
       "B2    48781\n",
       "B1    44972\n",
       "Name: sub_grade, dtype: int64"
      ]
     },
     "execution_count": 182,
     "metadata": {},
     "output_type": "execute_result"
    }
   ],
   "source": [
    "X_graded[5].sub_grade.value_counts()"
   ]
  },
  {
   "cell_type": "code",
   "execution_count": 183,
   "id": "d1f1d768-84f7-45b2-a7bb-dece1bca7821",
   "metadata": {},
   "outputs": [
    {
     "data": {
      "text/plain": [
       "1    184867\n",
       "4    180367\n",
       "2    177098\n",
       "3    176041\n",
       "5    169001\n",
       "Name: sub_grade, dtype: int64"
      ]
     },
     "execution_count": 183,
     "metadata": {},
     "output_type": "execute_result"
    }
   ],
   "source": [
    "#Lets see what the possible second values in the subgrade are\n",
    "X.sub_grade.str.replace(\"[ABCDEFG]\",\"\",regex=True).astype(int).value_counts()"
   ]
  },
  {
   "cell_type": "markdown",
   "id": "02d300e1-b354-4316-ad56-47b4d26387e3",
   "metadata": {},
   "source": [
    "To get a finer grade we will have to multiply the numeric grade by 5 (there are 5 possible subgrades). Assuming that the subgrades rank X1, X2,..X5 for each grade, we add 5-the subgrade to that."
   ]
  },
  {
   "cell_type": "code",
   "execution_count": 184,
   "id": "c159fa7f-3228-480f-b845-6f31a9ea26aa",
   "metadata": {},
   "outputs": [],
   "source": [
    "X['fine_grade']=X.numeric_grade*5+(5-X.sub_grade.str.replace(\"[ABCDEFG]\",\"\",regex=True).astype(int))"
   ]
  },
  {
   "cell_type": "code",
   "execution_count": 185,
   "id": "4442895c-175b-49a9-a8af-c34ab12550bc",
   "metadata": {},
   "outputs": [],
   "source": [
    "X2['fine_grade']=X2.numeric_grade*5+(5-X2.sub_grade.str.replace(\"[ABCDEFG]\",\"\",regex=True).astype(int))"
   ]
  },
  {
   "cell_type": "code",
   "execution_count": 186,
   "id": "ed99f29f-ccf2-40db-8727-23858bc18c4f",
   "metadata": {},
   "outputs": [
    {
     "data": {
      "image/png": "[encoded data removed]",
      "text/plain": [
       "<Figure size 432x288 with 1 Axes>"
      ]
     },
     "metadata": {
      "needs_background": "light"
     },
     "output_type": "display_data"
    }
   ],
   "source": [
    "plt.hist(X[X.target==0].fine_grade,alpha=0.5,color=\"green\",bins=18,density=True)\n",
    "plt.hist(X[X.target==1].fine_grade,alpha=0.5,color=\"red\",bins=18,density=True)\n",
    "plt.legend(X.target)\n",
    "plt.title (\"Relative Frequency histogram for grade refined by subgrade based on positive and negative classes\")\n",
    "plt.xlabel(\"Fine Grade\")\n",
    "plt.xticks(ticks=[0,5,10,15,20,25,30],labels=['G','F','E','D','C','B','A'])\n",
    "plt.ylabel(\"Relative Frequency\")\n",
    "plt.show()"
   ]
  },
  {
   "cell_type": "markdown",
   "id": "fa14203a-1f19-4cf1-ab1d-9a350ce6995e",
   "metadata": {},
   "source": [
    "Using the fine grade we can see a shift from the positive the negative classes.  Both are left tailed but the positive classes (bad loans) have a worse distribution of grades. Let's look at the boxplots"
   ]
  },
  {
   "cell_type": "code",
   "execution_count": 187,
   "id": "dfb72e3f-0d90-44ff-b56b-61bab7ccf559",
   "metadata": {},
   "outputs": [
    {
     "data": {
      "image/png": "[encoded data removed]",
      "text/plain": [
       "<Figure size 432x288 with 1 Axes>"
      ]
     },
     "metadata": {
      "needs_background": "light"
     },
     "output_type": "display_data"
    }
   ],
   "source": [
    "sns.boxplot(data=X,y=\"fine_grade\",x=\"target\")\n",
    "plt.title(\"Boxplots for refined grade for positive and negative classes\")\n",
    "plt.show()"
   ]
  },
  {
   "cell_type": "code",
   "execution_count": 188,
   "id": "87531c0f-6c6c-4d36-9746-c0963f038384",
   "metadata": {},
   "outputs": [
    {
     "data": {
      "text/plain": [
       "count    828555.000000\n",
       "mean         23.288983\n",
       "std           6.400977\n",
       "min           0.000000\n",
       "25%          19.000000\n",
       "50%          24.000000\n",
       "75%          28.000000\n",
       "max          34.000000\n",
       "Name: fine_grade, dtype: float64"
      ]
     },
     "execution_count": 188,
     "metadata": {},
     "output_type": "execute_result"
    }
   ],
   "source": [
    "#Summary statistics for the fine grade for the negative class\n",
    "X[X.target==0].fine_grade.describe()"
   ]
  },
  {
   "cell_type": "code",
   "execution_count": 189,
   "id": "901c6eca-051a-4757-8af9-4f564026d987",
   "metadata": {},
   "outputs": [
    {
     "data": {
      "text/plain": [
       "count    58819.000000\n",
       "mean        19.534130\n",
       "std          6.761077\n",
       "min          0.000000\n",
       "25%         15.000000\n",
       "50%         20.000000\n",
       "75%         25.000000\n",
       "max         34.000000\n",
       "Name: fine_grade, dtype: float64"
      ]
     },
     "execution_count": 189,
     "metadata": {},
     "output_type": "execute_result"
    }
   ],
   "source": [
    "#Summary statistics for the fine grade for the positive class\n",
    "X[X.target==1].fine_grade.describe()"
   ]
  },
  {
   "cell_type": "code",
   "execution_count": 190,
   "id": "f42f2fa0-1dc9-4d34-83e7-9ba5df486210",
   "metadata": {},
   "outputs": [
    {
     "data": {
      "image/png": "[encoded data removed]",
      "text/plain": [
       "<Figure size 432x288 with 1 Axes>"
      ]
     },
     "metadata": {
      "needs_background": "light"
     },
     "output_type": "display_data"
    }
   ],
   "source": [
    "#Going back to income we can do frequency histograms for the positive and negative class to try to visualize if there's really a difference\n",
    "plt.hist(X[X.target==0].annual_inc,alpha=0.5,color=\"green\",bins=10,density=True)\n",
    "plt.hist(X[X.target==1].annual_inc,alpha=0.5,color=\"red\",bins=10,density=True)\n",
    "plt.legend(X.target)\n",
    "plt.xlabel(\"Annual Income\")\n",
    "plt.ylabel(\"Relative Frequency\")\n",
    "plt.show()"
   ]
  },
  {
   "cell_type": "code",
   "execution_count": 191,
   "id": "edd2f1ff-a827-4cf6-93a5-a631888b1b54",
   "metadata": {},
   "outputs": [
    {
     "data": {
      "image/png": "[encoded data removed]",
      "text/plain": [
       "<Figure size 432x288 with 1 Axes>"
      ]
     },
     "metadata": {
      "needs_background": "light"
     },
     "output_type": "display_data"
    }
   ],
   "source": [
    "#outliers are a problem here. Just to get an idea we can look at income under 500k\n",
    "plt.hist(X[X.target==0].annual_inc,alpha=0.5,color=\"green\",bins=20,density=True,range=(0,500000))\n",
    "plt.hist(X[X.target==1].annual_inc,alpha=0.5,color=\"red\",bins=20,density=True,range=(0,500000))\n",
    "plt.legend(X.target)\n",
    "plt.xlabel(\"Annual Income\")\n",
    "plt.ylabel(\"Relative Frequency\")\n",
    "plt.show()"
   ]
  },
  {
   "cell_type": "markdown",
   "id": "7811a363-3bd4-4c23-9d28-6b43691846ca",
   "metadata": {},
   "source": [
    "This visual seems to confirm what we saw before, but does show more values in the lower income ranges for bad loans compared to good loans."
   ]
  },
  {
   "cell_type": "code",
   "execution_count": 192,
   "id": "bc194cb2-8fa3-4b02-8e13-689ddf4ed517",
   "metadata": {},
   "outputs": [
    {
     "data": {
      "image/png": "[encoded data removed]",
      "text/plain": [
       "<Figure size 432x288 with 1 Axes>"
      ]
     },
     "metadata": {
      "needs_background": "light"
     },
     "output_type": "display_data"
    }
   ],
   "source": [
    "sns.boxplot(data=X, x='target',y='int_rate')\n",
    "plt.show()"
   ]
  },
  {
   "cell_type": "code",
   "execution_count": 193,
   "id": "b0b7e219-e019-447d-8301-2a43510a9e2c",
   "metadata": {},
   "outputs": [
    {
     "data": {
      "image/png": "[encoded data removed]",
      "text/plain": [
       "<Figure size 432x288 with 1 Axes>"
      ]
     },
     "metadata": {
      "needs_background": "light"
     },
     "output_type": "display_data"
    }
   ],
   "source": [
    "plt.hist(X[X.target==0].int_rate,alpha=0.5,color=\"green\",bins=10,density=True)\n",
    "plt.hist(X[X.target==1].int_rate,alpha=0.5,color=\"red\",bins=20,density=True)\n",
    "plt.legend(X.target)\n",
    "plt.xlabel(\"Interest Rate\")\n",
    "plt.ylabel(\"Relative Frequency\")\n",
    "plt.show()"
   ]
  },
  {
   "cell_type": "markdown",
   "id": "fa668b3c-627f-4e3b-be32-97c6523bc918",
   "metadata": {},
   "source": [
    "We can see that interest rates skewed more to the left for loans that were good. The only danger with using this is that presumably interest rates were higher for loan applicants thought to be higher risk, so it can be a circular predictor. It could also mean that higher interest rate loans were harder to pay back. It's worth looking at how interest rates were for different grades."
   ]
  },
  {
   "cell_type": "code",
   "execution_count": 194,
   "id": "7334c66e-841f-4144-84e6-8663f016b250",
   "metadata": {},
   "outputs": [
    {
     "data": {
      "image/png": "[encoded data removed]",
      "text/plain": [
       "<Figure size 432x288 with 1 Axes>"
      ]
     },
     "metadata": {
      "needs_background": "light"
     },
     "output_type": "display_data"
    }
   ],
   "source": [
    "sns.boxplot(data=X,x=\"numeric_grade\",y=\"int_rate\")\n",
    "plt.xticks(ticks=[0,1,2,3,4,5,6],labels=['G','F','E','D','C','B','A'])\n",
    "plt.show()"
   ]
  },
  {
   "cell_type": "markdown",
   "id": "ad3ac57c-1626-4ee9-b749-bbde74265f6b",
   "metadata": {},
   "source": [
    "There is an obvious relation here that better grades resulted in a lower interest rate. "
   ]
  },
  {
   "cell_type": "code",
   "execution_count": 195,
   "id": "4b8c98d9-eeaf-42e0-aab2-ce48c694eae3",
   "metadata": {},
   "outputs": [],
   "source": [
    "#We can try to see how the grade and subgrade combined affected the mean interest rates.\n",
    "ave_int=X.groupby(\"fine_grade\").int_rate.mean()"
   ]
  },
  {
   "cell_type": "code",
   "execution_count": 196,
   "id": "d1614f73-8b90-424d-9d1b-52783276eb82",
   "metadata": {},
   "outputs": [
    {
     "data": {
      "image/png": "[encoded data removed]",
      "text/plain": [
       "<Figure size 432x288 with 1 Axes>"
      ]
     },
     "metadata": {
      "needs_background": "light"
     },
     "output_type": "display_data"
    }
   ],
   "source": [
    "ave_int.plot(marker='o',linestyle='--')\n",
    "plt.ylabel(\"Average interest rate\")\n",
    "plt.title(\"Average interest rate vs refined grade\")\n",
    "plt.show()"
   ]
  },
  {
   "cell_type": "markdown",
   "id": "9d9a1d02-9591-49d7-bf01-b8a2afadf3d3",
   "metadata": {},
   "source": [
    "This correlation is so strong that it could be dangerous to use the grade/subgrade combined and the interest rate. "
   ]
  },
  {
   "cell_type": "code",
   "execution_count": 197,
   "id": "c64a6084-f797-4a8f-b532-e1656374f99c",
   "metadata": {},
   "outputs": [],
   "source": [
    "ave_targets=X.groupby(\"fine_grade\").target.mean()"
   ]
  },
  {
   "cell_type": "code",
   "execution_count": 198,
   "id": "087fc6f0-81aa-4fd2-ae60-e1e6b54f9e7d",
   "metadata": {},
   "outputs": [
    {
     "data": {
      "image/png": "[encoded data removed]",
      "text/plain": [
       "<Figure size 432x288 with 1 Axes>"
      ]
     },
     "metadata": {
      "needs_background": "light"
     },
     "output_type": "display_data"
    }
   ],
   "source": [
    "ave_targets.plot(marker='o',linestyle='--')\n",
    "plt.ylabel(\"Fraction in the group that have bad loans\")\n",
    "plt.title(\"Fraction of positive targets vs refined grade\")\n",
    "plt.show()"
   ]
  },
  {
   "cell_type": "markdown",
   "id": "5e07e6f9-7ad5-45e2-b909-241e64160cf3",
   "metadata": {},
   "source": [
    "We can see here a very similar graph to what we had before. It's a strong correlation from fine grade to probability of being a bad loan"
   ]
  },
  {
   "cell_type": "code",
   "execution_count": 199,
   "id": "80019c5e-cc68-4502-80d0-e2fae5ab0d88",
   "metadata": {},
   "outputs": [
    {
     "data": {
      "text/plain": [
       "26        23\n",
       "67        23\n",
       "81        23\n",
       "126       23\n",
       "142       23\n",
       "          ..\n",
       "887312    23\n",
       "887315    23\n",
       "887323    23\n",
       "887329    23\n",
       "887344    23\n",
       "Name: fine_grade, Length: 52235, dtype: int64"
      ]
     },
     "execution_count": 199,
     "metadata": {},
     "output_type": "execute_result"
    }
   ],
   "source": [
    "X[X.sub_grade==\"C2\"].fine_grade"
   ]
  },
  {
   "cell_type": "code",
   "execution_count": 200,
   "id": "9593e05c-4ff3-4d8e-bea3-6ba8dacb0946",
   "metadata": {},
   "outputs": [
    {
     "data": {
      "image/png": "[encoded data removed]",
      "text/plain": [
       "<Figure size 432x288 with 1 Axes>"
      ]
     },
     "metadata": {
      "needs_background": "light"
     },
     "output_type": "display_data"
    }
   ],
   "source": [
    "sns.scatterplot(data=X,x=\"fine_grade\",y=\"int_rate\",hue=\"target\")\n",
    "plt.title(\"Refined credit grade vs Interest Rate\")\n",
    "plt.show()"
   ]
  },
  {
   "cell_type": "code",
   "execution_count": 201,
   "id": "f4b89601-810d-4e6c-9528-2ef060135d63",
   "metadata": {},
   "outputs": [
    {
     "data": {
      "text/plain": [
       "0.0     716987\n",
       "1.0     113224\n",
       "2.0      33549\n",
       "3.0      11977\n",
       "4.0       5327\n",
       "5.0       2711\n",
       "6.0       1471\n",
       "7.0        784\n",
       "8.0        461\n",
       "9.0        284\n",
       "10.0       192\n",
       "11.0       121\n",
       "12.0        89\n",
       "13.0        64\n",
       "14.0        45\n",
       "15.0        28\n",
       "16.0        17\n",
       "18.0        11\n",
       "17.0        10\n",
       "19.0         8\n",
       "22.0         3\n",
       "21.0         2\n",
       "26.0         2\n",
       "20.0         2\n",
       "29.0         1\n",
       "24.0         1\n",
       "30.0         1\n",
       "27.0         1\n",
       "39.0         1\n",
       "Name: delinq_2yrs, dtype: int64"
      ]
     },
     "execution_count": 201,
     "metadata": {},
     "output_type": "execute_result"
    }
   ],
   "source": [
    "X.delinq_2yrs.value_counts()"
   ]
  },
  {
   "cell_type": "code",
   "execution_count": 202,
   "id": "9bdc446c-12c1-4758-a7c0-d0c0961ae8ff",
   "metadata": {},
   "outputs": [],
   "source": [
    "delinq=X.groupby(\"delinq_2yrs\").target.mean()"
   ]
  },
  {
   "cell_type": "code",
   "execution_count": 203,
   "id": "0ec28efa-7750-4d9a-a0b0-2d6d234a0406",
   "metadata": {},
   "outputs": [
    {
     "data": {
      "text/plain": [
       "delinq_2yrs\n",
       "0.0    0.066916\n",
       "1.0    0.063237\n",
       "2.0    0.065069\n",
       "3.0    0.066628\n",
       "4.0    0.059508\n",
       "Name: target, dtype: float64"
      ]
     },
     "execution_count": 203,
     "metadata": {},
     "output_type": "execute_result"
    }
   ],
   "source": [
    "delinq.head()"
   ]
  },
  {
   "cell_type": "code",
   "execution_count": 204,
   "id": "927a8227-7bc4-4b98-9dc5-e302a1049411",
   "metadata": {},
   "outputs": [
    {
     "data": {
      "image/png": "[encoded data removed]",
      "text/plain": [
       "<Figure size 432x288 with 1 Axes>"
      ]
     },
     "metadata": {
      "needs_background": "light"
     },
     "output_type": "display_data"
    }
   ],
   "source": [
    "delinq.plot(marker=\"o\",linestyle=\"--\")\n",
    "plt.show()"
   ]
  },
  {
   "cell_type": "markdown",
   "id": "689f585a-fc87-498c-af71-10f44a775fa3",
   "metadata": {},
   "source": [
    "We can see a spike in the delinquencies in two years for the percentage of positive cases around 20 times."
   ]
  },
  {
   "cell_type": "code",
   "execution_count": 205,
   "id": "066e4c6b-c0e1-4033-adeb-ea28477efb87",
   "metadata": {},
   "outputs": [
    {
     "data": {
      "text/plain": [
       "0.0         3402\n",
       "5235.0        74\n",
       "5466.0        72\n",
       "4479.0        68\n",
       "8696.0        67\n",
       "            ... \n",
       "63825.0        1\n",
       "50651.0        1\n",
       "143395.0       1\n",
       "71192.0        1\n",
       "75645.0        1\n",
       "Name: revol_bal, Length: 73740, dtype: int64"
      ]
     },
     "execution_count": 205,
     "metadata": {},
     "output_type": "execute_result"
    }
   ],
   "source": [
    "X.revol_bal.value_counts()"
   ]
  },
  {
   "cell_type": "code",
   "execution_count": 206,
   "id": "1955d64c-e73b-47c8-9548-1ebfb7214995",
   "metadata": {},
   "outputs": [
    {
     "data": {
      "text/plain": [
       "array([13648.,  1687.,  2956., ..., 57516., 55667., 75645.])"
      ]
     },
     "execution_count": 206,
     "metadata": {},
     "output_type": "execute_result"
    }
   ],
   "source": [
    "X.revol_bal.unique()"
   ]
  },
  {
   "cell_type": "code",
   "execution_count": 207,
   "id": "d7c7b431-0bd3-435a-8dca-2a372248b3f3",
   "metadata": {},
   "outputs": [
    {
     "data": {
      "text/plain": [
       "73740"
      ]
     },
     "execution_count": 207,
     "metadata": {},
     "output_type": "execute_result"
    }
   ],
   "source": [
    "len(X.revol_bal.unique())"
   ]
  },
  {
   "cell_type": "code",
   "execution_count": 208,
   "id": "3036f782-4dd3-4ce6-a4f0-71e3bcce0259",
   "metadata": {},
   "outputs": [
    {
     "data": {
      "image/png": "[encoded data removed]",
      "text/plain": [
       "<Figure size 432x288 with 1 Axes>"
      ]
     },
     "metadata": {
      "needs_background": "light"
     },
     "output_type": "display_data"
    }
   ],
   "source": [
    "X.revol_bal.hist(bins=20,range=(0,100000))\n",
    "plt.show()"
   ]
  },
  {
   "cell_type": "code",
   "execution_count": 209,
   "id": "d8460fee-7c37-4107-b505-a2806fb1b283",
   "metadata": {},
   "outputs": [
    {
     "data": {
      "image/png": "[encoded data removed]",
      "text/plain": [
       "<Figure size 432x288 with 1 Axes>"
      ]
     },
     "metadata": {
      "needs_background": "light"
     },
     "output_type": "display_data"
    }
   ],
   "source": [
    "X[X.target==1].revol_bal.hist(bins=20,range=(0,100000),color=\"r\",alpha=0.2,density=True)\n",
    "X[X.target==0].revol_bal.hist(bins=20,range=(0,100000),color=\"g\",alpha=0.2,density=True)\n",
    "plt.show()"
   ]
  },
  {
   "cell_type": "markdown",
   "id": "5df4e2b2-8ff7-478d-a558-1b3b2cad3920",
   "metadata": {},
   "source": [
    "We can see that the distribution of revolving balances by frequency is very similar for both positive and negative classes"
   ]
  },
  {
   "cell_type": "code",
   "execution_count": 210,
   "id": "9a4d4b38-cf9a-43d2-9fce-2e4bbfd52d05",
   "metadata": {},
   "outputs": [
    {
     "data": {
      "text/plain": [
       "count    887374.000000\n",
       "mean         45.919502\n",
       "std         409.695013\n",
       "min           0.000000\n",
       "25%           0.000000\n",
       "50%           0.000000\n",
       "75%           0.000000\n",
       "max       33520.270000\n",
       "Name: recoveries, dtype: float64"
      ]
     },
     "execution_count": 210,
     "metadata": {},
     "output_type": "execute_result"
    }
   ],
   "source": [
    "X.recoveries.describe()"
   ]
  },
  {
   "cell_type": "code",
   "execution_count": 211,
   "id": "d898d155-4261-4b0d-824b-d67a8695e24b",
   "metadata": {},
   "outputs": [
    {
     "data": {
      "text/plain": [
       "0.03957588817394751"
      ]
     },
     "execution_count": 211,
     "metadata": {},
     "output_type": "execute_result"
    }
   ],
   "source": [
    "X[X.recoveries==0].target.sum()/len(X[X.recoveries==0])"
   ]
  },
  {
   "cell_type": "code",
   "execution_count": 212,
   "id": "070704cd-0697-4c53-9763-b1d1c15a913e",
   "metadata": {},
   "outputs": [
    {
     "data": {
      "text/plain": [
       "1.0"
      ]
     },
     "execution_count": 212,
     "metadata": {},
     "output_type": "execute_result"
    }
   ],
   "source": [
    "X[X.recoveries>0].target.sum()/len(X[X.recoveries>0])"
   ]
  },
  {
   "cell_type": "code",
   "execution_count": 213,
   "id": "8d6527d5-ba1f-486c-8d6e-55fcf47cd9f5",
   "metadata": {},
   "outputs": [
    {
     "data": {
      "text/plain": [
       "1.0"
      ]
     },
     "execution_count": 213,
     "metadata": {},
     "output_type": "execute_result"
    }
   ],
   "source": [
    "X[X.recoveries>0].target.mean()"
   ]
  },
  {
   "cell_type": "code",
   "execution_count": 214,
   "id": "e7505523-7223-4852-9199-3c999c59221c",
   "metadata": {},
   "outputs": [
    {
     "data": {
      "text/plain": [
       "24677"
      ]
     },
     "execution_count": 214,
     "metadata": {},
     "output_type": "execute_result"
    }
   ],
   "source": [
    "len(X[X.recoveries>0])"
   ]
  },
  {
   "cell_type": "code",
   "execution_count": 215,
   "id": "2051666e-c2ea-47c8-aa6d-dca1dda7074e",
   "metadata": {},
   "outputs": [
    {
     "data": {
      "text/plain": [
       "0"
      ]
     },
     "execution_count": 215,
     "metadata": {},
     "output_type": "execute_result"
    }
   ],
   "source": [
    "len(X[(X.recoveries>0) & (X.target==0)])"
   ]
  },
  {
   "cell_type": "markdown",
   "id": "3013b1c2-716c-47a5-a9cb-dadaf5bf1351",
   "metadata": {},
   "source": [
    "We definitely found one strong indicator. Anyone who had post charge off recovery more than 0 was bad. It's worth looking to see what actual values we had"
   ]
  },
  {
   "cell_type": "code",
   "execution_count": 216,
   "id": "eb9392f3-c640-4345-a0c7-7509cb95f2b4",
   "metadata": {},
   "outputs": [
    {
     "data": {
      "text/plain": [
       "Index(['loan_amnt', 'funded_amnt', 'funded_amnt_inv', 'term', 'int_rate',\n",
       "       'installment', 'grade', 'sub_grade', 'emp_title', 'emp_length',\n",
       "       'home_ownership', 'annual_inc', 'verification_status', 'pymnt_plan',\n",
       "       'purpose', 'title', 'zip_code', 'addr_state', 'dti', 'delinq_2yrs',\n",
       "       'inq_last_6mths', 'mths_since_last_delinq', 'mths_since_last_record',\n",
       "       'open_acc', 'pub_rec', 'revol_bal', 'revol_util', 'total_acc',\n",
       "       'initial_list_status', 'out_prncp', 'out_prncp_inv', 'total_pymnt',\n",
       "       'total_pymnt_inv', 'total_rec_prncp', 'total_rec_int',\n",
       "       'total_rec_late_fee', 'recoveries', 'collection_recovery_fee',\n",
       "       'last_pymnt_amnt', 'collections_12_mths_ex_med',\n",
       "       'mths_since_last_major_derog', 'policy_code', 'application_type',\n",
       "       'verification_status_joint', 'acc_now_delinq', 'tot_coll_amt',\n",
       "       'tot_cur_bal', 'total_rev_hi_lim', 'last_credit_pull_d', 'last_pymnt_d',\n",
       "       'earliest_cr_line', 'next_pymnt_d', 'target', 'missing_columns',\n",
       "       'numeric_grade', 'fine_grade'],\n",
       "      dtype='object')"
      ]
     },
     "execution_count": 216,
     "metadata": {},
     "output_type": "execute_result"
    }
   ],
   "source": [
    "X.columns"
   ]
  },
  {
   "cell_type": "code",
   "execution_count": 217,
   "id": "2cf9b8a1-b460-4028-8a90-405c4086b734",
   "metadata": {},
   "outputs": [
    {
     "data": {
      "text/plain": [
       "(887379, 74)"
      ]
     },
     "execution_count": 217,
     "metadata": {},
     "output_type": "execute_result"
    }
   ],
   "source": [
    "df.shape"
   ]
  },
  {
   "cell_type": "code",
   "execution_count": 218,
   "id": "87aecb1a-34f4-4746-a734-c4985bbc395a",
   "metadata": {},
   "outputs": [
    {
     "data": {
      "text/plain": [
       "(887374, 56)"
      ]
     },
     "execution_count": 218,
     "metadata": {},
     "output_type": "execute_result"
    }
   ],
   "source": [
    "X.shape"
   ]
  },
  {
   "cell_type": "code",
   "execution_count": 219,
   "id": "db366440-643d-488f-b8e9-21b01abd2709",
   "metadata": {},
   "outputs": [],
   "source": [
    "ls=df[df.dti<=100].loan_status"
   ]
  },
  {
   "cell_type": "code",
   "execution_count": 220,
   "id": "4405a01d-f657-4788-bbba-9a6c96edb056",
   "metadata": {},
   "outputs": [
    {
     "data": {
      "text/plain": [
       "Charged Off                                            24187\n",
       "Does not meet the credit policy. Status:Charged Off      490\n",
       "Name: loan_status, dtype: int64"
      ]
     },
     "execution_count": 220,
     "metadata": {},
     "output_type": "execute_result"
    }
   ],
   "source": [
    "ls[X.recoveries>0].value_counts()"
   ]
  },
  {
   "cell_type": "markdown",
   "id": "3ca5ae61-62b0-4a5a-aad2-e5c29bcd93a1",
   "metadata": {},
   "source": [
    "It appears that the recoveries column relates to the Lending Club loan as anyone who had a recovery had a status of a loan being charged off. "
   ]
  },
  {
   "cell_type": "code",
   "execution_count": 221,
   "id": "41b5e08a-8a7c-484e-ba0d-fdb5134fbce5",
   "metadata": {},
   "outputs": [
    {
     "data": {
      "text/plain": [
       "1.0"
      ]
     },
     "execution_count": 221,
     "metadata": {},
     "output_type": "execute_result"
    }
   ],
   "source": [
    "X[X.collection_recovery_fee>0].target.mean()"
   ]
  },
  {
   "cell_type": "code",
   "execution_count": 222,
   "id": "19ff7693-6794-41a4-ba8f-ed83df73db5e",
   "metadata": {},
   "outputs": [
    {
     "data": {
      "text/plain": [
       "Charged Off                                            23035\n",
       "Does not meet the credit policy. Status:Charged Off      472\n",
       "Name: loan_status, dtype: int64"
      ]
     },
     "execution_count": 222,
     "metadata": {},
     "output_type": "execute_result"
    }
   ],
   "source": [
    "ls[X.collection_recovery_fee>0].value_counts()"
   ]
  },
  {
   "cell_type": "code",
   "execution_count": 223,
   "id": "4323500e-dc13-418c-b1ae-cf51492df10b",
   "metadata": {},
   "outputs": [
    {
     "data": {
      "text/plain": [
       "count    887374.000000\n",
       "mean          0.014377\n",
       "std           0.134180\n",
       "min           0.000000\n",
       "25%           0.000000\n",
       "50%           0.000000\n",
       "75%           0.000000\n",
       "max          20.000000\n",
       "Name: collections_12_mths_ex_med, dtype: float64"
      ]
     },
     "execution_count": 223,
     "metadata": {},
     "output_type": "execute_result"
    }
   ],
   "source": [
    "X.collections_12_mths_ex_med.describe()"
   ]
  },
  {
   "cell_type": "code",
   "execution_count": 224,
   "id": "a5902aa4-17fa-4a70-bd18-1c4b7aaa25c7",
   "metadata": {},
   "outputs": [
    {
     "data": {
      "text/plain": [
       "0.04819792825956682"
      ]
     },
     "execution_count": 224,
     "metadata": {},
     "output_type": "execute_result"
    }
   ],
   "source": [
    "X[X.collections_12_mths_ex_med>0].target.mean()"
   ]
  },
  {
   "cell_type": "code",
   "execution_count": 225,
   "id": "62fc4e05-9ceb-46e3-b3a0-2a3db4d290b7",
   "metadata": {},
   "outputs": [
    {
     "data": {
      "text/plain": [
       "0.06652559744111235"
      ]
     },
     "execution_count": 225,
     "metadata": {},
     "output_type": "execute_result"
    }
   ],
   "source": [
    "X[X.collections_12_mths_ex_med==0].target.mean()"
   ]
  },
  {
   "cell_type": "markdown",
   "id": "add166c9-d0c5-4b19-98e7-816d95e04a0c",
   "metadata": {},
   "source": [
    "The refined grade score seemed like a relevant feature. We want to compute weight of evidence and information value for this feature"
   ]
  },
  {
   "cell_type": "code",
   "execution_count": 226,
   "id": "968d4d57-806a-4d95-a8ab-4a9e9b721fe1",
   "metadata": {},
   "outputs": [],
   "source": [
    "\n",
    "\n",
    "#Method to get WoE for the feature\n",
    "def WoE(X,feature,target,adjust=0,bins=10):\n",
    "    #We will assume here that the target column is binary 0 or 1 and 1 is \"bad\"\n",
    "    #create the bins\n",
    "    bin_series=pd.cut(X[feature],bins=bins)\n",
    "    #find the number of bad in each\n",
    "    num_of_bad_by_bins=X.groupby(bin_series)[target].sum()\n",
    "    #find number of entries in each\n",
    "    num_of_entries_in_bin=X.groupby(bin_series)[target].count()\n",
    "    #find number of good in each\n",
    "    num_of_good_by_bins=num_of_entries_in_bin-num_of_bad_by_bins\n",
    "    #Get distributions\n",
    "    dist_of_bad_by_bins=num_of_bad_by_bins/num_of_bad_by_bins.sum()\n",
    "    dist_of_good_by_bins=num_of_good_by_bins/num_of_good_by_bins.sum()\n",
    "    WoE=np.log((dist_of_good_by_bins+adjust)/(dist_of_bad_by_bins+adjust))\n",
    "    return WoE\n",
    "\n",
    "#Method to return the IV(Information value) for a dataframe for a particular feature to a binary target\n",
    "def IV(X,feature,target,adjust=0,bins=10):  # adjust is a value to get an adjusted WoE if we have bins with no good or no bad values\n",
    "    #create the bins\n",
    "    bin_series=pd.cut(X[feature],bins=bins)\n",
    "    #find the number of bad in each\n",
    "    num_of_bad_by_bins=X.groupby(bin_series)[target].sum()\n",
    "    #find number of entries in each\n",
    "    num_of_entries_in_bin=X.groupby(bin_series)[target].count()\n",
    "    #find number of good in each\n",
    "    num_of_good_by_bins=num_of_entries_in_bin-num_of_bad_by_bins\n",
    "    #Get distributions\n",
    "    dist_of_bad_by_bins=num_of_bad_by_bins/num_of_bad_by_bins.sum()\n",
    "    dist_of_good_by_bins=num_of_good_by_bins/num_of_good_by_bins.sum()\n",
    "    IV=WoE(X,feature,target,adjust,bins)*(dist_of_good_by_bins-dist_of_bad_by_bins)\n",
    "   \n",
    "\n",
    "    return IV\n"
   ]
  },
  {
   "cell_type": "code",
   "execution_count": 227,
   "id": "5b6bd997-2499-4194-b56f-6c30203343ce",
   "metadata": {},
   "outputs": [
    {
     "data": {
      "text/plain": [
       "0.34721400559284754"
      ]
     },
     "execution_count": 227,
     "metadata": {},
     "output_type": "execute_result"
    }
   ],
   "source": [
    "fine_gradeIV=IV(X,\"fine_grade\",\"target\",0,17)\n",
    "fine_gradeIV.sum()"
   ]
  },
  {
   "cell_type": "markdown",
   "id": "cd1d991b-65f1-4278-8e91-6368293fd33f",
   "metadata": {},
   "source": [
    "An IV of .3472 seems like this is a very significant feature"
   ]
  },
  {
   "cell_type": "code",
   "execution_count": 228,
   "id": "ebe6fabe-561c-4a81-85e5-7adba6a46543",
   "metadata": {},
   "outputs": [
    {
     "data": {
      "text/plain": [
       "fine_grade\n",
       "(-0.034, 2.0]   -1.308851\n",
       "(2.0, 4.0]      -1.289614\n",
       "(4.0, 6.0]      -1.228876\n",
       "(6.0, 8.0]      -1.044184\n",
       "(8.0, 10.0]     -0.855888\n",
       "(10.0, 12.0]    -0.685044\n",
       "(12.0, 14.0]    -0.567753\n",
       "(14.0, 16.0]    -0.541562\n",
       "(16.0, 18.0]    -0.445329\n",
       "(18.0, 20.0]    -0.248885\n",
       "(20.0, 22.0]    -0.023527\n",
       "(22.0, 24.0]     0.083601\n",
       "(24.0, 26.0]     0.221566\n",
       "(26.0, 28.0]     0.421556\n",
       "(28.0, 30.0]     0.818567\n",
       "(30.0, 32.0]     1.066624\n",
       "(32.0, 34.0]     1.734047\n",
       "Name: target, dtype: float64"
      ]
     },
     "execution_count": 228,
     "metadata": {},
     "output_type": "execute_result"
    }
   ],
   "source": [
    "WoE(X,\"fine_grade\",\"target\",0,17)"
   ]
  },
  {
   "cell_type": "code",
   "execution_count": 229,
   "id": "3c9729ab-acb7-4ed8-ba58-7e593a54f3cd",
   "metadata": {},
   "outputs": [
    {
     "data": {
      "text/plain": [
       "int_rate\n",
       "(5.296, 6.504]      2.041698\n",
       "(6.504, 7.687]      1.341069\n",
       "(7.687, 8.87]       1.316451\n",
       "(8.87, 10.054]      0.909645\n",
       "(10.054, 11.238]    0.381557\n",
       "(11.238, 12.421]    0.401709\n",
       "(12.421, 13.604]    0.207823\n",
       "(13.604, 14.788]   -0.060201\n",
       "(14.788, 15.972]   -0.416708\n",
       "(15.972, 17.155]   -0.373142\n",
       "(17.155, 18.338]   -0.465005\n",
       "(18.338, 19.522]   -0.726858\n",
       "(19.522, 20.706]   -0.845252\n",
       "(20.706, 21.889]   -0.999687\n",
       "(21.889, 23.072]   -1.004509\n",
       "(23.072, 24.256]   -1.247536\n",
       "(24.256, 25.44]    -1.200974\n",
       "(25.44, 26.623]    -1.235618\n",
       "(26.623, 27.806]    0.160774\n",
       "(27.806, 28.99]     0.094509\n",
       "Name: target, dtype: float64"
      ]
     },
     "execution_count": 229,
     "metadata": {},
     "output_type": "execute_result"
    }
   ],
   "source": [
    "WoE(X,\"int_rate\",\"target\",0,20)"
   ]
  },
  {
   "cell_type": "code",
   "execution_count": 230,
   "id": "90b542dc-290e-4409-86cd-f4779a6ec687",
   "metadata": {},
   "outputs": [
    {
     "data": {
      "text/plain": [
       "0.06628434008659258"
      ]
     },
     "execution_count": 230,
     "metadata": {},
     "output_type": "execute_result"
    }
   ],
   "source": [
    "X[X.mths_since_last_major_derog<np.inf].target.mean()"
   ]
  },
  {
   "cell_type": "code",
   "execution_count": 231,
   "id": "834be856-b2c9-4c3f-b684-d6ea26f9c446",
   "metadata": {},
   "outputs": [
    {
     "data": {
      "text/plain": [
       "nan"
      ]
     },
     "execution_count": 231,
     "metadata": {},
     "output_type": "execute_result"
    }
   ],
   "source": [
    "X[X.mths_since_last_major_derog==np.inf].target.mean()"
   ]
  },
  {
   "cell_type": "markdown",
   "id": "9adaa727-1ff6-4934-9171-728e4c3def11",
   "metadata": {},
   "source": [
    "The vast majority of the values for the \"months since last major derogartory report\" are the imputed infinite ones. We can't use this for a histogram and any histogram would be skewed a number we replaced it with. We can at least see how the ones without infinity included look"
   ]
  },
  {
   "cell_type": "code",
   "execution_count": 232,
   "id": "2003d460-2a32-4dab-98ba-11e953a1579a",
   "metadata": {},
   "outputs": [],
   "source": [
    "X_has_derog=X[X.mths_since_last_major_derog<np.inf]"
   ]
  },
  {
   "cell_type": "code",
   "execution_count": 233,
   "id": "3dd2c09f-1ee0-4fe4-aab7-05190d232f6d",
   "metadata": {},
   "outputs": [
    {
     "data": {
      "image/png": "[encoded data removed]",
      "text/plain": [
       "<Figure size 432x288 with 1 Axes>"
      ]
     },
     "metadata": {
      "needs_background": "light"
     },
     "output_type": "display_data"
    }
   ],
   "source": [
    "X_has_derog[X_has_derog.target==1].mths_since_last_major_derog.hist(color=\"r\",alpha=0.2,density=True)\n",
    "X_has_derog[X_has_derog.target==0].mths_since_last_major_derog.hist(color=\"g\",alpha=0.2,density=True)\n",
    "plt.show()"
   ]
  },
  {
   "cell_type": "code",
   "execution_count": 234,
   "id": "69d7a899-ed04-40b8-9c6c-f39ea4d8a307",
   "metadata": {},
   "outputs": [
    {
     "data": {
      "image/png": "[encoded data removed]",
      "text/plain": [
       "<Figure size 432x288 with 1 Axes>"
      ]
     },
     "metadata": {
      "needs_background": "light"
     },
     "output_type": "display_data"
    }
   ],
   "source": [
    "sns.boxplot(data=X_has_derog,x=\"target\",y=\"mths_since_last_major_derog\")\n",
    "plt.show()"
   ]
  },
  {
   "cell_type": "markdown",
   "id": "d72f7e8e-2070-40ae-90e7-260f1a7aa1d4",
   "metadata": {},
   "source": [
    "We don't seem to see a signficant difference in the boxplot. They histograms indicate that there is a very slight skew towards more recent derogatory marks being more recent, but it doesn't seem major"
   ]
  },
  {
   "cell_type": "code",
   "execution_count": 235,
   "id": "9113df34-914c-4436-91f1-36c78af71731",
   "metadata": {},
   "outputs": [
    {
     "data": {
      "text/plain": [
       "count    828555.000000\n",
       "mean       7485.676178\n",
       "std        4325.561332\n",
       "min           0.000000\n",
       "25%          95.000000\n",
       "50%       10000.000000\n",
       "75%       10000.000000\n",
       "max       10000.000000\n",
       "Name: mths_since_last_major_derog, dtype: float64"
      ]
     },
     "execution_count": 235,
     "metadata": {},
     "output_type": "execute_result"
    }
   ],
   "source": [
    "X_has_derog[X_has_derog.target==0].mths_since_last_major_derog.describe()"
   ]
  },
  {
   "cell_type": "code",
   "execution_count": 236,
   "id": "77c6ce8c-1c31-42ca-b6f8-c3b2804096d6",
   "metadata": {},
   "outputs": [
    {
     "data": {
      "text/plain": [
       "count    58819.000000\n",
       "mean      7892.409341\n",
       "std       4067.433877\n",
       "min          0.000000\n",
       "25%      10000.000000\n",
       "50%      10000.000000\n",
       "75%      10000.000000\n",
       "max      10000.000000\n",
       "Name: mths_since_last_major_derog, dtype: float64"
      ]
     },
     "execution_count": 236,
     "metadata": {},
     "output_type": "execute_result"
    }
   ],
   "source": [
    "X_has_derog[X_has_derog.target==1].mths_since_last_major_derog.describe()"
   ]
  },
  {
   "cell_type": "code",
   "execution_count": 237,
   "id": "cf9ab9d9-dba8-4754-942e-1e9fc20a8907",
   "metadata": {},
   "outputs": [],
   "source": [
    "info=IV(X_has_derog,\"mths_since_last_major_derog\",\"target\",0.1,10)"
   ]
  },
  {
   "cell_type": "code",
   "execution_count": 238,
   "id": "2e118503-0c78-45c7-8ba5-89a375436375",
   "metadata": {},
   "outputs": [
    {
     "name": "stdout",
     "output_type": "stream",
     "text": [
      "mths_since_last_major_derog\n",
      "(-10.0, 1000.0]      0.005039\n",
      "(1000.0, 2000.0]     0.000000\n",
      "(2000.0, 3000.0]     0.000000\n",
      "(3000.0, 4000.0]     0.000000\n",
      "(4000.0, 5000.0]     0.000000\n",
      "(5000.0, 6000.0]     0.000000\n",
      "(6000.0, 7000.0]     0.000000\n",
      "(7000.0, 8000.0]     0.000000\n",
      "(8000.0, 9000.0]     0.000000\n",
      "(9000.0, 10000.0]    0.001926\n",
      "Name: target, dtype: float64\n"
     ]
    }
   ],
   "source": [
    "print(info)"
   ]
  },
  {
   "cell_type": "code",
   "execution_count": 239,
   "id": "ce9b734a-2b78-47af-8044-1a23050578e1",
   "metadata": {},
   "outputs": [
    {
     "data": {
      "text/plain": [
       "0.0069649294177172765"
      ]
     },
     "execution_count": 239,
     "metadata": {},
     "output_type": "execute_result"
    }
   ],
   "source": [
    "info.sum()"
   ]
  },
  {
   "cell_type": "code",
   "execution_count": 240,
   "id": "b84bd9d5-9ce9-4e7d-a4bc-e0566d4dd75c",
   "metadata": {},
   "outputs": [
    {
     "data": {
      "text/plain": [
       "mths_since_last_major_derog\n",
       "(-10.0, 1000.0]      0.123254\n",
       "(1000.0, 2000.0]     0.000000\n",
       "(2000.0, 3000.0]     0.000000\n",
       "(3000.0, 4000.0]     0.000000\n",
       "(4000.0, 5000.0]     0.000000\n",
       "(5000.0, 6000.0]     0.000000\n",
       "(6000.0, 7000.0]     0.000000\n",
       "(7000.0, 8000.0]     0.000000\n",
       "(8000.0, 9000.0]     0.000000\n",
       "(9000.0, 10000.0]   -0.047113\n",
       "Name: target, dtype: float64"
      ]
     },
     "execution_count": 240,
     "metadata": {},
     "output_type": "execute_result"
    }
   ],
   "source": [
    "WoE(X_has_derog,\"mths_since_last_major_derog\",\"target\",0.1,10)"
   ]
  },
  {
   "cell_type": "code",
   "execution_count": 241,
   "id": "4f4f5192-6322-43bb-bf8e-ddb5571d5ffc",
   "metadata": {},
   "outputs": [
    {
     "data": {
      "image/png": "[encoded data removed]",
      "text/plain": [
       "<Figure size 432x288 with 2 Axes>"
      ]
     },
     "metadata": {
      "needs_background": "light"
     },
     "output_type": "display_data"
    }
   ],
   "source": [
    "sns.heatmap(X.corr())\n",
    "plt.show()"
   ]
  },
  {
   "cell_type": "code",
   "execution_count": 242,
   "id": "8edc13cb-7dd4-4f1a-a5a4-95653f129937",
   "metadata": {},
   "outputs": [
    {
     "data": {
      "text/plain": [
       "0.0       771217\n",
       "50.0        1755\n",
       "100.0       1357\n",
       "75.0        1044\n",
       "200.0        714\n",
       "           ...  \n",
       "4891.0         1\n",
       "7184.0         1\n",
       "4242.0         1\n",
       "9477.0         1\n",
       "8567.0         1\n",
       "Name: tot_coll_amt, Length: 10325, dtype: int64"
      ]
     },
     "execution_count": 242,
     "metadata": {},
     "output_type": "execute_result"
    }
   ],
   "source": [
    "X.tot_coll_amt.value_counts()"
   ]
  },
  {
   "cell_type": "code",
   "execution_count": 243,
   "id": "a88303de-0b9d-4c2f-b1ee-05626200668d",
   "metadata": {},
   "outputs": [
    {
     "data": {
      "text/plain": [
       "0.0531521991786978"
      ]
     },
     "execution_count": 243,
     "metadata": {},
     "output_type": "execute_result"
    }
   ],
   "source": [
    "X[X.tot_coll_amt>0].target.mean()"
   ]
  },
  {
   "cell_type": "code",
   "execution_count": 244,
   "id": "362c74b1-a343-4d78-be87-d00d193fe367",
   "metadata": {},
   "outputs": [
    {
     "data": {
      "text/plain": [
       "0.06826224006991548"
      ]
     },
     "execution_count": 244,
     "metadata": {},
     "output_type": "execute_result"
    }
   ],
   "source": [
    "X[X.tot_coll_amt==0].target.mean()"
   ]
  },
  {
   "cell_type": "code",
   "execution_count": 245,
   "id": "36699739-1d09-4037-b04f-d6f2d6329a70",
   "metadata": {},
   "outputs": [
    {
     "data": {
      "image/png": "[encoded data removed]",
      "text/plain": [
       "<Figure size 432x288 with 1 Axes>"
      ]
     },
     "metadata": {
      "needs_background": "light"
     },
     "output_type": "display_data"
    }
   ],
   "source": [
    "X[X.target==0].tot_coll_amt.hist(color=\"g\",alpha=0.2,density=True,range=(0,1000),histtype=\"step\",bins=20)\n",
    "X[X.target==1].tot_coll_amt.hist(color=\"r\",alpha=0.2,density=True,range=(0,1000),histtype=\"step\",bins=20)\n",
    "plt.show()"
   ]
  },
  {
   "cell_type": "code",
   "execution_count": 246,
   "id": "a42e38c2-7b46-403c-8f77-f6fef1df4341",
   "metadata": {},
   "outputs": [
    {
     "data": {
      "text/plain": [
       "99950.0"
      ]
     },
     "execution_count": 246,
     "metadata": {},
     "output_type": "execute_result"
    }
   ],
   "source": [
    "X[(X.target==0) & (X.tot_coll_amt<100000)].tot_coll_amt.max()"
   ]
  },
  {
   "cell_type": "code",
   "execution_count": 247,
   "id": "3f08e912-3a47-4914-867f-e0f43691510d",
   "metadata": {},
   "outputs": [
    {
     "data": {
      "text/plain": [
       "95806.0"
      ]
     },
     "execution_count": 247,
     "metadata": {},
     "output_type": "execute_result"
    }
   ],
   "source": [
    "X[X.target==1].tot_coll_amt.max()"
   ]
  },
  {
   "cell_type": "code",
   "execution_count": 248,
   "id": "b88158d6-b8a5-46a6-bd0e-0caac9f2b168",
   "metadata": {},
   "outputs": [
    {
     "data": {
      "text/plain": [
       "count    8.285550e+05\n",
       "mean     2.135225e+02\n",
       "std      1.023403e+04\n",
       "min      0.000000e+00\n",
       "25%      0.000000e+00\n",
       "50%      0.000000e+00\n",
       "75%      0.000000e+00\n",
       "max      9.152545e+06\n",
       "Name: tot_coll_amt, dtype: float64"
      ]
     },
     "execution_count": 248,
     "metadata": {},
     "output_type": "execute_result"
    }
   ],
   "source": [
    "X[X.target==0].tot_coll_amt.describe()"
   ]
  },
  {
   "cell_type": "code",
   "execution_count": 249,
   "id": "1eb95a49-07b0-4190-b292-f80413f956d1",
   "metadata": {},
   "outputs": [
    {
     "data": {
      "text/plain": [
       "count    58819.000000\n",
       "mean       127.630936\n",
       "std       1315.330674\n",
       "min          0.000000\n",
       "25%          0.000000\n",
       "50%          0.000000\n",
       "75%          0.000000\n",
       "max      95806.000000\n",
       "Name: tot_coll_amt, dtype: float64"
      ]
     },
     "execution_count": 249,
     "metadata": {},
     "output_type": "execute_result"
    }
   ],
   "source": [
    "X[X.target==1].tot_coll_amt.describe()"
   ]
  },
  {
   "cell_type": "markdown",
   "id": "3d408deb-be2c-422d-adf2-1dffbfbeeed7",
   "metadata": {},
   "source": [
    "Total collection amount doesn't look great for a feature for prediction. We can keep it and if we have trouble getting a good model ,remove it and retrain"
   ]
  },
  {
   "cell_type": "code",
   "execution_count": 250,
   "id": "5ac1a2ed-629c-4ab9-8263-b60d9845cd9c",
   "metadata": {},
   "outputs": [
    {
     "data": {
      "text/plain": [
       "loan_amnt                      float64\n",
       "funded_amnt                    float64\n",
       "funded_amnt_inv                float64\n",
       "term                            object\n",
       "int_rate                       float64\n",
       "installment                    float64\n",
       "grade                           object\n",
       "sub_grade                       object\n",
       "emp_title                       object\n",
       "emp_length                     float64\n",
       "home_ownership                  object\n",
       "annual_inc                     float64\n",
       "verification_status             object\n",
       "pymnt_plan                      object\n",
       "purpose                         object\n",
       "title                           object\n",
       "zip_code                        object\n",
       "addr_state                      object\n",
       "dti                            float64\n",
       "delinq_2yrs                    float64\n",
       "inq_last_6mths                 float64\n",
       "mths_since_last_delinq         float64\n",
       "mths_since_last_record         float64\n",
       "open_acc                       float64\n",
       "pub_rec                        float64\n",
       "revol_bal                      float64\n",
       "revol_util                     float64\n",
       "total_acc                      float64\n",
       "initial_list_status             object\n",
       "out_prncp                      float64\n",
       "out_prncp_inv                  float64\n",
       "total_pymnt                    float64\n",
       "total_pymnt_inv                float64\n",
       "total_rec_prncp                float64\n",
       "total_rec_int                  float64\n",
       "total_rec_late_fee             float64\n",
       "recoveries                     float64\n",
       "collection_recovery_fee        float64\n",
       "last_pymnt_amnt                float64\n",
       "collections_12_mths_ex_med     float64\n",
       "mths_since_last_major_derog    float64\n",
       "policy_code                    float64\n",
       "application_type                object\n",
       "verification_status_joint       object\n",
       "acc_now_delinq                 float64\n",
       "tot_coll_amt                   float64\n",
       "tot_cur_bal                    float64\n",
       "total_rev_hi_lim               float64\n",
       "last_credit_pull_d             float64\n",
       "last_pymnt_d                   float64\n",
       "earliest_cr_line               float64\n",
       "next_pymnt_d                   float64\n",
       "target                           int64\n",
       "missing_columns                  int64\n",
       "numeric_grade                    int64\n",
       "fine_grade                       int64\n",
       "dtype: object"
      ]
     },
     "execution_count": 250,
     "metadata": {},
     "output_type": "execute_result"
    }
   ],
   "source": [
    "X.dtypes"
   ]
  },
  {
   "cell_type": "code",
   "execution_count": 251,
   "id": "71c2bc21-34a7-4dde-93b0-916256dbca8f",
   "metadata": {},
   "outputs": [
    {
     "data": {
      "text/plain": [
       "term                         object\n",
       "grade                        object\n",
       "sub_grade                    object\n",
       "emp_title                    object\n",
       "home_ownership               object\n",
       "verification_status          object\n",
       "pymnt_plan                   object\n",
       "purpose                      object\n",
       "title                        object\n",
       "zip_code                     object\n",
       "addr_state                   object\n",
       "initial_list_status          object\n",
       "application_type             object\n",
       "verification_status_joint    object\n",
       "dtype: object"
      ]
     },
     "execution_count": 251,
     "metadata": {},
     "output_type": "execute_result"
    }
   ],
   "source": [
    "X.dtypes[X.dtypes==\"object\"]"
   ]
  },
  {
   "cell_type": "markdown",
   "id": "aab648da-4a40-4d60-9933-84ba51e7e5d7",
   "metadata": {},
   "source": [
    "Before modeling we need to look at each of these and see how to deal with each"
   ]
  },
  {
   "cell_type": "code",
   "execution_count": 252,
   "id": "7943716f-93c9-41e8-a8eb-710bf00c9d98",
   "metadata": {},
   "outputs": [
    {
     "data": {
      "text/plain": [
       " 36 months    621121\n",
       " 60 months    266253\n",
       "Name: term, dtype: int64"
      ]
     },
     "execution_count": 252,
     "metadata": {},
     "output_type": "execute_result"
    }
   ],
   "source": [
    "X.term.value_counts()"
   ]
  },
  {
   "cell_type": "code",
   "execution_count": 253,
   "id": "0c6ab257-dd5e-4684-9b96-c22afbe8f2da",
   "metadata": {},
   "outputs": [],
   "source": [
    "X.term=X.term.map({\" 36 months\":36,\" 60 months\":60})"
   ]
  },
  {
   "cell_type": "code",
   "execution_count": 254,
   "id": "145c08c1-afea-4d14-a213-9ab16973bd95",
   "metadata": {},
   "outputs": [
    {
     "data": {
      "text/plain": [
       "36    621121\n",
       "60    266253\n",
       "Name: term, dtype: int64"
      ]
     },
     "execution_count": 254,
     "metadata": {},
     "output_type": "execute_result"
    }
   ],
   "source": [
    "X.term.value_counts()"
   ]
  },
  {
   "cell_type": "code",
   "execution_count": 255,
   "id": "d5d1458d-8026-4f87-a705-8195df4b128e",
   "metadata": {},
   "outputs": [],
   "source": [
    "X2.term=X2.term.map({\"36 months\":36,\"60 months\":60})"
   ]
  },
  {
   "cell_type": "code",
   "execution_count": 256,
   "id": "07f059f1-a7f9-4efb-9aac-62da265e7720",
   "metadata": {},
   "outputs": [],
   "source": [
    "#We have numeric versions of the grade and sub_grade so we can get rid of the strings\n",
    "X.drop(columns=[\"grade\",\"sub_grade\"],inplace=True)\n",
    "X2.drop(columns=[\"grade\",\"sub_grade\"],inplace=True)"
   ]
  },
  {
   "cell_type": "code",
   "execution_count": 257,
   "id": "9908a651-acc2-423a-8132-e7d2ac954893",
   "metadata": {},
   "outputs": [
    {
     "data": {
      "text/plain": [
       "array(['other', 'Ryder', 'AIR RESOURCES BOARD', ...,\n",
       "       'machining Cell Lead', 'KYC Business Analyst',\n",
       "       'Manager Hotel Operations Oasis '], dtype=object)"
      ]
     },
     "execution_count": 257,
     "metadata": {},
     "output_type": "execute_result"
    }
   ],
   "source": [
    "X.emp_title.unique()"
   ]
  },
  {
   "cell_type": "code",
   "execution_count": 258,
   "id": "e2535092-1733-4536-b787-ef1e48236830",
   "metadata": {},
   "outputs": [
    {
     "data": {
      "text/plain": [
       "299270"
      ]
     },
     "execution_count": 258,
     "metadata": {},
     "output_type": "execute_result"
    }
   ],
   "source": [
    "len(X.emp_title.unique())"
   ]
  },
  {
   "cell_type": "markdown",
   "id": "e91e4ee4-cc6c-4f4a-88a2-730090c1cfdb",
   "metadata": {},
   "source": [
    "We have 299270 different titles. That would create a huge number of features if we just one hot encode this."
   ]
  },
  {
   "cell_type": "code",
   "execution_count": 259,
   "id": "faca563b-b4bd-4033-8a7b-16db35ed971a",
   "metadata": {},
   "outputs": [
    {
     "data": {
      "text/plain": [
       "pandas.core.series.Series"
      ]
     },
     "execution_count": 259,
     "metadata": {},
     "output_type": "execute_result"
    }
   ],
   "source": [
    "type(X.emp_title.value_counts())"
   ]
  },
  {
   "cell_type": "code",
   "execution_count": 260,
   "id": "86b515af-30c4-49b7-8f89-ce53f8bb91b6",
   "metadata": {},
   "outputs": [
    {
     "data": {
      "text/plain": [
       "other                       51459\n",
       "Teacher                     13469\n",
       "Manager                     11240\n",
       "Registered Nurse             5525\n",
       "Owner                        5376\n",
       "                            ...  \n",
       "Redwood Credit Union            2\n",
       "Administrative Aide             2\n",
       "Lead Datacenter Engineer        2\n",
       "enviromental services           2\n",
       "Phoenix American                2\n",
       "Name: emp_title, Length: 53685, dtype: int64"
      ]
     },
     "execution_count": 260,
     "metadata": {},
     "output_type": "execute_result"
    }
   ],
   "source": [
    "X.emp_title.value_counts()[X.emp_title.value_counts()>1]"
   ]
  },
  {
   "cell_type": "code",
   "execution_count": 261,
   "id": "c52d29cc-542d-4b09-9b48-b4ffc492b4e9",
   "metadata": {},
   "outputs": [
    {
     "data": {
      "text/plain": [
       "other                       51459\n",
       "Teacher                     13469\n",
       "Manager                     11240\n",
       "Registered Nurse             5525\n",
       "Owner                        5376\n",
       "RN                           5355\n",
       "Supervisor                   4983\n",
       "Sales                        4212\n",
       "Project Manager              3988\n",
       "Driver                       3569\n",
       "Office Manager               3510\n",
       "General Manager              3178\n",
       "Director                     3156\n",
       "manager                      3138\n",
       "teacher                      2925\n",
       "owner                        2849\n",
       "Engineer                     2671\n",
       "President                    2598\n",
       "driver                       2429\n",
       "Vice President               2351\n",
       "Attorney                     2136\n",
       "Operations Manager           2071\n",
       "Accountant                   2035\n",
       "Administrative Assistant     2019\n",
       "Sales Manager                1846\n",
       "Account Manager              1725\n",
       "sales                        1724\n",
       "Police Officer               1720\n",
       "supervisor                   1675\n",
       "Executive Assistant          1603\n",
       "Analyst                      1538\n",
       "Store Manager                1515\n",
       "Technician                   1462\n",
       "Nurse                        1426\n",
       "Truck Driver                 1387\n",
       "truck driver                 1387\n",
       "Software Engineer            1344\n",
       "Paralegal                    1299\n",
       "Controller                   1246\n",
       "Consultant                   1242\n",
       "Assistant Manager            1199\n",
       "Program Manager              1188\n",
       "Branch Manager               1177\n",
       "Server                       1120\n",
       "Administrator                1103\n",
       "Principal                    1073\n",
       "Account Executive            1072\n",
       "Mechanic                     1044\n",
       "Business Analyst             1013\n",
       "Name: emp_title, dtype: int64"
      ]
     },
     "execution_count": 261,
     "metadata": {},
     "output_type": "execute_result"
    }
   ],
   "source": [
    "X.emp_title.value_counts()[X.emp_title.value_counts()>1000]"
   ]
  },
  {
   "cell_type": "code",
   "execution_count": 262,
   "id": "ef077f2e-c5e5-4278-9f50-1a6fa30a8eb8",
   "metadata": {},
   "outputs": [],
   "source": [
    "engineer_titles=[]\n",
    "for st in X.emp_title.unique():\n",
    "    if \"engineer\" in str.lower(st):\n",
    "        engineer_titles.append(st)"
   ]
  },
  {
   "cell_type": "code",
   "execution_count": 263,
   "id": "8d9379d0-57ca-4f31-829c-8f0d26836d7a",
   "metadata": {},
   "outputs": [],
   "source": [
    "manager_titles=[]\n",
    "for st in X.emp_title.unique():\n",
    "    if \"manager\" in str.lower(st):\n",
    "        manager_titles.append(st)"
   ]
  },
  {
   "cell_type": "code",
   "execution_count": 264,
   "id": "d0be16d1-87c1-4baf-a910-07cd3979cde9",
   "metadata": {},
   "outputs": [
    {
     "data": {
      "text/plain": [
       "5881"
      ]
     },
     "execution_count": 264,
     "metadata": {},
     "output_type": "execute_result"
    }
   ],
   "source": [
    "len(engineer_titles)"
   ]
  },
  {
   "cell_type": "code",
   "execution_count": 265,
   "id": "3621a5aa-9874-4bc5-8dfd-35ada750052f",
   "metadata": {},
   "outputs": [
    {
     "data": {
      "text/plain": [
       "21136"
      ]
     },
     "execution_count": 265,
     "metadata": {},
     "output_type": "execute_result"
    }
   ],
   "source": [
    "len(manager_titles)"
   ]
  },
  {
   "cell_type": "code",
   "execution_count": 266,
   "id": "e477a90c-ab80-4474-bfac-611c10f0cda2",
   "metadata": {},
   "outputs": [],
   "source": [
    "education_titles=[]\n",
    "for st in X.emp_title.unique():\n",
    "    if (\"teach\" in str.lower(st)) or (\"professor\" in str.lower(st)) or (\"educ\" in str.lower(st)):\n",
    "        education_titles.append(st)"
   ]
  },
  {
   "cell_type": "code",
   "execution_count": 267,
   "id": "2fde4d7d-af1d-47f2-91fc-bd08a1688163",
   "metadata": {},
   "outputs": [
    {
     "data": {
      "text/plain": [
       "3379"
      ]
     },
     "execution_count": 267,
     "metadata": {},
     "output_type": "execute_result"
    }
   ],
   "source": [
    "len(education_titles)"
   ]
  },
  {
   "cell_type": "code",
   "execution_count": 268,
   "id": "cbf5ecab-2045-4254-aaec-25c1639b03c1",
   "metadata": {},
   "outputs": [
    {
     "data": {
      "text/plain": [
       "['bmg-educational',\n",
       " 'Global Teachers Research and Resources',\n",
       " 'S&V Education Systems/ Middle GA Center',\n",
       " 'West Metro Education Partners',\n",
       " 'Knott County Board of Education',\n",
       " 'US Department of Education',\n",
       " 'Imperial County Office of Education',\n",
       " 'Follett Higher Education Group',\n",
       " 'North Bergen Board of Education',\n",
       " 'Educational Testing Service']"
      ]
     },
     "execution_count": 268,
     "metadata": {},
     "output_type": "execute_result"
    }
   ],
   "source": [
    "education_titles[:10]"
   ]
  },
  {
   "cell_type": "code",
   "execution_count": 269,
   "id": "579f9b57-eee9-4628-955d-aa884dc32722",
   "metadata": {},
   "outputs": [
    {
     "data": {
      "text/plain": [
       "MORTGAGE    443553\n",
       "RENT        356116\n",
       "OWN          87470\n",
       "OTHER          182\n",
       "NONE            50\n",
       "ANY              3\n",
       "Name: home_ownership, dtype: int64"
      ]
     },
     "execution_count": 269,
     "metadata": {},
     "output_type": "execute_result"
    }
   ],
   "source": [
    "X.home_ownership.value_counts()"
   ]
  },
  {
   "cell_type": "code",
   "execution_count": 270,
   "id": "b7adf089-dd34-442a-bb69-b01a2a7fed24",
   "metadata": {},
   "outputs": [
    {
     "data": {
      "text/plain": [
       "MORTGAGE    371579\n",
       "RENT        297100\n",
       "OWN          90151\n",
       "ANY            504\n",
       "NONE             4\n",
       "Name: home_ownership, dtype: int64"
      ]
     },
     "execution_count": 270,
     "metadata": {},
     "output_type": "execute_result"
    }
   ],
   "source": [
    "X2.home_ownership.value_counts()"
   ]
  },
  {
   "cell_type": "markdown",
   "id": "832efcdf-340f-4c87-9864-1b7b755450f3",
   "metadata": {},
   "source": [
    "Home ownership only has a few possible values. One-hot encoding should work fine here"
   ]
  },
  {
   "cell_type": "code",
   "execution_count": 271,
   "id": "4c8cd4d1-350f-42c8-87af-e1d34dfe3fbc",
   "metadata": {},
   "outputs": [
    {
     "data": {
      "text/plain": [
       "n    887364\n",
       "y        10\n",
       "Name: pymnt_plan, dtype: int64"
      ]
     },
     "execution_count": 271,
     "metadata": {},
     "output_type": "execute_result"
    }
   ],
   "source": [
    "X.pymnt_plan.value_counts()"
   ]
  },
  {
   "cell_type": "code",
   "execution_count": 272,
   "id": "1e9b440c-0e3a-46ff-9163-69a07922231d",
   "metadata": {},
   "outputs": [
    {
     "data": {
      "text/plain": [
       "n    758794\n",
       "y       544\n",
       "Name: pymnt_plan, dtype: int64"
      ]
     },
     "execution_count": 272,
     "metadata": {},
     "output_type": "execute_result"
    }
   ],
   "source": [
    "X2.pymnt_plan.value_counts()"
   ]
  },
  {
   "cell_type": "markdown",
   "id": "e01329bf-3be7-47a5-b140-26ea92788993",
   "metadata": {},
   "source": [
    "There aren't many \"y\" values in each, but we can simply map n to 0 and y to 1 to get a binary feature."
   ]
  },
  {
   "cell_type": "code",
   "execution_count": 273,
   "id": "76f5135e-ab37-4366-9cf0-51570fcab695",
   "metadata": {},
   "outputs": [],
   "source": [
    "X.pymnt_plan=X.pymnt_plan.map({\"n\":0,\"y\":1})\n",
    "X2.pymnt_plan=X2.pymnt_plan.map({\"n\":0,\"y\":1})"
   ]
  },
  {
   "cell_type": "code",
   "execution_count": 274,
   "id": "c750be40-53db-4c0c-8ad7-a57ce8b7b5d8",
   "metadata": {},
   "outputs": [
    {
     "data": {
      "text/plain": [
       "debt_consolidation    524213\n",
       "credit_card           206180\n",
       "home_improvement       51829\n",
       "other                  42893\n",
       "major_purchase         17277\n",
       "small_business         10377\n",
       "car                     8863\n",
       "medical                 8540\n",
       "moving                  5414\n",
       "vacation                4736\n",
       "house                   3707\n",
       "wedding                 2347\n",
       "renewable_energy         575\n",
       "educational              423\n",
       "Name: purpose, dtype: int64"
      ]
     },
     "execution_count": 274,
     "metadata": {},
     "output_type": "execute_result"
    }
   ],
   "source": [
    "X.purpose.value_counts()"
   ]
  },
  {
   "cell_type": "code",
   "execution_count": 275,
   "id": "79d83940-5477-4d1f-ba9d-35f7871e7de0",
   "metadata": {},
   "outputs": [
    {
     "data": {
      "text/plain": [
       "debt_consolidation    431530\n",
       "credit_card           157768\n",
       "home_improvement       57197\n",
       "other                  50680\n",
       "major_purchase         18319\n",
       "medical                10360\n",
       "car                     8777\n",
       "small_business          8235\n",
       "vacation                6416\n",
       "moving                  5973\n",
       "house                   3561\n",
       "renewable_energy         519\n",
       "wedding                    3\n",
       "Name: purpose, dtype: int64"
      ]
     },
     "execution_count": 275,
     "metadata": {},
     "output_type": "execute_result"
    }
   ],
   "source": [
    "X2.purpose.value_counts()"
   ]
  },
  {
   "cell_type": "markdown",
   "id": "58046e22-4ff4-4c60-8326-78e0317f1e98",
   "metadata": {},
   "source": [
    "We have a relatively small number of values here, so we can one-hot encode these later"
   ]
  },
  {
   "cell_type": "code",
   "execution_count": 276,
   "id": "e36cec18-8a89-424d-a4fb-bd4e4a6dc1ab",
   "metadata": {},
   "outputs": [
    {
     "data": {
      "text/plain": [
       "Debt consolidation                     413999\n",
       "Credit card refinancing                164329\n",
       "Home improvement                        40112\n",
       "Other                                   31891\n",
       "Debt Consolidation                      15760\n",
       "                                        ...  \n",
       "New Heater                                  1\n",
       "Looking to get out of debt                  1\n",
       "Debt Conso/Pay off initial LC loan          1\n",
       "Emergency Home Repair                       1\n",
       "Credit Card/Auto Repair                     1\n",
       "Name: title, Length: 63144, dtype: int64"
      ]
     },
     "execution_count": 276,
     "metadata": {},
     "output_type": "execute_result"
    }
   ],
   "source": [
    "X.title.value_counts()"
   ]
  },
  {
   "cell_type": "code",
   "execution_count": 277,
   "id": "306f62cb-d276-4ad7-bf78-88ee136fe791",
   "metadata": {},
   "outputs": [
    {
     "data": {
      "text/plain": [
       "Index(['Debt consolidation', 'Credit card refinancing', 'Home improvement',\n",
       "       'Other', 'other', 'Major purchase', 'Medical expenses', 'Car financing',\n",
       "       'Business', 'Vacation', 'Moving and relocation', 'Home buying',\n",
       "       'Green loan', 'Credit Card Consolidation'],\n",
       "      dtype='object')"
      ]
     },
     "execution_count": 277,
     "metadata": {},
     "output_type": "execute_result"
    }
   ],
   "source": [
    "X2.title.value_counts().index"
   ]
  },
  {
   "cell_type": "code",
   "execution_count": 280,
   "id": "968176f3-7830-4d7b-8ca4-f9c41e62c57a",
   "metadata": {},
   "outputs": [
    {
     "data": {
      "text/plain": [
       "Debt consolidation         413999\n",
       "Credit card refinancing    164329\n",
       "Home improvement            40112\n",
       "Other                       31891\n",
       "Debt Consolidation          15760\n",
       "                            ...  \n",
       "Motorcycle Financing            2\n",
       "September 2011 Loan             2\n",
       "Debt Free 2011                  2\n",
       "Medical Debt Relief             2\n",
       "Best Buy                        2\n",
       "Name: title, Length: 9178, dtype: int64"
      ]
     },
     "execution_count": 280,
     "metadata": {},
     "output_type": "execute_result"
    }
   ],
   "source": [
    "X.title.value_counts()[X.title.value_counts()>1]"
   ]
  },
  {
   "cell_type": "markdown",
   "id": "46d9ce07-7203-4a60-b8a1-cb611aaddd3c",
   "metadata": {},
   "source": [
    "We have a lot of purposes listed, many of which only occur once. We can possibly call those \"other\" or try something else. "
   ]
  },
  {
   "cell_type": "code",
   "execution_count": 281,
   "id": "d38a16d2-ecb2-4382-97ae-04ba0c438bd1",
   "metadata": {},
   "outputs": [
    {
     "data": {
      "text/plain": [
       "945xx    9770\n",
       "750xx    9417\n",
       "112xx    9272\n",
       "606xx    8641\n",
       "300xx    8126\n",
       "         ... \n",
       "569xx       1\n",
       "348xx       1\n",
       "819xx       1\n",
       "375xx       1\n",
       "507xx       1\n",
       "Name: zip_code, Length: 935, dtype: int64"
      ]
     },
     "execution_count": 281,
     "metadata": {},
     "output_type": "execute_result"
    }
   ],
   "source": [
    "X.zip_code.value_counts()"
   ]
  },
  {
   "cell_type": "code",
   "execution_count": 282,
   "id": "2e64b334-824a-49ba-af70-732cd4955392",
   "metadata": {},
   "outputs": [
    {
     "data": {
      "text/plain": [
       "CA    129517\n",
       "NY     74086\n",
       "TX     71133\n",
       "FL     60935\n",
       "IL     35476\n",
       "NJ     33256\n",
       "PA     31393\n",
       "OH     29631\n",
       "GA     29085\n",
       "VA     26255\n",
       "NC     24720\n",
       "MI     22985\n",
       "MD     21031\n",
       "MA     20593\n",
       "AZ     20412\n",
       "WA     19434\n",
       "CO     18807\n",
       "MN     15957\n",
       "MO     14207\n",
       "IN     13789\n",
       "CT     13531\n",
       "TN     12887\n",
       "NV     12443\n",
       "WI     11574\n",
       "AL     11200\n",
       "OR     10893\n",
       "SC     10639\n",
       "LA     10587\n",
       "KY      8550\n",
       "OK      8085\n",
       "KS      7926\n",
       "AR      6640\n",
       "UT      6264\n",
       "NM      4939\n",
       "HI      4570\n",
       "WV      4386\n",
       "NH      4294\n",
       "RI      3893\n",
       "MS      3819\n",
       "MT      2558\n",
       "DE      2511\n",
       "DC      2432\n",
       "AK      2205\n",
       "WY      2028\n",
       "SD      1815\n",
       "VT      1797\n",
       "NE      1176\n",
       "ME       525\n",
       "ND       479\n",
       "IA        14\n",
       "ID        12\n",
       "Name: addr_state, dtype: int64"
      ]
     },
     "execution_count": 282,
     "metadata": {},
     "output_type": "execute_result"
    }
   ],
   "source": [
    "X.addr_state.value_counts()"
   ]
  },
  {
   "cell_type": "markdown",
   "id": "88b72668-4b97-4026-820c-107553c0980a",
   "metadata": {},
   "source": [
    "We could one-hot encode these. However, the zip code is a refined location tag , so it might make sense to simply drop this and use the location based on zip code."
   ]
  },
  {
   "cell_type": "code",
   "execution_count": 283,
   "id": "4dcbfbf8-f427-4ec9-b51d-b021b799c671",
   "metadata": {},
   "outputs": [
    {
     "data": {
      "text/plain": [
       "Debt consolidation                     413999\n",
       "Credit card refinancing                164329\n",
       "Home improvement                        40112\n",
       "Other                                   31891\n",
       "Debt Consolidation                      15760\n",
       "                                        ...  \n",
       "New Heater                                  1\n",
       "Looking to get out of debt                  1\n",
       "Debt Conso/Pay off initial LC loan          1\n",
       "Emergency Home Repair                       1\n",
       "Credit Card/Auto Repair                     1\n",
       "Name: title, Length: 63144, dtype: int64"
      ]
     },
     "execution_count": 283,
     "metadata": {},
     "output_type": "execute_result"
    }
   ],
   "source": [
    "X.title.value_counts()"
   ]
  },
  {
   "cell_type": "code",
   "execution_count": 284,
   "id": "fdefe52d-92eb-4d80-8fc2-9f653655a8fa",
   "metadata": {},
   "outputs": [
    {
     "data": {
      "text/plain": [
       "debt_consolidation    524213\n",
       "credit_card           206180\n",
       "home_improvement       51829\n",
       "other                  42893\n",
       "major_purchase         17277\n",
       "small_business         10377\n",
       "car                     8863\n",
       "medical                 8540\n",
       "moving                  5414\n",
       "vacation                4736\n",
       "house                   3707\n",
       "wedding                 2347\n",
       "renewable_energy         575\n",
       "educational              423\n",
       "Name: purpose, dtype: int64"
      ]
     },
     "execution_count": 284,
     "metadata": {},
     "output_type": "execute_result"
    }
   ],
   "source": [
    "X.purpose.value_counts()"
   ]
  },
  {
   "cell_type": "markdown",
   "id": "bc6d1018-b15c-432f-9eaf-f761ef3ea729",
   "metadata": {},
   "source": [
    "\"Purpose\" and \"title\" seem to have similar types of values, but \"purpose\" has fewer values."
   ]
  },
  {
   "cell_type": "code",
   "execution_count": 285,
   "id": "c3f7f7ea-3492-414e-bc66-239d22c05d46",
   "metadata": {},
   "outputs": [
    {
     "data": {
      "text/plain": [
       "{'educational'}"
      ]
     },
     "execution_count": 285,
     "metadata": {},
     "output_type": "execute_result"
    }
   ],
   "source": [
    "set(X.purpose.unique()).difference(set(X2.purpose.unique()))"
   ]
  },
  {
   "cell_type": "code",
   "execution_count": 286,
   "id": "9cf42143-ccb8-4b8a-bee2-57449369c2f2",
   "metadata": {},
   "outputs": [
    {
     "data": {
      "text/plain": [
       "set()"
      ]
     },
     "execution_count": 286,
     "metadata": {},
     "output_type": "execute_result"
    }
   ],
   "source": [
    "set(X2.purpose.unique()).difference(set(X.purpose.unique()))"
   ]
  },
  {
   "cell_type": "markdown",
   "id": "db752696-c0a1-4708-93bc-219430e96419",
   "metadata": {},
   "source": [
    "The other advanatage of purpose is that we aren't as likely to get a new purpose shown. With \"title\" we'd really need to have some kind of metric or clustering associated that we could apply to a new loan."
   ]
  },
  {
   "cell_type": "code",
   "execution_count": 287,
   "id": "a338c971-4339-405f-a12c-24ab70aa4c42",
   "metadata": {},
   "outputs": [
    {
     "data": {
      "text/plain": [
       "f    456846\n",
       "w    430528\n",
       "Name: initial_list_status, dtype: int64"
      ]
     },
     "execution_count": 287,
     "metadata": {},
     "output_type": "execute_result"
    }
   ],
   "source": [
    "X.initial_list_status.value_counts()"
   ]
  },
  {
   "cell_type": "code",
   "execution_count": 288,
   "id": "46d9d94a-c27d-45cc-b23d-98bba66b59c4",
   "metadata": {},
   "outputs": [
    {
     "data": {
      "text/plain": [
       "w    580878\n",
       "f    178460\n",
       "Name: initial_list_status, dtype: int64"
      ]
     },
     "execution_count": 288,
     "metadata": {},
     "output_type": "execute_result"
    }
   ],
   "source": [
    "X2.initial_list_status.value_counts()"
   ]
  },
  {
   "cell_type": "markdown",
   "id": "3369ee85-e2cd-444d-a53f-ee615d435b33",
   "metadata": {},
   "source": [
    "Initial list status is a binary feature so we can simply convert to 0 and 1\n"
   ]
  },
  {
   "cell_type": "code",
   "execution_count": 289,
   "id": "58d096bf-4911-4abb-b293-b16acd16bef1",
   "metadata": {},
   "outputs": [],
   "source": [
    "X.initial_list_status=X.initial_list_status.map({\"f\":0,\"w\":1})\n",
    "X2.initial_list_status=X2.initial_list_status.map({\"f\":0,\"w\":1})"
   ]
  },
  {
   "cell_type": "code",
   "execution_count": null,
   "id": "76e144b7-177c-41c6-9f4c-f12c664112a4",
   "metadata": {},
   "outputs": [],
   "source": []
  },
  {
   "cell_type": "code",
   "execution_count": 290,
   "id": "5892543a-3a47-436b-a8cd-fc084929c856",
   "metadata": {},
   "outputs": [
    {
     "data": {
      "text/plain": [
       "Source Verified    329557\n",
       "Verified           291070\n",
       "Not Verified       266747\n",
       "Name: verification_status, dtype: int64"
      ]
     },
     "execution_count": 290,
     "metadata": {},
     "output_type": "execute_result"
    }
   ],
   "source": [
    "X.verification_status.value_counts()"
   ]
  },
  {
   "cell_type": "code",
   "execution_count": 291,
   "id": "67bb009f-5df5-4cc4-96de-5be944249658",
   "metadata": {},
   "outputs": [
    {
     "data": {
      "text/plain": [
       "Source Verified    329484\n",
       "Verified           290976\n",
       "Not Verified       266914\n",
       "Name: verification_status_joint, dtype: int64"
      ]
     },
     "execution_count": 291,
     "metadata": {},
     "output_type": "execute_result"
    }
   ],
   "source": [
    "X.verification_status_joint.value_counts()"
   ]
  },
  {
   "cell_type": "code",
   "execution_count": 292,
   "id": "84d0711a-836a-4cef-807a-336968f560da",
   "metadata": {},
   "outputs": [
    {
     "data": {
      "text/plain": [
       "Not Verified       167\n",
       "Source Verified     22\n",
       "Name: verification_status_joint, dtype: int64"
      ]
     },
     "execution_count": 292,
     "metadata": {},
     "output_type": "execute_result"
    }
   ],
   "source": [
    "X[X.verification_status_joint!=X.verification_status].verification_status_joint.value_counts()"
   ]
  },
  {
   "cell_type": "code",
   "execution_count": 293,
   "id": "3a9416c5-b2c4-415f-acf7-254e39d1808a",
   "metadata": {},
   "outputs": [
    {
     "data": {
      "text/plain": [
       "Source Verified    95\n",
       "Verified           72\n",
       "Name: verification_status, dtype: int64"
      ]
     },
     "execution_count": 293,
     "metadata": {},
     "output_type": "execute_result"
    }
   ],
   "source": [
    "X[(X.verification_status_joint!=X.verification_status) & (X.verification_status_joint==\"Not Verified\")].verification_status.value_counts()"
   ]
  },
  {
   "cell_type": "code",
   "execution_count": 294,
   "id": "b0e38eba-3f41-47f3-a738-5b186f42946a",
   "metadata": {},
   "outputs": [
    {
     "data": {
      "text/plain": [
       "Verified    22\n",
       "Name: verification_status, dtype: int64"
      ]
     },
     "execution_count": 294,
     "metadata": {},
     "output_type": "execute_result"
    }
   ],
   "source": [
    "X[(X.verification_status_joint!=X.verification_status) & (X.verification_status_joint==\"Source Verified\")].verification_status.value_counts()"
   ]
  },
  {
   "cell_type": "markdown",
   "id": "3e0063f7-d8ab-44a3-80c6-2632fba368a4",
   "metadata": {},
   "source": [
    "We have some possible ways to deal with different verification on a joint loan. One possibility is essentially to say that if one was verified, treat it as verified, if neither were verified, but one was source verified, treat it as source verified, and if both were not verified treat it as not verified."
   ]
  },
  {
   "cell_type": "markdown",
   "id": "8bd555d2-ba9e-4ddc-b483-329c2c32d636",
   "metadata": {},
   "source": [
    "At this point we have a few things to finalize before being able to attempt a model\n",
    "\n",
    "1)How to treat the employment title. One hot encoding can't work because we might get a new employment title entered. We might try some kind of clustering to get only a few types of possible employment. This would be some kind of clustering and/or labeling by title.\n",
    "\n",
    "2)How to deal with \"purpose\" and \"title\" : \"Purpose\" seems to have fewer possible values. This helps with not having too many features if we choose to one-hot encode, and also avoids problems if a new title that wasn't on the list arises. To use we'd have to cluster/label by title. Also there seems to be a lot of overlap and \"title\" just includes some little used purposes.\n",
    "\n",
    "3)How to deal with different levels of verification for income in a joint loan.\n",
    "\n",
    "4)Minor, but we know we have some features that are strings that we will need to one-hot encode"
   ]
  },
  {
   "cell_type": "code",
   "execution_count": 295,
   "id": "4347b046-225d-46a6-be4e-fc4f165476c8",
   "metadata": {},
   "outputs": [
    {
     "data": {
      "text/plain": [
       "debt_consolidation    524213\n",
       "credit_card           206180\n",
       "home_improvement       51829\n",
       "other                  42893\n",
       "major_purchase         17277\n",
       "small_business         10377\n",
       "car                     8863\n",
       "medical                 8540\n",
       "moving                  5414\n",
       "vacation                4736\n",
       "house                   3707\n",
       "wedding                 2347\n",
       "renewable_energy         575\n",
       "educational              423\n",
       "Name: purpose, dtype: int64"
      ]
     },
     "execution_count": 295,
     "metadata": {},
     "output_type": "execute_result"
    }
   ],
   "source": [
    "X.purpose.value_counts()"
   ]
  },
  {
   "cell_type": "code",
   "execution_count": 296,
   "id": "f10db279-e0ca-4368-a752-a4cc89b20731",
   "metadata": {},
   "outputs": [
    {
     "data": {
      "text/plain": [
       "Debt consolidation                        413226\n",
       "Debt Consolidation                         14731\n",
       "debt consolidation                          4572\n",
       "Consolidation                               4559\n",
       "Debt Consolidation Loan                     3667\n",
       "                                           ...  \n",
       "Catch up with bills                            1\n",
       "drbt consolidation                             1\n",
       "Working hard to get out of debt                1\n",
       "Home imprvmnt and credit consolidation         1\n",
       "Credit Card/Auto Repair                        1\n",
       "Name: title, Length: 33265, dtype: int64"
      ]
     },
     "execution_count": 296,
     "metadata": {},
     "output_type": "execute_result"
    }
   ],
   "source": [
    "X[X.purpose==\"debt_consolidation\"].title.value_counts()"
   ]
  },
  {
   "cell_type": "markdown",
   "id": "69b080e0-7e7d-43e0-9466-540d021ca6a2",
   "metadata": {},
   "source": [
    "As an example we see that purpose of debt consolidation includes variations on capitalization, leaving out \"debt\", adding \"loan\", typos. It would probably be best to lump those together."
   ]
  },
  {
   "cell_type": "code",
   "execution_count": 297,
   "id": "03dd3bb6-2aef-40b0-93b5-ecfb186a0bd5",
   "metadata": {},
   "outputs": [
    {
     "data": {
      "text/plain": [
       "Credit card refinancing         163952\n",
       "Credit Card Refinance             1419\n",
       "Credit Card Consolidation         1154\n",
       "Credit Card Payoff                 889\n",
       "Debt Consolidation                 810\n",
       "                                 ...  \n",
       "Consolidate at a Better Rate         1\n",
       "Credit Colsolidatoin                 1\n",
       "consulidation                        1\n",
       "Consiladation                        1\n",
       "Pay off Lowes Card                   1\n",
       "Name: title, Length: 15160, dtype: int64"
      ]
     },
     "execution_count": 297,
     "metadata": {},
     "output_type": "execute_result"
    }
   ],
   "source": [
    "X[X.purpose==\"credit_card\"].title.value_counts()"
   ]
  },
  {
   "cell_type": "markdown",
   "id": "e2a81792-e422-4f5d-ab69-3a78a82deec1",
   "metadata": {},
   "source": [
    "We can see a similar situation for \"credit_card\" purposes."
   ]
  },
  {
   "cell_type": "code",
   "execution_count": 298,
   "id": "5d9c7291-1993-4aa8-a0f7-2bccd0cc005d",
   "metadata": {},
   "outputs": [
    {
     "data": {
      "text/plain": [
       "Home improvement                 39951\n",
       "Home Improvement                  1530\n",
       "home improvement                   574\n",
       "Home Improvement Loan              550\n",
       "Home                               174\n",
       "                                 ...  \n",
       "Home Improvement - Siding            1\n",
       "Home Improvemnet                     1\n",
       "Home Improvement/Debt Paydown        1\n",
       "Sunshine                             1\n",
       "new kitchen for momma!               1\n",
       "Name: title, Length: 4996, dtype: int64"
      ]
     },
     "execution_count": 298,
     "metadata": {},
     "output_type": "execute_result"
    }
   ],
   "source": [
    "X[X.purpose==\"home_improvement\"].title.value_counts()"
   ]
  },
  {
   "cell_type": "markdown",
   "id": "a3084cb9-d806-4933-96f4-a95bc7e06427",
   "metadata": {},
   "source": [
    "This pattern continues with variations for home improvement. This really suggests that we drop \"title\" and just use \"purpose\" to get a set of possible values for a feature rather than try to cluster the titles using some other model."
   ]
  },
  {
   "cell_type": "markdown",
   "id": "76719b21-0a10-45e7-93e0-04f1888a42a4",
   "metadata": {},
   "source": [
    "## Final Preprocessing"
   ]
  },
  {
   "cell_type": "markdown",
   "id": "88ac313f-f6d7-4000-a070-fea356aacca3",
   "metadata": {},
   "source": [
    "#### Clustering the employment titles"
   ]
  },
  {
   "cell_type": "markdown",
   "id": "6835b954-0e51-464c-9543-08d55b8fd5bd",
   "metadata": {},
   "source": [
    "We want to get groups of \"similar\" employment titles so that we can then encode those without needing a huge number of features and so that we can deal with titles not already in the list"
   ]
  },
  {
   "cell_type": "code",
   "execution_count": 299,
   "id": "7dc4e550-1eb9-4779-9678-6b87858e210e",
   "metadata": {},
   "outputs": [],
   "source": [
    "#import libraries to vectorize and cluster the employment titles\n",
    "from sklearn.feature_extraction.text import TfidfVectorizer\n",
    "from sklearn.cluster import KMeans"
   ]
  },
  {
   "cell_type": "code",
   "execution_count": 300,
   "id": "03dda853-6e3a-4fa0-8e78-abadfce72afe",
   "metadata": {},
   "outputs": [],
   "source": [
    "#Train a vectorizer on the employment titles\n",
    "tdfv=TfidfVectorizer()\n",
    "tf_model=tdfv.fit(X.emp_title)\n",
    "X_emp_vecs=tf_model.transform(X.emp_title)"
   ]
  },
  {
   "cell_type": "code",
   "execution_count": 301,
   "id": "97e4ff92-f0af-4a5d-bc1e-95a30e8c1495",
   "metadata": {},
   "outputs": [],
   "source": [
    "#Train a K Means model with 10 clusters on the vectorized titles\n",
    "km_10=KMeans(n_clusters=10)\n",
    "km_model=km_10.fit(X_emp_vecs)"
   ]
  },
  {
   "cell_type": "code",
   "execution_count": 302,
   "id": "bb7327a4-c007-44a4-a3fa-22559e6f5b22",
   "metadata": {},
   "outputs": [
    {
     "data": {
      "text/plain": [
       "array([0, 4, 0, 4, 4, 4, 4, 4, 0, 4])"
      ]
     },
     "execution_count": 302,
     "metadata": {},
     "output_type": "execute_result"
    }
   ],
   "source": [
    "km_model.labels_[:10]"
   ]
  },
  {
   "cell_type": "markdown",
   "id": "b36648e0-89e5-449d-8bd7-b830060b9dc5",
   "metadata": {},
   "source": [
    "Let's see how this labelling went"
   ]
  },
  {
   "cell_type": "code",
   "execution_count": 303,
   "id": "58eb855f-282e-48f0-a439-e8f4dbfb418b",
   "metadata": {},
   "outputs": [],
   "source": [
    "X[\"emp_labels\"]=km_model.labels_"
   ]
  },
  {
   "cell_type": "code",
   "execution_count": 304,
   "id": "24273adb-f49c-420d-90ab-86fc854be11d",
   "metadata": {},
   "outputs": [
    {
     "name": "stdout",
     "output_type": "stream",
     "text": [
      "Label  0\n",
      "0     other\n",
      "2     other\n",
      "8     other\n",
      "30    other\n",
      "42    other\n",
      "Name: emp_title, dtype: object\n",
      "Label  1\n",
      "15         Internal revenue Service\n",
      "19     Network Interpreting Service\n",
      "69               USAF Civil Service\n",
      "260           National Park Service\n",
      "364                  postal service\n",
      "Name: emp_title, dtype: object\n",
      "Label  2\n",
      "42567             data analyst\n",
      "42580    Lead Business Analyst\n",
      "42581               IT Analyst\n",
      "42587     Sr. Benefits Analyst\n",
      "42609          Systems Analyst\n",
      "Name: emp_title, dtype: object\n",
      "Label  3\n",
      "42537    MANAGER INFORMATION DELIVERY\n",
      "42550                   PARTS MANAGER\n",
      "42553                 Project Manager\n",
      "42555              Operations Manager\n",
      "42570                         Manager\n",
      "Name: emp_title, dtype: object\n",
      "Label  4\n",
      "1                        Ryder\n",
      "3          AIR RESOURCES BOARD\n",
      "4     University Medical Group\n",
      "5         Veolia Transportaton\n",
      "6    Southern Star Photography\n",
      "Name: emp_title, dtype: object\n",
      "Label  5\n",
      "7764                      engineer profiles\n",
      "9566          U.S. Army Engineer R&D Center\n",
      "17688    Jefferson County Engineer's Office\n",
      "21705         Engineer Solutions & products\n",
      "37574                   Consultant Engineer\n",
      "Name: emp_title, dtype: object\n",
      "Label  6\n",
      "42548          Teacher\n",
      "42577          Teacher\n",
      "42578    Teacher Coach\n",
      "42582          Teacher\n",
      "42607          Teacher\n",
      "Name: emp_title, dtype: object\n",
      "Label  7\n",
      "20538            cellular sales\n",
      "42546        Area Sales Manager\n",
      "42575    Regional Sales Manager\n",
      "42589        sales merchandiser\n",
      "42593                 sales man\n",
      "Name: emp_title, dtype: object\n",
      "Label  8\n",
      "42541    Assistant Director - Human Resources\n",
      "42617             Associate Director of Sales\n",
      "42618                      Executive Director\n",
      "42645                       Director of Sales\n",
      "42675                       Director of sales\n",
      "Name: emp_title, dtype: object\n",
      "Label  9\n",
      "36                       Department of Justice\n",
      "139                    WV State Tax Department\n",
      "184                       Department Of Health\n",
      "379    Arizona Department of Economic Security\n",
      "408                      Department of Defense\n",
      "Name: emp_title, dtype: object\n"
     ]
    }
   ],
   "source": [
    "for i in range(10):\n",
    "    print(\"Label \",i)\n",
    "    print(X[X.emp_labels==i].emp_title.head())"
   ]
  },
  {
   "cell_type": "markdown",
   "id": "ced7765f-ea20-4031-a7b2-be066600e383",
   "metadata": {},
   "source": [
    "It might not be ideal, but at least for a first attempt to build a model, it seems like something we can use.\n",
    "We won't want the actual numbers to be used, because it's not ordinal data. We will have to use these labels to dummy encode."
   ]
  },
  {
   "cell_type": "markdown",
   "id": "41429dbf-0045-4c16-b284-5b8c957091d7",
   "metadata": {},
   "source": [
    "#### Final preprocessing of both data sets"
   ]
  },
  {
   "cell_type": "code",
   "execution_count": 305,
   "id": "60ecb40f-3169-46e0-8648-aa38d6833f7e",
   "metadata": {},
   "outputs": [
    {
     "data": {
      "text/plain": [
       "0         0\n",
       "1         4\n",
       "2         0\n",
       "3         4\n",
       "4         4\n",
       "         ..\n",
       "887374    4\n",
       "887375    8\n",
       "887376    4\n",
       "887377    4\n",
       "887378    4\n",
       "Name: emp_labels, Length: 887374, dtype: int32"
      ]
     },
     "execution_count": 305,
     "metadata": {},
     "output_type": "execute_result"
    }
   ],
   "source": [
    "X.emp_labels"
   ]
  },
  {
   "cell_type": "code",
   "execution_count": 306,
   "id": "8a09f1b9-095c-44c0-b475-8fd313002c4d",
   "metadata": {},
   "outputs": [],
   "source": [
    "X.emp_labels=\"emp_label\"+X.emp_labels.astype(\"str\")"
   ]
  },
  {
   "cell_type": "code",
   "execution_count": 307,
   "id": "7f4c95f5-2651-4444-b367-5435191878c4",
   "metadata": {},
   "outputs": [],
   "source": [
    "X.drop(columns=[\"emp_title\",\"title\",\"numeric_grade\"],inplace=True)"
   ]
  },
  {
   "cell_type": "code",
   "execution_count": 308,
   "id": "2eb3446d-5208-40dc-adca-4af3e62daa47",
   "metadata": {},
   "outputs": [
    {
     "data": {
      "text/plain": [
       "loan_amnt                      float64\n",
       "funded_amnt                    float64\n",
       "funded_amnt_inv                float64\n",
       "term                             int64\n",
       "int_rate                       float64\n",
       "installment                    float64\n",
       "emp_length                     float64\n",
       "home_ownership                  object\n",
       "annual_inc                     float64\n",
       "verification_status             object\n",
       "pymnt_plan                       int64\n",
       "purpose                         object\n",
       "zip_code                        object\n",
       "addr_state                      object\n",
       "dti                            float64\n",
       "delinq_2yrs                    float64\n",
       "inq_last_6mths                 float64\n",
       "mths_since_last_delinq         float64\n",
       "mths_since_last_record         float64\n",
       "open_acc                       float64\n",
       "pub_rec                        float64\n",
       "revol_bal                      float64\n",
       "revol_util                     float64\n",
       "total_acc                      float64\n",
       "initial_list_status              int64\n",
       "out_prncp                      float64\n",
       "out_prncp_inv                  float64\n",
       "total_pymnt                    float64\n",
       "total_pymnt_inv                float64\n",
       "total_rec_prncp                float64\n",
       "total_rec_int                  float64\n",
       "total_rec_late_fee             float64\n",
       "recoveries                     float64\n",
       "collection_recovery_fee        float64\n",
       "last_pymnt_amnt                float64\n",
       "collections_12_mths_ex_med     float64\n",
       "mths_since_last_major_derog    float64\n",
       "policy_code                    float64\n",
       "application_type                object\n",
       "verification_status_joint       object\n",
       "acc_now_delinq                 float64\n",
       "tot_coll_amt                   float64\n",
       "tot_cur_bal                    float64\n",
       "total_rev_hi_lim               float64\n",
       "last_credit_pull_d             float64\n",
       "last_pymnt_d                   float64\n",
       "earliest_cr_line               float64\n",
       "next_pymnt_d                   float64\n",
       "target                           int64\n",
       "missing_columns                  int64\n",
       "fine_grade                       int64\n",
       "emp_labels                      object\n",
       "dtype: object"
      ]
     },
     "execution_count": 308,
     "metadata": {},
     "output_type": "execute_result"
    }
   ],
   "source": [
    "X.dtypes"
   ]
  },
  {
   "cell_type": "code",
   "execution_count": 309,
   "id": "b7269db6-327e-44f5-83b6-8aeea8d38202",
   "metadata": {},
   "outputs": [
    {
     "data": {
      "text/plain": [
       "Index(['loan_amnt', 'funded_amnt', 'funded_amnt_inv', 'term', 'int_rate',\n",
       "       'installment', 'emp_length', 'home_ownership', 'annual_inc',\n",
       "       'verification_status', 'pymnt_plan', 'purpose', 'zip_code',\n",
       "       'addr_state', 'dti', 'delinq_2yrs', 'inq_last_6mths',\n",
       "       'mths_since_last_delinq', 'mths_since_last_record', 'open_acc',\n",
       "       'pub_rec', 'revol_bal', 'revol_util', 'total_acc',\n",
       "       'initial_list_status', 'out_prncp', 'out_prncp_inv', 'total_pymnt',\n",
       "       'total_pymnt_inv', 'total_rec_prncp', 'total_rec_int',\n",
       "       'total_rec_late_fee', 'recoveries', 'collection_recovery_fee',\n",
       "       'last_pymnt_amnt', 'collections_12_mths_ex_med',\n",
       "       'mths_since_last_major_derog', 'policy_code', 'application_type',\n",
       "       'verification_status_joint', 'acc_now_delinq', 'tot_coll_amt',\n",
       "       'tot_cur_bal', 'total_rev_hi_lim', 'last_credit_pull_d', 'last_pymnt_d',\n",
       "       'earliest_cr_line', 'next_pymnt_d', 'target', 'missing_columns',\n",
       "       'fine_grade', 'emp_labels'],\n",
       "      dtype='object')"
      ]
     },
     "execution_count": 309,
     "metadata": {},
     "output_type": "execute_result"
    }
   ],
   "source": [
    "X.columns"
   ]
  },
  {
   "cell_type": "code",
   "execution_count": 310,
   "id": "9328fe6c-c98e-416d-9438-e3cbe2460601",
   "metadata": {},
   "outputs": [],
   "source": [
    "#Now we need to do the same for the test data\n",
    "\n",
    "#cluster the employment titles using the same method as for the training data\n",
    "X2_emp_vecs=tf_model.transform(X2.emp_title)\n",
    "X2_emp_labels=km_10.predict(X2_emp_vecs)"
   ]
  },
  {
   "cell_type": "code",
   "execution_count": 311,
   "id": "a6aa8b17-3431-45d7-a6f8-854cd351f36a",
   "metadata": {},
   "outputs": [],
   "source": [
    "X2[\"emp_labels\"]=X2_emp_labels"
   ]
  },
  {
   "cell_type": "code",
   "execution_count": 312,
   "id": "9f8fea0d-459e-4ba7-9a10-15bcec2ff0b8",
   "metadata": {},
   "outputs": [],
   "source": [
    "X2.emp_labels=\"emp_label\"+X2.emp_labels.astype(\"str\")"
   ]
  },
  {
   "cell_type": "code",
   "execution_count": 313,
   "id": "f2e5cf39-ed4e-4e4c-9652-08a2a2eb0ec8",
   "metadata": {},
   "outputs": [],
   "source": [
    "X2.drop(columns=[\"emp_title\",\"title\",\"numeric_grade\"],inplace=True)"
   ]
  },
  {
   "cell_type": "code",
   "execution_count": 314,
   "id": "16553933-34d1-4e9b-bb49-0b7d05279a1f",
   "metadata": {},
   "outputs": [
    {
     "data": {
      "text/plain": [
       "set()"
      ]
     },
     "execution_count": 314,
     "metadata": {},
     "output_type": "execute_result"
    }
   ],
   "source": [
    "set(X.columns).difference(set(X2.columns))\n",
    "    "
   ]
  },
  {
   "cell_type": "code",
   "execution_count": 315,
   "id": "144a5297-4f45-49aa-bab9-f31180e1d798",
   "metadata": {},
   "outputs": [
    {
     "data": {
      "text/plain": [
       "set()"
      ]
     },
     "execution_count": 315,
     "metadata": {},
     "output_type": "execute_result"
    }
   ],
   "source": [
    "set(X2.columns).difference(set(X.columns))"
   ]
  },
  {
   "cell_type": "code",
   "execution_count": 316,
   "id": "3b7fe25f-5e4f-4060-82f0-4d58b22441e0",
   "metadata": {},
   "outputs": [
    {
     "data": {
      "text/plain": [
       "['home_ownership',\n",
       " 'verification_status',\n",
       " 'purpose',\n",
       " 'zip_code',\n",
       " 'addr_state',\n",
       " 'application_type',\n",
       " 'verification_status_joint',\n",
       " 'emp_labels']"
      ]
     },
     "execution_count": 316,
     "metadata": {},
     "output_type": "execute_result"
    }
   ],
   "source": [
    "list(X.select_dtypes(\"object\").columns)"
   ]
  },
  {
   "cell_type": "code",
   "execution_count": 317,
   "id": "af1264cd-2094-4fd9-bb52-01e44108bf09",
   "metadata": {},
   "outputs": [
    {
     "data": {
      "text/plain": [
       "['home_ownership',\n",
       " 'verification_status',\n",
       " 'purpose',\n",
       " 'zip_code',\n",
       " 'addr_state',\n",
       " 'application_type',\n",
       " 'verification_status_joint',\n",
       " 'emp_labels']"
      ]
     },
     "execution_count": 317,
     "metadata": {},
     "output_type": "execute_result"
    }
   ],
   "source": [
    "list(X2.select_dtypes(\"object\").columns)"
   ]
  },
  {
   "cell_type": "markdown",
   "id": "f5a8039f-f5c8-4d23-9463-73036b359c62",
   "metadata": {},
   "source": [
    "Before dummy encoding the string features, we need to see if there are values for each that might not appear in one of the sets. "
   ]
  },
  {
   "cell_type": "code",
   "execution_count": 318,
   "id": "f9b3e1f3-6faf-425f-b222-31c47c03c622",
   "metadata": {},
   "outputs": [
    {
     "name": "stdout",
     "output_type": "stream",
     "text": [
      "Column :  home_ownership\n",
      "In X, but not X2\n",
      "{'OTHER'}\n",
      "In X2, but not X\n",
      "set()\n",
      "Column :  verification_status\n",
      "In X, but not X2\n",
      "set()\n",
      "In X2, but not X\n",
      "set()\n",
      "Column :  purpose\n",
      "In X, but not X2\n",
      "{'educational'}\n",
      "In X2, but not X\n",
      "set()\n",
      "Column :  zip_code\n",
      "In X, but not X2\n",
      "{'375xx', '929xx', '682xx', '849xx', '522xx', '205xx', '429xx', '501xx', '516xx', '524xx', '520xx', '513xx', '509xx', '503xx', '938xx', '527xx', '568xx', '269xx', '507xx', '771xx', '892xx', '649xx', '643xx', '819xx', '817xx', '888xx', '862xx', '399xx', '514xx', '504xx', '889xx', '511xx'}\n",
      "In X2, but not X\n",
      "{'698xx', '009xx', '964xx', '515xx', '872xx', '095xx', '552xx', '055xx', '202xx', '987xx', '525xx', '966xx', '345xx', '521xx', '696xx', '885xx'}\n",
      "Column :  addr_state\n",
      "In X, but not X2\n",
      "{'IA'}\n",
      "In X2, but not X\n",
      "set()\n",
      "Column :  application_type\n",
      "In X, but not X2\n",
      "set()\n",
      "In X2, but not X\n",
      "set()\n",
      "Column :  verification_status_joint\n",
      "In X, but not X2\n",
      "set()\n",
      "In X2, but not X\n",
      "set()\n",
      "Column :  emp_labels\n",
      "In X, but not X2\n",
      "set()\n",
      "In X2, but not X\n",
      "set()\n"
     ]
    }
   ],
   "source": [
    "for col in list(X.select_dtypes(\"object\").columns):\n",
    "    print (\"Column : \",col)\n",
    "    print (\"In X, but not X2\")\n",
    "    print (set(X[col].values).difference(set(X2[col].values)))\n",
    "    print (\"In X2, but not X\")\n",
    "    print (set(X2[col].values).difference(set(X[col].values)))"
   ]
  },
  {
   "cell_type": "markdown",
   "id": "6574e158-d33e-4c72-b267-add98a319321",
   "metadata": {},
   "source": [
    "We can see a few things. The training data contains a home ownership of \"other\" which the test data does not. It also contains a purpose of \"educational\" which the test data does not. The zip codes definitely vary.\n",
    "\n",
    "For the first two we have two options. \n",
    "\n",
    "1)We can stack the dataframes on top of each other (with a feature flag to tell us if it was from the training or test data) and dummy encode them together\n",
    "\n",
    "2)We can simply add an additional column for the missing values once the test data has been dummy encoded. \n",
    "\n",
    "The former seems a bit easier and we can separate them after by using the flag variable introduced\n",
    "\n",
    "The zip codes are slightly more complicated. There could easily be missing zip codes from both, so we can't simply combine to dummy encode the zip codes, because that still won't help with a new loan application that has a zip code that isn't in either.\n",
    "\n",
    "We can look at the following possible solutions:\n",
    "\n",
    "1)Drop the zip code entirely and use the state \n",
    "\n",
    "2)Get a numeric value based on the first 3 digits\n",
    "\n",
    "3)Make sure the data includes dummy columns for all 1000 possible zip codes.\n",
    "\n",
    "(1) is easy though it loses some granularity (lumping everyone in a state like CA or NY might lose some useful information)\n",
    "\n",
    "(2) is easy to do. However treating it as numeric means that it becomes ordinal when a model uses it and it's not necessarily best. There are geographic relationships that might actually be relevant \n",
    "\n",
    "(3) Can be done but creates 1000 features that will be sparse. "
   ]
  },
  {
   "cell_type": "code",
   "execution_count": 319,
   "id": "90c0adfd-4b5d-4171-9456-131979ac328f",
   "metadata": {},
   "outputs": [
    {
     "name": "stdout",
     "output_type": "stream",
     "text": [
      "007xx\n",
      "['NJ' 'PA' 'FL']\n",
      "008xx\n",
      "['VA']\n",
      "010xx\n",
      "['MA' 'CT']\n",
      "011xx\n",
      "['MA' 'CT']\n",
      "012xx\n",
      "['MA']\n",
      "013xx\n",
      "['MA']\n",
      "014xx\n",
      "['MA' 'KS']\n",
      "015xx\n",
      "['MA']\n",
      "016xx\n",
      "['MA' 'WA']\n",
      "017xx\n",
      "['MA' 'NY' 'MI' 'CA']\n",
      "018xx\n",
      "['MA' 'RI']\n",
      "019xx\n",
      "['MA' 'ME']\n",
      "020xx\n",
      "['MA' 'RI']\n",
      "021xx\n",
      "['MA' 'MD' 'NY' 'FL' 'ME' 'TX']\n",
      "022xx\n",
      "['MA']\n",
      "023xx\n",
      "['MA']\n",
      "024xx\n",
      "['MA']\n",
      "025xx\n",
      "['MA']\n",
      "026xx\n",
      "['MA' 'RI' 'PA' 'CA']\n",
      "027xx\n",
      "['MA' 'MD' 'RI']\n",
      "028xx\n",
      "['RI' 'VA' 'MA' 'PA']\n",
      "029xx\n",
      "['RI' 'MA']\n",
      "030xx\n",
      "['NH' 'NJ' 'MA']\n",
      "031xx\n",
      "['NH' 'CT']\n",
      "032xx\n",
      "['NH']\n",
      "033xx\n",
      "['NH' 'FL']\n",
      "034xx\n",
      "['NH' 'MA' 'CT']\n",
      "035xx\n",
      "['NH']\n",
      "036xx\n",
      "['NH']\n",
      "037xx\n",
      "['NH' 'NJ']\n",
      "038xx\n",
      "['NH']\n",
      "039xx\n",
      "['ME' 'RI']\n",
      "040xx\n",
      "['MA' 'ME']\n",
      "041xx\n",
      "['ME' 'NH']\n",
      "042xx\n",
      "['ME']\n",
      "043xx\n",
      "['MD' 'ME' 'CT' 'MA']\n",
      "044xx\n",
      "['MA' 'ME' 'NJ']\n",
      "045xx\n",
      "['ME' 'CA' 'NJ' 'VT']\n",
      "046xx\n",
      "['ME']\n",
      "047xx\n",
      "['ME']\n",
      "048xx\n",
      "['ME']\n",
      "049xx\n",
      "['NH' 'ME' 'MA']\n",
      "050xx\n",
      "['VT']\n",
      "051xx\n",
      "['VT']\n",
      "052xx\n",
      "['VT']\n",
      "053xx\n",
      "['VT' 'MA' 'NH']\n",
      "054xx\n",
      "['VT' 'NY']\n",
      "056xx\n",
      "['VT']\n",
      "057xx\n",
      "['VT' 'MA']\n",
      "058xx\n",
      "['VT']\n",
      "059xx\n",
      "['VT']\n",
      "060xx\n",
      "['CT' 'CO']\n",
      "061xx\n",
      "['CT' 'IL' 'NY' 'CO']\n",
      "062xx\n",
      "['CT' 'FL']\n",
      "063xx\n",
      "['CT' 'NY' 'CO']\n",
      "064xx\n",
      "['CT' 'DE' 'MA' 'DC' 'FL']\n",
      "065xx\n",
      "['CT' 'NC']\n",
      "066xx\n",
      "['CT']\n",
      "067xx\n",
      "['CT' 'CO' 'NY']\n",
      "068xx\n",
      "['CT' 'CO' 'IL' 'CA' 'DE']\n",
      "069xx\n",
      "['CT' 'PA']\n",
      "070xx\n",
      "['NJ' 'NY' 'DC' 'NH' 'NM']\n",
      "071xx\n",
      "['NJ' 'MA' 'CT' 'NM' 'NH']\n",
      "072xx\n",
      "['NJ' 'NY']\n",
      "073xx\n",
      "['NJ' 'NM' 'NY']\n",
      "074xx\n",
      "['NJ']\n",
      "075xx\n",
      "['NJ']\n",
      "076xx\n",
      "['NJ' 'NY' 'NE']\n",
      "077xx\n",
      "['NJ']\n",
      "078xx\n",
      "['NJ' 'PA']\n",
      "079xx\n",
      "['NJ' 'NY']\n",
      "080xx\n",
      "['NJ' 'PA' 'NM' 'CA']\n",
      "081xx\n",
      "['NJ' 'MA' 'PA']\n",
      "082xx\n",
      "['NJ']\n",
      "083xx\n",
      "['NJ']\n",
      "084xx\n",
      "['NJ']\n",
      "085xx\n",
      "['NJ' 'NY' 'LA']\n",
      "086xx\n",
      "['NJ' 'NY']\n",
      "087xx\n",
      "['NJ' 'VA']\n",
      "088xx\n",
      "['NJ' 'NY' 'WY']\n",
      "089xx\n",
      "['NJ']\n",
      "090xx\n",
      "['NY' 'CA' 'DC' 'FL' 'CO']\n",
      "091xx\n",
      "['NY' 'MA' 'OK' 'DC' 'AL' 'GA']\n",
      "092xx\n",
      "['MO' 'DC' 'GA' 'WA' 'NY']\n",
      "093xx\n",
      "['NY']\n",
      "094xx\n",
      "['NY']\n",
      "096xx\n",
      "['NY' 'TX' 'NJ']\n",
      "097xx\n",
      "['GA' 'NY']\n",
      "098xx\n",
      "['VA' 'NY' 'DC']\n",
      "100xx\n",
      "['NY' 'OR' 'NC' 'WI' 'NJ' 'NV' 'FL' 'NE' 'MI']\n",
      "101xx\n",
      "['NY']\n",
      "102xx\n",
      "['NY' 'PA']\n",
      "103xx\n",
      "['NY' 'AL' 'NJ']\n",
      "104xx\n",
      "['NY' 'NV' 'CT' 'MD' 'NM' 'NE' 'NJ' 'NC']\n",
      "105xx\n",
      "['NY' 'NJ' 'MA']\n",
      "106xx\n",
      "['NY']\n",
      "107xx\n",
      "['NY' 'NM' 'NC']\n",
      "108xx\n",
      "['NY' 'NM' 'PA']\n",
      "109xx\n",
      "['NY' 'NM']\n",
      "110xx\n",
      "['NY']\n",
      "111xx\n",
      "['NY' 'CT']\n",
      "112xx\n",
      "['NY' 'NM' 'OH' 'WI' 'NE' 'NC' 'MS' 'FL' 'MA']\n",
      "113xx\n",
      "['NY' 'NM' 'NJ' 'NC']\n",
      "114xx\n",
      "['NY' 'NJ' 'LA' 'NV' 'VA' 'NE' 'PA']\n",
      "115xx\n",
      "['NY' 'NV']\n",
      "116xx\n",
      "['NY']\n",
      "117xx\n",
      "['NY' 'VA' 'NE' 'NM' 'NH' 'OH' 'GA']\n",
      "118xx\n",
      "['NY']\n",
      "119xx\n",
      "['NY' 'PA' 'NE']\n",
      "120xx\n",
      "['NY']\n",
      "121xx\n",
      "['NY' 'PA']\n",
      "122xx\n",
      "['NY']\n",
      "123xx\n",
      "['NY']\n",
      "124xx\n",
      "['NY']\n",
      "125xx\n",
      "['NY' 'NM' 'CT']\n",
      "126xx\n",
      "['NY' 'OH']\n",
      "127xx\n",
      "['NY']\n",
      "128xx\n",
      "['NY' 'CA']\n",
      "129xx\n",
      "['NY' 'MT']\n",
      "130xx\n",
      "['NY']\n",
      "131xx\n",
      "['NY']\n",
      "132xx\n",
      "['NY']\n",
      "133xx\n",
      "['NY']\n",
      "134xx\n",
      "['NY' 'NJ' 'NC']\n",
      "135xx\n",
      "['NY']\n",
      "136xx\n",
      "['NY' 'MA']\n",
      "137xx\n",
      "['NY']\n",
      "138xx\n",
      "['NY']\n",
      "139xx\n",
      "['NY']\n",
      "140xx\n",
      "['NY' 'CA']\n",
      "141xx\n",
      "['NY' 'WI']\n",
      "142xx\n",
      "['NY']\n",
      "143xx\n",
      "['NY' 'MA']\n",
      "144xx\n",
      "['NY' 'NE']\n",
      "145xx\n",
      "['NY' 'PA' 'CT']\n",
      "146xx\n",
      "['NY' 'VA' 'NM']\n",
      "147xx\n",
      "['NY']\n",
      "148xx\n",
      "['NY' 'CO']\n",
      "149xx\n",
      "['NY']\n",
      "150xx\n",
      "['PA' 'TN' 'NY']\n",
      "151xx\n",
      "['PA' 'RI' 'AL']\n",
      "152xx\n",
      "['PA' 'AZ' 'OR']\n",
      "153xx\n",
      "['PA' 'NY']\n",
      "154xx\n",
      "['PA']\n",
      "155xx\n",
      "['PA']\n",
      "156xx\n",
      "['PA' 'MA']\n",
      "157xx\n",
      "['PA']\n",
      "158xx\n",
      "['PA']\n",
      "159xx\n",
      "['PA']\n",
      "160xx\n",
      "['PA' 'MA']\n",
      "161xx\n",
      "['PA']\n",
      "162xx\n",
      "['PA']\n",
      "163xx\n",
      "['PA' 'SC']\n",
      "164xx\n",
      "['PA']\n",
      "165xx\n",
      "['PA']\n",
      "166xx\n",
      "['PA']\n",
      "167xx\n",
      "['PA']\n",
      "168xx\n",
      "['PA']\n",
      "169xx\n",
      "['PA']\n",
      "170xx\n",
      "['PA']\n",
      "171xx\n",
      "['PA']\n",
      "172xx\n",
      "['PA' 'OR']\n",
      "173xx\n",
      "['PA' 'MD' 'RI' 'NY']\n",
      "174xx\n",
      "['PA']\n",
      "175xx\n",
      "['PA' 'NC']\n",
      "176xx\n",
      "['PA' 'NY']\n",
      "177xx\n",
      "['PA' 'NY']\n",
      "178xx\n",
      "['PA']\n",
      "179xx\n",
      "['PA']\n",
      "180xx\n",
      "['PA' 'VA']\n",
      "181xx\n",
      "['PA']\n",
      "182xx\n",
      "['PA']\n",
      "183xx\n",
      "['PA']\n",
      "184xx\n",
      "['PA' 'MA']\n",
      "185xx\n",
      "['PA']\n",
      "186xx\n",
      "['PA']\n",
      "187xx\n",
      "['PA']\n",
      "188xx\n",
      "['PA' 'MA']\n",
      "189xx\n",
      "['PA']\n",
      "190xx\n",
      "['PA' 'MA' 'DE' 'NJ']\n",
      "191xx\n",
      "['PA' 'DE' 'CA' 'TX']\n",
      "193xx\n",
      "['PA' 'NY' 'TX' 'VA']\n",
      "194xx\n",
      "['PA' 'NY' 'SC']\n",
      "195xx\n",
      "['PA']\n",
      "196xx\n",
      "['PA' 'NY']\n",
      "197xx\n",
      "['DE' 'PA' 'DC' 'AL']\n",
      "198xx\n",
      "['DE' 'PA' 'WA' 'MD']\n",
      "199xx\n",
      "['DE' 'PA']\n",
      "200xx\n",
      "['DC' 'WA' 'MD' 'MA' 'FL' 'CA' 'VA' 'CO' 'PA']\n",
      "201xx\n",
      "['VA' 'WI' 'AR' 'FL' 'MD' 'WA' 'SC']\n",
      "203xx\n",
      "['IL' 'MA' 'GA']\n",
      "204xx\n",
      "['NY' 'MD' 'MA']\n",
      "205xx\n",
      "['DC']\n",
      "206xx\n",
      "['MD' 'DC' 'MA' 'VA']\n",
      "207xx\n",
      "['MD' 'NJ' 'VA' 'TX']\n",
      "208xx\n",
      "['MD' 'SC' 'MA' 'OK' 'NY' 'TX']\n",
      "209xx\n",
      "['MD' 'MA' 'VA' 'PA' 'DC']\n",
      "210xx\n",
      "['MD' 'MA' 'NY' 'VA' 'PA' 'TX' 'FL']\n",
      "211xx\n",
      "['MD' 'MA']\n",
      "212xx\n",
      "['MD' 'PA' 'MN' 'MA']\n",
      "214xx\n",
      "['MD' 'MA']\n",
      "215xx\n",
      "['MD' 'GA']\n",
      "216xx\n",
      "['MD' 'AL']\n",
      "217xx\n",
      "['MD']\n",
      "218xx\n",
      "['MD' 'NY']\n",
      "219xx\n",
      "['MD']\n",
      "220xx\n",
      "['VA' 'MD' 'WY' 'VT']\n",
      "221xx\n",
      "['VA' 'VT' 'MN' 'FL']\n",
      "222xx\n",
      "['VA' 'WV' 'PA' 'DC' 'OH' 'CA']\n",
      "223xx\n",
      "['VA' 'AZ' 'DC']\n",
      "224xx\n",
      "['VA']\n",
      "225xx\n",
      "['VA']\n",
      "226xx\n",
      "['VA' 'VT']\n",
      "227xx\n",
      "['VA' 'NC']\n",
      "228xx\n",
      "['VA']\n",
      "229xx\n",
      "['VA' 'TN' 'NC']\n",
      "230xx\n",
      "['VA' 'VT']\n",
      "231xx\n",
      "['VA' 'MD']\n",
      "232xx\n",
      "['VA' 'VT' 'NY' 'MD']\n",
      "233xx\n",
      "['VA' 'HI' 'FL']\n",
      "234xx\n",
      "['VA' 'FL']\n",
      "235xx\n",
      "['VA' 'WV']\n",
      "236xx\n",
      "['VA' 'WV']\n",
      "237xx\n",
      "['VA' 'FL' 'MA']\n",
      "238xx\n",
      "['VA' 'WV' 'MA' 'FL']\n",
      "239xx\n",
      "['VA' 'FL']\n",
      "240xx\n",
      "['VA' 'FL']\n",
      "241xx\n",
      "['VA']\n",
      "242xx\n",
      "['VA']\n",
      "243xx\n",
      "['VA']\n",
      "244xx\n",
      "['VA']\n",
      "245xx\n",
      "['VA' 'VT' 'NC']\n",
      "246xx\n",
      "['VA' 'TX']\n",
      "247xx\n",
      "['WV' 'VA' 'NC']\n",
      "248xx\n",
      "['WV' 'NC']\n",
      "249xx\n",
      "['WV' 'SC']\n",
      "250xx\n",
      "['WV']\n",
      "251xx\n",
      "['WV']\n",
      "252xx\n",
      "['WV']\n",
      "253xx\n",
      "['WV' 'WY']\n",
      "254xx\n",
      "['WV' 'VA']\n",
      "255xx\n",
      "['WV' 'MN' 'WA' 'MA']\n",
      "256xx\n",
      "['WV' 'AL']\n",
      "257xx\n",
      "['WV']\n",
      "258xx\n",
      "['WV']\n",
      "259xx\n",
      "['WV']\n",
      "260xx\n",
      "['WV']\n",
      "261xx\n",
      "['WV']\n",
      "262xx\n",
      "['WV']\n",
      "263xx\n",
      "['WV' 'NC']\n",
      "264xx\n",
      "['WV' 'VA']\n",
      "265xx\n",
      "['WV' 'AL' 'MD' 'FL']\n",
      "266xx\n",
      "['WV']\n",
      "267xx\n",
      "['WV' 'NC']\n",
      "268xx\n",
      "['WV']\n",
      "269xx\n",
      "['SC']\n",
      "270xx\n",
      "['NC' 'SD']\n",
      "271xx\n",
      "['NC' 'NY' 'MD' 'MA' 'TN']\n",
      "272xx\n",
      "['NC' 'SC' 'NM']\n",
      "273xx\n",
      "['NC' 'VA']\n",
      "274xx\n",
      "['NC' 'VA' 'NV']\n",
      "275xx\n",
      "['NC' 'VA' 'SC' 'TX' 'CT' 'MT' 'FL' 'MD' 'PA']\n",
      "276xx\n",
      "['NC' 'SC' 'MA' 'NY' 'WV']\n",
      "277xx\n",
      "['NC' 'WI']\n",
      "278xx\n",
      "['NC' 'CO']\n",
      "279xx\n",
      "['NC' 'SC']\n",
      "280xx\n",
      "['NC' 'NV']\n",
      "281xx\n",
      "['NC' 'SC' 'IN' 'MI']\n",
      "282xx\n",
      "['NC' 'TX' 'WY' 'VA' 'FL' 'NH' 'NV']\n",
      "283xx\n",
      "['NC' 'SC' 'IL' 'NV' 'NY' 'AR']\n",
      "284xx\n",
      "['NC' 'RI' 'NJ']\n",
      "285xx\n",
      "['NC' 'WV' 'KS']\n",
      "286xx\n",
      "['NC' 'NY']\n",
      "287xx\n",
      "['NC' 'SC']\n",
      "288xx\n",
      "['NC' 'RI' 'VA']\n",
      "289xx\n",
      "['NC' 'RI']\n",
      "290xx\n",
      "['SC']\n",
      "291xx\n",
      "['SC' 'SD']\n",
      "292xx\n",
      "['SC' 'NC' 'GA']\n",
      "293xx\n",
      "['SC']\n",
      "294xx\n",
      "['SC' 'KY' 'CA']\n",
      "295xx\n",
      "['SC' 'IL' 'SD']\n",
      "296xx\n",
      "['SC' 'GA' 'VA' 'NC']\n",
      "297xx\n",
      "['SC' 'NC' 'MD']\n",
      "298xx\n",
      "['SC']\n",
      "299xx\n",
      "['SC' 'VA' 'DE']\n",
      "300xx\n",
      "['GA' 'FL' 'AL' 'SC' 'AK' 'NJ' 'VA']\n",
      "301xx\n",
      "['GA' 'VA' 'AL' 'TN' 'CT' 'SC' 'NY' 'IL']\n",
      "302xx\n",
      "['GA' 'MD' 'IL' 'FL' 'NV']\n",
      "303xx\n",
      "['GA' 'FL' 'NH']\n",
      "304xx\n",
      "['GA']\n",
      "305xx\n",
      "['GA' 'NH']\n",
      "306xx\n",
      "['GA']\n",
      "307xx\n",
      "['GA' 'IN' 'TN']\n",
      "308xx\n",
      "['GA']\n",
      "309xx\n",
      "['GA']\n",
      "310xx\n",
      "['GA' 'NH' 'KY' 'HI']\n",
      "311xx\n",
      "['GA']\n",
      "312xx\n",
      "['GA']\n",
      "313xx\n",
      "['GA' 'AL' 'HI']\n",
      "314xx\n",
      "['GA' 'AK' 'NC']\n",
      "315xx\n",
      "['GA']\n",
      "316xx\n",
      "['GA']\n",
      "317xx\n",
      "['GA' 'MD']\n",
      "318xx\n",
      "['GA']\n",
      "319xx\n",
      "['GA' 'HI']\n",
      "320xx\n",
      "['FL' 'NY' 'DC' 'AL' 'NC']\n",
      "321xx\n",
      "['FL']\n",
      "322xx\n",
      "['FL' 'NY' 'GA']\n",
      "323xx\n",
      "['FL']\n",
      "324xx\n",
      "['FL' 'IL']\n",
      "325xx\n",
      "['FL' 'GA' 'TN']\n",
      "326xx\n",
      "['FL']\n",
      "327xx\n",
      "['FL' 'PA' 'NC']\n",
      "328xx\n",
      "['FL' 'DC' 'LA' 'GA']\n",
      "329xx\n",
      "['FL' 'GA' 'DC']\n",
      "330xx\n",
      "['FL' 'GA']\n",
      "331xx\n",
      "['FL' 'MO' 'NY' 'OH' 'DC']\n",
      "332xx\n",
      "['FL']\n",
      "333xx\n",
      "['FL' 'CA' 'TX' 'GA']\n",
      "334xx\n",
      "['FL' 'MN' 'CT' 'TN']\n",
      "335xx\n",
      "['FL' 'GA' 'TX' 'HI' 'MI']\n",
      "336xx\n",
      "['FL' 'MD' 'MI' 'NY' 'IN']\n",
      "337xx\n",
      "['FL' 'NC' 'NY' 'LA' 'IL']\n",
      "338xx\n",
      "['FL']\n",
      "339xx\n",
      "['FL' 'PA' 'NY']\n",
      "340xx\n",
      "['FL']\n",
      "341xx\n",
      "['FL' 'OK']\n",
      "342xx\n",
      "['FL' 'VT' 'OH' 'NY']\n",
      "343xx\n",
      "['OH']\n",
      "344xx\n",
      "['FL' 'GA']\n",
      "346xx\n",
      "['FL' 'GA' 'IL']\n",
      "347xx\n",
      "['FL' 'WI' 'TN' 'CT' 'OH' 'DC']\n",
      "348xx\n",
      "['FL']\n",
      "349xx\n",
      "['FL' 'PA' 'GA']\n",
      "350xx\n",
      "['AL']\n",
      "351xx\n",
      "['AL']\n",
      "352xx\n",
      "['AL' 'AK' 'FL']\n",
      "353xx\n",
      "['AL']\n",
      "354xx\n",
      "['AL']\n",
      "355xx\n",
      "['AL' 'AK']\n",
      "356xx\n",
      "['AL' 'AK']\n",
      "357xx\n",
      "['AL' 'FL']\n",
      "358xx\n",
      "['AL' 'IL' 'FL']\n",
      "359xx\n",
      "['AL']\n",
      "360xx\n",
      "['AL']\n",
      "361xx\n",
      "['AL']\n",
      "362xx\n",
      "['AL']\n",
      "363xx\n",
      "['AL' 'AK' 'AZ']\n",
      "364xx\n",
      "['AL' 'FL']\n",
      "365xx\n",
      "['AL']\n",
      "366xx\n",
      "['AL']\n",
      "367xx\n",
      "['AL']\n",
      "368xx\n",
      "['AL']\n",
      "369xx\n",
      "['AL']\n",
      "370xx\n",
      "['KY' 'TN' 'CT']\n",
      "371xx\n",
      "['TX' 'TN']\n",
      "372xx\n",
      "['TN' 'TX' 'NC']\n",
      "373xx\n",
      "['TN' 'FL']\n",
      "374xx\n",
      "['TX' 'TN']\n",
      "375xx\n",
      "['NC']\n",
      "376xx\n",
      "['TX' 'VA' 'TN']\n",
      "377xx\n",
      "['TN']\n",
      "378xx\n",
      "['NV' 'TN']\n",
      "379xx\n",
      "['TN' 'VA']\n",
      "380xx\n",
      "['TN']\n",
      "381xx\n",
      "['TX' 'TN']\n",
      "382xx\n",
      "['TN' 'NC']\n",
      "383xx\n",
      "['TN' 'MI']\n",
      "384xx\n",
      "['TN' 'MN']\n",
      "385xx\n",
      "['TX' 'TN']\n",
      "386xx\n",
      "['MS' 'TN' 'NV']\n",
      "387xx\n",
      "['MS' 'TN']\n",
      "388xx\n",
      "['MS']\n",
      "389xx\n",
      "['MS']\n",
      "390xx\n",
      "['MS' 'MO' 'TX']\n",
      "391xx\n",
      "['MO' 'MS']\n",
      "392xx\n",
      "['MS']\n",
      "393xx\n",
      "['MS' 'GA']\n",
      "394xx\n",
      "['MS' 'LA' 'MO']\n",
      "395xx\n",
      "['MS' 'AL' 'MO' 'GA']\n",
      "396xx\n",
      "['MS' 'GA']\n",
      "397xx\n",
      "['MS' 'AL' 'GA']\n",
      "398xx\n",
      "['GA' 'FL']\n",
      "399xx\n",
      "['MS']\n",
      "400xx\n",
      "['KY' 'GA']\n",
      "401xx\n",
      "['KY' 'MI' 'LA']\n",
      "402xx\n",
      "['KY' 'TN' 'TX' 'IN' 'LA' 'NY']\n",
      "403xx\n",
      "['MD' 'KY' 'LA']\n",
      "404xx\n",
      "['KY' 'MD']\n",
      "405xx\n",
      "['KY']\n",
      "406xx\n",
      "['KY' 'IN']\n",
      "407xx\n",
      "['KY']\n",
      "408xx\n",
      "['KY']\n",
      "409xx\n",
      "['KY']\n",
      "410xx\n",
      "['KY' 'MI' 'KS']\n",
      "411xx\n",
      "['KY']\n",
      "412xx\n",
      "['KY']\n",
      "413xx\n",
      "['KY']\n",
      "414xx\n",
      "['KY']\n",
      "415xx\n",
      "['KY']\n",
      "416xx\n",
      "['KY']\n",
      "417xx\n",
      "['KY' 'IN']\n",
      "418xx\n",
      "['KY']\n",
      "420xx\n",
      "['KY' 'OH']\n",
      "421xx\n",
      "['KY' 'KS' 'OH']\n",
      "422xx\n",
      "['KY']\n",
      "423xx\n",
      "['KY']\n",
      "424xx\n",
      "['KY']\n",
      "425xx\n",
      "['VA' 'KY']\n",
      "426xx\n",
      "['KY']\n",
      "427xx\n",
      "['KY']\n",
      "429xx\n",
      "['NY']\n",
      "430xx\n",
      "['OH' 'NC' 'KY' 'OK']\n",
      "431xx\n",
      "['OH' 'WI']\n",
      "432xx\n",
      "['OH' 'NY']\n",
      "433xx\n",
      "['OH']\n",
      "434xx\n",
      "['OH' 'AZ']\n",
      "435xx\n",
      "['OH']\n",
      "436xx\n",
      "['OH']\n",
      "437xx\n",
      "['OH']\n",
      "438xx\n",
      "['OH']\n",
      "439xx\n",
      "['OH']\n",
      "440xx\n",
      "['OH']\n",
      "441xx\n",
      "['OH' 'FL' 'MA' 'OK']\n",
      "442xx\n",
      "['OH']\n",
      "443xx\n",
      "['OH']\n",
      "444xx\n",
      "['OH']\n",
      "445xx\n",
      "['OH' 'OK']\n",
      "446xx\n",
      "['OH' 'IN']\n",
      "447xx\n",
      "['OH']\n",
      "448xx\n",
      "['OH' 'NC' 'MI']\n",
      "449xx\n",
      "['OH']\n",
      "450xx\n",
      "['OH' 'KY' 'TX']\n",
      "451xx\n",
      "['OH']\n",
      "452xx\n",
      "['OH' 'IN' 'KY' 'FL' 'MI']\n",
      "453xx\n",
      "['OH']\n",
      "454xx\n",
      "['OH' 'CA']\n",
      "455xx\n",
      "['OH']\n",
      "456xx\n",
      "['OH' 'MI' 'IN']\n",
      "457xx\n",
      "['OH' 'WV']\n",
      "458xx\n",
      "['OH']\n",
      "460xx\n",
      "['IL' 'IN' 'TX' 'KS' 'OH']\n",
      "461xx\n",
      "['IL' 'IN']\n",
      "462xx\n",
      "['IL' 'IN' 'KS']\n",
      "463xx\n",
      "['IL' 'IN' 'LA']\n",
      "464xx\n",
      "['IN' 'TX' 'IL']\n",
      "465xx\n",
      "['IN' 'IL']\n",
      "466xx\n",
      "['IN' 'FL']\n",
      "467xx\n",
      "['IN' 'IL']\n",
      "468xx\n",
      "['IL' 'IN' 'KS']\n",
      "469xx\n",
      "['IN']\n",
      "470xx\n",
      "['IN']\n",
      "471xx\n",
      "['MD' 'IN' 'IL' 'MI' 'KY']\n",
      "472xx\n",
      "['IN']\n",
      "473xx\n",
      "['IN']\n",
      "474xx\n",
      "['IN' 'MD']\n",
      "475xx\n",
      "['IN']\n",
      "476xx\n",
      "['IN']\n",
      "477xx\n",
      "['IN' 'IL']\n",
      "478xx\n",
      "['IN' 'IL']\n",
      "479xx\n",
      "['IN']\n",
      "480xx\n",
      "['MI' 'MN' 'NV']\n",
      "481xx\n",
      "['MI' 'MN' 'MD' 'OH']\n",
      "482xx\n",
      "['MI']\n",
      "483xx\n",
      "['MI' 'OH' 'CA' 'MN' 'DC']\n",
      "484xx\n",
      "['MI']\n",
      "485xx\n",
      "['MI']\n",
      "486xx\n",
      "['MI' 'TX' 'ME' 'OH']\n",
      "487xx\n",
      "['MI']\n",
      "488xx\n",
      "['MI' 'MN']\n",
      "489xx\n",
      "['MI']\n",
      "490xx\n",
      "['MI' 'MS']\n",
      "491xx\n",
      "['MI' 'DC']\n",
      "492xx\n",
      "['MI' 'MN']\n",
      "493xx\n",
      "['MI' 'IN' 'TX']\n",
      "494xx\n",
      "['MI']\n",
      "495xx\n",
      "['MI' 'IN']\n",
      "496xx\n",
      "['MI' 'SC']\n",
      "497xx\n",
      "['MI' 'TX']\n",
      "498xx\n",
      "['MI' 'MA']\n",
      "499xx\n",
      "['MI']\n",
      "500xx\n",
      "['IA' 'IL' 'DC']\n",
      "501xx\n",
      "['IL' 'IN']\n",
      "502xx\n",
      "['IA' 'MO']\n",
      "503xx\n",
      "['IA' 'IL']\n",
      "504xx\n",
      "['MN' 'IL']\n",
      "506xx\n",
      "['IL']\n",
      "507xx\n",
      "['NJ']\n",
      "509xx\n",
      "['VT']\n",
      "510xx\n",
      "['IN' 'IL']\n",
      "511xx\n",
      "['IA']\n",
      "513xx\n",
      "['IN']\n",
      "514xx\n",
      "['IA']\n",
      "516xx\n",
      "['NY']\n",
      "520xx\n",
      "['IL']\n",
      "522xx\n",
      "['IA' 'NC']\n",
      "523xx\n",
      "['IA' 'IL']\n",
      "524xx\n",
      "['IL']\n",
      "527xx\n",
      "['IL' 'IA']\n",
      "528xx\n",
      "['IL' 'IA']\n",
      "530xx\n",
      "['WI' 'FL']\n",
      "531xx\n",
      "['WI' 'WY']\n",
      "532xx\n",
      "['WI' 'PA']\n",
      "534xx\n",
      "['WI']\n",
      "535xx\n",
      "['WI' 'NC']\n",
      "537xx\n",
      "['WI']\n",
      "538xx\n",
      "['WI']\n",
      "539xx\n",
      "['WI']\n",
      "540xx\n",
      "['WI']\n",
      "541xx\n",
      "['WI' 'WY']\n",
      "542xx\n",
      "['WI']\n",
      "543xx\n",
      "['WI' 'TX']\n",
      "544xx\n",
      "['WI']\n",
      "545xx\n",
      "['WI' 'OH']\n",
      "546xx\n",
      "['WI']\n",
      "547xx\n",
      "['WI']\n",
      "548xx\n",
      "['WI']\n",
      "549xx\n",
      "['WI']\n",
      "550xx\n",
      "['MN' 'MI']\n",
      "551xx\n",
      "['MN' 'MO' 'LA' 'OH']\n",
      "553xx\n",
      "['MN' 'WI' 'MO']\n",
      "554xx\n",
      "['MN' 'CA' 'AL' 'MI']\n",
      "555xx\n",
      "['MN']\n",
      "556xx\n",
      "['MN']\n",
      "557xx\n",
      "['MN' 'SD']\n",
      "558xx\n",
      "['MN' 'MD']\n",
      "559xx\n",
      "['MN']\n",
      "560xx\n",
      "['MN']\n",
      "561xx\n",
      "['MN' 'IL']\n",
      "562xx\n",
      "['MN']\n",
      "563xx\n",
      "['MN' 'WI']\n",
      "564xx\n",
      "['MN']\n",
      "565xx\n",
      "['MN' 'MT']\n",
      "566xx\n",
      "['MN']\n",
      "567xx\n",
      "['MN']\n",
      "568xx\n",
      "['WI']\n",
      "569xx\n",
      "['MN']\n",
      "570xx\n",
      "['SD' 'TN']\n",
      "571xx\n",
      "['SD']\n",
      "572xx\n",
      "['SD' 'MN']\n",
      "573xx\n",
      "['SD' 'MN']\n",
      "574xx\n",
      "['SD' 'NC']\n",
      "575xx\n",
      "['SD']\n",
      "576xx\n",
      "['SD']\n",
      "577xx\n",
      "['SD']\n",
      "580xx\n",
      "['ND' 'SD']\n",
      "581xx\n",
      "['ND']\n",
      "582xx\n",
      "['MN' 'ND']\n",
      "583xx\n",
      "['ND']\n",
      "584xx\n",
      "['ND']\n",
      "585xx\n",
      "['ND']\n",
      "586xx\n",
      "['ND' 'NC' 'MT']\n",
      "587xx\n",
      "['NV' 'ND']\n",
      "588xx\n",
      "['ND']\n",
      "590xx\n",
      "['MT' 'AZ']\n",
      "591xx\n",
      "['MT']\n",
      "592xx\n",
      "['MT']\n",
      "593xx\n",
      "['MT']\n",
      "594xx\n",
      "['MT']\n",
      "595xx\n",
      "['MT']\n",
      "596xx\n",
      "['MT']\n",
      "597xx\n",
      "['MT']\n",
      "598xx\n",
      "['MT']\n",
      "599xx\n",
      "['MT']\n",
      "600xx\n",
      "['IL' 'CA' 'IN']\n",
      "601xx\n",
      "['IL' 'FL' 'GA' 'CT' 'NY']\n",
      "602xx\n",
      "['IL']\n",
      "603xx\n",
      "['IL']\n",
      "604xx\n",
      "['IL' 'CT' 'TX' 'FL']\n",
      "605xx\n",
      "['IL' 'VA' 'AR' 'CO' 'CA']\n",
      "606xx\n",
      "['IL' 'CT' 'AZ' 'IN' 'MN']\n",
      "607xx\n",
      "['IL']\n",
      "608xx\n",
      "['IL']\n",
      "609xx\n",
      "['IL']\n",
      "610xx\n",
      "['IL' 'MO']\n",
      "611xx\n",
      "['IL' 'CT']\n",
      "612xx\n",
      "['IL']\n",
      "613xx\n",
      "['IL']\n",
      "614xx\n",
      "['IL']\n",
      "615xx\n",
      "['IL']\n",
      "616xx\n",
      "['IL' 'CA' 'MO']\n",
      "617xx\n",
      "['IL' 'CA']\n",
      "618xx\n",
      "['IL' 'IN']\n",
      "619xx\n",
      "['IL']\n",
      "620xx\n",
      "['IL' 'MO' 'CA']\n",
      "621xx\n",
      "['IL']\n",
      "622xx\n",
      "['IL' 'MO' 'IN' 'HI' 'MT']\n",
      "623xx\n",
      "['IL' 'MO']\n",
      "624xx\n",
      "['IL']\n",
      "625xx\n",
      "['IL' 'CT' 'KY']\n",
      "626xx\n",
      "['IL' 'IN' 'CA']\n",
      "627xx\n",
      "['IL']\n",
      "628xx\n",
      "['IL']\n",
      "629xx\n",
      "['IL' 'TX' 'IN']\n",
      "630xx\n",
      "['MO' 'MT' 'CA' 'IL' 'MD']\n",
      "631xx\n",
      "['MO' 'CO' 'MT']\n",
      "633xx\n",
      "['MO' 'IL']\n",
      "634xx\n",
      "['MO' 'AL']\n",
      "635xx\n",
      "['MO']\n",
      "636xx\n",
      "['MO' 'CA']\n",
      "637xx\n",
      "['MO']\n",
      "638xx\n",
      "['MO']\n",
      "639xx\n",
      "['MO']\n",
      "640xx\n",
      "['MO' 'MI']\n",
      "641xx\n",
      "['MO' 'KS']\n",
      "643xx\n",
      "['MO']\n",
      "644xx\n",
      "['MO']\n",
      "645xx\n",
      "['MO' 'CA']\n",
      "646xx\n",
      "['MO' 'CA']\n",
      "647xx\n",
      "['MO']\n",
      "648xx\n",
      "['MO' 'CA' 'CT']\n",
      "649xx\n",
      "['IL']\n",
      "650xx\n",
      "['MO']\n",
      "651xx\n",
      "['MO']\n",
      "652xx\n",
      "['MO' 'IL' 'MT' 'AZ' 'MN']\n",
      "653xx\n",
      "['MO' 'CA']\n",
      "654xx\n",
      "['MO' 'CA']\n",
      "655xx\n",
      "['MO']\n",
      "656xx\n",
      "['MO']\n",
      "657xx\n",
      "['MO']\n",
      "658xx\n",
      "['MO']\n",
      "660xx\n",
      "['KS']\n",
      "661xx\n",
      "['KS' 'NE']\n",
      "662xx\n",
      "['KS' 'MO' 'MI']\n",
      "663xx\n",
      "['MO' 'FL']\n",
      "664xx\n",
      "['KS']\n",
      "665xx\n",
      "['KS' 'LA']\n",
      "666xx\n",
      "['KS' 'KY']\n",
      "667xx\n",
      "['KS']\n",
      "668xx\n",
      "['KS']\n",
      "669xx\n",
      "['KS']\n",
      "670xx\n",
      "['KS' 'CO' 'CT']\n",
      "671xx\n",
      "['KS' 'AK']\n",
      "672xx\n",
      "['KS']\n",
      "673xx\n",
      "['KS']\n",
      "674xx\n",
      "['KS']\n",
      "675xx\n",
      "['KS']\n",
      "676xx\n",
      "['KS']\n",
      "677xx\n",
      "['KS']\n",
      "678xx\n",
      "['KS']\n",
      "679xx\n",
      "['KS']\n",
      "680xx\n",
      "['NE' 'AZ']\n",
      "681xx\n",
      "['NE' 'KS' 'NV']\n",
      "682xx\n",
      "['WA']\n",
      "683xx\n",
      "['NE']\n",
      "684xx\n",
      "['NE']\n",
      "685xx\n",
      "['NE' 'MO']\n",
      "686xx\n",
      "['NE']\n",
      "687xx\n",
      "['NE']\n",
      "688xx\n",
      "['NE']\n",
      "689xx\n",
      "['NE']\n",
      "690xx\n",
      "['NE']\n",
      "691xx\n",
      "['NE' 'KS']\n",
      "692xx\n",
      "['NE']\n",
      "693xx\n",
      "['NE' 'NV']\n",
      "694xx\n",
      "['IL']\n",
      "700xx\n",
      "['LA' 'NJ' 'TX']\n",
      "701xx\n",
      "['LA' 'TX' 'NJ']\n",
      "702xx\n",
      "['CO']\n",
      "703xx\n",
      "['LA' 'TN']\n",
      "704xx\n",
      "['LA' 'TX']\n",
      "705xx\n",
      "['LA' 'KY']\n",
      "706xx\n",
      "['LA' 'AR']\n",
      "707xx\n",
      "['LA' 'CO' 'NJ']\n",
      "708xx\n",
      "['LA' 'CA' 'NJ']\n",
      "709xx\n",
      "['LA']\n",
      "710xx\n",
      "['LA' 'OK']\n",
      "711xx\n",
      "['LA' 'AR']\n",
      "712xx\n",
      "['LA']\n",
      "713xx\n",
      "['LA']\n",
      "714xx\n",
      "['LA']\n",
      "716xx\n",
      "['AR']\n",
      "717xx\n",
      "['AR' 'AZ' 'CA' 'LA']\n",
      "718xx\n",
      "['AR']\n",
      "719xx\n",
      "['AR']\n",
      "720xx\n",
      "['AR' 'AZ' 'TX']\n",
      "721xx\n",
      "['AR' 'TX']\n",
      "722xx\n",
      "['AR' 'NJ']\n",
      "723xx\n",
      "['AR']\n",
      "724xx\n",
      "['AR' 'OK']\n",
      "725xx\n",
      "['AR']\n",
      "726xx\n",
      "['AR']\n",
      "727xx\n",
      "['AR' 'AZ' 'FL']\n",
      "728xx\n",
      "['AR']\n",
      "729xx\n",
      "['AR']\n",
      "730xx\n",
      "['OK' 'NJ' 'LA' 'OH']\n",
      "731xx\n",
      "['OK']\n",
      "734xx\n",
      "['OK']\n",
      "735xx\n",
      "['OK']\n",
      "736xx\n",
      "['OK' 'AR']\n",
      "737xx\n",
      "['OK']\n",
      "738xx\n",
      "['OK']\n",
      "739xx\n",
      "['OK' 'TX']\n",
      "740xx\n",
      "['OK' 'OR' 'AK' 'TX']\n",
      "741xx\n",
      "['OK' 'TX']\n",
      "742xx\n",
      "['TX']\n",
      "743xx\n",
      "['OK']\n",
      "744xx\n",
      "['OK']\n",
      "745xx\n",
      "['OK']\n",
      "746xx\n",
      "['OK']\n",
      "747xx\n",
      "['OK' 'TX']\n",
      "748xx\n",
      "['OK']\n",
      "749xx\n",
      "['OK']\n",
      "750xx\n",
      "['TX' 'CA' 'OH' 'DC' 'TN' 'VT' 'HI']\n",
      "751xx\n",
      "['TX' 'UT' 'TN']\n",
      "752xx\n",
      "['TX' 'NY' 'NM' 'CA' 'AZ']\n",
      "753xx\n",
      "['TX']\n",
      "754xx\n",
      "['TX' 'TN' 'AR']\n",
      "755xx\n",
      "['TX']\n",
      "756xx\n",
      "['TX']\n",
      "757xx\n",
      "['TX']\n",
      "758xx\n",
      "['TX']\n",
      "759xx\n",
      "['TX']\n",
      "760xx\n",
      "['TX' 'NJ' 'TN']\n",
      "761xx\n",
      "['TX' 'CA' 'OK']\n",
      "762xx\n",
      "['TX' 'VA' 'TN']\n",
      "763xx\n",
      "['TX']\n",
      "764xx\n",
      "['TX']\n",
      "765xx\n",
      "['TX' 'VA']\n",
      "766xx\n",
      "['TX']\n",
      "767xx\n",
      "['TX' 'HI']\n",
      "768xx\n",
      "['TX']\n",
      "769xx\n",
      "['TX']\n",
      "770xx\n",
      "['TX' 'FL' 'UT' 'CO' 'AZ' 'NY' 'IL' 'TN']\n",
      "771xx\n",
      "['OK' 'AR']\n",
      "772xx\n",
      "['TX' 'AR']\n",
      "773xx\n",
      "['TX' 'CA' 'TN']\n",
      "774xx\n",
      "['TX' 'UT' 'CT' 'TN' 'CO' 'AR']\n",
      "775xx\n",
      "['TX' 'UT' 'NY' 'TN' 'VA']\n",
      "776xx\n",
      "['TX']\n",
      "777xx\n",
      "['TX']\n",
      "778xx\n",
      "['TX']\n",
      "779xx\n",
      "['TX']\n",
      "780xx\n",
      "['TX' 'TN']\n",
      "781xx\n",
      "['TX' 'TN']\n",
      "782xx\n",
      "['TX' 'UT' 'GA' 'OR' 'CA' 'AL' 'TN']\n",
      "783xx\n",
      "['TX' 'MN']\n",
      "784xx\n",
      "['TX']\n",
      "785xx\n",
      "['TX' 'CO']\n",
      "786xx\n",
      "['TX']\n",
      "787xx\n",
      "['TX' 'UT' 'TN' 'CA']\n",
      "788xx\n",
      "['TX']\n",
      "789xx\n",
      "['TX']\n",
      "790xx\n",
      "['TX']\n",
      "791xx\n",
      "['TX']\n",
      "792xx\n",
      "['TX']\n",
      "793xx\n",
      "['TX' 'NJ']\n",
      "794xx\n",
      "['TX' 'LA']\n",
      "795xx\n",
      "['TX' 'AZ']\n",
      "796xx\n",
      "['TX']\n",
      "797xx\n",
      "['TX' 'TN' 'LA' 'CA']\n",
      "798xx\n",
      "['TX']\n",
      "799xx\n",
      "['TX' 'AK']\n",
      "800xx\n",
      "['CO' 'NJ' 'CA']\n",
      "801xx\n",
      "['CO' 'NJ' 'CA' 'CT']\n",
      "802xx\n",
      "['CO' 'CA' 'CT' 'TX' 'IL']\n",
      "803xx\n",
      "['CO']\n",
      "804xx\n",
      "['CO']\n",
      "805xx\n",
      "['CO']\n",
      "806xx\n",
      "['CO']\n",
      "807xx\n",
      "['CO']\n",
      "808xx\n",
      "['CO' 'NJ' 'HI']\n",
      "809xx\n",
      "['CO' 'CT' 'TX']\n",
      "810xx\n",
      "['CO' 'CA' 'SC']\n",
      "811xx\n",
      "['CO']\n",
      "812xx\n",
      "['CO']\n",
      "813xx\n",
      "['CO']\n",
      "814xx\n",
      "['CO' 'UT']\n",
      "815xx\n",
      "['CO']\n",
      "816xx\n",
      "['CO' 'CT' 'AR']\n",
      "817xx\n",
      "['NM']\n",
      "819xx\n",
      "['NV']\n",
      "820xx\n",
      "['WY' 'AZ']\n",
      "821xx\n",
      "['WY']\n",
      "822xx\n",
      "['WY']\n",
      "823xx\n",
      "['WY']\n",
      "824xx\n",
      "['WY']\n",
      "825xx\n",
      "['WY' 'AZ']\n",
      "826xx\n",
      "['WY' 'CA' 'LA']\n",
      "827xx\n",
      "['WY' 'CA']\n",
      "828xx\n",
      "['WY']\n",
      "829xx\n",
      "['WY']\n",
      "830xx\n",
      "['WY']\n",
      "831xx\n",
      "['WY']\n",
      "832xx\n",
      "['ID' 'HI' 'LA' 'AK']\n",
      "833xx\n",
      "['ID' 'CA' 'AZ' 'UT']\n",
      "834xx\n",
      "['ID' 'UT' 'IN']\n",
      "835xx\n",
      "['ND' 'IN']\n",
      "836xx\n",
      "['MN' 'ID' 'CA' 'FL' 'IL']\n",
      "837xx\n",
      "['ID' 'HI']\n",
      "838xx\n",
      "['WA' 'ID']\n",
      "840xx\n",
      "['UT' 'AK' 'AZ' 'HI']\n",
      "841xx\n",
      "['UT']\n",
      "843xx\n",
      "['UT']\n",
      "844xx\n",
      "['UT']\n",
      "845xx\n",
      "['UT']\n",
      "846xx\n",
      "['UT']\n",
      "847xx\n",
      "['UT']\n",
      "849xx\n",
      "['UT']\n",
      "850xx\n",
      "['AZ' 'AK' 'AR' 'AL' 'CA' 'UT' 'WA']\n",
      "851xx\n",
      "['AZ' 'AK' 'AR']\n",
      "852xx\n",
      "['AZ' 'MA' 'NM' 'AK' 'AR' 'SD' 'NV' 'OR' 'IL']\n",
      "853xx\n",
      "['AZ' 'UT' 'AR' 'AK' 'SD' 'AL' 'IL']\n",
      "854xx\n",
      "['AZ']\n",
      "855xx\n",
      "['AZ' 'AK']\n",
      "856xx\n",
      "['AZ' 'AR']\n",
      "857xx\n",
      "['AZ' 'AR' 'AL']\n",
      "859xx\n",
      "['AZ']\n",
      "860xx\n",
      "['AZ' 'NV']\n",
      "861xx\n",
      "['NJ' 'NV']\n",
      "862xx\n",
      "['WY']\n",
      "863xx\n",
      "['AZ' 'AR' 'NM']\n",
      "864xx\n",
      "['AZ' 'AR' 'AK' 'NV']\n",
      "865xx\n",
      "['AZ' 'CT' 'NV']\n",
      "870xx\n",
      "['NM']\n",
      "871xx\n",
      "['NM' 'CO' 'NH' 'KY']\n",
      "873xx\n",
      "['NM']\n",
      "874xx\n",
      "['NM' 'NV']\n",
      "875xx\n",
      "['NM' 'AZ']\n",
      "877xx\n",
      "['NM']\n",
      "878xx\n",
      "['NM']\n",
      "879xx\n",
      "['NM']\n",
      "880xx\n",
      "['NM' 'CO']\n",
      "881xx\n",
      "['NM' 'NV' 'CO']\n",
      "882xx\n",
      "['NM']\n",
      "883xx\n",
      "['NM' 'NV']\n",
      "884xx\n",
      "['NM']\n",
      "888xx\n",
      "['NJ']\n",
      "889xx\n",
      "['NV']\n",
      "890xx\n",
      "['UT' 'NV' 'SD' 'MI']\n",
      "891xx\n",
      "['NV' 'TN' 'UT' 'NH' 'AZ' 'CA' 'NE' 'MT' 'NY']\n",
      "892xx\n",
      "['AZ']\n",
      "893xx\n",
      "['NV']\n",
      "894xx\n",
      "['NV' 'CA']\n",
      "895xx\n",
      "['NV' 'CO' 'OR']\n",
      "897xx\n",
      "['NV']\n",
      "898xx\n",
      "['NV']\n",
      "900xx\n",
      "['CA' 'NY' 'GA' 'CT' 'PA']\n",
      "901xx\n",
      "['CA']\n",
      "902xx\n",
      "['CA' 'AZ' 'OR']\n",
      "903xx\n",
      "['CA']\n",
      "904xx\n",
      "['CA']\n",
      "905xx\n",
      "['CA']\n",
      "906xx\n",
      "['CA' 'MT' 'AR']\n",
      "907xx\n",
      "['CA' 'OR' 'FL' 'AL']\n",
      "908xx\n",
      "['CA']\n",
      "909xx\n",
      "['CA']\n",
      "910xx\n",
      "['CA']\n",
      "911xx\n",
      "['CA']\n",
      "912xx\n",
      "['CA' 'GA' 'DC']\n",
      "913xx\n",
      "['CA' 'MN']\n",
      "914xx\n",
      "['CA' 'NY' 'CO' 'CT']\n",
      "915xx\n",
      "['CA']\n",
      "916xx\n",
      "['CA' 'FL' 'DE']\n",
      "917xx\n",
      "['CA' 'CO' 'AZ' 'MD' 'FL']\n",
      "918xx\n",
      "['CA' 'WA']\n",
      "919xx\n",
      "['CA']\n",
      "920xx\n",
      "['CA' 'AZ' 'VA' 'UT' 'AR']\n",
      "921xx\n",
      "['CA' 'VA' 'MA']\n",
      "922xx\n",
      "['CA']\n",
      "923xx\n",
      "['CA' 'CO']\n",
      "924xx\n",
      "['CA']\n",
      "925xx\n",
      "['CA' 'AZ' 'OK' 'CO' 'AR']\n",
      "926xx\n",
      "['CA' 'FL' 'MI' 'OH']\n",
      "927xx\n",
      "['CA']\n",
      "928xx\n",
      "['CA' 'CO' 'UT' 'CT' 'PA']\n",
      "929xx\n",
      "['CA' 'MA']\n",
      "930xx\n",
      "['CA' 'CO' 'AR']\n",
      "931xx\n",
      "['CA' 'CO']\n",
      "932xx\n",
      "['CA' 'OH' 'FL']\n",
      "933xx\n",
      "['CA']\n",
      "934xx\n",
      "['CA' 'CT']\n",
      "935xx\n",
      "['CA' 'WA' 'PA' 'TX']\n",
      "936xx\n",
      "['CA' 'AL']\n",
      "937xx\n",
      "['CA']\n",
      "938xx\n",
      "['CA']\n",
      "939xx\n",
      "['CA']\n",
      "940xx\n",
      "['CA' 'UT']\n",
      "941xx\n",
      "['CA' 'WA' 'TX' 'HI' 'AR' 'MA' 'NV']\n",
      "942xx\n",
      "['CA']\n",
      "943xx\n",
      "['CA' 'MI' 'OR']\n",
      "944xx\n",
      "['CA']\n",
      "945xx\n",
      "['CA' 'CO' 'OR' 'AL' 'AR' 'GA']\n",
      "946xx\n",
      "['CA' 'WA' 'CO']\n",
      "947xx\n",
      "['CA']\n",
      "948xx\n",
      "['CA' 'CO' 'MO']\n",
      "949xx\n",
      "['CA']\n",
      "950xx\n",
      "['CA' 'CO' 'AZ' 'NH']\n",
      "951xx\n",
      "['CA' 'TX' 'CT']\n",
      "952xx\n",
      "['CA' 'AZ' 'NM']\n",
      "953xx\n",
      "['CA']\n",
      "954xx\n",
      "['CA']\n",
      "955xx\n",
      "['CA' 'FL']\n",
      "956xx\n",
      "['CA' 'AR']\n",
      "957xx\n",
      "['CA' 'NY']\n",
      "958xx\n",
      "['CA' 'HI' 'AR' 'CO']\n",
      "959xx\n",
      "['CA' 'CO']\n",
      "960xx\n",
      "['CA' 'WA']\n",
      "961xx\n",
      "['CA']\n",
      "962xx\n",
      "['CA' 'AL' 'IL' 'VA' 'NY' 'MD']\n",
      "963xx\n",
      "['CA' 'TX' 'WA' 'NH' 'HI' 'VA']\n",
      "965xx\n",
      "['CA']\n",
      "967xx\n",
      "['HI' 'AK' 'WI' 'CT' 'IL' 'TX']\n",
      "968xx\n",
      "['HI' 'MA']\n",
      "969xx\n",
      "['HI' 'CA' 'AZ']\n",
      "970xx\n",
      "['OR']\n",
      "971xx\n",
      "['OR' 'NM' 'CA']\n",
      "972xx\n",
      "['OR' 'NJ' 'HI' 'WA']\n",
      "973xx\n",
      "['OR' 'CA' 'WA']\n",
      "974xx\n",
      "['OR' 'NJ']\n",
      "975xx\n",
      "['OR' 'OH' 'WI']\n",
      "976xx\n",
      "['OR']\n",
      "977xx\n",
      "['OR' 'OH' 'WA' 'HI' 'MN']\n",
      "978xx\n",
      "['OR']\n",
      "979xx\n",
      "['OR' 'NJ' 'AL']\n",
      "980xx\n",
      "['WA' 'TX' 'CA']\n",
      "981xx\n",
      "['WA' 'OH' 'CA']\n",
      "982xx\n",
      "['WA' 'CA']\n",
      "983xx\n",
      "['WA' 'AK' 'HI' 'VA' 'WV']\n",
      "984xx\n",
      "['WA' 'CA']\n",
      "985xx\n",
      "['WA' 'MT']\n",
      "986xx\n",
      "['WA' 'OR']\n",
      "988xx\n",
      "['WA']\n",
      "989xx\n",
      "['WA' 'AZ']\n",
      "990xx\n",
      "['WA' 'CA' 'AK']\n",
      "991xx\n",
      "['WA' 'CA']\n",
      "992xx\n",
      "['WA' 'KS' 'AK']\n",
      "993xx\n",
      "['WA']\n",
      "994xx\n",
      "['WA' 'CA']\n",
      "995xx\n",
      "['AK' 'AZ']\n",
      "996xx\n",
      "['AK' 'TX']\n",
      "997xx\n",
      "['AK']\n",
      "998xx\n",
      "['AK']\n",
      "999xx\n",
      "['AK']\n"
     ]
    }
   ],
   "source": [
    "for code in sorted(X.zip_code.unique()):\n",
    "    print (code)\n",
    "    print( X[X.zip_code==code].addr_state.unique())"
   ]
  },
  {
   "cell_type": "markdown",
   "id": "50b0efe5-4139-4aef-ae8b-64f981412de8",
   "metadata": {},
   "source": [
    "We have some zipcodes being given with different states, which makes them somewhat suspect to use (For example the 990xx has states listed as Washington, California, Arkansas even though the 990xx zip codes are all in Washington. This tends to suggest to not use the zip codes, but just the states"
   ]
  },
  {
   "cell_type": "code",
   "execution_count": 320,
   "id": "7013e932-82f7-4238-a3f3-7ccb39b1fd89",
   "metadata": {},
   "outputs": [
    {
     "data": {
      "text/plain": [
       "CA    129517\n",
       "NY     74086\n",
       "TX     71133\n",
       "FL     60935\n",
       "IL     35476\n",
       "NJ     33256\n",
       "PA     31393\n",
       "OH     29631\n",
       "GA     29085\n",
       "VA     26255\n",
       "NC     24720\n",
       "MI     22985\n",
       "MD     21031\n",
       "MA     20593\n",
       "AZ     20412\n",
       "WA     19434\n",
       "CO     18807\n",
       "MN     15957\n",
       "MO     14207\n",
       "IN     13789\n",
       "CT     13531\n",
       "TN     12887\n",
       "NV     12443\n",
       "WI     11574\n",
       "AL     11200\n",
       "OR     10893\n",
       "SC     10639\n",
       "LA     10587\n",
       "KY      8550\n",
       "OK      8085\n",
       "KS      7926\n",
       "AR      6640\n",
       "UT      6264\n",
       "NM      4939\n",
       "HI      4570\n",
       "WV      4386\n",
       "NH      4294\n",
       "RI      3893\n",
       "MS      3819\n",
       "MT      2558\n",
       "DE      2511\n",
       "DC      2432\n",
       "AK      2205\n",
       "WY      2028\n",
       "SD      1815\n",
       "VT      1797\n",
       "NE      1176\n",
       "ME       525\n",
       "ND       479\n",
       "IA        14\n",
       "ID        12\n",
       "Name: addr_state, dtype: int64"
      ]
     },
     "execution_count": 320,
     "metadata": {},
     "output_type": "execute_result"
    }
   ],
   "source": [
    "X.addr_state.value_counts()"
   ]
  },
  {
   "cell_type": "code",
   "execution_count": 321,
   "id": "3625a8c4-fc3f-40ba-906f-707d150fa94e",
   "metadata": {},
   "outputs": [
    {
     "data": {
      "text/plain": [
       "51"
      ]
     },
     "execution_count": 321,
     "metadata": {},
     "output_type": "execute_result"
    }
   ],
   "source": [
    "len(X.addr_state.value_counts())"
   ]
  },
  {
   "cell_type": "code",
   "execution_count": 322,
   "id": "2bff6651-4840-4ace-aefc-ad4121845539",
   "metadata": {},
   "outputs": [],
   "source": [
    "#For now we drop the zip codes because of the difficulty of how to best encode as well as the inconsistencies of what states they belong to\n",
    "X.drop(columns=[\"zip_code\"],inplace=True)\n",
    "X2.drop(columns=[\"zip_code\"],inplace=True)"
   ]
  },
  {
   "cell_type": "code",
   "execution_count": 323,
   "id": "2ddd93cb-7c89-4e53-b663-b510305fa98c",
   "metadata": {},
   "outputs": [
    {
     "data": {
      "text/plain": [
       "Index(['home_ownership', 'verification_status', 'purpose', 'addr_state',\n",
       "       'application_type', 'verification_status_joint', 'emp_labels'],\n",
       "      dtype='object')"
      ]
     },
     "execution_count": 323,
     "metadata": {},
     "output_type": "execute_result"
    }
   ],
   "source": [
    "X.select_dtypes(\"object\").columns"
   ]
  },
  {
   "cell_type": "code",
   "execution_count": 324,
   "id": "ecc3d589-00a4-4274-b34d-ed1a165053c0",
   "metadata": {},
   "outputs": [
    {
     "data": {
      "text/plain": [
       "Index(['home_ownership', 'verification_status', 'purpose', 'addr_state',\n",
       "       'application_type', 'verification_status_joint', 'emp_labels'],\n",
       "      dtype='object')"
      ]
     },
     "execution_count": 324,
     "metadata": {},
     "output_type": "execute_result"
    }
   ],
   "source": [
    "X2.select_dtypes(\"object\").columns"
   ]
  },
  {
   "cell_type": "code",
   "execution_count": 325,
   "id": "74f198ee-ad8a-43e7-b4eb-498098033570",
   "metadata": {},
   "outputs": [],
   "source": [
    "#Create a flag column for train / test data so we can stack them to dummy encode, then separate if needed later\n",
    "X[\"train\"]=1\n",
    "X2[\"train\"]=0"
   ]
  },
  {
   "cell_type": "code",
   "execution_count": 326,
   "id": "ef632986-3ac2-44b8-bbdd-d069b387d67c",
   "metadata": {},
   "outputs": [
    {
     "data": {
      "text/plain": [
       "0    1\n",
       "1    1\n",
       "2    1\n",
       "3    1\n",
       "4    1\n",
       "Name: train, dtype: int64"
      ]
     },
     "execution_count": 326,
     "metadata": {},
     "output_type": "execute_result"
    }
   ],
   "source": [
    "X.train.head()"
   ]
  },
  {
   "cell_type": "code",
   "execution_count": 327,
   "id": "9a8fc15e-8e66-4ac7-bd0b-a88485464734",
   "metadata": {},
   "outputs": [
    {
     "data": {
      "text/plain": [
       "0    0\n",
       "1    0\n",
       "2    0\n",
       "3    0\n",
       "4    0\n",
       "Name: train, dtype: int64"
      ]
     },
     "execution_count": 327,
     "metadata": {},
     "output_type": "execute_result"
    }
   ],
   "source": [
    "X2.train.head()"
   ]
  },
  {
   "cell_type": "code",
   "execution_count": 328,
   "id": "d3e6faf4-71ee-4324-b716-23bd16648194",
   "metadata": {},
   "outputs": [],
   "source": [
    "X_combined=pd.concat([X,X2],axis=0)"
   ]
  },
  {
   "cell_type": "code",
   "execution_count": 329,
   "id": "c3ce1d67-6f5a-4425-9d99-6fcda4fecc9c",
   "metadata": {},
   "outputs": [
    {
     "data": {
      "text/plain": [
       "(1646712, 52)"
      ]
     },
     "execution_count": 329,
     "metadata": {},
     "output_type": "execute_result"
    }
   ],
   "source": [
    "X_combined.shape"
   ]
  },
  {
   "cell_type": "code",
   "execution_count": 330,
   "id": "9993a0ca-2fdf-4506-9921-312ed3142b63",
   "metadata": {},
   "outputs": [
    {
     "data": {
      "text/html": [
       "<div>\n",
       "<style scoped>\n",
       "    .dataframe tbody tr th:only-of-type {\n",
       "        vertical-align: middle;\n",
       "    }\n",
       "\n",
       "    .dataframe tbody tr th {\n",
       "        vertical-align: top;\n",
       "    }\n",
       "\n",
       "    .dataframe thead th {\n",
       "        text-align: right;\n",
       "    }\n",
       "</style>\n",
       "<table border=\"1\" class=\"dataframe\">\n",
       "  <thead>\n",
       "    <tr style=\"text-align: right;\">\n",
       "      <th></th>\n",
       "      <th>loan_amnt</th>\n",
       "      <th>funded_amnt</th>\n",
       "      <th>funded_amnt_inv</th>\n",
       "      <th>term</th>\n",
       "      <th>int_rate</th>\n",
       "      <th>installment</th>\n",
       "      <th>emp_length</th>\n",
       "      <th>home_ownership</th>\n",
       "      <th>annual_inc</th>\n",
       "      <th>verification_status</th>\n",
       "      <th>...</th>\n",
       "      <th>total_rev_hi_lim</th>\n",
       "      <th>last_credit_pull_d</th>\n",
       "      <th>last_pymnt_d</th>\n",
       "      <th>earliest_cr_line</th>\n",
       "      <th>next_pymnt_d</th>\n",
       "      <th>target</th>\n",
       "      <th>missing_columns</th>\n",
       "      <th>fine_grade</th>\n",
       "      <th>emp_labels</th>\n",
       "      <th>train</th>\n",
       "    </tr>\n",
       "  </thead>\n",
       "  <tbody>\n",
       "    <tr>\n",
       "      <th>0</th>\n",
       "      <td>5000.0</td>\n",
       "      <td>5000.0</td>\n",
       "      <td>4975.0</td>\n",
       "      <td>36</td>\n",
       "      <td>10.65</td>\n",
       "      <td>162.87</td>\n",
       "      <td>10.0</td>\n",
       "      <td>RENT</td>\n",
       "      <td>24000.0</td>\n",
       "      <td>Verified</td>\n",
       "      <td>...</td>\n",
       "      <td>23700.0</td>\n",
       "      <td>1492.0</td>\n",
       "      <td>1127.0</td>\n",
       "      <td>9830.0</td>\n",
       "      <td>306.0</td>\n",
       "      <td>0</td>\n",
       "      <td>13</td>\n",
       "      <td>28</td>\n",
       "      <td>emp_label0</td>\n",
       "      <td>1</td>\n",
       "    </tr>\n",
       "    <tr>\n",
       "      <th>1</th>\n",
       "      <td>2500.0</td>\n",
       "      <td>2500.0</td>\n",
       "      <td>2500.0</td>\n",
       "      <td>60</td>\n",
       "      <td>15.27</td>\n",
       "      <td>59.83</td>\n",
       "      <td>0.0</td>\n",
       "      <td>RENT</td>\n",
       "      <td>30000.0</td>\n",
       "      <td>Source Verified</td>\n",
       "      <td>...</td>\n",
       "      <td>23700.0</td>\n",
       "      <td>640.0</td>\n",
       "      <td>487.0</td>\n",
       "      <td>4627.0</td>\n",
       "      <td>306.0</td>\n",
       "      <td>1</td>\n",
       "      <td>13</td>\n",
       "      <td>21</td>\n",
       "      <td>emp_label4</td>\n",
       "      <td>1</td>\n",
       "    </tr>\n",
       "    <tr>\n",
       "      <th>2</th>\n",
       "      <td>2400.0</td>\n",
       "      <td>2400.0</td>\n",
       "      <td>2400.0</td>\n",
       "      <td>36</td>\n",
       "      <td>15.96</td>\n",
       "      <td>84.33</td>\n",
       "      <td>10.0</td>\n",
       "      <td>RENT</td>\n",
       "      <td>12252.0</td>\n",
       "      <td>Not Verified</td>\n",
       "      <td>...</td>\n",
       "      <td>23700.0</td>\n",
       "      <td>1492.0</td>\n",
       "      <td>913.0</td>\n",
       "      <td>3682.0</td>\n",
       "      <td>306.0</td>\n",
       "      <td>0</td>\n",
       "      <td>13</td>\n",
       "      <td>20</td>\n",
       "      <td>emp_label0</td>\n",
       "      <td>1</td>\n",
       "    </tr>\n",
       "    <tr>\n",
       "      <th>3</th>\n",
       "      <td>10000.0</td>\n",
       "      <td>10000.0</td>\n",
       "      <td>10000.0</td>\n",
       "      <td>36</td>\n",
       "      <td>13.49</td>\n",
       "      <td>339.31</td>\n",
       "      <td>10.0</td>\n",
       "      <td>RENT</td>\n",
       "      <td>49200.0</td>\n",
       "      <td>Source Verified</td>\n",
       "      <td>...</td>\n",
       "      <td>23700.0</td>\n",
       "      <td>1127.0</td>\n",
       "      <td>1127.0</td>\n",
       "      <td>5782.0</td>\n",
       "      <td>306.0</td>\n",
       "      <td>0</td>\n",
       "      <td>13</td>\n",
       "      <td>24</td>\n",
       "      <td>emp_label4</td>\n",
       "      <td>1</td>\n",
       "    </tr>\n",
       "    <tr>\n",
       "      <th>4</th>\n",
       "      <td>3000.0</td>\n",
       "      <td>3000.0</td>\n",
       "      <td>3000.0</td>\n",
       "      <td>60</td>\n",
       "      <td>12.69</td>\n",
       "      <td>67.79</td>\n",
       "      <td>1.0</td>\n",
       "      <td>RENT</td>\n",
       "      <td>80000.0</td>\n",
       "      <td>Source Verified</td>\n",
       "      <td>...</td>\n",
       "      <td>23700.0</td>\n",
       "      <td>1492.0</td>\n",
       "      <td>1492.0</td>\n",
       "      <td>5813.0</td>\n",
       "      <td>1523.0</td>\n",
       "      <td>0</td>\n",
       "      <td>13</td>\n",
       "      <td>25</td>\n",
       "      <td>emp_label4</td>\n",
       "      <td>1</td>\n",
       "    </tr>\n",
       "  </tbody>\n",
       "</table>\n",
       "<p>5 rows × 52 columns</p>\n",
       "</div>"
      ],
      "text/plain": [
       "   loan_amnt  funded_amnt  funded_amnt_inv  term  int_rate  installment  \\\n",
       "0     5000.0       5000.0           4975.0    36     10.65       162.87   \n",
       "1     2500.0       2500.0           2500.0    60     15.27        59.83   \n",
       "2     2400.0       2400.0           2400.0    36     15.96        84.33   \n",
       "3    10000.0      10000.0          10000.0    36     13.49       339.31   \n",
       "4     3000.0       3000.0           3000.0    60     12.69        67.79   \n",
       "\n",
       "   emp_length home_ownership  annual_inc verification_status  ...  \\\n",
       "0        10.0           RENT     24000.0            Verified  ...   \n",
       "1         0.0           RENT     30000.0     Source Verified  ...   \n",
       "2        10.0           RENT     12252.0        Not Verified  ...   \n",
       "3        10.0           RENT     49200.0     Source Verified  ...   \n",
       "4         1.0           RENT     80000.0     Source Verified  ...   \n",
       "\n",
       "   total_rev_hi_lim last_credit_pull_d last_pymnt_d  earliest_cr_line  \\\n",
       "0           23700.0             1492.0       1127.0            9830.0   \n",
       "1           23700.0              640.0        487.0            4627.0   \n",
       "2           23700.0             1492.0        913.0            3682.0   \n",
       "3           23700.0             1127.0       1127.0            5782.0   \n",
       "4           23700.0             1492.0       1492.0            5813.0   \n",
       "\n",
       "   next_pymnt_d  target  missing_columns  fine_grade  emp_labels  train  \n",
       "0         306.0       0               13          28  emp_label0      1  \n",
       "1         306.0       1               13          21  emp_label4      1  \n",
       "2         306.0       0               13          20  emp_label0      1  \n",
       "3         306.0       0               13          24  emp_label4      1  \n",
       "4        1523.0       0               13          25  emp_label4      1  \n",
       "\n",
       "[5 rows x 52 columns]"
      ]
     },
     "execution_count": 330,
     "metadata": {},
     "output_type": "execute_result"
    }
   ],
   "source": [
    "X_combined.head()"
   ]
  },
  {
   "cell_type": "code",
   "execution_count": 331,
   "id": "139ec34c-76aa-435e-b3d6-1c85d2e54710",
   "metadata": {},
   "outputs": [],
   "source": [
    "X_combined=pd.get_dummies(X_combined)"
   ]
  },
  {
   "cell_type": "code",
   "execution_count": 334,
   "id": "8126b4d9-83ba-4572-a4fb-e1d5ad7a866f",
   "metadata": {},
   "outputs": [],
   "source": [
    "X_1=X_combined[X_combined.train==1]\n",
    "X_2=X_combined[X_combined.train==0]"
   ]
  },
  {
   "cell_type": "code",
   "execution_count": 337,
   "id": "c364dd7b-a437-4d0c-bb51-787950018701",
   "metadata": {},
   "outputs": [
    {
     "name": "stderr",
     "output_type": "stream",
     "text": [
      "C:\\Users\\ronsp\\anaconda3\\lib\\site-packages\\pandas\\core\\frame.py:4906: SettingWithCopyWarning: \n",
      "A value is trying to be set on a copy of a slice from a DataFrame\n",
      "\n",
      "See the caveats in the documentation: https://pandas.pydata.org/pandas-docs/stable/user_guide/indexing.html#returning-a-view-versus-a-copy\n",
      "  return super().drop(\n"
     ]
    }
   ],
   "source": [
    "y_1=X_1.target\n",
    "y_2=X_2.target\n",
    "X_1.drop(columns=[\"target\",\"train\"],inplace=True)\n",
    "X_2.drop(columns=[\"target\",\"train\"],inplace=True)"
   ]
  },
  {
   "cell_type": "code",
   "execution_count": 338,
   "id": "fe7e5098-a144-4cd4-b420-16eef92973be",
   "metadata": {},
   "outputs": [
    {
     "data": {
      "text/plain": [
       "0         0\n",
       "1         1\n",
       "2         0\n",
       "3         0\n",
       "4         0\n",
       "         ..\n",
       "887374    0\n",
       "887375    0\n",
       "887376    0\n",
       "887377    0\n",
       "887378    0\n",
       "Name: target, Length: 887374, dtype: int64"
      ]
     },
     "execution_count": 338,
     "metadata": {},
     "output_type": "execute_result"
    }
   ],
   "source": [
    "y_1"
   ]
  },
  {
   "cell_type": "code",
   "execution_count": 339,
   "id": "666c6758-fe8a-4f1d-b5ab-45e3338e0637",
   "metadata": {},
   "outputs": [
    {
     "data": {
      "text/html": [
       "<div>\n",
       "<style scoped>\n",
       "    .dataframe tbody tr th:only-of-type {\n",
       "        vertical-align: middle;\n",
       "    }\n",
       "\n",
       "    .dataframe tbody tr th {\n",
       "        vertical-align: top;\n",
       "    }\n",
       "\n",
       "    .dataframe thead th {\n",
       "        text-align: right;\n",
       "    }\n",
       "</style>\n",
       "<table border=\"1\" class=\"dataframe\">\n",
       "  <thead>\n",
       "    <tr style=\"text-align: right;\">\n",
       "      <th></th>\n",
       "      <th>loan_amnt</th>\n",
       "      <th>funded_amnt</th>\n",
       "      <th>funded_amnt_inv</th>\n",
       "      <th>term</th>\n",
       "      <th>int_rate</th>\n",
       "      <th>installment</th>\n",
       "      <th>emp_length</th>\n",
       "      <th>annual_inc</th>\n",
       "      <th>pymnt_plan</th>\n",
       "      <th>dti</th>\n",
       "      <th>...</th>\n",
       "      <th>emp_labels_emp_label0</th>\n",
       "      <th>emp_labels_emp_label1</th>\n",
       "      <th>emp_labels_emp_label2</th>\n",
       "      <th>emp_labels_emp_label3</th>\n",
       "      <th>emp_labels_emp_label4</th>\n",
       "      <th>emp_labels_emp_label5</th>\n",
       "      <th>emp_labels_emp_label6</th>\n",
       "      <th>emp_labels_emp_label7</th>\n",
       "      <th>emp_labels_emp_label8</th>\n",
       "      <th>emp_labels_emp_label9</th>\n",
       "    </tr>\n",
       "  </thead>\n",
       "  <tbody>\n",
       "    <tr>\n",
       "      <th>0</th>\n",
       "      <td>5000.0</td>\n",
       "      <td>5000.0</td>\n",
       "      <td>4975.0</td>\n",
       "      <td>36</td>\n",
       "      <td>10.65</td>\n",
       "      <td>162.87</td>\n",
       "      <td>10.0</td>\n",
       "      <td>24000.0</td>\n",
       "      <td>0</td>\n",
       "      <td>27.65</td>\n",
       "      <td>...</td>\n",
       "      <td>1</td>\n",
       "      <td>0</td>\n",
       "      <td>0</td>\n",
       "      <td>0</td>\n",
       "      <td>0</td>\n",
       "      <td>0</td>\n",
       "      <td>0</td>\n",
       "      <td>0</td>\n",
       "      <td>0</td>\n",
       "      <td>0</td>\n",
       "    </tr>\n",
       "    <tr>\n",
       "      <th>1</th>\n",
       "      <td>2500.0</td>\n",
       "      <td>2500.0</td>\n",
       "      <td>2500.0</td>\n",
       "      <td>60</td>\n",
       "      <td>15.27</td>\n",
       "      <td>59.83</td>\n",
       "      <td>0.0</td>\n",
       "      <td>30000.0</td>\n",
       "      <td>0</td>\n",
       "      <td>1.00</td>\n",
       "      <td>...</td>\n",
       "      <td>0</td>\n",
       "      <td>0</td>\n",
       "      <td>0</td>\n",
       "      <td>0</td>\n",
       "      <td>1</td>\n",
       "      <td>0</td>\n",
       "      <td>0</td>\n",
       "      <td>0</td>\n",
       "      <td>0</td>\n",
       "      <td>0</td>\n",
       "    </tr>\n",
       "    <tr>\n",
       "      <th>2</th>\n",
       "      <td>2400.0</td>\n",
       "      <td>2400.0</td>\n",
       "      <td>2400.0</td>\n",
       "      <td>36</td>\n",
       "      <td>15.96</td>\n",
       "      <td>84.33</td>\n",
       "      <td>10.0</td>\n",
       "      <td>12252.0</td>\n",
       "      <td>0</td>\n",
       "      <td>8.72</td>\n",
       "      <td>...</td>\n",
       "      <td>1</td>\n",
       "      <td>0</td>\n",
       "      <td>0</td>\n",
       "      <td>0</td>\n",
       "      <td>0</td>\n",
       "      <td>0</td>\n",
       "      <td>0</td>\n",
       "      <td>0</td>\n",
       "      <td>0</td>\n",
       "      <td>0</td>\n",
       "    </tr>\n",
       "    <tr>\n",
       "      <th>3</th>\n",
       "      <td>10000.0</td>\n",
       "      <td>10000.0</td>\n",
       "      <td>10000.0</td>\n",
       "      <td>36</td>\n",
       "      <td>13.49</td>\n",
       "      <td>339.31</td>\n",
       "      <td>10.0</td>\n",
       "      <td>49200.0</td>\n",
       "      <td>0</td>\n",
       "      <td>20.00</td>\n",
       "      <td>...</td>\n",
       "      <td>0</td>\n",
       "      <td>0</td>\n",
       "      <td>0</td>\n",
       "      <td>0</td>\n",
       "      <td>1</td>\n",
       "      <td>0</td>\n",
       "      <td>0</td>\n",
       "      <td>0</td>\n",
       "      <td>0</td>\n",
       "      <td>0</td>\n",
       "    </tr>\n",
       "    <tr>\n",
       "      <th>4</th>\n",
       "      <td>3000.0</td>\n",
       "      <td>3000.0</td>\n",
       "      <td>3000.0</td>\n",
       "      <td>60</td>\n",
       "      <td>12.69</td>\n",
       "      <td>67.79</td>\n",
       "      <td>1.0</td>\n",
       "      <td>80000.0</td>\n",
       "      <td>0</td>\n",
       "      <td>17.94</td>\n",
       "      <td>...</td>\n",
       "      <td>0</td>\n",
       "      <td>0</td>\n",
       "      <td>0</td>\n",
       "      <td>0</td>\n",
       "      <td>1</td>\n",
       "      <td>0</td>\n",
       "      <td>0</td>\n",
       "      <td>0</td>\n",
       "      <td>0</td>\n",
       "      <td>0</td>\n",
       "    </tr>\n",
       "  </tbody>\n",
       "</table>\n",
       "<p>5 rows × 132 columns</p>\n",
       "</div>"
      ],
      "text/plain": [
       "   loan_amnt  funded_amnt  funded_amnt_inv  term  int_rate  installment  \\\n",
       "0     5000.0       5000.0           4975.0    36     10.65       162.87   \n",
       "1     2500.0       2500.0           2500.0    60     15.27        59.83   \n",
       "2     2400.0       2400.0           2400.0    36     15.96        84.33   \n",
       "3    10000.0      10000.0          10000.0    36     13.49       339.31   \n",
       "4     3000.0       3000.0           3000.0    60     12.69        67.79   \n",
       "\n",
       "   emp_length  annual_inc  pymnt_plan    dti  ...  emp_labels_emp_label0  \\\n",
       "0        10.0     24000.0           0  27.65  ...                      1   \n",
       "1         0.0     30000.0           0   1.00  ...                      0   \n",
       "2        10.0     12252.0           0   8.72  ...                      1   \n",
       "3        10.0     49200.0           0  20.00  ...                      0   \n",
       "4         1.0     80000.0           0  17.94  ...                      0   \n",
       "\n",
       "   emp_labels_emp_label1  emp_labels_emp_label2  emp_labels_emp_label3  \\\n",
       "0                      0                      0                      0   \n",
       "1                      0                      0                      0   \n",
       "2                      0                      0                      0   \n",
       "3                      0                      0                      0   \n",
       "4                      0                      0                      0   \n",
       "\n",
       "   emp_labels_emp_label4  emp_labels_emp_label5  emp_labels_emp_label6  \\\n",
       "0                      0                      0                      0   \n",
       "1                      1                      0                      0   \n",
       "2                      0                      0                      0   \n",
       "3                      1                      0                      0   \n",
       "4                      1                      0                      0   \n",
       "\n",
       "   emp_labels_emp_label7  emp_labels_emp_label8  emp_labels_emp_label9  \n",
       "0                      0                      0                      0  \n",
       "1                      0                      0                      0  \n",
       "2                      0                      0                      0  \n",
       "3                      0                      0                      0  \n",
       "4                      0                      0                      0  \n",
       "\n",
       "[5 rows x 132 columns]"
      ]
     },
     "execution_count": 339,
     "metadata": {},
     "output_type": "execute_result"
    }
   ],
   "source": [
    "X_1.head()"
   ]
  },
  {
   "cell_type": "markdown",
   "id": "c954a797-0c16-4c1a-8d17-f8f5341df402",
   "metadata": {},
   "source": [
    "## Modeling"
   ]
  },
  {
   "cell_type": "markdown",
   "id": "3dd0ad8f-ce76-42cc-9de1-caa01c1b869e",
   "metadata": {},
   "source": [
    "We start by seeing how well a random forest model can do"
   ]
  },
  {
   "cell_type": "code",
   "execution_count": 342,
   "id": "e4c62d51-8cc1-4239-a472-20f4e2c711b1",
   "metadata": {},
   "outputs": [],
   "source": [
    "from sklearn.model_selection import train_test_split,GridSearchCV\n",
    "from sklearn.metrics import balanced_accuracy_score,roc_auc_score,confusion_matrix\n",
    "from sklearn.ensemble import RandomForestClassifier"
   ]
  },
  {
   "cell_type": "code",
   "execution_count": 343,
   "id": "33be5a30-4f45-4043-81a9-91a1c89ae57b",
   "metadata": {},
   "outputs": [],
   "source": [
    "params={\"class_weight\":[\"balanced\"],\n",
    "        \"n_estimators\":[50,100,150,200],\n",
    "        \"max_depth\":[2,5,10,None]\n",
    "       }"
   ]
  },
  {
   "cell_type": "code",
   "execution_count": 344,
   "id": "0d99e678-b212-4634-8924-ec4c4940e861",
   "metadata": {},
   "outputs": [],
   "source": [
    "X_train,X_test,y_train,y_test=train_test_split(X_1,y_1,test_size=0.3,random_state=123)"
   ]
  },
  {
   "cell_type": "code",
   "execution_count": 345,
   "id": "bf842c65-57b6-41c4-9417-c5791a31baf2",
   "metadata": {},
   "outputs": [],
   "source": [
    "grid=GridSearchCV(RandomForestClassifier(),params,scoring=\"balanced_accuracy\")"
   ]
  },
  {
   "cell_type": "code",
   "execution_count": 346,
   "id": "7340ecdc-0c25-475b-8bfb-55d5db1ea82f",
   "metadata": {},
   "outputs": [
    {
     "data": {
      "text/plain": [
       "GridSearchCV(estimator=RandomForestClassifier(),\n",
       "             param_grid={'class_weight': ['balanced'],\n",
       "                         'max_depth': [2, 5, 10, None],\n",
       "                         'n_estimators': [50, 100, 150, 200]},\n",
       "             scoring='balanced_accuracy')"
      ]
     },
     "execution_count": 346,
     "metadata": {},
     "output_type": "execute_result"
    }
   ],
   "source": [
    "grid.fit(X_train,y_train)"
   ]
  },
  {
   "cell_type": "code",
   "execution_count": 347,
   "id": "a637b66b-8cda-42a1-a981-21b8bbf1cad3",
   "metadata": {},
   "outputs": [
    {
     "data": {
      "text/plain": [
       "{'class_weight': 'balanced', 'max_depth': 10, 'n_estimators': 100}"
      ]
     },
     "execution_count": 347,
     "metadata": {},
     "output_type": "execute_result"
    }
   ],
   "source": [
    "grid.best_params_"
   ]
  },
  {
   "cell_type": "code",
   "execution_count": 348,
   "id": "a0462153-9856-401c-bc77-4f1e694f98a2",
   "metadata": {},
   "outputs": [
    {
     "data": {
      "text/plain": [
       "0.9002858740293149"
      ]
     },
     "execution_count": 348,
     "metadata": {},
     "output_type": "execute_result"
    }
   ],
   "source": [
    "grid.best_score_"
   ]
  },
  {
   "cell_type": "code",
   "execution_count": 349,
   "id": "ed3d2fbf-38b1-4e64-a5b3-be25391973a8",
   "metadata": {},
   "outputs": [],
   "source": [
    "y_pred=grid.predict(X_test)"
   ]
  },
  {
   "cell_type": "code",
   "execution_count": 350,
   "id": "7ec7369c-20c5-4fa8-bcbc-9766806af8e4",
   "metadata": {},
   "outputs": [
    {
     "data": {
      "text/plain": [
       "array([[246419,   2171],\n",
       "       [  3401,  14222]], dtype=int64)"
      ]
     },
     "execution_count": 350,
     "metadata": {},
     "output_type": "execute_result"
    }
   ],
   "source": [
    "confusion_matrix(y_test,y_pred)"
   ]
  },
  {
   "cell_type": "code",
   "execution_count": 351,
   "id": "9b86466a-b95a-43e6-beaa-43ff1434a44d",
   "metadata": {},
   "outputs": [
    {
     "data": {
      "text/plain": [
       "0.899140153130626"
      ]
     },
     "execution_count": 351,
     "metadata": {},
     "output_type": "execute_result"
    }
   ],
   "source": [
    "roc_auc_score(y_test,y_pred)"
   ]
  },
  {
   "cell_type": "code",
   "execution_count": 352,
   "id": "40356e82-76d1-4c98-bea2-e0324b05cca9",
   "metadata": {},
   "outputs": [
    {
     "data": {
      "text/plain": [
       "0.899140153130626"
      ]
     },
     "execution_count": 352,
     "metadata": {},
     "output_type": "execute_result"
    }
   ],
   "source": [
    "roc_auc_score(y_test,y_pred,average='weighted')"
   ]
  },
  {
   "cell_type": "code",
   "execution_count": 353,
   "id": "bfa20340-6574-4ebd-8703-23758cbe525d",
   "metadata": {},
   "outputs": [],
   "source": [
    "cm=confusion_matrix(y_test,y_pred)"
   ]
  },
  {
   "cell_type": "code",
   "execution_count": 354,
   "id": "2eb2ff87-839d-4984-8a1b-2a871ff287f3",
   "metadata": {},
   "outputs": [
    {
     "data": {
      "text/plain": [
       "246419"
      ]
     },
     "execution_count": 354,
     "metadata": {},
     "output_type": "execute_result"
    }
   ],
   "source": [
    "cm[0,0]"
   ]
  },
  {
   "cell_type": "code",
   "execution_count": 355,
   "id": "1ec91930-beba-4769-b903-545737f06692",
   "metadata": {},
   "outputs": [
    {
     "data": {
      "text/plain": [
       "14222"
      ]
     },
     "execution_count": 355,
     "metadata": {},
     "output_type": "execute_result"
    }
   ],
   "source": [
    "cm[1,1]"
   ]
  },
  {
   "cell_type": "code",
   "execution_count": 356,
   "id": "e72ecd7c-c0f0-4f2a-af0f-872a2a696376",
   "metadata": {},
   "outputs": [
    {
     "data": {
      "text/plain": [
       "0.9790693918028045"
      ]
     },
     "execution_count": 356,
     "metadata": {},
     "output_type": "execute_result"
    }
   ],
   "source": [
    "(cm[0,0]+cm[1,1])/(cm[0,0]+cm[0,1]+cm[1,0]+cm[1,1])"
   ]
  },
  {
   "cell_type": "code",
   "execution_count": 358,
   "id": "658619b5-7fa0-4e2f-bb4f-ebd5b8615d9b",
   "metadata": {},
   "outputs": [
    {
     "data": {
      "text/plain": [
       "RandomForestClassifier(class_weight='balanced', max_depth=10)"
      ]
     },
     "execution_count": 358,
     "metadata": {},
     "output_type": "execute_result"
    }
   ],
   "source": [
    "grid.best_estimator_"
   ]
  },
  {
   "cell_type": "code",
   "execution_count": 361,
   "id": "532ac1ed-0ac8-4044-b7c7-13092ca2b337",
   "metadata": {},
   "outputs": [],
   "source": [
    "cols=X_train.columns"
   ]
  },
  {
   "cell_type": "code",
   "execution_count": 365,
   "id": "2581447a-5cca-4995-93d1-981c96060909",
   "metadata": {},
   "outputs": [
    {
     "name": "stdout",
     "output_type": "stream",
     "text": [
      "int_rate 0.031052083772360593\n",
      "out_prncp 0.13722735208945164\n",
      "out_prncp_inv 0.1397915614492539\n",
      "total_pymnt 0.029480900629411968\n",
      "total_pymnt_inv 0.02984815468723185\n",
      "total_rec_prncp 0.06879169187015392\n",
      "total_rec_int 0.01150554869571496\n",
      "total_rec_late_fee 0.020439148913381548\n",
      "recoveries 0.12253885602162588\n",
      "collection_recovery_fee 0.0774554709069631\n",
      "last_pymnt_amnt 0.09994361414284127\n",
      "last_credit_pull_d 0.037306203581244424\n",
      "last_pymnt_d 0.03218888169081495\n",
      "next_pymnt_d 0.07241416971888215\n",
      "fine_grade 0.01696401456398178\n"
     ]
    }
   ],
   "source": [
    "for i in range(len(cols)):\n",
    "    if grid.best_estimator_.feature_importances_[i]>=0.01:\n",
    "        print(cols[i],grid.best_estimator_.feature_importances_[i])"
   ]
  },
  {
   "cell_type": "code",
   "execution_count": 367,
   "id": "592b42eb-3285-4ad4-b0e9-4c37883d94a4",
   "metadata": {},
   "outputs": [],
   "source": [
    "from sklearn.metrics import classification_report"
   ]
  },
  {
   "cell_type": "code",
   "execution_count": 369,
   "id": "b9894209-5e25-48e6-af17-d78934ef1cae",
   "metadata": {},
   "outputs": [
    {
     "name": "stdout",
     "output_type": "stream",
     "text": [
      "              precision    recall  f1-score   support\n",
      "\n",
      "           0       0.99      0.99      0.99    248590\n",
      "           1       0.87      0.81      0.84     17623\n",
      "\n",
      "    accuracy                           0.98    266213\n",
      "   macro avg       0.93      0.90      0.91    266213\n",
      "weighted avg       0.98      0.98      0.98    266213\n",
      "\n"
     ]
    }
   ],
   "source": [
    "print(classification_report(y_test,y_pred))"
   ]
  },
  {
   "cell_type": "code",
   "execution_count": 370,
   "id": "111cd78d-f803-4648-b1b2-9356aa9e020a",
   "metadata": {},
   "outputs": [],
   "source": [
    "y_2_pred=grid.predict(X_2)"
   ]
  },
  {
   "cell_type": "code",
   "execution_count": 372,
   "id": "2f5676e4-fd8d-4389-8c53-0e1ddee5df10",
   "metadata": {},
   "outputs": [
    {
     "name": "stdout",
     "output_type": "stream",
     "text": [
      "              precision    recall  f1-score   support\n",
      "\n",
      "           0       0.98      0.99      0.99    706751\n",
      "           1       0.84      0.73      0.78     52587\n",
      "\n",
      "    accuracy                           0.97    759338\n",
      "   macro avg       0.91      0.86      0.88    759338\n",
      "weighted avg       0.97      0.97      0.97    759338\n",
      "\n"
     ]
    }
   ],
   "source": [
    "print(classification_report(y_2,y_2_pred))"
   ]
  },
  {
   "cell_type": "code",
   "execution_count": 373,
   "id": "6cc7a407-9465-4b52-aae4-8c033fb48d35",
   "metadata": {},
   "outputs": [
    {
     "data": {
      "text/plain": [
       "0.8599739767788781"
      ]
     },
     "execution_count": 373,
     "metadata": {},
     "output_type": "execute_result"
    }
   ],
   "source": [
    "roc_auc_score(y_2,y_2_pred)"
   ]
  },
  {
   "cell_type": "code",
   "execution_count": 379,
   "id": "db9c61e0-fc52-4c44-bcab-f2bc8fc433ae",
   "metadata": {},
   "outputs": [
    {
     "data": {
      "text/plain": [
       "array([[699667,   7084],\n",
       "       [ 14200,  38387]], dtype=int64)"
      ]
     },
     "execution_count": 379,
     "metadata": {},
     "output_type": "execute_result"
    }
   ],
   "source": [
    "confusion_matrix(y_2,y_2_pred)"
   ]
  },
  {
   "cell_type": "code",
   "execution_count": 375,
   "id": "6018e0ef-7dde-4dca-8647-2d151a7d2a74",
   "metadata": {},
   "outputs": [
    {
     "data": {
      "text/plain": [
       "52587"
      ]
     },
     "execution_count": 375,
     "metadata": {},
     "output_type": "execute_result"
    }
   ],
   "source": [
    "sum(y_2)"
   ]
  },
  {
   "cell_type": "code",
   "execution_count": 376,
   "id": "5453c1d5-c879-4173-8aee-e07400abbaa7",
   "metadata": {},
   "outputs": [
    {
     "data": {
      "text/plain": [
       "0.36991689895016544"
      ]
     },
     "execution_count": 376,
     "metadata": {},
     "output_type": "execute_result"
    }
   ],
   "source": [
    "14200/38387"
   ]
  },
  {
   "cell_type": "code",
   "execution_count": 377,
   "id": "07139666-e9ab-49e5-9b2d-8b618463929e",
   "metadata": {},
   "outputs": [
    {
     "data": {
      "text/plain": [
       "0.27002871432102993"
      ]
     },
     "execution_count": 377,
     "metadata": {},
     "output_type": "execute_result"
    }
   ],
   "source": [
    "14200/52587"
   ]
  },
  {
   "cell_type": "code",
   "execution_count": 378,
   "id": "02cafbfb-aa12-4f6b-89d0-d0ef461eb4a5",
   "metadata": {},
   "outputs": [
    {
     "data": {
      "text/plain": [
       "0.010023332121213837"
      ]
     },
     "execution_count": 378,
     "metadata": {},
     "output_type": "execute_result"
    }
   ],
   "source": [
    "7084/(699667+7084)"
   ]
  },
  {
   "cell_type": "code",
   "execution_count": 381,
   "id": "294d9db4-2bf7-48ac-91eb-1d575b37b337",
   "metadata": {},
   "outputs": [],
   "source": [
    "y_pred_prob=grid.best_estimator_.predict_proba(X_test)"
   ]
  },
  {
   "cell_type": "code",
   "execution_count": 383,
   "id": "49737623-f06b-4286-9e60-8a31ee3f6b73",
   "metadata": {},
   "outputs": [
    {
     "data": {
      "text/plain": [
       "array([0.10929367, 0.27822668, 0.1799712 , ..., 0.29883182, 0.11777768,\n",
       "       0.22843603])"
      ]
     },
     "execution_count": 383,
     "metadata": {},
     "output_type": "execute_result"
    }
   ],
   "source": [
    "y_pred_prob[:,1]"
   ]
  },
  {
   "cell_type": "code",
   "execution_count": 384,
   "id": "3639734f-d808-4bd6-bbb6-c1385192a1ca",
   "metadata": {},
   "outputs": [
    {
     "data": {
      "text/plain": [
       "array([[0.89070633, 0.10929367],\n",
       "       [0.72177332, 0.27822668],\n",
       "       [0.8200288 , 0.1799712 ],\n",
       "       ...,\n",
       "       [0.70116818, 0.29883182],\n",
       "       [0.88222232, 0.11777768],\n",
       "       [0.77156397, 0.22843603]])"
      ]
     },
     "execution_count": 384,
     "metadata": {},
     "output_type": "execute_result"
    }
   ],
   "source": [
    "y_pred_prob"
   ]
  },
  {
   "cell_type": "code",
   "execution_count": 385,
   "id": "aa4ad985-9418-48b0-b708-906d1c2dde18",
   "metadata": {},
   "outputs": [
    {
     "data": {
      "text/plain": [
       "array([0.89070633, 0.10929367])"
      ]
     },
     "execution_count": 385,
     "metadata": {},
     "output_type": "execute_result"
    }
   ],
   "source": [
    "y_pred_prob[0]"
   ]
  },
  {
   "cell_type": "code",
   "execution_count": 386,
   "id": "787cdf0a-9b55-40eb-94dd-179fbb41e2b5",
   "metadata": {},
   "outputs": [
    {
     "data": {
      "text/plain": [
       "0.10929367413313588"
      ]
     },
     "execution_count": 386,
     "metadata": {},
     "output_type": "execute_result"
    }
   ],
   "source": [
    "y_pred_prob[0,1]"
   ]
  },
  {
   "cell_type": "code",
   "execution_count": 390,
   "id": "2bd741dd-44da-4c2e-a2e0-89a365529520",
   "metadata": {},
   "outputs": [
    {
     "data": {
      "text/plain": [
       "0.9994888382909582"
      ]
     },
     "execution_count": 390,
     "metadata": {},
     "output_type": "execute_result"
    }
   ],
   "source": [
    "y_pred_prob[:,1].max()"
   ]
  },
  {
   "cell_type": "code",
   "execution_count": 392,
   "id": "1ef05dfe-580d-47ec-99e5-b6770af10588",
   "metadata": {},
   "outputs": [
    {
     "data": {
      "text/plain": [
       "16393"
      ]
     },
     "execution_count": 392,
     "metadata": {},
     "output_type": "execute_result"
    }
   ],
   "source": [
    "len(y_pred_prob[y_pred_prob[:,1]>=0.5])"
   ]
  },
  {
   "cell_type": "code",
   "execution_count": 393,
   "id": "b12eded5-06d1-43dc-afe5-305b9be922a1",
   "metadata": {},
   "outputs": [
    {
     "data": {
      "text/plain": [
       "array([[246419,   2171],\n",
       "       [  3401,  14222]], dtype=int64)"
      ]
     },
     "execution_count": 393,
     "metadata": {},
     "output_type": "execute_result"
    }
   ],
   "source": [
    "cm"
   ]
  },
  {
   "cell_type": "code",
   "execution_count": 398,
   "id": "9ce5bae3-0a4b-4d7b-a93c-d7323d2b3386",
   "metadata": {},
   "outputs": [],
   "source": [
    "grid_roc_auc=GridSearchCV(RandomForestClassifier(),params,scoring=\"roc_auc\")"
   ]
  },
  {
   "cell_type": "code",
   "execution_count": 399,
   "id": "2184cd10-5a70-427b-b52f-3df59a8167b9",
   "metadata": {},
   "outputs": [
    {
     "data": {
      "text/plain": [
       "GridSearchCV(estimator=RandomForestClassifier(),\n",
       "             param_grid={'class_weight': ['balanced'],\n",
       "                         'max_depth': [2, 5, 10, None],\n",
       "                         'n_estimators': [50, 100, 150, 200]},\n",
       "             scoring='roc_auc')"
      ]
     },
     "execution_count": 399,
     "metadata": {},
     "output_type": "execute_result"
    }
   ],
   "source": [
    "grid_roc_auc.fit(X_train,y_train)"
   ]
  },
  {
   "cell_type": "code",
   "execution_count": 400,
   "id": "f63bb03e-d7f9-49d7-b0c4-1fb01e7178b8",
   "metadata": {},
   "outputs": [
    {
     "data": {
      "text/plain": [
       "{'class_weight': 'balanced', 'max_depth': None, 'n_estimators': 200}"
      ]
     },
     "execution_count": 400,
     "metadata": {},
     "output_type": "execute_result"
    }
   ],
   "source": [
    "grid_roc_auc.best_params_"
   ]
  },
  {
   "cell_type": "code",
   "execution_count": 401,
   "id": "23413ef6-c5c7-435a-9046-ff8e265721b6",
   "metadata": {},
   "outputs": [
    {
     "data": {
      "text/plain": [
       "0.9943319262298796"
      ]
     },
     "execution_count": 401,
     "metadata": {},
     "output_type": "execute_result"
    }
   ],
   "source": [
    "grid_roc_auc.best_score_"
   ]
  },
  {
   "cell_type": "code",
   "execution_count": 403,
   "id": "c0d48697-794a-47c6-b2de-feb45f6a7e3f",
   "metadata": {},
   "outputs": [],
   "source": [
    "y_pred=grid_roc_auc.predict(X_test)"
   ]
  },
  {
   "cell_type": "code",
   "execution_count": 404,
   "id": "c8d538fd-e620-49db-9488-7f8760506c54",
   "metadata": {},
   "outputs": [
    {
     "data": {
      "text/plain": [
       "array([[248590,      0],\n",
       "       [  3655,  13968]], dtype=int64)"
      ]
     },
     "execution_count": 404,
     "metadata": {},
     "output_type": "execute_result"
    }
   ],
   "source": [
    "confusion_matrix(y_test,y_pred)"
   ]
  },
  {
   "cell_type": "code",
   "execution_count": 405,
   "id": "ee883aa1-4a3b-4b8b-8c2a-3931fff262dd",
   "metadata": {},
   "outputs": [
    {
     "data": {
      "text/plain": [
       "0.8963002893945412"
      ]
     },
     "execution_count": 405,
     "metadata": {},
     "output_type": "execute_result"
    }
   ],
   "source": [
    "roc_auc_score(y_test,y_pred)"
   ]
  },
  {
   "cell_type": "code",
   "execution_count": 407,
   "id": "d51618dc-65b6-4556-9b0c-d5a3d904a89d",
   "metadata": {},
   "outputs": [
    {
     "name": "stdout",
     "output_type": "stream",
     "text": [
      "              precision    recall  f1-score   support\n",
      "\n",
      "           0       0.99      1.00      0.99    248590\n",
      "           1       1.00      0.79      0.88     17623\n",
      "\n",
      "    accuracy                           0.99    266213\n",
      "   macro avg       0.99      0.90      0.94    266213\n",
      "weighted avg       0.99      0.99      0.99    266213\n",
      "\n"
     ]
    }
   ],
   "source": [
    "print(classification_report(y_test,y_pred))"
   ]
  },
  {
   "cell_type": "code",
   "execution_count": 408,
   "id": "c2cf3594-ac64-4381-b6d4-b4edbf22d3c7",
   "metadata": {},
   "outputs": [],
   "source": [
    "y_2_pred=grid_roc_auc.predict(X_2)"
   ]
  },
  {
   "cell_type": "code",
   "execution_count": 409,
   "id": "81bd76bf-327a-43d9-a296-28a0811b008c",
   "metadata": {},
   "outputs": [
    {
     "data": {
      "text/plain": [
       "array([[697448,   9303],\n",
       "       [ 15747,  36840]], dtype=int64)"
      ]
     },
     "execution_count": 409,
     "metadata": {},
     "output_type": "execute_result"
    }
   ],
   "source": [
    "confusion_matrix(y_2,y_2_pred)"
   ]
  },
  {
   "cell_type": "code",
   "execution_count": 410,
   "id": "396b2e5a-c068-45cf-91ee-361d65df631e",
   "metadata": {},
   "outputs": [
    {
     "name": "stdout",
     "output_type": "stream",
     "text": [
      "              precision    recall  f1-score   support\n",
      "\n",
      "           0       0.98      0.99      0.98    706751\n",
      "           1       0.80      0.70      0.75     52587\n",
      "\n",
      "    accuracy                           0.97    759338\n",
      "   macro avg       0.89      0.84      0.86    759338\n",
      "weighted avg       0.97      0.97      0.97    759338\n",
      "\n"
     ]
    }
   ],
   "source": [
    "print(classification_report(y_2,y_2_pred))"
   ]
  },
  {
   "cell_type": "code",
   "execution_count": 411,
   "id": "3dbcff01-2db0-48e0-80fb-ab6cbd77f8de",
   "metadata": {},
   "outputs": [],
   "source": [
    "grid_ave_precision=GridSearchCV(RandomForestClassifier(),params,scoring=\"average_precision\")"
   ]
  },
  {
   "cell_type": "code",
   "execution_count": 414,
   "id": "b1423aaf-10b2-4fe5-a76b-76f4fc2c866e",
   "metadata": {},
   "outputs": [
    {
     "data": {
      "text/plain": [
       "GridSearchCV(estimator=RandomForestClassifier(),\n",
       "             param_grid={'class_weight': ['balanced'],\n",
       "                         'max_depth': [2, 5, 10, None],\n",
       "                         'n_estimators': [50, 100, 150, 200]},\n",
       "             scoring='average_precision')"
      ]
     },
     "execution_count": 414,
     "metadata": {},
     "output_type": "execute_result"
    }
   ],
   "source": [
    "grid_ave_precision.fit(X_train,y_train)"
   ]
  },
  {
   "cell_type": "code",
   "execution_count": 413,
   "id": "ea42e1d4-31f4-4069-8939-475b0cb684f6",
   "metadata": {},
   "outputs": [
    {
     "data": {
      "text/plain": [
       "0.8436951584677064"
      ]
     },
     "execution_count": 413,
     "metadata": {},
     "output_type": "execute_result"
    }
   ],
   "source": [
    "roc_auc_score(y_2,y_2_pred)"
   ]
  },
  {
   "cell_type": "code",
   "execution_count": 415,
   "id": "cb8ff852-8bb7-4507-bb39-64bf7795dbc4",
   "metadata": {},
   "outputs": [],
   "source": [
    "y_pred=grid_ave_precision.predict(X_test)"
   ]
  },
  {
   "cell_type": "code",
   "execution_count": 416,
   "id": "4ec45f17-0b05-4f6a-b328-68eac6944086",
   "metadata": {},
   "outputs": [
    {
     "data": {
      "text/plain": [
       "0.8970379617545253"
      ]
     },
     "execution_count": 416,
     "metadata": {},
     "output_type": "execute_result"
    }
   ],
   "source": [
    "roc_auc_score(y_test,y_pred)"
   ]
  },
  {
   "cell_type": "code",
   "execution_count": 417,
   "id": "e6674896-b36a-46ec-8615-5b94f2216b5d",
   "metadata": {},
   "outputs": [
    {
     "data": {
      "text/plain": [
       "0.9693558442816327"
      ]
     },
     "execution_count": 417,
     "metadata": {},
     "output_type": "execute_result"
    }
   ],
   "source": [
    "grid_ave_precision.best_score_"
   ]
  },
  {
   "cell_type": "code",
   "execution_count": 418,
   "id": "096d5401-2ebe-4877-baf0-2e9df790e5a9",
   "metadata": {},
   "outputs": [],
   "source": [
    "y_2_pred=grid_ave_precision.predict(X_2)"
   ]
  },
  {
   "cell_type": "code",
   "execution_count": 419,
   "id": "e60f9065-8d93-44d4-8b45-f845f0162cde",
   "metadata": {},
   "outputs": [
    {
     "data": {
      "text/plain": [
       "array([[248590,      0],\n",
       "       [  3629,  13994]], dtype=int64)"
      ]
     },
     "execution_count": 419,
     "metadata": {},
     "output_type": "execute_result"
    }
   ],
   "source": [
    "confusion_matrix(y_test,y_pred)"
   ]
  },
  {
   "cell_type": "code",
   "execution_count": 421,
   "id": "e2b5c1ca-f0e3-43e7-8d8c-b9e91431118b",
   "metadata": {},
   "outputs": [
    {
     "name": "stdout",
     "output_type": "stream",
     "text": [
      "              precision    recall  f1-score   support\n",
      "\n",
      "           0       0.99      1.00      0.99    248590\n",
      "           1       1.00      0.79      0.89     17623\n",
      "\n",
      "    accuracy                           0.99    266213\n",
      "   macro avg       0.99      0.90      0.94    266213\n",
      "weighted avg       0.99      0.99      0.99    266213\n",
      "\n"
     ]
    }
   ],
   "source": [
    "print(classification_report(y_test,y_pred))"
   ]
  },
  {
   "cell_type": "code",
   "execution_count": 422,
   "id": "b4937229-6292-40da-a948-f8ab812f87cd",
   "metadata": {},
   "outputs": [
    {
     "data": {
      "text/plain": [
       "array([[697038,   9713],\n",
       "       [ 15860,  36727]], dtype=int64)"
      ]
     },
     "execution_count": 422,
     "metadata": {},
     "output_type": "execute_result"
    }
   ],
   "source": [
    "confusion_matrix(y_2,y_2_pred)"
   ]
  },
  {
   "cell_type": "code",
   "execution_count": 423,
   "id": "8057fa83-640e-4b84-94e7-8a9e215b8f10",
   "metadata": {
    "collapsed": true,
    "jupyter": {
     "outputs_hidden": true
    },
    "tags": []
   },
   "outputs": [
    {
     "name": "stdout",
     "output_type": "stream",
     "text": [
      "              precision    recall  f1-score   support\n",
      "\n",
      "           0       0.98      0.99      0.98    706751\n",
      "           1       0.79      0.70      0.74     52587\n",
      "\n",
      "    accuracy                           0.97    759338\n",
      "   macro avg       0.88      0.84      0.86    759338\n",
      "weighted avg       0.96      0.97      0.97    759338\n",
      "\n"
     ]
    }
   ],
   "source": [
    "print(classification_report(y_2,y_2_pred))"
   ]
  },
  {
   "cell_type": "code",
   "execution_count": 424,
   "id": "9b4c11c0-d3ec-4a5e-b98b-01ae40e80cc1",
   "metadata": {},
   "outputs": [
    {
     "data": {
      "text/plain": [
       "0.8423306887184105"
      ]
     },
     "execution_count": 424,
     "metadata": {},
     "output_type": "execute_result"
    }
   ],
   "source": [
    "roc_auc_score(y_2,y_2_pred)"
   ]
  },
  {
   "cell_type": "markdown",
   "id": "f66e4bdb-0b97-46ff-90d8-3985dc69fd2e",
   "metadata": {},
   "source": [
    "Balanced accuracy did the best here. We will try building a random forest on the entire training set now with that metric and seeing how that does on the test data"
   ]
  },
  {
   "cell_type": "code",
   "execution_count": 426,
   "id": "f905f599-9dcf-4ec0-a0fe-3cfdbef1cbd4",
   "metadata": {},
   "outputs": [
    {
     "data": {
      "text/plain": [
       "GridSearchCV(estimator=RandomForestClassifier(),\n",
       "             param_grid={'class_weight': ['balanced'],\n",
       "                         'max_depth': [2, 5, 10, None],\n",
       "                         'n_estimators': [50, 100, 150, 200]},\n",
       "             scoring='balanced_accuracy')"
      ]
     },
     "execution_count": 426,
     "metadata": {},
     "output_type": "execute_result"
    }
   ],
   "source": [
    "grid2_rf_balanced_accuracy=GridSearchCV(RandomForestClassifier(),params,scoring=\"balanced_accuracy\")\n",
    "grid2_rf_balanced_accuracy.fit(X_1,y_1)"
   ]
  },
  {
   "cell_type": "code",
   "execution_count": 427,
   "id": "8bcea906-4010-40cb-b11e-340be0d23e3d",
   "metadata": {},
   "outputs": [
    {
     "data": {
      "text/plain": [
       "{'class_weight': 'balanced', 'max_depth': 5, 'n_estimators': 200}"
      ]
     },
     "execution_count": 427,
     "metadata": {},
     "output_type": "execute_result"
    }
   ],
   "source": [
    "grid2_rf_balanced_accuracy.best_params_"
   ]
  },
  {
   "cell_type": "code",
   "execution_count": 428,
   "id": "933a0c94-40c5-4897-bdc7-e5c4827b5ace",
   "metadata": {},
   "outputs": [
    {
     "data": {
      "text/plain": [
       "0.8274207368369468"
      ]
     },
     "execution_count": 428,
     "metadata": {},
     "output_type": "execute_result"
    }
   ],
   "source": [
    "grid2_rf_balanced_accuracy.best_score_"
   ]
  },
  {
   "cell_type": "code",
   "execution_count": 429,
   "id": "056016b1-ca63-49d6-abca-552e1550b0cd",
   "metadata": {},
   "outputs": [],
   "source": [
    "y_1_pred=grid2_rf_balanced_accuracy.predict(X_1)"
   ]
  },
  {
   "cell_type": "code",
   "execution_count": 430,
   "id": "2a7be7f4-c9ea-446b-aa13-44e87c856d9a",
   "metadata": {},
   "outputs": [
    {
     "name": "stdout",
     "output_type": "stream",
     "text": [
      "              precision    recall  f1-score   support\n",
      "\n",
      "           0       0.98      0.97      0.98    828555\n",
      "           1       0.62      0.78      0.69     58819\n",
      "\n",
      "    accuracy                           0.95    887374\n",
      "   macro avg       0.80      0.87      0.83    887374\n",
      "weighted avg       0.96      0.95      0.96    887374\n",
      "\n"
     ]
    }
   ],
   "source": [
    "print(classification_report(y_1,y_1_pred))"
   ]
  },
  {
   "cell_type": "code",
   "execution_count": 431,
   "id": "0d778686-ba1d-4908-a009-b1f9d5d97ae7",
   "metadata": {},
   "outputs": [
    {
     "name": "stdout",
     "output_type": "stream",
     "text": [
      "[[800409  28146]\n",
      " [ 12797  46022]]\n"
     ]
    }
   ],
   "source": [
    "print(confusion_matrix(y_1,y_1_pred))"
   ]
  },
  {
   "cell_type": "code",
   "execution_count": 432,
   "id": "872bdcf5-4cc5-439a-9b24-de7d150a9be3",
   "metadata": {},
   "outputs": [],
   "source": [
    "y_2_pred=grid2_rf_balanced_accuracy.predict(X_2)"
   ]
  },
  {
   "cell_type": "code",
   "execution_count": 433,
   "id": "28819dc0-ec2a-4872-b361-ae82e778a253",
   "metadata": {},
   "outputs": [
    {
     "name": "stdout",
     "output_type": "stream",
     "text": [
      "              precision    recall  f1-score   support\n",
      "\n",
      "           0       0.98      0.99      0.98    706751\n",
      "           1       0.86      0.70      0.77     52587\n",
      "\n",
      "    accuracy                           0.97    759338\n",
      "   macro avg       0.92      0.85      0.88    759338\n",
      "weighted avg       0.97      0.97      0.97    759338\n",
      "\n"
     ]
    }
   ],
   "source": [
    "print(classification_report(y_2,y_2_pred))"
   ]
  },
  {
   "cell_type": "code",
   "execution_count": 435,
   "id": "6489864e-c023-41be-bc88-00a970eca316",
   "metadata": {},
   "outputs": [
    {
     "name": "stdout",
     "output_type": "stream",
     "text": [
      "[[700929   5822]\n",
      " [ 15743  36844]]\n"
     ]
    }
   ],
   "source": [
    "print(confusion_matrix(y_2,y_2_pred))"
   ]
  },
  {
   "cell_type": "code",
   "execution_count": 436,
   "id": "5c20e6f0-0c9d-42fa-9708-634346a254ad",
   "metadata": {},
   "outputs": [
    {
     "name": "stdout",
     "output_type": "stream",
     "text": [
      "0.8461958684840647\n"
     ]
    }
   ],
   "source": [
    "print(roc_auc_score(y_2,y_2_pred))"
   ]
  },
  {
   "cell_type": "markdown",
   "id": "c6260c12-e1a5-4f9e-9b4f-fea1ae83ecc9",
   "metadata": {},
   "source": [
    "This baseline model is okay, but we'd like to see how a different model performs. We will look at using lightgbm"
   ]
  },
  {
   "cell_type": "code",
   "execution_count": 437,
   "id": "9bf281c3-adee-4274-9269-5c79c633796b",
   "metadata": {},
   "outputs": [],
   "source": [
    "import lightgbm as lgb\n"
   ]
  },
  {
   "cell_type": "code",
   "execution_count": 442,
   "id": "bcc8d556-1a48-4d63-98f1-c523f94dccde",
   "metadata": {},
   "outputs": [],
   "source": [
    "lgbmparams = {'num_leaves':[10,20,30,40],\n",
    "             'max_depth':[1,2,4,-1],\n",
    "             'n_estimators':[50,100,150,200],\n",
    "             'learning_rate':[0.01,0.1,0.2],\n",
    "             'class_weight':['balanced'],\n",
    "              'reg_alpha':[0,0.01,0.1],\n",
    "              'reg_lambda':[0,0.01,0.1]\n",
    "             }\n",
    "             "
   ]
  },
  {
   "cell_type": "code",
   "execution_count": null,
   "id": "c5796262-9bd8-4267-9562-9b96e2ed0826",
   "metadata": {},
   "outputs": [],
   "source": []
  },
  {
   "cell_type": "code",
   "execution_count": 443,
   "id": "5697a854-e9cc-4b24-bcaf-2ecbb285f273",
   "metadata": {},
   "outputs": [],
   "source": [
    "grid_lgbm=GridSearchCV(lgb.LGBMClassifier(),lgbmparams,scoring=\"balanced_accuracy\")"
   ]
  },
  {
   "cell_type": "code",
   "execution_count": 444,
   "id": "34cdf740-a578-4231-b50a-21b7c12ea444",
   "metadata": {},
   "outputs": [
    {
     "data": {
      "text/plain": [
       "GridSearchCV(estimator=LGBMClassifier(),\n",
       "             param_grid={'class_weight': ['balanced'],\n",
       "                         'learning_rate': [0.01, 0.1, 0.2],\n",
       "                         'max_depth': [1, 2, 4, -1],\n",
       "                         'n_estimators': [50, 100, 150, 200],\n",
       "                         'num_leaves': [10, 20, 30, 40],\n",
       "                         'reg_alpha': [0, 0.01, 0.1],\n",
       "                         'reg_lambda': [0, 0.01, 0.1]},\n",
       "             scoring='balanced_accuracy')"
      ]
     },
     "execution_count": 444,
     "metadata": {},
     "output_type": "execute_result"
    }
   ],
   "source": [
    "grid_lgbm.fit(X_1,y_1)"
   ]
  },
  {
   "cell_type": "code",
   "execution_count": 449,
   "id": "03021ab1-f47a-4811-99a6-b0e384990c04",
   "metadata": {},
   "outputs": [
    {
     "data": {
      "text/plain": [
       "{'class_weight': 'balanced',\n",
       " 'learning_rate': 0.01,\n",
       " 'max_depth': 2,\n",
       " 'n_estimators': 100,\n",
       " 'num_leaves': 10,\n",
       " 'reg_alpha': 0,\n",
       " 'reg_lambda': 0}"
      ]
     },
     "execution_count": 449,
     "metadata": {},
     "output_type": "execute_result"
    }
   ],
   "source": [
    "grid_lgbm.best_params_"
   ]
  },
  {
   "cell_type": "code",
   "execution_count": 450,
   "id": "ba440270-86b9-4619-b832-18a348dd1421",
   "metadata": {},
   "outputs": [
    {
     "data": {
      "text/plain": [
       "0.85384033629662"
      ]
     },
     "execution_count": 450,
     "metadata": {},
     "output_type": "execute_result"
    }
   ],
   "source": [
    "grid_lgbm.best_score_"
   ]
  },
  {
   "cell_type": "code",
   "execution_count": 451,
   "id": "63d4a8b8-09cf-439e-a5a5-862a9a751141",
   "metadata": {},
   "outputs": [],
   "source": [
    "y_2_pred=grid_lgbm.predict(X_2)"
   ]
  },
  {
   "cell_type": "code",
   "execution_count": 452,
   "id": "b1b14ead-0eda-434a-b6e3-71cec61c038e",
   "metadata": {},
   "outputs": [
    {
     "data": {
      "text/plain": [
       "array([[692274,  14477],\n",
       "       [ 14464,  38123]], dtype=int64)"
      ]
     },
     "execution_count": 452,
     "metadata": {},
     "output_type": "execute_result"
    }
   ],
   "source": [
    "confusion_matrix(y_2,y_2_pred)"
   ]
  },
  {
   "cell_type": "code",
   "execution_count": 462,
   "id": "846c2da6-b0d6-48a8-ad14-f7b965915853",
   "metadata": {},
   "outputs": [
    {
     "name": "stdout",
     "output_type": "stream",
     "text": [
      "[[692274  14477]\n",
      " [ 14464  38123]]\n"
     ]
    }
   ],
   "source": [
    "print(confusion_matrix(y_2,y_2_pred))"
   ]
  },
  {
   "cell_type": "code",
   "execution_count": 463,
   "id": "d9665a55-f51d-4189-ba04-ef499388867d",
   "metadata": {},
   "outputs": [
    {
     "name": "stdout",
     "output_type": "stream",
     "text": [
      "              precision    recall  f1-score   support\n",
      "\n",
      "           0       0.98      0.98      0.98    706751\n",
      "           1       0.72      0.72      0.72     52587\n",
      "\n",
      "    accuracy                           0.96    759338\n",
      "   macro avg       0.85      0.85      0.85    759338\n",
      "weighted avg       0.96      0.96      0.96    759338\n",
      "\n"
     ]
    }
   ],
   "source": [
    "print(classification_report(y_2,y_2_pred))"
   ]
  },
  {
   "cell_type": "code",
   "execution_count": 464,
   "id": "e966d536-bd35-48e2-9d1d-3556a2a33b71",
   "metadata": {},
   "outputs": [
    {
     "name": "stdout",
     "output_type": "stream",
     "text": [
      "0.8522335786543684\n"
     ]
    }
   ],
   "source": [
    "print(balanced_accuracy_score(y_2,y_2_pred))"
   ]
  },
  {
   "cell_type": "code",
   "execution_count": 465,
   "id": "95c4ee1a-159b-463d-a8c0-807753a85b49",
   "metadata": {},
   "outputs": [
    {
     "name": "stdout",
     "output_type": "stream",
     "text": [
      "0.8522335786543686\n"
     ]
    }
   ],
   "source": [
    "print(roc_auc_score(y_2,y_2_pred))"
   ]
  },
  {
   "cell_type": "code",
   "execution_count": null,
   "id": "296d6207-b81e-4207-a53e-1b93a9825d55",
   "metadata": {},
   "outputs": [],
   "source": []
  }
 ],
 "metadata": {
  "kernelspec": {
   "display_name": "Python 3 (ipykernel)",
   "language": "python",
   "name": "python3"
  },
  "language_info": {
   "codemirror_mode": {
    "name": "ipython",
    "version": 3
   },
   "file_extension": ".py",
   "mimetype": "text/x-python",
   "name": "python",
   "nbconvert_exporter": "python",
   "pygments_lexer": "ipython3",
   "version": "3.9.7"
  }
 },
 "nbformat": 4,
 "nbformat_minor": 5
}
