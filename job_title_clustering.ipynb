{
 "cells": [
  {
   "cell_type": "code",
   "execution_count": 1,
   "id": "68033299-0a9d-4adf-bd78-4ff68d911c2f",
   "metadata": {},
   "outputs": [],
   "source": [
    "import pandas as pd\n",
    "import numpy as np"
   ]
  },
  {
   "cell_type": "code",
   "execution_count": 2,
   "id": "58c6a9dc-2f04-493f-95fc-30a4e6a6c6ae",
   "metadata": {},
   "outputs": [],
   "source": [
    "jobs=pd.read_csv(\"jobs.csv\")"
   ]
  },
  {
   "cell_type": "code",
   "execution_count": 3,
   "id": "a38e2c42-bf12-4075-b611-6402b357bd89",
   "metadata": {},
   "outputs": [
    {
     "data": {
      "text/html": [
       "<div>\n",
       "<style scoped>\n",
       "    .dataframe tbody tr th:only-of-type {\n",
       "        vertical-align: middle;\n",
       "    }\n",
       "\n",
       "    .dataframe tbody tr th {\n",
       "        vertical-align: top;\n",
       "    }\n",
       "\n",
       "    .dataframe thead th {\n",
       "        text-align: right;\n",
       "    }\n",
       "</style>\n",
       "<table border=\"1\" class=\"dataframe\">\n",
       "  <thead>\n",
       "    <tr style=\"text-align: right;\">\n",
       "      <th></th>\n",
       "      <th>Unnamed: 0</th>\n",
       "      <th>emp_title</th>\n",
       "    </tr>\n",
       "  </thead>\n",
       "  <tbody>\n",
       "    <tr>\n",
       "      <th>0</th>\n",
       "      <td>0</td>\n",
       "      <td>NaN</td>\n",
       "    </tr>\n",
       "    <tr>\n",
       "      <th>1</th>\n",
       "      <td>1</td>\n",
       "      <td>Ryder</td>\n",
       "    </tr>\n",
       "    <tr>\n",
       "      <th>2</th>\n",
       "      <td>2</td>\n",
       "      <td>NaN</td>\n",
       "    </tr>\n",
       "    <tr>\n",
       "      <th>3</th>\n",
       "      <td>3</td>\n",
       "      <td>AIR RESOURCES BOARD</td>\n",
       "    </tr>\n",
       "    <tr>\n",
       "      <th>4</th>\n",
       "      <td>4</td>\n",
       "      <td>University Medical Group</td>\n",
       "    </tr>\n",
       "  </tbody>\n",
       "</table>\n",
       "</div>"
      ],
      "text/plain": [
       "   Unnamed: 0                 emp_title\n",
       "0           0                       NaN\n",
       "1           1                     Ryder\n",
       "2           2                       NaN\n",
       "3           3       AIR RESOURCES BOARD\n",
       "4           4  University Medical Group"
      ]
     },
     "execution_count": 3,
     "metadata": {},
     "output_type": "execute_result"
    }
   ],
   "source": [
    "jobs.head()"
   ]
  },
  {
   "cell_type": "code",
   "execution_count": 4,
   "id": "3b3a2917-8bae-46e3-8a01-c2a3d0fbc45e",
   "metadata": {},
   "outputs": [],
   "source": [
    "jobs.fillna(\"other\",inplace=True)"
   ]
  },
  {
   "cell_type": "code",
   "execution_count": 5,
   "id": "1d4c3687-d58b-4e36-88c0-37a5d5ded3cc",
   "metadata": {},
   "outputs": [
    {
     "data": {
      "text/plain": [
       "Index(['Unnamed: 0', 'emp_title'], dtype='object')"
      ]
     },
     "execution_count": 5,
     "metadata": {},
     "output_type": "execute_result"
    }
   ],
   "source": [
    "jobs.columns"
   ]
  },
  {
   "cell_type": "code",
   "execution_count": 6,
   "id": "6f2b8212-c5ba-4d2d-8ec3-24f18f07aab2",
   "metadata": {},
   "outputs": [],
   "source": [
    "jobs.drop(columns=['Unnamed: 0'],inplace=True)"
   ]
  },
  {
   "cell_type": "code",
   "execution_count": 7,
   "id": "0cce3f06-3d1d-4a3b-be6a-68e9abcbbdfb",
   "metadata": {},
   "outputs": [],
   "source": [
    "jobs.emp_title=jobs.emp_title.str.lower()"
   ]
  },
  {
   "cell_type": "code",
   "execution_count": 8,
   "id": "20cb1d2e-9454-47d2-b247-cefc059234f2",
   "metadata": {},
   "outputs": [
    {
     "data": {
      "text/html": [
       "<div>\n",
       "<style scoped>\n",
       "    .dataframe tbody tr th:only-of-type {\n",
       "        vertical-align: middle;\n",
       "    }\n",
       "\n",
       "    .dataframe tbody tr th {\n",
       "        vertical-align: top;\n",
       "    }\n",
       "\n",
       "    .dataframe thead th {\n",
       "        text-align: right;\n",
       "    }\n",
       "</style>\n",
       "<table border=\"1\" class=\"dataframe\">\n",
       "  <thead>\n",
       "    <tr style=\"text-align: right;\">\n",
       "      <th></th>\n",
       "      <th>emp_title</th>\n",
       "    </tr>\n",
       "  </thead>\n",
       "  <tbody>\n",
       "    <tr>\n",
       "      <th>0</th>\n",
       "      <td>other</td>\n",
       "    </tr>\n",
       "    <tr>\n",
       "      <th>1</th>\n",
       "      <td>ryder</td>\n",
       "    </tr>\n",
       "    <tr>\n",
       "      <th>2</th>\n",
       "      <td>other</td>\n",
       "    </tr>\n",
       "    <tr>\n",
       "      <th>3</th>\n",
       "      <td>air resources board</td>\n",
       "    </tr>\n",
       "    <tr>\n",
       "      <th>4</th>\n",
       "      <td>university medical group</td>\n",
       "    </tr>\n",
       "  </tbody>\n",
       "</table>\n",
       "</div>"
      ],
      "text/plain": [
       "                  emp_title\n",
       "0                     other\n",
       "1                     ryder\n",
       "2                     other\n",
       "3       air resources board\n",
       "4  university medical group"
      ]
     },
     "execution_count": 8,
     "metadata": {},
     "output_type": "execute_result"
    }
   ],
   "source": [
    "jobs.head()"
   ]
  },
  {
   "cell_type": "code",
   "execution_count": 9,
   "id": "cc14e918-cbce-4201-9df4-73bfd14c7fcc",
   "metadata": {},
   "outputs": [],
   "source": [
    "from sklearn.feature_extraction.text import TfidfVectorizer"
   ]
  },
  {
   "cell_type": "code",
   "execution_count": 10,
   "id": "3ecb89f3-a0bb-45d2-94cb-df81eaeb8eb1",
   "metadata": {},
   "outputs": [],
   "source": [
    "tv=TfidfVectorizer()"
   ]
  },
  {
   "cell_type": "code",
   "execution_count": 11,
   "id": "3bd55f5a-f23b-433c-8987-1f9eaa471203",
   "metadata": {},
   "outputs": [],
   "source": [
    "jobs_list=list(jobs.emp_title)"
   ]
  },
  {
   "cell_type": "code",
   "execution_count": 12,
   "id": "527c0cb4-afb3-4a3d-8b8f-c23021b3693d",
   "metadata": {},
   "outputs": [],
   "source": [
    "x_tv=tv.fit_transform(jobs_list)"
   ]
  },
  {
   "cell_type": "code",
   "execution_count": 13,
   "id": "df2c4e00-e9c7-4623-801d-3ac269d9fe3c",
   "metadata": {},
   "outputs": [
    {
     "data": {
      "text/plain": [
       "scipy.sparse.csr.csr_matrix"
      ]
     },
     "execution_count": 13,
     "metadata": {},
     "output_type": "execute_result"
    }
   ],
   "source": [
    "type(x_tv)"
   ]
  },
  {
   "cell_type": "code",
   "execution_count": 14,
   "id": "fea672cd-81df-470b-9ac7-0f8242dcb094",
   "metadata": {},
   "outputs": [],
   "source": [
    "from sklearn.cluster import KMeans"
   ]
  },
  {
   "cell_type": "code",
   "execution_count": null,
   "id": "7462d6bd-2a30-46aa-8ff5-0c0631c406d5",
   "metadata": {},
   "outputs": [],
   "source": []
  },
  {
   "cell_type": "code",
   "execution_count": null,
   "id": "fcb014ac-7249-45a8-9ba4-c5ac0065b5eb",
   "metadata": {},
   "outputs": [],
   "source": []
  },
  {
   "cell_type": "code",
   "execution_count": null,
   "id": "bef57a28-be8a-4ef5-8743-7bbc77fc67b3",
   "metadata": {},
   "outputs": [],
   "source": []
  },
  {
   "cell_type": "code",
   "execution_count": null,
   "id": "db6e8973-3f53-4844-9e94-d60912a95fef",
   "metadata": {},
   "outputs": [],
   "source": []
  },
  {
   "cell_type": "code",
   "execution_count": 15,
   "id": "012c822c-7e9a-4162-ba35-9be7ffcd9a89",
   "metadata": {},
   "outputs": [
    {
     "data": {
      "text/html": [
       "<div>\n",
       "<style scoped>\n",
       "    .dataframe tbody tr th:only-of-type {\n",
       "        vertical-align: middle;\n",
       "    }\n",
       "\n",
       "    .dataframe tbody tr th {\n",
       "        vertical-align: top;\n",
       "    }\n",
       "\n",
       "    .dataframe thead th {\n",
       "        text-align: right;\n",
       "    }\n",
       "</style>\n",
       "<table border=\"1\" class=\"dataframe\">\n",
       "  <thead>\n",
       "    <tr style=\"text-align: right;\">\n",
       "      <th></th>\n",
       "      <th>emp_title</th>\n",
       "    </tr>\n",
       "  </thead>\n",
       "  <tbody>\n",
       "    <tr>\n",
       "      <th>0</th>\n",
       "      <td>other</td>\n",
       "    </tr>\n",
       "    <tr>\n",
       "      <th>1</th>\n",
       "      <td>ryder</td>\n",
       "    </tr>\n",
       "    <tr>\n",
       "      <th>2</th>\n",
       "      <td>other</td>\n",
       "    </tr>\n",
       "    <tr>\n",
       "      <th>3</th>\n",
       "      <td>air resources board</td>\n",
       "    </tr>\n",
       "    <tr>\n",
       "      <th>4</th>\n",
       "      <td>university medical group</td>\n",
       "    </tr>\n",
       "  </tbody>\n",
       "</table>\n",
       "</div>"
      ],
      "text/plain": [
       "                  emp_title\n",
       "0                     other\n",
       "1                     ryder\n",
       "2                     other\n",
       "3       air resources board\n",
       "4  university medical group"
      ]
     },
     "execution_count": 15,
     "metadata": {},
     "output_type": "execute_result"
    }
   ],
   "source": [
    "jobs.head()"
   ]
  },
  {
   "cell_type": "code",
   "execution_count": null,
   "id": "29df186e-9cdc-483b-8d9e-df9814d79b9d",
   "metadata": {},
   "outputs": [],
   "source": []
  },
  {
   "cell_type": "code",
   "execution_count": null,
   "id": "edd2f85b-169f-476d-8070-8b19512310ce",
   "metadata": {},
   "outputs": [],
   "source": []
  },
  {
   "cell_type": "code",
   "execution_count": null,
   "id": "13b72728-13bd-442e-8b6e-b0655a273157",
   "metadata": {},
   "outputs": [],
   "source": []
  },
  {
   "cell_type": "code",
   "execution_count": null,
   "id": "40956986-e28a-470d-a5a4-f71db06a8464",
   "metadata": {},
   "outputs": [],
   "source": []
  },
  {
   "cell_type": "code",
   "execution_count": 16,
   "id": "415d2400-9cdd-426e-890e-0ed5ac25de40",
   "metadata": {},
   "outputs": [],
   "source": [
    "jobs2=pd.read_csv(\"jobs2.csv\")"
   ]
  },
  {
   "cell_type": "code",
   "execution_count": 17,
   "id": "74e34e3a-60d8-43c5-b658-ec7be132efab",
   "metadata": {},
   "outputs": [
    {
     "data": {
      "text/html": [
       "<div>\n",
       "<style scoped>\n",
       "    .dataframe tbody tr th:only-of-type {\n",
       "        vertical-align: middle;\n",
       "    }\n",
       "\n",
       "    .dataframe tbody tr th {\n",
       "        vertical-align: top;\n",
       "    }\n",
       "\n",
       "    .dataframe thead th {\n",
       "        text-align: right;\n",
       "    }\n",
       "</style>\n",
       "<table border=\"1\" class=\"dataframe\">\n",
       "  <thead>\n",
       "    <tr style=\"text-align: right;\">\n",
       "      <th></th>\n",
       "      <th>Unnamed: 0</th>\n",
       "      <th>emp_title</th>\n",
       "    </tr>\n",
       "  </thead>\n",
       "  <tbody>\n",
       "    <tr>\n",
       "      <th>0</th>\n",
       "      <td>0</td>\n",
       "      <td>NaN</td>\n",
       "    </tr>\n",
       "    <tr>\n",
       "      <th>1</th>\n",
       "      <td>1</td>\n",
       "      <td>teacher</td>\n",
       "    </tr>\n",
       "    <tr>\n",
       "      <th>2</th>\n",
       "      <td>2</td>\n",
       "      <td>Front Office</td>\n",
       "    </tr>\n",
       "    <tr>\n",
       "      <th>3</th>\n",
       "      <td>3</td>\n",
       "      <td>Manager</td>\n",
       "    </tr>\n",
       "    <tr>\n",
       "      <th>4</th>\n",
       "      <td>4</td>\n",
       "      <td>Paramedic</td>\n",
       "    </tr>\n",
       "  </tbody>\n",
       "</table>\n",
       "</div>"
      ],
      "text/plain": [
       "   Unnamed: 0     emp_title\n",
       "0           0           NaN\n",
       "1           1       teacher\n",
       "2           2  Front Office\n",
       "3           3       Manager\n",
       "4           4     Paramedic"
      ]
     },
     "execution_count": 17,
     "metadata": {},
     "output_type": "execute_result"
    }
   ],
   "source": [
    "jobs2.head()"
   ]
  },
  {
   "cell_type": "code",
   "execution_count": 18,
   "id": "30cafb4d-ab5e-4ed7-bf8b-4198513c25b7",
   "metadata": {},
   "outputs": [],
   "source": [
    "jobs2.emp_title.fillna(\"other\",inplace=True)"
   ]
  },
  {
   "cell_type": "code",
   "execution_count": 19,
   "id": "4b5c2802-417d-4d62-a418-75a8790564c5",
   "metadata": {},
   "outputs": [],
   "source": [
    "jobs2.emp_title=jobs2.emp_title.str.lower()"
   ]
  },
  {
   "cell_type": "code",
   "execution_count": 20,
   "id": "3f9000fc-afc6-446f-99d6-8305d8206b18",
   "metadata": {},
   "outputs": [
    {
     "data": {
      "text/html": [
       "<div>\n",
       "<style scoped>\n",
       "    .dataframe tbody tr th:only-of-type {\n",
       "        vertical-align: middle;\n",
       "    }\n",
       "\n",
       "    .dataframe tbody tr th {\n",
       "        vertical-align: top;\n",
       "    }\n",
       "\n",
       "    .dataframe thead th {\n",
       "        text-align: right;\n",
       "    }\n",
       "</style>\n",
       "<table border=\"1\" class=\"dataframe\">\n",
       "  <thead>\n",
       "    <tr style=\"text-align: right;\">\n",
       "      <th></th>\n",
       "      <th>Unnamed: 0</th>\n",
       "      <th>emp_title</th>\n",
       "    </tr>\n",
       "  </thead>\n",
       "  <tbody>\n",
       "    <tr>\n",
       "      <th>0</th>\n",
       "      <td>0</td>\n",
       "      <td>other</td>\n",
       "    </tr>\n",
       "    <tr>\n",
       "      <th>1</th>\n",
       "      <td>1</td>\n",
       "      <td>teacher</td>\n",
       "    </tr>\n",
       "    <tr>\n",
       "      <th>2</th>\n",
       "      <td>2</td>\n",
       "      <td>front office</td>\n",
       "    </tr>\n",
       "    <tr>\n",
       "      <th>3</th>\n",
       "      <td>3</td>\n",
       "      <td>manager</td>\n",
       "    </tr>\n",
       "    <tr>\n",
       "      <th>4</th>\n",
       "      <td>4</td>\n",
       "      <td>paramedic</td>\n",
       "    </tr>\n",
       "  </tbody>\n",
       "</table>\n",
       "</div>"
      ],
      "text/plain": [
       "   Unnamed: 0     emp_title\n",
       "0           0         other\n",
       "1           1       teacher\n",
       "2           2  front office\n",
       "3           3       manager\n",
       "4           4     paramedic"
      ]
     },
     "execution_count": 20,
     "metadata": {},
     "output_type": "execute_result"
    }
   ],
   "source": [
    "jobs2.head()"
   ]
  },
  {
   "cell_type": "code",
   "execution_count": null,
   "id": "d26aab94-0576-4737-96f1-ec3de049d944",
   "metadata": {},
   "outputs": [],
   "source": []
  },
  {
   "cell_type": "code",
   "execution_count": 21,
   "id": "756ba67c-263d-4800-8208-eefb3aef552d",
   "metadata": {},
   "outputs": [],
   "source": [
    "jobs_list2=list(jobs2.emp_title)\n"
   ]
  },
  {
   "cell_type": "code",
   "execution_count": 22,
   "id": "9f483173-1be7-4652-bc4a-4605b51b05c8",
   "metadata": {},
   "outputs": [],
   "source": [
    "x2_tv=tv.transform(jobs_list2)"
   ]
  },
  {
   "cell_type": "code",
   "execution_count": null,
   "id": "7155e50c-89c9-4b54-bfa0-c17d76875c9d",
   "metadata": {},
   "outputs": [],
   "source": []
  },
  {
   "cell_type": "code",
   "execution_count": null,
   "id": "c2d2e75e-9909-4ff0-aa97-bb5cb2266aff",
   "metadata": {},
   "outputs": [],
   "source": []
  },
  {
   "cell_type": "code",
   "execution_count": null,
   "id": "9760bd35-02fd-4956-82e1-8fc2a7af7034",
   "metadata": {},
   "outputs": [],
   "source": []
  },
  {
   "cell_type": "code",
   "execution_count": null,
   "id": "7dcdef2e-d945-41ab-8972-2de3f25593f3",
   "metadata": {},
   "outputs": [],
   "source": []
  },
  {
   "cell_type": "code",
   "execution_count": null,
   "id": "f809bc34-3b9a-4a76-becf-5aa655ee276e",
   "metadata": {},
   "outputs": [],
   "source": []
  },
  {
   "cell_type": "code",
   "execution_count": null,
   "id": "b9229b34-881a-47d0-b5f4-4c99b913c41e",
   "metadata": {},
   "outputs": [],
   "source": []
  },
  {
   "cell_type": "code",
   "execution_count": null,
   "id": "c9833479-3b26-48d1-b7ba-3fc732794b9f",
   "metadata": {},
   "outputs": [],
   "source": []
  },
  {
   "cell_type": "code",
   "execution_count": null,
   "id": "9c3fc1be-4321-41e7-828d-b3f87c86e9ce",
   "metadata": {},
   "outputs": [],
   "source": []
  },
  {
   "cell_type": "code",
   "execution_count": null,
   "id": "1c5b2ad8-715f-48ca-8cb9-4df6c6ed1695",
   "metadata": {},
   "outputs": [],
   "source": []
  },
  {
   "cell_type": "code",
   "execution_count": null,
   "id": "7fdeb4d1-a2e0-49c3-bed0-a437b0449c8e",
   "metadata": {},
   "outputs": [],
   "source": []
  },
  {
   "cell_type": "code",
   "execution_count": null,
   "id": "76f0a381-ba1e-46b6-89ea-e99e81f0ed29",
   "metadata": {},
   "outputs": [],
   "source": []
  },
  {
   "cell_type": "code",
   "execution_count": 23,
   "id": "e8e550f5-b006-4f68-b4b0-e8250a62cf68",
   "metadata": {},
   "outputs": [
    {
     "name": "stdout",
     "output_type": "stream",
     "text": [
      "Clustering on  1  clusters\n",
      "Clustering on  2  clusters\n",
      "Clustering on  3  clusters\n",
      "Clustering on  4  clusters\n",
      "Clustering on  5  clusters\n"
     ]
    }
   ],
   "source": [
    "from collections import defaultdict\n",
    "inertia=[]\n",
    "km=defaultdict()\n",
    "for i in range(1,6):\n",
    "    print(\"Clustering on \",i,\" clusters\")\n",
    "    km[i]=KMeans(n_clusters=i)\n",
    "    km[i].fit(x_tv)\n",
    "    inertia.append(km[i].inertia_)\n",
    "   \n",
    "    "
   ]
  },
  {
   "cell_type": "code",
   "execution_count": 24,
   "id": "8dcf0bf1-d320-4b06-8cfb-5b09e042295c",
   "metadata": {},
   "outputs": [
    {
     "name": "stdout",
     "output_type": "stream",
     "text": [
      "Clustering on  6  clusters\n",
      "Clustering on  7  clusters\n",
      "Clustering on  8  clusters\n",
      "Clustering on  9  clusters\n"
     ]
    }
   ],
   "source": [
    "for i in range(6,10):\n",
    "    print(\"Clustering on \",i,\" clusters\")\n",
    "    km[i]=KMeans(n_clusters=i)\n",
    "    km[i].fit(x_tv)\n",
    "    inertia.append(km[i].inertia_)\n",
    "   "
   ]
  },
  {
   "cell_type": "code",
   "execution_count": 25,
   "id": "39928549-6a78-4bd9-ac6b-4f389276a69b",
   "metadata": {},
   "outputs": [
    {
     "data": {
      "text/plain": [
       "[876074.5531209679,\n",
       " 827137.7490547413,\n",
       " 803815.3666231052,\n",
       " 794295.7802205536,\n",
       " 789353.5716945524,\n",
       " 773274.6951899498,\n",
       " 763457.0866070999,\n",
       " 759542.8747085832,\n",
       " 746604.8991698726]"
      ]
     },
     "execution_count": 25,
     "metadata": {},
     "output_type": "execute_result"
    }
   ],
   "source": [
    "inertia"
   ]
  },
  {
   "cell_type": "code",
   "execution_count": 26,
   "id": "fd1c3ec8-8838-4a6c-b6fd-11e592be65b1",
   "metadata": {},
   "outputs": [
    {
     "name": "stdout",
     "output_type": "stream",
     "text": [
      "Clustering on  10  clusters\n",
      "Clustering on  11  clusters\n",
      "Clustering on  12  clusters\n",
      "Clustering on  13  clusters\n",
      "Clustering on  14  clusters\n",
      "Clustering on  15  clusters\n"
     ]
    }
   ],
   "source": [
    "for i in range(10,16):\n",
    "    print(\"Clustering on \",i,\" clusters\")\n",
    "    km[i]=KMeans(n_clusters=i)\n",
    "    km[i].fit(x_tv)\n",
    "    inertia.append(km[i].inertia_)\n",
    "   "
   ]
  },
  {
   "cell_type": "code",
   "execution_count": 27,
   "id": "5559a9b7-c76f-4927-a9d4-640eb7cde175",
   "metadata": {},
   "outputs": [],
   "source": [
    "import matplotlib.pyplot as plt"
   ]
  },
  {
   "cell_type": "code",
   "execution_count": 29,
   "id": "6f174eff-4535-49ae-aef4-ca61069d11c4",
   "metadata": {},
   "outputs": [
    {
     "data": {
      "image/png": "[encoded data removed]",
      "text/plain": [
       "<Figure size 432x288 with 1 Axes>"
      ]
     },
     "metadata": {
      "needs_background": "light"
     },
     "output_type": "display_data"
    }
   ],
   "source": [
    "plt.plot(range(1,16),inertia,marker='x')\n",
    "plt.show()"
   ]
  },
  {
   "cell_type": "code",
   "execution_count": 30,
   "id": "42bfa243-1cbd-4dc9-838d-823cfa5b19d1",
   "metadata": {},
   "outputs": [
    {
     "data": {
      "text/plain": [
       "defaultdict(None,\n",
       "            {1: KMeans(n_clusters=1),\n",
       "             2: KMeans(n_clusters=2),\n",
       "             3: KMeans(n_clusters=3),\n",
       "             4: KMeans(n_clusters=4),\n",
       "             5: KMeans(n_clusters=5),\n",
       "             6: KMeans(n_clusters=6),\n",
       "             7: KMeans(n_clusters=7),\n",
       "             8: KMeans(),\n",
       "             9: KMeans(n_clusters=9),\n",
       "             10: KMeans(n_clusters=10),\n",
       "             11: KMeans(n_clusters=11),\n",
       "             12: KMeans(n_clusters=12),\n",
       "             13: KMeans(n_clusters=13),\n",
       "             14: KMeans(n_clusters=14),\n",
       "             15: KMeans(n_clusters=15)})"
      ]
     },
     "execution_count": 30,
     "metadata": {},
     "output_type": "execute_result"
    }
   ],
   "source": [
    "km"
   ]
  },
  {
   "cell_type": "code",
   "execution_count": 31,
   "id": "ee78f67e-8b92-40bb-a4e9-9d832a072bd4",
   "metadata": {},
   "outputs": [],
   "source": [
    "from sklearn.metrics import silhouette_score"
   ]
  },
  {
   "cell_type": "code",
   "execution_count": 33,
   "id": "07e97ca4-40e5-4690-9400-75154fdf1223",
   "metadata": {},
   "outputs": [
    {
     "data": {
      "text/plain": [
       "0.11883030296229213"
      ]
     },
     "execution_count": 33,
     "metadata": {},
     "output_type": "execute_result"
    }
   ],
   "source": [
    "silhouette_score(x_tv,km[9].labels_)"
   ]
  },
  {
   "cell_type": "code",
   "execution_count": null,
   "id": "78440532-f606-47e8-b60c-1982940bcdbf",
   "metadata": {},
   "outputs": [],
   "source": []
  }
 ],
 "metadata": {
  "kernelspec": {
   "display_name": "Python 3 (ipykernel)",
   "language": "python",
   "name": "python3"
  },
  "language_info": {
   "codemirror_mode": {
    "name": "ipython",
    "version": 3
   },
   "file_extension": ".py",
   "mimetype": "text/x-python",
   "name": "python",
   "nbconvert_exporter": "python",
   "pygments_lexer": "ipython3",
   "version": "3.9.7"
  }
 },
 "nbformat": 4,
 "nbformat_minor": 5
}
