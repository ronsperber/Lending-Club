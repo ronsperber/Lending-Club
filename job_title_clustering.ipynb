{
 "cells": [
  {
   "cell_type": "code",
   "execution_count": 1,
   "id": "68033299-0a9d-4adf-bd78-4ff68d911c2f",
   "metadata": {},
   "outputs": [],
   "source": [
    "import pandas as pd\n",
    "import numpy as np"
   ]
  },
  {
   "cell_type": "code",
   "execution_count": 2,
   "id": "58c6a9dc-2f04-493f-95fc-30a4e6a6c6ae",
   "metadata": {},
   "outputs": [],
   "source": [
    "jobs=pd.read_csv(\"jobs.csv\")"
   ]
  },
  {
   "cell_type": "code",
   "execution_count": 3,
   "id": "a38e2c42-bf12-4075-b611-6402b357bd89",
   "metadata": {},
   "outputs": [
    {
     "data": {
      "text/html": [
       "<div>\n",
       "<style scoped>\n",
       "    .dataframe tbody tr th:only-of-type {\n",
       "        vertical-align: middle;\n",
       "    }\n",
       "\n",
       "    .dataframe tbody tr th {\n",
       "        vertical-align: top;\n",
       "    }\n",
       "\n",
       "    .dataframe thead th {\n",
       "        text-align: right;\n",
       "    }\n",
       "</style>\n",
       "<table border=\"1\" class=\"dataframe\">\n",
       "  <thead>\n",
       "    <tr style=\"text-align: right;\">\n",
       "      <th></th>\n",
       "      <th>Unnamed: 0</th>\n",
       "      <th>emp_title</th>\n",
       "    </tr>\n",
       "  </thead>\n",
       "  <tbody>\n",
       "    <tr>\n",
       "      <th>0</th>\n",
       "      <td>0</td>\n",
       "      <td>NaN</td>\n",
       "    </tr>\n",
       "    <tr>\n",
       "      <th>1</th>\n",
       "      <td>1</td>\n",
       "      <td>Ryder</td>\n",
       "    </tr>\n",
       "    <tr>\n",
       "      <th>2</th>\n",
       "      <td>2</td>\n",
       "      <td>NaN</td>\n",
       "    </tr>\n",
       "    <tr>\n",
       "      <th>3</th>\n",
       "      <td>3</td>\n",
       "      <td>AIR RESOURCES BOARD</td>\n",
       "    </tr>\n",
       "    <tr>\n",
       "      <th>4</th>\n",
       "      <td>4</td>\n",
       "      <td>University Medical Group</td>\n",
       "    </tr>\n",
       "  </tbody>\n",
       "</table>\n",
       "</div>"
      ],
      "text/plain": [
       "   Unnamed: 0                 emp_title\n",
       "0           0                       NaN\n",
       "1           1                     Ryder\n",
       "2           2                       NaN\n",
       "3           3       AIR RESOURCES BOARD\n",
       "4           4  University Medical Group"
      ]
     },
     "execution_count": 3,
     "metadata": {},
     "output_type": "execute_result"
    }
   ],
   "source": [
    "jobs.head()"
   ]
  },
  {
   "cell_type": "code",
   "execution_count": 5,
   "id": "3b3a2917-8bae-46e3-8a01-c2a3d0fbc45e",
   "metadata": {},
   "outputs": [],
   "source": [
    "jobs.fillna(\"other\",inplace=True)"
   ]
  },
  {
   "cell_type": "code",
   "execution_count": 6,
   "id": "1d4c3687-d58b-4e36-88c0-37a5d5ded3cc",
   "metadata": {},
   "outputs": [
    {
     "data": {
      "text/plain": [
       "Index(['Unnamed: 0', 'emp_title'], dtype='object')"
      ]
     },
     "execution_count": 6,
     "metadata": {},
     "output_type": "execute_result"
    }
   ],
   "source": [
    "jobs.columns"
   ]
  },
  {
   "cell_type": "code",
   "execution_count": 7,
   "id": "6f2b8212-c5ba-4d2d-8ec3-24f18f07aab2",
   "metadata": {},
   "outputs": [],
   "source": [
    "jobs.drop(columns=['Unnamed: 0'],inplace=True)"
   ]
  },
  {
   "cell_type": "code",
   "execution_count": 8,
   "id": "0cce3f06-3d1d-4a3b-be6a-68e9abcbbdfb",
   "metadata": {},
   "outputs": [],
   "source": [
    "jobs.emp_title=jobs.emp_title.str.lower()"
   ]
  },
  {
   "cell_type": "code",
   "execution_count": 9,
   "id": "20cb1d2e-9454-47d2-b247-cefc059234f2",
   "metadata": {},
   "outputs": [
    {
     "data": {
      "text/html": [
       "<div>\n",
       "<style scoped>\n",
       "    .dataframe tbody tr th:only-of-type {\n",
       "        vertical-align: middle;\n",
       "    }\n",
       "\n",
       "    .dataframe tbody tr th {\n",
       "        vertical-align: top;\n",
       "    }\n",
       "\n",
       "    .dataframe thead th {\n",
       "        text-align: right;\n",
       "    }\n",
       "</style>\n",
       "<table border=\"1\" class=\"dataframe\">\n",
       "  <thead>\n",
       "    <tr style=\"text-align: right;\">\n",
       "      <th></th>\n",
       "      <th>emp_title</th>\n",
       "    </tr>\n",
       "  </thead>\n",
       "  <tbody>\n",
       "    <tr>\n",
       "      <th>0</th>\n",
       "      <td>other</td>\n",
       "    </tr>\n",
       "    <tr>\n",
       "      <th>1</th>\n",
       "      <td>ryder</td>\n",
       "    </tr>\n",
       "    <tr>\n",
       "      <th>2</th>\n",
       "      <td>other</td>\n",
       "    </tr>\n",
       "    <tr>\n",
       "      <th>3</th>\n",
       "      <td>air resources board</td>\n",
       "    </tr>\n",
       "    <tr>\n",
       "      <th>4</th>\n",
       "      <td>university medical group</td>\n",
       "    </tr>\n",
       "  </tbody>\n",
       "</table>\n",
       "</div>"
      ],
      "text/plain": [
       "                  emp_title\n",
       "0                     other\n",
       "1                     ryder\n",
       "2                     other\n",
       "3       air resources board\n",
       "4  university medical group"
      ]
     },
     "execution_count": 9,
     "metadata": {},
     "output_type": "execute_result"
    }
   ],
   "source": [
    "jobs.head()"
   ]
  },
  {
   "cell_type": "code",
   "execution_count": 29,
   "id": "cc14e918-cbce-4201-9df4-73bfd14c7fcc",
   "metadata": {},
   "outputs": [],
   "source": [
    "from sklearn.feature_extraction.text import TfidfVectorizer"
   ]
  },
  {
   "cell_type": "code",
   "execution_count": 32,
   "id": "3ecb89f3-a0bb-45d2-94cb-df81eaeb8eb1",
   "metadata": {},
   "outputs": [],
   "source": [
    "tv=TfidfVectorizer()"
   ]
  },
  {
   "cell_type": "code",
   "execution_count": 33,
   "id": "3bd55f5a-f23b-433c-8987-1f9eaa471203",
   "metadata": {},
   "outputs": [],
   "source": [
    "jobs_list=list(jobs.emp_title)"
   ]
  },
  {
   "cell_type": "code",
   "execution_count": 34,
   "id": "527c0cb4-afb3-4a3d-8b8f-c23021b3693d",
   "metadata": {},
   "outputs": [],
   "source": [
    "x_tv=tv.fit_transform(jobs_list)"
   ]
  },
  {
   "cell_type": "code",
   "execution_count": 35,
   "id": "df2c4e00-e9c7-4623-801d-3ac269d9fe3c",
   "metadata": {},
   "outputs": [
    {
     "data": {
      "text/plain": [
       "scipy.sparse.csr.csr_matrix"
      ]
     },
     "execution_count": 35,
     "metadata": {},
     "output_type": "execute_result"
    }
   ],
   "source": [
    "type(x_tv)"
   ]
  },
  {
   "cell_type": "code",
   "execution_count": 36,
   "id": "fea672cd-81df-470b-9ac7-0f8242dcb094",
   "metadata": {},
   "outputs": [],
   "source": [
    "from sklearn.cluster import KMeans"
   ]
  },
  {
   "cell_type": "code",
   "execution_count": 37,
   "id": "7462d6bd-2a30-46aa-8ff5-0c0631c406d5",
   "metadata": {},
   "outputs": [],
   "source": [
    "km=KMeans(n_clusters=10)"
   ]
  },
  {
   "cell_type": "code",
   "execution_count": 38,
   "id": "fcb014ac-7249-45a8-9ba4-c5ac0065b5eb",
   "metadata": {},
   "outputs": [
    {
     "data": {
      "text/plain": [
       "KMeans(n_clusters=10)"
      ]
     },
     "execution_count": 38,
     "metadata": {},
     "output_type": "execute_result"
    }
   ],
   "source": [
    "km.fit(x_tv)"
   ]
  },
  {
   "cell_type": "code",
   "execution_count": 39,
   "id": "bef57a28-be8a-4ef5-8743-7bbc77fc67b3",
   "metadata": {},
   "outputs": [
    {
     "data": {
      "text/plain": [
       "array([6, 0, 6, ..., 0, 0, 0])"
      ]
     },
     "execution_count": 39,
     "metadata": {},
     "output_type": "execute_result"
    }
   ],
   "source": [
    "km.labels_"
   ]
  },
  {
   "cell_type": "code",
   "execution_count": 40,
   "id": "db6e8973-3f53-4844-9e94-d60912a95fef",
   "metadata": {},
   "outputs": [],
   "source": [
    "jobs[\"labels\"]=km.labels_"
   ]
  },
  {
   "cell_type": "code",
   "execution_count": 41,
   "id": "012c822c-7e9a-4162-ba35-9be7ffcd9a89",
   "metadata": {},
   "outputs": [
    {
     "data": {
      "text/html": [
       "<div>\n",
       "<style scoped>\n",
       "    .dataframe tbody tr th:only-of-type {\n",
       "        vertical-align: middle;\n",
       "    }\n",
       "\n",
       "    .dataframe tbody tr th {\n",
       "        vertical-align: top;\n",
       "    }\n",
       "\n",
       "    .dataframe thead th {\n",
       "        text-align: right;\n",
       "    }\n",
       "</style>\n",
       "<table border=\"1\" class=\"dataframe\">\n",
       "  <thead>\n",
       "    <tr style=\"text-align: right;\">\n",
       "      <th></th>\n",
       "      <th>emp_title</th>\n",
       "      <th>labels</th>\n",
       "    </tr>\n",
       "  </thead>\n",
       "  <tbody>\n",
       "    <tr>\n",
       "      <th>0</th>\n",
       "      <td>other</td>\n",
       "      <td>6</td>\n",
       "    </tr>\n",
       "    <tr>\n",
       "      <th>1</th>\n",
       "      <td>ryder</td>\n",
       "      <td>0</td>\n",
       "    </tr>\n",
       "    <tr>\n",
       "      <th>2</th>\n",
       "      <td>other</td>\n",
       "      <td>6</td>\n",
       "    </tr>\n",
       "    <tr>\n",
       "      <th>3</th>\n",
       "      <td>air resources board</td>\n",
       "      <td>0</td>\n",
       "    </tr>\n",
       "    <tr>\n",
       "      <th>4</th>\n",
       "      <td>university medical group</td>\n",
       "      <td>0</td>\n",
       "    </tr>\n",
       "  </tbody>\n",
       "</table>\n",
       "</div>"
      ],
      "text/plain": [
       "                  emp_title  labels\n",
       "0                     other       6\n",
       "1                     ryder       0\n",
       "2                     other       6\n",
       "3       air resources board       0\n",
       "4  university medical group       0"
      ]
     },
     "execution_count": 41,
     "metadata": {},
     "output_type": "execute_result"
    }
   ],
   "source": [
    "jobs.head()"
   ]
  },
  {
   "cell_type": "code",
   "execution_count": 42,
   "id": "29df186e-9cdc-483b-8d9e-df9814d79b9d",
   "metadata": {},
   "outputs": [
    {
     "data": {
      "text/plain": [
       "0    620801\n",
       "7     85799\n",
       "6     51464\n",
       "2     26904\n",
       "8     23832\n",
       "4     22681\n",
       "3     18728\n",
       "1     18170\n",
       "9     14393\n",
       "5      4607\n",
       "Name: labels, dtype: int64"
      ]
     },
     "execution_count": 42,
     "metadata": {},
     "output_type": "execute_result"
    }
   ],
   "source": [
    "jobs.labels.value_counts()"
   ]
  },
  {
   "cell_type": "code",
   "execution_count": 50,
   "id": "edd2f85b-169f-476d-8070-8b19512310ce",
   "metadata": {},
   "outputs": [
    {
     "name": "stdout",
     "output_type": "stream",
     "text": [
      "owner               8586\n",
      "registered nurse    7721\n",
      "rn                  6017\n",
      "engineer            3186\n",
      "president           3094\n",
      "Name: emp_title, dtype: int64 0\n",
      "teacher              16619\n",
      "teacher                384\n",
      "teacher/coach          310\n",
      "teacher assistant      112\n",
      "lead teacher           109\n",
      "Name: emp_title, dtype: int64 1\n",
      "director                  3427\n",
      "executive director        1040\n",
      "director of operations     957\n",
      "managing director          488\n",
      "director of sales          407\n",
      "Name: emp_title, dtype: int64 2\n",
      "supervisor                6937\n",
      "supervisor                 560\n",
      "production supervisor      422\n",
      "maintenance supervisor     421\n",
      "operations supervisor      342\n",
      "Name: emp_title, dtype: int64 3\n",
      "sales                   6208\n",
      "sales manager           2713\n",
      "sales associate          886\n",
      "sales rep                716\n",
      "sales representative     595\n",
      "Name: emp_title, dtype: int64 4\n",
      "district manager                       936\n",
      "district sales manager                 191\n",
      "los angeles unified school district     74\n",
      "district manager                        66\n",
      "clark county school district            59\n",
      "Name: emp_title, dtype: int64 5\n",
      "other    51464\n",
      "Name: emp_title, dtype: int64 6\n",
      "manager               14963\n",
      "office manager         4687\n",
      "project manager        4625\n",
      "general manager        4256\n",
      "operations manager     2591\n",
      "Name: emp_title, dtype: int64 7\n",
      "administrative assistant    2307\n",
      "assistant manager           1830\n",
      "executive assistant         1742\n",
      "legal assistant              915\n",
      "medical assistant            805\n",
      "Name: emp_title, dtype: int64 8\n",
      "driver             6215\n",
      "truck driver       3566\n",
      "bus driver          614\n",
      "delivery driver     359\n",
      "truck driver        228\n",
      "Name: emp_title, dtype: int64 9\n"
     ]
    }
   ],
   "source": [
    "for i in range(10):\n",
    "    print (jobs[jobs.labels==i].emp_title.value_counts().head(),i)"
   ]
  },
  {
   "cell_type": "code",
   "execution_count": 44,
   "id": "13b72728-13bd-442e-8b6e-b0655a273157",
   "metadata": {},
   "outputs": [
    {
     "data": {
      "text/plain": [
       "manager                         14963\n",
       "office manager                   4687\n",
       "project manager                  4625\n",
       "general manager                  4256\n",
       "operations manager               2591\n",
       "                                ...  \n",
       "sr. manager, mfg                    1\n",
       "engineer/project manager            1\n",
       "credit dept manager                 1\n",
       "sr. store operations manager        1\n",
       "general manager/                    1\n",
       "Name: emp_title, Length: 7751, dtype: int64"
      ]
     },
     "execution_count": 44,
     "metadata": {},
     "output_type": "execute_result"
    }
   ],
   "source": [
    "jobs[jobs.labels==7].emp_title.value_counts().head()"
   ]
  },
  {
   "cell_type": "code",
   "execution_count": 45,
   "id": "40956986-e28a-470d-a5a4-f71db06a8464",
   "metadata": {},
   "outputs": [
    {
     "data": {
      "text/plain": [
       "owner                              8586\n",
       "registered nurse                   7721\n",
       "rn                                 6017\n",
       "engineer                           3186\n",
       "president                          3094\n",
       "                                   ... \n",
       "justice                               1\n",
       "topguy international trading          1\n",
       "jakes steakhouse                      1\n",
       "hill hospital                         1\n",
       "manager hotel operations oasis        1\n",
       "Name: emp_title, Length: 231956, dtype: int64"
      ]
     },
     "execution_count": 45,
     "metadata": {},
     "output_type": "execute_result"
    }
   ],
   "source": [
    "jobs[jobs.labels==0].emp_title.value_counts()"
   ]
  },
  {
   "cell_type": "code",
   "execution_count": null,
   "id": "415d2400-9cdd-426e-890e-0ed5ac25de40",
   "metadata": {},
   "outputs": [],
   "source": []
  },
  {
   "cell_type": "code",
   "execution_count": null,
   "id": "74e34e3a-60d8-43c5-b658-ec7be132efab",
   "metadata": {},
   "outputs": [],
   "source": []
  },
  {
   "cell_type": "code",
   "execution_count": null,
   "id": "30cafb4d-ab5e-4ed7-bf8b-4198513c25b7",
   "metadata": {},
   "outputs": [],
   "source": []
  }
 ],
 "metadata": {
  "kernelspec": {
   "display_name": "Python 3 (ipykernel)",
   "language": "python",
   "name": "python3"
  },
  "language_info": {
   "codemirror_mode": {
    "name": "ipython",
    "version": 3
   },
   "file_extension": ".py",
   "mimetype": "text/x-python",
   "name": "python",
   "nbconvert_exporter": "python",
   "pygments_lexer": "ipython3",
   "version": "3.9.7"
  }
 },
 "nbformat": 4,
 "nbformat_minor": 5
}
